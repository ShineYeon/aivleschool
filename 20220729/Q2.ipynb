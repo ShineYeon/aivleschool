{
 "cells": [
  {
   "cell_type": "code",
   "execution_count": 1,
   "id": "68704734",
   "metadata": {},
   "outputs": [
    {
     "name": "stdout",
     "output_type": "stream",
     "text": [
      "14\n"
     ]
    }
   ],
   "source": [
    "# Q2 Answer template\n",
    "\n",
    "def solution(numbers):\n",
    "    answer = 0\n",
    "    tmp = [False for i in range(0, 10)]\n",
    "    \n",
    "    for i in numbers:\n",
    "        flag = False\n",
    "        for j in range(0, 10):\n",
    "            if i==j:\n",
    "                flag=True\n",
    "                break\n",
    "        if(flag==True): \n",
    "            tmp[i] = True\n",
    "            \n",
    "    for i, n in enumerate(tmp):\n",
    "        if n == False:\n",
    "            answer+=i\n",
    "    return answer\n",
    "\n",
    "numbers = [1,2,3,4,6,7,8,0]\n",
    "answer = solution(numbers)\n",
    "print(answer)"
   ]
  },
  {
   "cell_type": "code",
   "execution_count": null,
   "id": "44b32ccd",
   "metadata": {},
   "outputs": [],
   "source": []
  }
 ],
 "metadata": {
  "kernelspec": {
   "display_name": "Python 3",
   "language": "python",
   "name": "python3"
  },
  "language_info": {
   "codemirror_mode": {
    "name": "ipython",
    "version": 3
   },
   "file_extension": ".py",
   "mimetype": "text/x-python",
   "name": "python",
   "nbconvert_exporter": "python",
   "pygments_lexer": "ipython3",
   "version": "3.8.8"
  }
 },
 "nbformat": 4,
 "nbformat_minor": 5
}
