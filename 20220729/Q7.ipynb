{
 "cells": [
  {
   "cell_type": "code",
   "execution_count": 1,
   "id": "224015a6",
   "metadata": {},
   "outputs": [
    {
     "name": "stdout",
     "output_type": "stream",
     "text": [
      "[1, 3, 0, 1]\n"
     ]
    }
   ],
   "source": [
    "# Q7 Answer Template\n",
    "\n",
    "def solution(arr):\n",
    "    answer = []\n",
    "    cnt=1\n",
    "    answer.append(arr[0])\n",
    "    for i in range(1, len(arr)):\n",
    "        if arr[i] == arr[i-1]:\n",
    "            cnt+=1\n",
    "        else:\n",
    "            if cnt>=2:\n",
    "                answer.append(arr[i])\n",
    "            else:\n",
    "                answer.append(arr[i])\n",
    "            \n",
    "                \n",
    "\n",
    "    return answer\n",
    "\n",
    "arr = [1,1,3,3,0,1,1]\n",
    "#arr = [4,4,4,3,3]\n",
    "answer = solution(arr)\n",
    "print(answer)"
   ]
  },
  {
   "cell_type": "code",
   "execution_count": null,
   "id": "ed3a84c2",
   "metadata": {},
   "outputs": [],
   "source": []
  }
 ],
 "metadata": {
  "kernelspec": {
   "display_name": "Python 3",
   "language": "python",
   "name": "python3"
  },
  "language_info": {
   "codemirror_mode": {
    "name": "ipython",
    "version": 3
   },
   "file_extension": ".py",
   "mimetype": "text/x-python",
   "name": "python",
   "nbconvert_exporter": "python",
   "pygments_lexer": "ipython3",
   "version": "3.8.8"
  }
 },
 "nbformat": 4,
 "nbformat_minor": 5
}
