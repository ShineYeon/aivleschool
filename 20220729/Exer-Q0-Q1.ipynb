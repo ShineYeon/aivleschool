{
 "cells": [
  {
   "cell_type": "code",
   "execution_count": 1,
   "id": "89fa5bf0",
   "metadata": {},
   "outputs": [
    {
     "name": "stdout",
     "output_type": "stream",
     "text": [
      "10 5\n",
      "1 10 4 9 2 3 8 5 7 6\n",
      "1 4 2 3 "
     ]
    }
   ],
   "source": [
    "# Q0 Answer template\n",
    "\n",
    "N, X = map(int, input().split())  # N, X 를 입력받음\n",
    "\n",
    "data = list(map(int, input().split())) # 리스트를 입력받음\n",
    "\n",
    "answer = []\n",
    "for i in data:\n",
    "    if i<X:\n",
    "        answer.append(i)\n",
    "for i in answer:\n",
    "    print(i, end=' ')"
   ]
  },
  {
   "cell_type": "code",
   "execution_count": 2,
   "id": "2f40e975",
   "metadata": {},
   "outputs": [
    {
     "name": "stdout",
     "output_type": "stream",
     "text": [
      "[3, 5]\n"
     ]
    }
   ],
   "source": [
    "# Q1 Answer template\n",
    "\n",
    "def solution(lottos, win_nums):\n",
    "    result = [0, 6, 5, 4, 3, 2, 1]\n",
    "    answer = []\n",
    "    count = 0\n",
    "    zeroCount = 0\n",
    "    for i in lottos:\n",
    "        if i==0:\n",
    "            zeroCount+=1\n",
    "        if i!=0:\n",
    "            for j in win_nums:\n",
    "                if i==j:\n",
    "                    count+=1\n",
    "                    break\n",
    "            \n",
    "    first = count+zeroCount\n",
    "    second = count\n",
    "    if first<=1:\n",
    "        answer.append(result[1])\n",
    "    else:\n",
    "        answer.append(result[first])\n",
    "    if second<=1:\n",
    "        answer.append(result[1])\n",
    "    else:\n",
    "        answer.append(result[second])\n",
    "    return answer\n",
    "\n",
    "lottos = [44, 1, 0, 0, 31, 25]\n",
    "win_nums = [31, 10, 45, 1, 6, 19]\n",
    "answer = solution(lottos, win_nums)\n",
    "print(answer)"
   ]
  },
  {
   "cell_type": "code",
   "execution_count": null,
   "id": "847dbedc",
   "metadata": {},
   "outputs": [],
   "source": []
  }
 ],
 "metadata": {
  "kernelspec": {
   "display_name": "Python 3",
   "language": "python",
   "name": "python3"
  },
  "language_info": {
   "codemirror_mode": {
    "name": "ipython",
    "version": 3
   },
   "file_extension": ".py",
   "mimetype": "text/x-python",
   "name": "python",
   "nbconvert_exporter": "python",
   "pygments_lexer": "ipython3",
   "version": "3.8.8"
  }
 },
 "nbformat": 4,
 "nbformat_minor": 5
}
