{
 "cells": [
  {
   "cell_type": "code",
   "execution_count": 4,
   "id": "2d6909da",
   "metadata": {},
   "outputs": [
    {
     "name": "stdout",
     "output_type": "stream",
     "text": [
      "1\n",
      "g\n",
      "AAC\n"
     ]
    }
   ],
   "source": [
    "def min_of(a):\n",
    "    ans = a[0]\n",
    "    for i in range(1, len(a)):\n",
    "        if ans>a[i]:\n",
    "            ans = a[i]\n",
    "    print(f'{ans}')\n",
    "\n",
    "t = (4, 7, 5.6, 2, 3.14, 1)\n",
    "s = 'string'\n",
    "a = ['DTS', 'AAC', 'FLAC']\n",
    "min_of(t)\n",
    "min_of(s)\n",
    "min_of(a)"
   ]
  },
  {
   "cell_type": "code",
   "execution_count": null,
   "id": "8891fb61",
   "metadata": {},
   "outputs": [],
   "source": []
  }
 ],
 "metadata": {
  "kernelspec": {
   "display_name": "Python 3",
   "language": "python",
   "name": "python3"
  },
  "language_info": {
   "codemirror_mode": {
    "name": "ipython",
    "version": 3
   },
   "file_extension": ".py",
   "mimetype": "text/x-python",
   "name": "python",
   "nbconvert_exporter": "python",
   "pygments_lexer": "ipython3",
   "version": "3.8.8"
  }
 },
 "nbformat": 4,
 "nbformat_minor": 5
}
