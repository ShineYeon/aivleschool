{
 "cells": [
  {
   "cell_type": "code",
   "execution_count": 1,
   "id": "b3b2bc7c",
   "metadata": {},
   "outputs": [
    {
     "name": "stdout",
     "output_type": "stream",
     "text": [
      "['yes', 'no', 'yes']\n"
     ]
    }
   ],
   "source": [
    "# Q3 answer template\n",
    "\n",
    "def solution(store, customer):\n",
    "    answer = []\n",
    "    for i in customer:\n",
    "        if store.count(i) > 0:\n",
    "            answer.append('yes')\n",
    "        else:\n",
    "            answer.append('no')\n",
    "    return answer\n",
    "\n",
    "store = [2,3,7,8,9]\n",
    "customer = [7,5,9]\n",
    "answer = solution(store, customer)\n",
    "print(answer)"
   ]
  },
  {
   "cell_type": "code",
   "execution_count": null,
   "id": "2059613e",
   "metadata": {},
   "outputs": [],
   "source": []
  }
 ],
 "metadata": {
  "kernelspec": {
   "display_name": "Python 3",
   "language": "python",
   "name": "python3"
  },
  "language_info": {
   "codemirror_mode": {
    "name": "ipython",
    "version": 3
   },
   "file_extension": ".py",
   "mimetype": "text/x-python",
   "name": "python",
   "nbconvert_exporter": "python",
   "pygments_lexer": "ipython3",
   "version": "3.8.8"
  }
 },
 "nbformat": 4,
 "nbformat_minor": 5
}
