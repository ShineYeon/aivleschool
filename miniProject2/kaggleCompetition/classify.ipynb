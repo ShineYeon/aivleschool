{
 "cells": [
  {
   "cell_type": "code",
   "execution_count": 307,
   "id": "93093a0a",
   "metadata": {},
   "outputs": [],
   "source": [
    "#라이브러리들을 불러오자.\n",
    "import numpy as np\n",
    "import pandas as pd\n",
    "import matplotlib.pyplot as plt\n",
    "import seaborn as sns\n",
    "\n",
    "from sklearn.model_selection import train_test_split\n",
    "from sklearn.datasets import make_moons, make_classification #data를 생성하는 함수\n",
    "\n",
    "from sklearn.svm import SVC, SVR #Support Vector Classifier, Support Vector Regression\n",
    "from xgboost import XGBClassifier, plot_tree\n",
    "\n",
    "import warnings    # 경고메시지 제외\n",
    "warnings.filterwarnings(action='ignore')\n",
    "\n",
    "import statsmodels.api as sm"
   ]
  },
  {
   "cell_type": "code",
   "execution_count": 465,
   "id": "934d4656",
   "metadata": {},
   "outputs": [],
   "source": [
    "df = pd.read_csv('train_dataset.csv')"
   ]
  },
  {
   "cell_type": "code",
   "execution_count": 350,
   "id": "b47f389c",
   "metadata": {},
   "outputs": [
    {
     "data": {
      "text/html": [
       "<div>\n",
       "<style scoped>\n",
       "    .dataframe tbody tr th:only-of-type {\n",
       "        vertical-align: middle;\n",
       "    }\n",
       "\n",
       "    .dataframe tbody tr th {\n",
       "        vertical-align: top;\n",
       "    }\n",
       "\n",
       "    .dataframe thead th {\n",
       "        text-align: right;\n",
       "    }\n",
       "</style>\n",
       "<table border=\"1\" class=\"dataframe\">\n",
       "  <thead>\n",
       "    <tr style=\"text-align: right;\">\n",
       "      <th></th>\n",
       "      <th>Unnamed: 0</th>\n",
       "      <th>url_len</th>\n",
       "      <th>url_num_hyphens_dom</th>\n",
       "      <th>url_path_len</th>\n",
       "      <th>url_domain_len</th>\n",
       "      <th>url_hostname_len</th>\n",
       "      <th>url_num_dots</th>\n",
       "      <th>url_num_underscores</th>\n",
       "      <th>url_query_len</th>\n",
       "      <th>url_num_query_para</th>\n",
       "      <th>...</th>\n",
       "      <th>html_num_tags('script')</th>\n",
       "      <th>html_num_tags('embed')</th>\n",
       "      <th>html_num_tags('object')</th>\n",
       "      <th>html_num_tags('div')</th>\n",
       "      <th>html_num_tags('head')</th>\n",
       "      <th>html_num_tags('body')</th>\n",
       "      <th>html_num_tags('form')</th>\n",
       "      <th>html_num_tags('a')</th>\n",
       "      <th>html_num_tags('applet')</th>\n",
       "      <th>Result_v1</th>\n",
       "    </tr>\n",
       "  </thead>\n",
       "  <tbody>\n",
       "    <tr>\n",
       "      <th>0</th>\n",
       "      <td>0</td>\n",
       "      <td>23.0</td>\n",
       "      <td>0.0</td>\n",
       "      <td>8.0</td>\n",
       "      <td>15.0</td>\n",
       "      <td>15.0</td>\n",
       "      <td>2.0</td>\n",
       "      <td>0.0</td>\n",
       "      <td>0.0</td>\n",
       "      <td>0.0</td>\n",
       "      <td>...</td>\n",
       "      <td>7.0</td>\n",
       "      <td>0.0</td>\n",
       "      <td>0.0</td>\n",
       "      <td>0.0</td>\n",
       "      <td>1.0</td>\n",
       "      <td>1.0</td>\n",
       "      <td>0.0</td>\n",
       "      <td>0.0</td>\n",
       "      <td>0.0</td>\n",
       "      <td>malicious</td>\n",
       "    </tr>\n",
       "    <tr>\n",
       "      <th>1</th>\n",
       "      <td>1</td>\n",
       "      <td>75.0</td>\n",
       "      <td>0.0</td>\n",
       "      <td>58.0</td>\n",
       "      <td>17.0</td>\n",
       "      <td>17.0</td>\n",
       "      <td>6.0</td>\n",
       "      <td>0.0</td>\n",
       "      <td>0.0</td>\n",
       "      <td>0.0</td>\n",
       "      <td>...</td>\n",
       "      <td>18.0</td>\n",
       "      <td>0.0</td>\n",
       "      <td>0.0</td>\n",
       "      <td>20.0</td>\n",
       "      <td>1.0</td>\n",
       "      <td>1.0</td>\n",
       "      <td>0.0</td>\n",
       "      <td>21.0</td>\n",
       "      <td>0.0</td>\n",
       "      <td>benign</td>\n",
       "    </tr>\n",
       "    <tr>\n",
       "      <th>2</th>\n",
       "      <td>2</td>\n",
       "      <td>20.0</td>\n",
       "      <td>0.0</td>\n",
       "      <td>4.0</td>\n",
       "      <td>16.0</td>\n",
       "      <td>16.0</td>\n",
       "      <td>2.0</td>\n",
       "      <td>0.0</td>\n",
       "      <td>0.0</td>\n",
       "      <td>0.0</td>\n",
       "      <td>...</td>\n",
       "      <td>33.0</td>\n",
       "      <td>0.0</td>\n",
       "      <td>0.0</td>\n",
       "      <td>101.0</td>\n",
       "      <td>1.0</td>\n",
       "      <td>1.0</td>\n",
       "      <td>3.0</td>\n",
       "      <td>70.0</td>\n",
       "      <td>0.0</td>\n",
       "      <td>benign</td>\n",
       "    </tr>\n",
       "    <tr>\n",
       "      <th>3</th>\n",
       "      <td>3</td>\n",
       "      <td>27.0</td>\n",
       "      <td>0.0</td>\n",
       "      <td>13.0</td>\n",
       "      <td>14.0</td>\n",
       "      <td>14.0</td>\n",
       "      <td>3.0</td>\n",
       "      <td>0.0</td>\n",
       "      <td>0.0</td>\n",
       "      <td>0.0</td>\n",
       "      <td>...</td>\n",
       "      <td>15.0</td>\n",
       "      <td>0.0</td>\n",
       "      <td>0.0</td>\n",
       "      <td>151.0</td>\n",
       "      <td>1.0</td>\n",
       "      <td>1.0</td>\n",
       "      <td>1.0</td>\n",
       "      <td>55.0</td>\n",
       "      <td>0.0</td>\n",
       "      <td>benign</td>\n",
       "    </tr>\n",
       "    <tr>\n",
       "      <th>4</th>\n",
       "      <td>4</td>\n",
       "      <td>39.0</td>\n",
       "      <td>2.0</td>\n",
       "      <td>12.0</td>\n",
       "      <td>27.0</td>\n",
       "      <td>27.0</td>\n",
       "      <td>2.0</td>\n",
       "      <td>0.0</td>\n",
       "      <td>0.0</td>\n",
       "      <td>0.0</td>\n",
       "      <td>...</td>\n",
       "      <td>10.0</td>\n",
       "      <td>0.0</td>\n",
       "      <td>0.0</td>\n",
       "      <td>332.0</td>\n",
       "      <td>1.0</td>\n",
       "      <td>1.0</td>\n",
       "      <td>0.0</td>\n",
       "      <td>321.0</td>\n",
       "      <td>0.0</td>\n",
       "      <td>benign</td>\n",
       "    </tr>\n",
       "  </tbody>\n",
       "</table>\n",
       "<p>5 rows × 25 columns</p>\n",
       "</div>"
      ],
      "text/plain": [
       "   Unnamed: 0  url_len  url_num_hyphens_dom  url_path_len  url_domain_len  \\\n",
       "0           0     23.0                  0.0           8.0            15.0   \n",
       "1           1     75.0                  0.0          58.0            17.0   \n",
       "2           2     20.0                  0.0           4.0            16.0   \n",
       "3           3     27.0                  0.0          13.0            14.0   \n",
       "4           4     39.0                  2.0          12.0            27.0   \n",
       "\n",
       "   url_hostname_len  url_num_dots  url_num_underscores  url_query_len  \\\n",
       "0              15.0           2.0                  0.0            0.0   \n",
       "1              17.0           6.0                  0.0            0.0   \n",
       "2              16.0           2.0                  0.0            0.0   \n",
       "3              14.0           3.0                  0.0            0.0   \n",
       "4              27.0           2.0                  0.0            0.0   \n",
       "\n",
       "   url_num_query_para  ...  html_num_tags('script')  html_num_tags('embed')  \\\n",
       "0                 0.0  ...                      7.0                     0.0   \n",
       "1                 0.0  ...                     18.0                     0.0   \n",
       "2                 0.0  ...                     33.0                     0.0   \n",
       "3                 0.0  ...                     15.0                     0.0   \n",
       "4                 0.0  ...                     10.0                     0.0   \n",
       "\n",
       "   html_num_tags('object')  html_num_tags('div')  html_num_tags('head')  \\\n",
       "0                      0.0                   0.0                    1.0   \n",
       "1                      0.0                  20.0                    1.0   \n",
       "2                      0.0                 101.0                    1.0   \n",
       "3                      0.0                 151.0                    1.0   \n",
       "4                      0.0                 332.0                    1.0   \n",
       "\n",
       "   html_num_tags('body')  html_num_tags('form')  html_num_tags('a')  \\\n",
       "0                    1.0                    0.0                 0.0   \n",
       "1                    1.0                    0.0                21.0   \n",
       "2                    1.0                    3.0                70.0   \n",
       "3                    1.0                    1.0                55.0   \n",
       "4                    1.0                    0.0               321.0   \n",
       "\n",
       "   html_num_tags('applet')  Result_v1  \n",
       "0                      0.0  malicious  \n",
       "1                      0.0     benign  \n",
       "2                      0.0     benign  \n",
       "3                      0.0     benign  \n",
       "4                      0.0     benign  \n",
       "\n",
       "[5 rows x 25 columns]"
      ]
     },
     "execution_count": 350,
     "metadata": {},
     "output_type": "execute_result"
    }
   ],
   "source": [
    "df.head()"
   ]
  },
  {
   "cell_type": "code",
   "execution_count": 5,
   "id": "59413ad0",
   "metadata": {
    "scrolled": true
   },
   "outputs": [
    {
     "data": {
      "text/html": [
       "<div>\n",
       "<style scoped>\n",
       "    .dataframe tbody tr th:only-of-type {\n",
       "        vertical-align: middle;\n",
       "    }\n",
       "\n",
       "    .dataframe tbody tr th {\n",
       "        vertical-align: top;\n",
       "    }\n",
       "\n",
       "    .dataframe thead th {\n",
       "        text-align: right;\n",
       "    }\n",
       "</style>\n",
       "<table border=\"1\" class=\"dataframe\">\n",
       "  <thead>\n",
       "    <tr style=\"text-align: right;\">\n",
       "      <th></th>\n",
       "      <th>Unnamed: 0</th>\n",
       "      <th>url_len</th>\n",
       "      <th>url_num_hyphens_dom</th>\n",
       "      <th>url_path_len</th>\n",
       "      <th>url_domain_len</th>\n",
       "      <th>url_hostname_len</th>\n",
       "      <th>url_num_dots</th>\n",
       "      <th>url_num_underscores</th>\n",
       "      <th>url_query_len</th>\n",
       "      <th>url_num_query_para</th>\n",
       "      <th>...</th>\n",
       "      <th>html_num_tags('iframe')</th>\n",
       "      <th>html_num_tags('script')</th>\n",
       "      <th>html_num_tags('embed')</th>\n",
       "      <th>html_num_tags('object')</th>\n",
       "      <th>html_num_tags('div')</th>\n",
       "      <th>html_num_tags('head')</th>\n",
       "      <th>html_num_tags('body')</th>\n",
       "      <th>html_num_tags('form')</th>\n",
       "      <th>html_num_tags('a')</th>\n",
       "      <th>html_num_tags('applet')</th>\n",
       "    </tr>\n",
       "  </thead>\n",
       "  <tbody>\n",
       "    <tr>\n",
       "      <th>count</th>\n",
       "      <td>3664.000000</td>\n",
       "      <td>3664.000000</td>\n",
       "      <td>3664.000000</td>\n",
       "      <td>3663.000000</td>\n",
       "      <td>3663.000000</td>\n",
       "      <td>3664.000000</td>\n",
       "      <td>3664.000000</td>\n",
       "      <td>3664.000000</td>\n",
       "      <td>3664.000000</td>\n",
       "      <td>3664.000000</td>\n",
       "      <td>...</td>\n",
       "      <td>3664.000000</td>\n",
       "      <td>3664.000000</td>\n",
       "      <td>3664.000000</td>\n",
       "      <td>3664.000000</td>\n",
       "      <td>3664.000000</td>\n",
       "      <td>3664.000000</td>\n",
       "      <td>3664.000000</td>\n",
       "      <td>3664.000000</td>\n",
       "      <td>3664.000000</td>\n",
       "      <td>3664.0</td>\n",
       "    </tr>\n",
       "    <tr>\n",
       "      <th>mean</th>\n",
       "      <td>1831.500000</td>\n",
       "      <td>54.559225</td>\n",
       "      <td>0.412937</td>\n",
       "      <td>29.365820</td>\n",
       "      <td>20.383292</td>\n",
       "      <td>20.330513</td>\n",
       "      <td>2.516921</td>\n",
       "      <td>0.272653</td>\n",
       "      <td>4.707697</td>\n",
       "      <td>0.104258</td>\n",
       "      <td>...</td>\n",
       "      <td>0.220797</td>\n",
       "      <td>8.785480</td>\n",
       "      <td>0.018013</td>\n",
       "      <td>0.028930</td>\n",
       "      <td>70.843886</td>\n",
       "      <td>0.998090</td>\n",
       "      <td>1.016648</td>\n",
       "      <td>1.028930</td>\n",
       "      <td>66.182860</td>\n",
       "      <td>0.0</td>\n",
       "    </tr>\n",
       "    <tr>\n",
       "      <th>std</th>\n",
       "      <td>1057.850021</td>\n",
       "      <td>82.493265</td>\n",
       "      <td>0.847058</td>\n",
       "      <td>78.595248</td>\n",
       "      <td>9.597012</td>\n",
       "      <td>9.628093</td>\n",
       "      <td>1.534119</td>\n",
       "      <td>1.124592</td>\n",
       "      <td>25.318285</td>\n",
       "      <td>0.574310</td>\n",
       "      <td>...</td>\n",
       "      <td>0.898383</td>\n",
       "      <td>12.647356</td>\n",
       "      <td>0.144808</td>\n",
       "      <td>0.237682</td>\n",
       "      <td>365.593304</td>\n",
       "      <td>0.144974</td>\n",
       "      <td>0.225330</td>\n",
       "      <td>1.563903</td>\n",
       "      <td>342.651459</td>\n",
       "      <td>0.0</td>\n",
       "    </tr>\n",
       "    <tr>\n",
       "      <th>min</th>\n",
       "      <td>0.000000</td>\n",
       "      <td>6.000000</td>\n",
       "      <td>0.000000</td>\n",
       "      <td>0.000000</td>\n",
       "      <td>4.000000</td>\n",
       "      <td>4.000000</td>\n",
       "      <td>1.000000</td>\n",
       "      <td>0.000000</td>\n",
       "      <td>0.000000</td>\n",
       "      <td>0.000000</td>\n",
       "      <td>...</td>\n",
       "      <td>0.000000</td>\n",
       "      <td>0.000000</td>\n",
       "      <td>0.000000</td>\n",
       "      <td>0.000000</td>\n",
       "      <td>0.000000</td>\n",
       "      <td>0.000000</td>\n",
       "      <td>0.000000</td>\n",
       "      <td>0.000000</td>\n",
       "      <td>0.000000</td>\n",
       "      <td>0.0</td>\n",
       "    </tr>\n",
       "    <tr>\n",
       "      <th>25%</th>\n",
       "      <td>915.750000</td>\n",
       "      <td>24.000000</td>\n",
       "      <td>0.000000</td>\n",
       "      <td>1.000000</td>\n",
       "      <td>14.000000</td>\n",
       "      <td>14.000000</td>\n",
       "      <td>2.000000</td>\n",
       "      <td>0.000000</td>\n",
       "      <td>0.000000</td>\n",
       "      <td>0.000000</td>\n",
       "      <td>...</td>\n",
       "      <td>0.000000</td>\n",
       "      <td>2.000000</td>\n",
       "      <td>0.000000</td>\n",
       "      <td>0.000000</td>\n",
       "      <td>6.000000</td>\n",
       "      <td>1.000000</td>\n",
       "      <td>1.000000</td>\n",
       "      <td>0.000000</td>\n",
       "      <td>2.000000</td>\n",
       "      <td>0.0</td>\n",
       "    </tr>\n",
       "    <tr>\n",
       "      <th>50%</th>\n",
       "      <td>1831.500000</td>\n",
       "      <td>36.000000</td>\n",
       "      <td>0.000000</td>\n",
       "      <td>13.000000</td>\n",
       "      <td>17.000000</td>\n",
       "      <td>17.000000</td>\n",
       "      <td>2.000000</td>\n",
       "      <td>0.000000</td>\n",
       "      <td>0.000000</td>\n",
       "      <td>0.000000</td>\n",
       "      <td>...</td>\n",
       "      <td>0.000000</td>\n",
       "      <td>4.000000</td>\n",
       "      <td>0.000000</td>\n",
       "      <td>0.000000</td>\n",
       "      <td>33.000000</td>\n",
       "      <td>1.000000</td>\n",
       "      <td>1.000000</td>\n",
       "      <td>1.000000</td>\n",
       "      <td>16.000000</td>\n",
       "      <td>0.0</td>\n",
       "    </tr>\n",
       "    <tr>\n",
       "      <th>75%</th>\n",
       "      <td>2747.250000</td>\n",
       "      <td>55.000000</td>\n",
       "      <td>1.000000</td>\n",
       "      <td>31.000000</td>\n",
       "      <td>24.000000</td>\n",
       "      <td>24.000000</td>\n",
       "      <td>3.000000</td>\n",
       "      <td>0.000000</td>\n",
       "      <td>0.000000</td>\n",
       "      <td>0.000000</td>\n",
       "      <td>...</td>\n",
       "      <td>0.000000</td>\n",
       "      <td>12.000000</td>\n",
       "      <td>0.000000</td>\n",
       "      <td>0.000000</td>\n",
       "      <td>62.000000</td>\n",
       "      <td>1.000000</td>\n",
       "      <td>1.000000</td>\n",
       "      <td>1.000000</td>\n",
       "      <td>52.000000</td>\n",
       "      <td>0.0</td>\n",
       "    </tr>\n",
       "    <tr>\n",
       "      <th>max</th>\n",
       "      <td>3663.000000</td>\n",
       "      <td>1837.000000</td>\n",
       "      <td>14.000000</td>\n",
       "      <td>1816.000000</td>\n",
       "      <td>109.000000</td>\n",
       "      <td>109.000000</td>\n",
       "      <td>32.000000</td>\n",
       "      <td>18.000000</td>\n",
       "      <td>429.000000</td>\n",
       "      <td>9.000000</td>\n",
       "      <td>...</td>\n",
       "      <td>26.000000</td>\n",
       "      <td>267.000000</td>\n",
       "      <td>3.000000</td>\n",
       "      <td>8.000000</td>\n",
       "      <td>19941.000000</td>\n",
       "      <td>3.000000</td>\n",
       "      <td>3.000000</td>\n",
       "      <td>57.000000</td>\n",
       "      <td>13451.000000</td>\n",
       "      <td>0.0</td>\n",
       "    </tr>\n",
       "  </tbody>\n",
       "</table>\n",
       "<p>8 rows × 24 columns</p>\n",
       "</div>"
      ],
      "text/plain": [
       "        Unnamed: 0      url_len  url_num_hyphens_dom  url_path_len  \\\n",
       "count  3664.000000  3664.000000          3664.000000   3663.000000   \n",
       "mean   1831.500000    54.559225             0.412937     29.365820   \n",
       "std    1057.850021    82.493265             0.847058     78.595248   \n",
       "min       0.000000     6.000000             0.000000      0.000000   \n",
       "25%     915.750000    24.000000             0.000000      1.000000   \n",
       "50%    1831.500000    36.000000             0.000000     13.000000   \n",
       "75%    2747.250000    55.000000             1.000000     31.000000   \n",
       "max    3663.000000  1837.000000            14.000000   1816.000000   \n",
       "\n",
       "       url_domain_len  url_hostname_len  url_num_dots  url_num_underscores  \\\n",
       "count     3663.000000       3664.000000   3664.000000          3664.000000   \n",
       "mean        20.383292         20.330513      2.516921             0.272653   \n",
       "std          9.597012          9.628093      1.534119             1.124592   \n",
       "min          4.000000          4.000000      1.000000             0.000000   \n",
       "25%         14.000000         14.000000      2.000000             0.000000   \n",
       "50%         17.000000         17.000000      2.000000             0.000000   \n",
       "75%         24.000000         24.000000      3.000000             0.000000   \n",
       "max        109.000000        109.000000     32.000000            18.000000   \n",
       "\n",
       "       url_query_len  url_num_query_para  ...  html_num_tags('iframe')  \\\n",
       "count    3664.000000         3664.000000  ...              3664.000000   \n",
       "mean        4.707697            0.104258  ...                 0.220797   \n",
       "std        25.318285            0.574310  ...                 0.898383   \n",
       "min         0.000000            0.000000  ...                 0.000000   \n",
       "25%         0.000000            0.000000  ...                 0.000000   \n",
       "50%         0.000000            0.000000  ...                 0.000000   \n",
       "75%         0.000000            0.000000  ...                 0.000000   \n",
       "max       429.000000            9.000000  ...                26.000000   \n",
       "\n",
       "       html_num_tags('script')  html_num_tags('embed')  \\\n",
       "count              3664.000000             3664.000000   \n",
       "mean                  8.785480                0.018013   \n",
       "std                  12.647356                0.144808   \n",
       "min                   0.000000                0.000000   \n",
       "25%                   2.000000                0.000000   \n",
       "50%                   4.000000                0.000000   \n",
       "75%                  12.000000                0.000000   \n",
       "max                 267.000000                3.000000   \n",
       "\n",
       "       html_num_tags('object')  html_num_tags('div')  html_num_tags('head')  \\\n",
       "count              3664.000000           3664.000000            3664.000000   \n",
       "mean                  0.028930             70.843886               0.998090   \n",
       "std                   0.237682            365.593304               0.144974   \n",
       "min                   0.000000              0.000000               0.000000   \n",
       "25%                   0.000000              6.000000               1.000000   \n",
       "50%                   0.000000             33.000000               1.000000   \n",
       "75%                   0.000000             62.000000               1.000000   \n",
       "max                   8.000000          19941.000000               3.000000   \n",
       "\n",
       "       html_num_tags('body')  html_num_tags('form')  html_num_tags('a')  \\\n",
       "count            3664.000000            3664.000000         3664.000000   \n",
       "mean                1.016648               1.028930           66.182860   \n",
       "std                 0.225330               1.563903          342.651459   \n",
       "min                 0.000000               0.000000            0.000000   \n",
       "25%                 1.000000               0.000000            2.000000   \n",
       "50%                 1.000000               1.000000           16.000000   \n",
       "75%                 1.000000               1.000000           52.000000   \n",
       "max                 3.000000              57.000000        13451.000000   \n",
       "\n",
       "       html_num_tags('applet')  \n",
       "count                   3664.0  \n",
       "mean                       0.0  \n",
       "std                        0.0  \n",
       "min                        0.0  \n",
       "25%                        0.0  \n",
       "50%                        0.0  \n",
       "75%                        0.0  \n",
       "max                        0.0  \n",
       "\n",
       "[8 rows x 24 columns]"
      ]
     },
     "execution_count": 5,
     "metadata": {},
     "output_type": "execute_result"
    }
   ],
   "source": [
    "df.describe()"
   ]
  },
  {
   "cell_type": "code",
   "execution_count": 6,
   "id": "764d7be4",
   "metadata": {},
   "outputs": [
    {
     "name": "stdout",
     "output_type": "stream",
     "text": [
      "<class 'pandas.core.frame.DataFrame'>\n",
      "RangeIndex: 3664 entries, 0 to 3663\n",
      "Data columns (total 25 columns):\n",
      " #   Column                   Non-Null Count  Dtype  \n",
      "---  ------                   --------------  -----  \n",
      " 0   Unnamed: 0               3664 non-null   int64  \n",
      " 1   url_len                  3664 non-null   float64\n",
      " 2   url_num_hyphens_dom      3664 non-null   float64\n",
      " 3   url_path_len             3663 non-null   float64\n",
      " 4   url_domain_len           3663 non-null   float64\n",
      " 5   url_hostname_len         3664 non-null   float64\n",
      " 6   url_num_dots             3664 non-null   float64\n",
      " 7   url_num_underscores      3664 non-null   float64\n",
      " 8   url_query_len            3664 non-null   float64\n",
      " 9   url_num_query_para       3664 non-null   float64\n",
      " 10  url_ip_present           3664 non-null   float64\n",
      " 11  url_entropy              3664 non-null   float64\n",
      " 12  url_chinese_present      3664 non-null   float64\n",
      " 13  url_port                 3664 non-null   float64\n",
      " 14  html_num_tags('iframe')  3664 non-null   float64\n",
      " 15  html_num_tags('script')  3664 non-null   float64\n",
      " 16  html_num_tags('embed')   3664 non-null   float64\n",
      " 17  html_num_tags('object')  3664 non-null   float64\n",
      " 18  html_num_tags('div')     3664 non-null   float64\n",
      " 19  html_num_tags('head')    3664 non-null   float64\n",
      " 20  html_num_tags('body')    3664 non-null   float64\n",
      " 21  html_num_tags('form')    3664 non-null   float64\n",
      " 22  html_num_tags('a')       3664 non-null   float64\n",
      " 23  html_num_tags('applet')  3664 non-null   float64\n",
      " 24  Result_v1                3664 non-null   object \n",
      "dtypes: float64(23), int64(1), object(1)\n",
      "memory usage: 715.8+ KB\n"
     ]
    }
   ],
   "source": [
    "df.info()"
   ]
  },
  {
   "cell_type": "code",
   "execution_count": 7,
   "id": "aae51cef",
   "metadata": {},
   "outputs": [
    {
     "data": {
      "text/plain": [
       "Unnamed: 0                 0\n",
       "url_len                    0\n",
       "url_num_hyphens_dom        0\n",
       "url_path_len               1\n",
       "url_domain_len             1\n",
       "url_hostname_len           0\n",
       "url_num_dots               0\n",
       "url_num_underscores        0\n",
       "url_query_len              0\n",
       "url_num_query_para         0\n",
       "url_ip_present             0\n",
       "url_entropy                0\n",
       "url_chinese_present        0\n",
       "url_port                   0\n",
       "html_num_tags('iframe')    0\n",
       "html_num_tags('script')    0\n",
       "html_num_tags('embed')     0\n",
       "html_num_tags('object')    0\n",
       "html_num_tags('div')       0\n",
       "html_num_tags('head')      0\n",
       "html_num_tags('body')      0\n",
       "html_num_tags('form')      0\n",
       "html_num_tags('a')         0\n",
       "html_num_tags('applet')    0\n",
       "Result_v1                  0\n",
       "dtype: int64"
      ]
     },
     "execution_count": 7,
     "metadata": {},
     "output_type": "execute_result"
    }
   ],
   "source": [
    "df.isna().sum()"
   ]
  },
  {
   "cell_type": "code",
   "execution_count": 476,
   "id": "a10e5b29",
   "metadata": {},
   "outputs": [],
   "source": [
    "df.fillna(method='ffill', inplace=True)"
   ]
  },
  {
   "cell_type": "code",
   "execution_count": 477,
   "id": "0da4f582",
   "metadata": {},
   "outputs": [
    {
     "data": {
      "text/plain": [
       "url_len                    0\n",
       "url_num_hyphens_dom        0\n",
       "url_path_len               0\n",
       "url_domain_len             0\n",
       "url_hostname_len           0\n",
       "url_num_dots               0\n",
       "url_num_underscores        0\n",
       "url_query_len              0\n",
       "url_num_query_para         0\n",
       "url_ip_present             0\n",
       "url_entropy                0\n",
       "url_chinese_present        0\n",
       "url_port                   0\n",
       "html_num_tags('iframe')    0\n",
       "html_num_tags('script')    0\n",
       "html_num_tags('embed')     0\n",
       "html_num_tags('object')    0\n",
       "html_num_tags('div')       0\n",
       "html_num_tags('head')      0\n",
       "html_num_tags('body')      0\n",
       "html_num_tags('form')      0\n",
       "html_num_tags('a')         0\n",
       "html_num_tags('applet')    0\n",
       "Result_v1                  0\n",
       "under_per_length           0\n",
       "hyphen_per_len             0\n",
       "dtype: int64"
      ]
     },
     "execution_count": 477,
     "metadata": {},
     "output_type": "execute_result"
    }
   ],
   "source": [
    "df.isna().sum()"
   ]
  },
  {
   "cell_type": "markdown",
   "id": "5e0c75b5",
   "metadata": {},
   "source": [
    "## 단변량 분석"
   ]
  },
  {
   "cell_type": "code",
   "execution_count": 14,
   "id": "ef627f64",
   "metadata": {},
   "outputs": [
    {
     "data": {
      "image/png": "[encoded data removed]",
      "text/plain": [
       "<Figure size 432x288 with 1 Axes>"
      ]
     },
     "metadata": {
      "needs_background": "light"
     },
     "output_type": "display_data"
    }
   ],
   "source": [
    "plt.hist(df['url_len'], bins=30)\n",
    "plt.show()\n",
    "# 길수록 불량?"
   ]
  },
  {
   "cell_type": "code",
   "execution_count": 19,
   "id": "00aa5f78",
   "metadata": {
    "scrolled": true
   },
   "outputs": [
    {
     "data": {
      "image/png": "[encoded data removed]",
      "text/plain": [
       "<Figure size 432x288 with 1 Axes>"
      ]
     },
     "metadata": {
      "needs_background": "light"
     },
     "output_type": "display_data"
    }
   ],
   "source": [
    "sns.countplot(df['Result_v1'])\n",
    "plt.show()"
   ]
  },
  {
   "cell_type": "code",
   "execution_count": 25,
   "id": "596513a6",
   "metadata": {
    "scrolled": true
   },
   "outputs": [
    {
     "data": {
      "image/png": "[encoded data removed]",
      "text/plain": [
       "<Figure size 432x288 with 1 Axes>"
      ]
     },
     "metadata": {
      "needs_background": "light"
     },
     "output_type": "display_data"
    }
   ],
   "source": [
    "plt.hist(df['url_num_hyphens_dom'], bins=30)\n",
    "plt.show()"
   ]
  },
  {
   "cell_type": "code",
   "execution_count": 24,
   "id": "21947904",
   "metadata": {
    "scrolled": false
   },
   "outputs": [
    {
     "data": {
      "image/png": "[encoded data removed]",
      "text/plain": [
       "<Figure size 432x288 with 1 Axes>"
      ]
     },
     "metadata": {
      "needs_background": "light"
     },
     "output_type": "display_data"
    }
   ],
   "source": [
    "plt.hist(df['url_path_len'], bins=30)\n",
    "plt.show()"
   ]
  },
  {
   "cell_type": "code",
   "execution_count": 23,
   "id": "7a2dc46c",
   "metadata": {
    "scrolled": false
   },
   "outputs": [
    {
     "data": {
      "image/png": "[encoded data removed]",
      "text/plain": [
       "<Figure size 432x288 with 1 Axes>"
      ]
     },
     "metadata": {
      "needs_background": "light"
     },
     "output_type": "display_data"
    }
   ],
   "source": [
    "plt.hist(df['url_domain_len'], bins=30)\n",
    "plt.show()"
   ]
  },
  {
   "cell_type": "code",
   "execution_count": 26,
   "id": "7dbfd8ff",
   "metadata": {
    "scrolled": false
   },
   "outputs": [
    {
     "data": {
      "image/png": "[encoded data removed]",
      "text/plain": [
       "<Figure size 432x288 with 1 Axes>"
      ]
     },
     "metadata": {
      "needs_background": "light"
     },
     "output_type": "display_data"
    }
   ],
   "source": [
    "plt.hist(df['url_hostname_len'], bins=30)\n",
    "plt.show()"
   ]
  },
  {
   "cell_type": "code",
   "execution_count": 27,
   "id": "bd5a2377",
   "metadata": {
    "scrolled": false
   },
   "outputs": [
    {
     "data": {
      "image/png": "[encoded data removed]",
      "text/plain": [
       "<Figure size 432x288 with 1 Axes>"
      ]
     },
     "metadata": {
      "needs_background": "light"
     },
     "output_type": "display_data"
    }
   ],
   "source": [
    "plt.hist(df['url_num_dots'], bins=30)\n",
    "plt.show()"
   ]
  },
  {
   "cell_type": "code",
   "execution_count": 28,
   "id": "db715ccc",
   "metadata": {
    "scrolled": false
   },
   "outputs": [
    {
     "data": {
      "image/png": "[encoded data removed]",
      "text/plain": [
       "<Figure size 432x288 with 1 Axes>"
      ]
     },
     "metadata": {
      "needs_background": "light"
     },
     "output_type": "display_data"
    }
   ],
   "source": [
    "plt.hist(df['url_num_underscores'], bins=30)\n",
    "plt.show()"
   ]
  },
  {
   "cell_type": "code",
   "execution_count": 29,
   "id": "3997efc0",
   "metadata": {
    "scrolled": false
   },
   "outputs": [
    {
     "data": {
      "image/png": "[encoded data removed]",
      "text/plain": [
       "<Figure size 432x288 with 1 Axes>"
      ]
     },
     "metadata": {
      "needs_background": "light"
     },
     "output_type": "display_data"
    }
   ],
   "source": [
    "plt.hist(df['url_ip_present'], bins=30)\n",
    "plt.show()"
   ]
  },
  {
   "cell_type": "code",
   "execution_count": 30,
   "id": "fb1ee694",
   "metadata": {
    "scrolled": false
   },
   "outputs": [
    {
     "data": {
      "image/png": "[encoded data removed]",
      "text/plain": [
       "<Figure size 432x288 with 1 Axes>"
      ]
     },
     "metadata": {
      "needs_background": "light"
     },
     "output_type": "display_data"
    }
   ],
   "source": [
    "plt.hist(df['url_entropy'], bins=30)\n",
    "plt.show()"
   ]
  },
  {
   "cell_type": "code",
   "execution_count": 496,
   "id": "88258cb8",
   "metadata": {
    "scrolled": false
   },
   "outputs": [
    {
     "data": {
      "image/png": "[encoded data removed]",
      "text/plain": [
       "<Figure size 432x288 with 1 Axes>"
      ]
     },
     "metadata": {
      "needs_background": "light"
     },
     "output_type": "display_data"
    }
   ],
   "source": [
    "plt.hist(df['under_per_length'], bins=30)\n",
    "plt.show()"
   ]
  },
  {
   "cell_type": "code",
   "execution_count": 32,
   "id": "3e3ba298",
   "metadata": {
    "scrolled": false
   },
   "outputs": [
    {
     "data": {
      "image/png": "[encoded data removed]",
      "text/plain": [
       "<Figure size 432x288 with 1 Axes>"
      ]
     },
     "metadata": {
      "needs_background": "light"
     },
     "output_type": "display_data"
    }
   ],
   "source": [
    "plt.hist(df[\"html_num_tags('script')\"], bins=30)\n",
    "plt.show()"
   ]
  },
  {
   "cell_type": "code",
   "execution_count": 35,
   "id": "07c6115a",
   "metadata": {
    "scrolled": false
   },
   "outputs": [
    {
     "data": {
      "image/png": "[encoded data removed]",
      "text/plain": [
       "<Figure size 432x288 with 1 Axes>"
      ]
     },
     "metadata": {
      "needs_background": "light"
     },
     "output_type": "display_data"
    }
   ],
   "source": [
    "plt.hist(df[\"url_port\"], bins=100)\n",
    "plt.show()"
   ]
  },
  {
   "cell_type": "markdown",
   "id": "d6b4bfc9",
   "metadata": {},
   "source": [
    "## 이변량 분석"
   ]
  },
  {
   "cell_type": "code",
   "execution_count": 37,
   "id": "43795ac7",
   "metadata": {},
   "outputs": [],
   "source": [
    "import scipy.stats as spst"
   ]
  },
  {
   "cell_type": "markdown",
   "id": "40c2f4fa",
   "metadata": {},
   "source": [
    " 1   url_len                  3664 non-null   float64\n",
    " 2   url_num_hyphens_dom      3664 non-null   float64\n",
    " 3   url_path_len             3663 non-null   float64\n",
    " 4   url_domain_len           3663 non-null   float64\n",
    " 5   url_hostname_len         3664 non-null   float64\n",
    " 6   url_num_dots             3664 non-null   float64\n",
    " 7   url_num_underscores      3664 non-null   float64\n",
    " 8   url_query_len            3664 non-null   float64\n",
    " 9   url_num_query_para       3664 non-null   float64\n",
    " 10  url_ip_present           3664 non-null   float64\n",
    " 11  url_entropy              3664 non-null   float64\n",
    " 12  url_chinese_present      3664 non-null   float64\n",
    " 13  url_port  "
   ]
  },
  {
   "cell_type": "code",
   "execution_count": 38,
   "id": "7f4cb288",
   "metadata": {},
   "outputs": [
    {
     "data": {
      "image/png": "[encoded data removed]",
      "text/plain": [
       "<Figure size 432x288 with 1 Axes>"
      ]
     },
     "metadata": {
      "needs_background": "light"
     },
     "output_type": "display_data"
    },
    {
     "data": {
      "text/plain": [
       "(0.9430424093782788, 0.0)"
      ]
     },
     "execution_count": 38,
     "metadata": {},
     "output_type": "execute_result"
    }
   ],
   "source": [
    "# url_len과 url_path_len\n",
    "plt.scatter(df['url_len'], df['url_path_len'])\n",
    "plt.show()\n",
    "\n",
    "spst.pearsonr(df['url_len'], df['url_path_len'])"
   ]
  },
  {
   "cell_type": "code",
   "execution_count": 40,
   "id": "db060112",
   "metadata": {},
   "outputs": [
    {
     "data": {
      "image/png": "[encoded data removed]",
      "text/plain": [
       "<Figure size 432x288 with 1 Axes>"
      ]
     },
     "metadata": {
      "needs_background": "light"
     },
     "output_type": "display_data"
    },
    {
     "data": {
      "text/plain": [
       "(0.00411734110646473, 0.8032503814819018)"
      ]
     },
     "execution_count": 40,
     "metadata": {},
     "output_type": "execute_result"
    }
   ],
   "source": [
    "# url_len과 url_path_len\n",
    "plt.scatter(df['url_len'], df['url_hostname_len'])\n",
    "plt.show()\n",
    "\n",
    "spst.pearsonr(df['url_len'], df['url_hostname_len'])"
   ]
  },
  {
   "cell_type": "code",
   "execution_count": 41,
   "id": "25dd9b5d",
   "metadata": {},
   "outputs": [
    {
     "data": {
      "image/png": "[encoded data removed]",
      "text/plain": [
       "<Figure size 432x288 with 1 Axes>"
      ]
     },
     "metadata": {
      "needs_background": "light"
     },
     "output_type": "display_data"
    },
    {
     "data": {
      "text/plain": [
       "(0.00382524674677609, 0.8169514061404903)"
      ]
     },
     "execution_count": 41,
     "metadata": {},
     "output_type": "execute_result"
    }
   ],
   "source": [
    "# url_len과 url_path_len\n",
    "plt.scatter(df['url_len'], df['url_domain_len'])\n",
    "plt.show()\n",
    "\n",
    "spst.pearsonr(df['url_len'], df['url_domain_len'])"
   ]
  },
  {
   "cell_type": "code",
   "execution_count": 42,
   "id": "943d8cfe",
   "metadata": {},
   "outputs": [
    {
     "data": {
      "image/png": "[encoded data removed]",
      "text/plain": [
       "<Figure size 432x288 with 1 Axes>"
      ]
     },
     "metadata": {
      "needs_background": "light"
     },
     "output_type": "display_data"
    },
    {
     "data": {
      "text/plain": [
       "(-0.022953421360247278, 0.16480170578627767)"
      ]
     },
     "execution_count": 42,
     "metadata": {},
     "output_type": "execute_result"
    }
   ],
   "source": [
    "# url_len과 url_path_len\n",
    "plt.scatter(df['url_len'], df['url_num_hyphens_dom'])\n",
    "plt.show()\n",
    "\n",
    "spst.pearsonr(df['url_len'], df['url_num_hyphens_dom'])"
   ]
  },
  {
   "cell_type": "code",
   "execution_count": 43,
   "id": "833ccef5",
   "metadata": {},
   "outputs": [
    {
     "data": {
      "image/png": "[encoded data removed]",
      "text/plain": [
       "<Figure size 432x288 with 1 Axes>"
      ]
     },
     "metadata": {
      "needs_background": "light"
     },
     "output_type": "display_data"
    },
    {
     "data": {
      "text/plain": [
       "(0.26584561414223007, 2.56885194171682e-60)"
      ]
     },
     "execution_count": 43,
     "metadata": {},
     "output_type": "execute_result"
    }
   ],
   "source": [
    "# url_len과 url_path_len\n",
    "plt.scatter(df['url_len'], df['url_num_dots'])\n",
    "plt.show()\n",
    "\n",
    "spst.pearsonr(df['url_len'], df['url_num_dots'])"
   ]
  },
  {
   "cell_type": "code",
   "execution_count": 44,
   "id": "396870b6",
   "metadata": {
    "scrolled": true
   },
   "outputs": [
    {
     "data": {
      "image/png": "[encoded data removed]",
      "text/plain": [
       "<Figure size 432x288 with 1 Axes>"
      ]
     },
     "metadata": {
      "needs_background": "light"
     },
     "output_type": "display_data"
    },
    {
     "data": {
      "text/plain": [
       "(0.3136101588754654, 1.9767917459887443e-84)"
      ]
     },
     "execution_count": 44,
     "metadata": {},
     "output_type": "execute_result"
    }
   ],
   "source": [
    "# url_len과 url_path_len\n",
    "plt.scatter(df['url_len'], df['url_num_underscores'])\n",
    "plt.show()\n",
    "\n",
    "spst.pearsonr(df['url_len'], df['url_num_underscores'])"
   ]
  },
  {
   "cell_type": "code",
   "execution_count": 45,
   "id": "3810eae2",
   "metadata": {
    "scrolled": true
   },
   "outputs": [
    {
     "data": {
      "image/png": "[encoded data removed]",
      "text/plain": [
       "<Figure size 432x288 with 1 Axes>"
      ]
     },
     "metadata": {
      "needs_background": "light"
     },
     "output_type": "display_data"
    },
    {
     "data": {
      "text/plain": [
       "(0.3259161711664971, 2.03254280265566e-91)"
      ]
     },
     "execution_count": 45,
     "metadata": {},
     "output_type": "execute_result"
    }
   ],
   "source": [
    "# url_len과 url_path_len\n",
    "plt.scatter(df['url_len'], df['url_query_len'])\n",
    "plt.show()\n",
    "\n",
    "spst.pearsonr(df['url_len'], df['url_query_len'])"
   ]
  },
  {
   "cell_type": "code",
   "execution_count": 46,
   "id": "2787c351",
   "metadata": {
    "scrolled": true
   },
   "outputs": [
    {
     "data": {
      "image/png": "[encoded data removed]",
      "text/plain": [
       "<Figure size 432x288 with 1 Axes>"
      ]
     },
     "metadata": {
      "needs_background": "light"
     },
     "output_type": "display_data"
    },
    {
     "data": {
      "text/plain": [
       "(0.27524002174511075, 1.079749111084607e-64)"
      ]
     },
     "execution_count": 46,
     "metadata": {},
     "output_type": "execute_result"
    }
   ],
   "source": [
    "# url_len과 url_path_len\n",
    "plt.scatter(df['url_len'], df['url_num_query_para'])\n",
    "plt.show()\n",
    "\n",
    "spst.pearsonr(df['url_len'], df['url_num_query_para'])"
   ]
  },
  {
   "cell_type": "code",
   "execution_count": 52,
   "id": "62e95371",
   "metadata": {
    "scrolled": true
   },
   "outputs": [
    {
     "data": {
      "image/png": "[encoded data removed]",
      "text/plain": [
       "<Figure size 432x288 with 1 Axes>"
      ]
     },
     "metadata": {
      "needs_background": "light"
     },
     "output_type": "display_data"
    },
    {
     "data": {
      "text/plain": [
       "Ttest_indResult(statistic=39.98902998777704, pvalue=0.0)"
      ]
     },
     "execution_count": 52,
     "metadata": {},
     "output_type": "execute_result"
    }
   ],
   "source": [
    "# url_len과 url_ip_present\n",
    "sns.barplot(df['url_ip_present'], df['url_len'])\n",
    "plt.show()\n",
    "\n",
    "spst.ttest_ind(df['url_len'], df['url_ip_present'])"
   ]
  },
  {
   "cell_type": "code",
   "execution_count": 53,
   "id": "fd6acb15",
   "metadata": {
    "scrolled": true
   },
   "outputs": [
    {
     "data": {
      "image/png": "[encoded data removed]",
      "text/plain": [
       "<Figure size 432x288 with 1 Axes>"
      ]
     },
     "metadata": {
      "needs_background": "light"
     },
     "output_type": "display_data"
    },
    {
     "data": {
      "text/plain": [
       "(0.27169526794650245, 5.072392807386014e-63)"
      ]
     },
     "execution_count": 53,
     "metadata": {},
     "output_type": "execute_result"
    }
   ],
   "source": [
    "# url_len과 url_path_len\n",
    "plt.scatter(df['url_len'], df['url_entropy'])\n",
    "plt.show()\n",
    "\n",
    "spst.pearsonr(df['url_len'], df['url_entropy'])"
   ]
  },
  {
   "cell_type": "code",
   "execution_count": 59,
   "id": "7dd3c587",
   "metadata": {
    "scrolled": true
   },
   "outputs": [
    {
     "data": {
      "image/png": "[encoded data removed]",
      "text/plain": [
       "<Figure size 432x288 with 1 Axes>"
      ]
     },
     "metadata": {
      "needs_background": "light"
     },
     "output_type": "display_data"
    },
    {
     "data": {
      "text/plain": [
       "Ttest_indResult(statistic=40.0322484110084, pvalue=0.0)"
      ]
     },
     "execution_count": 59,
     "metadata": {},
     "output_type": "execute_result"
    }
   ],
   "source": [
    "sns.barplot(df['url_port'], df['url_len'])\n",
    "plt.show()\n",
    "\n",
    "spst.ttest_ind(df['url_len'], df['url_port'])"
   ]
  },
  {
   "cell_type": "code",
   "execution_count": 60,
   "id": "0fef7587",
   "metadata": {
    "scrolled": false
   },
   "outputs": [
    {
     "data": {
      "image/png": "[encoded data removed]",
      "text/plain": [
       "<Figure size 432x288 with 1 Axes>"
      ]
     },
     "metadata": {
      "needs_background": "light"
     },
     "output_type": "display_data"
    },
    {
     "data": {
      "text/plain": [
       "(0.9981654747336223, 0.0)"
      ]
     },
     "execution_count": 60,
     "metadata": {},
     "output_type": "execute_result"
    }
   ],
   "source": [
    "# hostname과 domain\n",
    "plt.scatter(df['url_hostname_len'], df['url_domain_len'])\n",
    "plt.show()\n",
    "\n",
    "spst.pearsonr(df['url_hostname_len'], df['url_domain_len'])"
   ]
  },
  {
   "cell_type": "code",
   "execution_count": null,
   "id": "5df8929f",
   "metadata": {},
   "outputs": [],
   "source": []
  },
  {
   "cell_type": "code",
   "execution_count": 61,
   "id": "c2a7b2a5",
   "metadata": {
    "scrolled": false
   },
   "outputs": [
    {
     "data": {
      "image/png": "[encoded data removed]",
      "text/plain": [
       "<Figure size 432x288 with 1 Axes>"
      ]
     },
     "metadata": {
      "needs_background": "light"
     },
     "output_type": "display_data"
    },
    {
     "data": {
      "text/plain": [
       "(0.596239725608397, 0.0)"
      ]
     },
     "execution_count": 61,
     "metadata": {},
     "output_type": "execute_result"
    }
   ],
   "source": [
    "# hostname과 하이픈\n",
    "plt.scatter(df['url_hostname_len'], df['url_num_hyphens_dom'])\n",
    "plt.show()\n",
    "\n",
    "spst.pearsonr(df['url_hostname_len'], df['url_num_hyphens_dom'])"
   ]
  },
  {
   "cell_type": "code",
   "execution_count": 65,
   "id": "6058925b",
   "metadata": {
    "scrolled": true
   },
   "outputs": [
    {
     "data": {
      "image/png": "[encoded data removed]",
      "text/plain": [
       "<Figure size 432x288 with 1 Axes>"
      ]
     },
     "metadata": {
      "needs_background": "light"
     },
     "output_type": "display_data"
    },
    {
     "data": {
      "text/plain": [
       "Ttest_indResult(statistic=124.7382587219385, pvalue=0.0)"
      ]
     },
     "execution_count": 65,
     "metadata": {},
     "output_type": "execute_result"
    }
   ],
   "source": [
    "sns.barplot(df['url_num_hyphens_dom'], df['url_hostname_len'])\n",
    "plt.show()\n",
    "\n",
    "spst.ttest_ind(df['url_hostname_len'], df['url_num_hyphens_dom'])"
   ]
  },
  {
   "cell_type": "code",
   "execution_count": 66,
   "id": "c5f760e1",
   "metadata": {
    "scrolled": true
   },
   "outputs": [
    {
     "data": {
      "image/png": "[encoded data removed]",
      "text/plain": [
       "<Figure size 432x288 with 1 Axes>"
      ]
     },
     "metadata": {
      "needs_background": "light"
     },
     "output_type": "display_data"
    },
    {
     "data": {
      "text/plain": [
       "(0.5942122800547486, 0.0)"
      ]
     },
     "execution_count": 66,
     "metadata": {},
     "output_type": "execute_result"
    }
   ],
   "source": [
    "#domain과 하이픈\n",
    "plt.scatter(df['url_domain_len'], df['url_num_hyphens_dom'])\n",
    "plt.show()\n",
    "\n",
    "spst.pearsonr(df['url_domain_len'], df['url_num_hyphens_dom'])"
   ]
  },
  {
   "cell_type": "code",
   "execution_count": 500,
   "id": "61f0ef1d",
   "metadata": {},
   "outputs": [
    {
     "data": {
      "image/png": "[encoded data removed]",
      "text/plain": [
       "<Figure size 432x288 with 1 Axes>"
      ]
     },
     "metadata": {
      "needs_background": "light"
     },
     "output_type": "display_data"
    }
   ],
   "source": [
    "plt.hist(df['hyphen_per_len'], bins=30)\n",
    "plt.show()"
   ]
  },
  {
   "cell_type": "code",
   "execution_count": 502,
   "id": "4570fac1",
   "metadata": {},
   "outputs": [
    {
     "data": {
      "image/png": "[encoded data removed]",
      "text/plain": [
       "<Figure size 432x288 with 1 Axes>"
      ]
     },
     "metadata": {
      "needs_background": "light"
     },
     "output_type": "display_data"
    },
    {
     "name": "stdout",
     "output_type": "stream",
     "text": [
      "Optimization terminated successfully.\n",
      "         Current function value: 0.642484\n",
      "         Iterations 6\n",
      "hyphen_per_len    5.166972e-56\n",
      "dtype: float64\n"
     ]
    }
   ],
   "source": [
    "sns.kdeplot(x='hyphen_per_len', data = df, hue ='Result_v1')\n",
    "plt.show()\n",
    "\n",
    "model = sm.Logit(tmp['Result_v1'], df['hyphen_per_len'])\n",
    "result = model.fit()\n",
    "print(result.pvalues)"
   ]
  },
  {
   "cell_type": "code",
   "execution_count": 77,
   "id": "d71e9607",
   "metadata": {},
   "outputs": [],
   "source": [
    "tmp = df[['Result_v1']]\n",
    "tmp = tmp.replace(['malicious', 'benign'], [0, 1])"
   ]
  },
  {
   "cell_type": "code",
   "execution_count": 78,
   "id": "4057ce10",
   "metadata": {},
   "outputs": [
    {
     "data": {
      "text/plain": [
       "0       0\n",
       "1       1\n",
       "2       1\n",
       "3       1\n",
       "4       1\n",
       "       ..\n",
       "3659    0\n",
       "3660    1\n",
       "3661    0\n",
       "3662    1\n",
       "3663    1\n",
       "Name: Result_v1, Length: 3664, dtype: int64"
      ]
     },
     "execution_count": 78,
     "metadata": {},
     "output_type": "execute_result"
    }
   ],
   "source": [
    "tmp['Result_v1']"
   ]
  },
  {
   "cell_type": "code",
   "execution_count": 90,
   "id": "0a0ec6b8",
   "metadata": {
    "scrolled": true
   },
   "outputs": [
    {
     "name": "stdout",
     "output_type": "stream",
     "text": [
      "Optimization terminated successfully.\n",
      "         Current function value: 0.693146\n",
      "         Iterations 2\n",
      "url_entropy    0.941981\n",
      "dtype: float64\n"
     ]
    }
   ],
   "source": [
    "model = sm.Logit(tmp['Result_v1'], df['url_entropy'])\n",
    "result = model.fit()\n",
    "print(result.pvalues)"
   ]
  },
  {
   "cell_type": "code",
   "execution_count": 104,
   "id": "bcbad70f",
   "metadata": {
    "scrolled": true
   },
   "outputs": [
    {
     "name": "stdout",
     "output_type": "stream",
     "text": [
      "Result_v1         0         1\n",
      "url_port                     \n",
      "0.0        0.493162  0.506838\n",
      "1.0        0.375000  0.625000\n"
     ]
    },
    {
     "data": {
      "image/png": "[encoded data removed]",
      "text/plain": [
       "<Figure size 432x288 with 1 Axes>"
      ]
     },
     "metadata": {
      "needs_background": "light"
     },
     "output_type": "display_data"
    },
    {
     "name": "stdout",
     "output_type": "stream",
     "text": [
      "카이제곱통계량 1.5827876508716454\n",
      "p-value 0.2083596114290871\n",
      "기대빈도\n",
      " [[0.43408096 0.56591904]\n",
      " [0.43408096 0.56591904]]\n"
     ]
    }
   ],
   "source": [
    "temp = pd.crosstab(df['url_port'], tmp['Result_v1'], normalize = 'index')\n",
    "print(temp)\n",
    "temp.plot.bar(stacked=True)\n",
    "plt.axhline(1-tmp['Result_v1'].mean(), color = 'r')\n",
    "plt.show()\n",
    "result = spst.chi2_contingency(temp)\n",
    "print('카이제곱통계량', result[0])\n",
    "print('p-value', result[1])\n",
    "print('기대빈도\\n',result[3])"
   ]
  },
  {
   "cell_type": "code",
   "execution_count": 178,
   "id": "96ecea2a",
   "metadata": {
    "scrolled": true
   },
   "outputs": [
    {
     "data": {
      "image/png": "[encoded data removed]",
      "text/plain": [
       "<Figure size 432x288 with 1 Axes>"
      ]
     },
     "metadata": {
      "needs_background": "light"
     },
     "output_type": "display_data"
    },
    {
     "data": {
      "text/plain": [
       "(0.1865974338566557, 4.622686114486321e-30)"
      ]
     },
     "execution_count": 178,
     "metadata": {},
     "output_type": "execute_result"
    }
   ],
   "source": [
    "plt.scatter(df['url_num_dots'], df['url_ip_present'])\n",
    "plt.show()\n",
    "\n",
    "spst.pearsonr(df['url_ip_present'], df['url_num_dots'])"
   ]
  },
  {
   "cell_type": "code",
   "execution_count": null,
   "id": "abcd3a10",
   "metadata": {},
   "outputs": [],
   "source": [
    "plt.scatter(df['url_query_len'], df['url_num_query_para'])\n",
    "plt.show()\n",
    "\n",
    "spst.pearsonr(df['url_query_len'], df['url_num_query_para'])"
   ]
  },
  {
   "cell_type": "code",
   "execution_count": 466,
   "id": "43469eb6",
   "metadata": {},
   "outputs": [],
   "source": [
    "drop_cols = ['Unnamed: 0']"
   ]
  },
  {
   "cell_type": "code",
   "execution_count": 467,
   "id": "20a4bc9d",
   "metadata": {},
   "outputs": [],
   "source": [
    "df.drop(columns=drop_cols, axis=1, inplace=True)"
   ]
  },
  {
   "cell_type": "code",
   "execution_count": 355,
   "id": "79e18b50",
   "metadata": {},
   "outputs": [
    {
     "name": "stdout",
     "output_type": "stream",
     "text": [
      "<class 'pandas.core.frame.DataFrame'>\n",
      "RangeIndex: 3664 entries, 0 to 3663\n",
      "Data columns (total 20 columns):\n",
      " #   Column                   Non-Null Count  Dtype  \n",
      "---  ------                   --------------  -----  \n",
      " 0   url_len                  3664 non-null   float64\n",
      " 1   url_num_hyphens_dom      3664 non-null   float64\n",
      " 2   url_path_len             3664 non-null   float64\n",
      " 3   url_domain_len           3664 non-null   float64\n",
      " 4   url_hostname_len         3664 non-null   float64\n",
      " 5   url_num_dots             3664 non-null   float64\n",
      " 6   url_num_underscores      3664 non-null   float64\n",
      " 7   url_num_query_para       3664 non-null   float64\n",
      " 8   url_ip_present           3664 non-null   float64\n",
      " 9   html_num_tags('iframe')  3664 non-null   float64\n",
      " 10  html_num_tags('script')  3664 non-null   float64\n",
      " 11  html_num_tags('embed')   3664 non-null   float64\n",
      " 12  html_num_tags('object')  3664 non-null   float64\n",
      " 13  html_num_tags('div')     3664 non-null   float64\n",
      " 14  html_num_tags('head')    3664 non-null   float64\n",
      " 15  html_num_tags('body')    3664 non-null   float64\n",
      " 16  html_num_tags('form')    3664 non-null   float64\n",
      " 17  html_num_tags('a')       3664 non-null   float64\n",
      " 18  html_num_tags('applet')  3664 non-null   float64\n",
      " 19  Result_v1                3664 non-null   object \n",
      "dtypes: float64(19), object(1)\n",
      "memory usage: 572.6+ KB\n"
     ]
    }
   ],
   "source": [
    "df.info()"
   ]
  },
  {
   "cell_type": "code",
   "execution_count": null,
   "id": "b969cce0",
   "metadata": {},
   "outputs": [],
   "source": [
    "plt.hist(df[\"html_num_tags('iframe')\"], bins=30)\n",
    "plt.show()"
   ]
  },
  {
   "cell_type": "code",
   "execution_count": 147,
   "id": "65d456e9",
   "metadata": {
    "collapsed": true
   },
   "outputs": [
    {
     "data": {
      "image/png": "[encoded data removed]",
      "text/plain": [
       "<Figure size 432x288 with 1 Axes>"
      ]
     },
     "metadata": {
      "needs_background": "light"
     },
     "output_type": "display_data"
    },
    {
     "data": {
      "text/plain": [
       "(0.05164653679449737, 0.0017645820274244525)"
      ]
     },
     "execution_count": 147,
     "metadata": {},
     "output_type": "execute_result"
    }
   ],
   "source": [
    "# html 확인\n",
    "plt.scatter(df[\"html_num_tags('a')\"], df[\"html_num_tags('iframe')\"])\n",
    "plt.show()\n",
    "\n",
    "spst.pearsonr(df[\"html_num_tags('a')\"], df[\"html_num_tags('iframe')\"])"
   ]
  },
  {
   "cell_type": "code",
   "execution_count": 158,
   "id": "27d9d34a",
   "metadata": {
    "scrolled": true
   },
   "outputs": [
    {
     "name": "stdout",
     "output_type": "stream",
     "text": [
      "Optimization terminated successfully.\n",
      "         Current function value: 0.692840\n",
      "         Iterations 4\n",
      "html_num_tags('iframe')    0.146136\n",
      "dtype: float64\n"
     ]
    }
   ],
   "source": [
    "model = sm.Logit(tmp['Result_v1'], df[\"html_num_tags('iframe')\"])\n",
    "result = model.fit()\n",
    "print(result.pvalues)"
   ]
  },
  {
   "cell_type": "code",
   "execution_count": 168,
   "id": "4b005d46",
   "metadata": {
    "scrolled": true
   },
   "outputs": [],
   "source": [
    "drop_cols = [\"html_num_tags('applet')\", \"html_num_tags('body')\"]"
   ]
  },
  {
   "cell_type": "code",
   "execution_count": 170,
   "id": "67062e34",
   "metadata": {},
   "outputs": [],
   "source": [
    "df.drop(columns=drop_cols, axis=1, inplace=True)"
   ]
  },
  {
   "cell_type": "code",
   "execution_count": 171,
   "id": "13d4f084",
   "metadata": {},
   "outputs": [
    {
     "name": "stdout",
     "output_type": "stream",
     "text": [
      "<class 'pandas.core.frame.DataFrame'>\n",
      "RangeIndex: 3664 entries, 0 to 3663\n",
      "Data columns (total 17 columns):\n",
      " #   Column                   Non-Null Count  Dtype  \n",
      "---  ------                   --------------  -----  \n",
      " 0   url_num_hyphens_dom      3664 non-null   float64\n",
      " 1   url_path_len             3664 non-null   float64\n",
      " 2   url_domain_len           3664 non-null   float64\n",
      " 3   url_hostname_len         3664 non-null   float64\n",
      " 4   url_num_dots             3664 non-null   float64\n",
      " 5   url_num_underscores      3664 non-null   float64\n",
      " 6   url_num_query_para       3664 non-null   float64\n",
      " 7   url_ip_present           3664 non-null   float64\n",
      " 8   html_num_tags('iframe')  3664 non-null   float64\n",
      " 9   html_num_tags('script')  3664 non-null   float64\n",
      " 10  html_num_tags('embed')   3664 non-null   float64\n",
      " 11  html_num_tags('object')  3664 non-null   float64\n",
      " 12  html_num_tags('div')     3664 non-null   float64\n",
      " 13  html_num_tags('head')    3664 non-null   float64\n",
      " 14  html_num_tags('form')    3664 non-null   float64\n",
      " 15  html_num_tags('a')       3664 non-null   float64\n",
      " 16  Result_v1                3664 non-null   object \n",
      "dtypes: float64(16), object(1)\n",
      "memory usage: 486.8+ KB\n"
     ]
    }
   ],
   "source": [
    "df.info()"
   ]
  },
  {
   "cell_type": "code",
   "execution_count": 172,
   "id": "2e89148a",
   "metadata": {
    "scrolled": true
   },
   "outputs": [
    {
     "data": {
      "text/plain": [
       "url_num_hyphens_dom        0\n",
       "url_path_len               0\n",
       "url_domain_len             0\n",
       "url_hostname_len           0\n",
       "url_num_dots               0\n",
       "url_num_underscores        0\n",
       "url_num_query_para         0\n",
       "url_ip_present             0\n",
       "html_num_tags('iframe')    0\n",
       "html_num_tags('script')    0\n",
       "html_num_tags('embed')     0\n",
       "html_num_tags('object')    0\n",
       "html_num_tags('div')       0\n",
       "html_num_tags('head')      0\n",
       "html_num_tags('form')      0\n",
       "html_num_tags('a')         0\n",
       "Result_v1                  0\n",
       "dtype: int64"
      ]
     },
     "execution_count": 172,
     "metadata": {},
     "output_type": "execute_result"
    }
   ],
   "source": [
    "df.isna().sum()"
   ]
  },
  {
   "cell_type": "code",
   "execution_count": 507,
   "id": "dbb9f37f",
   "metadata": {},
   "outputs": [
    {
     "data": {
      "image/png": "[encoded data removed]",
      "text/plain": [
       "<Figure size 432x288 with 1 Axes>"
      ]
     },
     "metadata": {
      "needs_background": "light"
     },
     "output_type": "display_data"
    },
    {
     "data": {
      "text/plain": [
       "(0.18675486369259753, 4.1314948270820734e-30)"
      ]
     },
     "execution_count": 507,
     "metadata": {},
     "output_type": "execute_result"
    }
   ],
   "source": [
    "plt.scatter(df['url_entropy'], df['url_num_dots'])\n",
    "plt.show()\n",
    "spst.pearsonr(df['url_entropy'], df['url_num_dots'])"
   ]
  },
  {
   "cell_type": "markdown",
   "id": "84e087af",
   "metadata": {},
   "source": [
    "## feature engineering"
   ]
  },
  {
   "cell_type": "code",
   "execution_count": 468,
   "id": "3c75afb6",
   "metadata": {},
   "outputs": [],
   "source": [
    "df['under_per_length'] = df['url_num_underscores'] / df['url_len']"
   ]
  },
  {
   "cell_type": "code",
   "execution_count": 469,
   "id": "8905c3cf",
   "metadata": {
    "scrolled": false
   },
   "outputs": [
    {
     "name": "stdout",
     "output_type": "stream",
     "text": [
      "Optimization terminated successfully.\n",
      "         Current function value: 0.671751\n",
      "         Iterations 6\n",
      "under_per_length    1.831295e-24\n",
      "dtype: float64\n"
     ]
    }
   ],
   "source": [
    "model = sm.Logit(tmp['Result_v1'], df['under_per_length'])\n",
    "result = model.fit()\n",
    "print(result.pvalues)"
   ]
  },
  {
   "cell_type": "code",
   "execution_count": 470,
   "id": "fd0ac093",
   "metadata": {},
   "outputs": [],
   "source": [
    "df['hyphen_per_len'] = df['url_num_hyphens_dom'] / df['url_len']"
   ]
  },
  {
   "cell_type": "code",
   "execution_count": 471,
   "id": "b883a0de",
   "metadata": {
    "scrolled": true
   },
   "outputs": [
    {
     "name": "stdout",
     "output_type": "stream",
     "text": [
      "Optimization terminated successfully.\n",
      "         Current function value: 0.642484\n",
      "         Iterations 6\n",
      "x1    5.166972e-56\n",
      "dtype: float64\n"
     ]
    }
   ],
   "source": [
    "model = sm.Logit(tmp['Result_v1'], tmp_pdh)\n",
    "result = model.fit()\n",
    "print(result.pvalues)"
   ]
  },
  {
   "cell_type": "code",
   "execution_count": null,
   "id": "9673d4d4",
   "metadata": {},
   "outputs": [],
   "source": [
    "drop_cols = ['']"
   ]
  },
  {
   "cell_type": "code",
   "execution_count": 525,
   "id": "f41bfe00",
   "metadata": {},
   "outputs": [],
   "source": [
    "df.drop(columns='entropy_per_dots', axis=1, inplace=True)"
   ]
  },
  {
   "cell_type": "code",
   "execution_count": 509,
   "id": "51528025",
   "metadata": {
    "scrolled": true
   },
   "outputs": [
    {
     "name": "stdout",
     "output_type": "stream",
     "text": [
      "Optimization terminated successfully.\n",
      "         Current function value: 0.688916\n",
      "         Iterations 4\n",
      "x1    2.955912e-08\n",
      "dtype: float64\n"
     ]
    }
   ],
   "source": [
    "df['entropy_per_dots'] = df['url_entropy']/df['url_num_dots']\n",
    "model = sm.Logit(tmp['Result_v1'], testing)\n",
    "result = model.fit()\n",
    "print(result.pvalues)"
   ]
  },
  {
   "cell_type": "code",
   "execution_count": 542,
   "id": "ea518e8c",
   "metadata": {
    "scrolled": true
   },
   "outputs": [],
   "source": [
    "drop_cols = ['url_chinese_present', 'url_port', \"html_num_tags('head')\", \"html_num_tags('applet')\"]"
   ]
  },
  {
   "cell_type": "code",
   "execution_count": 544,
   "id": "3b742dcf",
   "metadata": {},
   "outputs": [],
   "source": [
    "test_data.drop(columns=drop_cols, axis=1, inplace=True)"
   ]
  },
  {
   "cell_type": "code",
   "execution_count": null,
   "id": "abc097bc",
   "metadata": {},
   "outputs": [],
   "source": []
  },
  {
   "cell_type": "code",
   "execution_count": 530,
   "id": "f15ab61a",
   "metadata": {},
   "outputs": [
    {
     "name": "stdout",
     "output_type": "stream",
     "text": [
      "Optimization terminated successfully.\n",
      "         Current function value: 0.681793\n",
      "         Iterations 4\n",
      "x1    2.604655e-19\n",
      "dtype: float64\n"
     ]
    }
   ],
   "source": [
    "df['domain+hostname'] = df['url_domain_len'] + df['url_hostname_len']\n",
    "model = sm.Logit(tmp['Result_v1'], testing)\n",
    "result = model.fit()\n",
    "print(result.pvalues)"
   ]
  },
  {
   "cell_type": "markdown",
   "id": "9f05089b",
   "metadata": {},
   "source": [
    "## data 분할"
   ]
  },
  {
   "cell_type": "code",
   "execution_count": 545,
   "id": "a099af6f",
   "metadata": {},
   "outputs": [],
   "source": [
    "target =['Result_v1']"
   ]
  },
  {
   "cell_type": "code",
   "execution_count": 546,
   "id": "85ee34c6",
   "metadata": {},
   "outputs": [],
   "source": [
    "x = df.drop(columns=target, axis=1)\n",
    "y = df.loc[:, target]"
   ]
  },
  {
   "cell_type": "code",
   "execution_count": 547,
   "id": "7eb59f3f",
   "metadata": {},
   "outputs": [],
   "source": [
    "x_train, x_val, y_train, y_val = train_test_split(x, y, test_size=0.3)"
   ]
  },
  {
   "cell_type": "markdown",
   "id": "e9eb0fe1",
   "metadata": {},
   "source": [
    "## 스케일링"
   ]
  },
  {
   "cell_type": "code",
   "execution_count": 361,
   "id": "9970f5ab",
   "metadata": {},
   "outputs": [],
   "source": [
    "from sklearn.preprocessing import MinMaxScaler\n",
    "scaler = MinMaxScaler()\n",
    "x_train_s = scaler.fit_transform(x_train)\n",
    "x_val_s = scaler.transform(x_val)"
   ]
  },
  {
   "cell_type": "markdown",
   "id": "2c91b3a8",
   "metadata": {},
   "source": [
    "## 모델링"
   ]
  },
  {
   "cell_type": "code",
   "execution_count": 185,
   "id": "8e13e9bf",
   "metadata": {},
   "outputs": [],
   "source": [
    "# 모델링을 위해\n",
    "from sklearn.svm import SVC #classifier\n",
    "\n",
    "# Grid search\n",
    "from sklearn.model_selection import GridSearchCV\n",
    "\n",
    "# 평가를 위해.\n",
    "from sklearn.metrics import *"
   ]
  },
  {
   "cell_type": "code",
   "execution_count": 186,
   "id": "9d138049",
   "metadata": {},
   "outputs": [],
   "source": [
    "params = {\n",
    "    'C': [1, 3, 5, 10],\n",
    "    'gamma': np.linspace(0.01, 1, 20)\n",
    "}"
   ]
  },
  {
   "cell_type": "code",
   "execution_count": 188,
   "id": "ede99f85",
   "metadata": {},
   "outputs": [],
   "source": [
    "model = SVC()\n",
    "m_gs = GridSearchCV(model, params, cv=5, verbose=3)"
   ]
  },
  {
   "cell_type": "code",
   "execution_count": 189,
   "id": "15e448e7",
   "metadata": {
    "collapsed": true
   },
   "outputs": [
    {
     "name": "stdout",
     "output_type": "stream",
     "text": [
      "Fitting 5 folds for each of 80 candidates, totalling 400 fits\n",
      "[CV 1/5] END ................................C=1, gamma=0.01; total time=   0.3s\n",
      "[CV 2/5] END ................................C=1, gamma=0.01; total time=   0.2s\n",
      "[CV 3/5] END ................................C=1, gamma=0.01; total time=   0.3s\n",
      "[CV 4/5] END ................................C=1, gamma=0.01; total time=   0.3s\n",
      "[CV 5/5] END ................................C=1, gamma=0.01; total time=   0.2s\n",
      "[CV 1/5] END .................C=1, gamma=0.06210526315789474; total time=   0.2s\n",
      "[CV 2/5] END .................C=1, gamma=0.06210526315789474; total time=   0.4s\n",
      "[CV 3/5] END .................C=1, gamma=0.06210526315789474; total time=   0.2s\n",
      "[CV 4/5] END .................C=1, gamma=0.06210526315789474; total time=   0.2s\n",
      "[CV 5/5] END .................C=1, gamma=0.06210526315789474; total time=   0.2s\n",
      "[CV 1/5] END .................C=1, gamma=0.11421052631578947; total time=   0.2s\n",
      "[CV 2/5] END .................C=1, gamma=0.11421052631578947; total time=   0.2s\n",
      "[CV 3/5] END .................C=1, gamma=0.11421052631578947; total time=   0.2s\n",
      "[CV 4/5] END .................C=1, gamma=0.11421052631578947; total time=   0.2s\n",
      "[CV 5/5] END .................C=1, gamma=0.11421052631578947; total time=   0.2s\n",
      "[CV 1/5] END .................C=1, gamma=0.16631578947368422; total time=   0.2s\n",
      "[CV 2/5] END .................C=1, gamma=0.16631578947368422; total time=   0.2s\n",
      "[CV 3/5] END .................C=1, gamma=0.16631578947368422; total time=   0.2s\n",
      "[CV 4/5] END .................C=1, gamma=0.16631578947368422; total time=   0.2s\n",
      "[CV 5/5] END .................C=1, gamma=0.16631578947368422; total time=   0.2s\n",
      "[CV 1/5] END .................C=1, gamma=0.21842105263157896; total time=   0.2s\n",
      "[CV 2/5] END .................C=1, gamma=0.21842105263157896; total time=   0.2s\n",
      "[CV 3/5] END .................C=1, gamma=0.21842105263157896; total time=   0.2s\n",
      "[CV 4/5] END .................C=1, gamma=0.21842105263157896; total time=   0.2s\n",
      "[CV 5/5] END .................C=1, gamma=0.21842105263157896; total time=   0.2s\n",
      "[CV 1/5] END ..................C=1, gamma=0.2705263157894737; total time=   0.3s\n",
      "[CV 2/5] END ..................C=1, gamma=0.2705263157894737; total time=   0.2s\n",
      "[CV 3/5] END ..................C=1, gamma=0.2705263157894737; total time=   0.2s\n",
      "[CV 4/5] END ..................C=1, gamma=0.2705263157894737; total time=   0.2s\n",
      "[CV 5/5] END ..................C=1, gamma=0.2705263157894737; total time=   0.2s\n",
      "[CV 1/5] END .................C=1, gamma=0.32263157894736844; total time=   0.2s\n",
      "[CV 2/5] END .................C=1, gamma=0.32263157894736844; total time=   0.1s\n",
      "[CV 3/5] END .................C=1, gamma=0.32263157894736844; total time=   0.2s\n",
      "[CV 4/5] END .................C=1, gamma=0.32263157894736844; total time=   0.2s\n",
      "[CV 5/5] END .................C=1, gamma=0.32263157894736844; total time=   0.2s\n",
      "[CV 1/5] END .................C=1, gamma=0.37473684210526315; total time=   0.2s\n",
      "[CV 2/5] END .................C=1, gamma=0.37473684210526315; total time=   0.1s\n",
      "[CV 3/5] END .................C=1, gamma=0.37473684210526315; total time=   0.1s\n",
      "[CV 4/5] END .................C=1, gamma=0.37473684210526315; total time=   0.1s\n",
      "[CV 5/5] END .................C=1, gamma=0.37473684210526315; total time=   0.1s\n",
      "[CV 1/5] END ..................C=1, gamma=0.4268421052631579; total time=   0.1s\n",
      "[CV 2/5] END ..................C=1, gamma=0.4268421052631579; total time=   0.1s\n",
      "[CV 3/5] END ..................C=1, gamma=0.4268421052631579; total time=   0.2s\n",
      "[CV 4/5] END ..................C=1, gamma=0.4268421052631579; total time=   0.1s\n",
      "[CV 5/5] END ..................C=1, gamma=0.4268421052631579; total time=   0.1s\n",
      "[CV 1/5] END ..................C=1, gamma=0.4789473684210527; total time=   0.2s\n",
      "[CV 2/5] END ..................C=1, gamma=0.4789473684210527; total time=   0.3s\n",
      "[CV 3/5] END ..................C=1, gamma=0.4789473684210527; total time=   0.2s\n",
      "[CV 4/5] END ..................C=1, gamma=0.4789473684210527; total time=   0.2s\n",
      "[CV 5/5] END ..................C=1, gamma=0.4789473684210527; total time=   0.2s\n",
      "[CV 1/5] END ..................C=1, gamma=0.5310526315789474; total time=   0.1s\n",
      "[CV 2/5] END ..................C=1, gamma=0.5310526315789474; total time=   0.1s\n",
      "[CV 3/5] END ..................C=1, gamma=0.5310526315789474; total time=   0.1s\n",
      "[CV 4/5] END ..................C=1, gamma=0.5310526315789474; total time=   0.1s\n",
      "[CV 5/5] END ..................C=1, gamma=0.5310526315789474; total time=   0.1s\n",
      "[CV 1/5] END ..................C=1, gamma=0.5831578947368421; total time=   0.1s\n",
      "[CV 2/5] END ..................C=1, gamma=0.5831578947368421; total time=   0.1s\n",
      "[CV 3/5] END ..................C=1, gamma=0.5831578947368421; total time=   0.2s\n",
      "[CV 4/5] END ..................C=1, gamma=0.5831578947368421; total time=   0.2s\n",
      "[CV 5/5] END ..................C=1, gamma=0.5831578947368421; total time=   0.1s\n",
      "[CV 1/5] END ..................C=1, gamma=0.6352631578947369; total time=   0.1s\n",
      "[CV 2/5] END ..................C=1, gamma=0.6352631578947369; total time=   0.1s\n",
      "[CV 3/5] END ..................C=1, gamma=0.6352631578947369; total time=   0.1s\n",
      "[CV 4/5] END ..................C=1, gamma=0.6352631578947369; total time=   0.1s\n",
      "[CV 5/5] END ..................C=1, gamma=0.6352631578947369; total time=   0.1s\n",
      "[CV 1/5] END ..................C=1, gamma=0.6873684210526316; total time=   0.1s\n",
      "[CV 2/5] END ..................C=1, gamma=0.6873684210526316; total time=   0.1s\n",
      "[CV 3/5] END ..................C=1, gamma=0.6873684210526316; total time=   0.2s\n",
      "[CV 4/5] END ..................C=1, gamma=0.6873684210526316; total time=   0.3s\n",
      "[CV 5/5] END ..................C=1, gamma=0.6873684210526316; total time=   0.1s\n",
      "[CV 1/5] END ..................C=1, gamma=0.7394736842105263; total time=   0.1s\n",
      "[CV 2/5] END ..................C=1, gamma=0.7394736842105263; total time=   0.1s\n",
      "[CV 3/5] END ..................C=1, gamma=0.7394736842105263; total time=   0.2s\n",
      "[CV 4/5] END ..................C=1, gamma=0.7394736842105263; total time=   0.1s\n",
      "[CV 5/5] END ..................C=1, gamma=0.7394736842105263; total time=   0.1s\n",
      "[CV 1/5] END ...................C=1, gamma=0.791578947368421; total time=   0.1s\n",
      "[CV 2/5] END ...................C=1, gamma=0.791578947368421; total time=   0.1s\n",
      "[CV 3/5] END ...................C=1, gamma=0.791578947368421; total time=   0.1s\n",
      "[CV 4/5] END ...................C=1, gamma=0.791578947368421; total time=   0.1s\n",
      "[CV 5/5] END ...................C=1, gamma=0.791578947368421; total time=   0.1s\n",
      "[CV 1/5] END ..................C=1, gamma=0.8436842105263158; total time=   0.1s\n",
      "[CV 2/5] END ..................C=1, gamma=0.8436842105263158; total time=   0.1s\n",
      "[CV 3/5] END ..................C=1, gamma=0.8436842105263158; total time=   0.2s\n",
      "[CV 4/5] END ..................C=1, gamma=0.8436842105263158; total time=   0.1s\n",
      "[CV 5/5] END ..................C=1, gamma=0.8436842105263158; total time=   0.1s\n",
      "[CV 1/5] END ..................C=1, gamma=0.8957894736842106; total time=   0.1s\n",
      "[CV 2/5] END ..................C=1, gamma=0.8957894736842106; total time=   0.1s\n",
      "[CV 3/5] END ..................C=1, gamma=0.8957894736842106; total time=   0.1s\n",
      "[CV 4/5] END ..................C=1, gamma=0.8957894736842106; total time=   0.2s\n",
      "[CV 5/5] END ..................C=1, gamma=0.8957894736842106; total time=   0.2s\n",
      "[CV 1/5] END ..................C=1, gamma=0.9478947368421053; total time=   0.3s\n",
      "[CV 2/5] END ..................C=1, gamma=0.9478947368421053; total time=   0.2s\n",
      "[CV 3/5] END ..................C=1, gamma=0.9478947368421053; total time=   0.2s\n",
      "[CV 4/5] END ..................C=1, gamma=0.9478947368421053; total time=   0.1s\n",
      "[CV 5/5] END ..................C=1, gamma=0.9478947368421053; total time=   0.2s\n",
      "[CV 1/5] END .................................C=1, gamma=1.0; total time=   0.1s\n",
      "[CV 2/5] END .................................C=1, gamma=1.0; total time=   0.1s\n",
      "[CV 3/5] END .................................C=1, gamma=1.0; total time=   0.1s\n",
      "[CV 4/5] END .................................C=1, gamma=1.0; total time=   0.1s\n",
      "[CV 5/5] END .................................C=1, gamma=1.0; total time=   0.1s\n",
      "[CV 1/5] END ................................C=3, gamma=0.01; total time=   0.2s\n"
     ]
    },
    {
     "name": "stdout",
     "output_type": "stream",
     "text": [
      "[CV 2/5] END ................................C=3, gamma=0.01; total time=   0.2s\n",
      "[CV 3/5] END ................................C=3, gamma=0.01; total time=   0.2s\n",
      "[CV 4/5] END ................................C=3, gamma=0.01; total time=   0.2s\n",
      "[CV 5/5] END ................................C=3, gamma=0.01; total time=   0.2s\n",
      "[CV 1/5] END .................C=3, gamma=0.06210526315789474; total time=   0.2s\n",
      "[CV 2/5] END .................C=3, gamma=0.06210526315789474; total time=   0.2s\n",
      "[CV 3/5] END .................C=3, gamma=0.06210526315789474; total time=   0.2s\n",
      "[CV 4/5] END .................C=3, gamma=0.06210526315789474; total time=   0.2s\n",
      "[CV 5/5] END .................C=3, gamma=0.06210526315789474; total time=   0.2s\n",
      "[CV 1/5] END .................C=3, gamma=0.11421052631578947; total time=   0.3s\n",
      "[CV 2/5] END .................C=3, gamma=0.11421052631578947; total time=   0.2s\n",
      "[CV 3/5] END .................C=3, gamma=0.11421052631578947; total time=   0.2s\n",
      "[CV 4/5] END .................C=3, gamma=0.11421052631578947; total time=   0.1s\n",
      "[CV 5/5] END .................C=3, gamma=0.11421052631578947; total time=   0.2s\n",
      "[CV 1/5] END .................C=3, gamma=0.16631578947368422; total time=   0.1s\n",
      "[CV 2/5] END .................C=3, gamma=0.16631578947368422; total time=   0.2s\n",
      "[CV 3/5] END .................C=3, gamma=0.16631578947368422; total time=   0.1s\n",
      "[CV 4/5] END .................C=3, gamma=0.16631578947368422; total time=   0.1s\n",
      "[CV 5/5] END .................C=3, gamma=0.16631578947368422; total time=   0.2s\n",
      "[CV 1/5] END .................C=3, gamma=0.21842105263157896; total time=   0.1s\n",
      "[CV 2/5] END .................C=3, gamma=0.21842105263157896; total time=   0.1s\n",
      "[CV 3/5] END .................C=3, gamma=0.21842105263157896; total time=   0.1s\n",
      "[CV 4/5] END .................C=3, gamma=0.21842105263157896; total time=   0.1s\n",
      "[CV 5/5] END .................C=3, gamma=0.21842105263157896; total time=   0.1s\n",
      "[CV 1/5] END ..................C=3, gamma=0.2705263157894737; total time=   0.1s\n",
      "[CV 2/5] END ..................C=3, gamma=0.2705263157894737; total time=   0.1s\n",
      "[CV 3/5] END ..................C=3, gamma=0.2705263157894737; total time=   0.1s\n",
      "[CV 4/5] END ..................C=3, gamma=0.2705263157894737; total time=   0.2s\n",
      "[CV 5/5] END ..................C=3, gamma=0.2705263157894737; total time=   0.1s\n",
      "[CV 1/5] END .................C=3, gamma=0.32263157894736844; total time=   0.1s\n",
      "[CV 2/5] END .................C=3, gamma=0.32263157894736844; total time=   0.2s\n",
      "[CV 3/5] END .................C=3, gamma=0.32263157894736844; total time=   0.2s\n",
      "[CV 4/5] END .................C=3, gamma=0.32263157894736844; total time=   0.1s\n",
      "[CV 5/5] END .................C=3, gamma=0.32263157894736844; total time=   0.1s\n",
      "[CV 1/5] END .................C=3, gamma=0.37473684210526315; total time=   0.1s\n",
      "[CV 2/5] END .................C=3, gamma=0.37473684210526315; total time=   0.1s\n",
      "[CV 3/5] END .................C=3, gamma=0.37473684210526315; total time=   0.1s\n",
      "[CV 4/5] END .................C=3, gamma=0.37473684210526315; total time=   0.1s\n",
      "[CV 5/5] END .................C=3, gamma=0.37473684210526315; total time=   0.1s\n",
      "[CV 1/5] END ..................C=3, gamma=0.4268421052631579; total time=   0.1s\n",
      "[CV 2/5] END ..................C=3, gamma=0.4268421052631579; total time=   0.2s\n",
      "[CV 3/5] END ..................C=3, gamma=0.4268421052631579; total time=   0.1s\n",
      "[CV 4/5] END ..................C=3, gamma=0.4268421052631579; total time=   0.1s\n",
      "[CV 5/5] END ..................C=3, gamma=0.4268421052631579; total time=   0.1s\n",
      "[CV 1/5] END ..................C=3, gamma=0.4789473684210527; total time=   0.1s\n",
      "[CV 2/5] END ..................C=3, gamma=0.4789473684210527; total time=   0.1s\n",
      "[CV 3/5] END ..................C=3, gamma=0.4789473684210527; total time=   0.1s\n",
      "[CV 4/5] END ..................C=3, gamma=0.4789473684210527; total time=   0.1s\n",
      "[CV 5/5] END ..................C=3, gamma=0.4789473684210527; total time=   0.1s\n",
      "[CV 1/5] END ..................C=3, gamma=0.5310526315789474; total time=   0.1s\n",
      "[CV 2/5] END ..................C=3, gamma=0.5310526315789474; total time=   0.1s\n",
      "[CV 3/5] END ..................C=3, gamma=0.5310526315789474; total time=   0.1s\n",
      "[CV 4/5] END ..................C=3, gamma=0.5310526315789474; total time=   0.1s\n",
      "[CV 5/5] END ..................C=3, gamma=0.5310526315789474; total time=   0.2s\n",
      "[CV 1/5] END ..................C=3, gamma=0.5831578947368421; total time=   0.2s\n",
      "[CV 2/5] END ..................C=3, gamma=0.5831578947368421; total time=   0.1s\n",
      "[CV 3/5] END ..................C=3, gamma=0.5831578947368421; total time=   0.1s\n",
      "[CV 4/5] END ..................C=3, gamma=0.5831578947368421; total time=   0.1s\n",
      "[CV 5/5] END ..................C=3, gamma=0.5831578947368421; total time=   0.1s\n",
      "[CV 1/5] END ..................C=3, gamma=0.6352631578947369; total time=   0.1s\n",
      "[CV 2/5] END ..................C=3, gamma=0.6352631578947369; total time=   0.1s\n",
      "[CV 3/5] END ..................C=3, gamma=0.6352631578947369; total time=   0.1s\n",
      "[CV 4/5] END ..................C=3, gamma=0.6352631578947369; total time=   0.1s\n",
      "[CV 5/5] END ..................C=3, gamma=0.6352631578947369; total time=   0.1s\n",
      "[CV 1/5] END ..................C=3, gamma=0.6873684210526316; total time=   0.1s\n",
      "[CV 2/5] END ..................C=3, gamma=0.6873684210526316; total time=   0.1s\n",
      "[CV 3/5] END ..................C=3, gamma=0.6873684210526316; total time=   0.1s\n",
      "[CV 4/5] END ..................C=3, gamma=0.6873684210526316; total time=   0.1s\n",
      "[CV 5/5] END ..................C=3, gamma=0.6873684210526316; total time=   0.1s\n",
      "[CV 1/5] END ..................C=3, gamma=0.7394736842105263; total time=   0.1s\n",
      "[CV 2/5] END ..................C=3, gamma=0.7394736842105263; total time=   0.1s\n",
      "[CV 3/5] END ..................C=3, gamma=0.7394736842105263; total time=   0.1s\n",
      "[CV 4/5] END ..................C=3, gamma=0.7394736842105263; total time=   0.1s\n",
      "[CV 5/5] END ..................C=3, gamma=0.7394736842105263; total time=   0.1s\n",
      "[CV 1/5] END ...................C=3, gamma=0.791578947368421; total time=   0.1s\n",
      "[CV 2/5] END ...................C=3, gamma=0.791578947368421; total time=   0.1s\n",
      "[CV 3/5] END ...................C=3, gamma=0.791578947368421; total time=   0.1s\n",
      "[CV 4/5] END ...................C=3, gamma=0.791578947368421; total time=   0.2s\n",
      "[CV 5/5] END ...................C=3, gamma=0.791578947368421; total time=   0.2s\n",
      "[CV 1/5] END ..................C=3, gamma=0.8436842105263158; total time=   0.1s\n",
      "[CV 2/5] END ..................C=3, gamma=0.8436842105263158; total time=   0.1s\n",
      "[CV 3/5] END ..................C=3, gamma=0.8436842105263158; total time=   0.1s\n",
      "[CV 4/5] END ..................C=3, gamma=0.8436842105263158; total time=   0.1s\n",
      "[CV 5/5] END ..................C=3, gamma=0.8436842105263158; total time=   0.1s\n",
      "[CV 1/5] END ..................C=3, gamma=0.8957894736842106; total time=   0.1s\n",
      "[CV 2/5] END ..................C=3, gamma=0.8957894736842106; total time=   0.1s\n",
      "[CV 3/5] END ..................C=3, gamma=0.8957894736842106; total time=   0.1s\n",
      "[CV 4/5] END ..................C=3, gamma=0.8957894736842106; total time=   0.1s\n",
      "[CV 5/5] END ..................C=3, gamma=0.8957894736842106; total time=   0.1s\n",
      "[CV 1/5] END ..................C=3, gamma=0.9478947368421053; total time=   0.1s\n",
      "[CV 2/5] END ..................C=3, gamma=0.9478947368421053; total time=   0.1s\n",
      "[CV 3/5] END ..................C=3, gamma=0.9478947368421053; total time=   0.1s\n",
      "[CV 4/5] END ..................C=3, gamma=0.9478947368421053; total time=   0.1s\n",
      "[CV 5/5] END ..................C=3, gamma=0.9478947368421053; total time=   0.1s\n",
      "[CV 1/5] END .................................C=3, gamma=1.0; total time=   0.1s\n",
      "[CV 2/5] END .................................C=3, gamma=1.0; total time=   0.1s\n",
      "[CV 3/5] END .................................C=3, gamma=1.0; total time=   0.1s\n",
      "[CV 4/5] END .................................C=3, gamma=1.0; total time=   0.1s\n",
      "[CV 5/5] END .................................C=3, gamma=1.0; total time=   0.1s\n",
      "[CV 1/5] END ................................C=5, gamma=0.01; total time=   0.2s\n",
      "[CV 2/5] END ................................C=5, gamma=0.01; total time=   0.3s\n",
      "[CV 3/5] END ................................C=5, gamma=0.01; total time=   0.4s\n"
     ]
    },
    {
     "name": "stdout",
     "output_type": "stream",
     "text": [
      "[CV 4/5] END ................................C=5, gamma=0.01; total time=   0.2s\n",
      "[CV 5/5] END ................................C=5, gamma=0.01; total time=   0.3s\n",
      "[CV 1/5] END .................C=5, gamma=0.06210526315789474; total time=   0.2s\n",
      "[CV 2/5] END .................C=5, gamma=0.06210526315789474; total time=   0.1s\n",
      "[CV 3/5] END .................C=5, gamma=0.06210526315789474; total time=   0.2s\n",
      "[CV 4/5] END .................C=5, gamma=0.06210526315789474; total time=   0.2s\n",
      "[CV 5/5] END .................C=5, gamma=0.06210526315789474; total time=   0.2s\n",
      "[CV 1/5] END .................C=5, gamma=0.11421052631578947; total time=   0.1s\n",
      "[CV 2/5] END .................C=5, gamma=0.11421052631578947; total time=   0.2s\n",
      "[CV 3/5] END .................C=5, gamma=0.11421052631578947; total time=   0.1s\n",
      "[CV 4/5] END .................C=5, gamma=0.11421052631578947; total time=   0.2s\n",
      "[CV 5/5] END .................C=5, gamma=0.11421052631578947; total time=   0.3s\n",
      "[CV 1/5] END .................C=5, gamma=0.16631578947368422; total time=   0.2s\n",
      "[CV 2/5] END .................C=5, gamma=0.16631578947368422; total time=   0.2s\n",
      "[CV 3/5] END .................C=5, gamma=0.16631578947368422; total time=   0.2s\n",
      "[CV 4/5] END .................C=5, gamma=0.16631578947368422; total time=   0.1s\n",
      "[CV 5/5] END .................C=5, gamma=0.16631578947368422; total time=   0.1s\n",
      "[CV 1/5] END .................C=5, gamma=0.21842105263157896; total time=   0.1s\n",
      "[CV 2/5] END .................C=5, gamma=0.21842105263157896; total time=   0.2s\n",
      "[CV 3/5] END .................C=5, gamma=0.21842105263157896; total time=   0.2s\n",
      "[CV 4/5] END .................C=5, gamma=0.21842105263157896; total time=   0.1s\n",
      "[CV 5/5] END .................C=5, gamma=0.21842105263157896; total time=   0.1s\n",
      "[CV 1/5] END ..................C=5, gamma=0.2705263157894737; total time=   0.1s\n",
      "[CV 2/5] END ..................C=5, gamma=0.2705263157894737; total time=   0.1s\n",
      "[CV 3/5] END ..................C=5, gamma=0.2705263157894737; total time=   0.1s\n",
      "[CV 4/5] END ..................C=5, gamma=0.2705263157894737; total time=   0.1s\n",
      "[CV 5/5] END ..................C=5, gamma=0.2705263157894737; total time=   0.1s\n",
      "[CV 1/5] END .................C=5, gamma=0.32263157894736844; total time=   0.1s\n",
      "[CV 2/5] END .................C=5, gamma=0.32263157894736844; total time=   0.1s\n",
      "[CV 3/5] END .................C=5, gamma=0.32263157894736844; total time=   0.1s\n",
      "[CV 4/5] END .................C=5, gamma=0.32263157894736844; total time=   0.1s\n",
      "[CV 5/5] END .................C=5, gamma=0.32263157894736844; total time=   0.1s\n",
      "[CV 1/5] END .................C=5, gamma=0.37473684210526315; total time=   0.1s\n",
      "[CV 2/5] END .................C=5, gamma=0.37473684210526315; total time=   0.1s\n",
      "[CV 3/5] END .................C=5, gamma=0.37473684210526315; total time=   0.1s\n",
      "[CV 4/5] END .................C=5, gamma=0.37473684210526315; total time=   0.1s\n",
      "[CV 5/5] END .................C=5, gamma=0.37473684210526315; total time=   0.1s\n",
      "[CV 1/5] END ..................C=5, gamma=0.4268421052631579; total time=   0.1s\n",
      "[CV 2/5] END ..................C=5, gamma=0.4268421052631579; total time=   0.1s\n",
      "[CV 3/5] END ..................C=5, gamma=0.4268421052631579; total time=   0.1s\n",
      "[CV 4/5] END ..................C=5, gamma=0.4268421052631579; total time=   0.1s\n",
      "[CV 5/5] END ..................C=5, gamma=0.4268421052631579; total time=   0.2s\n",
      "[CV 1/5] END ..................C=5, gamma=0.4789473684210527; total time=   0.2s\n",
      "[CV 2/5] END ..................C=5, gamma=0.4789473684210527; total time=   0.1s\n",
      "[CV 3/5] END ..................C=5, gamma=0.4789473684210527; total time=   0.1s\n",
      "[CV 4/5] END ..................C=5, gamma=0.4789473684210527; total time=   0.1s\n",
      "[CV 5/5] END ..................C=5, gamma=0.4789473684210527; total time=   0.1s\n",
      "[CV 1/5] END ..................C=5, gamma=0.5310526315789474; total time=   0.1s\n",
      "[CV 2/5] END ..................C=5, gamma=0.5310526315789474; total time=   0.1s\n",
      "[CV 3/5] END ..................C=5, gamma=0.5310526315789474; total time=   0.1s\n",
      "[CV 4/5] END ..................C=5, gamma=0.5310526315789474; total time=   0.1s\n",
      "[CV 5/5] END ..................C=5, gamma=0.5310526315789474; total time=   0.1s\n",
      "[CV 1/5] END ..................C=5, gamma=0.5831578947368421; total time=   0.1s\n",
      "[CV 2/5] END ..................C=5, gamma=0.5831578947368421; total time=   0.1s\n",
      "[CV 3/5] END ..................C=5, gamma=0.5831578947368421; total time=   0.1s\n",
      "[CV 4/5] END ..................C=5, gamma=0.5831578947368421; total time=   0.1s\n",
      "[CV 5/5] END ..................C=5, gamma=0.5831578947368421; total time=   0.1s\n",
      "[CV 1/5] END ..................C=5, gamma=0.6352631578947369; total time=   0.1s\n",
      "[CV 2/5] END ..................C=5, gamma=0.6352631578947369; total time=   0.1s\n",
      "[CV 3/5] END ..................C=5, gamma=0.6352631578947369; total time=   0.1s\n",
      "[CV 4/5] END ..................C=5, gamma=0.6352631578947369; total time=   0.1s\n",
      "[CV 5/5] END ..................C=5, gamma=0.6352631578947369; total time=   0.1s\n",
      "[CV 1/5] END ..................C=5, gamma=0.6873684210526316; total time=   0.1s\n",
      "[CV 2/5] END ..................C=5, gamma=0.6873684210526316; total time=   0.1s\n",
      "[CV 3/5] END ..................C=5, gamma=0.6873684210526316; total time=   0.1s\n",
      "[CV 4/5] END ..................C=5, gamma=0.6873684210526316; total time=   0.2s\n",
      "[CV 5/5] END ..................C=5, gamma=0.6873684210526316; total time=   0.2s\n",
      "[CV 1/5] END ..................C=5, gamma=0.7394736842105263; total time=   0.1s\n",
      "[CV 2/5] END ..................C=5, gamma=0.7394736842105263; total time=   0.1s\n",
      "[CV 3/5] END ..................C=5, gamma=0.7394736842105263; total time=   0.1s\n",
      "[CV 4/5] END ..................C=5, gamma=0.7394736842105263; total time=   0.1s\n",
      "[CV 5/5] END ..................C=5, gamma=0.7394736842105263; total time=   0.1s\n",
      "[CV 1/5] END ...................C=5, gamma=0.791578947368421; total time=   0.1s\n",
      "[CV 2/5] END ...................C=5, gamma=0.791578947368421; total time=   0.1s\n",
      "[CV 3/5] END ...................C=5, gamma=0.791578947368421; total time=   0.1s\n",
      "[CV 4/5] END ...................C=5, gamma=0.791578947368421; total time=   0.1s\n",
      "[CV 5/5] END ...................C=5, gamma=0.791578947368421; total time=   0.1s\n",
      "[CV 1/5] END ..................C=5, gamma=0.8436842105263158; total time=   0.1s\n",
      "[CV 2/5] END ..................C=5, gamma=0.8436842105263158; total time=   0.1s\n",
      "[CV 3/5] END ..................C=5, gamma=0.8436842105263158; total time=   0.1s\n",
      "[CV 4/5] END ..................C=5, gamma=0.8436842105263158; total time=   0.1s\n",
      "[CV 5/5] END ..................C=5, gamma=0.8436842105263158; total time=   0.1s\n",
      "[CV 1/5] END ..................C=5, gamma=0.8957894736842106; total time=   0.1s\n",
      "[CV 2/5] END ..................C=5, gamma=0.8957894736842106; total time=   0.1s\n",
      "[CV 3/5] END ..................C=5, gamma=0.8957894736842106; total time=   0.1s\n",
      "[CV 4/5] END ..................C=5, gamma=0.8957894736842106; total time=   0.1s\n",
      "[CV 5/5] END ..................C=5, gamma=0.8957894736842106; total time=   0.1s\n",
      "[CV 1/5] END ..................C=5, gamma=0.9478947368421053; total time=   0.1s\n",
      "[CV 2/5] END ..................C=5, gamma=0.9478947368421053; total time=   0.1s\n",
      "[CV 3/5] END ..................C=5, gamma=0.9478947368421053; total time=   0.1s\n",
      "[CV 4/5] END ..................C=5, gamma=0.9478947368421053; total time=   0.1s\n",
      "[CV 5/5] END ..................C=5, gamma=0.9478947368421053; total time=   0.2s\n",
      "[CV 1/5] END .................................C=5, gamma=1.0; total time=   0.2s\n",
      "[CV 2/5] END .................................C=5, gamma=1.0; total time=   0.1s\n",
      "[CV 3/5] END .................................C=5, gamma=1.0; total time=   0.1s\n",
      "[CV 4/5] END .................................C=5, gamma=1.0; total time=   0.1s\n",
      "[CV 5/5] END .................................C=5, gamma=1.0; total time=   0.1s\n",
      "[CV 1/5] END ...............................C=10, gamma=0.01; total time=   0.2s\n",
      "[CV 2/5] END ...............................C=10, gamma=0.01; total time=   0.2s\n",
      "[CV 3/5] END ...............................C=10, gamma=0.01; total time=   0.2s\n",
      "[CV 4/5] END ...............................C=10, gamma=0.01; total time=   0.2s\n",
      "[CV 5/5] END ...............................C=10, gamma=0.01; total time=   0.2s\n"
     ]
    },
    {
     "name": "stdout",
     "output_type": "stream",
     "text": [
      "[CV 1/5] END ................C=10, gamma=0.06210526315789474; total time=   0.1s\n",
      "[CV 2/5] END ................C=10, gamma=0.06210526315789474; total time=   0.1s\n",
      "[CV 3/5] END ................C=10, gamma=0.06210526315789474; total time=   0.2s\n",
      "[CV 4/5] END ................C=10, gamma=0.06210526315789474; total time=   0.2s\n",
      "[CV 5/5] END ................C=10, gamma=0.06210526315789474; total time=   0.1s\n",
      "[CV 1/5] END ................C=10, gamma=0.11421052631578947; total time=   0.1s\n",
      "[CV 2/5] END ................C=10, gamma=0.11421052631578947; total time=   0.1s\n",
      "[CV 3/5] END ................C=10, gamma=0.11421052631578947; total time=   0.1s\n",
      "[CV 4/5] END ................C=10, gamma=0.11421052631578947; total time=   0.1s\n",
      "[CV 5/5] END ................C=10, gamma=0.11421052631578947; total time=   0.1s\n",
      "[CV 1/5] END ................C=10, gamma=0.16631578947368422; total time=   0.1s\n",
      "[CV 2/5] END ................C=10, gamma=0.16631578947368422; total time=   0.2s\n",
      "[CV 3/5] END ................C=10, gamma=0.16631578947368422; total time=   0.2s\n",
      "[CV 4/5] END ................C=10, gamma=0.16631578947368422; total time=   0.1s\n",
      "[CV 5/5] END ................C=10, gamma=0.16631578947368422; total time=   0.1s\n",
      "[CV 1/5] END ................C=10, gamma=0.21842105263157896; total time=   0.1s\n",
      "[CV 2/5] END ................C=10, gamma=0.21842105263157896; total time=   0.1s\n",
      "[CV 3/5] END ................C=10, gamma=0.21842105263157896; total time=   0.1s\n",
      "[CV 4/5] END ................C=10, gamma=0.21842105263157896; total time=   0.1s\n",
      "[CV 5/5] END ................C=10, gamma=0.21842105263157896; total time=   0.1s\n",
      "[CV 1/5] END .................C=10, gamma=0.2705263157894737; total time=   0.1s\n",
      "[CV 2/5] END .................C=10, gamma=0.2705263157894737; total time=   0.1s\n",
      "[CV 3/5] END .................C=10, gamma=0.2705263157894737; total time=   0.1s\n",
      "[CV 4/5] END .................C=10, gamma=0.2705263157894737; total time=   0.1s\n",
      "[CV 5/5] END .................C=10, gamma=0.2705263157894737; total time=   0.1s\n",
      "[CV 1/5] END ................C=10, gamma=0.32263157894736844; total time=   0.1s\n",
      "[CV 2/5] END ................C=10, gamma=0.32263157894736844; total time=   0.1s\n",
      "[CV 3/5] END ................C=10, gamma=0.32263157894736844; total time=   0.1s\n",
      "[CV 4/5] END ................C=10, gamma=0.32263157894736844; total time=   0.1s\n",
      "[CV 5/5] END ................C=10, gamma=0.32263157894736844; total time=   0.2s\n",
      "[CV 1/5] END ................C=10, gamma=0.37473684210526315; total time=   0.1s\n",
      "[CV 2/5] END ................C=10, gamma=0.37473684210526315; total time=   0.1s\n",
      "[CV 3/5] END ................C=10, gamma=0.37473684210526315; total time=   0.1s\n",
      "[CV 4/5] END ................C=10, gamma=0.37473684210526315; total time=   0.1s\n",
      "[CV 5/5] END ................C=10, gamma=0.37473684210526315; total time=   0.1s\n",
      "[CV 1/5] END .................C=10, gamma=0.4268421052631579; total time=   0.2s\n",
      "[CV 2/5] END .................C=10, gamma=0.4268421052631579; total time=   0.2s\n",
      "[CV 3/5] END .................C=10, gamma=0.4268421052631579; total time=   0.1s\n",
      "[CV 4/5] END .................C=10, gamma=0.4268421052631579; total time=   0.1s\n",
      "[CV 5/5] END .................C=10, gamma=0.4268421052631579; total time=   0.1s\n",
      "[CV 1/5] END .................C=10, gamma=0.4789473684210527; total time=   0.1s\n",
      "[CV 2/5] END .................C=10, gamma=0.4789473684210527; total time=   0.1s\n",
      "[CV 3/5] END .................C=10, gamma=0.4789473684210527; total time=   0.1s\n",
      "[CV 4/5] END .................C=10, gamma=0.4789473684210527; total time=   0.1s\n",
      "[CV 5/5] END .................C=10, gamma=0.4789473684210527; total time=   0.1s\n",
      "[CV 1/5] END .................C=10, gamma=0.5310526315789474; total time=   0.1s\n",
      "[CV 2/5] END .................C=10, gamma=0.5310526315789474; total time=   0.1s\n",
      "[CV 3/5] END .................C=10, gamma=0.5310526315789474; total time=   0.1s\n",
      "[CV 4/5] END .................C=10, gamma=0.5310526315789474; total time=   0.1s\n",
      "[CV 5/5] END .................C=10, gamma=0.5310526315789474; total time=   0.1s\n",
      "[CV 1/5] END .................C=10, gamma=0.5831578947368421; total time=   0.1s\n",
      "[CV 2/5] END .................C=10, gamma=0.5831578947368421; total time=   0.1s\n",
      "[CV 3/5] END .................C=10, gamma=0.5831578947368421; total time=   0.1s\n",
      "[CV 4/5] END .................C=10, gamma=0.5831578947368421; total time=   0.1s\n",
      "[CV 5/5] END .................C=10, gamma=0.5831578947368421; total time=   0.1s\n",
      "[CV 1/5] END .................C=10, gamma=0.6352631578947369; total time=   0.1s\n",
      "[CV 2/5] END .................C=10, gamma=0.6352631578947369; total time=   0.1s\n",
      "[CV 3/5] END .................C=10, gamma=0.6352631578947369; total time=   0.1s\n",
      "[CV 4/5] END .................C=10, gamma=0.6352631578947369; total time=   0.1s\n",
      "[CV 5/5] END .................C=10, gamma=0.6352631578947369; total time=   0.1s\n",
      "[CV 1/5] END .................C=10, gamma=0.6873684210526316; total time=   0.2s\n",
      "[CV 2/5] END .................C=10, gamma=0.6873684210526316; total time=   0.2s\n",
      "[CV 3/5] END .................C=10, gamma=0.6873684210526316; total time=   0.1s\n",
      "[CV 4/5] END .................C=10, gamma=0.6873684210526316; total time=   0.1s\n",
      "[CV 5/5] END .................C=10, gamma=0.6873684210526316; total time=   0.1s\n",
      "[CV 1/5] END .................C=10, gamma=0.7394736842105263; total time=   0.1s\n",
      "[CV 2/5] END .................C=10, gamma=0.7394736842105263; total time=   0.1s\n",
      "[CV 3/5] END .................C=10, gamma=0.7394736842105263; total time=   0.1s\n",
      "[CV 4/5] END .................C=10, gamma=0.7394736842105263; total time=   0.1s\n",
      "[CV 5/5] END .................C=10, gamma=0.7394736842105263; total time=   0.1s\n",
      "[CV 1/5] END ..................C=10, gamma=0.791578947368421; total time=   0.1s\n",
      "[CV 2/5] END ..................C=10, gamma=0.791578947368421; total time=   0.1s\n",
      "[CV 3/5] END ..................C=10, gamma=0.791578947368421; total time=   0.1s\n",
      "[CV 4/5] END ..................C=10, gamma=0.791578947368421; total time=   0.1s\n",
      "[CV 5/5] END ..................C=10, gamma=0.791578947368421; total time=   0.1s\n",
      "[CV 1/5] END .................C=10, gamma=0.8436842105263158; total time=   0.1s\n",
      "[CV 2/5] END .................C=10, gamma=0.8436842105263158; total time=   0.1s\n",
      "[CV 3/5] END .................C=10, gamma=0.8436842105263158; total time=   0.1s\n",
      "[CV 4/5] END .................C=10, gamma=0.8436842105263158; total time=   0.1s\n",
      "[CV 5/5] END .................C=10, gamma=0.8436842105263158; total time=   0.1s\n",
      "[CV 1/5] END .................C=10, gamma=0.8957894736842106; total time=   0.1s\n",
      "[CV 2/5] END .................C=10, gamma=0.8957894736842106; total time=   0.1s\n",
      "[CV 3/5] END .................C=10, gamma=0.8957894736842106; total time=   0.1s\n",
      "[CV 4/5] END .................C=10, gamma=0.8957894736842106; total time=   0.1s\n",
      "[CV 5/5] END .................C=10, gamma=0.8957894736842106; total time=   0.1s\n",
      "[CV 1/5] END .................C=10, gamma=0.9478947368421053; total time=   0.1s\n",
      "[CV 2/5] END .................C=10, gamma=0.9478947368421053; total time=   0.2s\n",
      "[CV 3/5] END .................C=10, gamma=0.9478947368421053; total time=   0.2s\n",
      "[CV 4/5] END .................C=10, gamma=0.9478947368421053; total time=   0.1s\n",
      "[CV 5/5] END .................C=10, gamma=0.9478947368421053; total time=   0.1s\n",
      "[CV 1/5] END ................................C=10, gamma=1.0; total time=   0.1s\n",
      "[CV 2/5] END ................................C=10, gamma=1.0; total time=   0.1s\n",
      "[CV 3/5] END ................................C=10, gamma=1.0; total time=   0.1s\n",
      "[CV 4/5] END ................................C=10, gamma=1.0; total time=   0.1s\n",
      "[CV 5/5] END ................................C=10, gamma=1.0; total time=   0.1s\n"
     ]
    },
    {
     "data": {
      "text/plain": [
       "GridSearchCV(cv=5, estimator=SVC(),\n",
       "             param_grid={'C': [1, 3, 5, 10],\n",
       "                         'gamma': array([0.01      , 0.06210526, 0.11421053, 0.16631579, 0.21842105,\n",
       "       0.27052632, 0.32263158, 0.37473684, 0.42684211, 0.47894737,\n",
       "       0.53105263, 0.58315789, 0.63526316, 0.68736842, 0.73947368,\n",
       "       0.79157895, 0.84368421, 0.89578947, 0.94789474, 1.        ])},\n",
       "             verbose=3)"
      ]
     },
     "execution_count": 189,
     "metadata": {},
     "output_type": "execute_result"
    }
   ],
   "source": [
    "m_gs.fit(x_train_s, y_train)"
   ]
  },
  {
   "cell_type": "code",
   "execution_count": 190,
   "id": "e1deb728",
   "metadata": {
    "scrolled": false
   },
   "outputs": [
    {
     "data": {
      "text/plain": [
       "0.8307367811890838"
      ]
     },
     "execution_count": 190,
     "metadata": {},
     "output_type": "execute_result"
    }
   ],
   "source": [
    "m_gs.best_score_"
   ]
  },
  {
   "cell_type": "code",
   "execution_count": 192,
   "id": "d0ea103c",
   "metadata": {
    "collapsed": true
   },
   "outputs": [
    {
     "data": {
      "text/plain": [
       "{'mean_fit_time': array([0.24080949, 0.22139993, 0.19255061, 0.17687893, 0.18206263,\n",
       "        0.19411545, 0.17601008, 0.16448569, 0.1638114 , 0.18499446,\n",
       "        0.15811968, 0.16388006, 0.15714855, 0.18186874, 0.15814204,\n",
       "        0.15592122, 0.15572848, 0.15718184, 0.18199482, 0.15178132,\n",
       "        0.21809535, 0.17973433, 0.18466015, 0.16532917, 0.15719762,\n",
       "        0.15739479, 0.178479  , 0.15254269, 0.15540662, 0.15000801,\n",
       "        0.15695562, 0.16279645, 0.14975591, 0.15091691, 0.14959731,\n",
       "        0.17276883, 0.15043044, 0.1472374 , 0.14758291, 0.14866018,\n",
       "        0.22144275, 0.16808014, 0.17692561, 0.1866951 , 0.18296885,\n",
       "        0.15589724, 0.15162973, 0.15030684, 0.1613112 , 0.15900602,\n",
       "        0.14918928, 0.14395938, 0.14285822, 0.16113844, 0.15199504,\n",
       "        0.14037066, 0.14514513, 0.13971577, 0.1526495 , 0.15321126,\n",
       "        0.1879252 , 0.16358724, 0.15483942, 0.17867584, 0.15269289,\n",
       "        0.14284797, 0.1477283 , 0.15332079, 0.17402992, 0.14284706,\n",
       "        0.14022255, 0.14520421, 0.14531364, 0.15930524, 0.13649869,\n",
       "        0.13937736, 0.13976269, 0.13490534, 0.15741677, 0.13342085]),\n",
       " 'std_fit_time': array([0.01034354, 0.03830991, 0.01427827, 0.00385184, 0.00394625,\n",
       "        0.03842326, 0.00983296, 0.00914025, 0.00581572, 0.03590821,\n",
       "        0.00495023, 0.00852953, 0.00512719, 0.03560501, 0.00493693,\n",
       "        0.00572368, 0.01079683, 0.00626805, 0.03476645, 0.00449811,\n",
       "        0.00110663, 0.00854716, 0.03236308, 0.00547074, 0.00233298,\n",
       "        0.00667279, 0.03620314, 0.00461909, 0.00941928, 0.0063358 ,\n",
       "        0.01165089, 0.02918479, 0.00475444, 0.00736996, 0.00689088,\n",
       "        0.03072595, 0.00674118, 0.00453474, 0.00781506, 0.00515578,\n",
       "        0.04313279, 0.00749812, 0.03110993, 0.03170726, 0.03564781,\n",
       "        0.00438362, 0.00573383, 0.00887601, 0.02255233, 0.02943078,\n",
       "        0.00752795, 0.0079756 , 0.00308893, 0.03446808, 0.01342998,\n",
       "        0.00440188, 0.00410403, 0.0026968 , 0.02456049, 0.02939081,\n",
       "        0.00293768, 0.00836412, 0.00411596, 0.03359953, 0.00603459,\n",
       "        0.00362069, 0.01164587, 0.01404548, 0.03658004, 0.008374  ,\n",
       "        0.00370213, 0.00661029, 0.01140458, 0.02582422, 0.00781438,\n",
       "        0.00773101, 0.00262448, 0.00670092, 0.02720884, 0.00147558]),\n",
       " 'mean_score_time': array([0.11680474, 0.11600938, 0.10140901, 0.09543352, 0.09714651,\n",
       "        0.09847422, 0.08866634, 0.08426261, 0.08485799, 0.10722475,\n",
       "        0.08260541, 0.08186307, 0.08040895, 0.09829016, 0.08083739,\n",
       "        0.07865295, 0.07848611, 0.0853838 , 0.09638462, 0.07956033,\n",
       "        0.11274018, 0.10177913, 0.09654388, 0.08380079, 0.08040628,\n",
       "        0.08413815, 0.09142914, 0.076578  , 0.07723413, 0.07464676,\n",
       "        0.08532748, 0.0822876 , 0.07301178, 0.07527089, 0.07005405,\n",
       "        0.09236064, 0.0721921 , 0.07138715, 0.07170768, 0.07033224,\n",
       "        0.13539858, 0.08623586, 0.09515638, 0.09385829, 0.08841996,\n",
       "        0.07676129, 0.07684851, 0.07366524, 0.08124514, 0.07714734,\n",
       "        0.07217093, 0.07140188, 0.06872354, 0.08821435, 0.07053409,\n",
       "        0.06851153, 0.06741114, 0.06695251, 0.07623692, 0.07006197,\n",
       "        0.09659929, 0.08113461, 0.07669706, 0.09250526, 0.0737782 ,\n",
       "        0.07082586, 0.07352071, 0.06842031, 0.07930245, 0.06772618,\n",
       "        0.06640649, 0.06837111, 0.06376872, 0.07983122, 0.06394286,\n",
       "        0.06244092, 0.06385899, 0.06483536, 0.07975545, 0.06091557]),\n",
       " 'std_score_time': array([0.00122562, 0.02463217, 0.00355258, 0.00491733, 0.01320876,\n",
       "        0.02375646, 0.00485132, 0.00330853, 0.00214547, 0.02872363,\n",
       "        0.00283298, 0.00118014, 0.00190122, 0.02010493, 0.0037607 ,\n",
       "        0.00165706, 0.00186608, 0.00934581, 0.0219736 , 0.00315574,\n",
       "        0.00351828, 0.02320782, 0.01828876, 0.00241195, 0.00128032,\n",
       "        0.00683676, 0.01826236, 0.00170941, 0.0009364 , 0.00262369,\n",
       "        0.02327098, 0.01988129, 0.00194137, 0.00259003, 0.00217643,\n",
       "        0.01923285, 0.00315899, 0.00166611, 0.00404615, 0.00151789,\n",
       "        0.02636631, 0.00210096, 0.02109406, 0.01288887, 0.01824901,\n",
       "        0.00411417, 0.00415721, 0.00148009, 0.02003623, 0.01055076,\n",
       "        0.00244563, 0.0046116 , 0.00138954, 0.02224962, 0.00322939,\n",
       "        0.00365451, 0.00155396, 0.0012292 , 0.02079903, 0.00653764,\n",
       "        0.00195158, 0.00193999, 0.00220628, 0.01680283, 0.0011807 ,\n",
       "        0.0018207 , 0.00891779, 0.001583  , 0.01981572, 0.00263549,\n",
       "        0.00132296, 0.00412145, 0.00240732, 0.02122691, 0.00342604,\n",
       "        0.0018911 , 0.00075856, 0.0054421 , 0.02037803, 0.00146704]),\n",
       " 'param_C': masked_array(data=[1, 1, 1, 1, 1, 1, 1, 1, 1, 1, 1, 1, 1, 1, 1, 1, 1, 1,\n",
       "                    1, 1, 3, 3, 3, 3, 3, 3, 3, 3, 3, 3, 3, 3, 3, 3, 3, 3,\n",
       "                    3, 3, 3, 3, 5, 5, 5, 5, 5, 5, 5, 5, 5, 5, 5, 5, 5, 5,\n",
       "                    5, 5, 5, 5, 5, 5, 10, 10, 10, 10, 10, 10, 10, 10, 10,\n",
       "                    10, 10, 10, 10, 10, 10, 10, 10, 10, 10, 10],\n",
       "              mask=[False, False, False, False, False, False, False, False,\n",
       "                    False, False, False, False, False, False, False, False,\n",
       "                    False, False, False, False, False, False, False, False,\n",
       "                    False, False, False, False, False, False, False, False,\n",
       "                    False, False, False, False, False, False, False, False,\n",
       "                    False, False, False, False, False, False, False, False,\n",
       "                    False, False, False, False, False, False, False, False,\n",
       "                    False, False, False, False, False, False, False, False,\n",
       "                    False, False, False, False, False, False, False, False,\n",
       "                    False, False, False, False, False, False, False, False],\n",
       "        fill_value='?',\n",
       "             dtype=object),\n",
       " 'param_gamma': masked_array(data=[0.01, 0.06210526315789474, 0.11421052631578947,\n",
       "                    0.16631578947368422, 0.21842105263157896,\n",
       "                    0.2705263157894737, 0.32263157894736844,\n",
       "                    0.37473684210526315, 0.4268421052631579,\n",
       "                    0.4789473684210527, 0.5310526315789474,\n",
       "                    0.5831578947368421, 0.6352631578947369,\n",
       "                    0.6873684210526316, 0.7394736842105263,\n",
       "                    0.791578947368421, 0.8436842105263158,\n",
       "                    0.8957894736842106, 0.9478947368421053, 1.0, 0.01,\n",
       "                    0.06210526315789474, 0.11421052631578947,\n",
       "                    0.16631578947368422, 0.21842105263157896,\n",
       "                    0.2705263157894737, 0.32263157894736844,\n",
       "                    0.37473684210526315, 0.4268421052631579,\n",
       "                    0.4789473684210527, 0.5310526315789474,\n",
       "                    0.5831578947368421, 0.6352631578947369,\n",
       "                    0.6873684210526316, 0.7394736842105263,\n",
       "                    0.791578947368421, 0.8436842105263158,\n",
       "                    0.8957894736842106, 0.9478947368421053, 1.0, 0.01,\n",
       "                    0.06210526315789474, 0.11421052631578947,\n",
       "                    0.16631578947368422, 0.21842105263157896,\n",
       "                    0.2705263157894737, 0.32263157894736844,\n",
       "                    0.37473684210526315, 0.4268421052631579,\n",
       "                    0.4789473684210527, 0.5310526315789474,\n",
       "                    0.5831578947368421, 0.6352631578947369,\n",
       "                    0.6873684210526316, 0.7394736842105263,\n",
       "                    0.791578947368421, 0.8436842105263158,\n",
       "                    0.8957894736842106, 0.9478947368421053, 1.0, 0.01,\n",
       "                    0.06210526315789474, 0.11421052631578947,\n",
       "                    0.16631578947368422, 0.21842105263157896,\n",
       "                    0.2705263157894737, 0.32263157894736844,\n",
       "                    0.37473684210526315, 0.4268421052631579,\n",
       "                    0.4789473684210527, 0.5310526315789474,\n",
       "                    0.5831578947368421, 0.6352631578947369,\n",
       "                    0.6873684210526316, 0.7394736842105263,\n",
       "                    0.791578947368421, 0.8436842105263158,\n",
       "                    0.8957894736842106, 0.9478947368421053, 1.0],\n",
       "              mask=[False, False, False, False, False, False, False, False,\n",
       "                    False, False, False, False, False, False, False, False,\n",
       "                    False, False, False, False, False, False, False, False,\n",
       "                    False, False, False, False, False, False, False, False,\n",
       "                    False, False, False, False, False, False, False, False,\n",
       "                    False, False, False, False, False, False, False, False,\n",
       "                    False, False, False, False, False, False, False, False,\n",
       "                    False, False, False, False, False, False, False, False,\n",
       "                    False, False, False, False, False, False, False, False,\n",
       "                    False, False, False, False, False, False, False, False],\n",
       "        fill_value='?',\n",
       "             dtype=object),\n",
       " 'params': [{'C': 1, 'gamma': 0.01},\n",
       "  {'C': 1, 'gamma': 0.06210526315789474},\n",
       "  {'C': 1, 'gamma': 0.11421052631578947},\n",
       "  {'C': 1, 'gamma': 0.16631578947368422},\n",
       "  {'C': 1, 'gamma': 0.21842105263157896},\n",
       "  {'C': 1, 'gamma': 0.2705263157894737},\n",
       "  {'C': 1, 'gamma': 0.32263157894736844},\n",
       "  {'C': 1, 'gamma': 0.37473684210526315},\n",
       "  {'C': 1, 'gamma': 0.4268421052631579},\n",
       "  {'C': 1, 'gamma': 0.4789473684210527},\n",
       "  {'C': 1, 'gamma': 0.5310526315789474},\n",
       "  {'C': 1, 'gamma': 0.5831578947368421},\n",
       "  {'C': 1, 'gamma': 0.6352631578947369},\n",
       "  {'C': 1, 'gamma': 0.6873684210526316},\n",
       "  {'C': 1, 'gamma': 0.7394736842105263},\n",
       "  {'C': 1, 'gamma': 0.791578947368421},\n",
       "  {'C': 1, 'gamma': 0.8436842105263158},\n",
       "  {'C': 1, 'gamma': 0.8957894736842106},\n",
       "  {'C': 1, 'gamma': 0.9478947368421053},\n",
       "  {'C': 1, 'gamma': 1.0},\n",
       "  {'C': 3, 'gamma': 0.01},\n",
       "  {'C': 3, 'gamma': 0.06210526315789474},\n",
       "  {'C': 3, 'gamma': 0.11421052631578947},\n",
       "  {'C': 3, 'gamma': 0.16631578947368422},\n",
       "  {'C': 3, 'gamma': 0.21842105263157896},\n",
       "  {'C': 3, 'gamma': 0.2705263157894737},\n",
       "  {'C': 3, 'gamma': 0.32263157894736844},\n",
       "  {'C': 3, 'gamma': 0.37473684210526315},\n",
       "  {'C': 3, 'gamma': 0.4268421052631579},\n",
       "  {'C': 3, 'gamma': 0.4789473684210527},\n",
       "  {'C': 3, 'gamma': 0.5310526315789474},\n",
       "  {'C': 3, 'gamma': 0.5831578947368421},\n",
       "  {'C': 3, 'gamma': 0.6352631578947369},\n",
       "  {'C': 3, 'gamma': 0.6873684210526316},\n",
       "  {'C': 3, 'gamma': 0.7394736842105263},\n",
       "  {'C': 3, 'gamma': 0.791578947368421},\n",
       "  {'C': 3, 'gamma': 0.8436842105263158},\n",
       "  {'C': 3, 'gamma': 0.8957894736842106},\n",
       "  {'C': 3, 'gamma': 0.9478947368421053},\n",
       "  {'C': 3, 'gamma': 1.0},\n",
       "  {'C': 5, 'gamma': 0.01},\n",
       "  {'C': 5, 'gamma': 0.06210526315789474},\n",
       "  {'C': 5, 'gamma': 0.11421052631578947},\n",
       "  {'C': 5, 'gamma': 0.16631578947368422},\n",
       "  {'C': 5, 'gamma': 0.21842105263157896},\n",
       "  {'C': 5, 'gamma': 0.2705263157894737},\n",
       "  {'C': 5, 'gamma': 0.32263157894736844},\n",
       "  {'C': 5, 'gamma': 0.37473684210526315},\n",
       "  {'C': 5, 'gamma': 0.4268421052631579},\n",
       "  {'C': 5, 'gamma': 0.4789473684210527},\n",
       "  {'C': 5, 'gamma': 0.5310526315789474},\n",
       "  {'C': 5, 'gamma': 0.5831578947368421},\n",
       "  {'C': 5, 'gamma': 0.6352631578947369},\n",
       "  {'C': 5, 'gamma': 0.6873684210526316},\n",
       "  {'C': 5, 'gamma': 0.7394736842105263},\n",
       "  {'C': 5, 'gamma': 0.791578947368421},\n",
       "  {'C': 5, 'gamma': 0.8436842105263158},\n",
       "  {'C': 5, 'gamma': 0.8957894736842106},\n",
       "  {'C': 5, 'gamma': 0.9478947368421053},\n",
       "  {'C': 5, 'gamma': 1.0},\n",
       "  {'C': 10, 'gamma': 0.01},\n",
       "  {'C': 10, 'gamma': 0.06210526315789474},\n",
       "  {'C': 10, 'gamma': 0.11421052631578947},\n",
       "  {'C': 10, 'gamma': 0.16631578947368422},\n",
       "  {'C': 10, 'gamma': 0.21842105263157896},\n",
       "  {'C': 10, 'gamma': 0.2705263157894737},\n",
       "  {'C': 10, 'gamma': 0.32263157894736844},\n",
       "  {'C': 10, 'gamma': 0.37473684210526315},\n",
       "  {'C': 10, 'gamma': 0.4268421052631579},\n",
       "  {'C': 10, 'gamma': 0.4789473684210527},\n",
       "  {'C': 10, 'gamma': 0.5310526315789474},\n",
       "  {'C': 10, 'gamma': 0.5831578947368421},\n",
       "  {'C': 10, 'gamma': 0.6352631578947369},\n",
       "  {'C': 10, 'gamma': 0.6873684210526316},\n",
       "  {'C': 10, 'gamma': 0.7394736842105263},\n",
       "  {'C': 10, 'gamma': 0.791578947368421},\n",
       "  {'C': 10, 'gamma': 0.8436842105263158},\n",
       "  {'C': 10, 'gamma': 0.8957894736842106},\n",
       "  {'C': 10, 'gamma': 0.9478947368421053},\n",
       "  {'C': 10, 'gamma': 1.0}],\n",
       " 'split0_test_score': array([0.56140351, 0.67641326, 0.70760234, 0.71929825, 0.72709552,\n",
       "        0.74074074, 0.74463938, 0.74853801, 0.75438596, 0.75633528,\n",
       "        0.75633528, 0.76023392, 0.76218324, 0.76413255, 0.76413255,\n",
       "        0.76413255, 0.76803119, 0.76803119, 0.76803119, 0.76608187,\n",
       "        0.6588694 , 0.72124756, 0.74074074, 0.7582846 , 0.76218324,\n",
       "        0.76608187, 0.76803119, 0.76803119, 0.76413255, 0.76803119,\n",
       "        0.76803119, 0.76413255, 0.76998051, 0.76608187, 0.76218324,\n",
       "        0.76803119, 0.77387914, 0.78557505, 0.79922027, 0.80701754,\n",
       "        0.68615984, 0.74074074, 0.7582846 , 0.76803119, 0.76803119,\n",
       "        0.76413255, 0.76608187, 0.76413255, 0.76218324, 0.76413255,\n",
       "        0.7797271 , 0.78947368, 0.80311891, 0.80311891, 0.80701754,\n",
       "        0.80701754, 0.80896686, 0.80896686, 0.80701754, 0.80896686,\n",
       "        0.70565302, 0.76023392, 0.76608187, 0.76608187, 0.76413255,\n",
       "        0.77582846, 0.78947368, 0.80311891, 0.80701754, 0.80896686,\n",
       "        0.8128655 , 0.81481481, 0.81871345, 0.81871345, 0.81676413,\n",
       "        0.81676413, 0.81676413, 0.81676413, 0.81676413, 0.81871345]),\n",
       " 'split1_test_score': array([0.54775828, 0.70565302, 0.73099415, 0.73684211, 0.75048733,\n",
       "        0.75633528, 0.76413255, 0.76218324, 0.76803119, 0.76608187,\n",
       "        0.76803119, 0.77777778, 0.78167641, 0.7797271 , 0.77582846,\n",
       "        0.77777778, 0.77777778, 0.77777778, 0.77777778, 0.77777778,\n",
       "        0.67446394, 0.73879142, 0.76413255, 0.76218324, 0.77387914,\n",
       "        0.77582846, 0.7797271 , 0.78167641, 0.78752437, 0.791423  ,\n",
       "        0.791423  , 0.791423  , 0.79532164, 0.79727096, 0.79727096,\n",
       "        0.80701754, 0.80701754, 0.80506823, 0.80506823, 0.80701754,\n",
       "        0.70955166, 0.7582846 , 0.77387914, 0.77387914, 0.77777778,\n",
       "        0.78752437, 0.791423  , 0.791423  , 0.79922027, 0.79727096,\n",
       "        0.80506823, 0.80506823, 0.80701754, 0.80896686, 0.80896686,\n",
       "        0.80701754, 0.80896686, 0.81091618, 0.81091618, 0.81091618,\n",
       "        0.72319688, 0.76998051, 0.7797271 , 0.79532164, 0.79922027,\n",
       "        0.79727096, 0.80701754, 0.8128655 , 0.81091618, 0.8128655 ,\n",
       "        0.81676413, 0.81481481, 0.8128655 , 0.81481481, 0.81871345,\n",
       "        0.82261209, 0.82066277, 0.82066277, 0.82261209, 0.82261209]),\n",
       " 'split2_test_score': array([0.5711501 , 0.71929825, 0.74658869, 0.7582846 , 0.76218324,\n",
       "        0.76608187, 0.76803119, 0.76803119, 0.76803119, 0.76998051,\n",
       "        0.77777778, 0.77777778, 0.7797271 , 0.78167641, 0.78557505,\n",
       "        0.78557505, 0.78362573, 0.78362573, 0.78752437, 0.78752437,\n",
       "        0.69785575, 0.76023392, 0.76803119, 0.77387914, 0.77777778,\n",
       "        0.7797271 , 0.78557505, 0.78752437, 0.78752437, 0.79337232,\n",
       "        0.79337232, 0.79337232, 0.79337232, 0.78947368, 0.78947368,\n",
       "        0.791423  , 0.79337232, 0.79337232, 0.791423  , 0.791423  ,\n",
       "        0.7251462 , 0.76803119, 0.77582846, 0.7797271 , 0.78362573,\n",
       "        0.78557505, 0.79337232, 0.79337232, 0.791423  , 0.791423  ,\n",
       "        0.791423  , 0.79337232, 0.791423  , 0.79532164, 0.81091618,\n",
       "        0.80896686, 0.81091618, 0.81091618, 0.81091618, 0.81676413,\n",
       "        0.74269006, 0.77387914, 0.78362573, 0.78947368, 0.78947368,\n",
       "        0.78947368, 0.79532164, 0.80311891, 0.81091618, 0.80701754,\n",
       "        0.80896686, 0.81481481, 0.82261209, 0.82651072, 0.8245614 ,\n",
       "        0.82261209, 0.82651072, 0.83040936, 0.83625731, 0.84405458]),\n",
       " 'split3_test_score': array([0.56140351, 0.68226121, 0.72124756, 0.73489279, 0.74074074,\n",
       "        0.75243665, 0.74463938, 0.74853801, 0.75048733, 0.75048733,\n",
       "        0.75438596, 0.75438596, 0.75438596, 0.7582846 , 0.7582846 ,\n",
       "        0.7582846 , 0.76413255, 0.76413255, 0.76998051, 0.76803119,\n",
       "        0.66471735, 0.73684211, 0.74658869, 0.75438596, 0.75243665,\n",
       "        0.7582846 , 0.76218324, 0.76998051, 0.77387914, 0.77582846,\n",
       "        0.77192982, 0.77192982, 0.76998051, 0.77192982, 0.77582846,\n",
       "        0.77582846, 0.77777778, 0.80116959, 0.80116959, 0.80506823,\n",
       "        0.68226121, 0.75048733, 0.75438596, 0.76023392, 0.76803119,\n",
       "        0.77582846, 0.77582846, 0.76608187, 0.77387914, 0.77192982,\n",
       "        0.77387914, 0.80896686, 0.80701754, 0.81481481, 0.80896686,\n",
       "        0.80896686, 0.81091618, 0.81481481, 0.81481481, 0.81676413,\n",
       "        0.71345029, 0.75438596, 0.76803119, 0.77582846, 0.77387914,\n",
       "        0.77387914, 0.80311891, 0.80701754, 0.80896686, 0.81871345,\n",
       "        0.81676413, 0.82066277, 0.82651072, 0.8245614 , 0.82846004,\n",
       "        0.83040936, 0.83040936, 0.83235867, 0.83625731, 0.82846004]),\n",
       " 'split4_test_score': array([0.58398438, 0.70898438, 0.71679688, 0.734375  , 0.7421875 ,\n",
       "        0.74804688, 0.74804688, 0.75195312, 0.75585938, 0.75585938,\n",
       "        0.75976562, 0.765625  , 0.765625  , 0.76757812, 0.77734375,\n",
       "        0.77929688, 0.77734375, 0.77734375, 0.77734375, 0.78320312,\n",
       "        0.68359375, 0.73828125, 0.74804688, 0.7578125 , 0.76367188,\n",
       "        0.77929688, 0.78125   , 0.77929688, 0.78320312, 0.79296875,\n",
       "        0.79492188, 0.79492188, 0.796875  , 0.796875  , 0.8046875 ,\n",
       "        0.80664062, 0.80859375, 0.81445312, 0.82617188, 0.82617188,\n",
       "        0.70898438, 0.74804688, 0.76171875, 0.77929688, 0.78125   ,\n",
       "        0.78710938, 0.79492188, 0.79492188, 0.796875  , 0.8046875 ,\n",
       "        0.81445312, 0.828125  , 0.83007812, 0.83203125, 0.83203125,\n",
       "        0.83203125, 0.83398438, 0.83398438, 0.8359375 , 0.83984375,\n",
       "        0.71679688, 0.76367188, 0.78125   , 0.79296875, 0.80078125,\n",
       "        0.81054688, 0.828125  , 0.83203125, 0.83007812, 0.83398438,\n",
       "        0.8359375 , 0.83984375, 0.84179688, 0.83984375, 0.83984375,\n",
       "        0.84375   , 0.84179688, 0.83789062, 0.83789062, 0.83984375]),\n",
       " 'mean_test_score': array([0.56513995, 0.69852202, 0.72464592, 0.73673855, 0.74453886,\n",
       "        0.75272828, 0.75389787, 0.75584871, 0.75935901, 0.75974887,\n",
       "        0.76325917, 0.76716009, 0.76871954, 0.77027976, 0.77223288,\n",
       "        0.77301337, 0.7741822 , 0.7741822 , 0.77613152, 0.77652367,\n",
       "        0.67590004, 0.73907925, 0.75350801, 0.76130909, 0.76598974,\n",
       "        0.77184378, 0.77535331, 0.77730187, 0.77925271, 0.78432474,\n",
       "        0.78393564, 0.78315591, 0.78510599, 0.78432627, 0.78588877,\n",
       "        0.78978816, 0.79212811, 0.79992766, 0.80461059, 0.80733964,\n",
       "        0.70242066, 0.75311815, 0.76481938, 0.77223364, 0.77574318,\n",
       "        0.78003396, 0.78432551, 0.78198632, 0.78471613, 0.78588877,\n",
       "        0.79291012, 0.80500122, 0.80773102, 0.81085069, 0.81357974,\n",
       "        0.81280001, 0.81475009, 0.81591968, 0.81592044, 0.81865101,\n",
       "        0.72035743, 0.76443028, 0.77574318, 0.78393488, 0.78549738,\n",
       "        0.78939982, 0.80461135, 0.81163042, 0.81357898, 0.81630955,\n",
       "        0.81825962, 0.82099019, 0.82449973, 0.82488883, 0.82566856,\n",
       "        0.82722953, 0.82722877, 0.82761711, 0.82995629, 0.83073678]),\n",
       " 'std_test_score': array([0.01201065, 0.01640229, 0.01330733, 0.01246917, 0.0115839 ,\n",
       "        0.00845021, 0.01010122, 0.00788172, 0.00729519, 0.00717426,\n",
       "        0.00863065, 0.00936992, 0.01045751, 0.00903445, 0.00976967,\n",
       "        0.01015661, 0.00708427, 0.00708427, 0.00689096, 0.00834694,\n",
       "        0.01384489, 0.01241945, 0.01062551, 0.00675387, 0.00899721,\n",
       "        0.00837405, 0.00878008, 0.00730977, 0.00905473, 0.01043676,\n",
       "        0.01151434, 0.01264176, 0.01239969, 0.01294652, 0.01522472,\n",
       "        0.01582257, 0.0143758 , 0.00987853, 0.01166111, 0.01107573,\n",
       "        0.01600751, 0.00932663, 0.00853759, 0.00735395, 0.0065658 ,\n",
       "        0.00902676, 0.01139765, 0.01384001, 0.01434128, 0.01537374,\n",
       "        0.01516643, 0.01361452, 0.01255097, 0.01240009, 0.00930777,\n",
       "        0.00965506, 0.00965657, 0.00923001, 0.01030778, 0.01104412,\n",
       "        0.0125173 , 0.00691605, 0.00722699, 0.01119278, 0.01434688,\n",
       "        0.01366917, 0.01323901, 0.01080638, 0.00837528, 0.00969841,\n",
       "        0.00929981, 0.00969505, 0.00975331, 0.0085558 , 0.00821726,\n",
       "        0.00932956, 0.00866582, 0.00777141, 0.00860616, 0.00975762]),\n",
       " 'rank_test_score': array([80, 78, 75, 74, 72, 71, 68, 67, 66, 65, 63, 59, 58, 57, 55, 53, 51,\n",
       "        51, 47, 46, 79, 73, 69, 64, 60, 56, 50, 45, 44, 38, 39, 41, 34, 36,\n",
       "        31, 29, 28, 26, 25, 22, 77, 70, 61, 54, 48, 43, 37, 42, 35, 31, 27,\n",
       "        23, 21, 20, 16, 18, 15, 14, 13, 10, 76, 62, 48, 40, 33, 30, 24, 19,\n",
       "        17, 12, 11,  9,  8,  7,  6,  4,  5,  3,  2,  1])}"
      ]
     },
     "execution_count": 192,
     "metadata": {},
     "output_type": "execute_result"
    }
   ],
   "source": [
    "m_gs.cv_results_"
   ]
  },
  {
   "cell_type": "code",
   "execution_count": 193,
   "id": "a43708b3",
   "metadata": {
    "collapsed": true
   },
   "outputs": [
    {
     "data": {
      "text/html": [
       "<div>\n",
       "<style scoped>\n",
       "    .dataframe tbody tr th:only-of-type {\n",
       "        vertical-align: middle;\n",
       "    }\n",
       "\n",
       "    .dataframe tbody tr th {\n",
       "        vertical-align: top;\n",
       "    }\n",
       "\n",
       "    .dataframe thead th {\n",
       "        text-align: right;\n",
       "    }\n",
       "</style>\n",
       "<table border=\"1\" class=\"dataframe\">\n",
       "  <thead>\n",
       "    <tr style=\"text-align: right;\">\n",
       "      <th></th>\n",
       "      <th>mean_fit_time</th>\n",
       "      <th>std_fit_time</th>\n",
       "      <th>mean_score_time</th>\n",
       "      <th>std_score_time</th>\n",
       "      <th>param_C</th>\n",
       "      <th>param_gamma</th>\n",
       "      <th>params</th>\n",
       "      <th>split0_test_score</th>\n",
       "      <th>split1_test_score</th>\n",
       "      <th>split2_test_score</th>\n",
       "      <th>split3_test_score</th>\n",
       "      <th>split4_test_score</th>\n",
       "      <th>mean_test_score</th>\n",
       "      <th>std_test_score</th>\n",
       "      <th>rank_test_score</th>\n",
       "    </tr>\n",
       "  </thead>\n",
       "  <tbody>\n",
       "    <tr>\n",
       "      <th>0</th>\n",
       "      <td>0.240809</td>\n",
       "      <td>0.010344</td>\n",
       "      <td>0.116805</td>\n",
       "      <td>0.001226</td>\n",
       "      <td>1</td>\n",
       "      <td>0.01</td>\n",
       "      <td>{'C': 1, 'gamma': 0.01}</td>\n",
       "      <td>0.561404</td>\n",
       "      <td>0.547758</td>\n",
       "      <td>0.571150</td>\n",
       "      <td>0.561404</td>\n",
       "      <td>0.583984</td>\n",
       "      <td>0.565140</td>\n",
       "      <td>0.012011</td>\n",
       "      <td>80</td>\n",
       "    </tr>\n",
       "    <tr>\n",
       "      <th>1</th>\n",
       "      <td>0.221400</td>\n",
       "      <td>0.038310</td>\n",
       "      <td>0.116009</td>\n",
       "      <td>0.024632</td>\n",
       "      <td>1</td>\n",
       "      <td>0.062105</td>\n",
       "      <td>{'C': 1, 'gamma': 0.06210526315789474}</td>\n",
       "      <td>0.676413</td>\n",
       "      <td>0.705653</td>\n",
       "      <td>0.719298</td>\n",
       "      <td>0.682261</td>\n",
       "      <td>0.708984</td>\n",
       "      <td>0.698522</td>\n",
       "      <td>0.016402</td>\n",
       "      <td>78</td>\n",
       "    </tr>\n",
       "    <tr>\n",
       "      <th>2</th>\n",
       "      <td>0.192551</td>\n",
       "      <td>0.014278</td>\n",
       "      <td>0.101409</td>\n",
       "      <td>0.003553</td>\n",
       "      <td>1</td>\n",
       "      <td>0.114211</td>\n",
       "      <td>{'C': 1, 'gamma': 0.11421052631578947}</td>\n",
       "      <td>0.707602</td>\n",
       "      <td>0.730994</td>\n",
       "      <td>0.746589</td>\n",
       "      <td>0.721248</td>\n",
       "      <td>0.716797</td>\n",
       "      <td>0.724646</td>\n",
       "      <td>0.013307</td>\n",
       "      <td>75</td>\n",
       "    </tr>\n",
       "    <tr>\n",
       "      <th>3</th>\n",
       "      <td>0.176879</td>\n",
       "      <td>0.003852</td>\n",
       "      <td>0.095434</td>\n",
       "      <td>0.004917</td>\n",
       "      <td>1</td>\n",
       "      <td>0.166316</td>\n",
       "      <td>{'C': 1, 'gamma': 0.16631578947368422}</td>\n",
       "      <td>0.719298</td>\n",
       "      <td>0.736842</td>\n",
       "      <td>0.758285</td>\n",
       "      <td>0.734893</td>\n",
       "      <td>0.734375</td>\n",
       "      <td>0.736739</td>\n",
       "      <td>0.012469</td>\n",
       "      <td>74</td>\n",
       "    </tr>\n",
       "    <tr>\n",
       "      <th>4</th>\n",
       "      <td>0.182063</td>\n",
       "      <td>0.003946</td>\n",
       "      <td>0.097147</td>\n",
       "      <td>0.013209</td>\n",
       "      <td>1</td>\n",
       "      <td>0.218421</td>\n",
       "      <td>{'C': 1, 'gamma': 0.21842105263157896}</td>\n",
       "      <td>0.727096</td>\n",
       "      <td>0.750487</td>\n",
       "      <td>0.762183</td>\n",
       "      <td>0.740741</td>\n",
       "      <td>0.742188</td>\n",
       "      <td>0.744539</td>\n",
       "      <td>0.011584</td>\n",
       "      <td>72</td>\n",
       "    </tr>\n",
       "    <tr>\n",
       "      <th>...</th>\n",
       "      <td>...</td>\n",
       "      <td>...</td>\n",
       "      <td>...</td>\n",
       "      <td>...</td>\n",
       "      <td>...</td>\n",
       "      <td>...</td>\n",
       "      <td>...</td>\n",
       "      <td>...</td>\n",
       "      <td>...</td>\n",
       "      <td>...</td>\n",
       "      <td>...</td>\n",
       "      <td>...</td>\n",
       "      <td>...</td>\n",
       "      <td>...</td>\n",
       "      <td>...</td>\n",
       "    </tr>\n",
       "    <tr>\n",
       "      <th>75</th>\n",
       "      <td>0.139377</td>\n",
       "      <td>0.007731</td>\n",
       "      <td>0.062441</td>\n",
       "      <td>0.001891</td>\n",
       "      <td>10</td>\n",
       "      <td>0.791579</td>\n",
       "      <td>{'C': 10, 'gamma': 0.791578947368421}</td>\n",
       "      <td>0.816764</td>\n",
       "      <td>0.822612</td>\n",
       "      <td>0.822612</td>\n",
       "      <td>0.830409</td>\n",
       "      <td>0.843750</td>\n",
       "      <td>0.827230</td>\n",
       "      <td>0.009330</td>\n",
       "      <td>4</td>\n",
       "    </tr>\n",
       "    <tr>\n",
       "      <th>76</th>\n",
       "      <td>0.139763</td>\n",
       "      <td>0.002624</td>\n",
       "      <td>0.063859</td>\n",
       "      <td>0.000759</td>\n",
       "      <td>10</td>\n",
       "      <td>0.843684</td>\n",
       "      <td>{'C': 10, 'gamma': 0.8436842105263158}</td>\n",
       "      <td>0.816764</td>\n",
       "      <td>0.820663</td>\n",
       "      <td>0.826511</td>\n",
       "      <td>0.830409</td>\n",
       "      <td>0.841797</td>\n",
       "      <td>0.827229</td>\n",
       "      <td>0.008666</td>\n",
       "      <td>5</td>\n",
       "    </tr>\n",
       "    <tr>\n",
       "      <th>77</th>\n",
       "      <td>0.134905</td>\n",
       "      <td>0.006701</td>\n",
       "      <td>0.064835</td>\n",
       "      <td>0.005442</td>\n",
       "      <td>10</td>\n",
       "      <td>0.895789</td>\n",
       "      <td>{'C': 10, 'gamma': 0.8957894736842106}</td>\n",
       "      <td>0.816764</td>\n",
       "      <td>0.820663</td>\n",
       "      <td>0.830409</td>\n",
       "      <td>0.832359</td>\n",
       "      <td>0.837891</td>\n",
       "      <td>0.827617</td>\n",
       "      <td>0.007771</td>\n",
       "      <td>3</td>\n",
       "    </tr>\n",
       "    <tr>\n",
       "      <th>78</th>\n",
       "      <td>0.157417</td>\n",
       "      <td>0.027209</td>\n",
       "      <td>0.079755</td>\n",
       "      <td>0.020378</td>\n",
       "      <td>10</td>\n",
       "      <td>0.947895</td>\n",
       "      <td>{'C': 10, 'gamma': 0.9478947368421053}</td>\n",
       "      <td>0.816764</td>\n",
       "      <td>0.822612</td>\n",
       "      <td>0.836257</td>\n",
       "      <td>0.836257</td>\n",
       "      <td>0.837891</td>\n",
       "      <td>0.829956</td>\n",
       "      <td>0.008606</td>\n",
       "      <td>2</td>\n",
       "    </tr>\n",
       "    <tr>\n",
       "      <th>79</th>\n",
       "      <td>0.133421</td>\n",
       "      <td>0.001476</td>\n",
       "      <td>0.060916</td>\n",
       "      <td>0.001467</td>\n",
       "      <td>10</td>\n",
       "      <td>1.0</td>\n",
       "      <td>{'C': 10, 'gamma': 1.0}</td>\n",
       "      <td>0.818713</td>\n",
       "      <td>0.822612</td>\n",
       "      <td>0.844055</td>\n",
       "      <td>0.828460</td>\n",
       "      <td>0.839844</td>\n",
       "      <td>0.830737</td>\n",
       "      <td>0.009758</td>\n",
       "      <td>1</td>\n",
       "    </tr>\n",
       "  </tbody>\n",
       "</table>\n",
       "<p>80 rows × 15 columns</p>\n",
       "</div>"
      ],
      "text/plain": [
       "    mean_fit_time  std_fit_time  mean_score_time  std_score_time param_C  \\\n",
       "0        0.240809      0.010344         0.116805        0.001226       1   \n",
       "1        0.221400      0.038310         0.116009        0.024632       1   \n",
       "2        0.192551      0.014278         0.101409        0.003553       1   \n",
       "3        0.176879      0.003852         0.095434        0.004917       1   \n",
       "4        0.182063      0.003946         0.097147        0.013209       1   \n",
       "..            ...           ...              ...             ...     ...   \n",
       "75       0.139377      0.007731         0.062441        0.001891      10   \n",
       "76       0.139763      0.002624         0.063859        0.000759      10   \n",
       "77       0.134905      0.006701         0.064835        0.005442      10   \n",
       "78       0.157417      0.027209         0.079755        0.020378      10   \n",
       "79       0.133421      0.001476         0.060916        0.001467      10   \n",
       "\n",
       "   param_gamma                                  params  split0_test_score  \\\n",
       "0         0.01                 {'C': 1, 'gamma': 0.01}           0.561404   \n",
       "1     0.062105  {'C': 1, 'gamma': 0.06210526315789474}           0.676413   \n",
       "2     0.114211  {'C': 1, 'gamma': 0.11421052631578947}           0.707602   \n",
       "3     0.166316  {'C': 1, 'gamma': 0.16631578947368422}           0.719298   \n",
       "4     0.218421  {'C': 1, 'gamma': 0.21842105263157896}           0.727096   \n",
       "..         ...                                     ...                ...   \n",
       "75    0.791579   {'C': 10, 'gamma': 0.791578947368421}           0.816764   \n",
       "76    0.843684  {'C': 10, 'gamma': 0.8436842105263158}           0.816764   \n",
       "77    0.895789  {'C': 10, 'gamma': 0.8957894736842106}           0.816764   \n",
       "78    0.947895  {'C': 10, 'gamma': 0.9478947368421053}           0.816764   \n",
       "79         1.0                 {'C': 10, 'gamma': 1.0}           0.818713   \n",
       "\n",
       "    split1_test_score  split2_test_score  split3_test_score  \\\n",
       "0            0.547758           0.571150           0.561404   \n",
       "1            0.705653           0.719298           0.682261   \n",
       "2            0.730994           0.746589           0.721248   \n",
       "3            0.736842           0.758285           0.734893   \n",
       "4            0.750487           0.762183           0.740741   \n",
       "..                ...                ...                ...   \n",
       "75           0.822612           0.822612           0.830409   \n",
       "76           0.820663           0.826511           0.830409   \n",
       "77           0.820663           0.830409           0.832359   \n",
       "78           0.822612           0.836257           0.836257   \n",
       "79           0.822612           0.844055           0.828460   \n",
       "\n",
       "    split4_test_score  mean_test_score  std_test_score  rank_test_score  \n",
       "0            0.583984         0.565140        0.012011               80  \n",
       "1            0.708984         0.698522        0.016402               78  \n",
       "2            0.716797         0.724646        0.013307               75  \n",
       "3            0.734375         0.736739        0.012469               74  \n",
       "4            0.742188         0.744539        0.011584               72  \n",
       "..                ...              ...             ...              ...  \n",
       "75           0.843750         0.827230        0.009330                4  \n",
       "76           0.841797         0.827229        0.008666                5  \n",
       "77           0.837891         0.827617        0.007771                3  \n",
       "78           0.837891         0.829956        0.008606                2  \n",
       "79           0.839844         0.830737        0.009758                1  \n",
       "\n",
       "[80 rows x 15 columns]"
      ]
     },
     "execution_count": 193,
     "metadata": {},
     "output_type": "execute_result"
    }
   ],
   "source": [
    "results"
   ]
  },
  {
   "cell_type": "code",
   "execution_count": 194,
   "id": "88823f99",
   "metadata": {
    "collapsed": true
   },
   "outputs": [
    {
     "data": {
      "image/png": "[encoded data removed]",
      "text/plain": [
       "<Figure size 576x432 with 1 Axes>"
      ]
     },
     "metadata": {
      "needs_background": "light"
     },
     "output_type": "display_data"
    }
   ],
   "source": [
    "results = pd.DataFrame(m_gs.cv_results_)\n",
    "show = results.loc[:, ['param_C', 'mean_test_score', 'param_gamma']]\n",
    "\n",
    "plt.figure(figsize=(8, 6))\n",
    "sns.lineplot(x = 'param_C', y='mean_test_score', data=show, hue='param_gamma')\n",
    "plt.grid()\n",
    "plt.show()"
   ]
  },
  {
   "cell_type": "code",
   "execution_count": 195,
   "id": "d4719eb1",
   "metadata": {},
   "outputs": [],
   "source": [
    "pred = m_gs.predict(x_val_s)\n"
   ]
  },
  {
   "cell_type": "code",
   "execution_count": 197,
   "id": "64728956",
   "metadata": {},
   "outputs": [
    {
     "name": "stdout",
     "output_type": "stream",
     "text": [
      "['benign' 'benign' 'malicious' ... 'benign' 'benign' 'malicious']\n"
     ]
    }
   ],
   "source": [
    "print(pred)"
   ]
  },
  {
   "cell_type": "code",
   "execution_count": 196,
   "id": "a5e11308",
   "metadata": {
    "scrolled": false
   },
   "outputs": [
    {
     "name": "stdout",
     "output_type": "stream",
     "text": [
      "[[501  59]\n",
      " [119 421]]\n",
      "              precision    recall  f1-score   support\n",
      "\n",
      "      benign       0.81      0.89      0.85       560\n",
      "   malicious       0.88      0.78      0.83       540\n",
      "\n",
      "    accuracy                           0.84      1100\n",
      "   macro avg       0.84      0.84      0.84      1100\n",
      "weighted avg       0.84      0.84      0.84      1100\n",
      "\n"
     ]
    }
   ],
   "source": [
    "print(confusion_matrix(y_val, pred))\n",
    "print(classification_report(y_val, pred))"
   ]
  },
  {
   "cell_type": "markdown",
   "id": "69d6176a",
   "metadata": {},
   "source": [
    "## 제출하기"
   ]
  },
  {
   "cell_type": "code",
   "execution_count": 481,
   "id": "693a4b09",
   "metadata": {},
   "outputs": [],
   "source": [
    "test_data = pd.DataFrame(pd.read_csv('test_dataset_v01.csv'))"
   ]
  },
  {
   "cell_type": "code",
   "execution_count": 482,
   "id": "ce1a91d2",
   "metadata": {},
   "outputs": [],
   "source": [
    "drop_columns = ['Unnamed: 0']"
   ]
  },
  {
   "cell_type": "code",
   "execution_count": 483,
   "id": "0aef963c",
   "metadata": {},
   "outputs": [],
   "source": [
    "test_data = test_data.drop(columns=drop_columns, axis=1)"
   ]
  },
  {
   "cell_type": "code",
   "execution_count": 484,
   "id": "c1f6b4ec",
   "metadata": {},
   "outputs": [],
   "source": [
    "test_data.fillna(method='ffill', inplace=True)"
   ]
  },
  {
   "cell_type": "code",
   "execution_count": 372,
   "id": "fea2467a",
   "metadata": {
    "collapsed": true
   },
   "outputs": [
    {
     "data": {
      "text/html": [
       "<div>\n",
       "<style scoped>\n",
       "    .dataframe tbody tr th:only-of-type {\n",
       "        vertical-align: middle;\n",
       "    }\n",
       "\n",
       "    .dataframe tbody tr th {\n",
       "        vertical-align: top;\n",
       "    }\n",
       "\n",
       "    .dataframe thead th {\n",
       "        text-align: right;\n",
       "    }\n",
       "</style>\n",
       "<table border=\"1\" class=\"dataframe\">\n",
       "  <thead>\n",
       "    <tr style=\"text-align: right;\">\n",
       "      <th></th>\n",
       "      <th>url_len</th>\n",
       "      <th>url_num_hyphens_dom</th>\n",
       "      <th>url_path_len</th>\n",
       "      <th>url_domain_len</th>\n",
       "      <th>url_hostname_len</th>\n",
       "      <th>url_num_dots</th>\n",
       "      <th>url_num_underscores</th>\n",
       "      <th>url_num_query_para</th>\n",
       "      <th>url_ip_present</th>\n",
       "      <th>html_num_tags('iframe')</th>\n",
       "      <th>html_num_tags('script')</th>\n",
       "      <th>html_num_tags('embed')</th>\n",
       "      <th>html_num_tags('object')</th>\n",
       "      <th>html_num_tags('div')</th>\n",
       "      <th>html_num_tags('head')</th>\n",
       "      <th>html_num_tags('form')</th>\n",
       "      <th>html_num_tags('a')</th>\n",
       "    </tr>\n",
       "  </thead>\n",
       "  <tbody>\n",
       "    <tr>\n",
       "      <th>0</th>\n",
       "      <td>97</td>\n",
       "      <td>0</td>\n",
       "      <td>80.0</td>\n",
       "      <td>17.0</td>\n",
       "      <td>17.0</td>\n",
       "      <td>4</td>\n",
       "      <td>0</td>\n",
       "      <td>0</td>\n",
       "      <td>0</td>\n",
       "      <td>0</td>\n",
       "      <td>5.0</td>\n",
       "      <td>0</td>\n",
       "      <td>0</td>\n",
       "      <td>12</td>\n",
       "      <td>1</td>\n",
       "      <td>1.0</td>\n",
       "      <td>3.0</td>\n",
       "    </tr>\n",
       "    <tr>\n",
       "      <th>1</th>\n",
       "      <td>37</td>\n",
       "      <td>0</td>\n",
       "      <td>22.0</td>\n",
       "      <td>15.0</td>\n",
       "      <td>15.0</td>\n",
       "      <td>3</td>\n",
       "      <td>1</td>\n",
       "      <td>0</td>\n",
       "      <td>0</td>\n",
       "      <td>1</td>\n",
       "      <td>5.0</td>\n",
       "      <td>0</td>\n",
       "      <td>0</td>\n",
       "      <td>158</td>\n",
       "      <td>1</td>\n",
       "      <td>1.0</td>\n",
       "      <td>3.0</td>\n",
       "    </tr>\n",
       "    <tr>\n",
       "      <th>2</th>\n",
       "      <td>44</td>\n",
       "      <td>0</td>\n",
       "      <td>22.0</td>\n",
       "      <td>20.0</td>\n",
       "      <td>20.0</td>\n",
       "      <td>3</td>\n",
       "      <td>3</td>\n",
       "      <td>0</td>\n",
       "      <td>0</td>\n",
       "      <td>0</td>\n",
       "      <td>6.0</td>\n",
       "      <td>3</td>\n",
       "      <td>3</td>\n",
       "      <td>34</td>\n",
       "      <td>1</td>\n",
       "      <td>0.0</td>\n",
       "      <td>136.0</td>\n",
       "    </tr>\n",
       "    <tr>\n",
       "      <th>3</th>\n",
       "      <td>40</td>\n",
       "      <td>0</td>\n",
       "      <td>14.0</td>\n",
       "      <td>26.0</td>\n",
       "      <td>26.0</td>\n",
       "      <td>2</td>\n",
       "      <td>0</td>\n",
       "      <td>0</td>\n",
       "      <td>0</td>\n",
       "      <td>0</td>\n",
       "      <td>6.0</td>\n",
       "      <td>0</td>\n",
       "      <td>0</td>\n",
       "      <td>29</td>\n",
       "      <td>1</td>\n",
       "      <td>1.0</td>\n",
       "      <td>2.0</td>\n",
       "    </tr>\n",
       "    <tr>\n",
       "      <th>4</th>\n",
       "      <td>43</td>\n",
       "      <td>2</td>\n",
       "      <td>14.0</td>\n",
       "      <td>26.0</td>\n",
       "      <td>26.0</td>\n",
       "      <td>2</td>\n",
       "      <td>0</td>\n",
       "      <td>0</td>\n",
       "      <td>0</td>\n",
       "      <td>0</td>\n",
       "      <td>6.0</td>\n",
       "      <td>0</td>\n",
       "      <td>0</td>\n",
       "      <td>41</td>\n",
       "      <td>1</td>\n",
       "      <td>1.0</td>\n",
       "      <td>2.0</td>\n",
       "    </tr>\n",
       "    <tr>\n",
       "      <th>...</th>\n",
       "      <td>...</td>\n",
       "      <td>...</td>\n",
       "      <td>...</td>\n",
       "      <td>...</td>\n",
       "      <td>...</td>\n",
       "      <td>...</td>\n",
       "      <td>...</td>\n",
       "      <td>...</td>\n",
       "      <td>...</td>\n",
       "      <td>...</td>\n",
       "      <td>...</td>\n",
       "      <td>...</td>\n",
       "      <td>...</td>\n",
       "      <td>...</td>\n",
       "      <td>...</td>\n",
       "      <td>...</td>\n",
       "      <td>...</td>\n",
       "    </tr>\n",
       "    <tr>\n",
       "      <th>2436</th>\n",
       "      <td>63</td>\n",
       "      <td>0</td>\n",
       "      <td>15.0</td>\n",
       "      <td>17.0</td>\n",
       "      <td>45.0</td>\n",
       "      <td>4</td>\n",
       "      <td>2</td>\n",
       "      <td>0</td>\n",
       "      <td>0</td>\n",
       "      <td>1</td>\n",
       "      <td>18.0</td>\n",
       "      <td>0</td>\n",
       "      <td>0</td>\n",
       "      <td>79</td>\n",
       "      <td>1</td>\n",
       "      <td>1.0</td>\n",
       "      <td>119.0</td>\n",
       "    </tr>\n",
       "    <tr>\n",
       "      <th>2437</th>\n",
       "      <td>36</td>\n",
       "      <td>0</td>\n",
       "      <td>1.0</td>\n",
       "      <td>35.0</td>\n",
       "      <td>35.0</td>\n",
       "      <td>2</td>\n",
       "      <td>0</td>\n",
       "      <td>0</td>\n",
       "      <td>0</td>\n",
       "      <td>0</td>\n",
       "      <td>27.0</td>\n",
       "      <td>0</td>\n",
       "      <td>0</td>\n",
       "      <td>57</td>\n",
       "      <td>1</td>\n",
       "      <td>1.0</td>\n",
       "      <td>119.0</td>\n",
       "    </tr>\n",
       "    <tr>\n",
       "      <th>2438</th>\n",
       "      <td>45</td>\n",
       "      <td>1</td>\n",
       "      <td>23.0</td>\n",
       "      <td>22.0</td>\n",
       "      <td>35.0</td>\n",
       "      <td>2</td>\n",
       "      <td>0</td>\n",
       "      <td>0</td>\n",
       "      <td>0</td>\n",
       "      <td>0</td>\n",
       "      <td>8.0</td>\n",
       "      <td>0</td>\n",
       "      <td>0</td>\n",
       "      <td>199</td>\n",
       "      <td>1</td>\n",
       "      <td>2.0</td>\n",
       "      <td>119.0</td>\n",
       "    </tr>\n",
       "    <tr>\n",
       "      <th>2439</th>\n",
       "      <td>24</td>\n",
       "      <td>0</td>\n",
       "      <td>10.0</td>\n",
       "      <td>14.0</td>\n",
       "      <td>35.0</td>\n",
       "      <td>3</td>\n",
       "      <td>0</td>\n",
       "      <td>0</td>\n",
       "      <td>1</td>\n",
       "      <td>0</td>\n",
       "      <td>3.0</td>\n",
       "      <td>0</td>\n",
       "      <td>0</td>\n",
       "      <td>90</td>\n",
       "      <td>1</td>\n",
       "      <td>2.0</td>\n",
       "      <td>25.0</td>\n",
       "    </tr>\n",
       "    <tr>\n",
       "      <th>2440</th>\n",
       "      <td>33</td>\n",
       "      <td>2</td>\n",
       "      <td>10.0</td>\n",
       "      <td>22.0</td>\n",
       "      <td>22.0</td>\n",
       "      <td>2</td>\n",
       "      <td>0</td>\n",
       "      <td>0</td>\n",
       "      <td>0</td>\n",
       "      <td>3</td>\n",
       "      <td>36.0</td>\n",
       "      <td>0</td>\n",
       "      <td>0</td>\n",
       "      <td>162</td>\n",
       "      <td>1</td>\n",
       "      <td>4.0</td>\n",
       "      <td>213.0</td>\n",
       "    </tr>\n",
       "  </tbody>\n",
       "</table>\n",
       "<p>2441 rows × 17 columns</p>\n",
       "</div>"
      ],
      "text/plain": [
       "      url_len  url_num_hyphens_dom  url_path_len  url_domain_len  \\\n",
       "0          97                    0          80.0            17.0   \n",
       "1          37                    0          22.0            15.0   \n",
       "2          44                    0          22.0            20.0   \n",
       "3          40                    0          14.0            26.0   \n",
       "4          43                    2          14.0            26.0   \n",
       "...       ...                  ...           ...             ...   \n",
       "2436       63                    0          15.0            17.0   \n",
       "2437       36                    0           1.0            35.0   \n",
       "2438       45                    1          23.0            22.0   \n",
       "2439       24                    0          10.0            14.0   \n",
       "2440       33                    2          10.0            22.0   \n",
       "\n",
       "      url_hostname_len  url_num_dots  url_num_underscores  url_num_query_para  \\\n",
       "0                 17.0             4                    0                   0   \n",
       "1                 15.0             3                    1                   0   \n",
       "2                 20.0             3                    3                   0   \n",
       "3                 26.0             2                    0                   0   \n",
       "4                 26.0             2                    0                   0   \n",
       "...                ...           ...                  ...                 ...   \n",
       "2436              45.0             4                    2                   0   \n",
       "2437              35.0             2                    0                   0   \n",
       "2438              35.0             2                    0                   0   \n",
       "2439              35.0             3                    0                   0   \n",
       "2440              22.0             2                    0                   0   \n",
       "\n",
       "      url_ip_present  html_num_tags('iframe')  html_num_tags('script')  \\\n",
       "0                  0                        0                      5.0   \n",
       "1                  0                        1                      5.0   \n",
       "2                  0                        0                      6.0   \n",
       "3                  0                        0                      6.0   \n",
       "4                  0                        0                      6.0   \n",
       "...              ...                      ...                      ...   \n",
       "2436               0                        1                     18.0   \n",
       "2437               0                        0                     27.0   \n",
       "2438               0                        0                      8.0   \n",
       "2439               1                        0                      3.0   \n",
       "2440               0                        3                     36.0   \n",
       "\n",
       "      html_num_tags('embed')  html_num_tags('object')  html_num_tags('div')  \\\n",
       "0                          0                        0                    12   \n",
       "1                          0                        0                   158   \n",
       "2                          3                        3                    34   \n",
       "3                          0                        0                    29   \n",
       "4                          0                        0                    41   \n",
       "...                      ...                      ...                   ...   \n",
       "2436                       0                        0                    79   \n",
       "2437                       0                        0                    57   \n",
       "2438                       0                        0                   199   \n",
       "2439                       0                        0                    90   \n",
       "2440                       0                        0                   162   \n",
       "\n",
       "      html_num_tags('head')  html_num_tags('form')  html_num_tags('a')  \n",
       "0                         1                    1.0                 3.0  \n",
       "1                         1                    1.0                 3.0  \n",
       "2                         1                    0.0               136.0  \n",
       "3                         1                    1.0                 2.0  \n",
       "4                         1                    1.0                 2.0  \n",
       "...                     ...                    ...                 ...  \n",
       "2436                      1                    1.0               119.0  \n",
       "2437                      1                    1.0               119.0  \n",
       "2438                      1                    2.0               119.0  \n",
       "2439                      1                    2.0                25.0  \n",
       "2440                      1                    4.0               213.0  \n",
       "\n",
       "[2441 rows x 17 columns]"
      ]
     },
     "execution_count": 372,
     "metadata": {},
     "output_type": "execute_result"
    }
   ],
   "source": [
    "test_data"
   ]
  },
  {
   "cell_type": "code",
   "execution_count": 253,
   "id": "ccdfe3c5",
   "metadata": {
    "collapsed": true
   },
   "outputs": [
    {
     "data": {
      "text/plain": [
       "['url_num_hyphens_dom',\n",
       " 'url_path_len',\n",
       " 'url_domain_len',\n",
       " 'url_hostname_len',\n",
       " 'url_num_dots',\n",
       " 'url_num_underscores',\n",
       " 'url_num_query_para',\n",
       " 'url_ip_present',\n",
       " \"html_num_tags('iframe')\",\n",
       " \"html_num_tags('script')\",\n",
       " \"html_num_tags('embed')\",\n",
       " \"html_num_tags('object')\",\n",
       " \"html_num_tags('div')\",\n",
       " \"html_num_tags('head')\",\n",
       " \"html_num_tags('form')\",\n",
       " \"html_num_tags('a')\"]"
      ]
     },
     "execution_count": 253,
     "metadata": {},
     "output_type": "execute_result"
    }
   ],
   "source": [
    "list(x_train)"
   ]
  },
  {
   "cell_type": "code",
   "execution_count": 295,
   "id": "96e31b10",
   "metadata": {},
   "outputs": [],
   "source": [
    "test_data=pd.DataFrame(scaler.fit_transform(test_data), columns=list(x_train))"
   ]
  },
  {
   "cell_type": "code",
   "execution_count": 255,
   "id": "22143ce5",
   "metadata": {
    "collapsed": true
   },
   "outputs": [
    {
     "data": {
      "text/html": [
       "<div>\n",
       "<style scoped>\n",
       "    .dataframe tbody tr th:only-of-type {\n",
       "        vertical-align: middle;\n",
       "    }\n",
       "\n",
       "    .dataframe tbody tr th {\n",
       "        vertical-align: top;\n",
       "    }\n",
       "\n",
       "    .dataframe thead th {\n",
       "        text-align: right;\n",
       "    }\n",
       "</style>\n",
       "<table border=\"1\" class=\"dataframe\">\n",
       "  <thead>\n",
       "    <tr style=\"text-align: right;\">\n",
       "      <th></th>\n",
       "      <th>url_num_hyphens_dom</th>\n",
       "      <th>url_path_len</th>\n",
       "      <th>url_domain_len</th>\n",
       "      <th>url_hostname_len</th>\n",
       "      <th>url_num_dots</th>\n",
       "      <th>url_num_underscores</th>\n",
       "      <th>url_num_query_para</th>\n",
       "      <th>url_ip_present</th>\n",
       "      <th>html_num_tags('iframe')</th>\n",
       "      <th>html_num_tags('script')</th>\n",
       "      <th>html_num_tags('embed')</th>\n",
       "      <th>html_num_tags('object')</th>\n",
       "      <th>html_num_tags('div')</th>\n",
       "      <th>html_num_tags('head')</th>\n",
       "      <th>html_num_tags('form')</th>\n",
       "      <th>html_num_tags('a')</th>\n",
       "    </tr>\n",
       "  </thead>\n",
       "  <tbody>\n",
       "    <tr>\n",
       "      <th>0</th>\n",
       "      <td>0.000000</td>\n",
       "      <td>0.049050</td>\n",
       "      <td>0.135417</td>\n",
       "      <td>0.136842</td>\n",
       "      <td>0.130435</td>\n",
       "      <td>0.000000</td>\n",
       "      <td>0.0</td>\n",
       "      <td>0.0</td>\n",
       "      <td>0.000000</td>\n",
       "      <td>0.031646</td>\n",
       "      <td>0.0</td>\n",
       "      <td>0.0</td>\n",
       "      <td>0.003108</td>\n",
       "      <td>0.111111</td>\n",
       "      <td>0.052632</td>\n",
       "      <td>0.000253</td>\n",
       "    </tr>\n",
       "    <tr>\n",
       "      <th>1</th>\n",
       "      <td>0.000000</td>\n",
       "      <td>0.013489</td>\n",
       "      <td>0.114583</td>\n",
       "      <td>0.115789</td>\n",
       "      <td>0.086957</td>\n",
       "      <td>0.052632</td>\n",
       "      <td>0.0</td>\n",
       "      <td>0.0</td>\n",
       "      <td>0.038462</td>\n",
       "      <td>0.031646</td>\n",
       "      <td>0.0</td>\n",
       "      <td>0.0</td>\n",
       "      <td>0.040922</td>\n",
       "      <td>0.111111</td>\n",
       "      <td>0.052632</td>\n",
       "      <td>0.000253</td>\n",
       "    </tr>\n",
       "    <tr>\n",
       "      <th>2</th>\n",
       "      <td>0.000000</td>\n",
       "      <td>0.013489</td>\n",
       "      <td>0.166667</td>\n",
       "      <td>0.168421</td>\n",
       "      <td>0.086957</td>\n",
       "      <td>0.157895</td>\n",
       "      <td>0.0</td>\n",
       "      <td>0.0</td>\n",
       "      <td>0.000000</td>\n",
       "      <td>0.037975</td>\n",
       "      <td>1.0</td>\n",
       "      <td>0.5</td>\n",
       "      <td>0.008806</td>\n",
       "      <td>0.111111</td>\n",
       "      <td>0.000000</td>\n",
       "      <td>0.011459</td>\n",
       "    </tr>\n",
       "    <tr>\n",
       "      <th>3</th>\n",
       "      <td>0.000000</td>\n",
       "      <td>0.008584</td>\n",
       "      <td>0.229167</td>\n",
       "      <td>0.231579</td>\n",
       "      <td>0.043478</td>\n",
       "      <td>0.000000</td>\n",
       "      <td>0.0</td>\n",
       "      <td>0.0</td>\n",
       "      <td>0.000000</td>\n",
       "      <td>0.037975</td>\n",
       "      <td>0.0</td>\n",
       "      <td>0.0</td>\n",
       "      <td>0.007511</td>\n",
       "      <td>0.111111</td>\n",
       "      <td>0.052632</td>\n",
       "      <td>0.000169</td>\n",
       "    </tr>\n",
       "    <tr>\n",
       "      <th>4</th>\n",
       "      <td>0.333333</td>\n",
       "      <td>0.008584</td>\n",
       "      <td>0.229167</td>\n",
       "      <td>0.231579</td>\n",
       "      <td>0.043478</td>\n",
       "      <td>0.000000</td>\n",
       "      <td>0.0</td>\n",
       "      <td>0.0</td>\n",
       "      <td>0.000000</td>\n",
       "      <td>0.037975</td>\n",
       "      <td>0.0</td>\n",
       "      <td>0.0</td>\n",
       "      <td>0.010619</td>\n",
       "      <td>0.111111</td>\n",
       "      <td>0.052632</td>\n",
       "      <td>0.000169</td>\n",
       "    </tr>\n",
       "    <tr>\n",
       "      <th>...</th>\n",
       "      <td>...</td>\n",
       "      <td>...</td>\n",
       "      <td>...</td>\n",
       "      <td>...</td>\n",
       "      <td>...</td>\n",
       "      <td>...</td>\n",
       "      <td>...</td>\n",
       "      <td>...</td>\n",
       "      <td>...</td>\n",
       "      <td>...</td>\n",
       "      <td>...</td>\n",
       "      <td>...</td>\n",
       "      <td>...</td>\n",
       "      <td>...</td>\n",
       "      <td>...</td>\n",
       "      <td>...</td>\n",
       "    </tr>\n",
       "    <tr>\n",
       "      <th>2436</th>\n",
       "      <td>0.000000</td>\n",
       "      <td>0.009197</td>\n",
       "      <td>0.135417</td>\n",
       "      <td>0.431579</td>\n",
       "      <td>0.130435</td>\n",
       "      <td>0.105263</td>\n",
       "      <td>0.0</td>\n",
       "      <td>0.0</td>\n",
       "      <td>0.038462</td>\n",
       "      <td>0.113924</td>\n",
       "      <td>0.0</td>\n",
       "      <td>0.0</td>\n",
       "      <td>0.020461</td>\n",
       "      <td>0.111111</td>\n",
       "      <td>0.052632</td>\n",
       "      <td>0.010027</td>\n",
       "    </tr>\n",
       "    <tr>\n",
       "      <th>2437</th>\n",
       "      <td>0.000000</td>\n",
       "      <td>0.000613</td>\n",
       "      <td>0.322917</td>\n",
       "      <td>0.326316</td>\n",
       "      <td>0.043478</td>\n",
       "      <td>0.000000</td>\n",
       "      <td>0.0</td>\n",
       "      <td>0.0</td>\n",
       "      <td>0.000000</td>\n",
       "      <td>0.170886</td>\n",
       "      <td>0.0</td>\n",
       "      <td>0.0</td>\n",
       "      <td>0.014763</td>\n",
       "      <td>0.111111</td>\n",
       "      <td>0.052632</td>\n",
       "      <td>0.010027</td>\n",
       "    </tr>\n",
       "    <tr>\n",
       "      <th>2438</th>\n",
       "      <td>0.166667</td>\n",
       "      <td>0.014102</td>\n",
       "      <td>0.187500</td>\n",
       "      <td>0.326316</td>\n",
       "      <td>0.043478</td>\n",
       "      <td>0.000000</td>\n",
       "      <td>0.0</td>\n",
       "      <td>0.0</td>\n",
       "      <td>0.000000</td>\n",
       "      <td>0.050633</td>\n",
       "      <td>0.0</td>\n",
       "      <td>0.0</td>\n",
       "      <td>0.051541</td>\n",
       "      <td>0.111111</td>\n",
       "      <td>0.105263</td>\n",
       "      <td>0.010027</td>\n",
       "    </tr>\n",
       "    <tr>\n",
       "      <th>2439</th>\n",
       "      <td>0.000000</td>\n",
       "      <td>0.006131</td>\n",
       "      <td>0.104167</td>\n",
       "      <td>0.326316</td>\n",
       "      <td>0.086957</td>\n",
       "      <td>0.000000</td>\n",
       "      <td>0.0</td>\n",
       "      <td>1.0</td>\n",
       "      <td>0.000000</td>\n",
       "      <td>0.018987</td>\n",
       "      <td>0.0</td>\n",
       "      <td>0.0</td>\n",
       "      <td>0.023310</td>\n",
       "      <td>0.111111</td>\n",
       "      <td>0.105263</td>\n",
       "      <td>0.002107</td>\n",
       "    </tr>\n",
       "    <tr>\n",
       "      <th>2440</th>\n",
       "      <td>0.333333</td>\n",
       "      <td>0.006131</td>\n",
       "      <td>0.187500</td>\n",
       "      <td>0.189474</td>\n",
       "      <td>0.043478</td>\n",
       "      <td>0.000000</td>\n",
       "      <td>0.0</td>\n",
       "      <td>0.0</td>\n",
       "      <td>0.115385</td>\n",
       "      <td>0.227848</td>\n",
       "      <td>0.0</td>\n",
       "      <td>0.0</td>\n",
       "      <td>0.041958</td>\n",
       "      <td>0.111111</td>\n",
       "      <td>0.210526</td>\n",
       "      <td>0.017947</td>\n",
       "    </tr>\n",
       "  </tbody>\n",
       "</table>\n",
       "<p>2441 rows × 16 columns</p>\n",
       "</div>"
      ],
      "text/plain": [
       "      url_num_hyphens_dom  url_path_len  url_domain_len  url_hostname_len  \\\n",
       "0                0.000000      0.049050        0.135417          0.136842   \n",
       "1                0.000000      0.013489        0.114583          0.115789   \n",
       "2                0.000000      0.013489        0.166667          0.168421   \n",
       "3                0.000000      0.008584        0.229167          0.231579   \n",
       "4                0.333333      0.008584        0.229167          0.231579   \n",
       "...                   ...           ...             ...               ...   \n",
       "2436             0.000000      0.009197        0.135417          0.431579   \n",
       "2437             0.000000      0.000613        0.322917          0.326316   \n",
       "2438             0.166667      0.014102        0.187500          0.326316   \n",
       "2439             0.000000      0.006131        0.104167          0.326316   \n",
       "2440             0.333333      0.006131        0.187500          0.189474   \n",
       "\n",
       "      url_num_dots  url_num_underscores  url_num_query_para  url_ip_present  \\\n",
       "0         0.130435             0.000000                 0.0             0.0   \n",
       "1         0.086957             0.052632                 0.0             0.0   \n",
       "2         0.086957             0.157895                 0.0             0.0   \n",
       "3         0.043478             0.000000                 0.0             0.0   \n",
       "4         0.043478             0.000000                 0.0             0.0   \n",
       "...            ...                  ...                 ...             ...   \n",
       "2436      0.130435             0.105263                 0.0             0.0   \n",
       "2437      0.043478             0.000000                 0.0             0.0   \n",
       "2438      0.043478             0.000000                 0.0             0.0   \n",
       "2439      0.086957             0.000000                 0.0             1.0   \n",
       "2440      0.043478             0.000000                 0.0             0.0   \n",
       "\n",
       "      html_num_tags('iframe')  html_num_tags('script')  \\\n",
       "0                    0.000000                 0.031646   \n",
       "1                    0.038462                 0.031646   \n",
       "2                    0.000000                 0.037975   \n",
       "3                    0.000000                 0.037975   \n",
       "4                    0.000000                 0.037975   \n",
       "...                       ...                      ...   \n",
       "2436                 0.038462                 0.113924   \n",
       "2437                 0.000000                 0.170886   \n",
       "2438                 0.000000                 0.050633   \n",
       "2439                 0.000000                 0.018987   \n",
       "2440                 0.115385                 0.227848   \n",
       "\n",
       "      html_num_tags('embed')  html_num_tags('object')  html_num_tags('div')  \\\n",
       "0                        0.0                      0.0              0.003108   \n",
       "1                        0.0                      0.0              0.040922   \n",
       "2                        1.0                      0.5              0.008806   \n",
       "3                        0.0                      0.0              0.007511   \n",
       "4                        0.0                      0.0              0.010619   \n",
       "...                      ...                      ...                   ...   \n",
       "2436                     0.0                      0.0              0.020461   \n",
       "2437                     0.0                      0.0              0.014763   \n",
       "2438                     0.0                      0.0              0.051541   \n",
       "2439                     0.0                      0.0              0.023310   \n",
       "2440                     0.0                      0.0              0.041958   \n",
       "\n",
       "      html_num_tags('head')  html_num_tags('form')  html_num_tags('a')  \n",
       "0                  0.111111               0.052632            0.000253  \n",
       "1                  0.111111               0.052632            0.000253  \n",
       "2                  0.111111               0.000000            0.011459  \n",
       "3                  0.111111               0.052632            0.000169  \n",
       "4                  0.111111               0.052632            0.000169  \n",
       "...                     ...                    ...                 ...  \n",
       "2436               0.111111               0.052632            0.010027  \n",
       "2437               0.111111               0.052632            0.010027  \n",
       "2438               0.111111               0.105263            0.010027  \n",
       "2439               0.111111               0.105263            0.002107  \n",
       "2440               0.111111               0.210526            0.017947  \n",
       "\n",
       "[2441 rows x 16 columns]"
      ]
     },
     "execution_count": 255,
     "metadata": {},
     "output_type": "execute_result"
    }
   ],
   "source": [
    "test_data"
   ]
  },
  {
   "cell_type": "code",
   "execution_count": 271,
   "id": "461cecfd",
   "metadata": {},
   "outputs": [],
   "source": [
    "submit_pred = pd.DataFrame(m_gs.predict(test_data))"
   ]
  },
  {
   "cell_type": "code",
   "execution_count": 272,
   "id": "0c5a0a75",
   "metadata": {},
   "outputs": [],
   "source": [
    "submit_pred.replace(['benign', 'malicious'], [1, -1], inplace=True)"
   ]
  },
  {
   "cell_type": "code",
   "execution_count": 276,
   "id": "ac6589f4",
   "metadata": {
    "collapsed": true
   },
   "outputs": [
    {
     "data": {
      "text/plain": [
       "0      -1\n",
       "1      -1\n",
       "2       1\n",
       "3      -1\n",
       "4      -1\n",
       "       ..\n",
       "2436    1\n",
       "2437   -1\n",
       "2438   -1\n",
       "2439   -1\n",
       "2440   -1\n",
       "Name: 0, Length: 2441, dtype: int64"
      ]
     },
     "execution_count": 276,
     "metadata": {},
     "output_type": "execute_result"
    }
   ],
   "source": [
    "submit_pred.loc[:, 0]"
   ]
  },
  {
   "cell_type": "code",
   "execution_count": 277,
   "id": "cd1a3368",
   "metadata": {
    "scrolled": true
   },
   "outputs": [
    {
     "data": {
      "text/plain": [
       "2441"
      ]
     },
     "execution_count": 277,
     "metadata": {},
     "output_type": "execute_result"
    }
   ],
   "source": [
    "len(submit_pred)"
   ]
  },
  {
   "cell_type": "code",
   "execution_count": 278,
   "id": "539d6401",
   "metadata": {
    "scrolled": true
   },
   "outputs": [],
   "source": [
    "submit = pd.DataFrame({\n",
    "    'id': range(0, len(submit_pred)),\n",
    "    'expected': submit_pred.loc[:, 0]\n",
    "})"
   ]
  },
  {
   "cell_type": "code",
   "execution_count": 281,
   "id": "bf5b040d",
   "metadata": {},
   "outputs": [],
   "source": [
    "submit.to_csv('submission.csv',index = False)"
   ]
  },
  {
   "cell_type": "code",
   "execution_count": 503,
   "id": "8591e366",
   "metadata": {},
   "outputs": [],
   "source": [
    "def plot_feature_importance(importance, names):\n",
    "    feature_importance = np.array(importance)\n",
    "    feature_names = np.array(names)\n",
    "\n",
    "    data={'feature_names':feature_names,'feature_importance':feature_importance}\n",
    "    fi_df = pd.DataFrame(data)\n",
    "\n",
    "    fi_df.sort_values(by=['feature_importance'], ascending=False,inplace=True)\n",
    "    fi_df.reset_index(drop=True, inplace = True)\n",
    "\n",
    "    plt.figure(figsize=(10,8))\n",
    "    sns.barplot(x='feature_importance', y='feature_names', data = fi_df)\n",
    "\n",
    "    plt.xlabel('FEATURE IMPORTANCE')\n",
    "    plt.ylabel('FEATURE NAMES')\n",
    "    plt.grid()\n",
    "\n",
    "    return fi_df"
   ]
  },
  {
   "cell_type": "markdown",
   "id": "18307d8f",
   "metadata": {},
   "source": [
    "## 모델링2 : 랜덤포레스트"
   ]
  },
  {
   "cell_type": "code",
   "execution_count": 485,
   "id": "95a78ca1",
   "metadata": {},
   "outputs": [],
   "source": [
    "test_data['under_per_length'] = test_data['url_num_underscores'] / test_data['url_len']"
   ]
  },
  {
   "cell_type": "code",
   "execution_count": 486,
   "id": "309a76d1",
   "metadata": {},
   "outputs": [],
   "source": [
    "test_data['hyphen_per_len'] = test_data['url_num_hyphens_dom'] / test_data['url_len']"
   ]
  },
  {
   "cell_type": "code",
   "execution_count": 534,
   "id": "775d55af",
   "metadata": {},
   "outputs": [],
   "source": [
    "test_data['domain+hostname'] = test_data['url_domain_len'] + test_data['url_hostname_len']"
   ]
  },
  {
   "cell_type": "code",
   "execution_count": 535,
   "id": "e99c407d",
   "metadata": {},
   "outputs": [
    {
     "name": "stdout",
     "output_type": "stream",
     "text": [
      "<class 'pandas.core.frame.DataFrame'>\n",
      "RangeIndex: 2441 entries, 0 to 2440\n",
      "Data columns (total 26 columns):\n",
      " #   Column                   Non-Null Count  Dtype  \n",
      "---  ------                   --------------  -----  \n",
      " 0   url_len                  2441 non-null   int64  \n",
      " 1   url_num_hyphens_dom      2441 non-null   int64  \n",
      " 2   url_path_len             2441 non-null   float64\n",
      " 3   url_domain_len           2441 non-null   float64\n",
      " 4   url_hostname_len         2441 non-null   float64\n",
      " 5   url_num_dots             2441 non-null   int64  \n",
      " 6   url_num_underscores      2441 non-null   int64  \n",
      " 7   url_query_len            2441 non-null   int64  \n",
      " 8   url_num_query_para       2441 non-null   int64  \n",
      " 9   url_ip_present           2441 non-null   int64  \n",
      " 10  url_entropy              2441 non-null   float64\n",
      " 11  url_chinese_present      2441 non-null   int64  \n",
      " 12  url_port                 2441 non-null   int64  \n",
      " 13  html_num_tags('iframe')  2441 non-null   int64  \n",
      " 14  html_num_tags('script')  2441 non-null   float64\n",
      " 15  html_num_tags('embed')   2441 non-null   int64  \n",
      " 16  html_num_tags('object')  2441 non-null   int64  \n",
      " 17  html_num_tags('div')     2441 non-null   int64  \n",
      " 18  html_num_tags('head')    2441 non-null   int64  \n",
      " 19  html_num_tags('body')    2441 non-null   int64  \n",
      " 20  html_num_tags('form')    2441 non-null   float64\n",
      " 21  html_num_tags('a')       2441 non-null   float64\n",
      " 22  html_num_tags('applet')  2441 non-null   int64  \n",
      " 23  under_per_length         2441 non-null   float64\n",
      " 24  hyphen_per_len           2441 non-null   float64\n",
      " 25  domain+hostname          2441 non-null   float64\n",
      "dtypes: float64(10), int64(16)\n",
      "memory usage: 496.0 KB\n"
     ]
    }
   ],
   "source": [
    "test_data.info()"
   ]
  },
  {
   "cell_type": "code",
   "execution_count": 517,
   "id": "c823f133",
   "metadata": {},
   "outputs": [],
   "source": [
    "from sklearn.ensemble import RandomForestClassifier "
   ]
  },
  {
   "cell_type": "code",
   "execution_count": 518,
   "id": "9000895f",
   "metadata": {},
   "outputs": [],
   "source": [
    "model2 = RandomForestClassifier()\n",
    "params = {\n",
    "    'n_estimators':  range(100, 201, 50),\n",
    "    'max_features': range(1, 21)\n",
    "}\n",
    "m2 = RandomForestClassifier()\n",
    "m_gs2 = GridSearchCV(m2, params, cv=5, verbose=3)"
   ]
  },
  {
   "cell_type": "code",
   "execution_count": 548,
   "id": "30b7bca3",
   "metadata": {
    "scrolled": true
   },
   "outputs": [
    {
     "name": "stdout",
     "output_type": "stream",
     "text": [
      "Fitting 5 folds for each of 60 candidates, totalling 300 fits\n",
      "[CV 1/5] END ...............max_features=1, n_estimators=100; total time=   0.3s\n",
      "[CV 2/5] END ...............max_features=1, n_estimators=100; total time=   0.2s\n",
      "[CV 3/5] END ...............max_features=1, n_estimators=100; total time=   0.1s\n",
      "[CV 4/5] END ...............max_features=1, n_estimators=100; total time=   0.1s\n",
      "[CV 5/5] END ...............max_features=1, n_estimators=100; total time=   0.2s\n",
      "[CV 1/5] END ...............max_features=1, n_estimators=150; total time=   0.3s\n",
      "[CV 2/5] END ...............max_features=1, n_estimators=150; total time=   0.3s\n",
      "[CV 3/5] END ...............max_features=1, n_estimators=150; total time=   0.3s\n",
      "[CV 4/5] END ...............max_features=1, n_estimators=150; total time=   0.3s\n",
      "[CV 5/5] END ...............max_features=1, n_estimators=150; total time=   0.3s\n",
      "[CV 1/5] END ...............max_features=1, n_estimators=200; total time=   0.4s\n",
      "[CV 2/5] END ...............max_features=1, n_estimators=200; total time=   0.4s\n",
      "[CV 3/5] END ...............max_features=1, n_estimators=200; total time=   0.4s\n",
      "[CV 4/5] END ...............max_features=1, n_estimators=200; total time=   0.4s\n",
      "[CV 5/5] END ...............max_features=1, n_estimators=200; total time=   0.4s\n",
      "[CV 1/5] END ...............max_features=2, n_estimators=100; total time=   0.3s\n",
      "[CV 2/5] END ...............max_features=2, n_estimators=100; total time=   0.2s\n",
      "[CV 3/5] END ...............max_features=2, n_estimators=100; total time=   0.2s\n",
      "[CV 4/5] END ...............max_features=2, n_estimators=100; total time=   0.2s\n",
      "[CV 5/5] END ...............max_features=2, n_estimators=100; total time=   0.2s\n",
      "[CV 1/5] END ...............max_features=2, n_estimators=150; total time=   0.3s\n",
      "[CV 2/5] END ...............max_features=2, n_estimators=150; total time=   0.3s\n",
      "[CV 3/5] END ...............max_features=2, n_estimators=150; total time=   0.4s\n",
      "[CV 4/5] END ...............max_features=2, n_estimators=150; total time=   0.3s\n",
      "[CV 5/5] END ...............max_features=2, n_estimators=150; total time=   0.3s\n",
      "[CV 1/5] END ...............max_features=2, n_estimators=200; total time=   0.4s\n",
      "[CV 2/5] END ...............max_features=2, n_estimators=200; total time=   0.4s\n",
      "[CV 3/5] END ...............max_features=2, n_estimators=200; total time=   0.4s\n",
      "[CV 4/5] END ...............max_features=2, n_estimators=200; total time=   0.5s\n",
      "[CV 5/5] END ...............max_features=2, n_estimators=200; total time=   0.5s\n",
      "[CV 1/5] END ...............max_features=3, n_estimators=100; total time=   0.2s\n",
      "[CV 2/5] END ...............max_features=3, n_estimators=100; total time=   0.2s\n",
      "[CV 3/5] END ...............max_features=3, n_estimators=100; total time=   0.2s\n",
      "[CV 4/5] END ...............max_features=3, n_estimators=100; total time=   0.2s\n",
      "[CV 5/5] END ...............max_features=3, n_estimators=100; total time=   0.2s\n",
      "[CV 1/5] END ...............max_features=3, n_estimators=150; total time=   0.4s\n",
      "[CV 2/5] END ...............max_features=3, n_estimators=150; total time=   0.3s\n",
      "[CV 3/5] END ...............max_features=3, n_estimators=150; total time=   0.3s\n",
      "[CV 4/5] END ...............max_features=3, n_estimators=150; total time=   0.3s\n",
      "[CV 5/5] END ...............max_features=3, n_estimators=150; total time=   0.3s\n",
      "[CV 1/5] END ...............max_features=3, n_estimators=200; total time=   0.5s\n",
      "[CV 2/5] END ...............max_features=3, n_estimators=200; total time=   0.5s\n",
      "[CV 3/5] END ...............max_features=3, n_estimators=200; total time=   0.5s\n",
      "[CV 4/5] END ...............max_features=3, n_estimators=200; total time=   0.4s\n",
      "[CV 5/5] END ...............max_features=3, n_estimators=200; total time=   0.5s\n",
      "[CV 1/5] END ...............max_features=4, n_estimators=100; total time=   0.2s\n",
      "[CV 2/5] END ...............max_features=4, n_estimators=100; total time=   0.3s\n",
      "[CV 3/5] END ...............max_features=4, n_estimators=100; total time=   0.2s\n",
      "[CV 4/5] END ...............max_features=4, n_estimators=100; total time=   0.2s\n",
      "[CV 5/5] END ...............max_features=4, n_estimators=100; total time=   0.2s\n",
      "[CV 1/5] END ...............max_features=4, n_estimators=150; total time=   0.3s\n",
      "[CV 2/5] END ...............max_features=4, n_estimators=150; total time=   0.3s\n",
      "[CV 3/5] END ...............max_features=4, n_estimators=150; total time=   0.3s\n",
      "[CV 4/5] END ...............max_features=4, n_estimators=150; total time=   0.4s\n",
      "[CV 5/5] END ...............max_features=4, n_estimators=150; total time=   0.5s\n",
      "[CV 1/5] END ...............max_features=4, n_estimators=200; total time=   0.5s\n",
      "[CV 2/5] END ...............max_features=4, n_estimators=200; total time=   0.5s\n",
      "[CV 3/5] END ...............max_features=4, n_estimators=200; total time=   0.5s\n",
      "[CV 4/5] END ...............max_features=4, n_estimators=200; total time=   0.6s\n",
      "[CV 5/5] END ...............max_features=4, n_estimators=200; total time=   0.5s\n",
      "[CV 1/5] END ...............max_features=5, n_estimators=100; total time=   0.2s\n",
      "[CV 2/5] END ...............max_features=5, n_estimators=100; total time=   0.2s\n",
      "[CV 3/5] END ...............max_features=5, n_estimators=100; total time=   0.2s\n",
      "[CV 4/5] END ...............max_features=5, n_estimators=100; total time=   0.2s\n",
      "[CV 5/5] END ...............max_features=5, n_estimators=100; total time=   0.2s\n",
      "[CV 1/5] END ...............max_features=5, n_estimators=150; total time=   0.5s\n",
      "[CV 2/5] END ...............max_features=5, n_estimators=150; total time=   0.4s\n",
      "[CV 3/5] END ...............max_features=5, n_estimators=150; total time=   0.4s\n",
      "[CV 4/5] END ...............max_features=5, n_estimators=150; total time=   0.4s\n",
      "[CV 5/5] END ...............max_features=5, n_estimators=150; total time=   0.4s\n",
      "[CV 1/5] END ...............max_features=5, n_estimators=200; total time=   0.6s\n",
      "[CV 2/5] END ...............max_features=5, n_estimators=200; total time=   0.6s\n",
      "[CV 3/5] END ...............max_features=5, n_estimators=200; total time=   0.5s\n",
      "[CV 4/5] END ...............max_features=5, n_estimators=200; total time=   0.6s\n",
      "[CV 5/5] END ...............max_features=5, n_estimators=200; total time=   0.6s\n",
      "[CV 1/5] END ...............max_features=6, n_estimators=100; total time=   0.3s\n",
      "[CV 2/5] END ...............max_features=6, n_estimators=100; total time=   0.3s\n",
      "[CV 3/5] END ...............max_features=6, n_estimators=100; total time=   0.2s\n",
      "[CV 4/5] END ...............max_features=6, n_estimators=100; total time=   0.3s\n",
      "[CV 5/5] END ...............max_features=6, n_estimators=100; total time=   0.3s\n",
      "[CV 1/5] END ...............max_features=6, n_estimators=150; total time=   0.5s\n",
      "[CV 2/5] END ...............max_features=6, n_estimators=150; total time=   0.4s\n",
      "[CV 3/5] END ...............max_features=6, n_estimators=150; total time=   0.4s\n",
      "[CV 4/5] END ...............max_features=6, n_estimators=150; total time=   0.4s\n",
      "[CV 5/5] END ...............max_features=6, n_estimators=150; total time=   0.4s\n",
      "[CV 1/5] END ...............max_features=6, n_estimators=200; total time=   0.6s\n",
      "[CV 2/5] END ...............max_features=6, n_estimators=200; total time=   0.7s\n",
      "[CV 3/5] END ...............max_features=6, n_estimators=200; total time=   0.6s\n",
      "[CV 4/5] END ...............max_features=6, n_estimators=200; total time=   0.7s\n",
      "[CV 5/5] END ...............max_features=6, n_estimators=200; total time=   0.6s\n",
      "[CV 1/5] END ...............max_features=7, n_estimators=100; total time=   0.3s\n",
      "[CV 2/5] END ...............max_features=7, n_estimators=100; total time=   0.3s\n",
      "[CV 3/5] END ...............max_features=7, n_estimators=100; total time=   0.3s\n",
      "[CV 4/5] END ...............max_features=7, n_estimators=100; total time=   0.3s\n",
      "[CV 5/5] END ...............max_features=7, n_estimators=100; total time=   0.3s\n",
      "[CV 1/5] END ...............max_features=7, n_estimators=150; total time=   0.5s\n",
      "[CV 2/5] END ...............max_features=7, n_estimators=150; total time=   0.6s\n",
      "[CV 3/5] END ...............max_features=7, n_estimators=150; total time=   0.5s\n",
      "[CV 4/5] END ...............max_features=7, n_estimators=150; total time=   0.4s\n",
      "[CV 5/5] END ...............max_features=7, n_estimators=150; total time=   0.6s\n",
      "[CV 1/5] END ...............max_features=7, n_estimators=200; total time=   0.6s\n"
     ]
    },
    {
     "name": "stdout",
     "output_type": "stream",
     "text": [
      "[CV 2/5] END ...............max_features=7, n_estimators=200; total time=   0.7s\n",
      "[CV 3/5] END ...............max_features=7, n_estimators=200; total time=   0.7s\n",
      "[CV 4/5] END ...............max_features=7, n_estimators=200; total time=   0.7s\n",
      "[CV 5/5] END ...............max_features=7, n_estimators=200; total time=   0.8s\n",
      "[CV 1/5] END ...............max_features=8, n_estimators=100; total time=   0.3s\n",
      "[CV 2/5] END ...............max_features=8, n_estimators=100; total time=   0.4s\n",
      "[CV 3/5] END ...............max_features=8, n_estimators=100; total time=   0.5s\n",
      "[CV 4/5] END ...............max_features=8, n_estimators=100; total time=   0.4s\n",
      "[CV 5/5] END ...............max_features=8, n_estimators=100; total time=   0.3s\n",
      "[CV 1/5] END ...............max_features=8, n_estimators=150; total time=   0.5s\n",
      "[CV 2/5] END ...............max_features=8, n_estimators=150; total time=   0.5s\n",
      "[CV 3/5] END ...............max_features=8, n_estimators=150; total time=   0.5s\n",
      "[CV 4/5] END ...............max_features=8, n_estimators=150; total time=   0.7s\n",
      "[CV 5/5] END ...............max_features=8, n_estimators=150; total time=   0.5s\n",
      "[CV 1/5] END ...............max_features=8, n_estimators=200; total time=   0.8s\n",
      "[CV 2/5] END ...............max_features=8, n_estimators=200; total time=   0.8s\n",
      "[CV 3/5] END ...............max_features=8, n_estimators=200; total time=   0.8s\n",
      "[CV 4/5] END ...............max_features=8, n_estimators=200; total time=   0.7s\n",
      "[CV 5/5] END ...............max_features=8, n_estimators=200; total time=   0.7s\n",
      "[CV 1/5] END ...............max_features=9, n_estimators=100; total time=   0.5s\n",
      "[CV 2/5] END ...............max_features=9, n_estimators=100; total time=   0.4s\n",
      "[CV 3/5] END ...............max_features=9, n_estimators=100; total time=   0.4s\n",
      "[CV 4/5] END ...............max_features=9, n_estimators=100; total time=   0.4s\n",
      "[CV 5/5] END ...............max_features=9, n_estimators=100; total time=   0.4s\n",
      "[CV 1/5] END ...............max_features=9, n_estimators=150; total time=   0.6s\n",
      "[CV 2/5] END ...............max_features=9, n_estimators=150; total time=   0.5s\n",
      "[CV 3/5] END ...............max_features=9, n_estimators=150; total time=   0.5s\n",
      "[CV 4/5] END ...............max_features=9, n_estimators=150; total time=   0.6s\n",
      "[CV 5/5] END ...............max_features=9, n_estimators=150; total time=   0.7s\n",
      "[CV 1/5] END ...............max_features=9, n_estimators=200; total time=   0.7s\n",
      "[CV 2/5] END ...............max_features=9, n_estimators=200; total time=   0.9s\n",
      "[CV 3/5] END ...............max_features=9, n_estimators=200; total time=   0.8s\n",
      "[CV 4/5] END ...............max_features=9, n_estimators=200; total time=   0.8s\n",
      "[CV 5/5] END ...............max_features=9, n_estimators=200; total time=   0.8s\n",
      "[CV 1/5] END ..............max_features=10, n_estimators=100; total time=   0.4s\n",
      "[CV 2/5] END ..............max_features=10, n_estimators=100; total time=   0.5s\n",
      "[CV 3/5] END ..............max_features=10, n_estimators=100; total time=   0.4s\n",
      "[CV 4/5] END ..............max_features=10, n_estimators=100; total time=   0.4s\n",
      "[CV 5/5] END ..............max_features=10, n_estimators=100; total time=   0.4s\n",
      "[CV 1/5] END ..............max_features=10, n_estimators=150; total time=   0.7s\n",
      "[CV 2/5] END ..............max_features=10, n_estimators=150; total time=   0.6s\n",
      "[CV 3/5] END ..............max_features=10, n_estimators=150; total time=   0.6s\n",
      "[CV 4/5] END ..............max_features=10, n_estimators=150; total time=   0.6s\n",
      "[CV 5/5] END ..............max_features=10, n_estimators=150; total time=   0.6s\n",
      "[CV 1/5] END ..............max_features=10, n_estimators=200; total time=   0.9s\n",
      "[CV 2/5] END ..............max_features=10, n_estimators=200; total time=   0.9s\n",
      "[CV 3/5] END ..............max_features=10, n_estimators=200; total time=   0.9s\n",
      "[CV 4/5] END ..............max_features=10, n_estimators=200; total time=   0.9s\n",
      "[CV 5/5] END ..............max_features=10, n_estimators=200; total time=   0.8s\n",
      "[CV 1/5] END ..............max_features=11, n_estimators=100; total time=   0.4s\n",
      "[CV 2/5] END ..............max_features=11, n_estimators=100; total time=   0.5s\n",
      "[CV 3/5] END ..............max_features=11, n_estimators=100; total time=   0.4s\n",
      "[CV 4/5] END ..............max_features=11, n_estimators=100; total time=   0.4s\n",
      "[CV 5/5] END ..............max_features=11, n_estimators=100; total time=   0.5s\n",
      "[CV 1/5] END ..............max_features=11, n_estimators=150; total time=   0.6s\n",
      "[CV 2/5] END ..............max_features=11, n_estimators=150; total time=   0.7s\n",
      "[CV 3/5] END ..............max_features=11, n_estimators=150; total time=   0.7s\n",
      "[CV 4/5] END ..............max_features=11, n_estimators=150; total time=   0.6s\n",
      "[CV 5/5] END ..............max_features=11, n_estimators=150; total time=   0.8s\n",
      "[CV 1/5] END ..............max_features=11, n_estimators=200; total time=   0.9s\n",
      "[CV 2/5] END ..............max_features=11, n_estimators=200; total time=   1.0s\n",
      "[CV 3/5] END ..............max_features=11, n_estimators=200; total time=   0.8s\n",
      "[CV 4/5] END ..............max_features=11, n_estimators=200; total time=   0.9s\n",
      "[CV 5/5] END ..............max_features=11, n_estimators=200; total time=   1.0s\n",
      "[CV 1/5] END ..............max_features=12, n_estimators=100; total time=   0.5s\n",
      "[CV 2/5] END ..............max_features=12, n_estimators=100; total time=   0.4s\n",
      "[CV 3/5] END ..............max_features=12, n_estimators=100; total time=   0.5s\n",
      "[CV 4/5] END ..............max_features=12, n_estimators=100; total time=   0.5s\n",
      "[CV 5/5] END ..............max_features=12, n_estimators=100; total time=   0.4s\n",
      "[CV 1/5] END ..............max_features=12, n_estimators=150; total time=   0.7s\n",
      "[CV 2/5] END ..............max_features=12, n_estimators=150; total time=   0.7s\n",
      "[CV 3/5] END ..............max_features=12, n_estimators=150; total time=   0.6s\n",
      "[CV 4/5] END ..............max_features=12, n_estimators=150; total time=   0.8s\n",
      "[CV 5/5] END ..............max_features=12, n_estimators=150; total time=   0.6s\n",
      "[CV 1/5] END ..............max_features=12, n_estimators=200; total time=   1.0s\n",
      "[CV 2/5] END ..............max_features=12, n_estimators=200; total time=   1.0s\n",
      "[CV 3/5] END ..............max_features=12, n_estimators=200; total time=   0.9s\n",
      "[CV 4/5] END ..............max_features=12, n_estimators=200; total time=   1.0s\n",
      "[CV 5/5] END ..............max_features=12, n_estimators=200; total time=   1.0s\n",
      "[CV 1/5] END ..............max_features=13, n_estimators=100; total time=   0.6s\n",
      "[CV 2/5] END ..............max_features=13, n_estimators=100; total time=   0.5s\n",
      "[CV 3/5] END ..............max_features=13, n_estimators=100; total time=   0.5s\n",
      "[CV 4/5] END ..............max_features=13, n_estimators=100; total time=   0.5s\n",
      "[CV 5/5] END ..............max_features=13, n_estimators=100; total time=   0.4s\n",
      "[CV 1/5] END ..............max_features=13, n_estimators=150; total time=   0.7s\n",
      "[CV 2/5] END ..............max_features=13, n_estimators=150; total time=   0.9s\n",
      "[CV 3/5] END ..............max_features=13, n_estimators=150; total time=   0.8s\n",
      "[CV 4/5] END ..............max_features=13, n_estimators=150; total time=   0.8s\n",
      "[CV 5/5] END ..............max_features=13, n_estimators=150; total time=   0.7s\n",
      "[CV 1/5] END ..............max_features=13, n_estimators=200; total time=   1.0s\n",
      "[CV 2/5] END ..............max_features=13, n_estimators=200; total time=   1.0s\n",
      "[CV 3/5] END ..............max_features=13, n_estimators=200; total time=   1.1s\n",
      "[CV 4/5] END ..............max_features=13, n_estimators=200; total time=   1.0s\n",
      "[CV 5/5] END ..............max_features=13, n_estimators=200; total time=   1.0s\n",
      "[CV 1/5] END ..............max_features=14, n_estimators=100; total time=   0.5s\n",
      "[CV 2/5] END ..............max_features=14, n_estimators=100; total time=   0.5s\n",
      "[CV 3/5] END ..............max_features=14, n_estimators=100; total time=   0.5s\n",
      "[CV 4/5] END ..............max_features=14, n_estimators=100; total time=   0.6s\n",
      "[CV 5/5] END ..............max_features=14, n_estimators=100; total time=   0.5s\n",
      "[CV 1/5] END ..............max_features=14, n_estimators=150; total time=   0.8s\n",
      "[CV 2/5] END ..............max_features=14, n_estimators=150; total time=   0.8s\n",
      "[CV 3/5] END ..............max_features=14, n_estimators=150; total time=   0.7s\n"
     ]
    },
    {
     "name": "stdout",
     "output_type": "stream",
     "text": [
      "[CV 4/5] END ..............max_features=14, n_estimators=150; total time=   0.7s\n",
      "[CV 5/5] END ..............max_features=14, n_estimators=150; total time=   0.7s\n",
      "[CV 1/5] END ..............max_features=14, n_estimators=200; total time=   1.2s\n",
      "[CV 2/5] END ..............max_features=14, n_estimators=200; total time=   1.2s\n",
      "[CV 3/5] END ..............max_features=14, n_estimators=200; total time=   1.1s\n",
      "[CV 4/5] END ..............max_features=14, n_estimators=200; total time=   1.1s\n",
      "[CV 5/5] END ..............max_features=14, n_estimators=200; total time=   1.2s\n",
      "[CV 1/5] END ..............max_features=15, n_estimators=100; total time=   0.5s\n",
      "[CV 2/5] END ..............max_features=15, n_estimators=100; total time=   0.6s\n",
      "[CV 3/5] END ..............max_features=15, n_estimators=100; total time=   0.5s\n",
      "[CV 4/5] END ..............max_features=15, n_estimators=100; total time=   0.5s\n",
      "[CV 5/5] END ..............max_features=15, n_estimators=100; total time=   0.6s\n",
      "[CV 1/5] END ..............max_features=15, n_estimators=150; total time=   0.8s\n",
      "[CV 2/5] END ..............max_features=15, n_estimators=150; total time=   0.9s\n",
      "[CV 3/5] END ..............max_features=15, n_estimators=150; total time=   0.9s\n",
      "[CV 4/5] END ..............max_features=15, n_estimators=150; total time=   1.0s\n",
      "[CV 5/5] END ..............max_features=15, n_estimators=150; total time=   0.9s\n",
      "[CV 1/5] END ..............max_features=15, n_estimators=200; total time=   1.2s\n",
      "[CV 2/5] END ..............max_features=15, n_estimators=200; total time=   1.2s\n",
      "[CV 3/5] END ..............max_features=15, n_estimators=200; total time=   1.2s\n",
      "[CV 4/5] END ..............max_features=15, n_estimators=200; total time=   1.1s\n",
      "[CV 5/5] END ..............max_features=15, n_estimators=200; total time=   1.1s\n",
      "[CV 1/5] END ..............max_features=16, n_estimators=100; total time=   0.6s\n",
      "[CV 2/5] END ..............max_features=16, n_estimators=100; total time=   0.6s\n",
      "[CV 3/5] END ..............max_features=16, n_estimators=100; total time=   0.7s\n",
      "[CV 4/5] END ..............max_features=16, n_estimators=100; total time=   0.6s\n",
      "[CV 5/5] END ..............max_features=16, n_estimators=100; total time=   0.6s\n",
      "[CV 1/5] END ..............max_features=16, n_estimators=150; total time=   0.8s\n",
      "[CV 2/5] END ..............max_features=16, n_estimators=150; total time=   0.9s\n",
      "[CV 3/5] END ..............max_features=16, n_estimators=150; total time=   0.9s\n",
      "[CV 4/5] END ..............max_features=16, n_estimators=150; total time=   1.0s\n",
      "[CV 5/5] END ..............max_features=16, n_estimators=150; total time=   0.9s\n",
      "[CV 1/5] END ..............max_features=16, n_estimators=200; total time=   1.1s\n",
      "[CV 2/5] END ..............max_features=16, n_estimators=200; total time=   1.2s\n",
      "[CV 3/5] END ..............max_features=16, n_estimators=200; total time=   1.3s\n",
      "[CV 4/5] END ..............max_features=16, n_estimators=200; total time=   1.4s\n",
      "[CV 5/5] END ..............max_features=16, n_estimators=200; total time=   1.3s\n",
      "[CV 1/5] END ..............max_features=17, n_estimators=100; total time=   0.6s\n",
      "[CV 2/5] END ..............max_features=17, n_estimators=100; total time=   0.7s\n",
      "[CV 3/5] END ..............max_features=17, n_estimators=100; total time=   0.8s\n",
      "[CV 4/5] END ..............max_features=17, n_estimators=100; total time=   1.0s\n",
      "[CV 5/5] END ..............max_features=17, n_estimators=100; total time=   0.8s\n",
      "[CV 1/5] END ..............max_features=17, n_estimators=150; total time=   1.0s\n",
      "[CV 2/5] END ..............max_features=17, n_estimators=150; total time=   1.0s\n",
      "[CV 3/5] END ..............max_features=17, n_estimators=150; total time=   1.0s\n",
      "[CV 4/5] END ..............max_features=17, n_estimators=150; total time=   1.0s\n",
      "[CV 5/5] END ..............max_features=17, n_estimators=150; total time=   1.0s\n",
      "[CV 1/5] END ..............max_features=17, n_estimators=200; total time=   1.3s\n",
      "[CV 2/5] END ..............max_features=17, n_estimators=200; total time=   1.3s\n",
      "[CV 3/5] END ..............max_features=17, n_estimators=200; total time=   1.4s\n",
      "[CV 4/5] END ..............max_features=17, n_estimators=200; total time=   1.4s\n",
      "[CV 5/5] END ..............max_features=17, n_estimators=200; total time=   1.2s\n",
      "[CV 1/5] END ..............max_features=18, n_estimators=100; total time=   0.6s\n",
      "[CV 2/5] END ..............max_features=18, n_estimators=100; total time=   0.6s\n",
      "[CV 3/5] END ..............max_features=18, n_estimators=100; total time=   0.6s\n",
      "[CV 4/5] END ..............max_features=18, n_estimators=100; total time=   0.8s\n",
      "[CV 5/5] END ..............max_features=18, n_estimators=100; total time=   0.7s\n",
      "[CV 1/5] END ..............max_features=18, n_estimators=150; total time=   1.0s\n",
      "[CV 2/5] END ..............max_features=18, n_estimators=150; total time=   1.0s\n",
      "[CV 3/5] END ..............max_features=18, n_estimators=150; total time=   0.9s\n",
      "[CV 4/5] END ..............max_features=18, n_estimators=150; total time=   1.1s\n",
      "[CV 5/5] END ..............max_features=18, n_estimators=150; total time=   1.2s\n",
      "[CV 1/5] END ..............max_features=18, n_estimators=200; total time=   1.6s\n",
      "[CV 2/5] END ..............max_features=18, n_estimators=200; total time=   1.8s\n",
      "[CV 3/5] END ..............max_features=18, n_estimators=200; total time=   1.9s\n",
      "[CV 4/5] END ..............max_features=18, n_estimators=200; total time=   1.6s\n",
      "[CV 5/5] END ..............max_features=18, n_estimators=200; total time=   1.6s\n",
      "[CV 1/5] END ..............max_features=19, n_estimators=100; total time=   1.0s\n",
      "[CV 2/5] END ..............max_features=19, n_estimators=100; total time=   0.9s\n",
      "[CV 3/5] END ..............max_features=19, n_estimators=100; total time=   0.7s\n",
      "[CV 4/5] END ..............max_features=19, n_estimators=100; total time=   0.7s\n",
      "[CV 5/5] END ..............max_features=19, n_estimators=100; total time=   0.6s\n",
      "[CV 1/5] END ..............max_features=19, n_estimators=150; total time=   1.1s\n",
      "[CV 2/5] END ..............max_features=19, n_estimators=150; total time=   1.2s\n",
      "[CV 3/5] END ..............max_features=19, n_estimators=150; total time=   1.0s\n",
      "[CV 4/5] END ..............max_features=19, n_estimators=150; total time=   1.0s\n",
      "[CV 5/5] END ..............max_features=19, n_estimators=150; total time=   0.9s\n",
      "[CV 1/5] END ..............max_features=19, n_estimators=200; total time=   1.3s\n",
      "[CV 2/5] END ..............max_features=19, n_estimators=200; total time=   1.5s\n",
      "[CV 3/5] END ..............max_features=19, n_estimators=200; total time=   1.3s\n",
      "[CV 4/5] END ..............max_features=19, n_estimators=200; total time=   1.3s\n",
      "[CV 5/5] END ..............max_features=19, n_estimators=200; total time=   1.3s\n",
      "[CV 1/5] END ..............max_features=20, n_estimators=100; total time=   0.7s\n",
      "[CV 2/5] END ..............max_features=20, n_estimators=100; total time=   0.7s\n",
      "[CV 3/5] END ..............max_features=20, n_estimators=100; total time=   0.6s\n",
      "[CV 4/5] END ..............max_features=20, n_estimators=100; total time=   0.6s\n",
      "[CV 5/5] END ..............max_features=20, n_estimators=100; total time=   0.6s\n",
      "[CV 1/5] END ..............max_features=20, n_estimators=150; total time=   0.9s\n",
      "[CV 2/5] END ..............max_features=20, n_estimators=150; total time=   1.1s\n",
      "[CV 3/5] END ..............max_features=20, n_estimators=150; total time=   1.0s\n",
      "[CV 4/5] END ..............max_features=20, n_estimators=150; total time=   0.9s\n",
      "[CV 5/5] END ..............max_features=20, n_estimators=150; total time=   1.0s\n",
      "[CV 1/5] END ..............max_features=20, n_estimators=200; total time=   1.6s\n",
      "[CV 2/5] END ..............max_features=20, n_estimators=200; total time=   1.6s\n",
      "[CV 3/5] END ..............max_features=20, n_estimators=200; total time=   1.4s\n",
      "[CV 4/5] END ..............max_features=20, n_estimators=200; total time=   1.4s\n",
      "[CV 5/5] END ..............max_features=20, n_estimators=200; total time=   1.6s\n"
     ]
    },
    {
     "data": {
      "text/plain": [
       "GridSearchCV(cv=5, estimator=RandomForestClassifier(),\n",
       "             param_grid={'max_features': range(1, 21),\n",
       "                         'n_estimators': range(100, 201, 50)},\n",
       "             verbose=3)"
      ]
     },
     "execution_count": 548,
     "metadata": {},
     "output_type": "execute_result"
    }
   ],
   "source": [
    "m_gs2.fit(x_train, y_train)"
   ]
  },
  {
   "cell_type": "code",
   "execution_count": 549,
   "id": "d4263ff7",
   "metadata": {
    "scrolled": true
   },
   "outputs": [
    {
     "data": {
      "text/plain": [
       "0.9594382005360623"
      ]
     },
     "execution_count": 549,
     "metadata": {},
     "output_type": "execute_result"
    }
   ],
   "source": [
    "m_gs2.best_score_ # 0.957879507797271"
   ]
  },
  {
   "cell_type": "code",
   "execution_count": 550,
   "id": "4163114b",
   "metadata": {},
   "outputs": [],
   "source": [
    "pred2 = m_gs2.predict(test_data)"
   ]
  },
  {
   "cell_type": "code",
   "execution_count": 551,
   "id": "34ba8741",
   "metadata": {},
   "outputs": [],
   "source": [
    "submit_pred2 = pd.DataFrame(pred2)\n",
    "submit_pred2.replace(['benign', 'malicious'], [1, -1], inplace=True)\n",
    "submit2 = pd.DataFrame({\n",
    "    'id': range(0, len(submit_pred2)),\n",
    "    'expected': submit_pred2.loc[:, 0]\n",
    "})"
   ]
  },
  {
   "cell_type": "code",
   "execution_count": 552,
   "id": "80783877",
   "metadata": {},
   "outputs": [],
   "source": [
    "submit2.to_csv('submission2.csv',index = False)"
   ]
  },
  {
   "cell_type": "code",
   "execution_count": 541,
   "id": "d5224c65",
   "metadata": {},
   "outputs": [
    {
     "data": {
      "text/html": [
       "<div>\n",
       "<style scoped>\n",
       "    .dataframe tbody tr th:only-of-type {\n",
       "        vertical-align: middle;\n",
       "    }\n",
       "\n",
       "    .dataframe tbody tr th {\n",
       "        vertical-align: top;\n",
       "    }\n",
       "\n",
       "    .dataframe thead th {\n",
       "        text-align: right;\n",
       "    }\n",
       "</style>\n",
       "<table border=\"1\" class=\"dataframe\">\n",
       "  <thead>\n",
       "    <tr style=\"text-align: right;\">\n",
       "      <th></th>\n",
       "      <th>feature_names</th>\n",
       "      <th>feature_importance</th>\n",
       "    </tr>\n",
       "  </thead>\n",
       "  <tbody>\n",
       "    <tr>\n",
       "      <th>0</th>\n",
       "      <td>html_num_tags('a')</td>\n",
       "      <td>0.154546</td>\n",
       "    </tr>\n",
       "    <tr>\n",
       "      <th>1</th>\n",
       "      <td>url_path_len</td>\n",
       "      <td>0.151717</td>\n",
       "    </tr>\n",
       "    <tr>\n",
       "      <th>2</th>\n",
       "      <td>html_num_tags('form')</td>\n",
       "      <td>0.134011</td>\n",
       "    </tr>\n",
       "    <tr>\n",
       "      <th>3</th>\n",
       "      <td>url_hostname_len</td>\n",
       "      <td>0.081067</td>\n",
       "    </tr>\n",
       "    <tr>\n",
       "      <th>4</th>\n",
       "      <td>domain+hostname</td>\n",
       "      <td>0.071233</td>\n",
       "    </tr>\n",
       "    <tr>\n",
       "      <th>5</th>\n",
       "      <td>html_num_tags('script')</td>\n",
       "      <td>0.063408</td>\n",
       "    </tr>\n",
       "    <tr>\n",
       "      <th>6</th>\n",
       "      <td>url_domain_len</td>\n",
       "      <td>0.062433</td>\n",
       "    </tr>\n",
       "    <tr>\n",
       "      <th>7</th>\n",
       "      <td>url_num_dots</td>\n",
       "      <td>0.058037</td>\n",
       "    </tr>\n",
       "    <tr>\n",
       "      <th>8</th>\n",
       "      <td>html_num_tags('div')</td>\n",
       "      <td>0.050373</td>\n",
       "    </tr>\n",
       "    <tr>\n",
       "      <th>9</th>\n",
       "      <td>url_entropy</td>\n",
       "      <td>0.033364</td>\n",
       "    </tr>\n",
       "    <tr>\n",
       "      <th>10</th>\n",
       "      <td>url_len</td>\n",
       "      <td>0.033076</td>\n",
       "    </tr>\n",
       "    <tr>\n",
       "      <th>11</th>\n",
       "      <td>url_query_len</td>\n",
       "      <td>0.021784</td>\n",
       "    </tr>\n",
       "    <tr>\n",
       "      <th>12</th>\n",
       "      <td>hyphen_per_len</td>\n",
       "      <td>0.020875</td>\n",
       "    </tr>\n",
       "    <tr>\n",
       "      <th>13</th>\n",
       "      <td>url_num_query_para</td>\n",
       "      <td>0.014439</td>\n",
       "    </tr>\n",
       "    <tr>\n",
       "      <th>14</th>\n",
       "      <td>url_num_hyphens_dom</td>\n",
       "      <td>0.009719</td>\n",
       "    </tr>\n",
       "    <tr>\n",
       "      <th>15</th>\n",
       "      <td>under_per_length</td>\n",
       "      <td>0.009125</td>\n",
       "    </tr>\n",
       "    <tr>\n",
       "      <th>16</th>\n",
       "      <td>html_num_tags('iframe')</td>\n",
       "      <td>0.007857</td>\n",
       "    </tr>\n",
       "    <tr>\n",
       "      <th>17</th>\n",
       "      <td>url_num_underscores</td>\n",
       "      <td>0.006016</td>\n",
       "    </tr>\n",
       "    <tr>\n",
       "      <th>18</th>\n",
       "      <td>html_num_tags('body')</td>\n",
       "      <td>0.005950</td>\n",
       "    </tr>\n",
       "    <tr>\n",
       "      <th>19</th>\n",
       "      <td>url_ip_present</td>\n",
       "      <td>0.005193</td>\n",
       "    </tr>\n",
       "    <tr>\n",
       "      <th>20</th>\n",
       "      <td>html_num_tags('object')</td>\n",
       "      <td>0.002701</td>\n",
       "    </tr>\n",
       "    <tr>\n",
       "      <th>21</th>\n",
       "      <td>html_num_tags('embed')</td>\n",
       "      <td>0.001901</td>\n",
       "    </tr>\n",
       "    <tr>\n",
       "      <th>22</th>\n",
       "      <td>html_num_tags('head')</td>\n",
       "      <td>0.000774</td>\n",
       "    </tr>\n",
       "    <tr>\n",
       "      <th>23</th>\n",
       "      <td>url_port</td>\n",
       "      <td>0.000402</td>\n",
       "    </tr>\n",
       "    <tr>\n",
       "      <th>24</th>\n",
       "      <td>url_chinese_present</td>\n",
       "      <td>0.000000</td>\n",
       "    </tr>\n",
       "    <tr>\n",
       "      <th>25</th>\n",
       "      <td>html_num_tags('applet')</td>\n",
       "      <td>0.000000</td>\n",
       "    </tr>\n",
       "  </tbody>\n",
       "</table>\n",
       "</div>"
      ],
      "text/plain": [
       "              feature_names  feature_importance\n",
       "0        html_num_tags('a')            0.154546\n",
       "1              url_path_len            0.151717\n",
       "2     html_num_tags('form')            0.134011\n",
       "3          url_hostname_len            0.081067\n",
       "4           domain+hostname            0.071233\n",
       "5   html_num_tags('script')            0.063408\n",
       "6            url_domain_len            0.062433\n",
       "7              url_num_dots            0.058037\n",
       "8      html_num_tags('div')            0.050373\n",
       "9               url_entropy            0.033364\n",
       "10                  url_len            0.033076\n",
       "11            url_query_len            0.021784\n",
       "12           hyphen_per_len            0.020875\n",
       "13       url_num_query_para            0.014439\n",
       "14      url_num_hyphens_dom            0.009719\n",
       "15         under_per_length            0.009125\n",
       "16  html_num_tags('iframe')            0.007857\n",
       "17      url_num_underscores            0.006016\n",
       "18    html_num_tags('body')            0.005950\n",
       "19           url_ip_present            0.005193\n",
       "20  html_num_tags('object')            0.002701\n",
       "21   html_num_tags('embed')            0.001901\n",
       "22    html_num_tags('head')            0.000774\n",
       "23                 url_port            0.000402\n",
       "24      url_chinese_present            0.000000\n",
       "25  html_num_tags('applet')            0.000000"
      ]
     },
     "execution_count": 541,
     "metadata": {},
     "output_type": "execute_result"
    },
    {
     "data": {
      "image/png": "[encoded data removed]",
      "text/plain": [
       "<Figure size 720x576 with 1 Axes>"
      ]
     },
     "metadata": {
      "needs_background": "light"
     },
     "output_type": "display_data"
    }
   ],
   "source": [
    "plot_feature_importance(m_gs2.best_estimator_.feature_importances_, x_train.columns)"
   ]
  },
  {
   "cell_type": "code",
   "execution_count": 506,
   "id": "7ed884ff",
   "metadata": {},
   "outputs": [
    {
     "data": {
      "image/png": "[encoded data removed]",
      "text/plain": [
       "<Figure size 576x432 with 1 Axes>"
      ]
     },
     "metadata": {
      "needs_background": "light"
     },
     "output_type": "display_data"
    }
   ],
   "source": [
    "results2 = pd.DataFrame(m_gs2.cv_results_)\n",
    "tmp2 = results2.loc[:, ['param_n_estimators', 'mean_test_score', 'param_max_features']]\n",
    "\n",
    "plt.figure(figsize=(8, 6))\n",
    "sns.lineplot(x = 'param_n_estimators', y='mean_test_score', data=tmp2, hue='param_max_features')\n",
    "plt.grid()\n",
    "plt.show()"
   ]
  },
  {
   "cell_type": "markdown",
   "id": "ab14253d",
   "metadata": {},
   "source": [
    "## 모델링3 : XGB"
   ]
  },
  {
   "cell_type": "code",
   "execution_count": 305,
   "id": "7b85b726",
   "metadata": {},
   "outputs": [],
   "source": [
    "params = {\n",
    "    'max_depth' : [3, 5, 8],\n",
    "    'n_estimators' : [50, 100, 150],\n",
    "    'learning_rate' : np.linspace(0.1, 0.2, 3)\n",
    "}"
   ]
  },
  {
   "cell_type": "code",
   "execution_count": 308,
   "id": "d19c734f",
   "metadata": {},
   "outputs": [],
   "source": [
    "model3 = XGBClassifier()\n",
    "m_gs3 = GridSearchCV(model3, params, cv=5, verbose=3)"
   ]
  },
  {
   "cell_type": "code",
   "execution_count": 311,
   "id": "d204a74d",
   "metadata": {},
   "outputs": [],
   "source": [
    "y_train.replace(['benign', 'malicious'], [1, 0], inplace=True)"
   ]
  },
  {
   "cell_type": "code",
   "execution_count": 312,
   "id": "144aafc2",
   "metadata": {
    "scrolled": true
   },
   "outputs": [
    {
     "name": "stdout",
     "output_type": "stream",
     "text": [
      "Fitting 5 folds for each of 27 candidates, totalling 135 fits\n",
      "[CV 1/5] END learning_rate=0.1, max_depth=3, n_estimators=50; total time=   0.0s\n",
      "[CV 2/5] END learning_rate=0.1, max_depth=3, n_estimators=50; total time=   0.0s\n",
      "[CV 3/5] END learning_rate=0.1, max_depth=3, n_estimators=50; total time=   0.0s\n",
      "[CV 4/5] END learning_rate=0.1, max_depth=3, n_estimators=50; total time=   0.0s\n",
      "[CV 5/5] END learning_rate=0.1, max_depth=3, n_estimators=50; total time=   0.0s\n",
      "[CV 1/5] END learning_rate=0.1, max_depth=3, n_estimators=100; total time=   0.0s\n",
      "[CV 2/5] END learning_rate=0.1, max_depth=3, n_estimators=100; total time=   0.0s\n",
      "[CV 3/5] END learning_rate=0.1, max_depth=3, n_estimators=100; total time=   0.0s\n",
      "[CV 4/5] END learning_rate=0.1, max_depth=3, n_estimators=100; total time=   0.0s\n",
      "[CV 5/5] END learning_rate=0.1, max_depth=3, n_estimators=100; total time=   0.0s\n",
      "[CV 1/5] END learning_rate=0.1, max_depth=3, n_estimators=150; total time=   0.0s\n",
      "[CV 2/5] END learning_rate=0.1, max_depth=3, n_estimators=150; total time=   0.0s\n",
      "[CV 3/5] END learning_rate=0.1, max_depth=3, n_estimators=150; total time=   0.1s\n",
      "[CV 4/5] END learning_rate=0.1, max_depth=3, n_estimators=150; total time=   0.0s\n",
      "[CV 5/5] END learning_rate=0.1, max_depth=3, n_estimators=150; total time=   0.1s\n",
      "[CV 1/5] END learning_rate=0.1, max_depth=5, n_estimators=50; total time=   0.0s\n",
      "[CV 2/5] END learning_rate=0.1, max_depth=5, n_estimators=50; total time=   0.0s\n",
      "[CV 3/5] END learning_rate=0.1, max_depth=5, n_estimators=50; total time=   0.0s\n",
      "[CV 4/5] END learning_rate=0.1, max_depth=5, n_estimators=50; total time=   0.0s\n",
      "[CV 5/5] END learning_rate=0.1, max_depth=5, n_estimators=50; total time=   0.0s\n",
      "[CV 1/5] END learning_rate=0.1, max_depth=5, n_estimators=100; total time=   0.1s\n",
      "[CV 2/5] END learning_rate=0.1, max_depth=5, n_estimators=100; total time=   0.0s\n",
      "[CV 3/5] END learning_rate=0.1, max_depth=5, n_estimators=100; total time=   0.0s\n",
      "[CV 4/5] END learning_rate=0.1, max_depth=5, n_estimators=100; total time=   0.0s\n",
      "[CV 5/5] END learning_rate=0.1, max_depth=5, n_estimators=100; total time=   0.0s\n",
      "[CV 1/5] END learning_rate=0.1, max_depth=5, n_estimators=150; total time=   0.1s\n",
      "[CV 2/5] END learning_rate=0.1, max_depth=5, n_estimators=150; total time=   0.2s\n",
      "[CV 3/5] END learning_rate=0.1, max_depth=5, n_estimators=150; total time=   0.1s\n",
      "[CV 4/5] END learning_rate=0.1, max_depth=5, n_estimators=150; total time=   0.1s\n",
      "[CV 5/5] END learning_rate=0.1, max_depth=5, n_estimators=150; total time=   0.1s\n",
      "[CV 1/5] END learning_rate=0.1, max_depth=8, n_estimators=50; total time=   0.0s\n",
      "[CV 2/5] END learning_rate=0.1, max_depth=8, n_estimators=50; total time=   0.0s\n",
      "[CV 3/5] END learning_rate=0.1, max_depth=8, n_estimators=50; total time=   0.0s\n",
      "[CV 4/5] END learning_rate=0.1, max_depth=8, n_estimators=50; total time=   0.0s\n",
      "[CV 5/5] END learning_rate=0.1, max_depth=8, n_estimators=50; total time=   0.0s\n",
      "[CV 1/5] END learning_rate=0.1, max_depth=8, n_estimators=100; total time=   0.1s\n",
      "[CV 2/5] END learning_rate=0.1, max_depth=8, n_estimators=100; total time=   0.1s\n",
      "[CV 3/5] END learning_rate=0.1, max_depth=8, n_estimators=100; total time=   0.1s\n",
      "[CV 4/5] END learning_rate=0.1, max_depth=8, n_estimators=100; total time=   0.2s\n",
      "[CV 5/5] END learning_rate=0.1, max_depth=8, n_estimators=100; total time=   0.1s\n",
      "[CV 1/5] END learning_rate=0.1, max_depth=8, n_estimators=150; total time=   0.2s\n",
      "[CV 2/5] END learning_rate=0.1, max_depth=8, n_estimators=150; total time=   0.1s\n",
      "[CV 3/5] END learning_rate=0.1, max_depth=8, n_estimators=150; total time=   0.2s\n",
      "[CV 4/5] END learning_rate=0.1, max_depth=8, n_estimators=150; total time=   0.2s\n",
      "[CV 5/5] END learning_rate=0.1, max_depth=8, n_estimators=150; total time=   0.2s\n",
      "[CV 1/5] END learning_rate=0.15000000000000002, max_depth=3, n_estimators=50; total time=   0.0s\n",
      "[CV 2/5] END learning_rate=0.15000000000000002, max_depth=3, n_estimators=50; total time=   0.0s\n",
      "[CV 3/5] END learning_rate=0.15000000000000002, max_depth=3, n_estimators=50; total time=   0.0s\n",
      "[CV 4/5] END learning_rate=0.15000000000000002, max_depth=3, n_estimators=50; total time=   0.0s\n",
      "[CV 5/5] END learning_rate=0.15000000000000002, max_depth=3, n_estimators=50; total time=   0.0s\n",
      "[CV 1/5] END learning_rate=0.15000000000000002, max_depth=3, n_estimators=100; total time=   0.0s\n",
      "[CV 2/5] END learning_rate=0.15000000000000002, max_depth=3, n_estimators=100; total time=   0.0s\n",
      "[CV 3/5] END learning_rate=0.15000000000000002, max_depth=3, n_estimators=100; total time=   0.0s\n",
      "[CV 4/5] END learning_rate=0.15000000000000002, max_depth=3, n_estimators=100; total time=   0.0s\n",
      "[CV 5/5] END learning_rate=0.15000000000000002, max_depth=3, n_estimators=100; total time=   0.0s\n",
      "[CV 1/5] END learning_rate=0.15000000000000002, max_depth=3, n_estimators=150; total time=   0.0s\n",
      "[CV 2/5] END learning_rate=0.15000000000000002, max_depth=3, n_estimators=150; total time=   0.1s\n",
      "[CV 3/5] END learning_rate=0.15000000000000002, max_depth=3, n_estimators=150; total time=   0.1s\n",
      "[CV 4/5] END learning_rate=0.15000000000000002, max_depth=3, n_estimators=150; total time=   0.0s\n",
      "[CV 5/5] END learning_rate=0.15000000000000002, max_depth=3, n_estimators=150; total time=   0.1s\n",
      "[CV 1/5] END learning_rate=0.15000000000000002, max_depth=5, n_estimators=50; total time=   0.0s\n",
      "[CV 2/5] END learning_rate=0.15000000000000002, max_depth=5, n_estimators=50; total time=   0.0s\n",
      "[CV 3/5] END learning_rate=0.15000000000000002, max_depth=5, n_estimators=50; total time=   0.0s\n",
      "[CV 4/5] END learning_rate=0.15000000000000002, max_depth=5, n_estimators=50; total time=   0.0s\n",
      "[CV 5/5] END learning_rate=0.15000000000000002, max_depth=5, n_estimators=50; total time=   0.0s\n",
      "[CV 1/5] END learning_rate=0.15000000000000002, max_depth=5, n_estimators=100; total time=   0.0s\n",
      "[CV 2/5] END learning_rate=0.15000000000000002, max_depth=5, n_estimators=100; total time=   0.0s\n",
      "[CV 3/5] END learning_rate=0.15000000000000002, max_depth=5, n_estimators=100; total time=   0.0s\n",
      "[CV 4/5] END learning_rate=0.15000000000000002, max_depth=5, n_estimators=100; total time=   0.0s\n",
      "[CV 5/5] END learning_rate=0.15000000000000002, max_depth=5, n_estimators=100; total time=   0.0s\n",
      "[CV 1/5] END learning_rate=0.15000000000000002, max_depth=5, n_estimators=150; total time=   0.1s\n",
      "[CV 2/5] END learning_rate=0.15000000000000002, max_depth=5, n_estimators=150; total time=   0.1s\n",
      "[CV 3/5] END learning_rate=0.15000000000000002, max_depth=5, n_estimators=150; total time=   0.1s\n",
      "[CV 4/5] END learning_rate=0.15000000000000002, max_depth=5, n_estimators=150; total time=   0.2s\n",
      "[CV 5/5] END learning_rate=0.15000000000000002, max_depth=5, n_estimators=150; total time=   0.2s\n",
      "[CV 1/5] END learning_rate=0.15000000000000002, max_depth=8, n_estimators=50; total time=   0.0s\n",
      "[CV 2/5] END learning_rate=0.15000000000000002, max_depth=8, n_estimators=50; total time=   0.0s\n",
      "[CV 3/5] END learning_rate=0.15000000000000002, max_depth=8, n_estimators=50; total time=   0.0s\n",
      "[CV 4/5] END learning_rate=0.15000000000000002, max_depth=8, n_estimators=50; total time=   0.0s\n",
      "[CV 5/5] END learning_rate=0.15000000000000002, max_depth=8, n_estimators=50; total time=   0.0s\n",
      "[CV 1/5] END learning_rate=0.15000000000000002, max_depth=8, n_estimators=100; total time=   0.1s\n",
      "[CV 2/5] END learning_rate=0.15000000000000002, max_depth=8, n_estimators=100; total time=   0.1s\n",
      "[CV 3/5] END learning_rate=0.15000000000000002, max_depth=8, n_estimators=100; total time=   0.1s\n",
      "[CV 4/5] END learning_rate=0.15000000000000002, max_depth=8, n_estimators=100; total time=   0.1s\n",
      "[CV 5/5] END learning_rate=0.15000000000000002, max_depth=8, n_estimators=100; total time=   0.1s\n",
      "[CV 1/5] END learning_rate=0.15000000000000002, max_depth=8, n_estimators=150; total time=   0.1s\n",
      "[CV 2/5] END learning_rate=0.15000000000000002, max_depth=8, n_estimators=150; total time=   0.1s\n",
      "[CV 3/5] END learning_rate=0.15000000000000002, max_depth=8, n_estimators=150; total time=   0.2s\n",
      "[CV 4/5] END learning_rate=0.15000000000000002, max_depth=8, n_estimators=150; total time=   0.2s\n",
      "[CV 5/5] END learning_rate=0.15000000000000002, max_depth=8, n_estimators=150; total time=   0.1s\n",
      "[CV 1/5] END learning_rate=0.2, max_depth=3, n_estimators=50; total time=   0.0s\n",
      "[CV 2/5] END learning_rate=0.2, max_depth=3, n_estimators=50; total time=   0.0s\n",
      "[CV 3/5] END learning_rate=0.2, max_depth=3, n_estimators=50; total time=   0.0s\n"
     ]
    },
    {
     "name": "stdout",
     "output_type": "stream",
     "text": [
      "[CV 4/5] END learning_rate=0.2, max_depth=3, n_estimators=50; total time=   0.0s\n",
      "[CV 5/5] END learning_rate=0.2, max_depth=3, n_estimators=50; total time=   0.0s\n",
      "[CV 1/5] END learning_rate=0.2, max_depth=3, n_estimators=100; total time=   0.0s\n",
      "[CV 2/5] END learning_rate=0.2, max_depth=3, n_estimators=100; total time=   0.0s\n",
      "[CV 3/5] END learning_rate=0.2, max_depth=3, n_estimators=100; total time=   0.0s\n",
      "[CV 4/5] END learning_rate=0.2, max_depth=3, n_estimators=100; total time=   0.0s\n",
      "[CV 5/5] END learning_rate=0.2, max_depth=3, n_estimators=100; total time=   0.0s\n",
      "[CV 1/5] END learning_rate=0.2, max_depth=3, n_estimators=150; total time=   0.1s\n",
      "[CV 2/5] END learning_rate=0.2, max_depth=3, n_estimators=150; total time=   0.0s\n",
      "[CV 3/5] END learning_rate=0.2, max_depth=3, n_estimators=150; total time=   0.0s\n",
      "[CV 4/5] END learning_rate=0.2, max_depth=3, n_estimators=150; total time=   0.1s\n",
      "[CV 5/5] END learning_rate=0.2, max_depth=3, n_estimators=150; total time=   0.0s\n",
      "[CV 1/5] END learning_rate=0.2, max_depth=5, n_estimators=50; total time=   0.0s\n",
      "[CV 2/5] END learning_rate=0.2, max_depth=5, n_estimators=50; total time=   0.0s\n",
      "[CV 3/5] END learning_rate=0.2, max_depth=5, n_estimators=50; total time=   0.0s\n",
      "[CV 4/5] END learning_rate=0.2, max_depth=5, n_estimators=50; total time=   0.0s\n",
      "[CV 5/5] END learning_rate=0.2, max_depth=5, n_estimators=50; total time=   0.0s\n",
      "[CV 1/5] END learning_rate=0.2, max_depth=5, n_estimators=100; total time=   0.1s\n",
      "[CV 2/5] END learning_rate=0.2, max_depth=5, n_estimators=100; total time=   0.1s\n",
      "[CV 3/5] END learning_rate=0.2, max_depth=5, n_estimators=100; total time=   0.1s\n",
      "[CV 4/5] END learning_rate=0.2, max_depth=5, n_estimators=100; total time=   0.0s\n",
      "[CV 5/5] END learning_rate=0.2, max_depth=5, n_estimators=100; total time=   0.0s\n",
      "[CV 1/5] END learning_rate=0.2, max_depth=5, n_estimators=150; total time=   0.1s\n",
      "[CV 2/5] END learning_rate=0.2, max_depth=5, n_estimators=150; total time=   0.1s\n",
      "[CV 3/5] END learning_rate=0.2, max_depth=5, n_estimators=150; total time=   0.1s\n",
      "[CV 4/5] END learning_rate=0.2, max_depth=5, n_estimators=150; total time=   0.1s\n",
      "[CV 5/5] END learning_rate=0.2, max_depth=5, n_estimators=150; total time=   0.1s\n",
      "[CV 1/5] END learning_rate=0.2, max_depth=8, n_estimators=50; total time=   0.0s\n",
      "[CV 2/5] END learning_rate=0.2, max_depth=8, n_estimators=50; total time=   0.0s\n",
      "[CV 3/5] END learning_rate=0.2, max_depth=8, n_estimators=50; total time=   0.0s\n",
      "[CV 4/5] END learning_rate=0.2, max_depth=8, n_estimators=50; total time=   0.0s\n",
      "[CV 5/5] END learning_rate=0.2, max_depth=8, n_estimators=50; total time=   0.0s\n",
      "[CV 1/5] END learning_rate=0.2, max_depth=8, n_estimators=100; total time=   0.1s\n",
      "[CV 2/5] END learning_rate=0.2, max_depth=8, n_estimators=100; total time=   0.1s\n",
      "[CV 3/5] END learning_rate=0.2, max_depth=8, n_estimators=100; total time=   0.1s\n",
      "[CV 4/5] END learning_rate=0.2, max_depth=8, n_estimators=100; total time=   0.1s\n",
      "[CV 5/5] END learning_rate=0.2, max_depth=8, n_estimators=100; total time=   0.1s\n",
      "[CV 1/5] END learning_rate=0.2, max_depth=8, n_estimators=150; total time=   0.1s\n",
      "[CV 2/5] END learning_rate=0.2, max_depth=8, n_estimators=150; total time=   0.2s\n",
      "[CV 3/5] END learning_rate=0.2, max_depth=8, n_estimators=150; total time=   0.2s\n",
      "[CV 4/5] END learning_rate=0.2, max_depth=8, n_estimators=150; total time=   0.1s\n",
      "[CV 5/5] END learning_rate=0.2, max_depth=8, n_estimators=150; total time=   0.1s\n"
     ]
    },
    {
     "data": {
      "text/plain": [
       "GridSearchCV(cv=5,\n",
       "             estimator=XGBClassifier(base_score=None, booster=None,\n",
       "                                     callbacks=None, colsample_bylevel=None,\n",
       "                                     colsample_bynode=None,\n",
       "                                     colsample_bytree=None,\n",
       "                                     early_stopping_rounds=None,\n",
       "                                     enable_categorical=False, eval_metric=None,\n",
       "                                     gamma=None, gpu_id=None, grow_policy=None,\n",
       "                                     importance_type=None,\n",
       "                                     interaction_constraints=None,\n",
       "                                     learning_rate=None, max_bin=None,\n",
       "                                     max_ca...hot=None,\n",
       "                                     max_delta_step=None, max_depth=None,\n",
       "                                     max_leaves=None, min_child_weight=None,\n",
       "                                     missing=nan, monotone_constraints=None,\n",
       "                                     n_estimators=100, n_jobs=None,\n",
       "                                     num_parallel_tree=None, predictor=None,\n",
       "                                     random_state=None, reg_alpha=None,\n",
       "                                     reg_lambda=None, ...),\n",
       "             param_grid={'learning_rate': array([0.1 , 0.15, 0.2 ]),\n",
       "                         'max_depth': [3, 5, 8],\n",
       "                         'n_estimators': [50, 100, 150]},\n",
       "             verbose=3)"
      ]
     },
     "execution_count": 312,
     "metadata": {},
     "output_type": "execute_result"
    }
   ],
   "source": [
    "m_gs3.fit(x_train, y_train)"
   ]
  },
  {
   "cell_type": "code",
   "execution_count": 313,
   "id": "cd456f30",
   "metadata": {},
   "outputs": [],
   "source": [
    "y_val.replace(['benign', 'malicious'], [1, 0], inplace=True)"
   ]
  },
  {
   "cell_type": "code",
   "execution_count": 319,
   "id": "56df9490",
   "metadata": {},
   "outputs": [],
   "source": [
    "pred3 = m_gs3.predict(test_data)"
   ]
  },
  {
   "cell_type": "code",
   "execution_count": 320,
   "id": "1aeb8994",
   "metadata": {},
   "outputs": [],
   "source": [
    "pred3 = pd.DataFrame(pred3)"
   ]
  },
  {
   "cell_type": "code",
   "execution_count": 321,
   "id": "346add17",
   "metadata": {},
   "outputs": [
    {
     "data": {
      "text/html": [
       "<div>\n",
       "<style scoped>\n",
       "    .dataframe tbody tr th:only-of-type {\n",
       "        vertical-align: middle;\n",
       "    }\n",
       "\n",
       "    .dataframe tbody tr th {\n",
       "        vertical-align: top;\n",
       "    }\n",
       "\n",
       "    .dataframe thead th {\n",
       "        text-align: right;\n",
       "    }\n",
       "</style>\n",
       "<table border=\"1\" class=\"dataframe\">\n",
       "  <thead>\n",
       "    <tr style=\"text-align: right;\">\n",
       "      <th></th>\n",
       "      <th>0</th>\n",
       "    </tr>\n",
       "  </thead>\n",
       "  <tbody>\n",
       "    <tr>\n",
       "      <th>0</th>\n",
       "      <td>1</td>\n",
       "    </tr>\n",
       "    <tr>\n",
       "      <th>1</th>\n",
       "      <td>0</td>\n",
       "    </tr>\n",
       "    <tr>\n",
       "      <th>2</th>\n",
       "      <td>1</td>\n",
       "    </tr>\n",
       "    <tr>\n",
       "      <th>3</th>\n",
       "      <td>0</td>\n",
       "    </tr>\n",
       "    <tr>\n",
       "      <th>4</th>\n",
       "      <td>0</td>\n",
       "    </tr>\n",
       "    <tr>\n",
       "      <th>...</th>\n",
       "      <td>...</td>\n",
       "    </tr>\n",
       "    <tr>\n",
       "      <th>2436</th>\n",
       "      <td>1</td>\n",
       "    </tr>\n",
       "    <tr>\n",
       "      <th>2437</th>\n",
       "      <td>1</td>\n",
       "    </tr>\n",
       "    <tr>\n",
       "      <th>2438</th>\n",
       "      <td>1</td>\n",
       "    </tr>\n",
       "    <tr>\n",
       "      <th>2439</th>\n",
       "      <td>0</td>\n",
       "    </tr>\n",
       "    <tr>\n",
       "      <th>2440</th>\n",
       "      <td>0</td>\n",
       "    </tr>\n",
       "  </tbody>\n",
       "</table>\n",
       "<p>2441 rows × 1 columns</p>\n",
       "</div>"
      ],
      "text/plain": [
       "      0\n",
       "0     1\n",
       "1     0\n",
       "2     1\n",
       "3     0\n",
       "4     0\n",
       "...  ..\n",
       "2436  1\n",
       "2437  1\n",
       "2438  1\n",
       "2439  0\n",
       "2440  0\n",
       "\n",
       "[2441 rows x 1 columns]"
      ]
     },
     "execution_count": 321,
     "metadata": {},
     "output_type": "execute_result"
    }
   ],
   "source": [
    "pred3"
   ]
  },
  {
   "cell_type": "code",
   "execution_count": 322,
   "id": "8ef9ea74",
   "metadata": {},
   "outputs": [
    {
     "data": {
      "text/html": [
       "<div>\n",
       "<style scoped>\n",
       "    .dataframe tbody tr th:only-of-type {\n",
       "        vertical-align: middle;\n",
       "    }\n",
       "\n",
       "    .dataframe tbody tr th {\n",
       "        vertical-align: top;\n",
       "    }\n",
       "\n",
       "    .dataframe thead th {\n",
       "        text-align: right;\n",
       "    }\n",
       "</style>\n",
       "<table border=\"1\" class=\"dataframe\">\n",
       "  <thead>\n",
       "    <tr style=\"text-align: right;\">\n",
       "      <th></th>\n",
       "      <th>0</th>\n",
       "    </tr>\n",
       "  </thead>\n",
       "  <tbody>\n",
       "    <tr>\n",
       "      <th>0</th>\n",
       "      <td>1</td>\n",
       "    </tr>\n",
       "    <tr>\n",
       "      <th>1</th>\n",
       "      <td>-1</td>\n",
       "    </tr>\n",
       "    <tr>\n",
       "      <th>2</th>\n",
       "      <td>1</td>\n",
       "    </tr>\n",
       "    <tr>\n",
       "      <th>3</th>\n",
       "      <td>-1</td>\n",
       "    </tr>\n",
       "    <tr>\n",
       "      <th>4</th>\n",
       "      <td>-1</td>\n",
       "    </tr>\n",
       "    <tr>\n",
       "      <th>...</th>\n",
       "      <td>...</td>\n",
       "    </tr>\n",
       "    <tr>\n",
       "      <th>2436</th>\n",
       "      <td>1</td>\n",
       "    </tr>\n",
       "    <tr>\n",
       "      <th>2437</th>\n",
       "      <td>1</td>\n",
       "    </tr>\n",
       "    <tr>\n",
       "      <th>2438</th>\n",
       "      <td>1</td>\n",
       "    </tr>\n",
       "    <tr>\n",
       "      <th>2439</th>\n",
       "      <td>-1</td>\n",
       "    </tr>\n",
       "    <tr>\n",
       "      <th>2440</th>\n",
       "      <td>-1</td>\n",
       "    </tr>\n",
       "  </tbody>\n",
       "</table>\n",
       "<p>2441 rows × 1 columns</p>\n",
       "</div>"
      ],
      "text/plain": [
       "      0\n",
       "0     1\n",
       "1    -1\n",
       "2     1\n",
       "3    -1\n",
       "4    -1\n",
       "...  ..\n",
       "2436  1\n",
       "2437  1\n",
       "2438  1\n",
       "2439 -1\n",
       "2440 -1\n",
       "\n",
       "[2441 rows x 1 columns]"
      ]
     },
     "execution_count": 322,
     "metadata": {},
     "output_type": "execute_result"
    }
   ],
   "source": [
    "pred3.replace([1, 0], [1, -1])"
   ]
  },
  {
   "cell_type": "code",
   "execution_count": 323,
   "id": "089af6e1",
   "metadata": {},
   "outputs": [],
   "source": [
    "submit3 = pd.DataFrame({\n",
    "    'id': range(0, len(pred3)),\n",
    "    'expected': pred3.loc[:, 0]\n",
    "})"
   ]
  },
  {
   "cell_type": "code",
   "execution_count": 324,
   "id": "4b0a48c0",
   "metadata": {},
   "outputs": [],
   "source": [
    "submit3.to_csv('submission3.csv',index = False)"
   ]
  },
  {
   "cell_type": "code",
   "execution_count": null,
   "id": "3bd43d82",
   "metadata": {},
   "outputs": [],
   "source": []
  }
 ],
 "metadata": {
  "kernelspec": {
   "display_name": "Python 3",
   "language": "python",
   "name": "python3"
  },
  "language_info": {
   "codemirror_mode": {
    "name": "ipython",
    "version": 3
   },
   "file_extension": ".py",
   "mimetype": "text/x-python",
   "name": "python",
   "nbconvert_exporter": "python",
   "pygments_lexer": "ipython3",
   "version": "3.8.8"
  }
 },
 "nbformat": 4,
 "nbformat_minor": 5
}
