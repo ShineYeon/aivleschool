{
 "cells": [
  {
   "cell_type": "markdown",
   "metadata": {},
   "source": [
    "## [미니프로젝트] 악성사이트 탐지 머신러닝 모델 개발\n",
    "\n",
    "## <b>[2단계] 데이터 분석 및 전처리\n",
    "\n",
    "## ▣ 데이터 소개\n",
    "* 학습 데이터셋 : train_dataset.csv\n",
    "<br>\n",
    "\n",
    "## ▣ 학습 데이터셋의 변수 소개\n",
    "\n",
    "* url_len : URL 길이\n",
    "* url_num_hypens_dom : URL내 '-'(하이픈) 개수\n",
    "* url_path_len : URL의 경로 길이\n",
    "* url_domain_len : URL의 도메인 길이\n",
    "* url_host_name : URL의 hostname 길이\n",
    "* url_num_dots : URL내 '.'(닷) 개수\n",
    "* url_num_underscores : URL내 '_'(언더바) 개수\n",
    "* url_query_len : URL쿼리 길이\n",
    "* url_num_query_para : URL쿼리의 파라미터 개수\n",
    "* url_ip_present : URL내 IP표시 여부\n",
    "* url_entropy : URL 복잡도\n",
    "* url_chinese_present : URL내 중국어 표기 여부\n",
    "* url_port : URL내 포트 표기 여부\n",
    "* html_num_tags('iframe') : HTML내 'iframe' 태그 개수\n",
    "* html_num_tags('script') : HTML내 'script' 태그 개수\n",
    "* html_num_tags('embed') : HTML내 'embed' 태그 개수\n",
    "* html_num_tags('object') : HTML내 'object' 태그 개수\n",
    "* html_num_tags('div') : HTML내 'div' 태그 개수\n",
    "* html_num_tags('head') : HTML내 'head' 태그 개수\n",
    "* html_num_tags('body') : HTML내 'body' 태그 개수\n",
    "* html_num_tags('form') : HTML내 'form' 태그 개수\n",
    "* html_num_tags('a') : HTML내 'a' 태그 개수\n",
    "* html_num_tags('applet') : HTML내 'applet' 태그 개수\n",
    "* Result_v1 : 악성사이트 여부 컬럼 ( 'malicious'는 악성사이트, 'benign'은 정상사이트 )\n",
    "\n",
    "<br>\n",
    "\n",
    "---\n",
    "\n",
    "### **[프로세스]**\n",
    "0. 라이브러리 import 및 데이터 불러오기\n",
    "1. 데이터 분석하기\n",
    "2. 데이터 전처리하기\n",
    "\n",
    "\n",
    "---"
   ]
  },
  {
   "cell_type": "markdown",
   "metadata": {},
   "source": [
    "# <b>Step 0. 라이브러리 import 및 데이터 불러오기\n",
    "### **가. 라이브러리 import**"
   ]
  },
  {
   "cell_type": "code",
   "execution_count": 4,
   "metadata": {},
   "outputs": [],
   "source": [
    "#라이브러리들을 불러오자.\n",
    "import numpy as np\n",
    "import pandas as pd\n",
    "import matplotlib.pyplot as plt\n",
    "import seaborn as sns\n",
    "\n",
    "# 전처리\n",
    "from sklearn.model_selection import train_test_split\n",
    "from sklearn.preprocessing import MinMaxScaler\n",
    "\n",
    "# 모델링\n",
    "from xgboost import XGBClassifier, plot_tree # XGB 분류기 (얘는 sklearn 아님)\n",
    "from sklearn.metrics import * \n",
    "from sklearn.model_selection import RandomizedSearchCV, GridSearchCV\n",
    "\n",
    "import warnings    # 경고메시지 제외\n",
    "warnings.filterwarnings(action='ignore')"
   ]
  },
  {
   "cell_type": "markdown",
   "metadata": {},
   "source": [
    "### **나.  학습데이터 불러오기**"
   ]
  },
  {
   "cell_type": "code",
   "execution_count": 134,
   "metadata": {},
   "outputs": [],
   "source": [
    "df = pd.read_csv('train_dataset.csv', delimiter=',')"
   ]
  },
  {
   "cell_type": "code",
   "execution_count": 19,
   "metadata": {},
   "outputs": [
    {
     "data": {
      "text/plain": [
       "0     0.0\n",
       "1     0.0\n",
       "2     0.0\n",
       "3     0.0\n",
       "4     0.0\n",
       "5     0.0\n",
       "6     0.0\n",
       "7     0.0\n",
       "8     0.0\n",
       "9     0.0\n",
       "10    0.0\n",
       "11    0.0\n",
       "12    0.0\n",
       "13    0.0\n",
       "14    0.0\n",
       "15    0.0\n",
       "16    0.0\n",
       "17    0.0\n",
       "18    0.0\n",
       "19    1.0\n",
       "Name: url_ip_present, dtype: float64"
      ]
     },
     "execution_count": 19,
     "metadata": {},
     "output_type": "execute_result"
    }
   ],
   "source": [
    "df.loc[:, 'url_ip_present'].head(20)\n",
    "\n",
    "#unnamed는 인덱스가 임의로 빠져나온것, 나중에 데이터 전처리때 드랍하면 됨."
   ]
  },
  {
   "cell_type": "markdown",
   "metadata": {},
   "source": [
    "# <b>Step 1. 데이터 분석하기\n",
    "---"
   ]
  },
  {
   "cell_type": "markdown",
   "metadata": {},
   "source": [
    "단변량 분석은 데이터분석의 매우 기초적인 분석기법으로, 독립적인 개별 변수가 가지고있는 특성들을 이해하는 과정입니다.\n",
    "\n",
    "## <b>Q1. 데이터 단변량 분석하기\n",
    "\n",
    "<span style=\"color: green\"> 개별 변수에 대해 아래 사항들을 분석해보세요. </span>\n",
    "\n",
    "1. 변수가 내포하고 있는 의미\n",
    "2. 변수가 수치형인지, 범주형인지\n",
    "3. 결측치 존재 여부 및 조치 방안\n",
    "4. 기초 통계량 확인\n",
    "5. 데이터 분포 확인\n",
    "6. 위 정보로부터 파악한 내용 정리\n",
    "7. 추가 분석사항 도출"
   ]
  },
  {
   "cell_type": "code",
   "execution_count": 38,
   "metadata": {},
   "outputs": [
    {
     "name": "stdout",
     "output_type": "stream",
     "text": [
      "<class 'str'>\n"
     ]
    }
   ],
   "source": [
    "print(type('X-Axis'))"
   ]
  },
  {
   "cell_type": "code",
   "execution_count": 40,
   "metadata": {},
   "outputs": [
    {
     "data": {
      "image/png": "[encoded data removed]",
      "text/plain": [
       "<Figure size 432x288 with 1 Axes>"
      ]
     },
     "metadata": {
      "needs_background": "light"
     },
     "output_type": "display_data"
    },
    {
     "data": {
      "image/png": "[encoded data removed]",
      "text/plain": [
       "<Figure size 432x288 with 1 Axes>"
      ]
     },
     "metadata": {
      "needs_background": "light"
     },
     "output_type": "display_data"
    },
    {
     "data": {
      "image/png": "[encoded data removed]",
      "text/plain": [
       "<Figure size 432x288 with 1 Axes>"
      ]
     },
     "metadata": {
      "needs_background": "light"
     },
     "output_type": "display_data"
    },
    {
     "data": {
      "image/png": "[encoded data removed]",
      "text/plain": [
       "<Figure size 432x288 with 1 Axes>"
      ]
     },
     "metadata": {
      "needs_background": "light"
     },
     "output_type": "display_data"
    },
    {
     "data": {
      "image/png": "[encoded data removed]",
      "text/plain": [
       "<Figure size 432x288 with 1 Axes>"
      ]
     },
     "metadata": {
      "needs_background": "light"
     },
     "output_type": "display_data"
    },
    {
     "data": {
      "image/png": "[encoded data removed]",
      "text/plain": [
       "<Figure size 432x288 with 1 Axes>"
      ]
     },
     "metadata": {
      "needs_background": "light"
     },
     "output_type": "display_data"
    },
    {
     "data": {
      "image/png": "[encoded data removed]",
      "text/plain": [
       "<Figure size 432x288 with 1 Axes>"
      ]
     },
     "metadata": {
      "needs_background": "light"
     },
     "output_type": "display_data"
    },
    {
     "data": {
      "image/png": "[encoded data removed]",
      "text/plain": [
       "<Figure size 432x288 with 1 Axes>"
      ]
     },
     "metadata": {
      "needs_background": "light"
     },
     "output_type": "display_data"
    },
    {
     "data": {
      "image/png": "[encoded data removed]",
      "text/plain": [
       "<Figure size 432x288 with 1 Axes>"
      ]
     },
     "metadata": {
      "needs_background": "light"
     },
     "output_type": "display_data"
    },
    {
     "data": {
      "image/png": "[encoded data removed]",
      "text/plain": [
       "<Figure size 432x288 with 1 Axes>"
      ]
     },
     "metadata": {
      "needs_background": "light"
     },
     "output_type": "display_data"
    },
    {
     "data": {
      "image/png": "[encoded data removed]",
      "text/plain": [
       "<Figure size 432x288 with 1 Axes>"
      ]
     },
     "metadata": {
      "needs_background": "light"
     },
     "output_type": "display_data"
    },
    {
     "data": {
      "image/png": "[encoded data removed]",
      "text/plain": [
       "<Figure size 432x288 with 1 Axes>"
      ]
     },
     "metadata": {
      "needs_background": "light"
     },
     "output_type": "display_data"
    },
    {
     "data": {
      "image/png": "[encoded data removed]",
      "text/plain": [
       "<Figure size 432x288 with 1 Axes>"
      ]
     },
     "metadata": {
      "needs_background": "light"
     },
     "output_type": "display_data"
    },
    {
     "data": {
      "image/png": "[encoded data removed]",
      "text/plain": [
       "<Figure size 432x288 with 1 Axes>"
      ]
     },
     "metadata": {
      "needs_background": "light"
     },
     "output_type": "display_data"
    },
    {
     "data": {
      "image/png": "[encoded data removed]",
      "text/plain": [
       "<Figure size 432x288 with 1 Axes>"
      ]
     },
     "metadata": {
      "needs_background": "light"
     },
     "output_type": "display_data"
    },
    {
     "data": {
      "image/png": "[encoded data removed]",
      "text/plain": [
       "<Figure size 432x288 with 1 Axes>"
      ]
     },
     "metadata": {
      "needs_background": "light"
     },
     "output_type": "display_data"
    },
    {
     "data": {
      "image/png": "[encoded data removed]",
      "text/plain": [
       "<Figure size 432x288 with 1 Axes>"
      ]
     },
     "metadata": {
      "needs_background": "light"
     },
     "output_type": "display_data"
    },
    {
     "data": {
      "image/png": "[encoded data removed]",
      "text/plain": [
       "<Figure size 432x288 with 1 Axes>"
      ]
     },
     "metadata": {
      "needs_background": "light"
     },
     "output_type": "display_data"
    },
    {
     "data": {
      "image/png": "[encoded data removed]",
      "text/plain": [
       "<Figure size 432x288 with 1 Axes>"
      ]
     },
     "metadata": {
      "needs_background": "light"
     },
     "output_type": "display_data"
    },
    {
     "data": {
      "image/png": "[encoded data removed]",
      "text/plain": [
       "<Figure size 432x288 with 1 Axes>"
      ]
     },
     "metadata": {
      "needs_background": "light"
     },
     "output_type": "display_data"
    },
    {
     "data": {
      "image/png": "[encoded data removed]",
      "text/plain": [
       "<Figure size 432x288 with 1 Axes>"
      ]
     },
     "metadata": {
      "needs_background": "light"
     },
     "output_type": "display_data"
    },
    {
     "data": {
      "image/png": "[encoded data removed]",
      "text/plain": [
       "<Figure size 432x288 with 1 Axes>"
      ]
     },
     "metadata": {
      "needs_background": "light"
     },
     "output_type": "display_data"
    },
    {
     "data": {
      "image/png": "[encoded data removed]",
      "text/plain": [
       "<Figure size 432x288 with 1 Axes>"
      ]
     },
     "metadata": {
      "needs_background": "light"
     },
     "output_type": "display_data"
    },
    {
     "data": {
      "image/png": "[encoded data removed]",
      "text/plain": [
       "<Figure size 432x288 with 1 Axes>"
      ]
     },
     "metadata": {
      "needs_background": "light"
     },
     "output_type": "display_data"
    },
    {
     "data": {
      "image/png": "[encoded data removed]",
      "text/plain": [
       "<Figure size 432x288 with 1 Axes>"
      ]
     },
     "metadata": {
      "needs_background": "light"
     },
     "output_type": "display_data"
    }
   ],
   "source": [
    "for i in df.columns:\n",
    "    plt.hist(df[i])\n",
    "    plt.show()"
   ]
  },
  {
   "cell_type": "code",
   "execution_count": 21,
   "metadata": {
    "scrolled": true
   },
   "outputs": [
    {
     "data": {
      "text/plain": [
       "count    3662.000000\n",
       "mean       54.572365\n",
       "std        82.513738\n",
       "min         6.000000\n",
       "25%        24.000000\n",
       "50%        36.000000\n",
       "75%        55.000000\n",
       "max      1837.000000\n",
       "Name: url_len, dtype: float64"
      ]
     },
     "execution_count": 21,
     "metadata": {},
     "output_type": "execute_result"
    }
   ],
   "source": [
    "df['url_len'].describe()"
   ]
  },
  {
   "cell_type": "code",
   "execution_count": 23,
   "metadata": {},
   "outputs": [
    {
     "data": {
      "text/plain": [
       "(array([3.536e+03, 9.800e+01, 1.700e+01, 2.000e+00, 1.000e+00, 3.000e+00,\n",
       "        1.000e+00, 1.000e+00, 1.000e+00, 2.000e+00]),\n",
       " array([   6. ,  189.1,  372.2,  555.3,  738.4,  921.5, 1104.6, 1287.7,\n",
       "        1470.8, 1653.9, 1837. ]),\n",
       " <BarContainer object of 10 artists>)"
      ]
     },
     "execution_count": 23,
     "metadata": {},
     "output_type": "execute_result"
    },
    {
     "data": {
      "image/png": "[encoded data removed]",
      "text/plain": [
       "<Figure size 432x288 with 1 Axes>"
      ]
     },
     "metadata": {
      "needs_background": "light"
     },
     "output_type": "display_data"
    }
   ],
   "source": [
    "plt.hist(df['url_len'])"
   ]
  },
  {
   "cell_type": "code",
   "execution_count": 24,
   "metadata": {},
   "outputs": [
    {
     "data": {
      "text/plain": [
       "(array([   5.,   46.,  172.,  641., 1355.,  773.,  478.,  144.,   31.,\n",
       "          17.]),\n",
       " array([2.73783942, 3.04623368, 3.35462795, 3.66302221, 3.97141648,\n",
       "        4.27981074, 4.58820501, 4.89659927, 5.20499354, 5.5133878 ,\n",
       "        5.82178206]),\n",
       " <BarContainer object of 10 artists>)"
      ]
     },
     "execution_count": 24,
     "metadata": {},
     "output_type": "execute_result"
    },
    {
     "data": {
      "image/png": "[encoded data removed]",
      "text/plain": [
       "<Figure size 432x288 with 1 Axes>"
      ]
     },
     "metadata": {
      "needs_background": "light"
     },
     "output_type": "display_data"
    }
   ],
   "source": [
    "plt.hist(df['url_entropy'])"
   ]
  },
  {
   "cell_type": "code",
   "execution_count": 26,
   "metadata": {},
   "outputs": [
    {
     "data": {
      "image/png": "[encoded data removed]",
      "text/plain": [
       "<Figure size 432x288 with 1 Axes>"
      ]
     },
     "metadata": {
      "needs_background": "light"
     },
     "output_type": "display_data"
    }
   ],
   "source": [
    "plt.hist(df['url_domain_len'])\n",
    "plt.show()"
   ]
  },
  {
   "cell_type": "code",
   "execution_count": 28,
   "metadata": {},
   "outputs": [
    {
     "data": {
      "image/png": "[encoded data removed]",
      "text/plain": [
       "<Figure size 432x288 with 1 Axes>"
      ]
     },
     "metadata": {
      "needs_background": "light"
     },
     "output_type": "display_data"
    }
   ],
   "source": [
    "plt.hist(df['url_hostname_len'])\n",
    "plt.show()"
   ]
  },
  {
   "cell_type": "code",
   "execution_count": 30,
   "metadata": {},
   "outputs": [
    {
     "data": {
      "image/png": "[encoded data removed]",
      "text/plain": [
       "<Figure size 432x288 with 1 Axes>"
      ]
     },
     "metadata": {
      "needs_background": "light"
     },
     "output_type": "display_data"
    }
   ],
   "source": [
    "plt.hist(df[\"html_num_tags('script')\"])\n",
    "plt.show()"
   ]
  },
  {
   "cell_type": "code",
   "execution_count": 31,
   "metadata": {},
   "outputs": [
    {
     "data": {
      "image/png": "[encoded data removed]",
      "text/plain": [
       "<Figure size 432x288 with 1 Axes>"
      ]
     },
     "metadata": {
      "needs_background": "light"
     },
     "output_type": "display_data"
    }
   ],
   "source": [
    "plt.hist(df[\"html_num_tags('applet')\"])\n",
    "plt.show()"
   ]
  },
  {
   "cell_type": "code",
   "execution_count": null,
   "metadata": {},
   "outputs": [],
   "source": []
  },
  {
   "cell_type": "markdown",
   "metadata": {},
   "source": []
  },
  {
   "cell_type": "markdown",
   "metadata": {},
   "source": []
  },
  {
   "cell_type": "markdown",
   "metadata": {},
   "source": []
  },
  {
   "cell_type": "markdown",
   "metadata": {},
   "source": [
    "## <b>Q2. 데이터 이변량 분석하기\n",
    "\n",
    "* 자료의 종류에 맞게 X --> Y 에 대해서 그래프(시각화)와 가설검정(수치화)를 수행하고 결과를 평가합니다.\n",
    "* 가설검정시 다음의 항목을 참조하여 수행합니다.\n",
    "    * 적절한 유의수준\n",
    "    * 숫자 --> 숫자 : 상관분석\n",
    "    * 범주 --> 범주 : 카이제곱검정\n",
    "    * 범주 --> 숫자 : t검정, 분산분석\n",
    "    * 숫자 --> 범주 : 로지스틱 회귀모형을 통해, 회귀계수의 P.value로 검정을 수행합니다."
   ]
  },
  {
   "cell_type": "code",
   "execution_count": 44,
   "metadata": {},
   "outputs": [],
   "source": [
    "target = 'Result_v1'"
   ]
  },
  {
   "cell_type": "code",
   "execution_count": 61,
   "metadata": {
    "scrolled": true
   },
   "outputs": [],
   "source": [
    "import scipy.stats as spst\n",
    "import statsmodels.api as sm"
   ]
  },
  {
   "cell_type": "code",
   "execution_count": 58,
   "metadata": {},
   "outputs": [],
   "source": [
    "feature = 'url_entropy'"
   ]
  },
  {
   "cell_type": "code",
   "execution_count": 62,
   "metadata": {
    "scrolled": true
   },
   "outputs": [
    {
     "data": {
      "image/png": "[encoded data removed]",
      "text/plain": [
       "<Figure size 432x288 with 1 Axes>"
      ]
     },
     "metadata": {
      "needs_background": "light"
     },
     "output_type": "display_data"
    }
   ],
   "source": [
    "sns.kdeplot(x=feature, data = df, hue =target)\n",
    "plt.show()"
   ]
  },
  {
   "cell_type": "code",
   "execution_count": 64,
   "metadata": {},
   "outputs": [],
   "source": [
    "target_np = df[[target]]"
   ]
  },
  {
   "cell_type": "code",
   "execution_count": 73,
   "metadata": {},
   "outputs": [],
   "source": [
    "target_np = target_np.replace([-1, 1], [0, 1])"
   ]
  },
  {
   "cell_type": "code",
   "execution_count": 77,
   "metadata": {
    "scrolled": true
   },
   "outputs": [
    {
     "name": "stdout",
     "output_type": "stream",
     "text": [
      "Optimization terminated successfully.\n",
      "         Current function value: 0.693146\n",
      "         Iterations 2\n",
      "url_entropy    0.915585\n",
      "dtype: float64\n"
     ]
    }
   ],
   "source": [
    "model = sm.Logit(target_np, df[feature])\n",
    "result = model.fit()\n",
    "print(result.pvalues)"
   ]
  },
  {
   "cell_type": "markdown",
   "metadata": {},
   "source": []
  },
  {
   "cell_type": "markdown",
   "metadata": {},
   "source": []
  },
  {
   "cell_type": "markdown",
   "metadata": {},
   "source": []
  },
  {
   "cell_type": "markdown",
   "metadata": {},
   "source": [
    "# <b>Step 2. 데이터 전처리\n",
    "---"
   ]
  },
  {
   "cell_type": "markdown",
   "metadata": {},
   "source": [
    "## <b>Q3. 중복 데이터 제거\n",
    "### 우리가 접속하는 대부분의 웹사이트는 정상 사이트입니다.\n",
    "### 또한, 특정 몇 개 사이트(ex. google, instagram, facebook 등)에 접속 빈도가 높습니다.\n",
    "### 편중된 데이터는 모델 학습에 안 좋은 영향을 주기 때문에 중복 데이터 제거를 통해 해결합니다.\n",
    "### 이 과정은 데이터 전처리 시 반드시 해야 하는 과정은 아니며, 프로젝트/데이터 성격에 맞게 결정하시면 됩니다."
   ]
  },
  {
   "cell_type": "markdown",
   "metadata": {},
   "source": [
    "### <span style=\"color:darkred\">[문제1] df info()를 통해 데이터를 확인하고 중복된 데이터는 삭제해주세요. 삭제 후 info()를 통해 이전 데이터와 비교해 보세요.<span>"
   ]
  },
  {
   "cell_type": "code",
   "execution_count": 5,
   "metadata": {},
   "outputs": [
    {
     "name": "stdout",
     "output_type": "stream",
     "text": [
      "<class 'pandas.core.frame.DataFrame'>\n",
      "RangeIndex: 3664 entries, 0 to 3663\n",
      "Data columns (total 25 columns):\n",
      " #   Column                   Non-Null Count  Dtype  \n",
      "---  ------                   --------------  -----  \n",
      " 0   Unnamed: 0               3664 non-null   int64  \n",
      " 1   url_len                  3664 non-null   float64\n",
      " 2   url_num_hyphens_dom      3664 non-null   float64\n",
      " 3   url_path_len             3663 non-null   float64\n",
      " 4   url_domain_len           3663 non-null   float64\n",
      " 5   url_hostname_len         3664 non-null   float64\n",
      " 6   url_num_dots             3664 non-null   float64\n",
      " 7   url_num_underscores      3664 non-null   float64\n",
      " 8   url_query_len            3664 non-null   float64\n",
      " 9   url_num_query_para       3664 non-null   float64\n",
      " 10  url_ip_present           3664 non-null   float64\n",
      " 11  url_entropy              3664 non-null   float64\n",
      " 12  url_chinese_present      3664 non-null   float64\n",
      " 13  url_port                 3664 non-null   float64\n",
      " 14  html_num_tags('iframe')  3664 non-null   float64\n",
      " 15  html_num_tags('script')  3664 non-null   float64\n",
      " 16  html_num_tags('embed')   3664 non-null   float64\n",
      " 17  html_num_tags('object')  3664 non-null   float64\n",
      " 18  html_num_tags('div')     3664 non-null   float64\n",
      " 19  html_num_tags('head')    3664 non-null   float64\n",
      " 20  html_num_tags('body')    3664 non-null   float64\n",
      " 21  html_num_tags('form')    3664 non-null   float64\n",
      " 22  html_num_tags('a')       3664 non-null   float64\n",
      " 23  html_num_tags('applet')  3664 non-null   float64\n",
      " 24  Result_v1                3664 non-null   object \n",
      "dtypes: float64(23), int64(1), object(1)\n",
      "memory usage: 715.8+ KB\n"
     ]
    }
   ],
   "source": [
    "# 데이터 프레임의 info를 확인합니다.\n",
    "df.info()"
   ]
  },
  {
   "cell_type": "code",
   "execution_count": 6,
   "metadata": {},
   "outputs": [
    {
     "data": {
      "text/html": [
       "<div>\n",
       "<style scoped>\n",
       "    .dataframe tbody tr th:only-of-type {\n",
       "        vertical-align: middle;\n",
       "    }\n",
       "\n",
       "    .dataframe tbody tr th {\n",
       "        vertical-align: top;\n",
       "    }\n",
       "\n",
       "    .dataframe thead th {\n",
       "        text-align: right;\n",
       "    }\n",
       "</style>\n",
       "<table border=\"1\" class=\"dataframe\">\n",
       "  <thead>\n",
       "    <tr style=\"text-align: right;\">\n",
       "      <th></th>\n",
       "      <th>Unnamed: 0</th>\n",
       "      <th>url_len</th>\n",
       "      <th>url_num_hyphens_dom</th>\n",
       "      <th>url_path_len</th>\n",
       "      <th>url_domain_len</th>\n",
       "      <th>url_hostname_len</th>\n",
       "      <th>url_num_dots</th>\n",
       "      <th>url_num_underscores</th>\n",
       "      <th>url_query_len</th>\n",
       "      <th>url_num_query_para</th>\n",
       "      <th>...</th>\n",
       "      <th>html_num_tags('script')</th>\n",
       "      <th>html_num_tags('embed')</th>\n",
       "      <th>html_num_tags('object')</th>\n",
       "      <th>html_num_tags('div')</th>\n",
       "      <th>html_num_tags('head')</th>\n",
       "      <th>html_num_tags('body')</th>\n",
       "      <th>html_num_tags('form')</th>\n",
       "      <th>html_num_tags('a')</th>\n",
       "      <th>html_num_tags('applet')</th>\n",
       "      <th>Result_v1</th>\n",
       "    </tr>\n",
       "  </thead>\n",
       "  <tbody>\n",
       "    <tr>\n",
       "      <th>0</th>\n",
       "      <td>0</td>\n",
       "      <td>23.0</td>\n",
       "      <td>0.0</td>\n",
       "      <td>8.0</td>\n",
       "      <td>15.0</td>\n",
       "      <td>15.0</td>\n",
       "      <td>2.0</td>\n",
       "      <td>0.0</td>\n",
       "      <td>0.0</td>\n",
       "      <td>0.0</td>\n",
       "      <td>...</td>\n",
       "      <td>7.0</td>\n",
       "      <td>0.0</td>\n",
       "      <td>0.0</td>\n",
       "      <td>0.0</td>\n",
       "      <td>1.0</td>\n",
       "      <td>1.0</td>\n",
       "      <td>0.0</td>\n",
       "      <td>0.0</td>\n",
       "      <td>0.0</td>\n",
       "      <td>malicious</td>\n",
       "    </tr>\n",
       "    <tr>\n",
       "      <th>1</th>\n",
       "      <td>1</td>\n",
       "      <td>75.0</td>\n",
       "      <td>0.0</td>\n",
       "      <td>58.0</td>\n",
       "      <td>17.0</td>\n",
       "      <td>17.0</td>\n",
       "      <td>6.0</td>\n",
       "      <td>0.0</td>\n",
       "      <td>0.0</td>\n",
       "      <td>0.0</td>\n",
       "      <td>...</td>\n",
       "      <td>18.0</td>\n",
       "      <td>0.0</td>\n",
       "      <td>0.0</td>\n",
       "      <td>20.0</td>\n",
       "      <td>1.0</td>\n",
       "      <td>1.0</td>\n",
       "      <td>0.0</td>\n",
       "      <td>21.0</td>\n",
       "      <td>0.0</td>\n",
       "      <td>benign</td>\n",
       "    </tr>\n",
       "    <tr>\n",
       "      <th>2</th>\n",
       "      <td>2</td>\n",
       "      <td>20.0</td>\n",
       "      <td>0.0</td>\n",
       "      <td>4.0</td>\n",
       "      <td>16.0</td>\n",
       "      <td>16.0</td>\n",
       "      <td>2.0</td>\n",
       "      <td>0.0</td>\n",
       "      <td>0.0</td>\n",
       "      <td>0.0</td>\n",
       "      <td>...</td>\n",
       "      <td>33.0</td>\n",
       "      <td>0.0</td>\n",
       "      <td>0.0</td>\n",
       "      <td>101.0</td>\n",
       "      <td>1.0</td>\n",
       "      <td>1.0</td>\n",
       "      <td>3.0</td>\n",
       "      <td>70.0</td>\n",
       "      <td>0.0</td>\n",
       "      <td>benign</td>\n",
       "    </tr>\n",
       "    <tr>\n",
       "      <th>3</th>\n",
       "      <td>3</td>\n",
       "      <td>27.0</td>\n",
       "      <td>0.0</td>\n",
       "      <td>13.0</td>\n",
       "      <td>14.0</td>\n",
       "      <td>14.0</td>\n",
       "      <td>3.0</td>\n",
       "      <td>0.0</td>\n",
       "      <td>0.0</td>\n",
       "      <td>0.0</td>\n",
       "      <td>...</td>\n",
       "      <td>15.0</td>\n",
       "      <td>0.0</td>\n",
       "      <td>0.0</td>\n",
       "      <td>151.0</td>\n",
       "      <td>1.0</td>\n",
       "      <td>1.0</td>\n",
       "      <td>1.0</td>\n",
       "      <td>55.0</td>\n",
       "      <td>0.0</td>\n",
       "      <td>benign</td>\n",
       "    </tr>\n",
       "    <tr>\n",
       "      <th>4</th>\n",
       "      <td>4</td>\n",
       "      <td>39.0</td>\n",
       "      <td>2.0</td>\n",
       "      <td>12.0</td>\n",
       "      <td>27.0</td>\n",
       "      <td>27.0</td>\n",
       "      <td>2.0</td>\n",
       "      <td>0.0</td>\n",
       "      <td>0.0</td>\n",
       "      <td>0.0</td>\n",
       "      <td>...</td>\n",
       "      <td>10.0</td>\n",
       "      <td>0.0</td>\n",
       "      <td>0.0</td>\n",
       "      <td>332.0</td>\n",
       "      <td>1.0</td>\n",
       "      <td>1.0</td>\n",
       "      <td>0.0</td>\n",
       "      <td>321.0</td>\n",
       "      <td>0.0</td>\n",
       "      <td>benign</td>\n",
       "    </tr>\n",
       "    <tr>\n",
       "      <th>...</th>\n",
       "      <td>...</td>\n",
       "      <td>...</td>\n",
       "      <td>...</td>\n",
       "      <td>...</td>\n",
       "      <td>...</td>\n",
       "      <td>...</td>\n",
       "      <td>...</td>\n",
       "      <td>...</td>\n",
       "      <td>...</td>\n",
       "      <td>...</td>\n",
       "      <td>...</td>\n",
       "      <td>...</td>\n",
       "      <td>...</td>\n",
       "      <td>...</td>\n",
       "      <td>...</td>\n",
       "      <td>...</td>\n",
       "      <td>...</td>\n",
       "      <td>...</td>\n",
       "      <td>...</td>\n",
       "      <td>...</td>\n",
       "      <td>...</td>\n",
       "    </tr>\n",
       "    <tr>\n",
       "      <th>3659</th>\n",
       "      <td>3659</td>\n",
       "      <td>68.0</td>\n",
       "      <td>3.0</td>\n",
       "      <td>16.0</td>\n",
       "      <td>52.0</td>\n",
       "      <td>52.0</td>\n",
       "      <td>2.0</td>\n",
       "      <td>0.0</td>\n",
       "      <td>0.0</td>\n",
       "      <td>0.0</td>\n",
       "      <td>...</td>\n",
       "      <td>0.0</td>\n",
       "      <td>0.0</td>\n",
       "      <td>0.0</td>\n",
       "      <td>11.0</td>\n",
       "      <td>1.0</td>\n",
       "      <td>1.0</td>\n",
       "      <td>0.0</td>\n",
       "      <td>3.0</td>\n",
       "      <td>0.0</td>\n",
       "      <td>malicious</td>\n",
       "    </tr>\n",
       "    <tr>\n",
       "      <th>3660</th>\n",
       "      <td>3660</td>\n",
       "      <td>66.0</td>\n",
       "      <td>0.0</td>\n",
       "      <td>48.0</td>\n",
       "      <td>18.0</td>\n",
       "      <td>18.0</td>\n",
       "      <td>2.0</td>\n",
       "      <td>0.0</td>\n",
       "      <td>0.0</td>\n",
       "      <td>0.0</td>\n",
       "      <td>...</td>\n",
       "      <td>14.0</td>\n",
       "      <td>0.0</td>\n",
       "      <td>0.0</td>\n",
       "      <td>212.0</td>\n",
       "      <td>1.0</td>\n",
       "      <td>1.0</td>\n",
       "      <td>3.0</td>\n",
       "      <td>475.0</td>\n",
       "      <td>0.0</td>\n",
       "      <td>benign</td>\n",
       "    </tr>\n",
       "    <tr>\n",
       "      <th>3661</th>\n",
       "      <td>3661</td>\n",
       "      <td>90.0</td>\n",
       "      <td>1.0</td>\n",
       "      <td>64.0</td>\n",
       "      <td>26.0</td>\n",
       "      <td>26.0</td>\n",
       "      <td>4.0</td>\n",
       "      <td>0.0</td>\n",
       "      <td>0.0</td>\n",
       "      <td>0.0</td>\n",
       "      <td>...</td>\n",
       "      <td>13.0</td>\n",
       "      <td>0.0</td>\n",
       "      <td>0.0</td>\n",
       "      <td>75.0</td>\n",
       "      <td>1.0</td>\n",
       "      <td>1.0</td>\n",
       "      <td>2.0</td>\n",
       "      <td>103.0</td>\n",
       "      <td>0.0</td>\n",
       "      <td>malicious</td>\n",
       "    </tr>\n",
       "    <tr>\n",
       "      <th>3662</th>\n",
       "      <td>3662</td>\n",
       "      <td>46.0</td>\n",
       "      <td>0.0</td>\n",
       "      <td>33.0</td>\n",
       "      <td>13.0</td>\n",
       "      <td>13.0</td>\n",
       "      <td>3.0</td>\n",
       "      <td>0.0</td>\n",
       "      <td>0.0</td>\n",
       "      <td>0.0</td>\n",
       "      <td>...</td>\n",
       "      <td>0.0</td>\n",
       "      <td>0.0</td>\n",
       "      <td>0.0</td>\n",
       "      <td>4.0</td>\n",
       "      <td>1.0</td>\n",
       "      <td>1.0</td>\n",
       "      <td>0.0</td>\n",
       "      <td>3.0</td>\n",
       "      <td>0.0</td>\n",
       "      <td>benign</td>\n",
       "    </tr>\n",
       "    <tr>\n",
       "      <th>3663</th>\n",
       "      <td>3663</td>\n",
       "      <td>18.0</td>\n",
       "      <td>0.0</td>\n",
       "      <td>0.0</td>\n",
       "      <td>18.0</td>\n",
       "      <td>18.0</td>\n",
       "      <td>2.0</td>\n",
       "      <td>0.0</td>\n",
       "      <td>0.0</td>\n",
       "      <td>0.0</td>\n",
       "      <td>...</td>\n",
       "      <td>3.0</td>\n",
       "      <td>0.0</td>\n",
       "      <td>0.0</td>\n",
       "      <td>282.0</td>\n",
       "      <td>1.0</td>\n",
       "      <td>1.0</td>\n",
       "      <td>2.0</td>\n",
       "      <td>46.0</td>\n",
       "      <td>0.0</td>\n",
       "      <td>benign</td>\n",
       "    </tr>\n",
       "  </tbody>\n",
       "</table>\n",
       "<p>3664 rows × 25 columns</p>\n",
       "</div>"
      ],
      "text/plain": [
       "      Unnamed: 0  url_len  url_num_hyphens_dom  url_path_len  url_domain_len  \\\n",
       "0              0     23.0                  0.0           8.0            15.0   \n",
       "1              1     75.0                  0.0          58.0            17.0   \n",
       "2              2     20.0                  0.0           4.0            16.0   \n",
       "3              3     27.0                  0.0          13.0            14.0   \n",
       "4              4     39.0                  2.0          12.0            27.0   \n",
       "...          ...      ...                  ...           ...             ...   \n",
       "3659        3659     68.0                  3.0          16.0            52.0   \n",
       "3660        3660     66.0                  0.0          48.0            18.0   \n",
       "3661        3661     90.0                  1.0          64.0            26.0   \n",
       "3662        3662     46.0                  0.0          33.0            13.0   \n",
       "3663        3663     18.0                  0.0           0.0            18.0   \n",
       "\n",
       "      url_hostname_len  url_num_dots  url_num_underscores  url_query_len  \\\n",
       "0                 15.0           2.0                  0.0            0.0   \n",
       "1                 17.0           6.0                  0.0            0.0   \n",
       "2                 16.0           2.0                  0.0            0.0   \n",
       "3                 14.0           3.0                  0.0            0.0   \n",
       "4                 27.0           2.0                  0.0            0.0   \n",
       "...                ...           ...                  ...            ...   \n",
       "3659              52.0           2.0                  0.0            0.0   \n",
       "3660              18.0           2.0                  0.0            0.0   \n",
       "3661              26.0           4.0                  0.0            0.0   \n",
       "3662              13.0           3.0                  0.0            0.0   \n",
       "3663              18.0           2.0                  0.0            0.0   \n",
       "\n",
       "      url_num_query_para  ...  html_num_tags('script')  \\\n",
       "0                    0.0  ...                      7.0   \n",
       "1                    0.0  ...                     18.0   \n",
       "2                    0.0  ...                     33.0   \n",
       "3                    0.0  ...                     15.0   \n",
       "4                    0.0  ...                     10.0   \n",
       "...                  ...  ...                      ...   \n",
       "3659                 0.0  ...                      0.0   \n",
       "3660                 0.0  ...                     14.0   \n",
       "3661                 0.0  ...                     13.0   \n",
       "3662                 0.0  ...                      0.0   \n",
       "3663                 0.0  ...                      3.0   \n",
       "\n",
       "      html_num_tags('embed')  html_num_tags('object')  html_num_tags('div')  \\\n",
       "0                        0.0                      0.0                   0.0   \n",
       "1                        0.0                      0.0                  20.0   \n",
       "2                        0.0                      0.0                 101.0   \n",
       "3                        0.0                      0.0                 151.0   \n",
       "4                        0.0                      0.0                 332.0   \n",
       "...                      ...                      ...                   ...   \n",
       "3659                     0.0                      0.0                  11.0   \n",
       "3660                     0.0                      0.0                 212.0   \n",
       "3661                     0.0                      0.0                  75.0   \n",
       "3662                     0.0                      0.0                   4.0   \n",
       "3663                     0.0                      0.0                 282.0   \n",
       "\n",
       "      html_num_tags('head')  html_num_tags('body')  html_num_tags('form')  \\\n",
       "0                       1.0                    1.0                    0.0   \n",
       "1                       1.0                    1.0                    0.0   \n",
       "2                       1.0                    1.0                    3.0   \n",
       "3                       1.0                    1.0                    1.0   \n",
       "4                       1.0                    1.0                    0.0   \n",
       "...                     ...                    ...                    ...   \n",
       "3659                    1.0                    1.0                    0.0   \n",
       "3660                    1.0                    1.0                    3.0   \n",
       "3661                    1.0                    1.0                    2.0   \n",
       "3662                    1.0                    1.0                    0.0   \n",
       "3663                    1.0                    1.0                    2.0   \n",
       "\n",
       "      html_num_tags('a')  html_num_tags('applet')  Result_v1  \n",
       "0                    0.0                      0.0  malicious  \n",
       "1                   21.0                      0.0     benign  \n",
       "2                   70.0                      0.0     benign  \n",
       "3                   55.0                      0.0     benign  \n",
       "4                  321.0                      0.0     benign  \n",
       "...                  ...                      ...        ...  \n",
       "3659                 3.0                      0.0  malicious  \n",
       "3660               475.0                      0.0     benign  \n",
       "3661               103.0                      0.0  malicious  \n",
       "3662                 3.0                      0.0     benign  \n",
       "3663                46.0                      0.0     benign  \n",
       "\n",
       "[3664 rows x 25 columns]"
      ]
     },
     "execution_count": 6,
     "metadata": {},
     "output_type": "execute_result"
    }
   ],
   "source": [
    "# 중복 데이터 제거를 제거합니다.\n",
    "df.drop_duplicates()"
   ]
  },
  {
   "cell_type": "code",
   "execution_count": 7,
   "metadata": {},
   "outputs": [
    {
     "name": "stdout",
     "output_type": "stream",
     "text": [
      "<class 'pandas.core.frame.DataFrame'>\n",
      "RangeIndex: 3664 entries, 0 to 3663\n",
      "Data columns (total 25 columns):\n",
      " #   Column                   Non-Null Count  Dtype  \n",
      "---  ------                   --------------  -----  \n",
      " 0   Unnamed: 0               3664 non-null   int64  \n",
      " 1   url_len                  3664 non-null   float64\n",
      " 2   url_num_hyphens_dom      3664 non-null   float64\n",
      " 3   url_path_len             3663 non-null   float64\n",
      " 4   url_domain_len           3663 non-null   float64\n",
      " 5   url_hostname_len         3664 non-null   float64\n",
      " 6   url_num_dots             3664 non-null   float64\n",
      " 7   url_num_underscores      3664 non-null   float64\n",
      " 8   url_query_len            3664 non-null   float64\n",
      " 9   url_num_query_para       3664 non-null   float64\n",
      " 10  url_ip_present           3664 non-null   float64\n",
      " 11  url_entropy              3664 non-null   float64\n",
      " 12  url_chinese_present      3664 non-null   float64\n",
      " 13  url_port                 3664 non-null   float64\n",
      " 14  html_num_tags('iframe')  3664 non-null   float64\n",
      " 15  html_num_tags('script')  3664 non-null   float64\n",
      " 16  html_num_tags('embed')   3664 non-null   float64\n",
      " 17  html_num_tags('object')  3664 non-null   float64\n",
      " 18  html_num_tags('div')     3664 non-null   float64\n",
      " 19  html_num_tags('head')    3664 non-null   float64\n",
      " 20  html_num_tags('body')    3664 non-null   float64\n",
      " 21  html_num_tags('form')    3664 non-null   float64\n",
      " 22  html_num_tags('a')       3664 non-null   float64\n",
      " 23  html_num_tags('applet')  3664 non-null   float64\n",
      " 24  Result_v1                3664 non-null   object \n",
      "dtypes: float64(23), int64(1), object(1)\n",
      "memory usage: 715.8+ KB\n"
     ]
    }
   ],
   "source": [
    "# 데이터 프레임의 info를 확인합니다.\n",
    "df.info()"
   ]
  },
  {
   "cell_type": "markdown",
   "metadata": {},
   "source": [
    "---"
   ]
  },
  {
   "cell_type": "markdown",
   "metadata": {},
   "source": [
    "## <b>Q4. 텍스트와 범주형 특성 처리\n",
    "\n",
    "### 기계가 데이터를 인식할 수 있도록 텍스트 데이터를 수치형 데이터로 변경합니다.\n",
    " - replace() 함수를 이용한 텍스트와 범주형 특성 처리"
   ]
  },
  {
   "cell_type": "markdown",
   "metadata": {},
   "source": [
    "**<span style=\"color:green\">[참고링크] 공식 Document**</span>\n",
    "\n",
    "* replace(https://pandas.pydata.org/pandas-docs/stable/reference/api/pandas.DataFrame.replace.html)\n",
    "* unique(https://pandas.pydata.org/pandas-docs/stable/reference/api/pandas.unique.html)"
   ]
  },
  {
   "cell_type": "markdown",
   "metadata": {},
   "source": [
    "### <span style=\"color:blue\">[예시] df_ex 데이터 프레임에서 replace 함수를 활용 'CA'는'California'로 'NY'는 'NewYork'으로 변경합니다.<span>"
   ]
  },
  {
   "cell_type": "code",
   "execution_count": 1,
   "metadata": {},
   "outputs": [
    {
     "name": "stdout",
     "output_type": "stream",
     "text": [
      "      name  age state  point\n",
      "0    Alice   24    NY     64\n",
      "1      Bob   42    CA     24\n",
      "2  Charlie   18    CA     70\n",
      "3     Dave   68    TX     70\n",
      "4    Ellen   24    CA     88\n",
      "5    Frank   30    NY     57\n"
     ]
    }
   ],
   "source": [
    "import pandas as pd\n",
    "\n",
    "df_ex = pd.DataFrame({'name': ['Alice','Bob','Charlie','Dave','Ellen','Frank'],\n",
    "                   'age': [24,42,18,68,24,30],\n",
    "                   'state': ['NY','CA','CA','TX','CA','NY'],\n",
    "                   'point': [64,24,70,70,88,57]}\n",
    "                  )\n",
    "\n",
    "print(df_ex)"
   ]
  },
  {
   "cell_type": "code",
   "execution_count": null,
   "metadata": {},
   "outputs": [],
   "source": []
  },
  {
   "cell_type": "markdown",
   "metadata": {},
   "source": [
    "### <span style=\"color:darkred\">[문제2] replace() 함수를 활용 'benign'은 1로 'malicious'은 -1로 변경해주세요. 삭제 후 df['Result_v1'] 전후 데이터를 비교해 보세요.<span>"
   ]
  },
  {
   "cell_type": "code",
   "execution_count": 8,
   "metadata": {},
   "outputs": [
    {
     "data": {
      "text/plain": [
       "array(['malicious', 'benign'], dtype=object)"
      ]
     },
     "execution_count": 8,
     "metadata": {},
     "output_type": "execute_result"
    }
   ],
   "source": [
    "# 텍스트 데이터를 수치형 데이터로 변경 전 unique() 함수를 통해 유일한 값 확인\n",
    "df['Result_v1'].unique()\n"
   ]
  },
  {
   "cell_type": "code",
   "execution_count": 9,
   "metadata": {},
   "outputs": [],
   "source": [
    "# replace() 함수를 사용 텍스트 데이터를 수치형 데이터로 변경합니다.\n",
    "df = df.replace(['benign', 'malicious'], [1, -1])\n",
    "\n",
    "\n",
    "\n"
   ]
  },
  {
   "cell_type": "code",
   "execution_count": 10,
   "metadata": {},
   "outputs": [
    {
     "data": {
      "text/plain": [
       "array([-1,  1], dtype=int64)"
      ]
     },
     "execution_count": 10,
     "metadata": {},
     "output_type": "execute_result"
    }
   ],
   "source": [
    "# 텍스트 데이터를 수치형 데이터로 후 unique() 함수를 통해 유일한 값 확인\n",
    "df['Result_v1'].unique()\n"
   ]
  },
  {
   "cell_type": "markdown",
   "metadata": {},
   "source": [
    "---"
   ]
  },
  {
   "cell_type": "markdown",
   "metadata": {},
   "source": [
    "## <b>Q5. 결측치 처리\n",
    "\n",
    "### 데이터 수집 과정에서 발생한 오류 등으로 인해 결측치가 포함된 경우가 많습니다.\n",
    "### 모델링 전에 결측치를 확인하고 이를 정제하는 과정은 필요합니다."
   ]
  },
  {
   "cell_type": "markdown",
   "metadata": {},
   "source": [
    "### <span style=\"color:darkred\">[문제3] 결측치의 존재를 확인하고 결측치가 포함된 데이터를 처리해보세요.<span>"
   ]
  },
  {
   "cell_type": "code",
   "execution_count": 135,
   "metadata": {},
   "outputs": [
    {
     "data": {
      "text/plain": [
       "Unnamed: 0                 0\n",
       "url_len                    0\n",
       "url_num_hyphens_dom        0\n",
       "url_path_len               1\n",
       "url_domain_len             1\n",
       "url_hostname_len           0\n",
       "url_num_dots               0\n",
       "url_num_underscores        0\n",
       "url_query_len              0\n",
       "url_num_query_para         0\n",
       "url_ip_present             0\n",
       "url_entropy                0\n",
       "url_chinese_present        0\n",
       "url_port                   0\n",
       "html_num_tags('iframe')    0\n",
       "html_num_tags('script')    0\n",
       "html_num_tags('embed')     0\n",
       "html_num_tags('object')    0\n",
       "html_num_tags('div')       0\n",
       "html_num_tags('head')      0\n",
       "html_num_tags('body')      0\n",
       "html_num_tags('form')      0\n",
       "html_num_tags('a')         0\n",
       "html_num_tags('applet')    0\n",
       "Result_v1                  0\n",
       "dtype: int64"
      ]
     },
     "execution_count": 135,
     "metadata": {},
     "output_type": "execute_result"
    }
   ],
   "source": [
    "# 결축치의 존재를 확인합니다.\n",
    "df.isna().sum()\n"
   ]
  },
  {
   "cell_type": "code",
   "execution_count": 136,
   "metadata": {},
   "outputs": [],
   "source": [
    "# 결측치를 적절히 처리해줍니다.\n",
    "df = df.dropna()\n",
    "\n"
   ]
  },
  {
   "cell_type": "code",
   "execution_count": 137,
   "metadata": {},
   "outputs": [
    {
     "data": {
      "text/plain": [
       "Unnamed: 0                 0\n",
       "url_len                    0\n",
       "url_num_hyphens_dom        0\n",
       "url_path_len               0\n",
       "url_domain_len             0\n",
       "url_hostname_len           0\n",
       "url_num_dots               0\n",
       "url_num_underscores        0\n",
       "url_query_len              0\n",
       "url_num_query_para         0\n",
       "url_ip_present             0\n",
       "url_entropy                0\n",
       "url_chinese_present        0\n",
       "url_port                   0\n",
       "html_num_tags('iframe')    0\n",
       "html_num_tags('script')    0\n",
       "html_num_tags('embed')     0\n",
       "html_num_tags('object')    0\n",
       "html_num_tags('div')       0\n",
       "html_num_tags('head')      0\n",
       "html_num_tags('body')      0\n",
       "html_num_tags('form')      0\n",
       "html_num_tags('a')         0\n",
       "html_num_tags('applet')    0\n",
       "Result_v1                  0\n",
       "dtype: int64"
      ]
     },
     "execution_count": 137,
     "metadata": {},
     "output_type": "execute_result"
    }
   ],
   "source": [
    "# 결축치의 존재를 확인합니다.\n",
    "df.isna().sum()\n"
   ]
  },
  {
   "cell_type": "markdown",
   "metadata": {},
   "source": [
    "---"
   ]
  },
  {
   "cell_type": "markdown",
   "metadata": {},
   "source": [
    "## <b>Q6. 데이터 탐색을 통해 새로운 변수 추가 혹은 불필요한 변수 제거\n",
    "\n",
    "### AI모델의 성능 향상을 위해 기존의 변수를 조합해 새로운 변수를 만들어 내기도 하고\n",
    "### 데이터 분석을 통해 필요없는 변수는 삭제하는 과정이 필요 합니다."
   ]
  },
  {
   "cell_type": "markdown",
   "metadata": {},
   "source": [
    "### <span style=\"color:darkred\">[문제4] 상관관계 함수 및 데이터 시각화 등을 활용하며 데이터셋을 분석하고 컬럼을 추가/삭제 해보세요.<span>"
   ]
  },
  {
   "cell_type": "code",
   "execution_count": 153,
   "metadata": {},
   "outputs": [],
   "source": [
    "# 'benign'은 1로 'malicious'은 -1로\n",
    "df['Result_v1'] = df['Result_v1'].replace([1, -1], [1, 0])"
   ]
  },
  {
   "cell_type": "code",
   "execution_count": 154,
   "metadata": {},
   "outputs": [
    {
     "data": {
      "text/plain": [
       "0       0\n",
       "1       1\n",
       "2       1\n",
       "3       1\n",
       "4       1\n",
       "       ..\n",
       "3659    0\n",
       "3660    1\n",
       "3661    0\n",
       "3662    1\n",
       "3663    1\n",
       "Name: Result_v1, Length: 3662, dtype: int64"
      ]
     },
     "execution_count": 154,
     "metadata": {},
     "output_type": "execute_result"
    }
   ],
   "source": [
    "df[target]"
   ]
  },
  {
   "cell_type": "code",
   "execution_count": 155,
   "metadata": {},
   "outputs": [],
   "source": [
    "x = df.drop(columns=target)"
   ]
  },
  {
   "cell_type": "code",
   "execution_count": 156,
   "metadata": {},
   "outputs": [],
   "source": [
    "x.drop(columns='Unnamed: 0', inplace=True)"
   ]
  },
  {
   "cell_type": "code",
   "execution_count": 157,
   "metadata": {},
   "outputs": [],
   "source": [
    "y = df.loc[:, [target]]"
   ]
  },
  {
   "cell_type": "code",
   "execution_count": 158,
   "metadata": {
    "scrolled": true
   },
   "outputs": [
    {
     "data": {
      "text/html": [
       "<div>\n",
       "<style scoped>\n",
       "    .dataframe tbody tr th:only-of-type {\n",
       "        vertical-align: middle;\n",
       "    }\n",
       "\n",
       "    .dataframe tbody tr th {\n",
       "        vertical-align: top;\n",
       "    }\n",
       "\n",
       "    .dataframe thead th {\n",
       "        text-align: right;\n",
       "    }\n",
       "</style>\n",
       "<table border=\"1\" class=\"dataframe\">\n",
       "  <thead>\n",
       "    <tr style=\"text-align: right;\">\n",
       "      <th></th>\n",
       "      <th>Result_v1</th>\n",
       "    </tr>\n",
       "  </thead>\n",
       "  <tbody>\n",
       "    <tr>\n",
       "      <th>0</th>\n",
       "      <td>0</td>\n",
       "    </tr>\n",
       "    <tr>\n",
       "      <th>1</th>\n",
       "      <td>1</td>\n",
       "    </tr>\n",
       "    <tr>\n",
       "      <th>2</th>\n",
       "      <td>1</td>\n",
       "    </tr>\n",
       "    <tr>\n",
       "      <th>3</th>\n",
       "      <td>1</td>\n",
       "    </tr>\n",
       "    <tr>\n",
       "      <th>4</th>\n",
       "      <td>1</td>\n",
       "    </tr>\n",
       "    <tr>\n",
       "      <th>...</th>\n",
       "      <td>...</td>\n",
       "    </tr>\n",
       "    <tr>\n",
       "      <th>3659</th>\n",
       "      <td>0</td>\n",
       "    </tr>\n",
       "    <tr>\n",
       "      <th>3660</th>\n",
       "      <td>1</td>\n",
       "    </tr>\n",
       "    <tr>\n",
       "      <th>3661</th>\n",
       "      <td>0</td>\n",
       "    </tr>\n",
       "    <tr>\n",
       "      <th>3662</th>\n",
       "      <td>1</td>\n",
       "    </tr>\n",
       "    <tr>\n",
       "      <th>3663</th>\n",
       "      <td>1</td>\n",
       "    </tr>\n",
       "  </tbody>\n",
       "</table>\n",
       "<p>3662 rows × 1 columns</p>\n",
       "</div>"
      ],
      "text/plain": [
       "      Result_v1\n",
       "0             0\n",
       "1             1\n",
       "2             1\n",
       "3             1\n",
       "4             1\n",
       "...         ...\n",
       "3659          0\n",
       "3660          1\n",
       "3661          0\n",
       "3662          1\n",
       "3663          1\n",
       "\n",
       "[3662 rows x 1 columns]"
      ]
     },
     "execution_count": 158,
     "metadata": {},
     "output_type": "execute_result"
    }
   ],
   "source": [
    "y"
   ]
  },
  {
   "cell_type": "code",
   "execution_count": 159,
   "metadata": {},
   "outputs": [],
   "source": [
    "x_train, x_val, y_train, y_val = train_test_split(x, y, test_size=0.3)"
   ]
  },
  {
   "cell_type": "code",
   "execution_count": 160,
   "metadata": {},
   "outputs": [],
   "source": [
    "def plot_feature_importance(importance, names):\n",
    "    feature_importance = np.array(importance)\n",
    "    feature_names = np.array(names)\n",
    "\n",
    "    data={'feature_names':feature_names,'feature_importance':feature_importance}\n",
    "    fi_df = pd.DataFrame(data)\n",
    "\n",
    "    fi_df.sort_values(by=['feature_importance'], ascending=False,inplace=True)\n",
    "    fi_df.reset_index(drop=True, inplace = True)\n",
    "\n",
    "    plt.figure(figsize=(10,8))\n",
    "    sns.barplot(x='feature_importance', y='feature_names', data = fi_df)\n",
    "\n",
    "    plt.xlabel('FEATURE IMPORTANCE')\n",
    "    plt.ylabel('FEATURE NAMES')\n",
    "    plt.grid()\n",
    "\n",
    "    return fi_df"
   ]
  },
  {
   "cell_type": "code",
   "execution_count": 161,
   "metadata": {},
   "outputs": [],
   "source": [
    "model = XGBClassifier()"
   ]
  },
  {
   "cell_type": "code",
   "execution_count": 162,
   "metadata": {},
   "outputs": [],
   "source": [
    "params = {\n",
    "    'max_depth' : [3, 5, 8],\n",
    "    'n_estimators' : [50, 100, 150],\n",
    "    'learning_rate' : np.linspace(0.1, 0.2, 3)\n",
    "}"
   ]
  },
  {
   "cell_type": "code",
   "execution_count": 163,
   "metadata": {},
   "outputs": [],
   "source": [
    "m_gs = GridSearchCV(model, params, cv=5, verbose=3)"
   ]
  },
  {
   "cell_type": "code",
   "execution_count": 164,
   "metadata": {
    "scrolled": true
   },
   "outputs": [
    {
     "name": "stdout",
     "output_type": "stream",
     "text": [
      "Fitting 5 folds for each of 27 candidates, totalling 135 fits\n",
      "[CV 1/5] END learning_rate=0.1, max_depth=3, n_estimators=50; total time=   0.0s\n",
      "[CV 2/5] END learning_rate=0.1, max_depth=3, n_estimators=50; total time=   0.0s\n",
      "[CV 3/5] END learning_rate=0.1, max_depth=3, n_estimators=50; total time=   0.0s\n",
      "[CV 4/5] END learning_rate=0.1, max_depth=3, n_estimators=50; total time=   0.0s\n",
      "[CV 5/5] END learning_rate=0.1, max_depth=3, n_estimators=50; total time=   0.0s\n",
      "[CV 1/5] END learning_rate=0.1, max_depth=3, n_estimators=100; total time=   0.1s\n",
      "[CV 2/5] END learning_rate=0.1, max_depth=3, n_estimators=100; total time=   0.1s\n",
      "[CV 3/5] END learning_rate=0.1, max_depth=3, n_estimators=100; total time=   0.1s\n",
      "[CV 4/5] END learning_rate=0.1, max_depth=3, n_estimators=100; total time=   0.1s\n",
      "[CV 5/5] END learning_rate=0.1, max_depth=3, n_estimators=100; total time=   0.0s\n",
      "[CV 1/5] END learning_rate=0.1, max_depth=3, n_estimators=150; total time=   0.1s\n",
      "[CV 2/5] END learning_rate=0.1, max_depth=3, n_estimators=150; total time=   0.1s\n",
      "[CV 3/5] END learning_rate=0.1, max_depth=3, n_estimators=150; total time=   0.2s\n",
      "[CV 4/5] END learning_rate=0.1, max_depth=3, n_estimators=150; total time=   0.2s\n",
      "[CV 5/5] END learning_rate=0.1, max_depth=3, n_estimators=150; total time=   0.2s\n",
      "[CV 1/5] END learning_rate=0.1, max_depth=5, n_estimators=50; total time=   0.0s\n",
      "[CV 2/5] END learning_rate=0.1, max_depth=5, n_estimators=50; total time=   0.0s\n",
      "[CV 3/5] END learning_rate=0.1, max_depth=5, n_estimators=50; total time=   0.1s\n",
      "[CV 4/5] END learning_rate=0.1, max_depth=5, n_estimators=50; total time=   0.2s\n",
      "[CV 5/5] END learning_rate=0.1, max_depth=5, n_estimators=50; total time=   0.1s\n",
      "[CV 1/5] END learning_rate=0.1, max_depth=5, n_estimators=100; total time=   0.2s\n",
      "[CV 2/5] END learning_rate=0.1, max_depth=5, n_estimators=100; total time=   0.1s\n",
      "[CV 3/5] END learning_rate=0.1, max_depth=5, n_estimators=100; total time=   0.1s\n",
      "[CV 4/5] END learning_rate=0.1, max_depth=5, n_estimators=100; total time=   0.1s\n",
      "[CV 5/5] END learning_rate=0.1, max_depth=5, n_estimators=100; total time=   0.1s\n",
      "[CV 1/5] END learning_rate=0.1, max_depth=5, n_estimators=150; total time=   0.2s\n",
      "[CV 2/5] END learning_rate=0.1, max_depth=5, n_estimators=150; total time=   0.2s\n",
      "[CV 3/5] END learning_rate=0.1, max_depth=5, n_estimators=150; total time=   0.2s\n",
      "[CV 4/5] END learning_rate=0.1, max_depth=5, n_estimators=150; total time=   0.2s\n",
      "[CV 5/5] END learning_rate=0.1, max_depth=5, n_estimators=150; total time=   0.2s\n",
      "[CV 1/5] END learning_rate=0.1, max_depth=8, n_estimators=50; total time=   0.0s\n",
      "[CV 2/5] END learning_rate=0.1, max_depth=8, n_estimators=50; total time=   0.1s\n",
      "[CV 3/5] END learning_rate=0.1, max_depth=8, n_estimators=50; total time=   0.0s\n",
      "[CV 4/5] END learning_rate=0.1, max_depth=8, n_estimators=50; total time=   0.1s\n",
      "[CV 5/5] END learning_rate=0.1, max_depth=8, n_estimators=50; total time=   0.1s\n",
      "[CV 1/5] END learning_rate=0.1, max_depth=8, n_estimators=100; total time=   0.2s\n",
      "[CV 2/5] END learning_rate=0.1, max_depth=8, n_estimators=100; total time=   0.2s\n",
      "[CV 3/5] END learning_rate=0.1, max_depth=8, n_estimators=100; total time=   0.2s\n",
      "[CV 4/5] END learning_rate=0.1, max_depth=8, n_estimators=100; total time=   0.2s\n",
      "[CV 5/5] END learning_rate=0.1, max_depth=8, n_estimators=100; total time=   0.2s\n",
      "[CV 1/5] END learning_rate=0.1, max_depth=8, n_estimators=150; total time=   0.3s\n",
      "[CV 2/5] END learning_rate=0.1, max_depth=8, n_estimators=150; total time=   0.5s\n",
      "[CV 3/5] END learning_rate=0.1, max_depth=8, n_estimators=150; total time=   0.3s\n",
      "[CV 4/5] END learning_rate=0.1, max_depth=8, n_estimators=150; total time=   0.3s\n",
      "[CV 5/5] END learning_rate=0.1, max_depth=8, n_estimators=150; total time=   0.3s\n",
      "[CV 1/5] END learning_rate=0.15000000000000002, max_depth=3, n_estimators=50; total time=   0.0s\n",
      "[CV 2/5] END learning_rate=0.15000000000000002, max_depth=3, n_estimators=50; total time=   0.0s\n",
      "[CV 3/5] END learning_rate=0.15000000000000002, max_depth=3, n_estimators=50; total time=   0.0s\n",
      "[CV 4/5] END learning_rate=0.15000000000000002, max_depth=3, n_estimators=50; total time=   0.0s\n",
      "[CV 5/5] END learning_rate=0.15000000000000002, max_depth=3, n_estimators=50; total time=   0.0s\n",
      "[CV 1/5] END learning_rate=0.15000000000000002, max_depth=3, n_estimators=100; total time=   0.1s\n",
      "[CV 2/5] END learning_rate=0.15000000000000002, max_depth=3, n_estimators=100; total time=   0.0s\n",
      "[CV 3/5] END learning_rate=0.15000000000000002, max_depth=3, n_estimators=100; total time=   0.1s\n",
      "[CV 4/5] END learning_rate=0.15000000000000002, max_depth=3, n_estimators=100; total time=   0.0s\n",
      "[CV 5/5] END learning_rate=0.15000000000000002, max_depth=3, n_estimators=100; total time=   0.1s\n",
      "[CV 1/5] END learning_rate=0.15000000000000002, max_depth=3, n_estimators=150; total time=   0.1s\n",
      "[CV 2/5] END learning_rate=0.15000000000000002, max_depth=3, n_estimators=150; total time=   0.1s\n",
      "[CV 3/5] END learning_rate=0.15000000000000002, max_depth=3, n_estimators=150; total time=   0.1s\n",
      "[CV 4/5] END learning_rate=0.15000000000000002, max_depth=3, n_estimators=150; total time=   0.1s\n",
      "[CV 5/5] END learning_rate=0.15000000000000002, max_depth=3, n_estimators=150; total time=   0.1s\n",
      "[CV 1/5] END learning_rate=0.15000000000000002, max_depth=5, n_estimators=50; total time=   0.0s\n",
      "[CV 2/5] END learning_rate=0.15000000000000002, max_depth=5, n_estimators=50; total time=   0.0s\n",
      "[CV 3/5] END learning_rate=0.15000000000000002, max_depth=5, n_estimators=50; total time=   0.0s\n",
      "[CV 4/5] END learning_rate=0.15000000000000002, max_depth=5, n_estimators=50; total time=   0.0s\n",
      "[CV 5/5] END learning_rate=0.15000000000000002, max_depth=5, n_estimators=50; total time=   0.0s\n",
      "[CV 1/5] END learning_rate=0.15000000000000002, max_depth=5, n_estimators=100; total time=   0.1s\n",
      "[CV 2/5] END learning_rate=0.15000000000000002, max_depth=5, n_estimators=100; total time=   0.1s\n",
      "[CV 3/5] END learning_rate=0.15000000000000002, max_depth=5, n_estimators=100; total time=   0.1s\n",
      "[CV 4/5] END learning_rate=0.15000000000000002, max_depth=5, n_estimators=100; total time=   0.1s\n",
      "[CV 5/5] END learning_rate=0.15000000000000002, max_depth=5, n_estimators=100; total time=   0.1s\n",
      "[CV 1/5] END learning_rate=0.15000000000000002, max_depth=5, n_estimators=150; total time=   0.3s\n",
      "[CV 2/5] END learning_rate=0.15000000000000002, max_depth=5, n_estimators=150; total time=   0.3s\n",
      "[CV 3/5] END learning_rate=0.15000000000000002, max_depth=5, n_estimators=150; total time=   0.2s\n",
      "[CV 4/5] END learning_rate=0.15000000000000002, max_depth=5, n_estimators=150; total time=   0.2s\n",
      "[CV 5/5] END learning_rate=0.15000000000000002, max_depth=5, n_estimators=150; total time=   0.2s\n",
      "[CV 1/5] END learning_rate=0.15000000000000002, max_depth=8, n_estimators=50; total time=   0.0s\n",
      "[CV 2/5] END learning_rate=0.15000000000000002, max_depth=8, n_estimators=50; total time=   0.0s\n",
      "[CV 3/5] END learning_rate=0.15000000000000002, max_depth=8, n_estimators=50; total time=   0.0s\n",
      "[CV 4/5] END learning_rate=0.15000000000000002, max_depth=8, n_estimators=50; total time=   0.0s\n",
      "[CV 5/5] END learning_rate=0.15000000000000002, max_depth=8, n_estimators=50; total time=   0.0s\n",
      "[CV 1/5] END learning_rate=0.15000000000000002, max_depth=8, n_estimators=100; total time=   0.2s\n",
      "[CV 2/5] END learning_rate=0.15000000000000002, max_depth=8, n_estimators=100; total time=   0.1s\n",
      "[CV 3/5] END learning_rate=0.15000000000000002, max_depth=8, n_estimators=100; total time=   0.1s\n",
      "[CV 4/5] END learning_rate=0.15000000000000002, max_depth=8, n_estimators=100; total time=   0.2s\n",
      "[CV 5/5] END learning_rate=0.15000000000000002, max_depth=8, n_estimators=100; total time=   0.2s\n",
      "[CV 1/5] END learning_rate=0.15000000000000002, max_depth=8, n_estimators=150; total time=   0.2s\n",
      "[CV 2/5] END learning_rate=0.15000000000000002, max_depth=8, n_estimators=150; total time=   0.3s\n",
      "[CV 3/5] END learning_rate=0.15000000000000002, max_depth=8, n_estimators=150; total time=   0.3s\n",
      "[CV 4/5] END learning_rate=0.15000000000000002, max_depth=8, n_estimators=150; total time=   0.2s\n",
      "[CV 5/5] END learning_rate=0.15000000000000002, max_depth=8, n_estimators=150; total time=   0.2s\n",
      "[CV 1/5] END learning_rate=0.2, max_depth=3, n_estimators=50; total time=   0.0s\n",
      "[CV 2/5] END learning_rate=0.2, max_depth=3, n_estimators=50; total time=   0.0s\n"
     ]
    },
    {
     "name": "stdout",
     "output_type": "stream",
     "text": [
      "[CV 3/5] END learning_rate=0.2, max_depth=3, n_estimators=50; total time=   0.0s\n",
      "[CV 4/5] END learning_rate=0.2, max_depth=3, n_estimators=50; total time=   0.1s\n",
      "[CV 5/5] END learning_rate=0.2, max_depth=3, n_estimators=50; total time=   0.0s\n",
      "[CV 1/5] END learning_rate=0.2, max_depth=3, n_estimators=100; total time=   0.1s\n",
      "[CV 2/5] END learning_rate=0.2, max_depth=3, n_estimators=100; total time=   0.1s\n",
      "[CV 3/5] END learning_rate=0.2, max_depth=3, n_estimators=100; total time=   0.1s\n",
      "[CV 4/5] END learning_rate=0.2, max_depth=3, n_estimators=100; total time=   0.1s\n",
      "[CV 5/5] END learning_rate=0.2, max_depth=3, n_estimators=100; total time=   0.1s\n",
      "[CV 1/5] END learning_rate=0.2, max_depth=3, n_estimators=150; total time=   0.1s\n",
      "[CV 2/5] END learning_rate=0.2, max_depth=3, n_estimators=150; total time=   0.1s\n",
      "[CV 3/5] END learning_rate=0.2, max_depth=3, n_estimators=150; total time=   0.1s\n",
      "[CV 4/5] END learning_rate=0.2, max_depth=3, n_estimators=150; total time=   0.1s\n",
      "[CV 5/5] END learning_rate=0.2, max_depth=3, n_estimators=150; total time=   0.1s\n",
      "[CV 1/5] END learning_rate=0.2, max_depth=5, n_estimators=50; total time=   0.0s\n",
      "[CV 2/5] END learning_rate=0.2, max_depth=5, n_estimators=50; total time=   0.0s\n",
      "[CV 3/5] END learning_rate=0.2, max_depth=5, n_estimators=50; total time=   0.0s\n",
      "[CV 4/5] END learning_rate=0.2, max_depth=5, n_estimators=50; total time=   0.0s\n",
      "[CV 5/5] END learning_rate=0.2, max_depth=5, n_estimators=50; total time=   0.0s\n",
      "[CV 1/5] END learning_rate=0.2, max_depth=5, n_estimators=100; total time=   0.1s\n",
      "[CV 2/5] END learning_rate=0.2, max_depth=5, n_estimators=100; total time=   0.1s\n",
      "[CV 3/5] END learning_rate=0.2, max_depth=5, n_estimators=100; total time=   0.1s\n",
      "[CV 4/5] END learning_rate=0.2, max_depth=5, n_estimators=100; total time=   0.1s\n",
      "[CV 5/5] END learning_rate=0.2, max_depth=5, n_estimators=100; total time=   0.2s\n",
      "[CV 1/5] END learning_rate=0.2, max_depth=5, n_estimators=150; total time=   0.3s\n",
      "[CV 2/5] END learning_rate=0.2, max_depth=5, n_estimators=150; total time=   0.3s\n",
      "[CV 3/5] END learning_rate=0.2, max_depth=5, n_estimators=150; total time=   0.2s\n",
      "[CV 4/5] END learning_rate=0.2, max_depth=5, n_estimators=150; total time=   0.2s\n",
      "[CV 5/5] END learning_rate=0.2, max_depth=5, n_estimators=150; total time=   0.5s\n",
      "[CV 1/5] END learning_rate=0.2, max_depth=8, n_estimators=50; total time=   0.1s\n",
      "[CV 2/5] END learning_rate=0.2, max_depth=8, n_estimators=50; total time=   0.1s\n",
      "[CV 3/5] END learning_rate=0.2, max_depth=8, n_estimators=50; total time=   0.1s\n",
      "[CV 4/5] END learning_rate=0.2, max_depth=8, n_estimators=50; total time=   0.1s\n",
      "[CV 5/5] END learning_rate=0.2, max_depth=8, n_estimators=50; total time=   0.1s\n",
      "[CV 1/5] END learning_rate=0.2, max_depth=8, n_estimators=100; total time=   0.2s\n",
      "[CV 2/5] END learning_rate=0.2, max_depth=8, n_estimators=100; total time=   0.2s\n",
      "[CV 3/5] END learning_rate=0.2, max_depth=8, n_estimators=100; total time=   0.2s\n",
      "[CV 4/5] END learning_rate=0.2, max_depth=8, n_estimators=100; total time=   0.2s\n",
      "[CV 5/5] END learning_rate=0.2, max_depth=8, n_estimators=100; total time=   0.2s\n",
      "[CV 1/5] END learning_rate=0.2, max_depth=8, n_estimators=150; total time=   0.3s\n",
      "[CV 2/5] END learning_rate=0.2, max_depth=8, n_estimators=150; total time=   0.4s\n",
      "[CV 3/5] END learning_rate=0.2, max_depth=8, n_estimators=150; total time=   0.4s\n",
      "[CV 4/5] END learning_rate=0.2, max_depth=8, n_estimators=150; total time=   0.3s\n",
      "[CV 5/5] END learning_rate=0.2, max_depth=8, n_estimators=150; total time=   0.4s\n"
     ]
    },
    {
     "data": {
      "text/plain": [
       "GridSearchCV(cv=5,\n",
       "             estimator=XGBClassifier(base_score=None, booster=None,\n",
       "                                     callbacks=None, colsample_bylevel=None,\n",
       "                                     colsample_bynode=None,\n",
       "                                     colsample_bytree=None,\n",
       "                                     early_stopping_rounds=None,\n",
       "                                     enable_categorical=False, eval_metric=None,\n",
       "                                     gamma=None, gpu_id=None, grow_policy=None,\n",
       "                                     importance_type=None,\n",
       "                                     interaction_constraints=None,\n",
       "                                     learning_rate=None, max_bin=None,\n",
       "                                     max_ca...hot=None,\n",
       "                                     max_delta_step=None, max_depth=None,\n",
       "                                     max_leaves=None, min_child_weight=None,\n",
       "                                     missing=nan, monotone_constraints=None,\n",
       "                                     n_estimators=100, n_jobs=None,\n",
       "                                     num_parallel_tree=None, predictor=None,\n",
       "                                     random_state=None, reg_alpha=None,\n",
       "                                     reg_lambda=None, ...),\n",
       "             param_grid={'learning_rate': array([0.1 , 0.15, 0.2 ]),\n",
       "                         'max_depth': [3, 5, 8],\n",
       "                         'n_estimators': [50, 100, 150]},\n",
       "             verbose=3)"
      ]
     },
     "execution_count": 164,
     "metadata": {},
     "output_type": "execute_result"
    }
   ],
   "source": [
    "m_gs.fit(x_train, y_train)"
   ]
  },
  {
   "cell_type": "code",
   "execution_count": 166,
   "metadata": {},
   "outputs": [
    {
     "ename": "TypeError",
     "evalue": "'str' object is not callable",
     "output_type": "error",
     "traceback": [
      "\u001b[1;31m---------------------------------------------------------------------------\u001b[0m",
      "\u001b[1;31mTypeError\u001b[0m                                 Traceback (most recent call last)",
      "\u001b[1;32m<ipython-input-166-ec541f7d2942>\u001b[0m in \u001b[0;36m<module>\u001b[1;34m\u001b[0m\n\u001b[1;32m----> 1\u001b[1;33m \u001b[0mplot_feature_importance\u001b[0m\u001b[1;33m(\u001b[0m\u001b[0mm_gs\u001b[0m\u001b[1;33m.\u001b[0m\u001b[0mbest_estimator_\u001b[0m\u001b[1;33m.\u001b[0m\u001b[0mfeature_importances_\u001b[0m\u001b[1;33m,\u001b[0m \u001b[0mx_train\u001b[0m\u001b[1;33m.\u001b[0m\u001b[0mcolumns\u001b[0m\u001b[1;33m)\u001b[0m\u001b[1;33m\u001b[0m\u001b[1;33m\u001b[0m\u001b[0m\n\u001b[0m",
      "\u001b[1;32m<ipython-input-160-edff3596396b>\u001b[0m in \u001b[0;36mplot_feature_importance\u001b[1;34m(importance, names)\u001b[0m\n\u001b[0;32m     12\u001b[0m     \u001b[0msns\u001b[0m\u001b[1;33m.\u001b[0m\u001b[0mbarplot\u001b[0m\u001b[1;33m(\u001b[0m\u001b[0mx\u001b[0m\u001b[1;33m=\u001b[0m\u001b[1;34m'feature_importance'\u001b[0m\u001b[1;33m,\u001b[0m \u001b[0my\u001b[0m\u001b[1;33m=\u001b[0m\u001b[1;34m'feature_names'\u001b[0m\u001b[1;33m,\u001b[0m \u001b[0mdata\u001b[0m \u001b[1;33m=\u001b[0m \u001b[0mfi_df\u001b[0m\u001b[1;33m)\u001b[0m\u001b[1;33m\u001b[0m\u001b[1;33m\u001b[0m\u001b[0m\n\u001b[0;32m     13\u001b[0m \u001b[1;33m\u001b[0m\u001b[0m\n\u001b[1;32m---> 14\u001b[1;33m     \u001b[0mplt\u001b[0m\u001b[1;33m.\u001b[0m\u001b[0mxlabel\u001b[0m\u001b[1;33m(\u001b[0m\u001b[1;34m'FEATURE IMPORTANCE'\u001b[0m\u001b[1;33m)\u001b[0m\u001b[1;33m\u001b[0m\u001b[1;33m\u001b[0m\u001b[0m\n\u001b[0m\u001b[0;32m     15\u001b[0m     \u001b[0mplt\u001b[0m\u001b[1;33m.\u001b[0m\u001b[0mylabel\u001b[0m\u001b[1;33m(\u001b[0m\u001b[1;34m'FEATURE NAMES'\u001b[0m\u001b[1;33m)\u001b[0m\u001b[1;33m\u001b[0m\u001b[1;33m\u001b[0m\u001b[0m\n\u001b[0;32m     16\u001b[0m     \u001b[0mplt\u001b[0m\u001b[1;33m.\u001b[0m\u001b[0mgrid\u001b[0m\u001b[1;33m(\u001b[0m\u001b[1;33m)\u001b[0m\u001b[1;33m\u001b[0m\u001b[1;33m\u001b[0m\u001b[0m\n",
      "\u001b[1;31mTypeError\u001b[0m: 'str' object is not callable"
     ]
    },
    {
     "data": {
      "image/png": "[encoded data removed]",
      "text/plain": [
       "<Figure size 720x576 with 1 Axes>"
      ]
     },
     "metadata": {
      "needs_background": "light"
     },
     "output_type": "display_data"
    }
   ],
   "source": [
    "plot_feature_importance(m_gs.best_estimator_.feature_importances_, x_train.columns)"
   ]
  },
  {
   "cell_type": "markdown",
   "metadata": {},
   "source": [
    "## RandomForest"
   ]
  },
  {
   "cell_type": "code",
   "execution_count": 179,
   "metadata": {},
   "outputs": [],
   "source": [
    "from sklearn.ensemble import RandomForestClassifier\n",
    "model4 = RandomForestClassifier()"
   ]
  },
  {
   "cell_type": "code",
   "execution_count": 180,
   "metadata": {},
   "outputs": [],
   "source": [
    "params = {\n",
    "    'n_estimators': [50, 100, 150],\n",
    "    'max_features': range(1, 12),\n",
    "    'max_depth':[3, 5, 8]\n",
    "    \n",
    "}"
   ]
  },
  {
   "cell_type": "code",
   "execution_count": 181,
   "metadata": {},
   "outputs": [],
   "source": [
    "m_gs3 = GridSearchCV(model4, params, cv=5, verbose=3)"
   ]
  },
  {
   "cell_type": "code",
   "execution_count": 183,
   "metadata": {},
   "outputs": [
    {
     "name": "stdout",
     "output_type": "stream",
     "text": [
      "Fitting 5 folds for each of 99 candidates, totalling 495 fits\n",
      "[CV 1/5] END ...max_depth=3, max_features=1, n_estimators=50; total time=   0.0s\n",
      "[CV 2/5] END ...max_depth=3, max_features=1, n_estimators=50; total time=   0.0s\n",
      "[CV 3/5] END ...max_depth=3, max_features=1, n_estimators=50; total time=   0.0s\n",
      "[CV 4/5] END ...max_depth=3, max_features=1, n_estimators=50; total time=   0.0s\n",
      "[CV 5/5] END ...max_depth=3, max_features=1, n_estimators=50; total time=   0.0s\n",
      "[CV 1/5] END ..max_depth=3, max_features=1, n_estimators=100; total time=   0.1s\n",
      "[CV 2/5] END ..max_depth=3, max_features=1, n_estimators=100; total time=   0.1s\n",
      "[CV 3/5] END ..max_depth=3, max_features=1, n_estimators=100; total time=   0.1s\n",
      "[CV 4/5] END ..max_depth=3, max_features=1, n_estimators=100; total time=   0.1s\n",
      "[CV 5/5] END ..max_depth=3, max_features=1, n_estimators=100; total time=   0.1s\n",
      "[CV 1/5] END ..max_depth=3, max_features=1, n_estimators=150; total time=   0.2s\n",
      "[CV 2/5] END ..max_depth=3, max_features=1, n_estimators=150; total time=   0.2s\n",
      "[CV 3/5] END ..max_depth=3, max_features=1, n_estimators=150; total time=   0.3s\n",
      "[CV 4/5] END ..max_depth=3, max_features=1, n_estimators=150; total time=   0.2s\n",
      "[CV 5/5] END ..max_depth=3, max_features=1, n_estimators=150; total time=   0.2s\n",
      "[CV 1/5] END ...max_depth=3, max_features=2, n_estimators=50; total time=   0.0s\n",
      "[CV 2/5] END ...max_depth=3, max_features=2, n_estimators=50; total time=   0.0s\n",
      "[CV 3/5] END ...max_depth=3, max_features=2, n_estimators=50; total time=   0.0s\n",
      "[CV 4/5] END ...max_depth=3, max_features=2, n_estimators=50; total time=   0.0s\n",
      "[CV 5/5] END ...max_depth=3, max_features=2, n_estimators=50; total time=   0.0s\n",
      "[CV 1/5] END ..max_depth=3, max_features=2, n_estimators=100; total time=   0.1s\n",
      "[CV 2/5] END ..max_depth=3, max_features=2, n_estimators=100; total time=   0.1s\n",
      "[CV 3/5] END ..max_depth=3, max_features=2, n_estimators=100; total time=   0.1s\n",
      "[CV 4/5] END ..max_depth=3, max_features=2, n_estimators=100; total time=   0.1s\n",
      "[CV 5/5] END ..max_depth=3, max_features=2, n_estimators=100; total time=   0.1s\n",
      "[CV 1/5] END ..max_depth=3, max_features=2, n_estimators=150; total time=   0.3s\n",
      "[CV 2/5] END ..max_depth=3, max_features=2, n_estimators=150; total time=   0.3s\n",
      "[CV 3/5] END ..max_depth=3, max_features=2, n_estimators=150; total time=   0.2s\n",
      "[CV 4/5] END ..max_depth=3, max_features=2, n_estimators=150; total time=   0.2s\n",
      "[CV 5/5] END ..max_depth=3, max_features=2, n_estimators=150; total time=   0.2s\n",
      "[CV 1/5] END ...max_depth=3, max_features=3, n_estimators=50; total time=   0.0s\n",
      "[CV 2/5] END ...max_depth=3, max_features=3, n_estimators=50; total time=   0.0s\n",
      "[CV 3/5] END ...max_depth=3, max_features=3, n_estimators=50; total time=   0.0s\n",
      "[CV 4/5] END ...max_depth=3, max_features=3, n_estimators=50; total time=   0.0s\n",
      "[CV 5/5] END ...max_depth=3, max_features=3, n_estimators=50; total time=   0.0s\n",
      "[CV 1/5] END ..max_depth=3, max_features=3, n_estimators=100; total time=   0.1s\n",
      "[CV 2/5] END ..max_depth=3, max_features=3, n_estimators=100; total time=   0.2s\n",
      "[CV 3/5] END ..max_depth=3, max_features=3, n_estimators=100; total time=   0.2s\n",
      "[CV 4/5] END ..max_depth=3, max_features=3, n_estimators=100; total time=   0.2s\n",
      "[CV 5/5] END ..max_depth=3, max_features=3, n_estimators=100; total time=   0.1s\n",
      "[CV 1/5] END ..max_depth=3, max_features=3, n_estimators=150; total time=   0.2s\n",
      "[CV 2/5] END ..max_depth=3, max_features=3, n_estimators=150; total time=   0.3s\n",
      "[CV 3/5] END ..max_depth=3, max_features=3, n_estimators=150; total time=   0.2s\n",
      "[CV 4/5] END ..max_depth=3, max_features=3, n_estimators=150; total time=   0.2s\n",
      "[CV 5/5] END ..max_depth=3, max_features=3, n_estimators=150; total time=   0.2s\n",
      "[CV 1/5] END ...max_depth=3, max_features=4, n_estimators=50; total time=   0.0s\n",
      "[CV 2/5] END ...max_depth=3, max_features=4, n_estimators=50; total time=   0.0s\n",
      "[CV 3/5] END ...max_depth=3, max_features=4, n_estimators=50; total time=   0.0s\n",
      "[CV 4/5] END ...max_depth=3, max_features=4, n_estimators=50; total time=   0.0s\n",
      "[CV 5/5] END ...max_depth=3, max_features=4, n_estimators=50; total time=   0.0s\n",
      "[CV 1/5] END ..max_depth=3, max_features=4, n_estimators=100; total time=   0.2s\n",
      "[CV 2/5] END ..max_depth=3, max_features=4, n_estimators=100; total time=   0.2s\n",
      "[CV 3/5] END ..max_depth=3, max_features=4, n_estimators=100; total time=   0.1s\n",
      "[CV 4/5] END ..max_depth=3, max_features=4, n_estimators=100; total time=   0.2s\n",
      "[CV 5/5] END ..max_depth=3, max_features=4, n_estimators=100; total time=   0.3s\n",
      "[CV 1/5] END ..max_depth=3, max_features=4, n_estimators=150; total time=   0.3s\n",
      "[CV 2/5] END ..max_depth=3, max_features=4, n_estimators=150; total time=   0.2s\n",
      "[CV 3/5] END ..max_depth=3, max_features=4, n_estimators=150; total time=   0.3s\n",
      "[CV 4/5] END ..max_depth=3, max_features=4, n_estimators=150; total time=   0.3s\n",
      "[CV 5/5] END ..max_depth=3, max_features=4, n_estimators=150; total time=   0.3s\n",
      "[CV 1/5] END ...max_depth=3, max_features=5, n_estimators=50; total time=   0.0s\n",
      "[CV 2/5] END ...max_depth=3, max_features=5, n_estimators=50; total time=   0.0s\n",
      "[CV 3/5] END ...max_depth=3, max_features=5, n_estimators=50; total time=   0.0s\n",
      "[CV 4/5] END ...max_depth=3, max_features=5, n_estimators=50; total time=   0.0s\n",
      "[CV 5/5] END ...max_depth=3, max_features=5, n_estimators=50; total time=   0.0s\n",
      "[CV 1/5] END ..max_depth=3, max_features=5, n_estimators=100; total time=   0.1s\n",
      "[CV 2/5] END ..max_depth=3, max_features=5, n_estimators=100; total time=   0.1s\n",
      "[CV 3/5] END ..max_depth=3, max_features=5, n_estimators=100; total time=   0.2s\n",
      "[CV 4/5] END ..max_depth=3, max_features=5, n_estimators=100; total time=   0.1s\n",
      "[CV 5/5] END ..max_depth=3, max_features=5, n_estimators=100; total time=   0.2s\n",
      "[CV 1/5] END ..max_depth=3, max_features=5, n_estimators=150; total time=   0.3s\n",
      "[CV 2/5] END ..max_depth=3, max_features=5, n_estimators=150; total time=   0.3s\n",
      "[CV 3/5] END ..max_depth=3, max_features=5, n_estimators=150; total time=   0.4s\n",
      "[CV 4/5] END ..max_depth=3, max_features=5, n_estimators=150; total time=   0.3s\n",
      "[CV 5/5] END ..max_depth=3, max_features=5, n_estimators=150; total time=   0.3s\n",
      "[CV 1/5] END ...max_depth=3, max_features=6, n_estimators=50; total time=   0.1s\n",
      "[CV 2/5] END ...max_depth=3, max_features=6, n_estimators=50; total time=   0.0s\n",
      "[CV 3/5] END ...max_depth=3, max_features=6, n_estimators=50; total time=   0.0s\n",
      "[CV 4/5] END ...max_depth=3, max_features=6, n_estimators=50; total time=   0.0s\n",
      "[CV 5/5] END ...max_depth=3, max_features=6, n_estimators=50; total time=   0.1s\n",
      "[CV 1/5] END ..max_depth=3, max_features=6, n_estimators=100; total time=   0.2s\n",
      "[CV 2/5] END ..max_depth=3, max_features=6, n_estimators=100; total time=   0.2s\n",
      "[CV 3/5] END ..max_depth=3, max_features=6, n_estimators=100; total time=   0.2s\n",
      "[CV 4/5] END ..max_depth=3, max_features=6, n_estimators=100; total time=   0.4s\n",
      "[CV 5/5] END ..max_depth=3, max_features=6, n_estimators=100; total time=   0.3s\n",
      "[CV 1/5] END ..max_depth=3, max_features=6, n_estimators=150; total time=   0.5s\n",
      "[CV 2/5] END ..max_depth=3, max_features=6, n_estimators=150; total time=   0.4s\n",
      "[CV 3/5] END ..max_depth=3, max_features=6, n_estimators=150; total time=   0.3s\n",
      "[CV 4/5] END ..max_depth=3, max_features=6, n_estimators=150; total time=   0.3s\n",
      "[CV 5/5] END ..max_depth=3, max_features=6, n_estimators=150; total time=   0.3s\n",
      "[CV 1/5] END ...max_depth=3, max_features=7, n_estimators=50; total time=   0.0s\n",
      "[CV 2/5] END ...max_depth=3, max_features=7, n_estimators=50; total time=   0.1s\n",
      "[CV 3/5] END ...max_depth=3, max_features=7, n_estimators=50; total time=   0.0s\n",
      "[CV 4/5] END ...max_depth=3, max_features=7, n_estimators=50; total time=   0.0s\n",
      "[CV 5/5] END ...max_depth=3, max_features=7, n_estimators=50; total time=   0.1s\n",
      "[CV 1/5] END ..max_depth=3, max_features=7, n_estimators=100; total time=   0.2s\n",
      "[CV 2/5] END ..max_depth=3, max_features=7, n_estimators=100; total time=   0.2s\n",
      "[CV 3/5] END ..max_depth=3, max_features=7, n_estimators=100; total time=   0.3s\n",
      "[CV 4/5] END ..max_depth=3, max_features=7, n_estimators=100; total time=   0.2s\n",
      "[CV 5/5] END ..max_depth=3, max_features=7, n_estimators=100; total time=   0.2s\n",
      "[CV 1/5] END ..max_depth=3, max_features=7, n_estimators=150; total time=   0.3s\n"
     ]
    },
    {
     "name": "stdout",
     "output_type": "stream",
     "text": [
      "[CV 2/5] END ..max_depth=3, max_features=7, n_estimators=150; total time=   0.3s\n",
      "[CV 3/5] END ..max_depth=3, max_features=7, n_estimators=150; total time=   0.3s\n",
      "[CV 4/5] END ..max_depth=3, max_features=7, n_estimators=150; total time=   0.3s\n",
      "[CV 5/5] END ..max_depth=3, max_features=7, n_estimators=150; total time=   0.3s\n",
      "[CV 1/5] END ...max_depth=3, max_features=8, n_estimators=50; total time=   0.0s\n",
      "[CV 2/5] END ...max_depth=3, max_features=8, n_estimators=50; total time=   0.1s\n",
      "[CV 3/5] END ...max_depth=3, max_features=8, n_estimators=50; total time=   0.1s\n",
      "[CV 4/5] END ...max_depth=3, max_features=8, n_estimators=50; total time=   0.1s\n",
      "[CV 5/5] END ...max_depth=3, max_features=8, n_estimators=50; total time=   0.0s\n",
      "[CV 1/5] END ..max_depth=3, max_features=8, n_estimators=100; total time=   0.2s\n",
      "[CV 2/5] END ..max_depth=3, max_features=8, n_estimators=100; total time=   0.2s\n",
      "[CV 3/5] END ..max_depth=3, max_features=8, n_estimators=100; total time=   0.2s\n",
      "[CV 4/5] END ..max_depth=3, max_features=8, n_estimators=100; total time=   0.2s\n",
      "[CV 5/5] END ..max_depth=3, max_features=8, n_estimators=100; total time=   0.2s\n",
      "[CV 1/5] END ..max_depth=3, max_features=8, n_estimators=150; total time=   0.3s\n",
      "[CV 2/5] END ..max_depth=3, max_features=8, n_estimators=150; total time=   0.5s\n",
      "[CV 3/5] END ..max_depth=3, max_features=8, n_estimators=150; total time=   0.3s\n",
      "[CV 4/5] END ..max_depth=3, max_features=8, n_estimators=150; total time=   0.3s\n",
      "[CV 5/5] END ..max_depth=3, max_features=8, n_estimators=150; total time=   0.3s\n",
      "[CV 1/5] END ...max_depth=3, max_features=9, n_estimators=50; total time=   0.0s\n",
      "[CV 2/5] END ...max_depth=3, max_features=9, n_estimators=50; total time=   0.0s\n",
      "[CV 3/5] END ...max_depth=3, max_features=9, n_estimators=50; total time=   0.1s\n",
      "[CV 4/5] END ...max_depth=3, max_features=9, n_estimators=50; total time=   0.0s\n",
      "[CV 5/5] END ...max_depth=3, max_features=9, n_estimators=50; total time=   0.0s\n",
      "[CV 1/5] END ..max_depth=3, max_features=9, n_estimators=100; total time=   0.2s\n",
      "[CV 2/5] END ..max_depth=3, max_features=9, n_estimators=100; total time=   0.2s\n",
      "[CV 3/5] END ..max_depth=3, max_features=9, n_estimators=100; total time=   0.2s\n",
      "[CV 4/5] END ..max_depth=3, max_features=9, n_estimators=100; total time=   0.2s\n",
      "[CV 5/5] END ..max_depth=3, max_features=9, n_estimators=100; total time=   0.2s\n",
      "[CV 1/5] END ..max_depth=3, max_features=9, n_estimators=150; total time=   0.3s\n",
      "[CV 2/5] END ..max_depth=3, max_features=9, n_estimators=150; total time=   0.3s\n",
      "[CV 3/5] END ..max_depth=3, max_features=9, n_estimators=150; total time=   0.3s\n",
      "[CV 4/5] END ..max_depth=3, max_features=9, n_estimators=150; total time=   0.3s\n",
      "[CV 5/5] END ..max_depth=3, max_features=9, n_estimators=150; total time=   0.5s\n",
      "[CV 1/5] END ..max_depth=3, max_features=10, n_estimators=50; total time=   0.1s\n",
      "[CV 2/5] END ..max_depth=3, max_features=10, n_estimators=50; total time=   0.1s\n",
      "[CV 3/5] END ..max_depth=3, max_features=10, n_estimators=50; total time=   0.0s\n",
      "[CV 4/5] END ..max_depth=3, max_features=10, n_estimators=50; total time=   0.0s\n",
      "[CV 5/5] END ..max_depth=3, max_features=10, n_estimators=50; total time=   0.0s\n",
      "[CV 1/5] END .max_depth=3, max_features=10, n_estimators=100; total time=   0.2s\n",
      "[CV 2/5] END .max_depth=3, max_features=10, n_estimators=100; total time=   0.2s\n",
      "[CV 3/5] END .max_depth=3, max_features=10, n_estimators=100; total time=   0.2s\n",
      "[CV 4/5] END .max_depth=3, max_features=10, n_estimators=100; total time=   0.2s\n",
      "[CV 5/5] END .max_depth=3, max_features=10, n_estimators=100; total time=   0.2s\n",
      "[CV 1/5] END .max_depth=3, max_features=10, n_estimators=150; total time=   0.3s\n",
      "[CV 2/5] END .max_depth=3, max_features=10, n_estimators=150; total time=   0.3s\n",
      "[CV 3/5] END .max_depth=3, max_features=10, n_estimators=150; total time=   0.3s\n",
      "[CV 4/5] END .max_depth=3, max_features=10, n_estimators=150; total time=   0.3s\n",
      "[CV 5/5] END .max_depth=3, max_features=10, n_estimators=150; total time=   0.4s\n",
      "[CV 1/5] END ..max_depth=3, max_features=11, n_estimators=50; total time=   0.0s\n",
      "[CV 2/5] END ..max_depth=3, max_features=11, n_estimators=50; total time=   0.0s\n",
      "[CV 3/5] END ..max_depth=3, max_features=11, n_estimators=50; total time=   0.1s\n",
      "[CV 4/5] END ..max_depth=3, max_features=11, n_estimators=50; total time=   0.1s\n",
      "[CV 5/5] END ..max_depth=3, max_features=11, n_estimators=50; total time=   0.1s\n",
      "[CV 1/5] END .max_depth=3, max_features=11, n_estimators=100; total time=   0.3s\n",
      "[CV 2/5] END .max_depth=3, max_features=11, n_estimators=100; total time=   0.2s\n",
      "[CV 3/5] END .max_depth=3, max_features=11, n_estimators=100; total time=   0.2s\n",
      "[CV 4/5] END .max_depth=3, max_features=11, n_estimators=100; total time=   0.2s\n",
      "[CV 5/5] END .max_depth=3, max_features=11, n_estimators=100; total time=   0.2s\n",
      "[CV 1/5] END .max_depth=3, max_features=11, n_estimators=150; total time=   0.4s\n",
      "[CV 2/5] END .max_depth=3, max_features=11, n_estimators=150; total time=   0.3s\n",
      "[CV 3/5] END .max_depth=3, max_features=11, n_estimators=150; total time=   0.3s\n",
      "[CV 4/5] END .max_depth=3, max_features=11, n_estimators=150; total time=   0.3s\n",
      "[CV 5/5] END .max_depth=3, max_features=11, n_estimators=150; total time=   0.3s\n",
      "[CV 1/5] END ...max_depth=5, max_features=1, n_estimators=50; total time=   0.0s\n",
      "[CV 2/5] END ...max_depth=5, max_features=1, n_estimators=50; total time=   0.0s\n",
      "[CV 3/5] END ...max_depth=5, max_features=1, n_estimators=50; total time=   0.0s\n",
      "[CV 4/5] END ...max_depth=5, max_features=1, n_estimators=50; total time=   0.0s\n",
      "[CV 5/5] END ...max_depth=5, max_features=1, n_estimators=50; total time=   0.0s\n",
      "[CV 1/5] END ..max_depth=5, max_features=1, n_estimators=100; total time=   0.1s\n",
      "[CV 2/5] END ..max_depth=5, max_features=1, n_estimators=100; total time=   0.1s\n",
      "[CV 3/5] END ..max_depth=5, max_features=1, n_estimators=100; total time=   0.1s\n",
      "[CV 4/5] END ..max_depth=5, max_features=1, n_estimators=100; total time=   0.1s\n",
      "[CV 5/5] END ..max_depth=5, max_features=1, n_estimators=100; total time=   0.1s\n",
      "[CV 1/5] END ..max_depth=5, max_features=1, n_estimators=150; total time=   0.3s\n",
      "[CV 2/5] END ..max_depth=5, max_features=1, n_estimators=150; total time=   0.2s\n",
      "[CV 3/5] END ..max_depth=5, max_features=1, n_estimators=150; total time=   0.2s\n",
      "[CV 4/5] END ..max_depth=5, max_features=1, n_estimators=150; total time=   0.2s\n",
      "[CV 5/5] END ..max_depth=5, max_features=1, n_estimators=150; total time=   0.2s\n",
      "[CV 1/5] END ...max_depth=5, max_features=2, n_estimators=50; total time=   0.0s\n",
      "[CV 2/5] END ...max_depth=5, max_features=2, n_estimators=50; total time=   0.0s\n",
      "[CV 3/5] END ...max_depth=5, max_features=2, n_estimators=50; total time=   0.0s\n",
      "[CV 4/5] END ...max_depth=5, max_features=2, n_estimators=50; total time=   0.0s\n",
      "[CV 5/5] END ...max_depth=5, max_features=2, n_estimators=50; total time=   0.0s\n",
      "[CV 1/5] END ..max_depth=5, max_features=2, n_estimators=100; total time=   0.1s\n",
      "[CV 2/5] END ..max_depth=5, max_features=2, n_estimators=100; total time=   0.1s\n",
      "[CV 3/5] END ..max_depth=5, max_features=2, n_estimators=100; total time=   0.1s\n",
      "[CV 4/5] END ..max_depth=5, max_features=2, n_estimators=100; total time=   0.1s\n",
      "[CV 5/5] END ..max_depth=5, max_features=2, n_estimators=100; total time=   0.1s\n",
      "[CV 1/5] END ..max_depth=5, max_features=2, n_estimators=150; total time=   0.3s\n",
      "[CV 2/5] END ..max_depth=5, max_features=2, n_estimators=150; total time=   0.2s\n",
      "[CV 3/5] END ..max_depth=5, max_features=2, n_estimators=150; total time=   0.2s\n",
      "[CV 4/5] END ..max_depth=5, max_features=2, n_estimators=150; total time=   0.2s\n",
      "[CV 5/5] END ..max_depth=5, max_features=2, n_estimators=150; total time=   0.2s\n",
      "[CV 1/5] END ...max_depth=5, max_features=3, n_estimators=50; total time=   0.0s\n",
      "[CV 2/5] END ...max_depth=5, max_features=3, n_estimators=50; total time=   0.0s\n",
      "[CV 3/5] END ...max_depth=5, max_features=3, n_estimators=50; total time=   0.0s\n",
      "[CV 4/5] END ...max_depth=5, max_features=3, n_estimators=50; total time=   0.1s\n",
      "[CV 5/5] END ...max_depth=5, max_features=3, n_estimators=50; total time=   0.1s\n",
      "[CV 1/5] END ..max_depth=5, max_features=3, n_estimators=100; total time=   0.2s\n",
      "[CV 2/5] END ..max_depth=5, max_features=3, n_estimators=100; total time=   0.1s\n",
      "[CV 3/5] END ..max_depth=5, max_features=3, n_estimators=100; total time=   0.1s\n"
     ]
    },
    {
     "name": "stdout",
     "output_type": "stream",
     "text": [
      "[CV 4/5] END ..max_depth=5, max_features=3, n_estimators=100; total time=   0.1s\n",
      "[CV 5/5] END ..max_depth=5, max_features=3, n_estimators=100; total time=   0.1s\n",
      "[CV 1/5] END ..max_depth=5, max_features=3, n_estimators=150; total time=   0.3s\n",
      "[CV 2/5] END ..max_depth=5, max_features=3, n_estimators=150; total time=   0.3s\n",
      "[CV 3/5] END ..max_depth=5, max_features=3, n_estimators=150; total time=   0.3s\n",
      "[CV 4/5] END ..max_depth=5, max_features=3, n_estimators=150; total time=   0.3s\n",
      "[CV 5/5] END ..max_depth=5, max_features=3, n_estimators=150; total time=   0.3s\n",
      "[CV 1/5] END ...max_depth=5, max_features=4, n_estimators=50; total time=   0.0s\n",
      "[CV 2/5] END ...max_depth=5, max_features=4, n_estimators=50; total time=   0.0s\n",
      "[CV 3/5] END ...max_depth=5, max_features=4, n_estimators=50; total time=   0.0s\n",
      "[CV 4/5] END ...max_depth=5, max_features=4, n_estimators=50; total time=   0.0s\n",
      "[CV 5/5] END ...max_depth=5, max_features=4, n_estimators=50; total time=   0.0s\n",
      "[CV 1/5] END ..max_depth=5, max_features=4, n_estimators=100; total time=   0.2s\n",
      "[CV 2/5] END ..max_depth=5, max_features=4, n_estimators=100; total time=   0.2s\n",
      "[CV 3/5] END ..max_depth=5, max_features=4, n_estimators=100; total time=   0.2s\n",
      "[CV 4/5] END ..max_depth=5, max_features=4, n_estimators=100; total time=   0.1s\n",
      "[CV 5/5] END ..max_depth=5, max_features=4, n_estimators=100; total time=   0.1s\n",
      "[CV 1/5] END ..max_depth=5, max_features=4, n_estimators=150; total time=   0.3s\n",
      "[CV 2/5] END ..max_depth=5, max_features=4, n_estimators=150; total time=   0.4s\n",
      "[CV 3/5] END ..max_depth=5, max_features=4, n_estimators=150; total time=   0.3s\n",
      "[CV 4/5] END ..max_depth=5, max_features=4, n_estimators=150; total time=   0.3s\n",
      "[CV 5/5] END ..max_depth=5, max_features=4, n_estimators=150; total time=   0.3s\n",
      "[CV 1/5] END ...max_depth=5, max_features=5, n_estimators=50; total time=   0.1s\n",
      "[CV 2/5] END ...max_depth=5, max_features=5, n_estimators=50; total time=   0.1s\n",
      "[CV 3/5] END ...max_depth=5, max_features=5, n_estimators=50; total time=   0.0s\n",
      "[CV 4/5] END ...max_depth=5, max_features=5, n_estimators=50; total time=   0.0s\n",
      "[CV 5/5] END ...max_depth=5, max_features=5, n_estimators=50; total time=   0.0s\n",
      "[CV 1/5] END ..max_depth=5, max_features=5, n_estimators=100; total time=   0.2s\n",
      "[CV 2/5] END ..max_depth=5, max_features=5, n_estimators=100; total time=   0.2s\n",
      "[CV 3/5] END ..max_depth=5, max_features=5, n_estimators=100; total time=   0.2s\n",
      "[CV 4/5] END ..max_depth=5, max_features=5, n_estimators=100; total time=   0.2s\n",
      "[CV 5/5] END ..max_depth=5, max_features=5, n_estimators=100; total time=   0.2s\n",
      "[CV 1/5] END ..max_depth=5, max_features=5, n_estimators=150; total time=   0.3s\n",
      "[CV 2/5] END ..max_depth=5, max_features=5, n_estimators=150; total time=   0.3s\n",
      "[CV 3/5] END ..max_depth=5, max_features=5, n_estimators=150; total time=   0.3s\n",
      "[CV 4/5] END ..max_depth=5, max_features=5, n_estimators=150; total time=   0.3s\n",
      "[CV 5/5] END ..max_depth=5, max_features=5, n_estimators=150; total time=   0.4s\n",
      "[CV 1/5] END ...max_depth=5, max_features=6, n_estimators=50; total time=   0.1s\n",
      "[CV 2/5] END ...max_depth=5, max_features=6, n_estimators=50; total time=   0.1s\n",
      "[CV 3/5] END ...max_depth=5, max_features=6, n_estimators=50; total time=   0.1s\n",
      "[CV 4/5] END ...max_depth=5, max_features=6, n_estimators=50; total time=   0.0s\n",
      "[CV 5/5] END ...max_depth=5, max_features=6, n_estimators=50; total time=   0.0s\n",
      "[CV 1/5] END ..max_depth=5, max_features=6, n_estimators=100; total time=   0.2s\n",
      "[CV 2/5] END ..max_depth=5, max_features=6, n_estimators=100; total time=   0.2s\n",
      "[CV 3/5] END ..max_depth=5, max_features=6, n_estimators=100; total time=   0.2s\n",
      "[CV 4/5] END ..max_depth=5, max_features=6, n_estimators=100; total time=   0.2s\n",
      "[CV 5/5] END ..max_depth=5, max_features=6, n_estimators=100; total time=   0.2s\n",
      "[CV 1/5] END ..max_depth=5, max_features=6, n_estimators=150; total time=   0.4s\n",
      "[CV 2/5] END ..max_depth=5, max_features=6, n_estimators=150; total time=   0.3s\n",
      "[CV 3/5] END ..max_depth=5, max_features=6, n_estimators=150; total time=   0.3s\n",
      "[CV 4/5] END ..max_depth=5, max_features=6, n_estimators=150; total time=   0.4s\n",
      "[CV 5/5] END ..max_depth=5, max_features=6, n_estimators=150; total time=   0.3s\n",
      "[CV 1/5] END ...max_depth=5, max_features=7, n_estimators=50; total time=   0.0s\n",
      "[CV 2/5] END ...max_depth=5, max_features=7, n_estimators=50; total time=   0.1s\n",
      "[CV 3/5] END ...max_depth=5, max_features=7, n_estimators=50; total time=   0.0s\n",
      "[CV 4/5] END ...max_depth=5, max_features=7, n_estimators=50; total time=   0.1s\n",
      "[CV 5/5] END ...max_depth=5, max_features=7, n_estimators=50; total time=   0.1s\n",
      "[CV 1/5] END ..max_depth=5, max_features=7, n_estimators=100; total time=   0.3s\n",
      "[CV 2/5] END ..max_depth=5, max_features=7, n_estimators=100; total time=   0.2s\n",
      "[CV 3/5] END ..max_depth=5, max_features=7, n_estimators=100; total time=   0.2s\n",
      "[CV 4/5] END ..max_depth=5, max_features=7, n_estimators=100; total time=   0.2s\n",
      "[CV 5/5] END ..max_depth=5, max_features=7, n_estimators=100; total time=   0.2s\n",
      "[CV 1/5] END ..max_depth=5, max_features=7, n_estimators=150; total time=   0.4s\n",
      "[CV 2/5] END ..max_depth=5, max_features=7, n_estimators=150; total time=   0.3s\n",
      "[CV 3/5] END ..max_depth=5, max_features=7, n_estimators=150; total time=   0.3s\n",
      "[CV 4/5] END ..max_depth=5, max_features=7, n_estimators=150; total time=   0.4s\n",
      "[CV 5/5] END ..max_depth=5, max_features=7, n_estimators=150; total time=   0.4s\n",
      "[CV 1/5] END ...max_depth=5, max_features=8, n_estimators=50; total time=   0.1s\n",
      "[CV 2/5] END ...max_depth=5, max_features=8, n_estimators=50; total time=   0.1s\n",
      "[CV 3/5] END ...max_depth=5, max_features=8, n_estimators=50; total time=   0.1s\n",
      "[CV 4/5] END ...max_depth=5, max_features=8, n_estimators=50; total time=   0.1s\n",
      "[CV 5/5] END ...max_depth=5, max_features=8, n_estimators=50; total time=   0.1s\n",
      "[CV 1/5] END ..max_depth=5, max_features=8, n_estimators=100; total time=   0.2s\n",
      "[CV 2/5] END ..max_depth=5, max_features=8, n_estimators=100; total time=   0.2s\n",
      "[CV 3/5] END ..max_depth=5, max_features=8, n_estimators=100; total time=   0.3s\n",
      "[CV 4/5] END ..max_depth=5, max_features=8, n_estimators=100; total time=   0.3s\n",
      "[CV 5/5] END ..max_depth=5, max_features=8, n_estimators=100; total time=   0.2s\n",
      "[CV 1/5] END ..max_depth=5, max_features=8, n_estimators=150; total time=   0.4s\n",
      "[CV 2/5] END ..max_depth=5, max_features=8, n_estimators=150; total time=   0.4s\n",
      "[CV 3/5] END ..max_depth=5, max_features=8, n_estimators=150; total time=   0.4s\n",
      "[CV 4/5] END ..max_depth=5, max_features=8, n_estimators=150; total time=   0.4s\n",
      "[CV 5/5] END ..max_depth=5, max_features=8, n_estimators=150; total time=   0.4s\n",
      "[CV 1/5] END ...max_depth=5, max_features=9, n_estimators=50; total time=   0.1s\n",
      "[CV 2/5] END ...max_depth=5, max_features=9, n_estimators=50; total time=   0.1s\n",
      "[CV 3/5] END ...max_depth=5, max_features=9, n_estimators=50; total time=   0.1s\n",
      "[CV 4/5] END ...max_depth=5, max_features=9, n_estimators=50; total time=   0.1s\n",
      "[CV 5/5] END ...max_depth=5, max_features=9, n_estimators=50; total time=   0.1s\n",
      "[CV 1/5] END ..max_depth=5, max_features=9, n_estimators=100; total time=   0.2s\n",
      "[CV 2/5] END ..max_depth=5, max_features=9, n_estimators=100; total time=   0.2s\n",
      "[CV 3/5] END ..max_depth=5, max_features=9, n_estimators=100; total time=   0.2s\n",
      "[CV 4/5] END ..max_depth=5, max_features=9, n_estimators=100; total time=   0.3s\n",
      "[CV 5/5] END ..max_depth=5, max_features=9, n_estimators=100; total time=   0.3s\n",
      "[CV 1/5] END ..max_depth=5, max_features=9, n_estimators=150; total time=   0.4s\n",
      "[CV 2/5] END ..max_depth=5, max_features=9, n_estimators=150; total time=   0.4s\n",
      "[CV 3/5] END ..max_depth=5, max_features=9, n_estimators=150; total time=   0.4s\n",
      "[CV 4/5] END ..max_depth=5, max_features=9, n_estimators=150; total time=   0.4s\n",
      "[CV 5/5] END ..max_depth=5, max_features=9, n_estimators=150; total time=   0.4s\n",
      "[CV 1/5] END ..max_depth=5, max_features=10, n_estimators=50; total time=   0.1s\n",
      "[CV 2/5] END ..max_depth=5, max_features=10, n_estimators=50; total time=   0.1s\n",
      "[CV 3/5] END ..max_depth=5, max_features=10, n_estimators=50; total time=   0.1s\n",
      "[CV 4/5] END ..max_depth=5, max_features=10, n_estimators=50; total time=   0.1s\n",
      "[CV 5/5] END ..max_depth=5, max_features=10, n_estimators=50; total time=   0.1s\n"
     ]
    },
    {
     "name": "stdout",
     "output_type": "stream",
     "text": [
      "[CV 1/5] END .max_depth=5, max_features=10, n_estimators=100; total time=   0.2s\n",
      "[CV 2/5] END .max_depth=5, max_features=10, n_estimators=100; total time=   0.2s\n",
      "[CV 3/5] END .max_depth=5, max_features=10, n_estimators=100; total time=   0.3s\n",
      "[CV 4/5] END .max_depth=5, max_features=10, n_estimators=100; total time=   0.2s\n",
      "[CV 5/5] END .max_depth=5, max_features=10, n_estimators=100; total time=   0.3s\n",
      "[CV 1/5] END .max_depth=5, max_features=10, n_estimators=150; total time=   0.5s\n",
      "[CV 2/5] END .max_depth=5, max_features=10, n_estimators=150; total time=   0.4s\n",
      "[CV 3/5] END .max_depth=5, max_features=10, n_estimators=150; total time=   0.4s\n",
      "[CV 4/5] END .max_depth=5, max_features=10, n_estimators=150; total time=   0.4s\n",
      "[CV 5/5] END .max_depth=5, max_features=10, n_estimators=150; total time=   0.4s\n",
      "[CV 1/5] END ..max_depth=5, max_features=11, n_estimators=50; total time=   0.1s\n",
      "[CV 2/5] END ..max_depth=5, max_features=11, n_estimators=50; total time=   0.1s\n",
      "[CV 3/5] END ..max_depth=5, max_features=11, n_estimators=50; total time=   0.1s\n",
      "[CV 4/5] END ..max_depth=5, max_features=11, n_estimators=50; total time=   0.1s\n",
      "[CV 5/5] END ..max_depth=5, max_features=11, n_estimators=50; total time=   0.1s\n",
      "[CV 1/5] END .max_depth=5, max_features=11, n_estimators=100; total time=   0.3s\n",
      "[CV 2/5] END .max_depth=5, max_features=11, n_estimators=100; total time=   0.3s\n",
      "[CV 3/5] END .max_depth=5, max_features=11, n_estimators=100; total time=   0.3s\n",
      "[CV 4/5] END .max_depth=5, max_features=11, n_estimators=100; total time=   0.3s\n",
      "[CV 5/5] END .max_depth=5, max_features=11, n_estimators=100; total time=   0.3s\n",
      "[CV 1/5] END .max_depth=5, max_features=11, n_estimators=150; total time=   0.5s\n",
      "[CV 2/5] END .max_depth=5, max_features=11, n_estimators=150; total time=   0.5s\n",
      "[CV 3/5] END .max_depth=5, max_features=11, n_estimators=150; total time=   0.5s\n",
      "[CV 4/5] END .max_depth=5, max_features=11, n_estimators=150; total time=   0.6s\n",
      "[CV 5/5] END .max_depth=5, max_features=11, n_estimators=150; total time=   0.7s\n",
      "[CV 1/5] END ...max_depth=8, max_features=1, n_estimators=50; total time=   0.1s\n",
      "[CV 2/5] END ...max_depth=8, max_features=1, n_estimators=50; total time=   0.0s\n",
      "[CV 3/5] END ...max_depth=8, max_features=1, n_estimators=50; total time=   0.0s\n",
      "[CV 4/5] END ...max_depth=8, max_features=1, n_estimators=50; total time=   0.0s\n",
      "[CV 5/5] END ...max_depth=8, max_features=1, n_estimators=50; total time=   0.0s\n",
      "[CV 1/5] END ..max_depth=8, max_features=1, n_estimators=100; total time=   0.2s\n",
      "[CV 2/5] END ..max_depth=8, max_features=1, n_estimators=100; total time=   0.2s\n",
      "[CV 3/5] END ..max_depth=8, max_features=1, n_estimators=100; total time=   0.2s\n",
      "[CV 4/5] END ..max_depth=8, max_features=1, n_estimators=100; total time=   0.1s\n",
      "[CV 5/5] END ..max_depth=8, max_features=1, n_estimators=100; total time=   0.2s\n",
      "[CV 1/5] END ..max_depth=8, max_features=1, n_estimators=150; total time=   0.4s\n",
      "[CV 2/5] END ..max_depth=8, max_features=1, n_estimators=150; total time=   0.3s\n",
      "[CV 3/5] END ..max_depth=8, max_features=1, n_estimators=150; total time=   0.2s\n",
      "[CV 4/5] END ..max_depth=8, max_features=1, n_estimators=150; total time=   0.2s\n",
      "[CV 5/5] END ..max_depth=8, max_features=1, n_estimators=150; total time=   0.3s\n",
      "[CV 1/5] END ...max_depth=8, max_features=2, n_estimators=50; total time=   0.1s\n",
      "[CV 2/5] END ...max_depth=8, max_features=2, n_estimators=50; total time=   0.1s\n",
      "[CV 3/5] END ...max_depth=8, max_features=2, n_estimators=50; total time=   0.0s\n",
      "[CV 4/5] END ...max_depth=8, max_features=2, n_estimators=50; total time=   0.0s\n",
      "[CV 5/5] END ...max_depth=8, max_features=2, n_estimators=50; total time=   0.0s\n",
      "[CV 1/5] END ..max_depth=8, max_features=2, n_estimators=100; total time=   0.2s\n",
      "[CV 2/5] END ..max_depth=8, max_features=2, n_estimators=100; total time=   0.1s\n",
      "[CV 3/5] END ..max_depth=8, max_features=2, n_estimators=100; total time=   0.1s\n",
      "[CV 4/5] END ..max_depth=8, max_features=2, n_estimators=100; total time=   0.1s\n",
      "[CV 5/5] END ..max_depth=8, max_features=2, n_estimators=100; total time=   0.1s\n",
      "[CV 1/5] END ..max_depth=8, max_features=2, n_estimators=150; total time=   0.3s\n",
      "[CV 2/5] END ..max_depth=8, max_features=2, n_estimators=150; total time=   0.3s\n",
      "[CV 3/5] END ..max_depth=8, max_features=2, n_estimators=150; total time=   0.3s\n",
      "[CV 4/5] END ..max_depth=8, max_features=2, n_estimators=150; total time=   0.3s\n",
      "[CV 5/5] END ..max_depth=8, max_features=2, n_estimators=150; total time=   0.3s\n",
      "[CV 1/5] END ...max_depth=8, max_features=3, n_estimators=50; total time=   0.1s\n",
      "[CV 2/5] END ...max_depth=8, max_features=3, n_estimators=50; total time=   0.0s\n",
      "[CV 3/5] END ...max_depth=8, max_features=3, n_estimators=50; total time=   0.0s\n",
      "[CV 4/5] END ...max_depth=8, max_features=3, n_estimators=50; total time=   0.0s\n",
      "[CV 5/5] END ...max_depth=8, max_features=3, n_estimators=50; total time=   0.1s\n",
      "[CV 1/5] END ..max_depth=8, max_features=3, n_estimators=100; total time=   0.2s\n",
      "[CV 2/5] END ..max_depth=8, max_features=3, n_estimators=100; total time=   0.4s\n",
      "[CV 3/5] END ..max_depth=8, max_features=3, n_estimators=100; total time=   0.3s\n",
      "[CV 4/5] END ..max_depth=8, max_features=3, n_estimators=100; total time=   0.8s\n",
      "[CV 5/5] END ..max_depth=8, max_features=3, n_estimators=100; total time=   0.7s\n",
      "[CV 1/5] END ..max_depth=8, max_features=3, n_estimators=150; total time=   1.0s\n",
      "[CV 2/5] END ..max_depth=8, max_features=3, n_estimators=150; total time=   0.5s\n",
      "[CV 3/5] END ..max_depth=8, max_features=3, n_estimators=150; total time=   0.7s\n",
      "[CV 4/5] END ..max_depth=8, max_features=3, n_estimators=150; total time=   0.4s\n",
      "[CV 5/5] END ..max_depth=8, max_features=3, n_estimators=150; total time=   0.4s\n",
      "[CV 1/5] END ...max_depth=8, max_features=4, n_estimators=50; total time=   0.1s\n",
      "[CV 2/5] END ...max_depth=8, max_features=4, n_estimators=50; total time=   0.1s\n",
      "[CV 3/5] END ...max_depth=8, max_features=4, n_estimators=50; total time=   0.1s\n",
      "[CV 4/5] END ...max_depth=8, max_features=4, n_estimators=50; total time=   0.1s\n",
      "[CV 5/5] END ...max_depth=8, max_features=4, n_estimators=50; total time=   0.1s\n",
      "[CV 1/5] END ..max_depth=8, max_features=4, n_estimators=100; total time=   0.2s\n",
      "[CV 2/5] END ..max_depth=8, max_features=4, n_estimators=100; total time=   0.3s\n",
      "[CV 3/5] END ..max_depth=8, max_features=4, n_estimators=100; total time=   0.2s\n",
      "[CV 4/5] END ..max_depth=8, max_features=4, n_estimators=100; total time=   0.2s\n",
      "[CV 5/5] END ..max_depth=8, max_features=4, n_estimators=100; total time=   0.2s\n",
      "[CV 1/5] END ..max_depth=8, max_features=4, n_estimators=150; total time=   0.4s\n",
      "[CV 2/5] END ..max_depth=8, max_features=4, n_estimators=150; total time=   0.4s\n",
      "[CV 3/5] END ..max_depth=8, max_features=4, n_estimators=150; total time=   0.5s\n",
      "[CV 4/5] END ..max_depth=8, max_features=4, n_estimators=150; total time=   0.5s\n",
      "[CV 5/5] END ..max_depth=8, max_features=4, n_estimators=150; total time=   0.4s\n",
      "[CV 1/5] END ...max_depth=8, max_features=5, n_estimators=50; total time=   0.1s\n",
      "[CV 2/5] END ...max_depth=8, max_features=5, n_estimators=50; total time=   0.1s\n",
      "[CV 3/5] END ...max_depth=8, max_features=5, n_estimators=50; total time=   0.1s\n",
      "[CV 4/5] END ...max_depth=8, max_features=5, n_estimators=50; total time=   0.1s\n",
      "[CV 5/5] END ...max_depth=8, max_features=5, n_estimators=50; total time=   0.1s\n",
      "[CV 1/5] END ..max_depth=8, max_features=5, n_estimators=100; total time=   0.2s\n",
      "[CV 2/5] END ..max_depth=8, max_features=5, n_estimators=100; total time=   0.2s\n",
      "[CV 3/5] END ..max_depth=8, max_features=5, n_estimators=100; total time=   0.3s\n",
      "[CV 4/5] END ..max_depth=8, max_features=5, n_estimators=100; total time=   0.2s\n",
      "[CV 5/5] END ..max_depth=8, max_features=5, n_estimators=100; total time=   0.3s\n",
      "[CV 1/5] END ..max_depth=8, max_features=5, n_estimators=150; total time=   0.4s\n",
      "[CV 2/5] END ..max_depth=8, max_features=5, n_estimators=150; total time=   0.4s\n",
      "[CV 3/5] END ..max_depth=8, max_features=5, n_estimators=150; total time=   0.4s\n",
      "[CV 4/5] END ..max_depth=8, max_features=5, n_estimators=150; total time=   0.6s\n",
      "[CV 5/5] END ..max_depth=8, max_features=5, n_estimators=150; total time=   0.5s\n",
      "[CV 1/5] END ...max_depth=8, max_features=6, n_estimators=50; total time=   0.1s\n",
      "[CV 2/5] END ...max_depth=8, max_features=6, n_estimators=50; total time=   0.1s\n"
     ]
    },
    {
     "name": "stdout",
     "output_type": "stream",
     "text": [
      "[CV 3/5] END ...max_depth=8, max_features=6, n_estimators=50; total time=   0.1s\n",
      "[CV 4/5] END ...max_depth=8, max_features=6, n_estimators=50; total time=   0.1s\n",
      "[CV 5/5] END ...max_depth=8, max_features=6, n_estimators=50; total time=   0.1s\n",
      "[CV 1/5] END ..max_depth=8, max_features=6, n_estimators=100; total time=   0.3s\n",
      "[CV 2/5] END ..max_depth=8, max_features=6, n_estimators=100; total time=   0.3s\n",
      "[CV 3/5] END ..max_depth=8, max_features=6, n_estimators=100; total time=   0.3s\n",
      "[CV 4/5] END ..max_depth=8, max_features=6, n_estimators=100; total time=   0.3s\n",
      "[CV 5/5] END ..max_depth=8, max_features=6, n_estimators=100; total time=   0.3s\n",
      "[CV 1/5] END ..max_depth=8, max_features=6, n_estimators=150; total time=   0.5s\n",
      "[CV 2/5] END ..max_depth=8, max_features=6, n_estimators=150; total time=   0.4s\n",
      "[CV 3/5] END ..max_depth=8, max_features=6, n_estimators=150; total time=   0.5s\n",
      "[CV 4/5] END ..max_depth=8, max_features=6, n_estimators=150; total time=   0.6s\n",
      "[CV 5/5] END ..max_depth=8, max_features=6, n_estimators=150; total time=   0.6s\n",
      "[CV 1/5] END ...max_depth=8, max_features=7, n_estimators=50; total time=   0.1s\n",
      "[CV 2/5] END ...max_depth=8, max_features=7, n_estimators=50; total time=   0.1s\n",
      "[CV 3/5] END ...max_depth=8, max_features=7, n_estimators=50; total time=   0.1s\n",
      "[CV 4/5] END ...max_depth=8, max_features=7, n_estimators=50; total time=   0.1s\n",
      "[CV 5/5] END ...max_depth=8, max_features=7, n_estimators=50; total time=   0.1s\n",
      "[CV 1/5] END ..max_depth=8, max_features=7, n_estimators=100; total time=   0.3s\n",
      "[CV 2/5] END ..max_depth=8, max_features=7, n_estimators=100; total time=   0.3s\n",
      "[CV 3/5] END ..max_depth=8, max_features=7, n_estimators=100; total time=   0.3s\n",
      "[CV 4/5] END ..max_depth=8, max_features=7, n_estimators=100; total time=   0.3s\n",
      "[CV 5/5] END ..max_depth=8, max_features=7, n_estimators=100; total time=   0.3s\n",
      "[CV 1/5] END ..max_depth=8, max_features=7, n_estimators=150; total time=   0.5s\n",
      "[CV 2/5] END ..max_depth=8, max_features=7, n_estimators=150; total time=   0.6s\n",
      "[CV 3/5] END ..max_depth=8, max_features=7, n_estimators=150; total time=   0.6s\n",
      "[CV 4/5] END ..max_depth=8, max_features=7, n_estimators=150; total time=   0.5s\n",
      "[CV 5/5] END ..max_depth=8, max_features=7, n_estimators=150; total time=   0.5s\n",
      "[CV 1/5] END ...max_depth=8, max_features=8, n_estimators=50; total time=   0.1s\n",
      "[CV 2/5] END ...max_depth=8, max_features=8, n_estimators=50; total time=   0.1s\n",
      "[CV 3/5] END ...max_depth=8, max_features=8, n_estimators=50; total time=   0.1s\n",
      "[CV 4/5] END ...max_depth=8, max_features=8, n_estimators=50; total time=   0.1s\n",
      "[CV 5/5] END ...max_depth=8, max_features=8, n_estimators=50; total time=   0.1s\n",
      "[CV 1/5] END ..max_depth=8, max_features=8, n_estimators=100; total time=   0.3s\n",
      "[CV 2/5] END ..max_depth=8, max_features=8, n_estimators=100; total time=   0.3s\n",
      "[CV 3/5] END ..max_depth=8, max_features=8, n_estimators=100; total time=   0.3s\n",
      "[CV 4/5] END ..max_depth=8, max_features=8, n_estimators=100; total time=   0.3s\n",
      "[CV 5/5] END ..max_depth=8, max_features=8, n_estimators=100; total time=   0.3s\n",
      "[CV 1/5] END ..max_depth=8, max_features=8, n_estimators=150; total time=   0.6s\n",
      "[CV 2/5] END ..max_depth=8, max_features=8, n_estimators=150; total time=   0.6s\n",
      "[CV 3/5] END ..max_depth=8, max_features=8, n_estimators=150; total time=   0.5s\n",
      "[CV 4/5] END ..max_depth=8, max_features=8, n_estimators=150; total time=   0.5s\n",
      "[CV 5/5] END ..max_depth=8, max_features=8, n_estimators=150; total time=   0.5s\n",
      "[CV 1/5] END ...max_depth=8, max_features=9, n_estimators=50; total time=   0.1s\n",
      "[CV 2/5] END ...max_depth=8, max_features=9, n_estimators=50; total time=   0.1s\n",
      "[CV 3/5] END ...max_depth=8, max_features=9, n_estimators=50; total time=   0.1s\n",
      "[CV 4/5] END ...max_depth=8, max_features=9, n_estimators=50; total time=   0.1s\n",
      "[CV 5/5] END ...max_depth=8, max_features=9, n_estimators=50; total time=   0.1s\n",
      "[CV 1/5] END ..max_depth=8, max_features=9, n_estimators=100; total time=   0.3s\n",
      "[CV 2/5] END ..max_depth=8, max_features=9, n_estimators=100; total time=   0.3s\n",
      "[CV 3/5] END ..max_depth=8, max_features=9, n_estimators=100; total time=   0.3s\n",
      "[CV 4/5] END ..max_depth=8, max_features=9, n_estimators=100; total time=   0.5s\n",
      "[CV 5/5] END ..max_depth=8, max_features=9, n_estimators=100; total time=   0.4s\n",
      "[CV 1/5] END ..max_depth=8, max_features=9, n_estimators=150; total time=   0.6s\n",
      "[CV 2/5] END ..max_depth=8, max_features=9, n_estimators=150; total time=   0.5s\n",
      "[CV 3/5] END ..max_depth=8, max_features=9, n_estimators=150; total time=   0.5s\n",
      "[CV 4/5] END ..max_depth=8, max_features=9, n_estimators=150; total time=   0.5s\n",
      "[CV 5/5] END ..max_depth=8, max_features=9, n_estimators=150; total time=   0.5s\n",
      "[CV 1/5] END ..max_depth=8, max_features=10, n_estimators=50; total time=   0.1s\n",
      "[CV 2/5] END ..max_depth=8, max_features=10, n_estimators=50; total time=   0.1s\n",
      "[CV 3/5] END ..max_depth=8, max_features=10, n_estimators=50; total time=   0.1s\n",
      "[CV 4/5] END ..max_depth=8, max_features=10, n_estimators=50; total time=   0.1s\n",
      "[CV 5/5] END ..max_depth=8, max_features=10, n_estimators=50; total time=   0.1s\n",
      "[CV 1/5] END .max_depth=8, max_features=10, n_estimators=100; total time=   0.4s\n",
      "[CV 2/5] END .max_depth=8, max_features=10, n_estimators=100; total time=   0.6s\n",
      "[CV 3/5] END .max_depth=8, max_features=10, n_estimators=100; total time=   0.4s\n",
      "[CV 4/5] END .max_depth=8, max_features=10, n_estimators=100; total time=   0.4s\n",
      "[CV 5/5] END .max_depth=8, max_features=10, n_estimators=100; total time=   0.4s\n",
      "[CV 1/5] END .max_depth=8, max_features=10, n_estimators=150; total time=   0.6s\n",
      "[CV 2/5] END .max_depth=8, max_features=10, n_estimators=150; total time=   0.6s\n",
      "[CV 3/5] END .max_depth=8, max_features=10, n_estimators=150; total time=   0.6s\n",
      "[CV 4/5] END .max_depth=8, max_features=10, n_estimators=150; total time=   0.5s\n",
      "[CV 5/5] END .max_depth=8, max_features=10, n_estimators=150; total time=   0.6s\n",
      "[CV 1/5] END ..max_depth=8, max_features=11, n_estimators=50; total time=   0.2s\n",
      "[CV 2/5] END ..max_depth=8, max_features=11, n_estimators=50; total time=   0.2s\n",
      "[CV 3/5] END ..max_depth=8, max_features=11, n_estimators=50; total time=   0.2s\n",
      "[CV 4/5] END ..max_depth=8, max_features=11, n_estimators=50; total time=   0.2s\n",
      "[CV 5/5] END ..max_depth=8, max_features=11, n_estimators=50; total time=   0.1s\n",
      "[CV 1/5] END .max_depth=8, max_features=11, n_estimators=100; total time=   0.4s\n",
      "[CV 2/5] END .max_depth=8, max_features=11, n_estimators=100; total time=   0.5s\n",
      "[CV 3/5] END .max_depth=8, max_features=11, n_estimators=100; total time=   0.4s\n",
      "[CV 4/5] END .max_depth=8, max_features=11, n_estimators=100; total time=   0.4s\n",
      "[CV 5/5] END .max_depth=8, max_features=11, n_estimators=100; total time=   0.4s\n",
      "[CV 1/5] END .max_depth=8, max_features=11, n_estimators=150; total time=   0.6s\n",
      "[CV 2/5] END .max_depth=8, max_features=11, n_estimators=150; total time=   0.6s\n",
      "[CV 3/5] END .max_depth=8, max_features=11, n_estimators=150; total time=   0.9s\n",
      "[CV 4/5] END .max_depth=8, max_features=11, n_estimators=150; total time=   0.7s\n",
      "[CV 5/5] END .max_depth=8, max_features=11, n_estimators=150; total time=   0.6s\n"
     ]
    },
    {
     "data": {
      "text/plain": [
       "GridSearchCV(cv=5, estimator=RandomForestClassifier(),\n",
       "             param_grid={'max_depth': [3, 5, 8], 'max_features': range(1, 12),\n",
       "                         'n_estimators': [50, 100, 150]},\n",
       "             verbose=3)"
      ]
     },
     "execution_count": 183,
     "metadata": {},
     "output_type": "execute_result"
    }
   ],
   "source": [
    "m_gs3.fit(x_train, y_train)"
   ]
  },
  {
   "cell_type": "code",
   "execution_count": 185,
   "metadata": {
    "collapsed": true
   },
   "outputs": [
    {
     "ename": "TypeError",
     "evalue": "'str' object is not callable",
     "output_type": "error",
     "traceback": [
      "\u001b[1;31m---------------------------------------------------------------------------\u001b[0m",
      "\u001b[1;31mTypeError\u001b[0m                                 Traceback (most recent call last)",
      "\u001b[1;32m<ipython-input-185-fe1fdb1ae9cb>\u001b[0m in \u001b[0;36m<module>\u001b[1;34m\u001b[0m\n\u001b[1;32m----> 1\u001b[1;33m \u001b[0mplot_feature_importance\u001b[0m\u001b[1;33m(\u001b[0m\u001b[0mm_gs3\u001b[0m\u001b[1;33m.\u001b[0m\u001b[0mbest_estimator_\u001b[0m\u001b[1;33m.\u001b[0m\u001b[0mfeature_importances_\u001b[0m\u001b[1;33m,\u001b[0m \u001b[0mx_train\u001b[0m\u001b[1;33m.\u001b[0m\u001b[0mcolumns\u001b[0m\u001b[1;33m)\u001b[0m\u001b[1;33m\u001b[0m\u001b[1;33m\u001b[0m\u001b[0m\n\u001b[0m",
      "\u001b[1;32m<ipython-input-160-edff3596396b>\u001b[0m in \u001b[0;36mplot_feature_importance\u001b[1;34m(importance, names)\u001b[0m\n\u001b[0;32m     12\u001b[0m     \u001b[0msns\u001b[0m\u001b[1;33m.\u001b[0m\u001b[0mbarplot\u001b[0m\u001b[1;33m(\u001b[0m\u001b[0mx\u001b[0m\u001b[1;33m=\u001b[0m\u001b[1;34m'feature_importance'\u001b[0m\u001b[1;33m,\u001b[0m \u001b[0my\u001b[0m\u001b[1;33m=\u001b[0m\u001b[1;34m'feature_names'\u001b[0m\u001b[1;33m,\u001b[0m \u001b[0mdata\u001b[0m \u001b[1;33m=\u001b[0m \u001b[0mfi_df\u001b[0m\u001b[1;33m)\u001b[0m\u001b[1;33m\u001b[0m\u001b[1;33m\u001b[0m\u001b[0m\n\u001b[0;32m     13\u001b[0m \u001b[1;33m\u001b[0m\u001b[0m\n\u001b[1;32m---> 14\u001b[1;33m     \u001b[0mplt\u001b[0m\u001b[1;33m.\u001b[0m\u001b[0mxlabel\u001b[0m\u001b[1;33m(\u001b[0m\u001b[1;34m'FEATURE IMPORTANCE'\u001b[0m\u001b[1;33m)\u001b[0m\u001b[1;33m\u001b[0m\u001b[1;33m\u001b[0m\u001b[0m\n\u001b[0m\u001b[0;32m     15\u001b[0m     \u001b[0mplt\u001b[0m\u001b[1;33m.\u001b[0m\u001b[0mylabel\u001b[0m\u001b[1;33m(\u001b[0m\u001b[1;34m'FEATURE NAMES'\u001b[0m\u001b[1;33m)\u001b[0m\u001b[1;33m\u001b[0m\u001b[1;33m\u001b[0m\u001b[0m\n\u001b[0;32m     16\u001b[0m     \u001b[0mplt\u001b[0m\u001b[1;33m.\u001b[0m\u001b[0mgrid\u001b[0m\u001b[1;33m(\u001b[0m\u001b[1;33m)\u001b[0m\u001b[1;33m\u001b[0m\u001b[1;33m\u001b[0m\u001b[0m\n",
      "\u001b[1;31mTypeError\u001b[0m: 'str' object is not callable"
     ]
    },
    {
     "data": {
      "image/png": "[encoded data removed]",
      "text/plain": [
       "<Figure size 720x576 with 1 Axes>"
      ]
     },
     "metadata": {
      "needs_background": "light"
     },
     "output_type": "display_data"
    }
   ],
   "source": [
    "plot_feature_importance(m_gs3.best_estimator_.feature_importances_, x_train.columns)"
   ]
  },
  {
   "cell_type": "code",
   "execution_count": 203,
   "metadata": {},
   "outputs": [
    {
     "data": {
      "text/plain": [
       "0.9633246527777779"
      ]
     },
     "execution_count": 203,
     "metadata": {},
     "output_type": "execute_result"
    }
   ],
   "source": [
    "m_gs.best_score_"
   ]
  },
  {
   "cell_type": "code",
   "execution_count": 187,
   "metadata": {},
   "outputs": [],
   "source": [
    "cols = ['url_path_len', \"html_num_tags('a')\", \"html_num_tags('form')\",\"url_hostname_len\",\"url_num_dots\",\"url_num_hyphens_dom\",\"url_query_len\",\n",
    "       \"url_domain_len\", \"url_num_dots\", \"html_num_tags('script')\", \"html_num_tags('div')\"]"
   ]
  },
  {
   "cell_type": "code",
   "execution_count": 188,
   "metadata": {},
   "outputs": [],
   "source": [
    "x.drop(columns=cols, axis=1, inplace=True)"
   ]
  },
  {
   "cell_type": "code",
   "execution_count": 202,
   "metadata": {},
   "outputs": [
    {
     "data": {
      "text/plain": [
       "0.9492750974658868"
      ]
     },
     "execution_count": 202,
     "metadata": {},
     "output_type": "execute_result"
    }
   ],
   "source": [
    "m_gs3.best_score_"
   ]
  },
  {
   "cell_type": "markdown",
   "metadata": {},
   "source": [
    "---"
   ]
  },
  {
   "cell_type": "markdown",
   "metadata": {},
   "source": [
    "## <b>Q7. train_test_split을 이용하여, train_x, test_x, train_y, test_y로 데이터 분리\n",
    "\n",
    "### 모델을 학습하는 데에는 Train 데이터만 사용해야 합니다.\n",
    "### 학습에 사용하지 않은 데이터를 통해 모델을 평가해야 합니다.\n",
    "### 그러기 위해 Train / Test 데이터로 분리합니다.\n"
   ]
  },
  {
   "cell_type": "markdown",
   "metadata": {},
   "source": [
    "**<span style=\"color:green\">[참고링크] 공식 Document**</span>\n",
    "\n",
    "* train_test_split(https://scikit-learn.org/stable/modules/generated/sklearn.model_selection.train_test_split.html)"
   ]
  },
  {
   "cell_type": "markdown",
   "metadata": {},
   "source": [
    "### <span style=\"color:darkred\">[문제5] train_test_split 함수를 사용하여 train 데이터와 test 데이터를 분리하고 각각의 shape를 확인하세요<span>"
   ]
  },
  {
   "cell_type": "code",
   "execution_count": 189,
   "metadata": {},
   "outputs": [],
   "source": [
    "x_train, y_val, y_train, y_val = train_test_split(x, y, test_size=0.3)"
   ]
  },
  {
   "cell_type": "code",
   "execution_count": 190,
   "metadata": {},
   "outputs": [],
   "source": [
    "scaler = MinMaxScaler()"
   ]
  },
  {
   "cell_type": "code",
   "execution_count": 191,
   "metadata": {},
   "outputs": [],
   "source": [
    "x_train_s = scaler.fit_transform(x_train)\n",
    "x_val_s = scaler.fit(x_val)"
   ]
  },
  {
   "cell_type": "markdown",
   "metadata": {},
   "source": [
    "## SVM"
   ]
  },
  {
   "cell_type": "code",
   "execution_count": 192,
   "metadata": {},
   "outputs": [],
   "source": [
    "params = {\n",
    "    'C' : np.linspace(0.01, 100, 50),\n",
    "    'gamma': [0.001, 0.01, 0.1, 1]\n",
    "}"
   ]
  },
  {
   "cell_type": "code",
   "execution_count": 193,
   "metadata": {},
   "outputs": [],
   "source": [
    "from sklearn.svm import SVC\n",
    "model2 = SVC()"
   ]
  },
  {
   "cell_type": "code",
   "execution_count": 194,
   "metadata": {},
   "outputs": [],
   "source": [
    "m_gs2 = GridSearchCV(model2, params, cv=5, verbose=3)"
   ]
  },
  {
   "cell_type": "code",
   "execution_count": 195,
   "metadata": {
    "scrolled": true
   },
   "outputs": [
    {
     "name": "stdout",
     "output_type": "stream",
     "text": [
      "Fitting 5 folds for each of 200 candidates, totalling 1000 fits\n",
      "[CV 1/5] END ............................C=0.01, gamma=0.001; total time=   0.3s\n",
      "[CV 2/5] END ............................C=0.01, gamma=0.001; total time=   0.3s\n",
      "[CV 3/5] END ............................C=0.01, gamma=0.001; total time=   0.3s\n",
      "[CV 4/5] END ............................C=0.01, gamma=0.001; total time=   0.3s\n",
      "[CV 5/5] END ............................C=0.01, gamma=0.001; total time=   0.3s\n",
      "[CV 1/5] END .............................C=0.01, gamma=0.01; total time=   0.3s\n",
      "[CV 2/5] END .............................C=0.01, gamma=0.01; total time=   0.3s\n",
      "[CV 3/5] END .............................C=0.01, gamma=0.01; total time=   0.3s\n",
      "[CV 4/5] END .............................C=0.01, gamma=0.01; total time=   0.3s\n",
      "[CV 5/5] END .............................C=0.01, gamma=0.01; total time=   0.3s\n",
      "[CV 1/5] END ..............................C=0.01, gamma=0.1; total time=   0.3s\n",
      "[CV 2/5] END ..............................C=0.01, gamma=0.1; total time=   0.4s\n",
      "[CV 3/5] END ..............................C=0.01, gamma=0.1; total time=   0.4s\n",
      "[CV 4/5] END ..............................C=0.01, gamma=0.1; total time=   0.3s\n",
      "[CV 5/5] END ..............................C=0.01, gamma=0.1; total time=   0.3s\n",
      "[CV 1/5] END ................................C=0.01, gamma=1; total time=   0.3s\n",
      "[CV 2/5] END ................................C=0.01, gamma=1; total time=   0.3s\n",
      "[CV 3/5] END ................................C=0.01, gamma=1; total time=   0.3s\n",
      "[CV 4/5] END ................................C=0.01, gamma=1; total time=   0.4s\n",
      "[CV 5/5] END ................................C=0.01, gamma=1; total time=   0.3s\n",
      "[CV 1/5] END ...............C=2.050612244897959, gamma=0.001; total time=   0.3s\n",
      "[CV 2/5] END ...............C=2.050612244897959, gamma=0.001; total time=   0.3s\n",
      "[CV 3/5] END ...............C=2.050612244897959, gamma=0.001; total time=   0.3s\n",
      "[CV 4/5] END ...............C=2.050612244897959, gamma=0.001; total time=   0.3s\n",
      "[CV 5/5] END ...............C=2.050612244897959, gamma=0.001; total time=   0.4s\n",
      "[CV 1/5] END ................C=2.050612244897959, gamma=0.01; total time=   0.4s\n",
      "[CV 2/5] END ................C=2.050612244897959, gamma=0.01; total time=   0.3s\n",
      "[CV 3/5] END ................C=2.050612244897959, gamma=0.01; total time=   0.3s\n",
      "[CV 4/5] END ................C=2.050612244897959, gamma=0.01; total time=   0.3s\n",
      "[CV 5/5] END ................C=2.050612244897959, gamma=0.01; total time=   0.3s\n",
      "[CV 1/5] END .................C=2.050612244897959, gamma=0.1; total time=   0.3s\n",
      "[CV 2/5] END .................C=2.050612244897959, gamma=0.1; total time=   0.3s\n",
      "[CV 3/5] END .................C=2.050612244897959, gamma=0.1; total time=   0.3s\n",
      "[CV 4/5] END .................C=2.050612244897959, gamma=0.1; total time=   0.3s\n",
      "[CV 5/5] END .................C=2.050612244897959, gamma=0.1; total time=   0.3s\n",
      "[CV 1/5] END ...................C=2.050612244897959, gamma=1; total time=   0.3s\n",
      "[CV 2/5] END ...................C=2.050612244897959, gamma=1; total time=   0.3s\n",
      "[CV 3/5] END ...................C=2.050612244897959, gamma=1; total time=   0.3s\n",
      "[CV 4/5] END ...................C=2.050612244897959, gamma=1; total time=   0.4s\n",
      "[CV 5/5] END ...................C=2.050612244897959, gamma=1; total time=   0.3s\n",
      "[CV 1/5] END ...............C=4.091224489795918, gamma=0.001; total time=   0.3s\n",
      "[CV 2/5] END ...............C=4.091224489795918, gamma=0.001; total time=   0.3s\n",
      "[CV 3/5] END ...............C=4.091224489795918, gamma=0.001; total time=   0.3s\n",
      "[CV 4/5] END ...............C=4.091224489795918, gamma=0.001; total time=   0.3s\n",
      "[CV 5/5] END ...............C=4.091224489795918, gamma=0.001; total time=   0.3s\n",
      "[CV 1/5] END ................C=4.091224489795918, gamma=0.01; total time=   0.3s\n",
      "[CV 2/5] END ................C=4.091224489795918, gamma=0.01; total time=   0.3s\n",
      "[CV 3/5] END ................C=4.091224489795918, gamma=0.01; total time=   0.3s\n",
      "[CV 4/5] END ................C=4.091224489795918, gamma=0.01; total time=   0.3s\n",
      "[CV 5/5] END ................C=4.091224489795918, gamma=0.01; total time=   0.3s\n",
      "[CV 1/5] END .................C=4.091224489795918, gamma=0.1; total time=   0.3s\n",
      "[CV 2/5] END .................C=4.091224489795918, gamma=0.1; total time=   0.3s\n",
      "[CV 3/5] END .................C=4.091224489795918, gamma=0.1; total time=   0.4s\n",
      "[CV 4/5] END .................C=4.091224489795918, gamma=0.1; total time=   0.3s\n",
      "[CV 5/5] END .................C=4.091224489795918, gamma=0.1; total time=   0.3s\n",
      "[CV 1/5] END ...................C=4.091224489795918, gamma=1; total time=   0.3s\n",
      "[CV 2/5] END ...................C=4.091224489795918, gamma=1; total time=   0.3s\n",
      "[CV 3/5] END ...................C=4.091224489795918, gamma=1; total time=   0.3s\n",
      "[CV 4/5] END ...................C=4.091224489795918, gamma=1; total time=   0.3s\n",
      "[CV 5/5] END ...................C=4.091224489795918, gamma=1; total time=   0.3s\n",
      "[CV 1/5] END ...............C=6.131836734693877, gamma=0.001; total time=   0.3s\n",
      "[CV 2/5] END ...............C=6.131836734693877, gamma=0.001; total time=   0.3s\n",
      "[CV 3/5] END ...............C=6.131836734693877, gamma=0.001; total time=   0.3s\n",
      "[CV 4/5] END ...............C=6.131836734693877, gamma=0.001; total time=   0.3s\n",
      "[CV 5/5] END ...............C=6.131836734693877, gamma=0.001; total time=   0.3s\n",
      "[CV 1/5] END ................C=6.131836734693877, gamma=0.01; total time=   0.3s\n",
      "[CV 2/5] END ................C=6.131836734693877, gamma=0.01; total time=   0.4s\n",
      "[CV 3/5] END ................C=6.131836734693877, gamma=0.01; total time=   0.3s\n",
      "[CV 4/5] END ................C=6.131836734693877, gamma=0.01; total time=   0.3s\n",
      "[CV 5/5] END ................C=6.131836734693877, gamma=0.01; total time=   0.3s\n",
      "[CV 1/5] END .................C=6.131836734693877, gamma=0.1; total time=   0.3s\n",
      "[CV 2/5] END .................C=6.131836734693877, gamma=0.1; total time=   0.3s\n",
      "[CV 3/5] END .................C=6.131836734693877, gamma=0.1; total time=   0.3s\n",
      "[CV 4/5] END .................C=6.131836734693877, gamma=0.1; total time=   0.3s\n",
      "[CV 5/5] END .................C=6.131836734693877, gamma=0.1; total time=   0.3s\n",
      "[CV 1/5] END ...................C=6.131836734693877, gamma=1; total time=   0.3s\n",
      "[CV 2/5] END ...................C=6.131836734693877, gamma=1; total time=   0.3s\n",
      "[CV 3/5] END ...................C=6.131836734693877, gamma=1; total time=   0.3s\n",
      "[CV 4/5] END ...................C=6.131836734693877, gamma=1; total time=   0.3s\n",
      "[CV 5/5] END ...................C=6.131836734693877, gamma=1; total time=   0.3s\n",
      "[CV 1/5] END ...............C=8.172448979591836, gamma=0.001; total time=   0.5s\n",
      "[CV 2/5] END ...............C=8.172448979591836, gamma=0.001; total time=   0.4s\n",
      "[CV 3/5] END ...............C=8.172448979591836, gamma=0.001; total time=   0.3s\n",
      "[CV 4/5] END ...............C=8.172448979591836, gamma=0.001; total time=   0.3s\n",
      "[CV 5/5] END ...............C=8.172448979591836, gamma=0.001; total time=   0.3s\n",
      "[CV 1/5] END ................C=8.172448979591836, gamma=0.01; total time=   0.3s\n",
      "[CV 2/5] END ................C=8.172448979591836, gamma=0.01; total time=   0.3s\n",
      "[CV 3/5] END ................C=8.172448979591836, gamma=0.01; total time=   0.4s\n",
      "[CV 4/5] END ................C=8.172448979591836, gamma=0.01; total time=   0.3s\n",
      "[CV 5/5] END ................C=8.172448979591836, gamma=0.01; total time=   0.3s\n",
      "[CV 1/5] END .................C=8.172448979591836, gamma=0.1; total time=   0.3s\n",
      "[CV 2/5] END .................C=8.172448979591836, gamma=0.1; total time=   0.3s\n",
      "[CV 3/5] END .................C=8.172448979591836, gamma=0.1; total time=   0.5s\n",
      "[CV 4/5] END .................C=8.172448979591836, gamma=0.1; total time=   0.5s\n",
      "[CV 5/5] END .................C=8.172448979591836, gamma=0.1; total time=   0.3s\n",
      "[CV 1/5] END ...................C=8.172448979591836, gamma=1; total time=   0.3s\n",
      "[CV 2/5] END ...................C=8.172448979591836, gamma=1; total time=   0.3s\n",
      "[CV 3/5] END ...................C=8.172448979591836, gamma=1; total time=   0.3s\n",
      "[CV 4/5] END ...................C=8.172448979591836, gamma=1; total time=   0.3s\n",
      "[CV 5/5] END ...................C=8.172448979591836, gamma=1; total time=   0.3s\n",
      "[CV 1/5] END ..............C=10.213061224489795, gamma=0.001; total time=   0.4s\n"
     ]
    },
    {
     "name": "stdout",
     "output_type": "stream",
     "text": [
      "[CV 2/5] END ..............C=10.213061224489795, gamma=0.001; total time=   0.5s\n",
      "[CV 3/5] END ..............C=10.213061224489795, gamma=0.001; total time=   0.4s\n",
      "[CV 4/5] END ..............C=10.213061224489795, gamma=0.001; total time=   0.4s\n",
      "[CV 5/5] END ..............C=10.213061224489795, gamma=0.001; total time=   0.3s\n",
      "[CV 1/5] END ...............C=10.213061224489795, gamma=0.01; total time=   0.4s\n",
      "[CV 2/5] END ...............C=10.213061224489795, gamma=0.01; total time=   0.4s\n",
      "[CV 3/5] END ...............C=10.213061224489795, gamma=0.01; total time=   0.4s\n",
      "[CV 4/5] END ...............C=10.213061224489795, gamma=0.01; total time=   0.3s\n",
      "[CV 5/5] END ...............C=10.213061224489795, gamma=0.01; total time=   0.3s\n",
      "[CV 1/5] END ................C=10.213061224489795, gamma=0.1; total time=   0.3s\n",
      "[CV 2/5] END ................C=10.213061224489795, gamma=0.1; total time=   0.3s\n",
      "[CV 3/5] END ................C=10.213061224489795, gamma=0.1; total time=   0.3s\n",
      "[CV 4/5] END ................C=10.213061224489795, gamma=0.1; total time=   0.3s\n",
      "[CV 5/5] END ................C=10.213061224489795, gamma=0.1; total time=   0.4s\n",
      "[CV 1/5] END ..................C=10.213061224489795, gamma=1; total time=   0.3s\n",
      "[CV 2/5] END ..................C=10.213061224489795, gamma=1; total time=   0.3s\n",
      "[CV 3/5] END ..................C=10.213061224489795, gamma=1; total time=   0.3s\n",
      "[CV 4/5] END ..................C=10.213061224489795, gamma=1; total time=   0.4s\n",
      "[CV 5/5] END ..................C=10.213061224489795, gamma=1; total time=   0.4s\n",
      "[CV 1/5] END ..............C=12.253673469387754, gamma=0.001; total time=   0.4s\n",
      "[CV 2/5] END ..............C=12.253673469387754, gamma=0.001; total time=   0.3s\n",
      "[CV 3/5] END ..............C=12.253673469387754, gamma=0.001; total time=   0.3s\n",
      "[CV 4/5] END ..............C=12.253673469387754, gamma=0.001; total time=   0.3s\n",
      "[CV 5/5] END ..............C=12.253673469387754, gamma=0.001; total time=   0.4s\n",
      "[CV 1/5] END ...............C=12.253673469387754, gamma=0.01; total time=   0.3s\n",
      "[CV 2/5] END ...............C=12.253673469387754, gamma=0.01; total time=   0.3s\n",
      "[CV 3/5] END ...............C=12.253673469387754, gamma=0.01; total time=   0.3s\n",
      "[CV 4/5] END ...............C=12.253673469387754, gamma=0.01; total time=   0.3s\n",
      "[CV 5/5] END ...............C=12.253673469387754, gamma=0.01; total time=   0.3s\n",
      "[CV 1/5] END ................C=12.253673469387754, gamma=0.1; total time=   0.3s\n",
      "[CV 2/5] END ................C=12.253673469387754, gamma=0.1; total time=   0.3s\n",
      "[CV 3/5] END ................C=12.253673469387754, gamma=0.1; total time=   0.3s\n",
      "[CV 4/5] END ................C=12.253673469387754, gamma=0.1; total time=   0.3s\n",
      "[CV 5/5] END ................C=12.253673469387754, gamma=0.1; total time=   0.4s\n",
      "[CV 1/5] END ..................C=12.253673469387754, gamma=1; total time=   0.3s\n",
      "[CV 2/5] END ..................C=12.253673469387754, gamma=1; total time=   0.3s\n",
      "[CV 3/5] END ..................C=12.253673469387754, gamma=1; total time=   0.3s\n",
      "[CV 4/5] END ..................C=12.253673469387754, gamma=1; total time=   0.3s\n",
      "[CV 5/5] END ..................C=12.253673469387754, gamma=1; total time=   0.3s\n",
      "[CV 1/5] END ..............C=14.294285714285714, gamma=0.001; total time=   0.4s\n",
      "[CV 2/5] END ..............C=14.294285714285714, gamma=0.001; total time=   0.3s\n",
      "[CV 3/5] END ..............C=14.294285714285714, gamma=0.001; total time=   0.3s\n",
      "[CV 4/5] END ..............C=14.294285714285714, gamma=0.001; total time=   0.3s\n",
      "[CV 5/5] END ..............C=14.294285714285714, gamma=0.001; total time=   0.4s\n",
      "[CV 1/5] END ...............C=14.294285714285714, gamma=0.01; total time=   0.5s\n",
      "[CV 2/5] END ...............C=14.294285714285714, gamma=0.01; total time=   0.3s\n",
      "[CV 3/5] END ...............C=14.294285714285714, gamma=0.01; total time=   0.3s\n",
      "[CV 4/5] END ...............C=14.294285714285714, gamma=0.01; total time=   0.3s\n",
      "[CV 5/5] END ...............C=14.294285714285714, gamma=0.01; total time=   0.3s\n",
      "[CV 1/5] END ................C=14.294285714285714, gamma=0.1; total time=   0.3s\n",
      "[CV 2/5] END ................C=14.294285714285714, gamma=0.1; total time=   0.3s\n",
      "[CV 3/5] END ................C=14.294285714285714, gamma=0.1; total time=   0.3s\n",
      "[CV 4/5] END ................C=14.294285714285714, gamma=0.1; total time=   0.3s\n",
      "[CV 5/5] END ................C=14.294285714285714, gamma=0.1; total time=   0.3s\n",
      "[CV 1/5] END ..................C=14.294285714285714, gamma=1; total time=   0.3s\n",
      "[CV 2/5] END ..................C=14.294285714285714, gamma=1; total time=   0.3s\n",
      "[CV 3/5] END ..................C=14.294285714285714, gamma=1; total time=   0.3s\n",
      "[CV 4/5] END ..................C=14.294285714285714, gamma=1; total time=   0.3s\n",
      "[CV 5/5] END ..................C=14.294285714285714, gamma=1; total time=   0.7s\n",
      "[CV 1/5] END ..............C=16.334897959183674, gamma=0.001; total time=   0.5s\n",
      "[CV 2/5] END ..............C=16.334897959183674, gamma=0.001; total time=   0.4s\n",
      "[CV 3/5] END ..............C=16.334897959183674, gamma=0.001; total time=   0.4s\n",
      "[CV 4/5] END ..............C=16.334897959183674, gamma=0.001; total time=   0.4s\n",
      "[CV 5/5] END ..............C=16.334897959183674, gamma=0.001; total time=   0.4s\n",
      "[CV 1/5] END ...............C=16.334897959183674, gamma=0.01; total time=   0.3s\n",
      "[CV 2/5] END ...............C=16.334897959183674, gamma=0.01; total time=   0.3s\n",
      "[CV 3/5] END ...............C=16.334897959183674, gamma=0.01; total time=   0.3s\n",
      "[CV 4/5] END ...............C=16.334897959183674, gamma=0.01; total time=   0.3s\n",
      "[CV 5/5] END ...............C=16.334897959183674, gamma=0.01; total time=   0.3s\n",
      "[CV 1/5] END ................C=16.334897959183674, gamma=0.1; total time=   0.4s\n",
      "[CV 2/5] END ................C=16.334897959183674, gamma=0.1; total time=   0.4s\n",
      "[CV 3/5] END ................C=16.334897959183674, gamma=0.1; total time=   0.3s\n",
      "[CV 4/5] END ................C=16.334897959183674, gamma=0.1; total time=   0.3s\n",
      "[CV 5/5] END ................C=16.334897959183674, gamma=0.1; total time=   0.3s\n",
      "[CV 1/5] END ..................C=16.334897959183674, gamma=1; total time=   0.3s\n",
      "[CV 2/5] END ..................C=16.334897959183674, gamma=1; total time=   0.5s\n",
      "[CV 3/5] END ..................C=16.334897959183674, gamma=1; total time=   0.4s\n",
      "[CV 4/5] END ..................C=16.334897959183674, gamma=1; total time=   0.3s\n",
      "[CV 5/5] END ..................C=16.334897959183674, gamma=1; total time=   0.3s\n",
      "[CV 1/5] END ..............C=18.375510204081632, gamma=0.001; total time=   0.4s\n",
      "[CV 2/5] END ..............C=18.375510204081632, gamma=0.001; total time=   0.4s\n",
      "[CV 3/5] END ..............C=18.375510204081632, gamma=0.001; total time=   0.5s\n",
      "[CV 4/5] END ..............C=18.375510204081632, gamma=0.001; total time=   0.7s\n",
      "[CV 5/5] END ..............C=18.375510204081632, gamma=0.001; total time=   0.4s\n",
      "[CV 1/5] END ...............C=18.375510204081632, gamma=0.01; total time=   0.3s\n",
      "[CV 2/5] END ...............C=18.375510204081632, gamma=0.01; total time=   0.3s\n",
      "[CV 3/5] END ...............C=18.375510204081632, gamma=0.01; total time=   0.3s\n",
      "[CV 4/5] END ...............C=18.375510204081632, gamma=0.01; total time=   0.3s\n",
      "[CV 5/5] END ...............C=18.375510204081632, gamma=0.01; total time=   0.3s\n",
      "[CV 1/5] END ................C=18.375510204081632, gamma=0.1; total time=   0.3s\n",
      "[CV 2/5] END ................C=18.375510204081632, gamma=0.1; total time=   0.3s\n",
      "[CV 3/5] END ................C=18.375510204081632, gamma=0.1; total time=   0.3s\n",
      "[CV 4/5] END ................C=18.375510204081632, gamma=0.1; total time=   0.3s\n",
      "[CV 5/5] END ................C=18.375510204081632, gamma=0.1; total time=   0.5s\n",
      "[CV 1/5] END ..................C=18.375510204081632, gamma=1; total time=   0.8s\n",
      "[CV 2/5] END ..................C=18.375510204081632, gamma=1; total time=   0.4s\n",
      "[CV 3/5] END ..................C=18.375510204081632, gamma=1; total time=   0.3s\n",
      "[CV 4/5] END ..................C=18.375510204081632, gamma=1; total time=   0.3s\n",
      "[CV 5/5] END ..................C=18.375510204081632, gamma=1; total time=   0.3s\n",
      "[CV 1/5] END ..............C=20.416122448979593, gamma=0.001; total time=   0.4s\n",
      "[CV 2/5] END ..............C=20.416122448979593, gamma=0.001; total time=   0.4s\n",
      "[CV 3/5] END ..............C=20.416122448979593, gamma=0.001; total time=   0.4s\n"
     ]
    },
    {
     "name": "stdout",
     "output_type": "stream",
     "text": [
      "[CV 4/5] END ..............C=20.416122448979593, gamma=0.001; total time=   0.3s\n",
      "[CV 5/5] END ..............C=20.416122448979593, gamma=0.001; total time=   0.3s\n",
      "[CV 1/5] END ...............C=20.416122448979593, gamma=0.01; total time=   0.3s\n",
      "[CV 2/5] END ...............C=20.416122448979593, gamma=0.01; total time=   0.3s\n",
      "[CV 3/5] END ...............C=20.416122448979593, gamma=0.01; total time=   0.4s\n",
      "[CV 4/5] END ...............C=20.416122448979593, gamma=0.01; total time=   0.4s\n",
      "[CV 5/5] END ...............C=20.416122448979593, gamma=0.01; total time=   0.3s\n",
      "[CV 1/5] END ................C=20.416122448979593, gamma=0.1; total time=   0.3s\n",
      "[CV 2/5] END ................C=20.416122448979593, gamma=0.1; total time=   0.3s\n",
      "[CV 3/5] END ................C=20.416122448979593, gamma=0.1; total time=   0.3s\n",
      "[CV 4/5] END ................C=20.416122448979593, gamma=0.1; total time=   0.3s\n",
      "[CV 5/5] END ................C=20.416122448979593, gamma=0.1; total time=   0.3s\n",
      "[CV 1/5] END ..................C=20.416122448979593, gamma=1; total time=   0.3s\n",
      "[CV 2/5] END ..................C=20.416122448979593, gamma=1; total time=   0.3s\n",
      "[CV 3/5] END ..................C=20.416122448979593, gamma=1; total time=   0.3s\n",
      "[CV 4/5] END ..................C=20.416122448979593, gamma=1; total time=   0.3s\n",
      "[CV 5/5] END ..................C=20.416122448979593, gamma=1; total time=   0.3s\n",
      "[CV 1/5] END ..............C=22.456734693877554, gamma=0.001; total time=   0.5s\n",
      "[CV 2/5] END ..............C=22.456734693877554, gamma=0.001; total time=   0.5s\n",
      "[CV 3/5] END ..............C=22.456734693877554, gamma=0.001; total time=   0.4s\n",
      "[CV 4/5] END ..............C=22.456734693877554, gamma=0.001; total time=   0.3s\n",
      "[CV 5/5] END ..............C=22.456734693877554, gamma=0.001; total time=   0.3s\n",
      "[CV 1/5] END ...............C=22.456734693877554, gamma=0.01; total time=   0.3s\n",
      "[CV 2/5] END ...............C=22.456734693877554, gamma=0.01; total time=   0.3s\n",
      "[CV 3/5] END ...............C=22.456734693877554, gamma=0.01; total time=   0.3s\n",
      "[CV 4/5] END ...............C=22.456734693877554, gamma=0.01; total time=   0.3s\n",
      "[CV 5/5] END ...............C=22.456734693877554, gamma=0.01; total time=   0.3s\n",
      "[CV 1/5] END ................C=22.456734693877554, gamma=0.1; total time=   0.3s\n",
      "[CV 2/5] END ................C=22.456734693877554, gamma=0.1; total time=   0.3s\n",
      "[CV 3/5] END ................C=22.456734693877554, gamma=0.1; total time=   0.3s\n",
      "[CV 4/5] END ................C=22.456734693877554, gamma=0.1; total time=   0.3s\n",
      "[CV 5/5] END ................C=22.456734693877554, gamma=0.1; total time=   0.4s\n",
      "[CV 1/5] END ..................C=22.456734693877554, gamma=1; total time=   0.3s\n",
      "[CV 2/5] END ..................C=22.456734693877554, gamma=1; total time=   0.3s\n",
      "[CV 3/5] END ..................C=22.456734693877554, gamma=1; total time=   0.3s\n",
      "[CV 4/5] END ..................C=22.456734693877554, gamma=1; total time=   0.3s\n",
      "[CV 5/5] END ..................C=22.456734693877554, gamma=1; total time=   0.3s\n",
      "[CV 1/5] END ...............C=24.49734693877551, gamma=0.001; total time=   0.3s\n",
      "[CV 2/5] END ...............C=24.49734693877551, gamma=0.001; total time=   0.3s\n",
      "[CV 3/5] END ...............C=24.49734693877551, gamma=0.001; total time=   0.3s\n",
      "[CV 4/5] END ...............C=24.49734693877551, gamma=0.001; total time=   0.3s\n",
      "[CV 5/5] END ...............C=24.49734693877551, gamma=0.001; total time=   0.3s\n",
      "[CV 1/5] END ................C=24.49734693877551, gamma=0.01; total time=   0.3s\n",
      "[CV 2/5] END ................C=24.49734693877551, gamma=0.01; total time=   0.3s\n",
      "[CV 3/5] END ................C=24.49734693877551, gamma=0.01; total time=   0.3s\n",
      "[CV 4/5] END ................C=24.49734693877551, gamma=0.01; total time=   0.4s\n",
      "[CV 5/5] END ................C=24.49734693877551, gamma=0.01; total time=   0.3s\n",
      "[CV 1/5] END .................C=24.49734693877551, gamma=0.1; total time=   0.3s\n",
      "[CV 2/5] END .................C=24.49734693877551, gamma=0.1; total time=   0.3s\n",
      "[CV 3/5] END .................C=24.49734693877551, gamma=0.1; total time=   0.3s\n",
      "[CV 4/5] END .................C=24.49734693877551, gamma=0.1; total time=   0.3s\n",
      "[CV 5/5] END .................C=24.49734693877551, gamma=0.1; total time=   0.3s\n",
      "[CV 1/5] END ...................C=24.49734693877551, gamma=1; total time=   0.3s\n",
      "[CV 2/5] END ...................C=24.49734693877551, gamma=1; total time=   0.3s\n",
      "[CV 3/5] END ...................C=24.49734693877551, gamma=1; total time=   0.3s\n",
      "[CV 4/5] END ...................C=24.49734693877551, gamma=1; total time=   0.3s\n",
      "[CV 5/5] END ...................C=24.49734693877551, gamma=1; total time=   0.3s\n",
      "[CV 1/5] END ...............C=26.53795918367347, gamma=0.001; total time=   0.3s\n",
      "[CV 2/5] END ...............C=26.53795918367347, gamma=0.001; total time=   0.3s\n",
      "[CV 3/5] END ...............C=26.53795918367347, gamma=0.001; total time=   0.4s\n",
      "[CV 4/5] END ...............C=26.53795918367347, gamma=0.001; total time=   0.4s\n",
      "[CV 5/5] END ...............C=26.53795918367347, gamma=0.001; total time=   0.3s\n",
      "[CV 1/5] END ................C=26.53795918367347, gamma=0.01; total time=   0.3s\n",
      "[CV 2/5] END ................C=26.53795918367347, gamma=0.01; total time=   0.3s\n",
      "[CV 3/5] END ................C=26.53795918367347, gamma=0.01; total time=   0.3s\n",
      "[CV 4/5] END ................C=26.53795918367347, gamma=0.01; total time=   0.3s\n",
      "[CV 5/5] END ................C=26.53795918367347, gamma=0.01; total time=   0.3s\n",
      "[CV 1/5] END .................C=26.53795918367347, gamma=0.1; total time=   0.3s\n",
      "[CV 2/5] END .................C=26.53795918367347, gamma=0.1; total time=   0.3s\n",
      "[CV 3/5] END .................C=26.53795918367347, gamma=0.1; total time=   0.3s\n",
      "[CV 4/5] END .................C=26.53795918367347, gamma=0.1; total time=   0.3s\n",
      "[CV 5/5] END .................C=26.53795918367347, gamma=0.1; total time=   0.3s\n",
      "[CV 1/5] END ...................C=26.53795918367347, gamma=1; total time=   0.3s\n",
      "[CV 2/5] END ...................C=26.53795918367347, gamma=1; total time=   0.4s\n",
      "[CV 3/5] END ...................C=26.53795918367347, gamma=1; total time=   0.3s\n",
      "[CV 4/5] END ...................C=26.53795918367347, gamma=1; total time=   0.3s\n",
      "[CV 5/5] END ...................C=26.53795918367347, gamma=1; total time=   0.3s\n",
      "[CV 1/5] END ...............C=28.57857142857143, gamma=0.001; total time=   0.3s\n",
      "[CV 2/5] END ...............C=28.57857142857143, gamma=0.001; total time=   0.4s\n",
      "[CV 3/5] END ...............C=28.57857142857143, gamma=0.001; total time=   0.3s\n",
      "[CV 4/5] END ...............C=28.57857142857143, gamma=0.001; total time=   0.3s\n",
      "[CV 5/5] END ...............C=28.57857142857143, gamma=0.001; total time=   0.3s\n",
      "[CV 1/5] END ................C=28.57857142857143, gamma=0.01; total time=   0.3s\n",
      "[CV 2/5] END ................C=28.57857142857143, gamma=0.01; total time=   0.3s\n",
      "[CV 3/5] END ................C=28.57857142857143, gamma=0.01; total time=   0.3s\n",
      "[CV 4/5] END ................C=28.57857142857143, gamma=0.01; total time=   0.3s\n",
      "[CV 5/5] END ................C=28.57857142857143, gamma=0.01; total time=   0.4s\n",
      "[CV 1/5] END .................C=28.57857142857143, gamma=0.1; total time=   0.3s\n",
      "[CV 2/5] END .................C=28.57857142857143, gamma=0.1; total time=   0.3s\n",
      "[CV 3/5] END .................C=28.57857142857143, gamma=0.1; total time=   0.3s\n",
      "[CV 4/5] END .................C=28.57857142857143, gamma=0.1; total time=   0.3s\n",
      "[CV 5/5] END .................C=28.57857142857143, gamma=0.1; total time=   0.3s\n",
      "[CV 1/5] END ...................C=28.57857142857143, gamma=1; total time=   0.3s\n",
      "[CV 2/5] END ...................C=28.57857142857143, gamma=1; total time=   0.3s\n",
      "[CV 3/5] END ...................C=28.57857142857143, gamma=1; total time=   0.3s\n",
      "[CV 4/5] END ...................C=28.57857142857143, gamma=1; total time=   0.3s\n",
      "[CV 5/5] END ...................C=28.57857142857143, gamma=1; total time=   0.3s\n",
      "[CV 1/5] END ...............C=30.61918367346939, gamma=0.001; total time=   0.3s\n",
      "[CV 2/5] END ...............C=30.61918367346939, gamma=0.001; total time=   0.4s\n",
      "[CV 3/5] END ...............C=30.61918367346939, gamma=0.001; total time=   0.3s\n",
      "[CV 4/5] END ...............C=30.61918367346939, gamma=0.001; total time=   0.5s\n",
      "[CV 5/5] END ...............C=30.61918367346939, gamma=0.001; total time=   0.4s\n"
     ]
    },
    {
     "name": "stdout",
     "output_type": "stream",
     "text": [
      "[CV 1/5] END ................C=30.61918367346939, gamma=0.01; total time=   0.3s\n",
      "[CV 2/5] END ................C=30.61918367346939, gamma=0.01; total time=   0.3s\n",
      "[CV 3/5] END ................C=30.61918367346939, gamma=0.01; total time=   0.3s\n",
      "[CV 4/5] END ................C=30.61918367346939, gamma=0.01; total time=   0.3s\n",
      "[CV 5/5] END ................C=30.61918367346939, gamma=0.01; total time=   0.3s\n",
      "[CV 1/5] END .................C=30.61918367346939, gamma=0.1; total time=   0.3s\n",
      "[CV 2/5] END .................C=30.61918367346939, gamma=0.1; total time=   0.3s\n",
      "[CV 3/5] END .................C=30.61918367346939, gamma=0.1; total time=   0.3s\n",
      "[CV 4/5] END .................C=30.61918367346939, gamma=0.1; total time=   0.3s\n",
      "[CV 5/5] END .................C=30.61918367346939, gamma=0.1; total time=   0.3s\n",
      "[CV 1/5] END ...................C=30.61918367346939, gamma=1; total time=   0.3s\n",
      "[CV 2/5] END ...................C=30.61918367346939, gamma=1; total time=   0.4s\n",
      "[CV 3/5] END ...................C=30.61918367346939, gamma=1; total time=   0.3s\n",
      "[CV 4/5] END ...................C=30.61918367346939, gamma=1; total time=   0.3s\n",
      "[CV 5/5] END ...................C=30.61918367346939, gamma=1; total time=   0.3s\n",
      "[CV 1/5] END ..............C=32.659795918367344, gamma=0.001; total time=   0.3s\n",
      "[CV 2/5] END ..............C=32.659795918367344, gamma=0.001; total time=   0.3s\n",
      "[CV 3/5] END ..............C=32.659795918367344, gamma=0.001; total time=   0.3s\n",
      "[CV 4/5] END ..............C=32.659795918367344, gamma=0.001; total time=   0.3s\n",
      "[CV 5/5] END ..............C=32.659795918367344, gamma=0.001; total time=   0.4s\n",
      "[CV 1/5] END ...............C=32.659795918367344, gamma=0.01; total time=   0.3s\n",
      "[CV 2/5] END ...............C=32.659795918367344, gamma=0.01; total time=   0.3s\n",
      "[CV 3/5] END ...............C=32.659795918367344, gamma=0.01; total time=   0.3s\n",
      "[CV 4/5] END ...............C=32.659795918367344, gamma=0.01; total time=   0.3s\n",
      "[CV 5/5] END ...............C=32.659795918367344, gamma=0.01; total time=   0.3s\n",
      "[CV 1/5] END ................C=32.659795918367344, gamma=0.1; total time=   0.4s\n",
      "[CV 2/5] END ................C=32.659795918367344, gamma=0.1; total time=   0.3s\n",
      "[CV 3/5] END ................C=32.659795918367344, gamma=0.1; total time=   0.3s\n",
      "[CV 4/5] END ................C=32.659795918367344, gamma=0.1; total time=   0.3s\n",
      "[CV 5/5] END ................C=32.659795918367344, gamma=0.1; total time=   0.3s\n",
      "[CV 1/5] END ..................C=32.659795918367344, gamma=1; total time=   0.3s\n",
      "[CV 2/5] END ..................C=32.659795918367344, gamma=1; total time=   0.3s\n",
      "[CV 3/5] END ..................C=32.659795918367344, gamma=1; total time=   0.3s\n",
      "[CV 4/5] END ..................C=32.659795918367344, gamma=1; total time=   0.3s\n",
      "[CV 5/5] END ..................C=32.659795918367344, gamma=1; total time=   0.3s\n",
      "[CV 1/5] END ................C=34.7004081632653, gamma=0.001; total time=   0.3s\n",
      "[CV 2/5] END ................C=34.7004081632653, gamma=0.001; total time=   0.3s\n",
      "[CV 3/5] END ................C=34.7004081632653, gamma=0.001; total time=   0.3s\n",
      "[CV 4/5] END ................C=34.7004081632653, gamma=0.001; total time=   0.4s\n",
      "[CV 5/5] END ................C=34.7004081632653, gamma=0.001; total time=   0.4s\n",
      "[CV 1/5] END .................C=34.7004081632653, gamma=0.01; total time=   0.3s\n",
      "[CV 2/5] END .................C=34.7004081632653, gamma=0.01; total time=   0.3s\n",
      "[CV 3/5] END .................C=34.7004081632653, gamma=0.01; total time=   0.3s\n",
      "[CV 4/5] END .................C=34.7004081632653, gamma=0.01; total time=   0.3s\n",
      "[CV 5/5] END .................C=34.7004081632653, gamma=0.01; total time=   0.3s\n",
      "[CV 1/5] END ..................C=34.7004081632653, gamma=0.1; total time=   0.3s\n",
      "[CV 2/5] END ..................C=34.7004081632653, gamma=0.1; total time=   0.3s\n",
      "[CV 3/5] END ..................C=34.7004081632653, gamma=0.1; total time=   0.3s\n",
      "[CV 4/5] END ..................C=34.7004081632653, gamma=0.1; total time=   0.3s\n",
      "[CV 5/5] END ..................C=34.7004081632653, gamma=0.1; total time=   0.3s\n",
      "[CV 1/5] END ....................C=34.7004081632653, gamma=1; total time=   0.3s\n",
      "[CV 2/5] END ....................C=34.7004081632653, gamma=1; total time=   0.3s\n",
      "[CV 3/5] END ....................C=34.7004081632653, gamma=1; total time=   0.3s\n",
      "[CV 4/5] END ....................C=34.7004081632653, gamma=1; total time=   0.3s\n",
      "[CV 5/5] END ....................C=34.7004081632653, gamma=1; total time=   0.3s\n",
      "[CV 1/5] END ...............C=36.74102040816326, gamma=0.001; total time=   0.4s\n",
      "[CV 2/5] END ...............C=36.74102040816326, gamma=0.001; total time=   0.3s\n",
      "[CV 3/5] END ...............C=36.74102040816326, gamma=0.001; total time=   0.3s\n",
      "[CV 4/5] END ...............C=36.74102040816326, gamma=0.001; total time=   0.3s\n",
      "[CV 5/5] END ...............C=36.74102040816326, gamma=0.001; total time=   0.3s\n",
      "[CV 1/5] END ................C=36.74102040816326, gamma=0.01; total time=   0.3s\n",
      "[CV 2/5] END ................C=36.74102040816326, gamma=0.01; total time=   0.3s\n",
      "[CV 3/5] END ................C=36.74102040816326, gamma=0.01; total time=   0.3s\n",
      "[CV 4/5] END ................C=36.74102040816326, gamma=0.01; total time=   0.3s\n",
      "[CV 5/5] END ................C=36.74102040816326, gamma=0.01; total time=   0.3s\n",
      "[CV 1/5] END .................C=36.74102040816326, gamma=0.1; total time=   0.3s\n",
      "[CV 2/5] END .................C=36.74102040816326, gamma=0.1; total time=   0.3s\n",
      "[CV 3/5] END .................C=36.74102040816326, gamma=0.1; total time=   0.3s\n",
      "[CV 4/5] END .................C=36.74102040816326, gamma=0.1; total time=   0.3s\n",
      "[CV 5/5] END .................C=36.74102040816326, gamma=0.1; total time=   0.3s\n",
      "[CV 1/5] END ...................C=36.74102040816326, gamma=1; total time=   0.3s\n",
      "[CV 2/5] END ...................C=36.74102040816326, gamma=1; total time=   0.3s\n",
      "[CV 3/5] END ...................C=36.74102040816326, gamma=1; total time=   0.3s\n",
      "[CV 4/5] END ...................C=36.74102040816326, gamma=1; total time=   0.3s\n",
      "[CV 5/5] END ...................C=36.74102040816326, gamma=1; total time=   0.3s\n",
      "[CV 1/5] END ...............C=38.78163265306122, gamma=0.001; total time=   0.3s\n",
      "[CV 2/5] END ...............C=38.78163265306122, gamma=0.001; total time=   0.3s\n",
      "[CV 3/5] END ...............C=38.78163265306122, gamma=0.001; total time=   0.3s\n",
      "[CV 4/5] END ...............C=38.78163265306122, gamma=0.001; total time=   0.4s\n",
      "[CV 5/5] END ...............C=38.78163265306122, gamma=0.001; total time=   0.4s\n",
      "[CV 1/5] END ................C=38.78163265306122, gamma=0.01; total time=   0.3s\n",
      "[CV 2/5] END ................C=38.78163265306122, gamma=0.01; total time=   0.3s\n",
      "[CV 3/5] END ................C=38.78163265306122, gamma=0.01; total time=   0.3s\n",
      "[CV 4/5] END ................C=38.78163265306122, gamma=0.01; total time=   0.3s\n",
      "[CV 5/5] END ................C=38.78163265306122, gamma=0.01; total time=   0.3s\n",
      "[CV 1/5] END .................C=38.78163265306122, gamma=0.1; total time=   0.3s\n",
      "[CV 2/5] END .................C=38.78163265306122, gamma=0.1; total time=   0.3s\n",
      "[CV 3/5] END .................C=38.78163265306122, gamma=0.1; total time=   0.3s\n",
      "[CV 4/5] END .................C=38.78163265306122, gamma=0.1; total time=   0.3s\n",
      "[CV 5/5] END .................C=38.78163265306122, gamma=0.1; total time=   0.3s\n",
      "[CV 1/5] END ...................C=38.78163265306122, gamma=1; total time=   0.3s\n",
      "[CV 2/5] END ...................C=38.78163265306122, gamma=1; total time=   0.3s\n",
      "[CV 3/5] END ...................C=38.78163265306122, gamma=1; total time=   0.3s\n",
      "[CV 4/5] END ...................C=38.78163265306122, gamma=1; total time=   0.4s\n",
      "[CV 5/5] END ...................C=38.78163265306122, gamma=1; total time=   0.3s\n",
      "[CV 1/5] END ...............C=40.82224489795918, gamma=0.001; total time=   0.3s\n",
      "[CV 2/5] END ...............C=40.82224489795918, gamma=0.001; total time=   0.3s\n",
      "[CV 3/5] END ...............C=40.82224489795918, gamma=0.001; total time=   0.3s\n",
      "[CV 4/5] END ...............C=40.82224489795918, gamma=0.001; total time=   0.3s\n",
      "[CV 5/5] END ...............C=40.82224489795918, gamma=0.001; total time=   0.3s\n",
      "[CV 1/5] END ................C=40.82224489795918, gamma=0.01; total time=   0.3s\n",
      "[CV 2/5] END ................C=40.82224489795918, gamma=0.01; total time=   0.3s\n"
     ]
    },
    {
     "name": "stdout",
     "output_type": "stream",
     "text": [
      "[CV 3/5] END ................C=40.82224489795918, gamma=0.01; total time=   0.3s\n",
      "[CV 4/5] END ................C=40.82224489795918, gamma=0.01; total time=   0.3s\n",
      "[CV 5/5] END ................C=40.82224489795918, gamma=0.01; total time=   0.3s\n",
      "[CV 1/5] END .................C=40.82224489795918, gamma=0.1; total time=   0.3s\n",
      "[CV 2/5] END .................C=40.82224489795918, gamma=0.1; total time=   0.3s\n",
      "[CV 3/5] END .................C=40.82224489795918, gamma=0.1; total time=   0.3s\n",
      "[CV 4/5] END .................C=40.82224489795918, gamma=0.1; total time=   0.3s\n",
      "[CV 5/5] END .................C=40.82224489795918, gamma=0.1; total time=   0.3s\n",
      "[CV 1/5] END ...................C=40.82224489795918, gamma=1; total time=   0.3s\n",
      "[CV 2/5] END ...................C=40.82224489795918, gamma=1; total time=   0.3s\n",
      "[CV 3/5] END ...................C=40.82224489795918, gamma=1; total time=   0.3s\n",
      "[CV 4/5] END ...................C=40.82224489795918, gamma=1; total time=   0.3s\n",
      "[CV 5/5] END ...................C=40.82224489795918, gamma=1; total time=   0.3s\n",
      "[CV 1/5] END ...............C=42.86285714285714, gamma=0.001; total time=   0.3s\n",
      "[CV 2/5] END ...............C=42.86285714285714, gamma=0.001; total time=   0.3s\n",
      "[CV 3/5] END ...............C=42.86285714285714, gamma=0.001; total time=   0.3s\n",
      "[CV 4/5] END ...............C=42.86285714285714, gamma=0.001; total time=   0.4s\n",
      "[CV 5/5] END ...............C=42.86285714285714, gamma=0.001; total time=   0.4s\n",
      "[CV 1/5] END ................C=42.86285714285714, gamma=0.01; total time=   0.3s\n",
      "[CV 2/5] END ................C=42.86285714285714, gamma=0.01; total time=   0.3s\n",
      "[CV 3/5] END ................C=42.86285714285714, gamma=0.01; total time=   0.3s\n",
      "[CV 4/5] END ................C=42.86285714285714, gamma=0.01; total time=   0.3s\n",
      "[CV 5/5] END ................C=42.86285714285714, gamma=0.01; total time=   0.3s\n",
      "[CV 1/5] END .................C=42.86285714285714, gamma=0.1; total time=   0.3s\n",
      "[CV 2/5] END .................C=42.86285714285714, gamma=0.1; total time=   0.3s\n",
      "[CV 3/5] END .................C=42.86285714285714, gamma=0.1; total time=   0.3s\n",
      "[CV 4/5] END .................C=42.86285714285714, gamma=0.1; total time=   0.3s\n",
      "[CV 5/5] END .................C=42.86285714285714, gamma=0.1; total time=   0.3s\n",
      "[CV 1/5] END ...................C=42.86285714285714, gamma=1; total time=   0.3s\n",
      "[CV 2/5] END ...................C=42.86285714285714, gamma=1; total time=   0.3s\n",
      "[CV 3/5] END ...................C=42.86285714285714, gamma=1; total time=   0.3s\n",
      "[CV 4/5] END ...................C=42.86285714285714, gamma=1; total time=   0.4s\n",
      "[CV 5/5] END ...................C=42.86285714285714, gamma=1; total time=   0.3s\n",
      "[CV 1/5] END ................C=44.9034693877551, gamma=0.001; total time=   0.4s\n",
      "[CV 2/5] END ................C=44.9034693877551, gamma=0.001; total time=   0.4s\n",
      "[CV 3/5] END ................C=44.9034693877551, gamma=0.001; total time=   0.4s\n",
      "[CV 4/5] END ................C=44.9034693877551, gamma=0.001; total time=   0.3s\n",
      "[CV 5/5] END ................C=44.9034693877551, gamma=0.001; total time=   0.3s\n",
      "[CV 1/5] END .................C=44.9034693877551, gamma=0.01; total time=   0.3s\n",
      "[CV 2/5] END .................C=44.9034693877551, gamma=0.01; total time=   0.3s\n",
      "[CV 3/5] END .................C=44.9034693877551, gamma=0.01; total time=   0.3s\n",
      "[CV 4/5] END .................C=44.9034693877551, gamma=0.01; total time=   0.3s\n",
      "[CV 5/5] END .................C=44.9034693877551, gamma=0.01; total time=   0.4s\n",
      "[CV 1/5] END ..................C=44.9034693877551, gamma=0.1; total time=   0.3s\n",
      "[CV 2/5] END ..................C=44.9034693877551, gamma=0.1; total time=   0.4s\n",
      "[CV 3/5] END ..................C=44.9034693877551, gamma=0.1; total time=   0.3s\n",
      "[CV 4/5] END ..................C=44.9034693877551, gamma=0.1; total time=   0.3s\n",
      "[CV 5/5] END ..................C=44.9034693877551, gamma=0.1; total time=   0.3s\n",
      "[CV 1/5] END ....................C=44.9034693877551, gamma=1; total time=   0.3s\n",
      "[CV 2/5] END ....................C=44.9034693877551, gamma=1; total time=   0.3s\n",
      "[CV 3/5] END ....................C=44.9034693877551, gamma=1; total time=   0.3s\n",
      "[CV 4/5] END ....................C=44.9034693877551, gamma=1; total time=   0.3s\n",
      "[CV 5/5] END ....................C=44.9034693877551, gamma=1; total time=   0.3s\n",
      "[CV 1/5] END ...............C=46.94408163265306, gamma=0.001; total time=   0.3s\n",
      "[CV 2/5] END ...............C=46.94408163265306, gamma=0.001; total time=   0.3s\n",
      "[CV 3/5] END ...............C=46.94408163265306, gamma=0.001; total time=   0.4s\n",
      "[CV 4/5] END ...............C=46.94408163265306, gamma=0.001; total time=   0.3s\n",
      "[CV 5/5] END ...............C=46.94408163265306, gamma=0.001; total time=   0.5s\n",
      "[CV 1/5] END ................C=46.94408163265306, gamma=0.01; total time=   0.4s\n",
      "[CV 2/5] END ................C=46.94408163265306, gamma=0.01; total time=   0.3s\n",
      "[CV 3/5] END ................C=46.94408163265306, gamma=0.01; total time=   0.3s\n",
      "[CV 4/5] END ................C=46.94408163265306, gamma=0.01; total time=   0.3s\n",
      "[CV 5/5] END ................C=46.94408163265306, gamma=0.01; total time=   0.3s\n",
      "[CV 1/5] END .................C=46.94408163265306, gamma=0.1; total time=   0.3s\n",
      "[CV 2/5] END .................C=46.94408163265306, gamma=0.1; total time=   0.3s\n",
      "[CV 3/5] END .................C=46.94408163265306, gamma=0.1; total time=   0.3s\n",
      "[CV 4/5] END .................C=46.94408163265306, gamma=0.1; total time=   0.3s\n",
      "[CV 5/5] END .................C=46.94408163265306, gamma=0.1; total time=   0.3s\n",
      "[CV 1/5] END ...................C=46.94408163265306, gamma=1; total time=   0.3s\n",
      "[CV 2/5] END ...................C=46.94408163265306, gamma=1; total time=   0.3s\n",
      "[CV 3/5] END ...................C=46.94408163265306, gamma=1; total time=   0.3s\n",
      "[CV 4/5] END ...................C=46.94408163265306, gamma=1; total time=   0.4s\n",
      "[CV 5/5] END ...................C=46.94408163265306, gamma=1; total time=   0.3s\n",
      "[CV 1/5] END ...............C=48.98469387755102, gamma=0.001; total time=   0.4s\n",
      "[CV 2/5] END ...............C=48.98469387755102, gamma=0.001; total time=   0.3s\n",
      "[CV 3/5] END ...............C=48.98469387755102, gamma=0.001; total time=   0.3s\n",
      "[CV 4/5] END ...............C=48.98469387755102, gamma=0.001; total time=   0.3s\n",
      "[CV 5/5] END ...............C=48.98469387755102, gamma=0.001; total time=   0.3s\n",
      "[CV 1/5] END ................C=48.98469387755102, gamma=0.01; total time=   0.3s\n",
      "[CV 2/5] END ................C=48.98469387755102, gamma=0.01; total time=   0.3s\n",
      "[CV 3/5] END ................C=48.98469387755102, gamma=0.01; total time=   0.3s\n",
      "[CV 4/5] END ................C=48.98469387755102, gamma=0.01; total time=   0.3s\n",
      "[CV 5/5] END ................C=48.98469387755102, gamma=0.01; total time=   0.3s\n",
      "[CV 1/5] END .................C=48.98469387755102, gamma=0.1; total time=   0.3s\n",
      "[CV 2/5] END .................C=48.98469387755102, gamma=0.1; total time=   0.3s\n",
      "[CV 3/5] END .................C=48.98469387755102, gamma=0.1; total time=   0.3s\n",
      "[CV 4/5] END .................C=48.98469387755102, gamma=0.1; total time=   0.3s\n",
      "[CV 5/5] END .................C=48.98469387755102, gamma=0.1; total time=   0.3s\n",
      "[CV 1/5] END ...................C=48.98469387755102, gamma=1; total time=   0.3s\n",
      "[CV 2/5] END ...................C=48.98469387755102, gamma=1; total time=   0.3s\n",
      "[CV 3/5] END ...................C=48.98469387755102, gamma=1; total time=   0.3s\n",
      "[CV 4/5] END ...................C=48.98469387755102, gamma=1; total time=   0.3s\n",
      "[CV 5/5] END ...................C=48.98469387755102, gamma=1; total time=   0.3s\n",
      "[CV 1/5] END ..............C=51.025306122448974, gamma=0.001; total time=   0.3s\n",
      "[CV 2/5] END ..............C=51.025306122448974, gamma=0.001; total time=   0.4s\n",
      "[CV 3/5] END ..............C=51.025306122448974, gamma=0.001; total time=   0.4s\n",
      "[CV 4/5] END ..............C=51.025306122448974, gamma=0.001; total time=   0.4s\n",
      "[CV 5/5] END ..............C=51.025306122448974, gamma=0.001; total time=   0.5s\n",
      "[CV 1/5] END ...............C=51.025306122448974, gamma=0.01; total time=   0.4s\n",
      "[CV 2/5] END ...............C=51.025306122448974, gamma=0.01; total time=   0.3s\n",
      "[CV 3/5] END ...............C=51.025306122448974, gamma=0.01; total time=   0.3s\n",
      "[CV 4/5] END ...............C=51.025306122448974, gamma=0.01; total time=   0.3s\n"
     ]
    },
    {
     "name": "stdout",
     "output_type": "stream",
     "text": [
      "[CV 5/5] END ...............C=51.025306122448974, gamma=0.01; total time=   0.3s\n",
      "[CV 1/5] END ................C=51.025306122448974, gamma=0.1; total time=   0.3s\n",
      "[CV 2/5] END ................C=51.025306122448974, gamma=0.1; total time=   0.3s\n",
      "[CV 3/5] END ................C=51.025306122448974, gamma=0.1; total time=   0.3s\n",
      "[CV 4/5] END ................C=51.025306122448974, gamma=0.1; total time=   0.3s\n",
      "[CV 5/5] END ................C=51.025306122448974, gamma=0.1; total time=   0.3s\n",
      "[CV 1/5] END ..................C=51.025306122448974, gamma=1; total time=   0.3s\n",
      "[CV 2/5] END ..................C=51.025306122448974, gamma=1; total time=   0.3s\n",
      "[CV 3/5] END ..................C=51.025306122448974, gamma=1; total time=   0.4s\n",
      "[CV 4/5] END ..................C=51.025306122448974, gamma=1; total time=   0.3s\n",
      "[CV 5/5] END ..................C=51.025306122448974, gamma=1; total time=   0.3s\n",
      "[CV 1/5] END ...............C=53.06591836734693, gamma=0.001; total time=   0.3s\n",
      "[CV 2/5] END ...............C=53.06591836734693, gamma=0.001; total time=   0.3s\n",
      "[CV 3/5] END ...............C=53.06591836734693, gamma=0.001; total time=   0.3s\n",
      "[CV 4/5] END ...............C=53.06591836734693, gamma=0.001; total time=   0.3s\n",
      "[CV 5/5] END ...............C=53.06591836734693, gamma=0.001; total time=   0.3s\n",
      "[CV 1/5] END ................C=53.06591836734693, gamma=0.01; total time=   0.3s\n",
      "[CV 2/5] END ................C=53.06591836734693, gamma=0.01; total time=   0.3s\n",
      "[CV 3/5] END ................C=53.06591836734693, gamma=0.01; total time=   0.3s\n",
      "[CV 4/5] END ................C=53.06591836734693, gamma=0.01; total time=   0.3s\n",
      "[CV 5/5] END ................C=53.06591836734693, gamma=0.01; total time=   0.4s\n",
      "[CV 1/5] END .................C=53.06591836734693, gamma=0.1; total time=   0.4s\n",
      "[CV 2/5] END .................C=53.06591836734693, gamma=0.1; total time=   0.4s\n",
      "[CV 3/5] END .................C=53.06591836734693, gamma=0.1; total time=   0.3s\n",
      "[CV 4/5] END .................C=53.06591836734693, gamma=0.1; total time=   0.3s\n",
      "[CV 5/5] END .................C=53.06591836734693, gamma=0.1; total time=   0.3s\n",
      "[CV 1/5] END ...................C=53.06591836734693, gamma=1; total time=   0.3s\n",
      "[CV 2/5] END ...................C=53.06591836734693, gamma=1; total time=   0.3s\n",
      "[CV 3/5] END ...................C=53.06591836734693, gamma=1; total time=   0.3s\n",
      "[CV 4/5] END ...................C=53.06591836734693, gamma=1; total time=   0.4s\n",
      "[CV 5/5] END ...................C=53.06591836734693, gamma=1; total time=   0.4s\n",
      "[CV 1/5] END ..............C=55.106530612244896, gamma=0.001; total time=   0.4s\n",
      "[CV 2/5] END ..............C=55.106530612244896, gamma=0.001; total time=   0.4s\n",
      "[CV 3/5] END ..............C=55.106530612244896, gamma=0.001; total time=   0.5s\n",
      "[CV 4/5] END ..............C=55.106530612244896, gamma=0.001; total time=   0.4s\n",
      "[CV 5/5] END ..............C=55.106530612244896, gamma=0.001; total time=   0.4s\n",
      "[CV 1/5] END ...............C=55.106530612244896, gamma=0.01; total time=   0.3s\n",
      "[CV 2/5] END ...............C=55.106530612244896, gamma=0.01; total time=   0.3s\n",
      "[CV 3/5] END ...............C=55.106530612244896, gamma=0.01; total time=   0.3s\n",
      "[CV 4/5] END ...............C=55.106530612244896, gamma=0.01; total time=   0.3s\n",
      "[CV 5/5] END ...............C=55.106530612244896, gamma=0.01; total time=   0.3s\n",
      "[CV 1/5] END ................C=55.106530612244896, gamma=0.1; total time=   0.3s\n",
      "[CV 2/5] END ................C=55.106530612244896, gamma=0.1; total time=   0.4s\n",
      "[CV 3/5] END ................C=55.106530612244896, gamma=0.1; total time=   0.3s\n",
      "[CV 4/5] END ................C=55.106530612244896, gamma=0.1; total time=   0.3s\n",
      "[CV 5/5] END ................C=55.106530612244896, gamma=0.1; total time=   0.3s\n",
      "[CV 1/5] END ..................C=55.106530612244896, gamma=1; total time=   0.3s\n",
      "[CV 2/5] END ..................C=55.106530612244896, gamma=1; total time=   0.3s\n",
      "[CV 3/5] END ..................C=55.106530612244896, gamma=1; total time=   0.3s\n",
      "[CV 4/5] END ..................C=55.106530612244896, gamma=1; total time=   0.3s\n",
      "[CV 5/5] END ..................C=55.106530612244896, gamma=1; total time=   0.3s\n",
      "[CV 1/5] END ...............C=57.14714285714285, gamma=0.001; total time=   0.3s\n",
      "[CV 2/5] END ...............C=57.14714285714285, gamma=0.001; total time=   0.3s\n",
      "[CV 3/5] END ...............C=57.14714285714285, gamma=0.001; total time=   0.3s\n",
      "[CV 4/5] END ...............C=57.14714285714285, gamma=0.001; total time=   0.3s\n",
      "[CV 5/5] END ...............C=57.14714285714285, gamma=0.001; total time=   0.4s\n",
      "[CV 1/5] END ................C=57.14714285714285, gamma=0.01; total time=   0.3s\n",
      "[CV 2/5] END ................C=57.14714285714285, gamma=0.01; total time=   0.3s\n",
      "[CV 3/5] END ................C=57.14714285714285, gamma=0.01; total time=   0.3s\n",
      "[CV 4/5] END ................C=57.14714285714285, gamma=0.01; total time=   0.4s\n",
      "[CV 5/5] END ................C=57.14714285714285, gamma=0.01; total time=   0.3s\n",
      "[CV 1/5] END .................C=57.14714285714285, gamma=0.1; total time=   0.3s\n",
      "[CV 2/5] END .................C=57.14714285714285, gamma=0.1; total time=   0.3s\n",
      "[CV 3/5] END .................C=57.14714285714285, gamma=0.1; total time=   0.3s\n",
      "[CV 4/5] END .................C=57.14714285714285, gamma=0.1; total time=   0.3s\n",
      "[CV 5/5] END .................C=57.14714285714285, gamma=0.1; total time=   0.3s\n",
      "[CV 1/5] END ...................C=57.14714285714285, gamma=1; total time=   0.3s\n",
      "[CV 2/5] END ...................C=57.14714285714285, gamma=1; total time=   0.3s\n",
      "[CV 3/5] END ...................C=57.14714285714285, gamma=1; total time=   0.3s\n",
      "[CV 4/5] END ...................C=57.14714285714285, gamma=1; total time=   0.3s\n",
      "[CV 5/5] END ...................C=57.14714285714285, gamma=1; total time=   0.3s\n",
      "[CV 1/5] END ...............C=59.18775510204081, gamma=0.001; total time=   0.4s\n",
      "[CV 2/5] END ...............C=59.18775510204081, gamma=0.001; total time=   0.4s\n",
      "[CV 3/5] END ...............C=59.18775510204081, gamma=0.001; total time=   0.4s\n",
      "[CV 4/5] END ...............C=59.18775510204081, gamma=0.001; total time=   0.4s\n",
      "[CV 5/5] END ...............C=59.18775510204081, gamma=0.001; total time=   0.4s\n",
      "[CV 1/5] END ................C=59.18775510204081, gamma=0.01; total time=   0.3s\n",
      "[CV 2/5] END ................C=59.18775510204081, gamma=0.01; total time=   0.4s\n",
      "[CV 3/5] END ................C=59.18775510204081, gamma=0.01; total time=   0.3s\n",
      "[CV 4/5] END ................C=59.18775510204081, gamma=0.01; total time=   0.3s\n",
      "[CV 5/5] END ................C=59.18775510204081, gamma=0.01; total time=   0.3s\n",
      "[CV 1/5] END .................C=59.18775510204081, gamma=0.1; total time=   0.4s\n",
      "[CV 2/5] END .................C=59.18775510204081, gamma=0.1; total time=   0.4s\n",
      "[CV 3/5] END .................C=59.18775510204081, gamma=0.1; total time=   0.3s\n",
      "[CV 4/5] END .................C=59.18775510204081, gamma=0.1; total time=   0.3s\n",
      "[CV 5/5] END .................C=59.18775510204081, gamma=0.1; total time=   0.4s\n",
      "[CV 1/5] END ...................C=59.18775510204081, gamma=1; total time=   0.4s\n",
      "[CV 2/5] END ...................C=59.18775510204081, gamma=1; total time=   0.3s\n",
      "[CV 3/5] END ...................C=59.18775510204081, gamma=1; total time=   0.3s\n",
      "[CV 4/5] END ...................C=59.18775510204081, gamma=1; total time=   0.3s\n",
      "[CV 5/5] END ...................C=59.18775510204081, gamma=1; total time=   0.3s\n",
      "[CV 1/5] END ..............C=61.228367346938775, gamma=0.001; total time=   0.4s\n",
      "[CV 2/5] END ..............C=61.228367346938775, gamma=0.001; total time=   0.4s\n",
      "[CV 3/5] END ..............C=61.228367346938775, gamma=0.001; total time=   0.4s\n",
      "[CV 4/5] END ..............C=61.228367346938775, gamma=0.001; total time=   0.4s\n",
      "[CV 5/5] END ..............C=61.228367346938775, gamma=0.001; total time=   0.4s\n",
      "[CV 1/5] END ...............C=61.228367346938775, gamma=0.01; total time=   0.4s\n",
      "[CV 2/5] END ...............C=61.228367346938775, gamma=0.01; total time=   0.6s\n",
      "[CV 3/5] END ...............C=61.228367346938775, gamma=0.01; total time=   0.5s\n",
      "[CV 4/5] END ...............C=61.228367346938775, gamma=0.01; total time=   0.5s\n",
      "[CV 5/5] END ...............C=61.228367346938775, gamma=0.01; total time=   0.4s\n",
      "[CV 1/5] END ................C=61.228367346938775, gamma=0.1; total time=   0.4s\n"
     ]
    },
    {
     "name": "stdout",
     "output_type": "stream",
     "text": [
      "[CV 2/5] END ................C=61.228367346938775, gamma=0.1; total time=   0.5s\n",
      "[CV 3/5] END ................C=61.228367346938775, gamma=0.1; total time=   0.4s\n",
      "[CV 4/5] END ................C=61.228367346938775, gamma=0.1; total time=   0.4s\n",
      "[CV 5/5] END ................C=61.228367346938775, gamma=0.1; total time=   0.3s\n",
      "[CV 1/5] END ..................C=61.228367346938775, gamma=1; total time=   0.3s\n",
      "[CV 2/5] END ..................C=61.228367346938775, gamma=1; total time=   0.3s\n",
      "[CV 3/5] END ..................C=61.228367346938775, gamma=1; total time=   0.4s\n",
      "[CV 4/5] END ..................C=61.228367346938775, gamma=1; total time=   0.4s\n",
      "[CV 5/5] END ..................C=61.228367346938775, gamma=1; total time=   0.4s\n",
      "[CV 1/5] END ...............C=63.26897959183673, gamma=0.001; total time=   0.4s\n",
      "[CV 2/5] END ...............C=63.26897959183673, gamma=0.001; total time=   0.4s\n",
      "[CV 3/5] END ...............C=63.26897959183673, gamma=0.001; total time=   0.4s\n",
      "[CV 4/5] END ...............C=63.26897959183673, gamma=0.001; total time=   0.4s\n",
      "[CV 5/5] END ...............C=63.26897959183673, gamma=0.001; total time=   0.4s\n",
      "[CV 1/5] END ................C=63.26897959183673, gamma=0.01; total time=   0.4s\n",
      "[CV 2/5] END ................C=63.26897959183673, gamma=0.01; total time=   0.3s\n",
      "[CV 3/5] END ................C=63.26897959183673, gamma=0.01; total time=   0.3s\n",
      "[CV 4/5] END ................C=63.26897959183673, gamma=0.01; total time=   0.3s\n",
      "[CV 5/5] END ................C=63.26897959183673, gamma=0.01; total time=   0.4s\n",
      "[CV 1/5] END .................C=63.26897959183673, gamma=0.1; total time=   0.3s\n",
      "[CV 2/5] END .................C=63.26897959183673, gamma=0.1; total time=   0.3s\n",
      "[CV 3/5] END .................C=63.26897959183673, gamma=0.1; total time=   0.3s\n",
      "[CV 4/5] END .................C=63.26897959183673, gamma=0.1; total time=   0.3s\n",
      "[CV 5/5] END .................C=63.26897959183673, gamma=0.1; total time=   0.3s\n",
      "[CV 1/5] END ...................C=63.26897959183673, gamma=1; total time=   0.3s\n",
      "[CV 2/5] END ...................C=63.26897959183673, gamma=1; total time=   0.3s\n",
      "[CV 3/5] END ...................C=63.26897959183673, gamma=1; total time=   0.3s\n",
      "[CV 4/5] END ...................C=63.26897959183673, gamma=1; total time=   0.3s\n",
      "[CV 5/5] END ...................C=63.26897959183673, gamma=1; total time=   0.3s\n",
      "[CV 1/5] END ................C=65.3095918367347, gamma=0.001; total time=   0.4s\n",
      "[CV 2/5] END ................C=65.3095918367347, gamma=0.001; total time=   0.4s\n",
      "[CV 3/5] END ................C=65.3095918367347, gamma=0.001; total time=   0.4s\n",
      "[CV 4/5] END ................C=65.3095918367347, gamma=0.001; total time=   0.4s\n",
      "[CV 5/5] END ................C=65.3095918367347, gamma=0.001; total time=   0.4s\n",
      "[CV 1/5] END .................C=65.3095918367347, gamma=0.01; total time=   0.3s\n",
      "[CV 2/5] END .................C=65.3095918367347, gamma=0.01; total time=   0.3s\n",
      "[CV 3/5] END .................C=65.3095918367347, gamma=0.01; total time=   0.3s\n",
      "[CV 4/5] END .................C=65.3095918367347, gamma=0.01; total time=   0.3s\n",
      "[CV 5/5] END .................C=65.3095918367347, gamma=0.01; total time=   0.4s\n",
      "[CV 1/5] END ..................C=65.3095918367347, gamma=0.1; total time=   0.3s\n",
      "[CV 2/5] END ..................C=65.3095918367347, gamma=0.1; total time=   0.3s\n",
      "[CV 3/5] END ..................C=65.3095918367347, gamma=0.1; total time=   0.3s\n",
      "[CV 4/5] END ..................C=65.3095918367347, gamma=0.1; total time=   0.3s\n",
      "[CV 5/5] END ..................C=65.3095918367347, gamma=0.1; total time=   0.5s\n",
      "[CV 1/5] END ....................C=65.3095918367347, gamma=1; total time=   0.4s\n",
      "[CV 2/5] END ....................C=65.3095918367347, gamma=1; total time=   0.3s\n",
      "[CV 3/5] END ....................C=65.3095918367347, gamma=1; total time=   0.3s\n",
      "[CV 4/5] END ....................C=65.3095918367347, gamma=1; total time=   0.3s\n",
      "[CV 5/5] END ....................C=65.3095918367347, gamma=1; total time=   0.3s\n",
      "[CV 1/5] END ...............C=67.35020408163265, gamma=0.001; total time=   0.4s\n",
      "[CV 2/5] END ...............C=67.35020408163265, gamma=0.001; total time=   0.4s\n",
      "[CV 3/5] END ...............C=67.35020408163265, gamma=0.001; total time=   0.4s\n",
      "[CV 4/5] END ...............C=67.35020408163265, gamma=0.001; total time=   0.4s\n",
      "[CV 5/5] END ...............C=67.35020408163265, gamma=0.001; total time=   0.4s\n",
      "[CV 1/5] END ................C=67.35020408163265, gamma=0.01; total time=   0.3s\n",
      "[CV 2/5] END ................C=67.35020408163265, gamma=0.01; total time=   0.3s\n",
      "[CV 3/5] END ................C=67.35020408163265, gamma=0.01; total time=   0.4s\n",
      "[CV 4/5] END ................C=67.35020408163265, gamma=0.01; total time=   0.3s\n",
      "[CV 5/5] END ................C=67.35020408163265, gamma=0.01; total time=   0.3s\n",
      "[CV 1/5] END .................C=67.35020408163265, gamma=0.1; total time=   0.3s\n",
      "[CV 2/5] END .................C=67.35020408163265, gamma=0.1; total time=   0.3s\n",
      "[CV 3/5] END .................C=67.35020408163265, gamma=0.1; total time=   0.3s\n",
      "[CV 4/5] END .................C=67.35020408163265, gamma=0.1; total time=   0.3s\n",
      "[CV 5/5] END .................C=67.35020408163265, gamma=0.1; total time=   0.3s\n",
      "[CV 1/5] END ...................C=67.35020408163265, gamma=1; total time=   0.3s\n",
      "[CV 2/5] END ...................C=67.35020408163265, gamma=1; total time=   0.3s\n",
      "[CV 3/5] END ...................C=67.35020408163265, gamma=1; total time=   0.3s\n",
      "[CV 4/5] END ...................C=67.35020408163265, gamma=1; total time=   0.3s\n",
      "[CV 5/5] END ...................C=67.35020408163265, gamma=1; total time=   0.3s\n",
      "[CV 1/5] END ...............C=69.39081632653061, gamma=0.001; total time=   0.4s\n",
      "[CV 2/5] END ...............C=69.39081632653061, gamma=0.001; total time=   0.4s\n",
      "[CV 3/5] END ...............C=69.39081632653061, gamma=0.001; total time=   0.3s\n",
      "[CV 4/5] END ...............C=69.39081632653061, gamma=0.001; total time=   0.4s\n",
      "[CV 5/5] END ...............C=69.39081632653061, gamma=0.001; total time=   0.3s\n",
      "[CV 1/5] END ................C=69.39081632653061, gamma=0.01; total time=   0.3s\n",
      "[CV 2/5] END ................C=69.39081632653061, gamma=0.01; total time=   0.3s\n",
      "[CV 3/5] END ................C=69.39081632653061, gamma=0.01; total time=   0.3s\n",
      "[CV 4/5] END ................C=69.39081632653061, gamma=0.01; total time=   0.4s\n",
      "[CV 5/5] END ................C=69.39081632653061, gamma=0.01; total time=   0.4s\n",
      "[CV 1/5] END .................C=69.39081632653061, gamma=0.1; total time=   0.3s\n",
      "[CV 2/5] END .................C=69.39081632653061, gamma=0.1; total time=   0.5s\n",
      "[CV 3/5] END .................C=69.39081632653061, gamma=0.1; total time=   0.7s\n",
      "[CV 4/5] END .................C=69.39081632653061, gamma=0.1; total time=   0.4s\n",
      "[CV 5/5] END .................C=69.39081632653061, gamma=0.1; total time=   0.3s\n",
      "[CV 1/5] END ...................C=69.39081632653061, gamma=1; total time=   0.3s\n",
      "[CV 2/5] END ...................C=69.39081632653061, gamma=1; total time=   0.3s\n",
      "[CV 3/5] END ...................C=69.39081632653061, gamma=1; total time=   0.3s\n",
      "[CV 4/5] END ...................C=69.39081632653061, gamma=1; total time=   0.3s\n",
      "[CV 5/5] END ...................C=69.39081632653061, gamma=1; total time=   0.4s\n",
      "[CV 1/5] END ...............C=71.43142857142857, gamma=0.001; total time=   0.4s\n",
      "[CV 2/5] END ...............C=71.43142857142857, gamma=0.001; total time=   0.4s\n",
      "[CV 3/5] END ...............C=71.43142857142857, gamma=0.001; total time=   0.3s\n",
      "[CV 4/5] END ...............C=71.43142857142857, gamma=0.001; total time=   0.4s\n",
      "[CV 5/5] END ...............C=71.43142857142857, gamma=0.001; total time=   0.4s\n",
      "[CV 1/5] END ................C=71.43142857142857, gamma=0.01; total time=   0.4s\n",
      "[CV 2/5] END ................C=71.43142857142857, gamma=0.01; total time=   0.3s\n",
      "[CV 3/5] END ................C=71.43142857142857, gamma=0.01; total time=   0.3s\n",
      "[CV 4/5] END ................C=71.43142857142857, gamma=0.01; total time=   0.4s\n",
      "[CV 5/5] END ................C=71.43142857142857, gamma=0.01; total time=   0.4s\n",
      "[CV 1/5] END .................C=71.43142857142857, gamma=0.1; total time=   0.3s\n",
      "[CV 2/5] END .................C=71.43142857142857, gamma=0.1; total time=   0.3s\n",
      "[CV 3/5] END .................C=71.43142857142857, gamma=0.1; total time=   0.3s\n"
     ]
    },
    {
     "name": "stdout",
     "output_type": "stream",
     "text": [
      "[CV 4/5] END .................C=71.43142857142857, gamma=0.1; total time=   0.3s\n",
      "[CV 5/5] END .................C=71.43142857142857, gamma=0.1; total time=   0.3s\n",
      "[CV 1/5] END ...................C=71.43142857142857, gamma=1; total time=   0.4s\n",
      "[CV 2/5] END ...................C=71.43142857142857, gamma=1; total time=   0.4s\n",
      "[CV 3/5] END ...................C=71.43142857142857, gamma=1; total time=   0.3s\n",
      "[CV 4/5] END ...................C=71.43142857142857, gamma=1; total time=   0.3s\n",
      "[CV 5/5] END ...................C=71.43142857142857, gamma=1; total time=   0.3s\n",
      "[CV 1/5] END ...............C=73.47204081632653, gamma=0.001; total time=   0.4s\n",
      "[CV 2/5] END ...............C=73.47204081632653, gamma=0.001; total time=   0.4s\n",
      "[CV 3/5] END ...............C=73.47204081632653, gamma=0.001; total time=   0.4s\n",
      "[CV 4/5] END ...............C=73.47204081632653, gamma=0.001; total time=   0.4s\n",
      "[CV 5/5] END ...............C=73.47204081632653, gamma=0.001; total time=   0.4s\n",
      "[CV 1/5] END ................C=73.47204081632653, gamma=0.01; total time=   0.3s\n",
      "[CV 2/5] END ................C=73.47204081632653, gamma=0.01; total time=   0.3s\n",
      "[CV 3/5] END ................C=73.47204081632653, gamma=0.01; total time=   0.3s\n",
      "[CV 4/5] END ................C=73.47204081632653, gamma=0.01; total time=   0.4s\n",
      "[CV 5/5] END ................C=73.47204081632653, gamma=0.01; total time=   0.5s\n",
      "[CV 1/5] END .................C=73.47204081632653, gamma=0.1; total time=   0.3s\n",
      "[CV 2/5] END .................C=73.47204081632653, gamma=0.1; total time=   0.3s\n",
      "[CV 3/5] END .................C=73.47204081632653, gamma=0.1; total time=   0.3s\n",
      "[CV 4/5] END .................C=73.47204081632653, gamma=0.1; total time=   0.3s\n",
      "[CV 5/5] END .................C=73.47204081632653, gamma=0.1; total time=   0.3s\n",
      "[CV 1/5] END ...................C=73.47204081632653, gamma=1; total time=   0.3s\n",
      "[CV 2/5] END ...................C=73.47204081632653, gamma=1; total time=   0.3s\n",
      "[CV 3/5] END ...................C=73.47204081632653, gamma=1; total time=   0.3s\n",
      "[CV 4/5] END ...................C=73.47204081632653, gamma=1; total time=   0.3s\n",
      "[CV 5/5] END ...................C=73.47204081632653, gamma=1; total time=   0.3s\n",
      "[CV 1/5] END ................C=75.5126530612245, gamma=0.001; total time=   0.5s\n",
      "[CV 2/5] END ................C=75.5126530612245, gamma=0.001; total time=   0.5s\n",
      "[CV 3/5] END ................C=75.5126530612245, gamma=0.001; total time=   0.4s\n",
      "[CV 4/5] END ................C=75.5126530612245, gamma=0.001; total time=   0.4s\n",
      "[CV 5/5] END ................C=75.5126530612245, gamma=0.001; total time=   0.4s\n",
      "[CV 1/5] END .................C=75.5126530612245, gamma=0.01; total time=   0.4s\n",
      "[CV 2/5] END .................C=75.5126530612245, gamma=0.01; total time=   0.4s\n",
      "[CV 3/5] END .................C=75.5126530612245, gamma=0.01; total time=   0.3s\n",
      "[CV 4/5] END .................C=75.5126530612245, gamma=0.01; total time=   0.3s\n",
      "[CV 5/5] END .................C=75.5126530612245, gamma=0.01; total time=   0.3s\n",
      "[CV 1/5] END ..................C=75.5126530612245, gamma=0.1; total time=   0.3s\n",
      "[CV 2/5] END ..................C=75.5126530612245, gamma=0.1; total time=   0.3s\n",
      "[CV 3/5] END ..................C=75.5126530612245, gamma=0.1; total time=   0.4s\n",
      "[CV 4/5] END ..................C=75.5126530612245, gamma=0.1; total time=   0.4s\n",
      "[CV 5/5] END ..................C=75.5126530612245, gamma=0.1; total time=   0.3s\n",
      "[CV 1/5] END ....................C=75.5126530612245, gamma=1; total time=   0.3s\n",
      "[CV 2/5] END ....................C=75.5126530612245, gamma=1; total time=   0.3s\n",
      "[CV 3/5] END ....................C=75.5126530612245, gamma=1; total time=   0.4s\n",
      "[CV 4/5] END ....................C=75.5126530612245, gamma=1; total time=   0.3s\n",
      "[CV 5/5] END ....................C=75.5126530612245, gamma=1; total time=   0.3s\n",
      "[CV 1/5] END ...............C=77.55326530612246, gamma=0.001; total time=   0.4s\n",
      "[CV 2/5] END ...............C=77.55326530612246, gamma=0.001; total time=   0.4s\n",
      "[CV 3/5] END ...............C=77.55326530612246, gamma=0.001; total time=   0.4s\n",
      "[CV 4/5] END ...............C=77.55326530612246, gamma=0.001; total time=   0.4s\n",
      "[CV 5/5] END ...............C=77.55326530612246, gamma=0.001; total time=   0.4s\n",
      "[CV 1/5] END ................C=77.55326530612246, gamma=0.01; total time=   0.4s\n",
      "[CV 2/5] END ................C=77.55326530612246, gamma=0.01; total time=   0.4s\n",
      "[CV 3/5] END ................C=77.55326530612246, gamma=0.01; total time=   0.3s\n",
      "[CV 4/5] END ................C=77.55326530612246, gamma=0.01; total time=   0.3s\n",
      "[CV 5/5] END ................C=77.55326530612246, gamma=0.01; total time=   0.4s\n",
      "[CV 1/5] END .................C=77.55326530612246, gamma=0.1; total time=   0.4s\n",
      "[CV 2/5] END .................C=77.55326530612246, gamma=0.1; total time=   0.3s\n",
      "[CV 3/5] END .................C=77.55326530612246, gamma=0.1; total time=   0.3s\n",
      "[CV 4/5] END .................C=77.55326530612246, gamma=0.1; total time=   0.3s\n",
      "[CV 5/5] END .................C=77.55326530612246, gamma=0.1; total time=   0.3s\n",
      "[CV 1/5] END ...................C=77.55326530612246, gamma=1; total time=   0.3s\n",
      "[CV 2/5] END ...................C=77.55326530612246, gamma=1; total time=   0.3s\n",
      "[CV 3/5] END ...................C=77.55326530612246, gamma=1; total time=   0.4s\n",
      "[CV 4/5] END ...................C=77.55326530612246, gamma=1; total time=   0.4s\n",
      "[CV 5/5] END ...................C=77.55326530612246, gamma=1; total time=   0.3s\n",
      "[CV 1/5] END ...............C=79.59387755102041, gamma=0.001; total time=   0.4s\n",
      "[CV 2/5] END ...............C=79.59387755102041, gamma=0.001; total time=   0.4s\n",
      "[CV 3/5] END ...............C=79.59387755102041, gamma=0.001; total time=   0.4s\n",
      "[CV 4/5] END ...............C=79.59387755102041, gamma=0.001; total time=   0.3s\n",
      "[CV 5/5] END ...............C=79.59387755102041, gamma=0.001; total time=   0.4s\n",
      "[CV 1/5] END ................C=79.59387755102041, gamma=0.01; total time=   0.3s\n",
      "[CV 2/5] END ................C=79.59387755102041, gamma=0.01; total time=   0.3s\n",
      "[CV 3/5] END ................C=79.59387755102041, gamma=0.01; total time=   0.3s\n",
      "[CV 4/5] END ................C=79.59387755102041, gamma=0.01; total time=   0.3s\n",
      "[CV 5/5] END ................C=79.59387755102041, gamma=0.01; total time=   0.4s\n",
      "[CV 1/5] END .................C=79.59387755102041, gamma=0.1; total time=   0.4s\n",
      "[CV 2/5] END .................C=79.59387755102041, gamma=0.1; total time=   0.3s\n",
      "[CV 3/5] END .................C=79.59387755102041, gamma=0.1; total time=   0.3s\n",
      "[CV 4/5] END .................C=79.59387755102041, gamma=0.1; total time=   0.4s\n",
      "[CV 5/5] END .................C=79.59387755102041, gamma=0.1; total time=   0.4s\n",
      "[CV 1/5] END ...................C=79.59387755102041, gamma=1; total time=   0.3s\n",
      "[CV 2/5] END ...................C=79.59387755102041, gamma=1; total time=   0.4s\n",
      "[CV 3/5] END ...................C=79.59387755102041, gamma=1; total time=   0.3s\n",
      "[CV 4/5] END ...................C=79.59387755102041, gamma=1; total time=   0.3s\n",
      "[CV 5/5] END ...................C=79.59387755102041, gamma=1; total time=   0.3s\n",
      "[CV 1/5] END ...............C=81.63448979591837, gamma=0.001; total time=   0.3s\n",
      "[CV 2/5] END ...............C=81.63448979591837, gamma=0.001; total time=   0.4s\n",
      "[CV 3/5] END ...............C=81.63448979591837, gamma=0.001; total time=   0.4s\n",
      "[CV 4/5] END ...............C=81.63448979591837, gamma=0.001; total time=   0.4s\n",
      "[CV 5/5] END ...............C=81.63448979591837, gamma=0.001; total time=   0.4s\n",
      "[CV 1/5] END ................C=81.63448979591837, gamma=0.01; total time=   0.4s\n",
      "[CV 2/5] END ................C=81.63448979591837, gamma=0.01; total time=   0.7s\n",
      "[CV 3/5] END ................C=81.63448979591837, gamma=0.01; total time=   0.6s\n",
      "[CV 4/5] END ................C=81.63448979591837, gamma=0.01; total time=   0.8s\n",
      "[CV 5/5] END ................C=81.63448979591837, gamma=0.01; total time=   0.4s\n",
      "[CV 1/5] END .................C=81.63448979591837, gamma=0.1; total time=   0.4s\n",
      "[CV 2/5] END .................C=81.63448979591837, gamma=0.1; total time=   0.4s\n",
      "[CV 3/5] END .................C=81.63448979591837, gamma=0.1; total time=   0.3s\n",
      "[CV 4/5] END .................C=81.63448979591837, gamma=0.1; total time=   0.3s\n",
      "[CV 5/5] END .................C=81.63448979591837, gamma=0.1; total time=   0.3s\n"
     ]
    },
    {
     "name": "stdout",
     "output_type": "stream",
     "text": [
      "[CV 1/5] END ...................C=81.63448979591837, gamma=1; total time=   0.3s\n",
      "[CV 2/5] END ...................C=81.63448979591837, gamma=1; total time=   0.4s\n",
      "[CV 3/5] END ...................C=81.63448979591837, gamma=1; total time=   0.3s\n",
      "[CV 4/5] END ...................C=81.63448979591837, gamma=1; total time=   0.3s\n",
      "[CV 5/5] END ...................C=81.63448979591837, gamma=1; total time=   0.3s\n",
      "[CV 1/5] END ...............C=83.67510204081633, gamma=0.001; total time=   0.4s\n",
      "[CV 2/5] END ...............C=83.67510204081633, gamma=0.001; total time=   0.5s\n",
      "[CV 3/5] END ...............C=83.67510204081633, gamma=0.001; total time=   0.4s\n",
      "[CV 4/5] END ...............C=83.67510204081633, gamma=0.001; total time=   0.4s\n",
      "[CV 5/5] END ...............C=83.67510204081633, gamma=0.001; total time=   0.4s\n",
      "[CV 1/5] END ................C=83.67510204081633, gamma=0.01; total time=   0.4s\n",
      "[CV 2/5] END ................C=83.67510204081633, gamma=0.01; total time=   0.7s\n",
      "[CV 3/5] END ................C=83.67510204081633, gamma=0.01; total time=   0.7s\n",
      "[CV 4/5] END ................C=83.67510204081633, gamma=0.01; total time=   0.6s\n",
      "[CV 5/5] END ................C=83.67510204081633, gamma=0.01; total time=   0.5s\n",
      "[CV 1/5] END .................C=83.67510204081633, gamma=0.1; total time=   1.3s\n",
      "[CV 2/5] END .................C=83.67510204081633, gamma=0.1; total time=   1.4s\n",
      "[CV 3/5] END .................C=83.67510204081633, gamma=0.1; total time=   0.9s\n",
      "[CV 4/5] END .................C=83.67510204081633, gamma=0.1; total time=   0.6s\n",
      "[CV 5/5] END .................C=83.67510204081633, gamma=0.1; total time=   0.4s\n",
      "[CV 1/5] END ...................C=83.67510204081633, gamma=1; total time=   0.4s\n",
      "[CV 2/5] END ...................C=83.67510204081633, gamma=1; total time=   0.4s\n",
      "[CV 3/5] END ...................C=83.67510204081633, gamma=1; total time=   0.3s\n",
      "[CV 4/5] END ...................C=83.67510204081633, gamma=1; total time=   0.4s\n",
      "[CV 5/5] END ...................C=83.67510204081633, gamma=1; total time=   0.5s\n",
      "[CV 1/5] END ...............C=85.71571428571428, gamma=0.001; total time=   0.5s\n",
      "[CV 2/5] END ...............C=85.71571428571428, gamma=0.001; total time=   0.4s\n",
      "[CV 3/5] END ...............C=85.71571428571428, gamma=0.001; total time=   0.4s\n",
      "[CV 4/5] END ...............C=85.71571428571428, gamma=0.001; total time=   0.4s\n",
      "[CV 5/5] END ...............C=85.71571428571428, gamma=0.001; total time=   0.4s\n",
      "[CV 1/5] END ................C=85.71571428571428, gamma=0.01; total time=   0.3s\n",
      "[CV 2/5] END ................C=85.71571428571428, gamma=0.01; total time=   0.4s\n",
      "[CV 3/5] END ................C=85.71571428571428, gamma=0.01; total time=   0.3s\n",
      "[CV 4/5] END ................C=85.71571428571428, gamma=0.01; total time=   0.4s\n",
      "[CV 5/5] END ................C=85.71571428571428, gamma=0.01; total time=   0.3s\n",
      "[CV 1/5] END .................C=85.71571428571428, gamma=0.1; total time=   0.4s\n",
      "[CV 2/5] END .................C=85.71571428571428, gamma=0.1; total time=   0.5s\n",
      "[CV 3/5] END .................C=85.71571428571428, gamma=0.1; total time=   0.4s\n",
      "[CV 4/5] END .................C=85.71571428571428, gamma=0.1; total time=   0.3s\n",
      "[CV 5/5] END .................C=85.71571428571428, gamma=0.1; total time=   0.4s\n",
      "[CV 1/5] END ...................C=85.71571428571428, gamma=1; total time=   0.4s\n",
      "[CV 2/5] END ...................C=85.71571428571428, gamma=1; total time=   0.3s\n",
      "[CV 3/5] END ...................C=85.71571428571428, gamma=1; total time=   0.3s\n",
      "[CV 4/5] END ...................C=85.71571428571428, gamma=1; total time=   0.3s\n",
      "[CV 5/5] END ...................C=85.71571428571428, gamma=1; total time=   0.3s\n",
      "[CV 1/5] END ...............C=87.75632653061224, gamma=0.001; total time=   0.4s\n",
      "[CV 2/5] END ...............C=87.75632653061224, gamma=0.001; total time=   0.4s\n",
      "[CV 3/5] END ...............C=87.75632653061224, gamma=0.001; total time=   0.4s\n",
      "[CV 4/5] END ...............C=87.75632653061224, gamma=0.001; total time=   0.4s\n",
      "[CV 5/5] END ...............C=87.75632653061224, gamma=0.001; total time=   0.4s\n",
      "[CV 1/5] END ................C=87.75632653061224, gamma=0.01; total time=   0.3s\n",
      "[CV 2/5] END ................C=87.75632653061224, gamma=0.01; total time=   0.4s\n",
      "[CV 3/5] END ................C=87.75632653061224, gamma=0.01; total time=   0.3s\n",
      "[CV 4/5] END ................C=87.75632653061224, gamma=0.01; total time=   0.4s\n",
      "[CV 5/5] END ................C=87.75632653061224, gamma=0.01; total time=   0.3s\n",
      "[CV 1/5] END .................C=87.75632653061224, gamma=0.1; total time=   0.4s\n",
      "[CV 2/5] END .................C=87.75632653061224, gamma=0.1; total time=   0.3s\n",
      "[CV 3/5] END .................C=87.75632653061224, gamma=0.1; total time=   0.3s\n",
      "[CV 4/5] END .................C=87.75632653061224, gamma=0.1; total time=   0.3s\n",
      "[CV 5/5] END .................C=87.75632653061224, gamma=0.1; total time=   0.3s\n",
      "[CV 1/5] END ...................C=87.75632653061224, gamma=1; total time=   0.4s\n",
      "[CV 2/5] END ...................C=87.75632653061224, gamma=1; total time=   0.3s\n",
      "[CV 3/5] END ...................C=87.75632653061224, gamma=1; total time=   0.4s\n",
      "[CV 4/5] END ...................C=87.75632653061224, gamma=1; total time=   0.3s\n",
      "[CV 5/5] END ...................C=87.75632653061224, gamma=1; total time=   0.4s\n",
      "[CV 1/5] END ...............C=89.79693877551021, gamma=0.001; total time=   0.4s\n",
      "[CV 2/5] END ...............C=89.79693877551021, gamma=0.001; total time=   0.3s\n",
      "[CV 3/5] END ...............C=89.79693877551021, gamma=0.001; total time=   0.3s\n",
      "[CV 4/5] END ...............C=89.79693877551021, gamma=0.001; total time=   0.3s\n",
      "[CV 5/5] END ...............C=89.79693877551021, gamma=0.001; total time=   0.4s\n",
      "[CV 1/5] END ................C=89.79693877551021, gamma=0.01; total time=   0.4s\n",
      "[CV 2/5] END ................C=89.79693877551021, gamma=0.01; total time=   0.3s\n",
      "[CV 3/5] END ................C=89.79693877551021, gamma=0.01; total time=   0.3s\n",
      "[CV 4/5] END ................C=89.79693877551021, gamma=0.01; total time=   0.3s\n",
      "[CV 5/5] END ................C=89.79693877551021, gamma=0.01; total time=   0.3s\n",
      "[CV 1/5] END .................C=89.79693877551021, gamma=0.1; total time=   0.3s\n",
      "[CV 2/5] END .................C=89.79693877551021, gamma=0.1; total time=   0.3s\n",
      "[CV 3/5] END .................C=89.79693877551021, gamma=0.1; total time=   0.3s\n",
      "[CV 4/5] END .................C=89.79693877551021, gamma=0.1; total time=   0.3s\n",
      "[CV 5/5] END .................C=89.79693877551021, gamma=0.1; total time=   0.3s\n",
      "[CV 1/5] END ...................C=89.79693877551021, gamma=1; total time=   0.3s\n",
      "[CV 2/5] END ...................C=89.79693877551021, gamma=1; total time=   0.3s\n",
      "[CV 3/5] END ...................C=89.79693877551021, gamma=1; total time=   0.3s\n",
      "[CV 4/5] END ...................C=89.79693877551021, gamma=1; total time=   0.3s\n",
      "[CV 5/5] END ...................C=89.79693877551021, gamma=1; total time=   0.3s\n",
      "[CV 1/5] END ...............C=91.83755102040817, gamma=0.001; total time=   0.5s\n",
      "[CV 2/5] END ...............C=91.83755102040817, gamma=0.001; total time=   0.6s\n",
      "[CV 3/5] END ...............C=91.83755102040817, gamma=0.001; total time=   0.4s\n",
      "[CV 4/5] END ...............C=91.83755102040817, gamma=0.001; total time=   0.4s\n",
      "[CV 5/5] END ...............C=91.83755102040817, gamma=0.001; total time=   0.4s\n",
      "[CV 1/5] END ................C=91.83755102040817, gamma=0.01; total time=   0.3s\n",
      "[CV 2/5] END ................C=91.83755102040817, gamma=0.01; total time=   0.3s\n",
      "[CV 3/5] END ................C=91.83755102040817, gamma=0.01; total time=   0.3s\n",
      "[CV 4/5] END ................C=91.83755102040817, gamma=0.01; total time=   0.3s\n",
      "[CV 5/5] END ................C=91.83755102040817, gamma=0.01; total time=   0.4s\n",
      "[CV 1/5] END .................C=91.83755102040817, gamma=0.1; total time=   0.3s\n",
      "[CV 2/5] END .................C=91.83755102040817, gamma=0.1; total time=   0.3s\n",
      "[CV 3/5] END .................C=91.83755102040817, gamma=0.1; total time=   0.4s\n",
      "[CV 4/5] END .................C=91.83755102040817, gamma=0.1; total time=   0.4s\n",
      "[CV 5/5] END .................C=91.83755102040817, gamma=0.1; total time=   0.3s\n",
      "[CV 1/5] END ...................C=91.83755102040817, gamma=1; total time=   0.4s\n",
      "[CV 2/5] END ...................C=91.83755102040817, gamma=1; total time=   0.4s\n"
     ]
    },
    {
     "name": "stdout",
     "output_type": "stream",
     "text": [
      "[CV 3/5] END ...................C=91.83755102040817, gamma=1; total time=   0.4s\n",
      "[CV 4/5] END ...................C=91.83755102040817, gamma=1; total time=   0.3s\n",
      "[CV 5/5] END ...................C=91.83755102040817, gamma=1; total time=   0.4s\n",
      "[CV 1/5] END ...............C=93.87816326530613, gamma=0.001; total time=   0.4s\n",
      "[CV 2/5] END ...............C=93.87816326530613, gamma=0.001; total time=   0.4s\n",
      "[CV 3/5] END ...............C=93.87816326530613, gamma=0.001; total time=   0.3s\n",
      "[CV 4/5] END ...............C=93.87816326530613, gamma=0.001; total time=   0.3s\n",
      "[CV 5/5] END ...............C=93.87816326530613, gamma=0.001; total time=   0.4s\n",
      "[CV 1/5] END ................C=93.87816326530613, gamma=0.01; total time=   0.3s\n",
      "[CV 2/5] END ................C=93.87816326530613, gamma=0.01; total time=   0.3s\n",
      "[CV 3/5] END ................C=93.87816326530613, gamma=0.01; total time=   0.3s\n",
      "[CV 4/5] END ................C=93.87816326530613, gamma=0.01; total time=   0.4s\n",
      "[CV 5/5] END ................C=93.87816326530613, gamma=0.01; total time=   0.3s\n",
      "[CV 1/5] END .................C=93.87816326530613, gamma=0.1; total time=   0.3s\n",
      "[CV 2/5] END .................C=93.87816326530613, gamma=0.1; total time=   0.4s\n",
      "[CV 3/5] END .................C=93.87816326530613, gamma=0.1; total time=   0.4s\n",
      "[CV 4/5] END .................C=93.87816326530613, gamma=0.1; total time=   0.3s\n",
      "[CV 5/5] END .................C=93.87816326530613, gamma=0.1; total time=   0.3s\n",
      "[CV 1/5] END ...................C=93.87816326530613, gamma=1; total time=   0.3s\n",
      "[CV 2/5] END ...................C=93.87816326530613, gamma=1; total time=   0.3s\n",
      "[CV 3/5] END ...................C=93.87816326530613, gamma=1; total time=   0.4s\n",
      "[CV 4/5] END ...................C=93.87816326530613, gamma=1; total time=   0.4s\n",
      "[CV 5/5] END ...................C=93.87816326530613, gamma=1; total time=   0.3s\n",
      "[CV 1/5] END ...............C=95.91877551020409, gamma=0.001; total time=   0.4s\n",
      "[CV 2/5] END ...............C=95.91877551020409, gamma=0.001; total time=   0.4s\n",
      "[CV 3/5] END ...............C=95.91877551020409, gamma=0.001; total time=   0.6s\n",
      "[CV 4/5] END ...............C=95.91877551020409, gamma=0.001; total time=   0.6s\n",
      "[CV 5/5] END ...............C=95.91877551020409, gamma=0.001; total time=   0.4s\n",
      "[CV 1/5] END ................C=95.91877551020409, gamma=0.01; total time=   0.4s\n",
      "[CV 2/5] END ................C=95.91877551020409, gamma=0.01; total time=   0.3s\n",
      "[CV 3/5] END ................C=95.91877551020409, gamma=0.01; total time=   0.4s\n",
      "[CV 4/5] END ................C=95.91877551020409, gamma=0.01; total time=   1.0s\n",
      "[CV 5/5] END ................C=95.91877551020409, gamma=0.01; total time=   1.2s\n",
      "[CV 1/5] END .................C=95.91877551020409, gamma=0.1; total time=   0.5s\n",
      "[CV 2/5] END .................C=95.91877551020409, gamma=0.1; total time=   0.4s\n",
      "[CV 3/5] END .................C=95.91877551020409, gamma=0.1; total time=   0.3s\n",
      "[CV 4/5] END .................C=95.91877551020409, gamma=0.1; total time=   0.3s\n",
      "[CV 5/5] END .................C=95.91877551020409, gamma=0.1; total time=   0.3s\n",
      "[CV 1/5] END ...................C=95.91877551020409, gamma=1; total time=   0.3s\n",
      "[CV 2/5] END ...................C=95.91877551020409, gamma=1; total time=   0.3s\n",
      "[CV 3/5] END ...................C=95.91877551020409, gamma=1; total time=   0.3s\n",
      "[CV 4/5] END ...................C=95.91877551020409, gamma=1; total time=   0.4s\n",
      "[CV 5/5] END ...................C=95.91877551020409, gamma=1; total time=   0.3s\n",
      "[CV 1/5] END ...............C=97.95938775510204, gamma=0.001; total time=   0.4s\n",
      "[CV 2/5] END ...............C=97.95938775510204, gamma=0.001; total time=   0.4s\n",
      "[CV 3/5] END ...............C=97.95938775510204, gamma=0.001; total time=   0.4s\n",
      "[CV 4/5] END ...............C=97.95938775510204, gamma=0.001; total time=   0.3s\n",
      "[CV 5/5] END ...............C=97.95938775510204, gamma=0.001; total time=   0.3s\n",
      "[CV 1/5] END ................C=97.95938775510204, gamma=0.01; total time=   0.3s\n",
      "[CV 2/5] END ................C=97.95938775510204, gamma=0.01; total time=   0.3s\n",
      "[CV 3/5] END ................C=97.95938775510204, gamma=0.01; total time=   0.3s\n",
      "[CV 4/5] END ................C=97.95938775510204, gamma=0.01; total time=   0.3s\n",
      "[CV 5/5] END ................C=97.95938775510204, gamma=0.01; total time=   0.3s\n",
      "[CV 1/5] END .................C=97.95938775510204, gamma=0.1; total time=   0.3s\n",
      "[CV 2/5] END .................C=97.95938775510204, gamma=0.1; total time=   0.3s\n",
      "[CV 3/5] END .................C=97.95938775510204, gamma=0.1; total time=   0.3s\n",
      "[CV 4/5] END .................C=97.95938775510204, gamma=0.1; total time=   0.3s\n",
      "[CV 5/5] END .................C=97.95938775510204, gamma=0.1; total time=   0.3s\n",
      "[CV 1/5] END ...................C=97.95938775510204, gamma=1; total time=   0.3s\n",
      "[CV 2/5] END ...................C=97.95938775510204, gamma=1; total time=   0.3s\n",
      "[CV 3/5] END ...................C=97.95938775510204, gamma=1; total time=   0.3s\n",
      "[CV 4/5] END ...................C=97.95938775510204, gamma=1; total time=   0.3s\n",
      "[CV 5/5] END ...................C=97.95938775510204, gamma=1; total time=   0.3s\n",
      "[CV 1/5] END ...........................C=100.0, gamma=0.001; total time=   0.3s\n",
      "[CV 2/5] END ...........................C=100.0, gamma=0.001; total time=   0.3s\n",
      "[CV 3/5] END ...........................C=100.0, gamma=0.001; total time=   0.3s\n",
      "[CV 4/5] END ...........................C=100.0, gamma=0.001; total time=   0.3s\n",
      "[CV 5/5] END ...........................C=100.0, gamma=0.001; total time=   0.4s\n",
      "[CV 1/5] END ............................C=100.0, gamma=0.01; total time=   0.3s\n",
      "[CV 2/5] END ............................C=100.0, gamma=0.01; total time=   0.3s\n",
      "[CV 3/5] END ............................C=100.0, gamma=0.01; total time=   0.3s\n",
      "[CV 4/5] END ............................C=100.0, gamma=0.01; total time=   0.3s\n",
      "[CV 5/5] END ............................C=100.0, gamma=0.01; total time=   0.3s\n",
      "[CV 1/5] END .............................C=100.0, gamma=0.1; total time=   0.3s\n",
      "[CV 2/5] END .............................C=100.0, gamma=0.1; total time=   0.3s\n",
      "[CV 3/5] END .............................C=100.0, gamma=0.1; total time=   0.3s\n",
      "[CV 4/5] END .............................C=100.0, gamma=0.1; total time=   0.3s\n",
      "[CV 5/5] END .............................C=100.0, gamma=0.1; total time=   0.3s\n",
      "[CV 1/5] END ...............................C=100.0, gamma=1; total time=   0.3s\n",
      "[CV 2/5] END ...............................C=100.0, gamma=1; total time=   0.3s\n",
      "[CV 3/5] END ...............................C=100.0, gamma=1; total time=   0.3s\n",
      "[CV 4/5] END ...............................C=100.0, gamma=1; total time=   0.4s\n",
      "[CV 5/5] END ...............................C=100.0, gamma=1; total time=   0.3s\n"
     ]
    },
    {
     "data": {
      "text/plain": [
       "GridSearchCV(cv=5, estimator=SVC(),\n",
       "             param_grid={'C': array([1.00000000e-02, 2.05061224e+00, 4.09122449e+00, 6.13183673e+00,\n",
       "       8.17244898e+00, 1.02130612e+01, 1.22536735e+01, 1.42942857e+01,\n",
       "       1.63348980e+01, 1.83755102e+01, 2.04161224e+01, 2.24567347e+01,\n",
       "       2.44973469e+01, 2.65379592e+01, 2.85785714e+01, 3.06191837e+01,\n",
       "       3.26597959e+01, 3.47004082e+01, 3.67410204e+01, 3.878163...\n",
       "       5.71471429e+01, 5.91877551e+01, 6.12283673e+01, 6.32689796e+01,\n",
       "       6.53095918e+01, 6.73502041e+01, 6.93908163e+01, 7.14314286e+01,\n",
       "       7.34720408e+01, 7.55126531e+01, 7.75532653e+01, 7.95938776e+01,\n",
       "       8.16344898e+01, 8.36751020e+01, 8.57157143e+01, 8.77563265e+01,\n",
       "       8.97969388e+01, 9.18375510e+01, 9.38781633e+01, 9.59187755e+01,\n",
       "       9.79593878e+01, 1.00000000e+02]),\n",
       "                         'gamma': [0.001, 0.01, 0.1, 1]},\n",
       "             verbose=3)"
      ]
     },
     "execution_count": 195,
     "metadata": {},
     "output_type": "execute_result"
    }
   ],
   "source": [
    "m_gs2.fit(x_train_s, y_train)"
   ]
  },
  {
   "cell_type": "code",
   "execution_count": null,
   "metadata": {},
   "outputs": [],
   "source": []
  },
  {
   "cell_type": "code",
   "execution_count": 196,
   "metadata": {},
   "outputs": [
    {
     "data": {
      "image/png": "[encoded data removed]",
      "text/plain": [
       "<Figure size 576x432 with 1 Axes>"
      ]
     },
     "metadata": {
      "needs_background": "light"
     },
     "output_type": "display_data"
    }
   ],
   "source": [
    "result2 = pd.DataFrame(m_gs2.cv_results_)\n",
    "tmp2 = result2.loc[:, ['param_C', 'param_gamma', 'mean_test_score']]\n",
    "\n",
    "plt.figure(figsize = (8,6))\n",
    "sns.lineplot(x = 'param_C', y = 'mean_test_score', data = tmp2, hue='param_gamma' )\n",
    "plt.grid()\n",
    "plt.show()"
   ]
  },
  {
   "cell_type": "code",
   "execution_count": 201,
   "metadata": {
    "scrolled": true
   },
   "outputs": [
    {
     "data": {
      "text/plain": [
       "0.6543258101851852"
      ]
     },
     "execution_count": 201,
     "metadata": {},
     "output_type": "execute_result"
    }
   ],
   "source": [
    "m_gs2.best_score_"
   ]
  }
 ],
 "metadata": {
  "kernelspec": {
   "display_name": "Python 3",
   "language": "python",
   "name": "python3"
  },
  "language_info": {
   "codemirror_mode": {
    "name": "ipython",
    "version": 3
   },
   "file_extension": ".py",
   "mimetype": "text/x-python",
   "name": "python",
   "nbconvert_exporter": "python",
   "pygments_lexer": "ipython3",
   "version": "3.8.8"
  },
  "vscode": {
   "interpreter": {
    "hash": "f08154012ddadd8e950e6e9e035c7a7b32c136e7647e9b7c77e02eb723a8bedb"
   }
  }
 },
 "nbformat": 4,
 "nbformat_minor": 4
}
