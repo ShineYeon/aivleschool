{
 "cells": [
  {
   "cell_type": "markdown",
   "metadata": {},
   "source": [
    "## [미니프로젝트] 악성사이트 탐지 머신러닝 모델 개발\n",
    "\n",
    "### 여러분은 기업 보안팀에서 근무중인 엔지니어로써, 웹페이지에서 추출한 Feature(특징) 기반으로 악성사이트를 탐지하는 머신러닝 모델 개발 미션을 부여받았습니다.\n",
    "\n",
    "### ▣ 우리가 풀어야 하는 문제는 무엇인가요?\n",
    " - 웹 페이지에서 Feature를 추출하세요.\n",
    " - 악성사이트 여부를 판별하는 성능 좋은 AI모델을 생성하세요.\n",
    "\n",
    "<br>\n",
    "\n",
    "---\n",
    "\n",
    "## ▣ 데이터 소개\n",
    "* 웹 크롤링 데이터셋 : Feature_Website.xlsx\n",
    "\n",
    "## ▣ 웹 크롤링 데이터셋의 변수 소개\n",
    "* html_code : 크롤링을 활용해 수집한 HTML Code 원본\n",
    "* repu : 악성사이트 여부 (malicious : 악성사이트, benign : 정상사이트)\n",
    "<br>\n",
    "\n",
    "---"
   ]
  },
  {
   "cell_type": "markdown",
   "metadata": {},
   "source": [
    "## <b>[1단계] 데이터 수집</b>\n",
    "\n",
    "* 1단계에서는 크롤링으로 수집한 HTML Code를 활용해 Feature를 만드는 과정을 체험합니다."
   ]
  },
  {
   "cell_type": "markdown",
   "metadata": {},
   "source": [
    "# <b>Step 0. 본격적인 실습 전 packages 설치\n",
    "* Beautifulsoup 라이브러리 설치\n",
    "* openpyxl 라이브러리 설치"
   ]
  },
  {
   "cell_type": "code",
   "execution_count": 1,
   "metadata": {},
   "outputs": [
    {
     "name": "stdout",
     "output_type": "stream",
     "text": [
      "Requirement already satisfied: openpyxl in c:\\users\\user\\anaconda3\\lib\\site-packages (3.0.7)\n",
      "Requirement already satisfied: et-xmlfile in c:\\users\\user\\anaconda3\\lib\\site-packages (from openpyxl) (1.0.1)\n"
     ]
    }
   ],
   "source": [
    "!pip install openpyxl"
   ]
  },
  {
   "cell_type": "markdown",
   "metadata": {},
   "source": [
    "* 데이터 프레임 관련 라이브러리 Import"
   ]
  },
  {
   "cell_type": "code",
   "execution_count": 2,
   "metadata": {},
   "outputs": [],
   "source": [
    "import pandas as pd\n",
    "import numpy as np\n",
    "from bs4 import BeautifulSoup"
   ]
  },
  {
   "cell_type": "markdown",
   "metadata": {},
   "source": [
    "---\n",
    "## <b>Q1. 데이터 불러오기\n",
    "### 정상/악성 HTML Code가 저장된 엑셀파일 불러오기\n",
    "- 파일명 : Feature Website.xlsx\n"
   ]
  },
  {
   "cell_type": "markdown",
   "metadata": {},
   "source": [
    "### <span style=\"color:darkred\">[문제1] Pandas 라이브러리를 활용해서 'Feature Website.xlsx'파일을 'df' 변수에 저장하고 그 info()및 head()를 통해 데이터를 확인하세요.<span>"
   ]
  },
  {
   "cell_type": "code",
   "execution_count": 4,
   "metadata": {},
   "outputs": [
    {
     "data": {
      "text/html": [
       "<div>\n",
       "<style scoped>\n",
       "    .dataframe tbody tr th:only-of-type {\n",
       "        vertical-align: middle;\n",
       "    }\n",
       "\n",
       "    .dataframe tbody tr th {\n",
       "        vertical-align: top;\n",
       "    }\n",
       "\n",
       "    .dataframe thead th {\n",
       "        text-align: right;\n",
       "    }\n",
       "</style>\n",
       "<table border=\"1\" class=\"dataframe\">\n",
       "  <thead>\n",
       "    <tr style=\"text-align: right;\">\n",
       "      <th></th>\n",
       "      <th>html_code</th>\n",
       "      <th>repu</th>\n",
       "    </tr>\n",
       "  </thead>\n",
       "  <tbody>\n",
       "    <tr>\n",
       "      <th>0</th>\n",
       "      <td>&lt;!DOCTYPE html&gt;\\n&lt;!--[if lt IE 7]&gt; &lt;html lang=...</td>\n",
       "      <td>malicious</td>\n",
       "    </tr>\n",
       "    <tr>\n",
       "      <th>1</th>\n",
       "      <td>\\n\\t\\n\\n\\n\\t\\n\\n\\t\\n\\n\\n\\t\\n\\n\\n\\t\\n\\n\\t\\n\\t\\t...</td>\n",
       "      <td>malicious</td>\n",
       "    </tr>\n",
       "    <tr>\n",
       "      <th>2</th>\n",
       "      <td>&lt;!DOCTYPE html&gt;\\n&lt;html lang=\"en\"&gt;\\n    &lt;head&gt;\\...</td>\n",
       "      <td>malicious</td>\n",
       "    </tr>\n",
       "    <tr>\n",
       "      <th>3</th>\n",
       "      <td>&lt;!DOCTYPE html&gt;&lt;html lang=\"en\"&gt;&lt;head&gt;&lt;style da...</td>\n",
       "      <td>malicious</td>\n",
       "    </tr>\n",
       "    <tr>\n",
       "      <th>4</th>\n",
       "      <td>&lt;!DOCTYPE html&gt;\\n\\n\\n    \\n    \\n    \\n    \\n ...</td>\n",
       "      <td>malicious</td>\n",
       "    </tr>\n",
       "  </tbody>\n",
       "</table>\n",
       "</div>"
      ],
      "text/plain": [
       "                                           html_code       repu\n",
       "0  <!DOCTYPE html>\\n<!--[if lt IE 7]> <html lang=...  malicious\n",
       "1  \\n\\t\\n\\n\\n\\t\\n\\n\\t\\n\\n\\n\\t\\n\\n\\n\\t\\n\\n\\t\\n\\t\\t...  malicious\n",
       "2  <!DOCTYPE html>\\n<html lang=\"en\">\\n    <head>\\...  malicious\n",
       "3  <!DOCTYPE html><html lang=\"en\"><head><style da...  malicious\n",
       "4  <!DOCTYPE html>\\n\\n\\n    \\n    \\n    \\n    \\n ...  malicious"
      ]
     },
     "execution_count": 4,
     "metadata": {},
     "output_type": "execute_result"
    }
   ],
   "source": [
    "# 아래에 실습코드를 작성하고 결과를 확인합니다.\n",
    "df=pd.read_excel('Feature_Website.xlsx')\n",
    "df.head()"
   ]
  },
  {
   "cell_type": "code",
   "execution_count": 5,
   "metadata": {},
   "outputs": [
    {
     "name": "stdout",
     "output_type": "stream",
     "text": [
      "<class 'pandas.core.frame.DataFrame'>\n",
      "RangeIndex: 40 entries, 0 to 39\n",
      "Data columns (total 2 columns):\n",
      " #   Column     Non-Null Count  Dtype \n",
      "---  ------     --------------  ----- \n",
      " 0   html_code  40 non-null     object\n",
      " 1   repu       40 non-null     object\n",
      "dtypes: object(2)\n",
      "memory usage: 768.0+ bytes\n"
     ]
    }
   ],
   "source": [
    "# 데이터 프레임의 info를 확인합니다.\n",
    "df.info()"
   ]
  },
  {
   "cell_type": "code",
   "execution_count": 6,
   "metadata": {},
   "outputs": [
    {
     "data": {
      "text/html": [
       "<div>\n",
       "<style scoped>\n",
       "    .dataframe tbody tr th:only-of-type {\n",
       "        vertical-align: middle;\n",
       "    }\n",
       "\n",
       "    .dataframe tbody tr th {\n",
       "        vertical-align: top;\n",
       "    }\n",
       "\n",
       "    .dataframe thead th {\n",
       "        text-align: right;\n",
       "    }\n",
       "</style>\n",
       "<table border=\"1\" class=\"dataframe\">\n",
       "  <thead>\n",
       "    <tr style=\"text-align: right;\">\n",
       "      <th></th>\n",
       "      <th>html_code</th>\n",
       "      <th>repu</th>\n",
       "    </tr>\n",
       "  </thead>\n",
       "  <tbody>\n",
       "    <tr>\n",
       "      <th>0</th>\n",
       "      <td>&lt;!DOCTYPE html&gt;\\n&lt;!--[if lt IE 7]&gt; &lt;html lang=...</td>\n",
       "      <td>malicious</td>\n",
       "    </tr>\n",
       "    <tr>\n",
       "      <th>1</th>\n",
       "      <td>\\n\\t\\n\\n\\n\\t\\n\\n\\t\\n\\n\\n\\t\\n\\n\\n\\t\\n\\n\\t\\n\\t\\t...</td>\n",
       "      <td>malicious</td>\n",
       "    </tr>\n",
       "    <tr>\n",
       "      <th>2</th>\n",
       "      <td>&lt;!DOCTYPE html&gt;\\n&lt;html lang=\"en\"&gt;\\n    &lt;head&gt;\\...</td>\n",
       "      <td>malicious</td>\n",
       "    </tr>\n",
       "    <tr>\n",
       "      <th>3</th>\n",
       "      <td>&lt;!DOCTYPE html&gt;&lt;html lang=\"en\"&gt;&lt;head&gt;&lt;style da...</td>\n",
       "      <td>malicious</td>\n",
       "    </tr>\n",
       "    <tr>\n",
       "      <th>4</th>\n",
       "      <td>&lt;!DOCTYPE html&gt;\\n\\n\\n    \\n    \\n    \\n    \\n ...</td>\n",
       "      <td>malicious</td>\n",
       "    </tr>\n",
       "  </tbody>\n",
       "</table>\n",
       "</div>"
      ],
      "text/plain": [
       "                                           html_code       repu\n",
       "0  <!DOCTYPE html>\\n<!--[if lt IE 7]> <html lang=...  malicious\n",
       "1  \\n\\t\\n\\n\\n\\t\\n\\n\\t\\n\\n\\n\\t\\n\\n\\n\\t\\n\\n\\t\\n\\t\\t...  malicious\n",
       "2  <!DOCTYPE html>\\n<html lang=\"en\">\\n    <head>\\...  malicious\n",
       "3  <!DOCTYPE html><html lang=\"en\"><head><style da...  malicious\n",
       "4  <!DOCTYPE html>\\n\\n\\n    \\n    \\n    \\n    \\n ...  malicious"
      ]
     },
     "execution_count": 6,
     "metadata": {},
     "output_type": "execute_result"
    }
   ],
   "source": [
    "# 불러온 데이터를 확인합니다.\n",
    "df.head()"
   ]
  },
  {
   "cell_type": "markdown",
   "metadata": {},
   "source": [
    "---\n",
    "# <b>Step 1. 데이터 수집\n",
    "\n",
    "### 주어진 데이터로만 모델링 하는 경우는 드뭅니다.\n",
    "### 주어진 데이터 외 추가로 데이터를 수집 또는 생성해야 하는 경우가 많습니다.\n",
    "### 이번 과정에서는 웹 크롤러를 통해 수집된 정상/악성 사이트 HTML 데이터에서\n",
    "### BeatifulSoup 라이브러리를 활용 필요한 Feature(특징)를 추출해 보도록 하겠습니다.\n",
    "### 정상/악성 사이트 HTML Code는 사전에 수집하여 'Feature Website.xlsx' 파일에 저장해 두었습니다.\n"
   ]
  },
  {
   "cell_type": "markdown",
   "metadata": {},
   "source": [
    "### <span style=\"color:blue\">[예시] Beatuifulsoup 라이브러리를 활용 HTML code를 출력하고 \\<title> 태그 길이를 계산합니다.<span>"
   ]
  },
  {
   "cell_type": "code",
   "execution_count": 7,
   "metadata": {},
   "outputs": [],
   "source": [
    "from bs4 import BeautifulSoup\n",
    "\n",
    "#데이터프레임의 첫번째 행 불러옴\n",
    "soup = BeautifulSoup(df['html_code'][0], 'html.parser')"
   ]
  },
  {
   "cell_type": "markdown",
   "metadata": {},
   "source": [
    "*<span style=\"color:blue\"> html code 출력<span>"
   ]
  },
  {
   "cell_type": "code",
   "execution_count": 8,
   "metadata": {},
   "outputs": [
    {
     "name": "stdout",
     "output_type": "stream",
     "text": [
      "<!DOCTYPE html>\n",
      "\n",
      "<!--[if lt IE 7]> <html lang=\"en-us\" class=\"a-no-js a-lt-ie9 a-lt-ie8 a-lt-ie7\"> <![endif]-->\n",
      "<!--[if IE 7]>    <html lang=\"en-us\" class=\"a-no-js a-lt-ie9 a-lt-ie8\"> <![endif]-->\n",
      "<!--[if IE 8]>    <html lang=\"en-us\" class=\"a-no-js a-lt-ie9\"> <![endif]-->\n",
      "<!--[if gt IE 8]><!-->\n",
      "<html class=\"a-no-js\" lang=\"en-us\"><!--<![endif]--><head>\n",
      "<meta content=\"text/html; charset=utf-8\" http-equiv=\"content-type\"/>\n",
      "<meta charset=\"utf-8\"/>\n",
      "<meta content=\"IE=edge,chrome=1\" http-equiv=\"X-UA-Compatible\"/>\n",
      "<title dir=\"ltr\">Amazon.com</title>\n",
      "<meta content=\"width=device-width\" name=\"viewport\"/>\n",
      "<link href=\"https://images-na.ssl-images-amazon.com/images/G/01/AUIClients/AmazonUI-3c913031596ca78a3768f4e934b1cc02ce238101.secure.min._V1_.css\" rel=\"stylesheet\"/>\n",
      "<script>\n",
      "\n",
      "if (true === true) {\n",
      "    var ue_t0 = (+ new Date()),\n",
      "        ue_csm = window,\n",
      "        ue = { t0: ue_t0, d: function() { return (+new Date() - ue_t0); } },\n",
      "        ue_furl = \"fls-na.amazon.com\",\n",
      "        ue_mid = \"ATVPDKIKX0DER\",\n",
      "        ue_sid = (document.cookie.match(/session-id=([0-9-]+)/) || [])[1],\n",
      "        ue_sn = \"opfcaptcha.amazon.com\",\n",
      "        ue_id = 'BY6PY7346W2THV0MAFYZ';\n",
      "}\n",
      "</script>\n",
      "</head>\n",
      "<body>\n",
      "<!--\n",
      "        To discuss automated access to Amazon data please contact api-services-support@amazon.com.\n",
      "        For information about migrating to our APIs refer to our Marketplace APIs at https://developer.amazonservices.com/ref=rm_c_sv, or our Product Advertising API at https://affiliate-program.amazon.com/gp/advertising/api/detail/main.html/ref=rm_c_ac for advertising use cases.\n",
      "-->\n",
      "<!--\n",
      "Correios.DoNotSend\n",
      "-->\n",
      "<div class=\"a-container a-padding-double-large\" style=\"min-width:350px;padding:44px 0 !important\">\n",
      "<div class=\"a-row a-spacing-double-large\" style=\"width: 350px; margin: 0 auto\">\n",
      "<div class=\"a-row a-spacing-medium a-text-center\"><i class=\"a-icon a-logo\"></i></div>\n",
      "<div class=\"a-box a-alert a-alert-info a-spacing-base\">\n",
      "<div class=\"a-box-inner\">\n",
      "<i class=\"a-icon a-icon-alert\"></i>\n",
      "<h4>Enter the characters you see below</h4>\n",
      "<p class=\"a-last\">Sorry, we just need to make sure you're not a robot. For best results, please make sure your browser is accepting cookies.</p>\n",
      "</div>\n",
      "</div>\n",
      "<div class=\"a-section\">\n",
      "<div class=\"a-box a-color-offset-background\">\n",
      "<div class=\"a-box-inner a-padding-extra-large\">\n",
      "<form action=\"/errors/validateCaptcha\" method=\"get\" name=\"\">\n",
      "<input name=\"amzn\" type=\"hidden\" value=\"l4ZbaPUKjIME467w2sDxhg==\"/><input name=\"amzn-r\" type=\"hidden\" value=\"/\"/>\n",
      "<div class=\"a-row a-spacing-large\">\n",
      "<div class=\"a-box\">\n",
      "<div class=\"a-box-inner\">\n",
      "<h4>Type the characters you see in this image:</h4>\n",
      "<div class=\"a-row a-text-center\">\n",
      "<img src=\"https://images-na.ssl-images-amazon.com/captcha/wxvwzfzh/Captcha_tujfcmjndm.jpg\"/>\n",
      "</div>\n",
      "<div class=\"a-row a-spacing-base\">\n",
      "<div class=\"a-row\">\n",
      "<div class=\"a-column a-span6\">\n",
      "</div>\n",
      "<div class=\"a-column a-span6 a-span-last a-text-right\">\n",
      "<a onclick=\"window.location.reload()\">Try different image</a>\n",
      "</div>\n",
      "</div>\n",
      "<input autocapitalize=\"off\" autocomplete=\"off\" autocorrect=\"off\" class=\"a-span12\" id=\"captchacharacters\" name=\"field-keywords\" placeholder=\"Type characters\" spellcheck=\"false\" type=\"text\"/>\n",
      "</div>\n",
      "</div>\n",
      "</div>\n",
      "</div>\n",
      "<div class=\"a-section a-spacing-extra-large\">\n",
      "<div class=\"a-row\">\n",
      "<span class=\"a-button a-button-primary a-span12\">\n",
      "<span class=\"a-button-inner\">\n",
      "<button class=\"a-button-text\" type=\"submit\">Continue shopping</button>\n",
      "</span>\n",
      "</span>\n",
      "</div>\n",
      "</div>\n",
      "</form>\n",
      "</div>\n",
      "</div>\n",
      "</div>\n",
      "</div>\n",
      "<div class=\"a-divider a-divider-section\"><div class=\"a-divider-inner\"></div></div>\n",
      "<div class=\"a-text-center a-spacing-small a-size-mini\">\n",
      "<a href=\"https://www.amazon.com/gp/help/customer/display.html/ref=footer_cou?ie=UTF8&amp;nodeId=508088\">Conditions of Use</a>\n",
      "<span class=\"a-letter-space\"></span>\n",
      "<span class=\"a-letter-space\"></span>\n",
      "<span class=\"a-letter-space\"></span>\n",
      "<span class=\"a-letter-space\"></span>\n",
      "<a href=\"https://www.amazon.com/gp/help/customer/display.html/ref=footer_privacy?ie=UTF8&amp;nodeId=468496\">Privacy Policy</a>\n",
      "</div>\n",
      "<div class=\"a-text-center a-size-mini a-color-secondary\">\n",
      "          © 1996-2014, Amazon.com, Inc. or its affiliates\n",
      "          <script>\n",
      "           if (true === true) {\n",
      "             document.write('<img src=\"https://fls-na.amaz'+'on.com/'+'1/oc-csi/1/OP/requestId=BY6PY7346W2THV0MAFYZ&js=1\" />');\n",
      "           };\n",
      "          </script>\n",
      "<noscript>\n",
      "<img src=\"https://fls-na.amazon.com/1/oc-csi/1/OP/requestId=BY6PY7346W2THV0MAFYZ&amp;js=0\">\n",
      "</img></noscript>\n",
      "</div>\n",
      "</div>\n",
      "<script>\n",
      "    if (true === true) {\n",
      "        var head = document.getElementsByTagName('head')[0],\n",
      "            prefix = \"https://images-na.ssl-images-amazon.com/images/G/01/csminstrumentation/\",\n",
      "            elem = document.createElement(\"script\");\n",
      "        elem.src = prefix + \"csm-captcha-instrumentation.min.js\";\n",
      "        head.appendChild(elem);\n",
      "\n",
      "        elem = document.createElement(\"script\");\n",
      "        elem.src = prefix + \"rd-script-6d68177fa6061598e9509dc4b5bdd08d.js\";\n",
      "        head.appendChild(elem);\n",
      "    }\n",
      "    </script>\n",
      "</body></html>\n",
      "\n"
     ]
    }
   ],
   "source": [
    "print(soup)\n",
    "\n",
    "# html 코드를 트리 구조로 보여주는 것"
   ]
  },
  {
   "cell_type": "markdown",
   "metadata": {},
   "source": [
    "* <span style=\"color:blue\"> \\<title> 태그 출력 및 길이 계산<span>"
   ]
  },
  {
   "cell_type": "code",
   "execution_count": null,
   "metadata": {},
   "outputs": [
    {
     "name": "stdout",
     "output_type": "stream",
     "text": [
      "* title : <title dir=\"ltr\">Amazon.com</title>\n",
      "* title 길이 : 10\n"
     ]
    }
   ],
   "source": [
    "# <title> 태그 출력\n",
    "print(\"* title :\",soup.head.title)\n",
    "\n",
    "# <title> 태그 길이 출력\n",
    "print(\"* title 길이 :\", len(str(soup.head.title.getText())))\n",
    "\n",
    "#title 길이를 feature로 사용할 것임"
   ]
  },
  {
   "cell_type": "code",
   "execution_count": 14,
   "metadata": {},
   "outputs": [],
   "source": [
    "def title_length(soup):\n",
    "    try:\n",
    "        return(len(str(soup.head.title.getText())))\n",
    "    except: #title이 안찍혀있을 경우\n",
    "        return 0.0"
   ]
  },
  {
   "cell_type": "code",
   "execution_count": 16,
   "metadata": {},
   "outputs": [],
   "source": [
    "title_len = []\n",
    "for index, row in df.iterrows() :\n",
    "    soup = BeautifulSoup(row.html_code, 'html.parser')\n",
    "    title_len.append(title_length(soup))\n",
    "# 하나하나 행의 html코드를 잘라서 soup에 넣고\n",
    "# 제목 길이를 뽑아 title_len에 넣는다."
   ]
  },
  {
   "cell_type": "code",
   "execution_count": 17,
   "metadata": {},
   "outputs": [],
   "source": [
    "df['title_length'] = title_len"
   ]
  },
  {
   "cell_type": "code",
   "execution_count": 18,
   "metadata": {},
   "outputs": [
    {
     "data": {
      "text/html": [
       "<div>\n",
       "<style scoped>\n",
       "    .dataframe tbody tr th:only-of-type {\n",
       "        vertical-align: middle;\n",
       "    }\n",
       "\n",
       "    .dataframe tbody tr th {\n",
       "        vertical-align: top;\n",
       "    }\n",
       "\n",
       "    .dataframe thead th {\n",
       "        text-align: right;\n",
       "    }\n",
       "</style>\n",
       "<table border=\"1\" class=\"dataframe\">\n",
       "  <thead>\n",
       "    <tr style=\"text-align: right;\">\n",
       "      <th></th>\n",
       "      <th>html_code</th>\n",
       "      <th>repu</th>\n",
       "      <th>title_length</th>\n",
       "      <th>script_length</th>\n",
       "    </tr>\n",
       "  </thead>\n",
       "  <tbody>\n",
       "    <tr>\n",
       "      <th>0</th>\n",
       "      <td>&lt;!DOCTYPE html&gt;\\n&lt;!--[if lt IE 7]&gt; &lt;html lang=...</td>\n",
       "      <td>malicious</td>\n",
       "      <td>10.0</td>\n",
       "      <td>0.0</td>\n",
       "    </tr>\n",
       "    <tr>\n",
       "      <th>1</th>\n",
       "      <td>\\n\\t\\n\\n\\n\\t\\n\\n\\t\\n\\n\\n\\t\\n\\n\\n\\t\\n\\n\\t\\n\\t\\t...</td>\n",
       "      <td>malicious</td>\n",
       "      <td>5.0</td>\n",
       "      <td>0.0</td>\n",
       "    </tr>\n",
       "    <tr>\n",
       "      <th>2</th>\n",
       "      <td>&lt;!DOCTYPE html&gt;\\n&lt;html lang=\"en\"&gt;\\n    &lt;head&gt;\\...</td>\n",
       "      <td>malicious</td>\n",
       "      <td>71.0</td>\n",
       "      <td>0.0</td>\n",
       "    </tr>\n",
       "    <tr>\n",
       "      <th>3</th>\n",
       "      <td>&lt;!DOCTYPE html&gt;&lt;html lang=\"en\"&gt;&lt;head&gt;&lt;style da...</td>\n",
       "      <td>malicious</td>\n",
       "      <td>0.0</td>\n",
       "      <td>0.0</td>\n",
       "    </tr>\n",
       "    <tr>\n",
       "      <th>4</th>\n",
       "      <td>&lt;!DOCTYPE html&gt;\\n\\n\\n    \\n    \\n    \\n    \\n ...</td>\n",
       "      <td>malicious</td>\n",
       "      <td>27.0</td>\n",
       "      <td>0.0</td>\n",
       "    </tr>\n",
       "  </tbody>\n",
       "</table>\n",
       "</div>"
      ],
      "text/plain": [
       "                                           html_code       repu  title_length  \\\n",
       "0  <!DOCTYPE html>\\n<!--[if lt IE 7]> <html lang=...  malicious          10.0   \n",
       "1  \\n\\t\\n\\n\\n\\t\\n\\n\\t\\n\\n\\n\\t\\n\\n\\n\\t\\n\\n\\t\\n\\t\\t...  malicious           5.0   \n",
       "2  <!DOCTYPE html>\\n<html lang=\"en\">\\n    <head>\\...  malicious          71.0   \n",
       "3  <!DOCTYPE html><html lang=\"en\"><head><style da...  malicious           0.0   \n",
       "4  <!DOCTYPE html>\\n\\n\\n    \\n    \\n    \\n    \\n ...  malicious          27.0   \n",
       "\n",
       "   script_length  \n",
       "0            0.0  \n",
       "1            0.0  \n",
       "2            0.0  \n",
       "3            0.0  \n",
       "4            0.0  "
      ]
     },
     "execution_count": 18,
     "metadata": {},
     "output_type": "execute_result"
    }
   ],
   "source": [
    "df.head() #title의 길이가 "
   ]
  },
  {
   "cell_type": "markdown",
   "metadata": {},
   "source": [
    "---"
   ]
  },
  {
   "cell_type": "markdown",
   "metadata": {},
   "source": [
    "## <b>Q2. html 에서 \\<script>...\\</script> 태그 길이 계산\n",
    "- BeautifulSoup으로 html소스를 python 객체로 변환\n",
    "- 함수로 구현하기\n",
    "- float으로 return 받기"
   ]
  },
  {
   "cell_type": "markdown",
   "metadata": {},
   "source": [
    "### <span style=\"color:darkred\">[문제2] Beatuifulsoup 라이브러리를 활용 HTML code에서 \\<script> 태그 길이를 계산하는 함수를 완성하고 결과를 확인하세요.<span>"
   ]
  },
  {
   "cell_type": "code",
   "execution_count": 57,
   "metadata": {},
   "outputs": [
    {
     "name": "stdout",
     "output_type": "stream",
     "text": [
      "* script : <script>function createPerformanceMark(e){void 0!==window.performance&&void 0!==window.performance.mark&&performance.mark(e)}function createPerformanceMeasure(e,r,o){void 0!==window.performance&&void 0!==window.performance.measure&&performance.measure(e,r,o)}</script>\n",
      "* script 길이 : 268\n"
     ]
    }
   ],
   "source": [
    "print(\"* script :\",soup.head.script)\n",
    "\n",
    "# <script> 태그 길이 출력\n",
    "print(\"* script 길이 :\", len(str(soup.head.script)))"
   ]
  },
  {
   "cell_type": "code",
   "execution_count": 158,
   "metadata": {},
   "outputs": [],
   "source": [
    "# Feature(특징) 데이터를 추출는 함수를 작성합니다.\n",
    "def head_script_length(soup) : #soup 객체\n",
    "    try:\n",
    "        return (len(str(soup.head.script)))\n",
    "    except:\n",
    "        return 0.0\n"
   ]
  },
  {
   "cell_type": "code",
   "execution_count": 66,
   "metadata": {},
   "outputs": [],
   "source": [
    "# 데이터 프레임의 html_code 컬럼에서 Feature(특징) 데이터를 추출합니다.\n",
    "head_script_len = []\n",
    "for index, row in df.iterrows() :\n",
    "    soup = BeautifulSoup(row.html_code, 'html.parser')\n",
    "    head_script_len.append(head_script_length(soup))\n"
   ]
  },
  {
   "cell_type": "code",
   "execution_count": 67,
   "metadata": {},
   "outputs": [],
   "source": [
    "# 추출한 Feature(특징) 데이터를 확인합니다.\n",
    "df['head_script_length'] = head_script_len\n"
   ]
  },
  {
   "cell_type": "code",
   "execution_count": 166,
   "metadata": {
    "scrolled": false
   },
   "outputs": [],
   "source": [
    "df = df.rename(columns={\n",
    "    'head_script_length': 'script_length'\n",
    "})"
   ]
  },
  {
   "cell_type": "code",
   "execution_count": 167,
   "metadata": {
    "scrolled": true
   },
   "outputs": [
    {
     "data": {
      "text/html": [
       "<div>\n",
       "<style scoped>\n",
       "    .dataframe tbody tr th:only-of-type {\n",
       "        vertical-align: middle;\n",
       "    }\n",
       "\n",
       "    .dataframe tbody tr th {\n",
       "        vertical-align: top;\n",
       "    }\n",
       "\n",
       "    .dataframe thead th {\n",
       "        text-align: right;\n",
       "    }\n",
       "</style>\n",
       "<table border=\"1\" class=\"dataframe\">\n",
       "  <thead>\n",
       "    <tr style=\"text-align: right;\">\n",
       "      <th></th>\n",
       "      <th>html_code</th>\n",
       "      <th>repu</th>\n",
       "      <th>title_length</th>\n",
       "      <th>script_length</th>\n",
       "      <th>body_script_length</th>\n",
       "      <th>body_length</th>\n",
       "      <th>body_space</th>\n",
       "      <th>script_src_href</th>\n",
       "    </tr>\n",
       "  </thead>\n",
       "  <tbody>\n",
       "    <tr>\n",
       "      <th>0</th>\n",
       "      <td>&lt;!DOCTYPE html&gt;\\n&lt;!--[if lt IE 7]&gt; &lt;html lang=...</td>\n",
       "      <td>malicious</td>\n",
       "      <td>10.0</td>\n",
       "      <td>405</td>\n",
       "      <td>202.0</td>\n",
       "      <td>3836</td>\n",
       "      <td>65</td>\n",
       "      <td>0</td>\n",
       "    </tr>\n",
       "    <tr>\n",
       "      <th>1</th>\n",
       "      <td>\\n\\t\\n\\n\\n\\t\\n\\n\\t\\n\\n\\n\\t\\n\\n\\n\\t\\n\\n\\t\\n\\t\\t...</td>\n",
       "      <td>malicious</td>\n",
       "      <td>5.0</td>\n",
       "      <td>579</td>\n",
       "      <td>98.0</td>\n",
       "      <td>15268</td>\n",
       "      <td>87</td>\n",
       "      <td>0</td>\n",
       "    </tr>\n",
       "    <tr>\n",
       "      <th>2</th>\n",
       "      <td>&lt;!DOCTYPE html&gt;\\n&lt;html lang=\"en\"&gt;\\n    &lt;head&gt;\\...</td>\n",
       "      <td>malicious</td>\n",
       "      <td>71.0</td>\n",
       "      <td>817</td>\n",
       "      <td>4.0</td>\n",
       "      <td>16542</td>\n",
       "      <td>199</td>\n",
       "      <td>0</td>\n",
       "    </tr>\n",
       "    <tr>\n",
       "      <th>3</th>\n",
       "      <td>&lt;!DOCTYPE html&gt;&lt;html lang=\"en\"&gt;&lt;head&gt;&lt;style da...</td>\n",
       "      <td>malicious</td>\n",
       "      <td>0.0</td>\n",
       "      <td>4</td>\n",
       "      <td>0.0</td>\n",
       "      <td>4</td>\n",
       "      <td>0</td>\n",
       "      <td>0</td>\n",
       "    </tr>\n",
       "    <tr>\n",
       "      <th>4</th>\n",
       "      <td>&lt;!DOCTYPE html&gt;\\n\\n\\n    \\n    \\n    \\n    \\n ...</td>\n",
       "      <td>malicious</td>\n",
       "      <td>27.0</td>\n",
       "      <td>425</td>\n",
       "      <td>4.0</td>\n",
       "      <td>20314</td>\n",
       "      <td>1808</td>\n",
       "      <td>0</td>\n",
       "    </tr>\n",
       "  </tbody>\n",
       "</table>\n",
       "</div>"
      ],
      "text/plain": [
       "                                           html_code       repu  title_length  \\\n",
       "0  <!DOCTYPE html>\\n<!--[if lt IE 7]> <html lang=...  malicious          10.0   \n",
       "1  \\n\\t\\n\\n\\n\\t\\n\\n\\t\\n\\n\\n\\t\\n\\n\\n\\t\\n\\n\\t\\n\\t\\t...  malicious           5.0   \n",
       "2  <!DOCTYPE html>\\n<html lang=\"en\">\\n    <head>\\...  malicious          71.0   \n",
       "3  <!DOCTYPE html><html lang=\"en\"><head><style da...  malicious           0.0   \n",
       "4  <!DOCTYPE html>\\n\\n\\n    \\n    \\n    \\n    \\n ...  malicious          27.0   \n",
       "\n",
       "   script_length  body_script_length  body_length  body_space  script_src_href  \n",
       "0            405               202.0         3836          65                0  \n",
       "1            579                98.0        15268          87                0  \n",
       "2            817                 4.0        16542         199                0  \n",
       "3              4                 0.0            4           0                0  \n",
       "4            425                 4.0        20314        1808                0  "
      ]
     },
     "execution_count": 167,
     "metadata": {},
     "output_type": "execute_result"
    }
   ],
   "source": [
    "df.head()"
   ]
  },
  {
   "cell_type": "code",
   "execution_count": 168,
   "metadata": {},
   "outputs": [],
   "source": [
    "df.drop(columns=['body_script_length'], axis=1, inplace=True)"
   ]
  },
  {
   "cell_type": "code",
   "execution_count": 69,
   "metadata": {},
   "outputs": [],
   "source": [
    "def body_script_length(soup) :\n",
    "    try:\n",
    "        return (len(str(soup.body.script)))\n",
    "    except:\n",
    "        return 0.0\n",
    "    \n",
    "body_script_len = []\n",
    "for index, row in df.iterrows() :\n",
    "    soup = BeautifulSoup(row.html_code, 'html.parser')\n",
    "    body_script_len.append(body_script_length(soup))\n",
    "    \n",
    "# 추출한 Feature(특징) 데이터를 확인합니다.\n",
    "df['body_script_length'] = body_script_len"
   ]
  },
  {
   "cell_type": "code",
   "execution_count": 169,
   "metadata": {},
   "outputs": [
    {
     "data": {
      "text/html": [
       "<div>\n",
       "<style scoped>\n",
       "    .dataframe tbody tr th:only-of-type {\n",
       "        vertical-align: middle;\n",
       "    }\n",
       "\n",
       "    .dataframe tbody tr th {\n",
       "        vertical-align: top;\n",
       "    }\n",
       "\n",
       "    .dataframe thead th {\n",
       "        text-align: right;\n",
       "    }\n",
       "</style>\n",
       "<table border=\"1\" class=\"dataframe\">\n",
       "  <thead>\n",
       "    <tr style=\"text-align: right;\">\n",
       "      <th></th>\n",
       "      <th>html_code</th>\n",
       "      <th>repu</th>\n",
       "      <th>title_length</th>\n",
       "      <th>script_length</th>\n",
       "      <th>body_length</th>\n",
       "      <th>body_space</th>\n",
       "      <th>script_src_href</th>\n",
       "    </tr>\n",
       "  </thead>\n",
       "  <tbody>\n",
       "    <tr>\n",
       "      <th>0</th>\n",
       "      <td>&lt;!DOCTYPE html&gt;\\n&lt;!--[if lt IE 7]&gt; &lt;html lang=...</td>\n",
       "      <td>malicious</td>\n",
       "      <td>10.0</td>\n",
       "      <td>405</td>\n",
       "      <td>3836</td>\n",
       "      <td>65</td>\n",
       "      <td>0</td>\n",
       "    </tr>\n",
       "    <tr>\n",
       "      <th>1</th>\n",
       "      <td>\\n\\t\\n\\n\\n\\t\\n\\n\\t\\n\\n\\n\\t\\n\\n\\n\\t\\n\\n\\t\\n\\t\\t...</td>\n",
       "      <td>malicious</td>\n",
       "      <td>5.0</td>\n",
       "      <td>579</td>\n",
       "      <td>15268</td>\n",
       "      <td>87</td>\n",
       "      <td>0</td>\n",
       "    </tr>\n",
       "    <tr>\n",
       "      <th>2</th>\n",
       "      <td>&lt;!DOCTYPE html&gt;\\n&lt;html lang=\"en\"&gt;\\n    &lt;head&gt;\\...</td>\n",
       "      <td>malicious</td>\n",
       "      <td>71.0</td>\n",
       "      <td>817</td>\n",
       "      <td>16542</td>\n",
       "      <td>199</td>\n",
       "      <td>0</td>\n",
       "    </tr>\n",
       "    <tr>\n",
       "      <th>3</th>\n",
       "      <td>&lt;!DOCTYPE html&gt;&lt;html lang=\"en\"&gt;&lt;head&gt;&lt;style da...</td>\n",
       "      <td>malicious</td>\n",
       "      <td>0.0</td>\n",
       "      <td>4</td>\n",
       "      <td>4</td>\n",
       "      <td>0</td>\n",
       "      <td>0</td>\n",
       "    </tr>\n",
       "    <tr>\n",
       "      <th>4</th>\n",
       "      <td>&lt;!DOCTYPE html&gt;\\n\\n\\n    \\n    \\n    \\n    \\n ...</td>\n",
       "      <td>malicious</td>\n",
       "      <td>27.0</td>\n",
       "      <td>425</td>\n",
       "      <td>20314</td>\n",
       "      <td>1808</td>\n",
       "      <td>0</td>\n",
       "    </tr>\n",
       "  </tbody>\n",
       "</table>\n",
       "</div>"
      ],
      "text/plain": [
       "                                           html_code       repu  title_length  \\\n",
       "0  <!DOCTYPE html>\\n<!--[if lt IE 7]> <html lang=...  malicious          10.0   \n",
       "1  \\n\\t\\n\\n\\n\\t\\n\\n\\t\\n\\n\\n\\t\\n\\n\\n\\t\\n\\n\\t\\n\\t\\t...  malicious           5.0   \n",
       "2  <!DOCTYPE html>\\n<html lang=\"en\">\\n    <head>\\...  malicious          71.0   \n",
       "3  <!DOCTYPE html><html lang=\"en\"><head><style da...  malicious           0.0   \n",
       "4  <!DOCTYPE html>\\n\\n\\n    \\n    \\n    \\n    \\n ...  malicious          27.0   \n",
       "\n",
       "   script_length  body_length  body_space  script_src_href  \n",
       "0            405         3836          65                0  \n",
       "1            579        15268          87                0  \n",
       "2            817        16542         199                0  \n",
       "3              4            4           0                0  \n",
       "4            425        20314        1808                0  "
      ]
     },
     "execution_count": 169,
     "metadata": {},
     "output_type": "execute_result"
    }
   ],
   "source": [
    "df.head()"
   ]
  },
  {
   "cell_type": "markdown",
   "metadata": {},
   "source": [
    "---"
   ]
  },
  {
   "cell_type": "markdown",
   "metadata": {},
   "source": [
    "## <b>Q3. html에서 공백 수 계산\n",
    "\n",
    "- BeautifulSoup으로 html소스를 python 객체로 변환\n",
    "- 함수로 구현하기\n",
    "- float으로 return 받기"
   ]
  },
  {
   "cell_type": "markdown",
   "metadata": {},
   "source": [
    "### <span style=\"color:darkred\">[문제3] Beatuifulsoup 라이브러리를 활용 HTML Code에서 \\<html> 태그 공백 수를 계산하는 함수를 완성하고 결과를 확인하세요.<span>"
   ]
  },
  {
   "cell_type": "code",
   "execution_count": 119,
   "metadata": {},
   "outputs": [
    {
     "name": "stdout",
     "output_type": "stream",
     "text": [
      "* script : None\n",
      "* script 길이 : 4\n"
     ]
    }
   ],
   "source": [
    "print(\"* script :\", soup.body)\n",
    "\n",
    "# <script> 태그 길이 출력\n",
    "print(\"* script 길이 :\", str(soup.getText()).count(' '))"
   ]
  },
  {
   "cell_type": "code",
   "execution_count": 170,
   "metadata": {},
   "outputs": [],
   "source": [
    "# Feature(특징) 데이터를 추출하는 함수를 작성합니다.\n",
    "def body_space(soup):\n",
    "    try:\n",
    "        return soup.body.text.count(' ')\n",
    "    except:\n",
    "        return 0.0\n",
    "    "
   ]
  },
  {
   "cell_type": "code",
   "execution_count": 171,
   "metadata": {},
   "outputs": [],
   "source": [
    "# 데이터 프레임의 html_code 컬럼에서 Feature(특징) 데이터를 추출합니다.\n",
    "body_spaces = []\n",
    "for index, row in df.iterrows():\n",
    "    soup = BeautifulSoup(row.html_code, 'html.parser')\n",
    "    body_spaces.append(body_space(soup))\n"
   ]
  },
  {
   "cell_type": "code",
   "execution_count": 172,
   "metadata": {},
   "outputs": [],
   "source": [
    "df['body_space']=body_spaces"
   ]
  },
  {
   "cell_type": "code",
   "execution_count": 173,
   "metadata": {},
   "outputs": [
    {
     "data": {
      "text/html": [
       "<div>\n",
       "<style scoped>\n",
       "    .dataframe tbody tr th:only-of-type {\n",
       "        vertical-align: middle;\n",
       "    }\n",
       "\n",
       "    .dataframe tbody tr th {\n",
       "        vertical-align: top;\n",
       "    }\n",
       "\n",
       "    .dataframe thead th {\n",
       "        text-align: right;\n",
       "    }\n",
       "</style>\n",
       "<table border=\"1\" class=\"dataframe\">\n",
       "  <thead>\n",
       "    <tr style=\"text-align: right;\">\n",
       "      <th></th>\n",
       "      <th>html_code</th>\n",
       "      <th>repu</th>\n",
       "      <th>title_length</th>\n",
       "      <th>script_length</th>\n",
       "      <th>body_length</th>\n",
       "      <th>body_space</th>\n",
       "      <th>script_src_href</th>\n",
       "    </tr>\n",
       "  </thead>\n",
       "  <tbody>\n",
       "    <tr>\n",
       "      <th>0</th>\n",
       "      <td>&lt;!DOCTYPE html&gt;\\n&lt;!--[if lt IE 7]&gt; &lt;html lang=...</td>\n",
       "      <td>malicious</td>\n",
       "      <td>10.0</td>\n",
       "      <td>405</td>\n",
       "      <td>3836</td>\n",
       "      <td>65.0</td>\n",
       "      <td>0</td>\n",
       "    </tr>\n",
       "    <tr>\n",
       "      <th>1</th>\n",
       "      <td>\\n\\t\\n\\n\\n\\t\\n\\n\\t\\n\\n\\n\\t\\n\\n\\n\\t\\n\\n\\t\\n\\t\\t...</td>\n",
       "      <td>malicious</td>\n",
       "      <td>5.0</td>\n",
       "      <td>579</td>\n",
       "      <td>15268</td>\n",
       "      <td>87.0</td>\n",
       "      <td>0</td>\n",
       "    </tr>\n",
       "    <tr>\n",
       "      <th>2</th>\n",
       "      <td>&lt;!DOCTYPE html&gt;\\n&lt;html lang=\"en\"&gt;\\n    &lt;head&gt;\\...</td>\n",
       "      <td>malicious</td>\n",
       "      <td>71.0</td>\n",
       "      <td>817</td>\n",
       "      <td>16542</td>\n",
       "      <td>190.0</td>\n",
       "      <td>0</td>\n",
       "    </tr>\n",
       "    <tr>\n",
       "      <th>3</th>\n",
       "      <td>&lt;!DOCTYPE html&gt;&lt;html lang=\"en\"&gt;&lt;head&gt;&lt;style da...</td>\n",
       "      <td>malicious</td>\n",
       "      <td>0.0</td>\n",
       "      <td>4</td>\n",
       "      <td>4</td>\n",
       "      <td>0.0</td>\n",
       "      <td>0</td>\n",
       "    </tr>\n",
       "    <tr>\n",
       "      <th>4</th>\n",
       "      <td>&lt;!DOCTYPE html&gt;\\n\\n\\n    \\n    \\n    \\n    \\n ...</td>\n",
       "      <td>malicious</td>\n",
       "      <td>27.0</td>\n",
       "      <td>425</td>\n",
       "      <td>20314</td>\n",
       "      <td>1802.0</td>\n",
       "      <td>0</td>\n",
       "    </tr>\n",
       "  </tbody>\n",
       "</table>\n",
       "</div>"
      ],
      "text/plain": [
       "                                           html_code       repu  title_length  \\\n",
       "0  <!DOCTYPE html>\\n<!--[if lt IE 7]> <html lang=...  malicious          10.0   \n",
       "1  \\n\\t\\n\\n\\n\\t\\n\\n\\t\\n\\n\\n\\t\\n\\n\\n\\t\\n\\n\\t\\n\\t\\t...  malicious           5.0   \n",
       "2  <!DOCTYPE html>\\n<html lang=\"en\">\\n    <head>\\...  malicious          71.0   \n",
       "3  <!DOCTYPE html><html lang=\"en\"><head><style da...  malicious           0.0   \n",
       "4  <!DOCTYPE html>\\n\\n\\n    \\n    \\n    \\n    \\n ...  malicious          27.0   \n",
       "\n",
       "   script_length  body_length  body_space  script_src_href  \n",
       "0            405         3836        65.0                0  \n",
       "1            579        15268        87.0                0  \n",
       "2            817        16542       190.0                0  \n",
       "3              4            4         0.0                0  \n",
       "4            425        20314      1802.0                0  "
      ]
     },
     "execution_count": 173,
     "metadata": {},
     "output_type": "execute_result"
    }
   ],
   "source": [
    "# 추출한 Feature(특징) 데이터를 확인합니다.\n",
    "df.head()"
   ]
  },
  {
   "cell_type": "markdown",
   "metadata": {},
   "source": [
    "---"
   ]
  },
  {
   "cell_type": "markdown",
   "metadata": {},
   "source": [
    "## <b>Q4. html 에서 body 길이 계산\n",
    "\n",
    "- BeautifulSoup으로 html소스를 python 객체로 변환\n",
    "- 함수로 구현하기\n",
    "- float으로 return 받기"
   ]
  },
  {
   "cell_type": "markdown",
   "metadata": {},
   "source": [
    "### <span style=\"color:darkred\">[문제4] Beatuifulsoup 라이브러리를 활용 HTML code에서 \\<body> 태그 길이를 계산하는 함수를 완성하고 결과를 확인하세요.<span>"
   ]
  },
  {
   "cell_type": "code",
   "execution_count": 175,
   "metadata": {},
   "outputs": [],
   "source": [
    "# Feature(특징) 데이터를 추출하는 함수를 작성합니다.\n",
    "def body_length(soup):\n",
    "    try:\n",
    "        return (len(str(soup.body.text)))\n",
    "    except:\n",
    "        return 0.0\n",
    "    "
   ]
  },
  {
   "cell_type": "code",
   "execution_count": 176,
   "metadata": {},
   "outputs": [],
   "source": [
    "# 데이터 프레임의 html_code 컬럼에서 Feature(특징) 데이터를 추출합니다.\n",
    "body_len = []\n",
    "for index, row in df.iterrows():\n",
    "    soup=BeautifulSoup(row.html_code, 'html.parser')\n",
    "    body_len.append(body_length(soup))\n",
    "df['body_length'] = body_len"
   ]
  },
  {
   "cell_type": "code",
   "execution_count": 177,
   "metadata": {},
   "outputs": [
    {
     "data": {
      "text/html": [
       "<div>\n",
       "<style scoped>\n",
       "    .dataframe tbody tr th:only-of-type {\n",
       "        vertical-align: middle;\n",
       "    }\n",
       "\n",
       "    .dataframe tbody tr th {\n",
       "        vertical-align: top;\n",
       "    }\n",
       "\n",
       "    .dataframe thead th {\n",
       "        text-align: right;\n",
       "    }\n",
       "</style>\n",
       "<table border=\"1\" class=\"dataframe\">\n",
       "  <thead>\n",
       "    <tr style=\"text-align: right;\">\n",
       "      <th></th>\n",
       "      <th>html_code</th>\n",
       "      <th>repu</th>\n",
       "      <th>title_length</th>\n",
       "      <th>script_length</th>\n",
       "      <th>body_length</th>\n",
       "      <th>body_space</th>\n",
       "      <th>script_src_href</th>\n",
       "    </tr>\n",
       "  </thead>\n",
       "  <tbody>\n",
       "    <tr>\n",
       "      <th>0</th>\n",
       "      <td>&lt;!DOCTYPE html&gt;\\n&lt;!--[if lt IE 7]&gt; &lt;html lang=...</td>\n",
       "      <td>malicious</td>\n",
       "      <td>10.0</td>\n",
       "      <td>405</td>\n",
       "      <td>402.0</td>\n",
       "      <td>65.0</td>\n",
       "      <td>0</td>\n",
       "    </tr>\n",
       "    <tr>\n",
       "      <th>1</th>\n",
       "      <td>\\n\\t\\n\\n\\n\\t\\n\\n\\t\\n\\n\\n\\t\\n\\n\\n\\t\\n\\n\\t\\n\\t\\t...</td>\n",
       "      <td>malicious</td>\n",
       "      <td>5.0</td>\n",
       "      <td>579</td>\n",
       "      <td>1041.0</td>\n",
       "      <td>87.0</td>\n",
       "      <td>0</td>\n",
       "    </tr>\n",
       "    <tr>\n",
       "      <th>2</th>\n",
       "      <td>&lt;!DOCTYPE html&gt;\\n&lt;html lang=\"en\"&gt;\\n    &lt;head&gt;\\...</td>\n",
       "      <td>malicious</td>\n",
       "      <td>71.0</td>\n",
       "      <td>817</td>\n",
       "      <td>433.0</td>\n",
       "      <td>190.0</td>\n",
       "      <td>0</td>\n",
       "    </tr>\n",
       "    <tr>\n",
       "      <th>3</th>\n",
       "      <td>&lt;!DOCTYPE html&gt;&lt;html lang=\"en\"&gt;&lt;head&gt;&lt;style da...</td>\n",
       "      <td>malicious</td>\n",
       "      <td>0.0</td>\n",
       "      <td>4</td>\n",
       "      <td>0.0</td>\n",
       "      <td>0.0</td>\n",
       "      <td>0</td>\n",
       "    </tr>\n",
       "    <tr>\n",
       "      <th>4</th>\n",
       "      <td>&lt;!DOCTYPE html&gt;\\n\\n\\n    \\n    \\n    \\n    \\n ...</td>\n",
       "      <td>malicious</td>\n",
       "      <td>27.0</td>\n",
       "      <td>425</td>\n",
       "      <td>2969.0</td>\n",
       "      <td>1802.0</td>\n",
       "      <td>0</td>\n",
       "    </tr>\n",
       "  </tbody>\n",
       "</table>\n",
       "</div>"
      ],
      "text/plain": [
       "                                           html_code       repu  title_length  \\\n",
       "0  <!DOCTYPE html>\\n<!--[if lt IE 7]> <html lang=...  malicious          10.0   \n",
       "1  \\n\\t\\n\\n\\n\\t\\n\\n\\t\\n\\n\\n\\t\\n\\n\\n\\t\\n\\n\\t\\n\\t\\t...  malicious           5.0   \n",
       "2  <!DOCTYPE html>\\n<html lang=\"en\">\\n    <head>\\...  malicious          71.0   \n",
       "3  <!DOCTYPE html><html lang=\"en\"><head><style da...  malicious           0.0   \n",
       "4  <!DOCTYPE html>\\n\\n\\n    \\n    \\n    \\n    \\n ...  malicious          27.0   \n",
       "\n",
       "   script_length  body_length  body_space  script_src_href  \n",
       "0            405        402.0        65.0                0  \n",
       "1            579       1041.0        87.0                0  \n",
       "2            817        433.0       190.0                0  \n",
       "3              4          0.0         0.0                0  \n",
       "4            425       2969.0      1802.0                0  "
      ]
     },
     "execution_count": 177,
     "metadata": {},
     "output_type": "execute_result"
    }
   ],
   "source": [
    "# 추출한 Feature(특징) 데이터를 확인합니다.\n",
    "\n",
    "df.head()"
   ]
  },
  {
   "cell_type": "markdown",
   "metadata": {},
   "source": [
    "---"
   ]
  },
  {
   "cell_type": "markdown",
   "metadata": {},
   "source": [
    "## <b>Q5. script 에서 src, href 속성을 가진 태그수\n",
    "\n",
    "- BeautifulSoup으로 html소스를 python 객체로 변환\n",
    "- 함수로 구현하기\n",
    "- float으로 return 받기"
   ]
  },
  {
   "cell_type": "markdown",
   "metadata": {},
   "source": [
    "### <span style=\"color:darkred\">[문제5] Beatuifulsoup 라이브러리를 활용 HTML code에서 \\<script> 태그에서 src, href 속성을 가진 태그수를 계산하는 함수를 완성하고 결과를 확인하세요. <span>\n"
   ]
  },
  {
   "cell_type": "code",
   "execution_count": 180,
   "metadata": {
    "scrolled": true
   },
   "outputs": [
    {
     "name": "stdout",
     "output_type": "stream",
     "text": [
      "268\n",
      "0\n"
     ]
    }
   ],
   "source": [
    "print(len(str(soup.script)))\n",
    "print(str(soup.script.attr).count('src'))\n",
    "\n"
   ]
  },
  {
   "cell_type": "code",
   "execution_count": 181,
   "metadata": {},
   "outputs": [],
   "source": [
    "# Feature(특징) 데이터를 추출하는 함수를 작성합니다.\n",
    "def script_src(soup):\n",
    "    try:\n",
    "        return str(soup.script.attr).count('src')\n",
    "    except:\n",
    "        return 0.0\n",
    "    \n",
    "def script_href(soup):\n",
    "    try:\n",
    "        return str(soup.script.attr).count('href')\n",
    "    except:\n",
    "        return 0.0"
   ]
  },
  {
   "cell_type": "code",
   "execution_count": 182,
   "metadata": {},
   "outputs": [],
   "source": [
    "# 데이터 프레임의 html_code 컬럼에서 Feature(특징) 데이터를 추출합니다\n",
    "src_len = []\n",
    "for index, row in df.iterrows():\n",
    "    soup=BeautifulSoup(row.html_code, 'html.parser')\n",
    "    src_len.append(script_src(soup))\n",
    "href_len = []\n",
    "for index, row in df.iterrows():\n",
    "    soup=BeautifulSoup(row.html_code, 'html.parser')\n",
    "    href_len.append(script_href(soup))"
   ]
  },
  {
   "cell_type": "code",
   "execution_count": 183,
   "metadata": {},
   "outputs": [],
   "source": [
    "src_len = pd.DataFrame(src_len)\n",
    "href_len = pd.DataFrame(href_len)"
   ]
  },
  {
   "cell_type": "code",
   "execution_count": 187,
   "metadata": {},
   "outputs": [
    {
     "data": {
      "text/plain": [
       "0     0.0\n",
       "1     0.0\n",
       "2     0.0\n",
       "3     0.0\n",
       "4     0.0\n",
       "5     0.0\n",
       "6     0.0\n",
       "7     0.0\n",
       "8     0.0\n",
       "9     0.0\n",
       "10    0.0\n",
       "11    0.0\n",
       "12    0.0\n",
       "13    0.0\n",
       "14    0.0\n",
       "15    0.0\n",
       "16    0.0\n",
       "17    0.0\n",
       "18    0.0\n",
       "19    0.0\n",
       "20    0.0\n",
       "21    0.0\n",
       "22    0.0\n",
       "23    0.0\n",
       "24    0.0\n",
       "25    0.0\n",
       "26    0.0\n",
       "27    0.0\n",
       "28    0.0\n",
       "29    0.0\n",
       "30    0.0\n",
       "31    0.0\n",
       "32    0.0\n",
       "33    0.0\n",
       "34    0.0\n",
       "35    0.0\n",
       "36    0.0\n",
       "37    0.0\n",
       "38    0.0\n",
       "39    0.0\n",
       "Name: 0, dtype: float64"
      ]
     },
     "execution_count": 187,
     "metadata": {},
     "output_type": "execute_result"
    }
   ],
   "source": [
    "src_len.iloc[:, 0]"
   ]
  },
  {
   "cell_type": "code",
   "execution_count": 188,
   "metadata": {},
   "outputs": [],
   "source": [
    "df['script_src_href'] = src_len.iloc[:, 0]+href_len.iloc[:, 0]"
   ]
  },
  {
   "cell_type": "code",
   "execution_count": 189,
   "metadata": {},
   "outputs": [
    {
     "data": {
      "text/html": [
       "<div>\n",
       "<style scoped>\n",
       "    .dataframe tbody tr th:only-of-type {\n",
       "        vertical-align: middle;\n",
       "    }\n",
       "\n",
       "    .dataframe tbody tr th {\n",
       "        vertical-align: top;\n",
       "    }\n",
       "\n",
       "    .dataframe thead th {\n",
       "        text-align: right;\n",
       "    }\n",
       "</style>\n",
       "<table border=\"1\" class=\"dataframe\">\n",
       "  <thead>\n",
       "    <tr style=\"text-align: right;\">\n",
       "      <th></th>\n",
       "      <th>html_code</th>\n",
       "      <th>repu</th>\n",
       "      <th>title_length</th>\n",
       "      <th>script_length</th>\n",
       "      <th>body_length</th>\n",
       "      <th>body_space</th>\n",
       "      <th>script_src_href</th>\n",
       "    </tr>\n",
       "  </thead>\n",
       "  <tbody>\n",
       "    <tr>\n",
       "      <th>0</th>\n",
       "      <td>&lt;!DOCTYPE html&gt;\\n&lt;!--[if lt IE 7]&gt; &lt;html lang=...</td>\n",
       "      <td>malicious</td>\n",
       "      <td>10.0</td>\n",
       "      <td>405</td>\n",
       "      <td>402.0</td>\n",
       "      <td>65.0</td>\n",
       "      <td>0.0</td>\n",
       "    </tr>\n",
       "    <tr>\n",
       "      <th>1</th>\n",
       "      <td>\\n\\t\\n\\n\\n\\t\\n\\n\\t\\n\\n\\n\\t\\n\\n\\n\\t\\n\\n\\t\\n\\t\\t...</td>\n",
       "      <td>malicious</td>\n",
       "      <td>5.0</td>\n",
       "      <td>579</td>\n",
       "      <td>1041.0</td>\n",
       "      <td>87.0</td>\n",
       "      <td>0.0</td>\n",
       "    </tr>\n",
       "    <tr>\n",
       "      <th>2</th>\n",
       "      <td>&lt;!DOCTYPE html&gt;\\n&lt;html lang=\"en\"&gt;\\n    &lt;head&gt;\\...</td>\n",
       "      <td>malicious</td>\n",
       "      <td>71.0</td>\n",
       "      <td>817</td>\n",
       "      <td>433.0</td>\n",
       "      <td>190.0</td>\n",
       "      <td>0.0</td>\n",
       "    </tr>\n",
       "    <tr>\n",
       "      <th>3</th>\n",
       "      <td>&lt;!DOCTYPE html&gt;&lt;html lang=\"en\"&gt;&lt;head&gt;&lt;style da...</td>\n",
       "      <td>malicious</td>\n",
       "      <td>0.0</td>\n",
       "      <td>4</td>\n",
       "      <td>0.0</td>\n",
       "      <td>0.0</td>\n",
       "      <td>0.0</td>\n",
       "    </tr>\n",
       "    <tr>\n",
       "      <th>4</th>\n",
       "      <td>&lt;!DOCTYPE html&gt;\\n\\n\\n    \\n    \\n    \\n    \\n ...</td>\n",
       "      <td>malicious</td>\n",
       "      <td>27.0</td>\n",
       "      <td>425</td>\n",
       "      <td>2969.0</td>\n",
       "      <td>1802.0</td>\n",
       "      <td>0.0</td>\n",
       "    </tr>\n",
       "  </tbody>\n",
       "</table>\n",
       "</div>"
      ],
      "text/plain": [
       "                                           html_code       repu  title_length  \\\n",
       "0  <!DOCTYPE html>\\n<!--[if lt IE 7]> <html lang=...  malicious          10.0   \n",
       "1  \\n\\t\\n\\n\\n\\t\\n\\n\\t\\n\\n\\n\\t\\n\\n\\n\\t\\n\\n\\t\\n\\t\\t...  malicious           5.0   \n",
       "2  <!DOCTYPE html>\\n<html lang=\"en\">\\n    <head>\\...  malicious          71.0   \n",
       "3  <!DOCTYPE html><html lang=\"en\"><head><style da...  malicious           0.0   \n",
       "4  <!DOCTYPE html>\\n\\n\\n    \\n    \\n    \\n    \\n ...  malicious          27.0   \n",
       "\n",
       "   script_length  body_length  body_space  script_src_href  \n",
       "0            405        402.0        65.0              0.0  \n",
       "1            579       1041.0        87.0              0.0  \n",
       "2            817        433.0       190.0              0.0  \n",
       "3              4          0.0         0.0              0.0  \n",
       "4            425       2969.0      1802.0              0.0  "
      ]
     },
     "execution_count": 189,
     "metadata": {},
     "output_type": "execute_result"
    }
   ],
   "source": [
    "# 추출한 Feature(특징) 데이터를 확인합니다.\n",
    "df.head()"
   ]
  },
  {
   "cell_type": "markdown",
   "metadata": {},
   "source": [
    "## <b>Q6. 추가적으로 도출 가능한 Feature\n",
    "\n",
    "- BeautifulSoup으로 html소스를 python 객체로 변환\n",
    "- 함수로 구현하기\n",
    "- 적절한 자료형으로 return 받기"
   ]
  },
  {
   "cell_type": "markdown",
   "metadata": {},
   "source": [
    "### <span style=\"color:darkred\">[문제6] Beatuifulsoup 라이브러리를 활용 HTML code에서 추가로 만들수 있는 Feature를 찾아보고 결과를 확인하세요. <span>\n"
   ]
  },
  {
   "cell_type": "code",
   "execution_count": 12,
   "metadata": {},
   "outputs": [],
   "source": [
    "# Feature(특징) 데이터를 추출하는 함수를 작성합니다.\n"
   ]
  },
  {
   "cell_type": "code",
   "execution_count": null,
   "metadata": {},
   "outputs": [],
   "source": [
    "# 데이터 프레임의 html_code 컬럼에서 Feature(특징) 데이터를 추출합니다\n"
   ]
  },
  {
   "cell_type": "code",
   "execution_count": null,
   "metadata": {},
   "outputs": [],
   "source": [
    "# 추출한 Feature(특징) 데이터를 확인합니다.\n",
    "\n"
   ]
  }
 ],
 "metadata": {
  "kernelspec": {
   "display_name": "Python 3",
   "language": "python",
   "name": "python3"
  },
  "language_info": {
   "codemirror_mode": {
    "name": "ipython",
    "version": 3
   },
   "file_extension": ".py",
   "mimetype": "text/x-python",
   "name": "python",
   "nbconvert_exporter": "python",
   "pygments_lexer": "ipython3",
   "version": "3.8.8"
  },
  "vscode": {
   "interpreter": {
    "hash": "f08154012ddadd8e950e6e9e035c7a7b32c136e7647e9b7c77e02eb723a8bedb"
   }
  }
 },
 "nbformat": 4,
 "nbformat_minor": 4
}
