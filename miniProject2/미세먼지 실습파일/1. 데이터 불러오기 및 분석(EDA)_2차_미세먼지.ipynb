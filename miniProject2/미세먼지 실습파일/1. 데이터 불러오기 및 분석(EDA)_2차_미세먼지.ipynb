{
 "cells": [
  {
   "cell_type": "markdown",
   "id": "boxed-jamaica",
   "metadata": {},
   "source": [
    "# 안녕하세요^^ \n",
    "# AIVLE 2차 미니 프로젝트에 오신 여러분을 환영합니다.\n",
    "* 본 과정에서는 실제 사례와 데이터를 기반으로 문제를 해결하는 전체 과정을 자기 주도형 실습으로 진행해볼 예정입니다.\n",
    "* 앞선 교육과정을 정리하는 마음과 지금까지 배운 내용을 바탕으로 문제 해결을 해볼게요!\n",
    "* 미니 프로젝트를 통한 문제 해결 과정 'A에서 Z까지', 지금부터 시작합니다!"
   ]
  },
  {
   "cell_type": "markdown",
   "id": "ef575059",
   "metadata": {},
   "source": [
    "---"
   ]
  },
  {
   "cell_type": "markdown",
   "id": "f2bc4fa5",
   "metadata": {},
   "source": [
    "# 데이터 분석부터 먼저 시작해보겠습니다.\n",
    "\n",
    "* \"1. 데이터 불러오기 및 분석\" 단계에서는 제공되는 데이터를 불러와 feature들을 확인 해보는 작업을 진행 합니다."
   ]
  },
  {
   "cell_type": "markdown",
   "id": "ff0fd855",
   "metadata": {},
   "source": [
    "---"
   ]
  },
  {
   "cell_type": "code",
   "execution_count": 1,
   "id": "4c6ced42",
   "metadata": {},
   "outputs": [
    {
     "name": "stdout",
     "output_type": "stream",
     "text": [
      "Requirement already satisfied: pandas in c:\\users\\user\\anaconda3\\lib\\site-packages (1.2.4)\n",
      "Requirement already satisfied: seaborn in c:\\users\\user\\anaconda3\\lib\\site-packages (0.11.2)\n",
      "Requirement already satisfied: pytz>=2017.3 in c:\\users\\user\\anaconda3\\lib\\site-packages (from pandas) (2021.1)\n",
      "Requirement already satisfied: python-dateutil>=2.7.3 in c:\\users\\user\\anaconda3\\lib\\site-packages (from pandas) (2.8.1)\n",
      "Requirement already satisfied: numpy>=1.16.5 in c:\\users\\user\\anaconda3\\lib\\site-packages (from pandas) (1.20.1)\n",
      "Requirement already satisfied: six>=1.5 in c:\\users\\user\\anaconda3\\lib\\site-packages (from python-dateutil>=2.7.3->pandas) (1.15.0)\n",
      "Requirement already satisfied: scipy>=1.0 in c:\\users\\user\\anaconda3\\lib\\site-packages (from seaborn) (1.6.2)\n",
      "Requirement already satisfied: matplotlib>=2.2 in c:\\users\\user\\anaconda3\\lib\\site-packages (from seaborn) (3.3.4)\n",
      "Requirement already satisfied: pyparsing!=2.0.4,!=2.1.2,!=2.1.6,>=2.0.3 in c:\\users\\user\\anaconda3\\lib\\site-packages (from matplotlib>=2.2->seaborn) (2.4.7)\n",
      "Requirement already satisfied: kiwisolver>=1.0.1 in c:\\users\\user\\anaconda3\\lib\\site-packages (from matplotlib>=2.2->seaborn) (1.3.1)\n",
      "Requirement already satisfied: pillow>=6.2.0 in c:\\users\\user\\anaconda3\\lib\\site-packages (from matplotlib>=2.2->seaborn) (8.2.0)\n",
      "Requirement already satisfied: cycler>=0.10 in c:\\users\\user\\anaconda3\\lib\\site-packages (from matplotlib>=2.2->seaborn) (0.10.0)\n",
      "Note: you may need to restart the kernel to use updated packages.\n"
     ]
    }
   ],
   "source": [
    "# 필요 라이브러리부터 설치할께요.\n",
    "%pip install pandas seaborn"
   ]
  },
  {
   "cell_type": "markdown",
   "id": "d7d7725c",
   "metadata": {},
   "source": [
    "---"
   ]
  },
  {
   "cell_type": "markdown",
   "id": "revolutionary-farmer",
   "metadata": {},
   "source": [
    "## 기본 데이터 \n",
    "\n",
    "* 21년도 데이터 train 데이터\n",
    "* 22년도 데이터 test 데이터\n",
    "    * 왜 나눴냐면, 학습하는 데이터, 테스트하는 데이터는 다르기 때문 (21년도 걸로 학습 후 올해 걸 예측)\n",
    "\n",
    "[미세먼지 데이터]\n",
    "* 21년도 미세먼지 데이터 : air_2021.csv\n",
    "* 22년도 미세먼지 데이터 : air_2022.csv\n",
    "\n",
    "[날씨 데이터]\n",
    "* 21년도 날씨 데이터 : weather_2021.csv\n",
    "* 22년도 날씨 데이터 : weather_2022.csv"
   ]
  },
  {
   "cell_type": "markdown",
   "id": "matched-broad",
   "metadata": {},
   "source": [
    "---"
   ]
  },
  {
   "cell_type": "markdown",
   "id": "warming-gentleman",
   "metadata": {},
   "source": [
    "# 1. 데이터 불러오기\n",
    "## 서울시 미세먼지 데이터와 기상 데이터를 불러오도록 하겠습니다."
   ]
  },
  {
   "cell_type": "markdown",
   "id": "vocational-animal",
   "metadata": {},
   "source": [
    "#### [실습문제1] 미세먼지 데이터 로딩\n",
    "* Pandas 라이브러리를 활용해서 'air_2021.csv'파일을 'air_21' 변수에, 'air_2022.csv'파일을 'air_22' 변수에 저장하고 그 데이터를 확인하세요.\n",
    "* 아래에 'Pandas'를 Import하고 두 개의 파일을 불러오고 Shape을 확인하는 소스코드를 작성하고 실행해보세요.\n",
    "* 구분자(sep) : ','\n",
    "* encoder = 'UTF-8'\n",
    "* index_col = 0"
   ]
  },
  {
   "cell_type": "code",
   "execution_count": 2,
   "id": "a348f05f",
   "metadata": {},
   "outputs": [],
   "source": [
    "# 필요한 라이브러리를 불러오세요.\n",
    "import pandas as pd\n",
    "import numpy as np\n",
    "import seaborn as sns\n",
    "import matplotlib.pyplot as plt\n"
   ]
  },
  {
   "cell_type": "code",
   "execution_count": 3,
   "id": "saving-slope",
   "metadata": {},
   "outputs": [],
   "source": [
    "# 아래에 실습코드를 작성하고 결과를 확인합니다.\n",
    "air_21 = pd.read_csv('air_2021.csv', sep=',', encoding='utf-8', index_col=0)\n",
    "air_22 = pd.read_csv('air_2022.csv', sep=',', encoding='utf-8', index_col=0)\n"
   ]
  },
  {
   "cell_type": "code",
   "execution_count": 4,
   "id": "90307d62",
   "metadata": {},
   "outputs": [
    {
     "data": {
      "text/html": [
       "<div>\n",
       "<style scoped>\n",
       "    .dataframe tbody tr th:only-of-type {\n",
       "        vertical-align: middle;\n",
       "    }\n",
       "\n",
       "    .dataframe tbody tr th {\n",
       "        vertical-align: top;\n",
       "    }\n",
       "\n",
       "    .dataframe thead th {\n",
       "        text-align: right;\n",
       "    }\n",
       "</style>\n",
       "<table border=\"1\" class=\"dataframe\">\n",
       "  <thead>\n",
       "    <tr style=\"text-align: right;\">\n",
       "      <th></th>\n",
       "      <th>지역</th>\n",
       "      <th>망</th>\n",
       "      <th>측정소코드</th>\n",
       "      <th>측정소명</th>\n",
       "      <th>측정일시</th>\n",
       "      <th>SO2</th>\n",
       "      <th>CO</th>\n",
       "      <th>O3</th>\n",
       "      <th>NO2</th>\n",
       "      <th>PM10</th>\n",
       "      <th>PM25</th>\n",
       "      <th>주소</th>\n",
       "    </tr>\n",
       "  </thead>\n",
       "  <tbody>\n",
       "    <tr>\n",
       "      <th>0</th>\n",
       "      <td>서울 종로구</td>\n",
       "      <td>도시대기</td>\n",
       "      <td>111123</td>\n",
       "      <td>종로구</td>\n",
       "      <td>2021100101</td>\n",
       "      <td>0.003</td>\n",
       "      <td>0.6</td>\n",
       "      <td>0.002</td>\n",
       "      <td>0.039</td>\n",
       "      <td>31.0</td>\n",
       "      <td>18.0</td>\n",
       "      <td>서울 종로구 종로35가길 19</td>\n",
       "    </tr>\n",
       "    <tr>\n",
       "      <th>1</th>\n",
       "      <td>서울 종로구</td>\n",
       "      <td>도시대기</td>\n",
       "      <td>111123</td>\n",
       "      <td>종로구</td>\n",
       "      <td>2021100102</td>\n",
       "      <td>0.003</td>\n",
       "      <td>0.6</td>\n",
       "      <td>0.002</td>\n",
       "      <td>0.035</td>\n",
       "      <td>27.0</td>\n",
       "      <td>16.0</td>\n",
       "      <td>서울 종로구 종로35가길 19</td>\n",
       "    </tr>\n",
       "    <tr>\n",
       "      <th>2</th>\n",
       "      <td>서울 종로구</td>\n",
       "      <td>도시대기</td>\n",
       "      <td>111123</td>\n",
       "      <td>종로구</td>\n",
       "      <td>2021100103</td>\n",
       "      <td>0.003</td>\n",
       "      <td>0.6</td>\n",
       "      <td>0.002</td>\n",
       "      <td>0.033</td>\n",
       "      <td>28.0</td>\n",
       "      <td>18.0</td>\n",
       "      <td>서울 종로구 종로35가길 19</td>\n",
       "    </tr>\n",
       "    <tr>\n",
       "      <th>3</th>\n",
       "      <td>서울 종로구</td>\n",
       "      <td>도시대기</td>\n",
       "      <td>111123</td>\n",
       "      <td>종로구</td>\n",
       "      <td>2021100104</td>\n",
       "      <td>0.003</td>\n",
       "      <td>0.6</td>\n",
       "      <td>0.002</td>\n",
       "      <td>0.030</td>\n",
       "      <td>26.0</td>\n",
       "      <td>16.0</td>\n",
       "      <td>서울 종로구 종로35가길 19</td>\n",
       "    </tr>\n",
       "    <tr>\n",
       "      <th>4</th>\n",
       "      <td>서울 종로구</td>\n",
       "      <td>도시대기</td>\n",
       "      <td>111123</td>\n",
       "      <td>종로구</td>\n",
       "      <td>2021100105</td>\n",
       "      <td>0.003</td>\n",
       "      <td>0.5</td>\n",
       "      <td>0.003</td>\n",
       "      <td>0.026</td>\n",
       "      <td>26.0</td>\n",
       "      <td>16.0</td>\n",
       "      <td>서울 종로구 종로35가길 19</td>\n",
       "    </tr>\n",
       "  </tbody>\n",
       "</table>\n",
       "</div>"
      ],
      "text/plain": [
       "       지역     망   측정소코드 측정소명        측정일시    SO2   CO     O3    NO2  PM10  \\\n",
       "0  서울 종로구  도시대기  111123  종로구  2021100101  0.003  0.6  0.002  0.039  31.0   \n",
       "1  서울 종로구  도시대기  111123  종로구  2021100102  0.003  0.6  0.002  0.035  27.0   \n",
       "2  서울 종로구  도시대기  111123  종로구  2021100103  0.003  0.6  0.002  0.033  28.0   \n",
       "3  서울 종로구  도시대기  111123  종로구  2021100104  0.003  0.6  0.002  0.030  26.0   \n",
       "4  서울 종로구  도시대기  111123  종로구  2021100105  0.003  0.5  0.003  0.026  26.0   \n",
       "\n",
       "   PM25                주소  \n",
       "0  18.0  서울 종로구 종로35가길 19  \n",
       "1  16.0  서울 종로구 종로35가길 19  \n",
       "2  18.0  서울 종로구 종로35가길 19  \n",
       "3  16.0  서울 종로구 종로35가길 19  \n",
       "4  16.0  서울 종로구 종로35가길 19  "
      ]
     },
     "metadata": {},
     "output_type": "display_data"
    },
    {
     "data": {
      "text/html": [
       "<div>\n",
       "<style scoped>\n",
       "    .dataframe tbody tr th:only-of-type {\n",
       "        vertical-align: middle;\n",
       "    }\n",
       "\n",
       "    .dataframe tbody tr th {\n",
       "        vertical-align: top;\n",
       "    }\n",
       "\n",
       "    .dataframe thead th {\n",
       "        text-align: right;\n",
       "    }\n",
       "</style>\n",
       "<table border=\"1\" class=\"dataframe\">\n",
       "  <thead>\n",
       "    <tr style=\"text-align: right;\">\n",
       "      <th></th>\n",
       "      <th>지역</th>\n",
       "      <th>망</th>\n",
       "      <th>측정소코드</th>\n",
       "      <th>측정소명</th>\n",
       "      <th>측정일시</th>\n",
       "      <th>SO2</th>\n",
       "      <th>CO</th>\n",
       "      <th>O3</th>\n",
       "      <th>NO2</th>\n",
       "      <th>PM10</th>\n",
       "      <th>PM25</th>\n",
       "      <th>주소</th>\n",
       "    </tr>\n",
       "  </thead>\n",
       "  <tbody>\n",
       "    <tr>\n",
       "      <th>0</th>\n",
       "      <td>서울 종로구</td>\n",
       "      <td>도시대기</td>\n",
       "      <td>111123</td>\n",
       "      <td>종로구</td>\n",
       "      <td>2022010101</td>\n",
       "      <td>0.003</td>\n",
       "      <td>0.4</td>\n",
       "      <td>0.026</td>\n",
       "      <td>0.016</td>\n",
       "      <td>23.0</td>\n",
       "      <td>12.0</td>\n",
       "      <td>서울 종로구 종로35가길 19</td>\n",
       "    </tr>\n",
       "    <tr>\n",
       "      <th>1</th>\n",
       "      <td>서울 종로구</td>\n",
       "      <td>도시대기</td>\n",
       "      <td>111123</td>\n",
       "      <td>종로구</td>\n",
       "      <td>2022010102</td>\n",
       "      <td>0.003</td>\n",
       "      <td>0.4</td>\n",
       "      <td>0.022</td>\n",
       "      <td>0.020</td>\n",
       "      <td>20.0</td>\n",
       "      <td>9.0</td>\n",
       "      <td>서울 종로구 종로35가길 19</td>\n",
       "    </tr>\n",
       "    <tr>\n",
       "      <th>2</th>\n",
       "      <td>서울 종로구</td>\n",
       "      <td>도시대기</td>\n",
       "      <td>111123</td>\n",
       "      <td>종로구</td>\n",
       "      <td>2022010103</td>\n",
       "      <td>0.003</td>\n",
       "      <td>0.5</td>\n",
       "      <td>0.014</td>\n",
       "      <td>0.028</td>\n",
       "      <td>20.0</td>\n",
       "      <td>9.0</td>\n",
       "      <td>서울 종로구 종로35가길 19</td>\n",
       "    </tr>\n",
       "    <tr>\n",
       "      <th>3</th>\n",
       "      <td>서울 종로구</td>\n",
       "      <td>도시대기</td>\n",
       "      <td>111123</td>\n",
       "      <td>종로구</td>\n",
       "      <td>2022010104</td>\n",
       "      <td>0.003</td>\n",
       "      <td>0.5</td>\n",
       "      <td>0.016</td>\n",
       "      <td>0.027</td>\n",
       "      <td>19.0</td>\n",
       "      <td>10.0</td>\n",
       "      <td>서울 종로구 종로35가길 19</td>\n",
       "    </tr>\n",
       "    <tr>\n",
       "      <th>4</th>\n",
       "      <td>서울 종로구</td>\n",
       "      <td>도시대기</td>\n",
       "      <td>111123</td>\n",
       "      <td>종로구</td>\n",
       "      <td>2022010105</td>\n",
       "      <td>0.003</td>\n",
       "      <td>0.5</td>\n",
       "      <td>0.005</td>\n",
       "      <td>0.040</td>\n",
       "      <td>24.0</td>\n",
       "      <td>11.0</td>\n",
       "      <td>서울 종로구 종로35가길 19</td>\n",
       "    </tr>\n",
       "  </tbody>\n",
       "</table>\n",
       "</div>"
      ],
      "text/plain": [
       "       지역     망   측정소코드 측정소명        측정일시    SO2   CO     O3    NO2  PM10  \\\n",
       "0  서울 종로구  도시대기  111123  종로구  2022010101  0.003  0.4  0.026  0.016  23.0   \n",
       "1  서울 종로구  도시대기  111123  종로구  2022010102  0.003  0.4  0.022  0.020  20.0   \n",
       "2  서울 종로구  도시대기  111123  종로구  2022010103  0.003  0.5  0.014  0.028  20.0   \n",
       "3  서울 종로구  도시대기  111123  종로구  2022010104  0.003  0.5  0.016  0.027  19.0   \n",
       "4  서울 종로구  도시대기  111123  종로구  2022010105  0.003  0.5  0.005  0.040  24.0   \n",
       "\n",
       "   PM25                주소  \n",
       "0  12.0  서울 종로구 종로35가길 19  \n",
       "1   9.0  서울 종로구 종로35가길 19  \n",
       "2   9.0  서울 종로구 종로35가길 19  \n",
       "3  10.0  서울 종로구 종로35가길 19  \n",
       "4  11.0  서울 종로구 종로35가길 19  "
      ]
     },
     "metadata": {},
     "output_type": "display_data"
    }
   ],
   "source": [
    "# 아래에 실습코드를 작성하고 결과를 확인합니다.\n",
    "display(air_21.head())\n",
    "display(air_22.head())\n"
   ]
  },
  {
   "cell_type": "code",
   "execution_count": 5,
   "id": "funny-subcommittee",
   "metadata": {},
   "outputs": [
    {
     "data": {
      "text/plain": [
       "(8760, 12)"
      ]
     },
     "execution_count": 5,
     "metadata": {},
     "output_type": "execute_result"
    }
   ],
   "source": [
    "# 데이터 프레임의 Shape을 확인합니다.\n",
    "air_21.shape\n",
    "# 8760개의 데이터, 13개의 컬럼"
   ]
  },
  {
   "cell_type": "code",
   "execution_count": 6,
   "id": "6d77b925",
   "metadata": {},
   "outputs": [
    {
     "data": {
      "text/plain": [
       "(2160, 12)"
      ]
     },
     "execution_count": 6,
     "metadata": {},
     "output_type": "execute_result"
    }
   ],
   "source": [
    "# 데이터 프레임의 Shape을 확인합니다.\n",
    "air_22.shape\n",
    "# 2160개의 데이터, 13개의 컬럼"
   ]
  },
  {
   "cell_type": "markdown",
   "id": "15eb3196",
   "metadata": {},
   "source": [
    "#### [실습문제2] 날씨 데이터 로딩\n",
    "* Pandas 라이브러리를 활용해서 'weather_2021.csv'파일을 'weather_21' 변수에, 'weather_2022.csv'파일을 'weather_22' 변수에 저장하고 그 데이터를 확인하세요.\n",
    "* 아래에 'Pandas'를 Import하고 두 개의 파일을 불러오고 Shape을 확인하는 소스코드를 작성하고 실행해보세요.\n",
    "* 구분자(sep) : ','\n",
    "* encoder = 'cp949'"
   ]
  },
  {
   "cell_type": "code",
   "execution_count": 7,
   "id": "25c17195",
   "metadata": {},
   "outputs": [],
   "source": [
    "# 아래에 실습코드를 작성하고 결과를 확인합니다.\n",
    "weather_21 = pd.read_csv('weather_2021.csv', sep=',', encoding='cp949')\n",
    "weather_22 = pd.read_csv('weather_2022.csv',sep=',', encoding='cp949')\n"
   ]
  },
  {
   "cell_type": "code",
   "execution_count": 8,
   "id": "fc16e5a3",
   "metadata": {},
   "outputs": [
    {
     "data": {
      "text/html": [
       "<div>\n",
       "<style scoped>\n",
       "    .dataframe tbody tr th:only-of-type {\n",
       "        vertical-align: middle;\n",
       "    }\n",
       "\n",
       "    .dataframe tbody tr th {\n",
       "        vertical-align: top;\n",
       "    }\n",
       "\n",
       "    .dataframe thead th {\n",
       "        text-align: right;\n",
       "    }\n",
       "</style>\n",
       "<table border=\"1\" class=\"dataframe\">\n",
       "  <thead>\n",
       "    <tr style=\"text-align: right;\">\n",
       "      <th></th>\n",
       "      <th>지점</th>\n",
       "      <th>지점명</th>\n",
       "      <th>일시</th>\n",
       "      <th>기온(°C)</th>\n",
       "      <th>기온 QC플래그</th>\n",
       "      <th>강수량(mm)</th>\n",
       "      <th>강수량 QC플래그</th>\n",
       "      <th>풍속(m/s)</th>\n",
       "      <th>풍속 QC플래그</th>\n",
       "      <th>풍향(16방위)</th>\n",
       "      <th>...</th>\n",
       "      <th>최저운고(100m )</th>\n",
       "      <th>시정(10m)</th>\n",
       "      <th>지면상태(지면상태코드)</th>\n",
       "      <th>현상번호(국내식)</th>\n",
       "      <th>지면온도(°C)</th>\n",
       "      <th>지면온도 QC플래그</th>\n",
       "      <th>5cm 지중온도(°C)</th>\n",
       "      <th>10cm 지중온도(°C)</th>\n",
       "      <th>20cm 지중온도(°C)</th>\n",
       "      <th>30cm 지중온도(°C)</th>\n",
       "    </tr>\n",
       "  </thead>\n",
       "  <tbody>\n",
       "    <tr>\n",
       "      <th>0</th>\n",
       "      <td>108</td>\n",
       "      <td>서울</td>\n",
       "      <td>2021-01-01 01:00</td>\n",
       "      <td>-8.7</td>\n",
       "      <td>NaN</td>\n",
       "      <td>NaN</td>\n",
       "      <td>NaN</td>\n",
       "      <td>2.4</td>\n",
       "      <td>NaN</td>\n",
       "      <td>270.0</td>\n",
       "      <td>...</td>\n",
       "      <td>NaN</td>\n",
       "      <td>2000</td>\n",
       "      <td>NaN</td>\n",
       "      <td>NaN</td>\n",
       "      <td>-6.9</td>\n",
       "      <td>NaN</td>\n",
       "      <td>-1.0</td>\n",
       "      <td>-0.8</td>\n",
       "      <td>0.3</td>\n",
       "      <td>1.6</td>\n",
       "    </tr>\n",
       "    <tr>\n",
       "      <th>1</th>\n",
       "      <td>108</td>\n",
       "      <td>서울</td>\n",
       "      <td>2021-01-01 02:00</td>\n",
       "      <td>-9.1</td>\n",
       "      <td>NaN</td>\n",
       "      <td>NaN</td>\n",
       "      <td>NaN</td>\n",
       "      <td>1.6</td>\n",
       "      <td>NaN</td>\n",
       "      <td>270.0</td>\n",
       "      <td>...</td>\n",
       "      <td>NaN</td>\n",
       "      <td>2000</td>\n",
       "      <td>NaN</td>\n",
       "      <td>NaN</td>\n",
       "      <td>-7.1</td>\n",
       "      <td>NaN</td>\n",
       "      <td>-1.1</td>\n",
       "      <td>-0.8</td>\n",
       "      <td>0.3</td>\n",
       "      <td>1.6</td>\n",
       "    </tr>\n",
       "    <tr>\n",
       "      <th>2</th>\n",
       "      <td>108</td>\n",
       "      <td>서울</td>\n",
       "      <td>2021-01-01 03:00</td>\n",
       "      <td>-9.3</td>\n",
       "      <td>NaN</td>\n",
       "      <td>NaN</td>\n",
       "      <td>NaN</td>\n",
       "      <td>1.1</td>\n",
       "      <td>NaN</td>\n",
       "      <td>250.0</td>\n",
       "      <td>...</td>\n",
       "      <td>NaN</td>\n",
       "      <td>2000</td>\n",
       "      <td>NaN</td>\n",
       "      <td>NaN</td>\n",
       "      <td>-7.3</td>\n",
       "      <td>NaN</td>\n",
       "      <td>-1.2</td>\n",
       "      <td>-0.9</td>\n",
       "      <td>0.3</td>\n",
       "      <td>1.6</td>\n",
       "    </tr>\n",
       "    <tr>\n",
       "      <th>3</th>\n",
       "      <td>108</td>\n",
       "      <td>서울</td>\n",
       "      <td>2021-01-01 04:00</td>\n",
       "      <td>-9.3</td>\n",
       "      <td>NaN</td>\n",
       "      <td>NaN</td>\n",
       "      <td>NaN</td>\n",
       "      <td>0.3</td>\n",
       "      <td>NaN</td>\n",
       "      <td>0.0</td>\n",
       "      <td>...</td>\n",
       "      <td>NaN</td>\n",
       "      <td>2000</td>\n",
       "      <td>NaN</td>\n",
       "      <td>NaN</td>\n",
       "      <td>-7.5</td>\n",
       "      <td>NaN</td>\n",
       "      <td>-1.3</td>\n",
       "      <td>-1.0</td>\n",
       "      <td>0.2</td>\n",
       "      <td>1.5</td>\n",
       "    </tr>\n",
       "    <tr>\n",
       "      <th>4</th>\n",
       "      <td>108</td>\n",
       "      <td>서울</td>\n",
       "      <td>2021-01-01 05:00</td>\n",
       "      <td>-9.7</td>\n",
       "      <td>NaN</td>\n",
       "      <td>NaN</td>\n",
       "      <td>NaN</td>\n",
       "      <td>1.9</td>\n",
       "      <td>NaN</td>\n",
       "      <td>20.0</td>\n",
       "      <td>...</td>\n",
       "      <td>NaN</td>\n",
       "      <td>2000</td>\n",
       "      <td>NaN</td>\n",
       "      <td>NaN</td>\n",
       "      <td>-7.6</td>\n",
       "      <td>NaN</td>\n",
       "      <td>-1.3</td>\n",
       "      <td>-1.0</td>\n",
       "      <td>0.2</td>\n",
       "      <td>1.5</td>\n",
       "    </tr>\n",
       "  </tbody>\n",
       "</table>\n",
       "<p>5 rows × 38 columns</p>\n",
       "</div>"
      ],
      "text/plain": [
       "    지점 지점명                일시  기온(°C)  기온 QC플래그  강수량(mm)  강수량 QC플래그  풍속(m/s)  \\\n",
       "0  108  서울  2021-01-01 01:00    -8.7       NaN      NaN        NaN      2.4   \n",
       "1  108  서울  2021-01-01 02:00    -9.1       NaN      NaN        NaN      1.6   \n",
       "2  108  서울  2021-01-01 03:00    -9.3       NaN      NaN        NaN      1.1   \n",
       "3  108  서울  2021-01-01 04:00    -9.3       NaN      NaN        NaN      0.3   \n",
       "4  108  서울  2021-01-01 05:00    -9.7       NaN      NaN        NaN      1.9   \n",
       "\n",
       "   풍속 QC플래그  풍향(16방위)  ...  최저운고(100m )  시정(10m)  지면상태(지면상태코드)  현상번호(국내식)  \\\n",
       "0       NaN     270.0  ...          NaN     2000           NaN        NaN   \n",
       "1       NaN     270.0  ...          NaN     2000           NaN        NaN   \n",
       "2       NaN     250.0  ...          NaN     2000           NaN        NaN   \n",
       "3       NaN       0.0  ...          NaN     2000           NaN        NaN   \n",
       "4       NaN      20.0  ...          NaN     2000           NaN        NaN   \n",
       "\n",
       "   지면온도(°C)  지면온도 QC플래그  5cm 지중온도(°C)  10cm 지중온도(°C)  20cm 지중온도(°C)  \\\n",
       "0      -6.9         NaN          -1.0           -0.8            0.3   \n",
       "1      -7.1         NaN          -1.1           -0.8            0.3   \n",
       "2      -7.3         NaN          -1.2           -0.9            0.3   \n",
       "3      -7.5         NaN          -1.3           -1.0            0.2   \n",
       "4      -7.6         NaN          -1.3           -1.0            0.2   \n",
       "\n",
       "   30cm 지중온도(°C)  \n",
       "0            1.6  \n",
       "1            1.6  \n",
       "2            1.6  \n",
       "3            1.5  \n",
       "4            1.5  \n",
       "\n",
       "[5 rows x 38 columns]"
      ]
     },
     "execution_count": 8,
     "metadata": {},
     "output_type": "execute_result"
    }
   ],
   "source": [
    "weather_21.head()"
   ]
  },
  {
   "cell_type": "code",
   "execution_count": 9,
   "id": "b0665733",
   "metadata": {},
   "outputs": [
    {
     "data": {
      "text/html": [
       "<div>\n",
       "<style scoped>\n",
       "    .dataframe tbody tr th:only-of-type {\n",
       "        vertical-align: middle;\n",
       "    }\n",
       "\n",
       "    .dataframe tbody tr th {\n",
       "        vertical-align: top;\n",
       "    }\n",
       "\n",
       "    .dataframe thead th {\n",
       "        text-align: right;\n",
       "    }\n",
       "</style>\n",
       "<table border=\"1\" class=\"dataframe\">\n",
       "  <thead>\n",
       "    <tr style=\"text-align: right;\">\n",
       "      <th></th>\n",
       "      <th>지점</th>\n",
       "      <th>지점명</th>\n",
       "      <th>일시</th>\n",
       "      <th>기온(°C)</th>\n",
       "      <th>기온 QC플래그</th>\n",
       "      <th>강수량(mm)</th>\n",
       "      <th>강수량 QC플래그</th>\n",
       "      <th>풍속(m/s)</th>\n",
       "      <th>풍속 QC플래그</th>\n",
       "      <th>풍향(16방위)</th>\n",
       "      <th>...</th>\n",
       "      <th>최저운고(100m )</th>\n",
       "      <th>시정(10m)</th>\n",
       "      <th>지면상태(지면상태코드)</th>\n",
       "      <th>현상번호(국내식)</th>\n",
       "      <th>지면온도(°C)</th>\n",
       "      <th>지면온도 QC플래그</th>\n",
       "      <th>5cm 지중온도(°C)</th>\n",
       "      <th>10cm 지중온도(°C)</th>\n",
       "      <th>20cm 지중온도(°C)</th>\n",
       "      <th>30cm 지중온도(°C)</th>\n",
       "    </tr>\n",
       "  </thead>\n",
       "  <tbody>\n",
       "    <tr>\n",
       "      <th>0</th>\n",
       "      <td>108</td>\n",
       "      <td>서울</td>\n",
       "      <td>2022-01-01 00:00</td>\n",
       "      <td>-8.5</td>\n",
       "      <td>NaN</td>\n",
       "      <td>NaN</td>\n",
       "      <td>NaN</td>\n",
       "      <td>1.9</td>\n",
       "      <td>NaN</td>\n",
       "      <td>320</td>\n",
       "      <td>...</td>\n",
       "      <td>NaN</td>\n",
       "      <td>2000</td>\n",
       "      <td>NaN</td>\n",
       "      <td>NaN</td>\n",
       "      <td>-7.0</td>\n",
       "      <td>NaN</td>\n",
       "      <td>-1.0</td>\n",
       "      <td>-1.0</td>\n",
       "      <td>-0.2</td>\n",
       "      <td>1.0</td>\n",
       "    </tr>\n",
       "    <tr>\n",
       "      <th>1</th>\n",
       "      <td>108</td>\n",
       "      <td>서울</td>\n",
       "      <td>2022-01-01 01:00</td>\n",
       "      <td>-9.2</td>\n",
       "      <td>NaN</td>\n",
       "      <td>NaN</td>\n",
       "      <td>NaN</td>\n",
       "      <td>1.8</td>\n",
       "      <td>NaN</td>\n",
       "      <td>270</td>\n",
       "      <td>...</td>\n",
       "      <td>NaN</td>\n",
       "      <td>2000</td>\n",
       "      <td>NaN</td>\n",
       "      <td>NaN</td>\n",
       "      <td>-7.2</td>\n",
       "      <td>NaN</td>\n",
       "      <td>-1.1</td>\n",
       "      <td>-1.1</td>\n",
       "      <td>-0.2</td>\n",
       "      <td>1.0</td>\n",
       "    </tr>\n",
       "    <tr>\n",
       "      <th>2</th>\n",
       "      <td>108</td>\n",
       "      <td>서울</td>\n",
       "      <td>2022-01-01 02:00</td>\n",
       "      <td>-9.5</td>\n",
       "      <td>NaN</td>\n",
       "      <td>NaN</td>\n",
       "      <td>NaN</td>\n",
       "      <td>1.2</td>\n",
       "      <td>NaN</td>\n",
       "      <td>270</td>\n",
       "      <td>...</td>\n",
       "      <td>NaN</td>\n",
       "      <td>2000</td>\n",
       "      <td>NaN</td>\n",
       "      <td>NaN</td>\n",
       "      <td>-7.5</td>\n",
       "      <td>NaN</td>\n",
       "      <td>-1.3</td>\n",
       "      <td>-1.2</td>\n",
       "      <td>-0.2</td>\n",
       "      <td>1.0</td>\n",
       "    </tr>\n",
       "    <tr>\n",
       "      <th>3</th>\n",
       "      <td>108</td>\n",
       "      <td>서울</td>\n",
       "      <td>2022-01-01 03:00</td>\n",
       "      <td>-9.3</td>\n",
       "      <td>NaN</td>\n",
       "      <td>NaN</td>\n",
       "      <td>NaN</td>\n",
       "      <td>1.4</td>\n",
       "      <td>NaN</td>\n",
       "      <td>290</td>\n",
       "      <td>...</td>\n",
       "      <td>NaN</td>\n",
       "      <td>2000</td>\n",
       "      <td>NaN</td>\n",
       "      <td>NaN</td>\n",
       "      <td>-7.6</td>\n",
       "      <td>NaN</td>\n",
       "      <td>-1.4</td>\n",
       "      <td>-1.2</td>\n",
       "      <td>-0.2</td>\n",
       "      <td>1.0</td>\n",
       "    </tr>\n",
       "    <tr>\n",
       "      <th>4</th>\n",
       "      <td>108</td>\n",
       "      <td>서울</td>\n",
       "      <td>2022-01-01 04:00</td>\n",
       "      <td>-9.6</td>\n",
       "      <td>NaN</td>\n",
       "      <td>NaN</td>\n",
       "      <td>NaN</td>\n",
       "      <td>1.7</td>\n",
       "      <td>NaN</td>\n",
       "      <td>340</td>\n",
       "      <td>...</td>\n",
       "      <td>NaN</td>\n",
       "      <td>2000</td>\n",
       "      <td>NaN</td>\n",
       "      <td>NaN</td>\n",
       "      <td>-7.6</td>\n",
       "      <td>NaN</td>\n",
       "      <td>-1.4</td>\n",
       "      <td>-1.3</td>\n",
       "      <td>-0.3</td>\n",
       "      <td>1.0</td>\n",
       "    </tr>\n",
       "  </tbody>\n",
       "</table>\n",
       "<p>5 rows × 38 columns</p>\n",
       "</div>"
      ],
      "text/plain": [
       "    지점 지점명                일시  기온(°C)  기온 QC플래그  강수량(mm)  강수량 QC플래그  풍속(m/s)  \\\n",
       "0  108  서울  2022-01-01 00:00    -8.5       NaN      NaN        NaN      1.9   \n",
       "1  108  서울  2022-01-01 01:00    -9.2       NaN      NaN        NaN      1.8   \n",
       "2  108  서울  2022-01-01 02:00    -9.5       NaN      NaN        NaN      1.2   \n",
       "3  108  서울  2022-01-01 03:00    -9.3       NaN      NaN        NaN      1.4   \n",
       "4  108  서울  2022-01-01 04:00    -9.6       NaN      NaN        NaN      1.7   \n",
       "\n",
       "   풍속 QC플래그  풍향(16방위)  ...  최저운고(100m )  시정(10m)  지면상태(지면상태코드)  현상번호(국내식)  \\\n",
       "0       NaN       320  ...          NaN     2000           NaN        NaN   \n",
       "1       NaN       270  ...          NaN     2000           NaN        NaN   \n",
       "2       NaN       270  ...          NaN     2000           NaN        NaN   \n",
       "3       NaN       290  ...          NaN     2000           NaN        NaN   \n",
       "4       NaN       340  ...          NaN     2000           NaN        NaN   \n",
       "\n",
       "   지면온도(°C)  지면온도 QC플래그  5cm 지중온도(°C)  10cm 지중온도(°C)  20cm 지중온도(°C)  \\\n",
       "0      -7.0         NaN          -1.0           -1.0           -0.2   \n",
       "1      -7.2         NaN          -1.1           -1.1           -0.2   \n",
       "2      -7.5         NaN          -1.3           -1.2           -0.2   \n",
       "3      -7.6         NaN          -1.4           -1.2           -0.2   \n",
       "4      -7.6         NaN          -1.4           -1.3           -0.3   \n",
       "\n",
       "   30cm 지중온도(°C)  \n",
       "0            1.0  \n",
       "1            1.0  \n",
       "2            1.0  \n",
       "3            1.0  \n",
       "4            1.0  \n",
       "\n",
       "[5 rows x 38 columns]"
      ]
     },
     "execution_count": 9,
     "metadata": {},
     "output_type": "execute_result"
    }
   ],
   "source": [
    "weather_22.head()"
   ]
  },
  {
   "cell_type": "code",
   "execution_count": 10,
   "id": "3b77003b",
   "metadata": {},
   "outputs": [
    {
     "data": {
      "text/plain": [
       "(8759, 38)"
      ]
     },
     "execution_count": 10,
     "metadata": {},
     "output_type": "execute_result"
    }
   ],
   "source": [
    "# 데이터 프레임의 Shape을 확인합니다.\n",
    "weather_21.shape\n"
   ]
  },
  {
   "cell_type": "code",
   "execution_count": 11,
   "id": "552bf7e9",
   "metadata": {},
   "outputs": [
    {
     "data": {
      "text/plain": [
       "(2160, 38)"
      ]
     },
     "execution_count": 11,
     "metadata": {},
     "output_type": "execute_result"
    }
   ],
   "source": [
    "weather_22.shape"
   ]
  },
  {
   "cell_type": "markdown",
   "id": "73396b42",
   "metadata": {},
   "source": [
    "---"
   ]
  },
  {
   "cell_type": "markdown",
   "id": "annoying-trout",
   "metadata": {},
   "source": [
    "# 2. 다양한 변수 확인"
   ]
  },
  {
   "cell_type": "markdown",
   "id": "romantic-johnson",
   "metadata": {},
   "source": [
    "#### [실습문제3] 미세먼지 데이터와 날씨 데이터의 다양한 변수를 확인해 보도록 하겠습니다\n",
    "\n",
    "* 미세먼지 데이터 : https://www.airkorea.or.kr/web/last_amb_hour_data?pMENU_NO=123\n",
    "\n",
    "\n",
    "* 날씨 데이터 : https://data.kma.go.kr/data/grnd/selectAsosRltmList.do?pgmNo=36\n",
    "\n",
    "* 도메인 지식 습득과 함께 변수에 대한 정보를 직접 파악해 보세요."
   ]
  },
  {
   "cell_type": "markdown",
   "id": "82d300ba",
   "metadata": {},
   "source": [
    "### 미세먼지\n",
    "- 지역\n",
    "- 망: 도시대기\n",
    "- 측정소 코드\n",
    "- 측정소 명\n",
    "- 측정일시\n",
    "- SO2 : 아황산가스\n",
    "- CO : 일산화탄소\n",
    "- O3 : 오존\n",
    "- NO2 : 이산화질소\n",
    "- PM10 : 미세먼지농도\n",
    "- PM25 : 초미세먼지농도\n",
    "- 주소"
   ]
  },
  {
   "cell_type": "markdown",
   "id": "fff71efb",
   "metadata": {},
   "source": [
    "### 날씨\n",
    "- 0   지점             8759 non-null   int64  \n",
    "- 1   지점명            8759 non-null   object \n",
    "- 2   일시             8759 non-null   object \n",
    "- 3   기온(°C)         8759 non-null   float64\n",
    "- 4   기온 QC플래그       0 non-null      float64\n",
    "- 5   강수량(mm)        949 non-null    float64\n",
    "- 6   강수량 QC플래그      1763 non-null   float64 : 품질검사 플래그(0:정상, 1:오류, 9:결측)\n",
    "- 7   풍속(m/s)        8757 non-null   float64\n",
    "- 8   풍속 QC플래그       2 non-null      float64\n",
    "- 9   풍향(16방위)       8757 non-null   float64\n",
    "- 10  풍향 QC플래그       2 non-null      float64\n",
    "- 11  습도(%)          8759 non-null   int64  \n",
    "- 12  습도 QC플래그       0 non-null      float64\n",
    "- 13  증기압(hPa)       8759 non-null   float64 :  증기가 고체 또는 액체와 동적 평형 상태에 있을 때 증기의 압력\n",
    "- 14  이슬점온도(°C)      8759 non-null   float64\n",
    "- 15  현지기압(hPa)      8759 non-null   float64\n",
    "- 16  현지기압 QC플래그     0 non-null      float64\n",
    "- 17  해면기압(hPa)      8759 non-null   float64 : 어떤 관측지점에서 관측된 관측소 기압에 해면경정을 하여 얻은 평균해수면 높이에서의 기압 (해면경정: 어떤 지점에서 관측된 관측소 기압을 그 지점의 평균 해면 상의 값으로 환산하는 것)\n",
    "- 18  해면기압 QC플래그     0 non-null      float64\n",
    "- 19  일조(hr)         4791 non-null   float64 : 태양의 직사광이 지표면에 비친 시간을 가리키는 단어\n",
    "- 20  일조 QC플래그       3968 non-null   float64\n",
    "- 21  일사(MJ/m2)      4791 non-null   float64  :  태양의 복사 에너지가 땅에 닿았을 때의 세기\n",
    "- 22  일사 QC플래그       3968 non-null   float64\n",
    "- 23  적설(cm)         379 non-null    float64 : 지면에 쌓인 눈\n",
    "- 24  3시간신적설(cm)     29 non-null     float64 : 3시간동안 쌓인 눈의 높이\n",
    "- 25  전운량(10분위)      8757 non-null   float64 : 하늘이 구름이 얼마나 덮혀있느냐\n",
    "- 26  중하층운량(10분위)    8759 non-null   int64  : 중층과 하층에 있는 구름의 분포\n",
    "- 27  운형(운형약어)       4947 non-null   object : 구름의 모양\n",
    "- 28  최저운고(100m )    4547 non-null   float64 : 지면에서 운저까지의 높이가 가장 낮은 지점\n",
    "- 29  시정(10m)        8759 non-null   int64 : 물체나 빛이 분명하게 보이는 최대 거리\n",
    "- 30  지면상태(지면상태코드)   0 non-null      float64 : \n",
    "- 31  현상번호(국내식)      2125 non-null   float64\n",
    "- 32  지면온도(°C)       8754 non-null   float64\n",
    "- 33  지면온도 QC플래그     24 non-null     float64\n",
    "- 34  5cm 지중온도(°C)   8754 non-null   float64\n",
    "- 35  10cm 지중온도(°C)  8754 non-null   float64\n",
    "- 36  20cm 지중온도(°C)  8754 non-null   float64\n",
    "- 37  30cm 지중온도(°C)  8754 non-null   float64"
   ]
  },
  {
   "cell_type": "code",
   "execution_count": 12,
   "id": "demographic-battery",
   "metadata": {},
   "outputs": [
    {
     "name": "stdout",
     "output_type": "stream",
     "text": [
      "<class 'pandas.core.frame.DataFrame'>\n",
      "Int64Index: 8760 entries, 0 to 8759\n",
      "Data columns (total 12 columns):\n",
      " #   Column  Non-Null Count  Dtype  \n",
      "---  ------  --------------  -----  \n",
      " 0   지역      8760 non-null   object \n",
      " 1   망       8760 non-null   object \n",
      " 2   측정소코드   8760 non-null   int64  \n",
      " 3   측정소명    8760 non-null   object \n",
      " 4   측정일시    8760 non-null   int64  \n",
      " 5   SO2     8648 non-null   float64\n",
      " 6   CO      8680 non-null   float64\n",
      " 7   O3      8663 non-null   float64\n",
      " 8   NO2     8680 non-null   float64\n",
      " 9   PM10    8655 non-null   float64\n",
      " 10  PM25    8663 non-null   float64\n",
      " 11  주소      8760 non-null   object \n",
      "dtypes: float64(6), int64(2), object(4)\n",
      "memory usage: 889.7+ KB\n"
     ]
    }
   ],
   "source": [
    "# 아래에 실습코드를 작성하고 결과를 확인합니다.\n",
    "air_21.info()\n"
   ]
  },
  {
   "cell_type": "code",
   "execution_count": 13,
   "id": "2c8f4df1",
   "metadata": {},
   "outputs": [
    {
     "name": "stdout",
     "output_type": "stream",
     "text": [
      "<class 'pandas.core.frame.DataFrame'>\n",
      "Int64Index: 2160 entries, 0 to 2159\n",
      "Data columns (total 12 columns):\n",
      " #   Column  Non-Null Count  Dtype  \n",
      "---  ------  --------------  -----  \n",
      " 0   지역      2160 non-null   object \n",
      " 1   망       2160 non-null   object \n",
      " 2   측정소코드   2160 non-null   int64  \n",
      " 3   측정소명    2160 non-null   object \n",
      " 4   측정일시    2160 non-null   int64  \n",
      " 5   SO2     2139 non-null   float64\n",
      " 6   CO      2139 non-null   float64\n",
      " 7   O3      2139 non-null   float64\n",
      " 8   NO2     2139 non-null   float64\n",
      " 9   PM10    2122 non-null   float64\n",
      " 10  PM25    2135 non-null   float64\n",
      " 11  주소      2160 non-null   object \n",
      "dtypes: float64(6), int64(2), object(4)\n",
      "memory usage: 219.4+ KB\n"
     ]
    }
   ],
   "source": [
    "air_22.info()"
   ]
  },
  {
   "cell_type": "code",
   "execution_count": 14,
   "id": "a04317d1",
   "metadata": {},
   "outputs": [
    {
     "name": "stdout",
     "output_type": "stream",
     "text": [
      "<class 'pandas.core.frame.DataFrame'>\n",
      "RangeIndex: 8759 entries, 0 to 8758\n",
      "Data columns (total 38 columns):\n",
      " #   Column         Non-Null Count  Dtype  \n",
      "---  ------         --------------  -----  \n",
      " 0   지점             8759 non-null   int64  \n",
      " 1   지점명            8759 non-null   object \n",
      " 2   일시             8759 non-null   object \n",
      " 3   기온(°C)         8759 non-null   float64\n",
      " 4   기온 QC플래그       0 non-null      float64\n",
      " 5   강수량(mm)        949 non-null    float64\n",
      " 6   강수량 QC플래그      1763 non-null   float64\n",
      " 7   풍속(m/s)        8757 non-null   float64\n",
      " 8   풍속 QC플래그       2 non-null      float64\n",
      " 9   풍향(16방위)       8757 non-null   float64\n",
      " 10  풍향 QC플래그       2 non-null      float64\n",
      " 11  습도(%)          8759 non-null   int64  \n",
      " 12  습도 QC플래그       0 non-null      float64\n",
      " 13  증기압(hPa)       8759 non-null   float64\n",
      " 14  이슬점온도(°C)      8759 non-null   float64\n",
      " 15  현지기압(hPa)      8759 non-null   float64\n",
      " 16  현지기압 QC플래그     0 non-null      float64\n",
      " 17  해면기압(hPa)      8759 non-null   float64\n",
      " 18  해면기압 QC플래그     0 non-null      float64\n",
      " 19  일조(hr)         4791 non-null   float64\n",
      " 20  일조 QC플래그       3968 non-null   float64\n",
      " 21  일사(MJ/m2)      4791 non-null   float64\n",
      " 22  일사 QC플래그       3968 non-null   float64\n",
      " 23  적설(cm)         379 non-null    float64\n",
      " 24  3시간신적설(cm)     29 non-null     float64\n",
      " 25  전운량(10분위)      8757 non-null   float64\n",
      " 26  중하층운량(10분위)    8759 non-null   int64  \n",
      " 27  운형(운형약어)       4947 non-null   object \n",
      " 28  최저운고(100m )    4547 non-null   float64\n",
      " 29  시정(10m)        8759 non-null   int64  \n",
      " 30  지면상태(지면상태코드)   0 non-null      float64\n",
      " 31  현상번호(국내식)      2125 non-null   float64\n",
      " 32  지면온도(°C)       8754 non-null   float64\n",
      " 33  지면온도 QC플래그     24 non-null     float64\n",
      " 34  5cm 지중온도(°C)   8754 non-null   float64\n",
      " 35  10cm 지중온도(°C)  8754 non-null   float64\n",
      " 36  20cm 지중온도(°C)  8754 non-null   float64\n",
      " 37  30cm 지중온도(°C)  8754 non-null   float64\n",
      "dtypes: float64(31), int64(4), object(3)\n",
      "memory usage: 2.5+ MB\n"
     ]
    }
   ],
   "source": [
    "weather_21.info()"
   ]
  },
  {
   "cell_type": "code",
   "execution_count": 15,
   "id": "a283f39d",
   "metadata": {},
   "outputs": [
    {
     "name": "stdout",
     "output_type": "stream",
     "text": [
      "<class 'pandas.core.frame.DataFrame'>\n",
      "RangeIndex: 2160 entries, 0 to 2159\n",
      "Data columns (total 38 columns):\n",
      " #   Column         Non-Null Count  Dtype  \n",
      "---  ------         --------------  -----  \n",
      " 0   지점             2160 non-null   int64  \n",
      " 1   지점명            2160 non-null   object \n",
      " 2   일시             2160 non-null   object \n",
      " 3   기온(°C)         2160 non-null   float64\n",
      " 4   기온 QC플래그       0 non-null      float64\n",
      " 5   강수량(mm)        81 non-null     float64\n",
      " 6   강수량 QC플래그      382 non-null    float64\n",
      " 7   풍속(m/s)        2160 non-null   float64\n",
      " 8   풍속 QC플래그       0 non-null      float64\n",
      " 9   풍향(16방위)       2160 non-null   int64  \n",
      " 10  풍향 QC플래그       0 non-null      float64\n",
      " 11  습도(%)          2160 non-null   int64  \n",
      " 12  습도 QC플래그       0 non-null      float64\n",
      " 13  증기압(hPa)       2160 non-null   float64\n",
      " 14  이슬점온도(°C)      2160 non-null   float64\n",
      " 15  현지기압(hPa)      2160 non-null   float64\n",
      " 16  현지기압 QC플래그     0 non-null      float64\n",
      " 17  해면기압(hPa)      2160 non-null   float64\n",
      " 18  해면기압 QC플래그     0 non-null      float64\n",
      " 19  일조(hr)         1071 non-null   float64\n",
      " 20  일조 QC플래그       1089 non-null   float64\n",
      " 21  일사(MJ/m2)      1071 non-null   float64\n",
      " 22  일사 QC플래그       1089 non-null   float64\n",
      " 23  적설(cm)         140 non-null    float64\n",
      " 24  3시간신적설(cm)     15 non-null     float64\n",
      " 25  전운량(10분위)      2160 non-null   int64  \n",
      " 26  중하층운량(10분위)    2160 non-null   int64  \n",
      " 27  운형(운형약어)       939 non-null    object \n",
      " 28  최저운고(100m )    743 non-null    float64\n",
      " 29  시정(10m)        2160 non-null   int64  \n",
      " 30  지면상태(지면상태코드)   0 non-null      float64\n",
      " 31  현상번호(국내식)      418 non-null    float64\n",
      " 32  지면온도(°C)       2160 non-null   float64\n",
      " 33  지면온도 QC플래그     7 non-null      float64\n",
      " 34  5cm 지중온도(°C)   2160 non-null   float64\n",
      " 35  10cm 지중온도(°C)  2160 non-null   float64\n",
      " 36  20cm 지중온도(°C)  2160 non-null   float64\n",
      " 37  30cm 지중온도(°C)  2160 non-null   float64\n",
      "dtypes: float64(29), int64(6), object(3)\n",
      "memory usage: 641.4+ KB\n"
     ]
    }
   ],
   "source": [
    "weather_22.info()"
   ]
  },
  {
   "cell_type": "code",
   "execution_count": 16,
   "id": "940a114a",
   "metadata": {},
   "outputs": [
    {
     "data": {
      "text/plain": [
       "지역         0\n",
       "망          0\n",
       "측정소코드      0\n",
       "측정소명       0\n",
       "측정일시       0\n",
       "SO2      112\n",
       "CO        80\n",
       "O3        97\n",
       "NO2       80\n",
       "PM10     105\n",
       "PM25      97\n",
       "주소         0\n",
       "dtype: int64"
      ]
     },
     "execution_count": 16,
     "metadata": {},
     "output_type": "execute_result"
    }
   ],
   "source": [
    "# 아래에 실습코드를 작성하고 결과를 확인합니다.\n",
    "air_21.isna().sum()\n"
   ]
  },
  {
   "cell_type": "code",
   "execution_count": 17,
   "id": "11b312e5",
   "metadata": {},
   "outputs": [
    {
     "data": {
      "text/plain": [
       "지역        0\n",
       "망         0\n",
       "측정소코드     0\n",
       "측정소명      0\n",
       "측정일시      0\n",
       "SO2      21\n",
       "CO       21\n",
       "O3       21\n",
       "NO2      21\n",
       "PM10     38\n",
       "PM25     25\n",
       "주소        0\n",
       "dtype: int64"
      ]
     },
     "execution_count": 17,
     "metadata": {},
     "output_type": "execute_result"
    }
   ],
   "source": [
    "air_22.isna().sum()"
   ]
  },
  {
   "cell_type": "code",
   "execution_count": 18,
   "id": "76019dd9",
   "metadata": {},
   "outputs": [],
   "source": [
    "# 아래에 실습코드를 작성하고 결과를 확인합니다."
   ]
  },
  {
   "cell_type": "code",
   "execution_count": 19,
   "id": "ee76fdb6",
   "metadata": {},
   "outputs": [
    {
     "data": {
      "text/plain": [
       "(8759, 38)"
      ]
     },
     "execution_count": 19,
     "metadata": {},
     "output_type": "execute_result"
    }
   ],
   "source": [
    "weather_21.shape"
   ]
  },
  {
   "cell_type": "code",
   "execution_count": 20,
   "id": "4d757435",
   "metadata": {},
   "outputs": [
    {
     "name": "stdout",
     "output_type": "stream",
     "text": [
      "<class 'pandas.core.frame.DataFrame'>\n",
      "RangeIndex: 8759 entries, 0 to 8758\n",
      "Data columns (total 38 columns):\n",
      " #   Column         Non-Null Count  Dtype  \n",
      "---  ------         --------------  -----  \n",
      " 0   지점             8759 non-null   int64  \n",
      " 1   지점명            8759 non-null   object \n",
      " 2   일시             8759 non-null   object \n",
      " 3   기온(°C)         8759 non-null   float64\n",
      " 4   기온 QC플래그       0 non-null      float64\n",
      " 5   강수량(mm)        949 non-null    float64\n",
      " 6   강수량 QC플래그      1763 non-null   float64\n",
      " 7   풍속(m/s)        8757 non-null   float64\n",
      " 8   풍속 QC플래그       2 non-null      float64\n",
      " 9   풍향(16방위)       8757 non-null   float64\n",
      " 10  풍향 QC플래그       2 non-null      float64\n",
      " 11  습도(%)          8759 non-null   int64  \n",
      " 12  습도 QC플래그       0 non-null      float64\n",
      " 13  증기압(hPa)       8759 non-null   float64\n",
      " 14  이슬점온도(°C)      8759 non-null   float64\n",
      " 15  현지기압(hPa)      8759 non-null   float64\n",
      " 16  현지기압 QC플래그     0 non-null      float64\n",
      " 17  해면기압(hPa)      8759 non-null   float64\n",
      " 18  해면기압 QC플래그     0 non-null      float64\n",
      " 19  일조(hr)         4791 non-null   float64\n",
      " 20  일조 QC플래그       3968 non-null   float64\n",
      " 21  일사(MJ/m2)      4791 non-null   float64\n",
      " 22  일사 QC플래그       3968 non-null   float64\n",
      " 23  적설(cm)         379 non-null    float64\n",
      " 24  3시간신적설(cm)     29 non-null     float64\n",
      " 25  전운량(10분위)      8757 non-null   float64\n",
      " 26  중하층운량(10분위)    8759 non-null   int64  \n",
      " 27  운형(운형약어)       4947 non-null   object \n",
      " 28  최저운고(100m )    4547 non-null   float64\n",
      " 29  시정(10m)        8759 non-null   int64  \n",
      " 30  지면상태(지면상태코드)   0 non-null      float64\n",
      " 31  현상번호(국내식)      2125 non-null   float64\n",
      " 32  지면온도(°C)       8754 non-null   float64\n",
      " 33  지면온도 QC플래그     24 non-null     float64\n",
      " 34  5cm 지중온도(°C)   8754 non-null   float64\n",
      " 35  10cm 지중온도(°C)  8754 non-null   float64\n",
      " 36  20cm 지중온도(°C)  8754 non-null   float64\n",
      " 37  30cm 지중온도(°C)  8754 non-null   float64\n",
      "dtypes: float64(31), int64(4), object(3)\n",
      "memory usage: 2.5+ MB\n"
     ]
    }
   ],
   "source": [
    "weather_21.info()"
   ]
  },
  {
   "cell_type": "code",
   "execution_count": 21,
   "id": "88c8c1b3",
   "metadata": {},
   "outputs": [
    {
     "data": {
      "text/plain": [
       "지점                  0\n",
       "지점명                 0\n",
       "일시                  0\n",
       "기온(°C)              0\n",
       "기온 QC플래그         8759\n",
       "강수량(mm)          7810\n",
       "강수량 QC플래그        6996\n",
       "풍속(m/s)             2\n",
       "풍속 QC플래그         8757\n",
       "풍향(16방위)            2\n",
       "풍향 QC플래그         8757\n",
       "습도(%)               0\n",
       "습도 QC플래그         8759\n",
       "증기압(hPa)            0\n",
       "이슬점온도(°C)           0\n",
       "현지기압(hPa)           0\n",
       "현지기압 QC플래그       8759\n",
       "해면기압(hPa)           0\n",
       "해면기압 QC플래그       8759\n",
       "일조(hr)           3968\n",
       "일조 QC플래그         4791\n",
       "일사(MJ/m2)        3968\n",
       "일사 QC플래그         4791\n",
       "적설(cm)           8380\n",
       "3시간신적설(cm)       8730\n",
       "전운량(10분위)           2\n",
       "중하층운량(10분위)         0\n",
       "운형(운형약어)         3812\n",
       "최저운고(100m )      4212\n",
       "시정(10m)             0\n",
       "지면상태(지면상태코드)     8759\n",
       "현상번호(국내식)        6634\n",
       "지면온도(°C)            5\n",
       "지면온도 QC플래그       8735\n",
       "5cm 지중온도(°C)        5\n",
       "10cm 지중온도(°C)       5\n",
       "20cm 지중온도(°C)       5\n",
       "30cm 지중온도(°C)       5\n",
       "dtype: int64"
      ]
     },
     "execution_count": 21,
     "metadata": {},
     "output_type": "execute_result"
    }
   ],
   "source": [
    "weather_21.isna().sum()"
   ]
  },
  {
   "cell_type": "code",
   "execution_count": 22,
   "id": "663b5279",
   "metadata": {},
   "outputs": [
    {
     "data": {
      "text/plain": [
       "지점                  0\n",
       "지점명                 0\n",
       "일시                  0\n",
       "기온(°C)              0\n",
       "기온 QC플래그         2160\n",
       "강수량(mm)          2079\n",
       "강수량 QC플래그        1778\n",
       "풍속(m/s)             0\n",
       "풍속 QC플래그         2160\n",
       "풍향(16방위)            0\n",
       "풍향 QC플래그         2160\n",
       "습도(%)               0\n",
       "습도 QC플래그         2160\n",
       "증기압(hPa)            0\n",
       "이슬점온도(°C)           0\n",
       "현지기압(hPa)           0\n",
       "현지기압 QC플래그       2160\n",
       "해면기압(hPa)           0\n",
       "해면기압 QC플래그       2160\n",
       "일조(hr)           1089\n",
       "일조 QC플래그         1071\n",
       "일사(MJ/m2)        1089\n",
       "일사 QC플래그         1071\n",
       "적설(cm)           2020\n",
       "3시간신적설(cm)       2145\n",
       "전운량(10분위)           0\n",
       "중하층운량(10분위)         0\n",
       "운형(운형약어)         1221\n",
       "최저운고(100m )      1417\n",
       "시정(10m)             0\n",
       "지면상태(지면상태코드)     2160\n",
       "현상번호(국내식)        1742\n",
       "지면온도(°C)            0\n",
       "지면온도 QC플래그       2153\n",
       "5cm 지중온도(°C)        0\n",
       "10cm 지중온도(°C)       0\n",
       "20cm 지중온도(°C)       0\n",
       "30cm 지중온도(°C)       0\n",
       "dtype: int64"
      ]
     },
     "execution_count": 22,
     "metadata": {},
     "output_type": "execute_result"
    }
   ],
   "source": [
    "weather_22.isna().sum()"
   ]
  },
  {
   "cell_type": "markdown",
   "id": "602b8bae",
   "metadata": {},
   "source": [
    "---"
   ]
  },
  {
   "cell_type": "markdown",
   "id": "southeast-integration",
   "metadata": {},
   "source": [
    "# 3. 데이터 분석하기\n",
    "+ KeyPoint : 데이터의 형태를 살펴보고 다양한 분석기법을 통해 모델링에 적합하도록 정제요소를 선별할 수 있다.\n",
    "  * 관측치들의 패턴 탐색\n",
    "  * 잘못된 자료들을 탐색\n",
    "  * 변수들간의 관계 파악"
   ]
  },
  {
   "cell_type": "code",
   "execution_count": 23,
   "id": "194ae01d",
   "metadata": {},
   "outputs": [],
   "source": [
    "# 시각화 한글폰트 설정\n",
    "\n",
    "plt.rc('font', family='Malgun Gothic')\n",
    "sns.set(font=\"Malgun Gothic\",#\"NanumGothicCoding\", \n",
    "        rc={\"axes.unicode_minus\":False}, # 마이너스 부호 깨짐 현상 해결\n",
    "        style='darkgrid')"
   ]
  },
  {
   "cell_type": "markdown",
   "id": "material-complex",
   "metadata": {},
   "source": [
    "#### [실습문제4] 미세먼지 데이터 알아보기\n",
    "* air_21,air_22 의 다양한 변수에 대하여 여러 그래프를 그려보고 인사이트를 도출해보세요."
   ]
  },
  {
   "cell_type": "code",
   "execution_count": 31,
   "id": "2a610ade",
   "metadata": {
    "scrolled": true
   },
   "outputs": [
    {
     "data": {
      "image/png": "[encoded data removed]",
      "text/plain": [
       "<Figure size 432x288 with 1 Axes>"
      ]
     },
     "metadata": {},
     "output_type": "display_data"
    },
    {
     "data": {
      "image/png": "[encoded data removed]",
      "text/plain": [
       "<Figure size 432x288 with 1 Axes>"
      ]
     },
     "metadata": {},
     "output_type": "display_data"
    },
    {
     "data": {
      "image/png": "[encoded data removed]",
      "text/plain": [
       "<Figure size 432x288 with 1 Axes>"
      ]
     },
     "metadata": {},
     "output_type": "display_data"
    },
    {
     "data": {
      "image/png": "[encoded data removed]",
      "text/plain": [
       "<Figure size 432x288 with 1 Axes>"
      ]
     },
     "metadata": {},
     "output_type": "display_data"
    },
    {
     "data": {
      "image/png": "[encoded data removed]",
      "text/plain": [
       "<Figure size 432x288 with 1 Axes>"
      ]
     },
     "metadata": {},
     "output_type": "display_data"
    },
    {
     "data": {
      "image/png": "[encoded data removed]",
      "text/plain": [
       "<Figure size 432x288 with 1 Axes>"
      ]
     },
     "metadata": {},
     "output_type": "display_data"
    },
    {
     "data": {
      "image/png": "[encoded data removed]",
      "text/plain": [
       "<Figure size 432x288 with 1 Axes>"
      ]
     },
     "metadata": {},
     "output_type": "display_data"
    },
    {
     "data": {
      "image/png": "[encoded data removed]",
      "text/plain": [
       "<Figure size 432x288 with 1 Axes>"
      ]
     },
     "metadata": {},
     "output_type": "display_data"
    },
    {
     "data": {
      "image/png": "[encoded data removed]",
      "text/plain": [
       "<Figure size 432x288 with 1 Axes>"
      ]
     },
     "metadata": {},
     "output_type": "display_data"
    },
    {
     "data": {
      "image/png": "[encoded data removed]",
      "text/plain": [
       "<Figure size 432x288 with 1 Axes>"
      ]
     },
     "metadata": {},
     "output_type": "display_data"
    },
    {
     "data": {
      "image/png": "[encoded data removed]",
      "text/plain": [
       "<Figure size 432x288 with 1 Axes>"
      ]
     },
     "metadata": {},
     "output_type": "display_data"
    },
    {
     "data": {
      "image/png": "[encoded data removed]",
      "text/plain": [
       "<Figure size 432x288 with 1 Axes>"
      ]
     },
     "metadata": {},
     "output_type": "display_data"
    }
   ],
   "source": [
    "# 아래에 실습코드를 작성하고 결과를 확인합니다.\n",
    "for i in list(air_21):\n",
    "    plt.hist(air_21[i], bins=30)\n",
    "    plt.xlabel(i)\n",
    "    plt.show()\n",
    "\n",
    "\n"
   ]
  },
  {
   "cell_type": "code",
   "execution_count": 36,
   "id": "f65b331d",
   "metadata": {},
   "outputs": [
    {
     "data": {
      "image/png": "[encoded data removed]",
      "text/plain": [
       "<Figure size 432x288 with 1 Axes>"
      ]
     },
     "metadata": {},
     "output_type": "display_data"
    },
    {
     "data": {
      "text/plain": [
       "<function matplotlib.pyplot.show(close=None, block=None)>"
      ]
     },
     "execution_count": 36,
     "metadata": {},
     "output_type": "execute_result"
    },
    {
     "data": {
      "image/png": "[encoded data removed]",
      "text/plain": [
       "<Figure size 432x288 with 1 Axes>"
      ]
     },
     "metadata": {},
     "output_type": "display_data"
    }
   ],
   "source": [
    "plt.hist(air_21['PM10'], bins=30)\n",
    "plt.show()\n",
    "plt.hist(air_22['PM25'], bins=30)\n",
    "plt.show"
   ]
  },
  {
   "cell_type": "code",
   "execution_count": 1,
   "id": "b111792b",
   "metadata": {
    "scrolled": true
   },
   "outputs": [
    {
     "ename": "NameError",
     "evalue": "name 'plt' is not defined",
     "output_type": "error",
     "traceback": [
      "\u001b[1;31m---------------------------------------------------------------------------\u001b[0m",
      "\u001b[1;31mNameError\u001b[0m                                 Traceback (most recent call last)",
      "\u001b[1;32m<ipython-input-1-a82a17c68156>\u001b[0m in \u001b[0;36m<module>\u001b[1;34m\u001b[0m\n\u001b[1;32m----> 1\u001b[1;33m \u001b[0mplt\u001b[0m\u001b[1;33m.\u001b[0m\u001b[0mhist\u001b[0m\u001b[1;33m(\u001b[0m\u001b[0mair_21\u001b[0m\u001b[1;33m[\u001b[0m\u001b[1;34m'CO'\u001b[0m\u001b[1;33m]\u001b[0m\u001b[1;33m,\u001b[0m \u001b[0mbins\u001b[0m\u001b[1;33m=\u001b[0m\u001b[1;36m30\u001b[0m\u001b[1;33m)\u001b[0m\u001b[1;33m\u001b[0m\u001b[1;33m\u001b[0m\u001b[0m\n\u001b[0m\u001b[0;32m      2\u001b[0m \u001b[0mplt\u001b[0m\u001b[1;33m.\u001b[0m\u001b[0mxlabel\u001b[0m\u001b[1;33m(\u001b[0m\u001b[1;34m'CO'\u001b[0m\u001b[1;33m)\u001b[0m\u001b[1;33m\u001b[0m\u001b[1;33m\u001b[0m\u001b[0m\n\u001b[0;32m      3\u001b[0m \u001b[0mplt\u001b[0m\u001b[1;33m.\u001b[0m\u001b[0mshow\u001b[0m\u001b[1;33m(\u001b[0m\u001b[1;33m)\u001b[0m\u001b[1;33m\u001b[0m\u001b[1;33m\u001b[0m\u001b[0m\n\u001b[0;32m      4\u001b[0m \u001b[0mplt\u001b[0m\u001b[1;33m.\u001b[0m\u001b[0mhist\u001b[0m\u001b[1;33m(\u001b[0m\u001b[0mair_21\u001b[0m\u001b[1;33m[\u001b[0m\u001b[1;34m'SO2'\u001b[0m\u001b[1;33m]\u001b[0m\u001b[1;33m,\u001b[0m \u001b[0mbins\u001b[0m\u001b[1;33m=\u001b[0m\u001b[1;36m30\u001b[0m\u001b[1;33m)\u001b[0m\u001b[1;33m\u001b[0m\u001b[1;33m\u001b[0m\u001b[0m\n\u001b[0;32m      5\u001b[0m \u001b[0mplt\u001b[0m\u001b[1;33m.\u001b[0m\u001b[0mxlabel\u001b[0m\u001b[1;33m(\u001b[0m\u001b[1;34m'SO2'\u001b[0m\u001b[1;33m)\u001b[0m\u001b[1;33m\u001b[0m\u001b[1;33m\u001b[0m\u001b[0m\n",
      "\u001b[1;31mNameError\u001b[0m: name 'plt' is not defined"
     ]
    }
   ],
   "source": [
    "plt.hist(air_21['CO'], bins=30)\n",
    "plt.xlabel('CO')\n",
    "plt.show()\n",
    "plt.hist(air_21['SO2'], bins=30)\n",
    "plt.xlabel('SO2')\n",
    "plt.show()\n",
    "plt.hist(air_21['NO2'], bins=30)\n",
    "plt.xlabel('NO2')\n",
    "plt.show()\n",
    "plt.hist(air_21['O3'], bins=30)\n",
    "plt.xlabel('O3')\n",
    "plt.show()"
   ]
  },
  {
   "cell_type": "code",
   "execution_count": 32,
   "id": "a410daa8",
   "metadata": {
    "scrolled": true
   },
   "outputs": [
    {
     "data": {
      "image/png": "[encoded data removed]",
      "text/plain": [
       "<Figure size 432x288 with 1 Axes>"
      ]
     },
     "metadata": {},
     "output_type": "display_data"
    },
    {
     "data": {
      "image/png": "[encoded data removed]",
      "text/plain": [
       "<Figure size 432x288 with 1 Axes>"
      ]
     },
     "metadata": {},
     "output_type": "display_data"
    },
    {
     "data": {
      "image/png": "[encoded data removed]",
      "text/plain": [
       "<Figure size 432x288 with 1 Axes>"
      ]
     },
     "metadata": {},
     "output_type": "display_data"
    },
    {
     "name": "stderr",
     "output_type": "stream",
     "text": [
      "C:\\Users\\User\\anaconda3\\lib\\site-packages\\matplotlib\\axes\\_axes.py:6623: RuntimeWarning: All-NaN slice encountered\n",
      "  xmin = min(xmin, np.nanmin(xi))\n",
      "C:\\Users\\User\\anaconda3\\lib\\site-packages\\matplotlib\\axes\\_axes.py:6624: RuntimeWarning: All-NaN slice encountered\n",
      "  xmax = max(xmax, np.nanmax(xi))\n"
     ]
    },
    {
     "ename": "ValueError",
     "evalue": "autodetected range of [nan, nan] is not finite",
     "output_type": "error",
     "traceback": [
      "\u001b[1;31m---------------------------------------------------------------------------\u001b[0m",
      "\u001b[1;31mValueError\u001b[0m                                Traceback (most recent call last)",
      "\u001b[1;32m<ipython-input-32-6d6ae4818e36>\u001b[0m in \u001b[0;36m<module>\u001b[1;34m\u001b[0m\n\u001b[0;32m      3\u001b[0m     \u001b[1;32mif\u001b[0m \u001b[0mi\u001b[0m\u001b[1;33m==\u001b[0m\u001b[1;34m'일시'\u001b[0m\u001b[1;33m:\u001b[0m\u001b[1;33m\u001b[0m\u001b[1;33m\u001b[0m\u001b[0m\n\u001b[0;32m      4\u001b[0m         \u001b[1;32mcontinue\u001b[0m\u001b[1;33m\u001b[0m\u001b[1;33m\u001b[0m\u001b[0m\n\u001b[1;32m----> 5\u001b[1;33m     \u001b[0mplt\u001b[0m\u001b[1;33m.\u001b[0m\u001b[0mhist\u001b[0m\u001b[1;33m(\u001b[0m\u001b[0mweather_21\u001b[0m\u001b[1;33m[\u001b[0m\u001b[0mi\u001b[0m\u001b[1;33m]\u001b[0m\u001b[1;33m,\u001b[0m \u001b[0mbins\u001b[0m\u001b[1;33m=\u001b[0m\u001b[1;36m30\u001b[0m\u001b[1;33m)\u001b[0m\u001b[1;33m\u001b[0m\u001b[1;33m\u001b[0m\u001b[0m\n\u001b[0m\u001b[0;32m      6\u001b[0m     \u001b[0mplt\u001b[0m\u001b[1;33m.\u001b[0m\u001b[0mxlabel\u001b[0m\u001b[1;33m(\u001b[0m\u001b[0mi\u001b[0m\u001b[1;33m)\u001b[0m\u001b[1;33m\u001b[0m\u001b[1;33m\u001b[0m\u001b[0m\n\u001b[0;32m      7\u001b[0m     \u001b[0mplt\u001b[0m\u001b[1;33m.\u001b[0m\u001b[0mshow\u001b[0m\u001b[1;33m(\u001b[0m\u001b[1;33m)\u001b[0m\u001b[1;33m\u001b[0m\u001b[1;33m\u001b[0m\u001b[0m\n",
      "\u001b[1;32m~\\anaconda3\\lib\\site-packages\\matplotlib\\pyplot.py\u001b[0m in \u001b[0;36mhist\u001b[1;34m(x, bins, range, density, weights, cumulative, bottom, histtype, align, orientation, rwidth, log, color, label, stacked, data, **kwargs)\u001b[0m\n\u001b[0;32m   2683\u001b[0m         \u001b[0morientation\u001b[0m\u001b[1;33m=\u001b[0m\u001b[1;34m'vertical'\u001b[0m\u001b[1;33m,\u001b[0m \u001b[0mrwidth\u001b[0m\u001b[1;33m=\u001b[0m\u001b[1;32mNone\u001b[0m\u001b[1;33m,\u001b[0m \u001b[0mlog\u001b[0m\u001b[1;33m=\u001b[0m\u001b[1;32mFalse\u001b[0m\u001b[1;33m,\u001b[0m \u001b[0mcolor\u001b[0m\u001b[1;33m=\u001b[0m\u001b[1;32mNone\u001b[0m\u001b[1;33m,\u001b[0m\u001b[1;33m\u001b[0m\u001b[1;33m\u001b[0m\u001b[0m\n\u001b[0;32m   2684\u001b[0m         label=None, stacked=False, *, data=None, **kwargs):\n\u001b[1;32m-> 2685\u001b[1;33m     return gca().hist(\n\u001b[0m\u001b[0;32m   2686\u001b[0m         \u001b[0mx\u001b[0m\u001b[1;33m,\u001b[0m \u001b[0mbins\u001b[0m\u001b[1;33m=\u001b[0m\u001b[0mbins\u001b[0m\u001b[1;33m,\u001b[0m \u001b[0mrange\u001b[0m\u001b[1;33m=\u001b[0m\u001b[0mrange\u001b[0m\u001b[1;33m,\u001b[0m \u001b[0mdensity\u001b[0m\u001b[1;33m=\u001b[0m\u001b[0mdensity\u001b[0m\u001b[1;33m,\u001b[0m \u001b[0mweights\u001b[0m\u001b[1;33m=\u001b[0m\u001b[0mweights\u001b[0m\u001b[1;33m,\u001b[0m\u001b[1;33m\u001b[0m\u001b[1;33m\u001b[0m\u001b[0m\n\u001b[0;32m   2687\u001b[0m         \u001b[0mcumulative\u001b[0m\u001b[1;33m=\u001b[0m\u001b[0mcumulative\u001b[0m\u001b[1;33m,\u001b[0m \u001b[0mbottom\u001b[0m\u001b[1;33m=\u001b[0m\u001b[0mbottom\u001b[0m\u001b[1;33m,\u001b[0m \u001b[0mhisttype\u001b[0m\u001b[1;33m=\u001b[0m\u001b[0mhisttype\u001b[0m\u001b[1;33m,\u001b[0m\u001b[1;33m\u001b[0m\u001b[1;33m\u001b[0m\u001b[0m\n",
      "\u001b[1;32m~\\anaconda3\\lib\\site-packages\\matplotlib\\__init__.py\u001b[0m in \u001b[0;36minner\u001b[1;34m(ax, data, *args, **kwargs)\u001b[0m\n\u001b[0;32m   1445\u001b[0m     \u001b[1;32mdef\u001b[0m \u001b[0minner\u001b[0m\u001b[1;33m(\u001b[0m\u001b[0max\u001b[0m\u001b[1;33m,\u001b[0m \u001b[1;33m*\u001b[0m\u001b[0margs\u001b[0m\u001b[1;33m,\u001b[0m \u001b[0mdata\u001b[0m\u001b[1;33m=\u001b[0m\u001b[1;32mNone\u001b[0m\u001b[1;33m,\u001b[0m \u001b[1;33m**\u001b[0m\u001b[0mkwargs\u001b[0m\u001b[1;33m)\u001b[0m\u001b[1;33m:\u001b[0m\u001b[1;33m\u001b[0m\u001b[1;33m\u001b[0m\u001b[0m\n\u001b[0;32m   1446\u001b[0m         \u001b[1;32mif\u001b[0m \u001b[0mdata\u001b[0m \u001b[1;32mis\u001b[0m \u001b[1;32mNone\u001b[0m\u001b[1;33m:\u001b[0m\u001b[1;33m\u001b[0m\u001b[1;33m\u001b[0m\u001b[0m\n\u001b[1;32m-> 1447\u001b[1;33m             \u001b[1;32mreturn\u001b[0m \u001b[0mfunc\u001b[0m\u001b[1;33m(\u001b[0m\u001b[0max\u001b[0m\u001b[1;33m,\u001b[0m \u001b[1;33m*\u001b[0m\u001b[0mmap\u001b[0m\u001b[1;33m(\u001b[0m\u001b[0msanitize_sequence\u001b[0m\u001b[1;33m,\u001b[0m \u001b[0margs\u001b[0m\u001b[1;33m)\u001b[0m\u001b[1;33m,\u001b[0m \u001b[1;33m**\u001b[0m\u001b[0mkwargs\u001b[0m\u001b[1;33m)\u001b[0m\u001b[1;33m\u001b[0m\u001b[1;33m\u001b[0m\u001b[0m\n\u001b[0m\u001b[0;32m   1448\u001b[0m \u001b[1;33m\u001b[0m\u001b[0m\n\u001b[0;32m   1449\u001b[0m         \u001b[0mbound\u001b[0m \u001b[1;33m=\u001b[0m \u001b[0mnew_sig\u001b[0m\u001b[1;33m.\u001b[0m\u001b[0mbind\u001b[0m\u001b[1;33m(\u001b[0m\u001b[0max\u001b[0m\u001b[1;33m,\u001b[0m \u001b[1;33m*\u001b[0m\u001b[0margs\u001b[0m\u001b[1;33m,\u001b[0m \u001b[1;33m**\u001b[0m\u001b[0mkwargs\u001b[0m\u001b[1;33m)\u001b[0m\u001b[1;33m\u001b[0m\u001b[1;33m\u001b[0m\u001b[0m\n",
      "\u001b[1;32m~\\anaconda3\\lib\\site-packages\\matplotlib\\axes\\_axes.py\u001b[0m in \u001b[0;36mhist\u001b[1;34m(self, x, bins, range, density, weights, cumulative, bottom, histtype, align, orientation, rwidth, log, color, label, stacked, **kwargs)\u001b[0m\n\u001b[0;32m   6649\u001b[0m             \u001b[1;31m# this will automatically overwrite bins,\u001b[0m\u001b[1;33m\u001b[0m\u001b[1;33m\u001b[0m\u001b[1;33m\u001b[0m\u001b[0m\n\u001b[0;32m   6650\u001b[0m             \u001b[1;31m# so that each histogram uses the same bins\u001b[0m\u001b[1;33m\u001b[0m\u001b[1;33m\u001b[0m\u001b[1;33m\u001b[0m\u001b[0m\n\u001b[1;32m-> 6651\u001b[1;33m             \u001b[0mm\u001b[0m\u001b[1;33m,\u001b[0m \u001b[0mbins\u001b[0m \u001b[1;33m=\u001b[0m \u001b[0mnp\u001b[0m\u001b[1;33m.\u001b[0m\u001b[0mhistogram\u001b[0m\u001b[1;33m(\u001b[0m\u001b[0mx\u001b[0m\u001b[1;33m[\u001b[0m\u001b[0mi\u001b[0m\u001b[1;33m]\u001b[0m\u001b[1;33m,\u001b[0m \u001b[0mbins\u001b[0m\u001b[1;33m,\u001b[0m \u001b[0mweights\u001b[0m\u001b[1;33m=\u001b[0m\u001b[0mw\u001b[0m\u001b[1;33m[\u001b[0m\u001b[0mi\u001b[0m\u001b[1;33m]\u001b[0m\u001b[1;33m,\u001b[0m \u001b[1;33m**\u001b[0m\u001b[0mhist_kwargs\u001b[0m\u001b[1;33m)\u001b[0m\u001b[1;33m\u001b[0m\u001b[1;33m\u001b[0m\u001b[0m\n\u001b[0m\u001b[0;32m   6652\u001b[0m             \u001b[0mtops\u001b[0m\u001b[1;33m.\u001b[0m\u001b[0mappend\u001b[0m\u001b[1;33m(\u001b[0m\u001b[0mm\u001b[0m\u001b[1;33m)\u001b[0m\u001b[1;33m\u001b[0m\u001b[1;33m\u001b[0m\u001b[0m\n\u001b[0;32m   6653\u001b[0m         \u001b[0mtops\u001b[0m \u001b[1;33m=\u001b[0m \u001b[0mnp\u001b[0m\u001b[1;33m.\u001b[0m\u001b[0marray\u001b[0m\u001b[1;33m(\u001b[0m\u001b[0mtops\u001b[0m\u001b[1;33m,\u001b[0m \u001b[0mfloat\u001b[0m\u001b[1;33m)\u001b[0m  \u001b[1;31m# causes problems later if it's an int\u001b[0m\u001b[1;33m\u001b[0m\u001b[1;33m\u001b[0m\u001b[0m\n",
      "\u001b[1;32m<__array_function__ internals>\u001b[0m in \u001b[0;36mhistogram\u001b[1;34m(*args, **kwargs)\u001b[0m\n",
      "\u001b[1;32m~\\anaconda3\\lib\\site-packages\\numpy\\lib\\histograms.py\u001b[0m in \u001b[0;36mhistogram\u001b[1;34m(a, bins, range, normed, weights, density)\u001b[0m\n\u001b[0;32m    790\u001b[0m     \u001b[0ma\u001b[0m\u001b[1;33m,\u001b[0m \u001b[0mweights\u001b[0m \u001b[1;33m=\u001b[0m \u001b[0m_ravel_and_check_weights\u001b[0m\u001b[1;33m(\u001b[0m\u001b[0ma\u001b[0m\u001b[1;33m,\u001b[0m \u001b[0mweights\u001b[0m\u001b[1;33m)\u001b[0m\u001b[1;33m\u001b[0m\u001b[1;33m\u001b[0m\u001b[0m\n\u001b[0;32m    791\u001b[0m \u001b[1;33m\u001b[0m\u001b[0m\n\u001b[1;32m--> 792\u001b[1;33m     \u001b[0mbin_edges\u001b[0m\u001b[1;33m,\u001b[0m \u001b[0muniform_bins\u001b[0m \u001b[1;33m=\u001b[0m \u001b[0m_get_bin_edges\u001b[0m\u001b[1;33m(\u001b[0m\u001b[0ma\u001b[0m\u001b[1;33m,\u001b[0m \u001b[0mbins\u001b[0m\u001b[1;33m,\u001b[0m \u001b[0mrange\u001b[0m\u001b[1;33m,\u001b[0m \u001b[0mweights\u001b[0m\u001b[1;33m)\u001b[0m\u001b[1;33m\u001b[0m\u001b[1;33m\u001b[0m\u001b[0m\n\u001b[0m\u001b[0;32m    793\u001b[0m \u001b[1;33m\u001b[0m\u001b[0m\n\u001b[0;32m    794\u001b[0m     \u001b[1;31m# Histogram is an integer or a float array depending on the weights.\u001b[0m\u001b[1;33m\u001b[0m\u001b[1;33m\u001b[0m\u001b[1;33m\u001b[0m\u001b[0m\n",
      "\u001b[1;32m~\\anaconda3\\lib\\site-packages\\numpy\\lib\\histograms.py\u001b[0m in \u001b[0;36m_get_bin_edges\u001b[1;34m(a, bins, range, weights)\u001b[0m\n\u001b[0;32m    424\u001b[0m             \u001b[1;32mraise\u001b[0m \u001b[0mValueError\u001b[0m\u001b[1;33m(\u001b[0m\u001b[1;34m'`bins` must be positive, when an integer'\u001b[0m\u001b[1;33m)\u001b[0m\u001b[1;33m\u001b[0m\u001b[1;33m\u001b[0m\u001b[0m\n\u001b[0;32m    425\u001b[0m \u001b[1;33m\u001b[0m\u001b[0m\n\u001b[1;32m--> 426\u001b[1;33m         \u001b[0mfirst_edge\u001b[0m\u001b[1;33m,\u001b[0m \u001b[0mlast_edge\u001b[0m \u001b[1;33m=\u001b[0m \u001b[0m_get_outer_edges\u001b[0m\u001b[1;33m(\u001b[0m\u001b[0ma\u001b[0m\u001b[1;33m,\u001b[0m \u001b[0mrange\u001b[0m\u001b[1;33m)\u001b[0m\u001b[1;33m\u001b[0m\u001b[1;33m\u001b[0m\u001b[0m\n\u001b[0m\u001b[0;32m    427\u001b[0m \u001b[1;33m\u001b[0m\u001b[0m\n\u001b[0;32m    428\u001b[0m     \u001b[1;32melif\u001b[0m \u001b[0mnp\u001b[0m\u001b[1;33m.\u001b[0m\u001b[0mndim\u001b[0m\u001b[1;33m(\u001b[0m\u001b[0mbins\u001b[0m\u001b[1;33m)\u001b[0m \u001b[1;33m==\u001b[0m \u001b[1;36m1\u001b[0m\u001b[1;33m:\u001b[0m\u001b[1;33m\u001b[0m\u001b[1;33m\u001b[0m\u001b[0m\n",
      "\u001b[1;32m~\\anaconda3\\lib\\site-packages\\numpy\\lib\\histograms.py\u001b[0m in \u001b[0;36m_get_outer_edges\u001b[1;34m(a, range)\u001b[0m\n\u001b[0;32m    321\u001b[0m         \u001b[0mfirst_edge\u001b[0m\u001b[1;33m,\u001b[0m \u001b[0mlast_edge\u001b[0m \u001b[1;33m=\u001b[0m \u001b[0ma\u001b[0m\u001b[1;33m.\u001b[0m\u001b[0mmin\u001b[0m\u001b[1;33m(\u001b[0m\u001b[1;33m)\u001b[0m\u001b[1;33m,\u001b[0m \u001b[0ma\u001b[0m\u001b[1;33m.\u001b[0m\u001b[0mmax\u001b[0m\u001b[1;33m(\u001b[0m\u001b[1;33m)\u001b[0m\u001b[1;33m\u001b[0m\u001b[1;33m\u001b[0m\u001b[0m\n\u001b[0;32m    322\u001b[0m         \u001b[1;32mif\u001b[0m \u001b[1;32mnot\u001b[0m \u001b[1;33m(\u001b[0m\u001b[0mnp\u001b[0m\u001b[1;33m.\u001b[0m\u001b[0misfinite\u001b[0m\u001b[1;33m(\u001b[0m\u001b[0mfirst_edge\u001b[0m\u001b[1;33m)\u001b[0m \u001b[1;32mand\u001b[0m \u001b[0mnp\u001b[0m\u001b[1;33m.\u001b[0m\u001b[0misfinite\u001b[0m\u001b[1;33m(\u001b[0m\u001b[0mlast_edge\u001b[0m\u001b[1;33m)\u001b[0m\u001b[1;33m)\u001b[0m\u001b[1;33m:\u001b[0m\u001b[1;33m\u001b[0m\u001b[1;33m\u001b[0m\u001b[0m\n\u001b[1;32m--> 323\u001b[1;33m             raise ValueError(\n\u001b[0m\u001b[0;32m    324\u001b[0m                 \"autodetected range of [{}, {}] is not finite\".format(first_edge, last_edge))\n\u001b[0;32m    325\u001b[0m \u001b[1;33m\u001b[0m\u001b[0m\n",
      "\u001b[1;31mValueError\u001b[0m: autodetected range of [nan, nan] is not finite"
     ]
    },
    {
     "data": {
      "image/png": "[encoded data removed]",
      "text/plain": [
       "<Figure size 432x288 with 1 Axes>"
      ]
     },
     "metadata": {},
     "output_type": "display_data"
    }
   ],
   "source": [
    "# 아래에 실습코드를 작성하고 결과를 확인합니다.\n",
    "for i in list(weather_21):\n",
    "    if i=='일시':\n",
    "        continue\n",
    "    plt.hist(weather_21[i], bins=30)\n",
    "    plt.xlabel(i)\n",
    "    plt.show()"
   ]
  },
  {
   "cell_type": "code",
   "execution_count": 43,
   "id": "7507b3aa",
   "metadata": {
    "scrolled": false
   },
   "outputs": [
    {
     "data": {
      "text/html": [
       "<div>\n",
       "<style scoped>\n",
       "    .dataframe tbody tr th:only-of-type {\n",
       "        vertical-align: middle;\n",
       "    }\n",
       "\n",
       "    .dataframe tbody tr th {\n",
       "        vertical-align: top;\n",
       "    }\n",
       "\n",
       "    .dataframe thead th {\n",
       "        text-align: right;\n",
       "    }\n",
       "</style>\n",
       "<table border=\"1\" class=\"dataframe\">\n",
       "  <thead>\n",
       "    <tr style=\"text-align: right;\">\n",
       "      <th></th>\n",
       "      <th>지점</th>\n",
       "      <th>지점명</th>\n",
       "      <th>일시</th>\n",
       "      <th>기온(°C)</th>\n",
       "      <th>기온 QC플래그</th>\n",
       "      <th>강수량(mm)</th>\n",
       "      <th>강수량 QC플래그</th>\n",
       "      <th>풍속(m/s)</th>\n",
       "      <th>풍속 QC플래그</th>\n",
       "      <th>풍향(16방위)</th>\n",
       "      <th>...</th>\n",
       "      <th>최저운고(100m )</th>\n",
       "      <th>시정(10m)</th>\n",
       "      <th>지면상태(지면상태코드)</th>\n",
       "      <th>현상번호(국내식)</th>\n",
       "      <th>지면온도(°C)</th>\n",
       "      <th>지면온도 QC플래그</th>\n",
       "      <th>5cm 지중온도(°C)</th>\n",
       "      <th>10cm 지중온도(°C)</th>\n",
       "      <th>20cm 지중온도(°C)</th>\n",
       "      <th>30cm 지중온도(°C)</th>\n",
       "    </tr>\n",
       "  </thead>\n",
       "  <tbody>\n",
       "    <tr>\n",
       "      <th>0</th>\n",
       "      <td>108</td>\n",
       "      <td>서울</td>\n",
       "      <td>2021-01-01 01:00</td>\n",
       "      <td>-8.7</td>\n",
       "      <td>NaN</td>\n",
       "      <td>NaN</td>\n",
       "      <td>NaN</td>\n",
       "      <td>2.4</td>\n",
       "      <td>NaN</td>\n",
       "      <td>270.0</td>\n",
       "      <td>...</td>\n",
       "      <td>NaN</td>\n",
       "      <td>2000</td>\n",
       "      <td>NaN</td>\n",
       "      <td>NaN</td>\n",
       "      <td>-6.9</td>\n",
       "      <td>NaN</td>\n",
       "      <td>-1.0</td>\n",
       "      <td>-0.8</td>\n",
       "      <td>0.3</td>\n",
       "      <td>1.6</td>\n",
       "    </tr>\n",
       "    <tr>\n",
       "      <th>1</th>\n",
       "      <td>108</td>\n",
       "      <td>서울</td>\n",
       "      <td>2021-01-01 02:00</td>\n",
       "      <td>-9.1</td>\n",
       "      <td>NaN</td>\n",
       "      <td>NaN</td>\n",
       "      <td>NaN</td>\n",
       "      <td>1.6</td>\n",
       "      <td>NaN</td>\n",
       "      <td>270.0</td>\n",
       "      <td>...</td>\n",
       "      <td>NaN</td>\n",
       "      <td>2000</td>\n",
       "      <td>NaN</td>\n",
       "      <td>NaN</td>\n",
       "      <td>-7.1</td>\n",
       "      <td>NaN</td>\n",
       "      <td>-1.1</td>\n",
       "      <td>-0.8</td>\n",
       "      <td>0.3</td>\n",
       "      <td>1.6</td>\n",
       "    </tr>\n",
       "    <tr>\n",
       "      <th>2</th>\n",
       "      <td>108</td>\n",
       "      <td>서울</td>\n",
       "      <td>2021-01-01 03:00</td>\n",
       "      <td>-9.3</td>\n",
       "      <td>NaN</td>\n",
       "      <td>NaN</td>\n",
       "      <td>NaN</td>\n",
       "      <td>1.1</td>\n",
       "      <td>NaN</td>\n",
       "      <td>250.0</td>\n",
       "      <td>...</td>\n",
       "      <td>NaN</td>\n",
       "      <td>2000</td>\n",
       "      <td>NaN</td>\n",
       "      <td>NaN</td>\n",
       "      <td>-7.3</td>\n",
       "      <td>NaN</td>\n",
       "      <td>-1.2</td>\n",
       "      <td>-0.9</td>\n",
       "      <td>0.3</td>\n",
       "      <td>1.6</td>\n",
       "    </tr>\n",
       "    <tr>\n",
       "      <th>3</th>\n",
       "      <td>108</td>\n",
       "      <td>서울</td>\n",
       "      <td>2021-01-01 04:00</td>\n",
       "      <td>-9.3</td>\n",
       "      <td>NaN</td>\n",
       "      <td>NaN</td>\n",
       "      <td>NaN</td>\n",
       "      <td>0.3</td>\n",
       "      <td>NaN</td>\n",
       "      <td>0.0</td>\n",
       "      <td>...</td>\n",
       "      <td>NaN</td>\n",
       "      <td>2000</td>\n",
       "      <td>NaN</td>\n",
       "      <td>NaN</td>\n",
       "      <td>-7.5</td>\n",
       "      <td>NaN</td>\n",
       "      <td>-1.3</td>\n",
       "      <td>-1.0</td>\n",
       "      <td>0.2</td>\n",
       "      <td>1.5</td>\n",
       "    </tr>\n",
       "    <tr>\n",
       "      <th>4</th>\n",
       "      <td>108</td>\n",
       "      <td>서울</td>\n",
       "      <td>2021-01-01 05:00</td>\n",
       "      <td>-9.7</td>\n",
       "      <td>NaN</td>\n",
       "      <td>NaN</td>\n",
       "      <td>NaN</td>\n",
       "      <td>1.9</td>\n",
       "      <td>NaN</td>\n",
       "      <td>20.0</td>\n",
       "      <td>...</td>\n",
       "      <td>NaN</td>\n",
       "      <td>2000</td>\n",
       "      <td>NaN</td>\n",
       "      <td>NaN</td>\n",
       "      <td>-7.6</td>\n",
       "      <td>NaN</td>\n",
       "      <td>-1.3</td>\n",
       "      <td>-1.0</td>\n",
       "      <td>0.2</td>\n",
       "      <td>1.5</td>\n",
       "    </tr>\n",
       "    <tr>\n",
       "      <th>...</th>\n",
       "      <td>...</td>\n",
       "      <td>...</td>\n",
       "      <td>...</td>\n",
       "      <td>...</td>\n",
       "      <td>...</td>\n",
       "      <td>...</td>\n",
       "      <td>...</td>\n",
       "      <td>...</td>\n",
       "      <td>...</td>\n",
       "      <td>...</td>\n",
       "      <td>...</td>\n",
       "      <td>...</td>\n",
       "      <td>...</td>\n",
       "      <td>...</td>\n",
       "      <td>...</td>\n",
       "      <td>...</td>\n",
       "      <td>...</td>\n",
       "      <td>...</td>\n",
       "      <td>...</td>\n",
       "      <td>...</td>\n",
       "      <td>...</td>\n",
       "    </tr>\n",
       "    <tr>\n",
       "      <th>8754</th>\n",
       "      <td>108</td>\n",
       "      <td>서울</td>\n",
       "      <td>2021-12-31 19:00</td>\n",
       "      <td>-6.4</td>\n",
       "      <td>NaN</td>\n",
       "      <td>NaN</td>\n",
       "      <td>NaN</td>\n",
       "      <td>2.2</td>\n",
       "      <td>NaN</td>\n",
       "      <td>250.0</td>\n",
       "      <td>...</td>\n",
       "      <td>NaN</td>\n",
       "      <td>2000</td>\n",
       "      <td>NaN</td>\n",
       "      <td>NaN</td>\n",
       "      <td>-4.5</td>\n",
       "      <td>NaN</td>\n",
       "      <td>-0.5</td>\n",
       "      <td>-0.7</td>\n",
       "      <td>-0.1</td>\n",
       "      <td>1.0</td>\n",
       "    </tr>\n",
       "    <tr>\n",
       "      <th>8755</th>\n",
       "      <td>108</td>\n",
       "      <td>서울</td>\n",
       "      <td>2021-12-31 20:00</td>\n",
       "      <td>-6.3</td>\n",
       "      <td>NaN</td>\n",
       "      <td>NaN</td>\n",
       "      <td>NaN</td>\n",
       "      <td>4.1</td>\n",
       "      <td>NaN</td>\n",
       "      <td>320.0</td>\n",
       "      <td>...</td>\n",
       "      <td>NaN</td>\n",
       "      <td>2000</td>\n",
       "      <td>NaN</td>\n",
       "      <td>NaN</td>\n",
       "      <td>-5.3</td>\n",
       "      <td>NaN</td>\n",
       "      <td>-0.6</td>\n",
       "      <td>-0.8</td>\n",
       "      <td>-0.1</td>\n",
       "      <td>1.0</td>\n",
       "    </tr>\n",
       "    <tr>\n",
       "      <th>8756</th>\n",
       "      <td>108</td>\n",
       "      <td>서울</td>\n",
       "      <td>2021-12-31 21:00</td>\n",
       "      <td>-6.7</td>\n",
       "      <td>NaN</td>\n",
       "      <td>NaN</td>\n",
       "      <td>NaN</td>\n",
       "      <td>4.8</td>\n",
       "      <td>NaN</td>\n",
       "      <td>320.0</td>\n",
       "      <td>...</td>\n",
       "      <td>NaN</td>\n",
       "      <td>2000</td>\n",
       "      <td>NaN</td>\n",
       "      <td>NaN</td>\n",
       "      <td>-5.7</td>\n",
       "      <td>NaN</td>\n",
       "      <td>-0.7</td>\n",
       "      <td>-0.8</td>\n",
       "      <td>-0.1</td>\n",
       "      <td>1.0</td>\n",
       "    </tr>\n",
       "    <tr>\n",
       "      <th>8757</th>\n",
       "      <td>108</td>\n",
       "      <td>서울</td>\n",
       "      <td>2021-12-31 22:00</td>\n",
       "      <td>-7.5</td>\n",
       "      <td>NaN</td>\n",
       "      <td>NaN</td>\n",
       "      <td>NaN</td>\n",
       "      <td>3.0</td>\n",
       "      <td>NaN</td>\n",
       "      <td>320.0</td>\n",
       "      <td>...</td>\n",
       "      <td>NaN</td>\n",
       "      <td>2000</td>\n",
       "      <td>NaN</td>\n",
       "      <td>NaN</td>\n",
       "      <td>-6.2</td>\n",
       "      <td>NaN</td>\n",
       "      <td>-0.8</td>\n",
       "      <td>-0.9</td>\n",
       "      <td>-0.2</td>\n",
       "      <td>1.0</td>\n",
       "    </tr>\n",
       "    <tr>\n",
       "      <th>8758</th>\n",
       "      <td>108</td>\n",
       "      <td>서울</td>\n",
       "      <td>2021-12-31 23:00</td>\n",
       "      <td>-7.7</td>\n",
       "      <td>NaN</td>\n",
       "      <td>NaN</td>\n",
       "      <td>NaN</td>\n",
       "      <td>2.9</td>\n",
       "      <td>NaN</td>\n",
       "      <td>320.0</td>\n",
       "      <td>...</td>\n",
       "      <td>NaN</td>\n",
       "      <td>2000</td>\n",
       "      <td>NaN</td>\n",
       "      <td>NaN</td>\n",
       "      <td>-6.5</td>\n",
       "      <td>NaN</td>\n",
       "      <td>-0.9</td>\n",
       "      <td>-0.9</td>\n",
       "      <td>-0.2</td>\n",
       "      <td>1.0</td>\n",
       "    </tr>\n",
       "  </tbody>\n",
       "</table>\n",
       "<p>8759 rows × 38 columns</p>\n",
       "</div>"
      ],
      "text/plain": [
       "       지점 지점명                일시  기온(°C)  기온 QC플래그  강수량(mm)  강수량 QC플래그  \\\n",
       "0     108  서울  2021-01-01 01:00    -8.7       NaN      NaN        NaN   \n",
       "1     108  서울  2021-01-01 02:00    -9.1       NaN      NaN        NaN   \n",
       "2     108  서울  2021-01-01 03:00    -9.3       NaN      NaN        NaN   \n",
       "3     108  서울  2021-01-01 04:00    -9.3       NaN      NaN        NaN   \n",
       "4     108  서울  2021-01-01 05:00    -9.7       NaN      NaN        NaN   \n",
       "...   ...  ..               ...     ...       ...      ...        ...   \n",
       "8754  108  서울  2021-12-31 19:00    -6.4       NaN      NaN        NaN   \n",
       "8755  108  서울  2021-12-31 20:00    -6.3       NaN      NaN        NaN   \n",
       "8756  108  서울  2021-12-31 21:00    -6.7       NaN      NaN        NaN   \n",
       "8757  108  서울  2021-12-31 22:00    -7.5       NaN      NaN        NaN   \n",
       "8758  108  서울  2021-12-31 23:00    -7.7       NaN      NaN        NaN   \n",
       "\n",
       "      풍속(m/s)  풍속 QC플래그  풍향(16방위)  ...  최저운고(100m )  시정(10m)  지면상태(지면상태코드)  \\\n",
       "0         2.4       NaN     270.0  ...          NaN     2000           NaN   \n",
       "1         1.6       NaN     270.0  ...          NaN     2000           NaN   \n",
       "2         1.1       NaN     250.0  ...          NaN     2000           NaN   \n",
       "3         0.3       NaN       0.0  ...          NaN     2000           NaN   \n",
       "4         1.9       NaN      20.0  ...          NaN     2000           NaN   \n",
       "...       ...       ...       ...  ...          ...      ...           ...   \n",
       "8754      2.2       NaN     250.0  ...          NaN     2000           NaN   \n",
       "8755      4.1       NaN     320.0  ...          NaN     2000           NaN   \n",
       "8756      4.8       NaN     320.0  ...          NaN     2000           NaN   \n",
       "8757      3.0       NaN     320.0  ...          NaN     2000           NaN   \n",
       "8758      2.9       NaN     320.0  ...          NaN     2000           NaN   \n",
       "\n",
       "      현상번호(국내식)  지면온도(°C)  지면온도 QC플래그  5cm 지중온도(°C)  10cm 지중온도(°C)  \\\n",
       "0           NaN      -6.9         NaN          -1.0           -0.8   \n",
       "1           NaN      -7.1         NaN          -1.1           -0.8   \n",
       "2           NaN      -7.3         NaN          -1.2           -0.9   \n",
       "3           NaN      -7.5         NaN          -1.3           -1.0   \n",
       "4           NaN      -7.6         NaN          -1.3           -1.0   \n",
       "...         ...       ...         ...           ...            ...   \n",
       "8754        NaN      -4.5         NaN          -0.5           -0.7   \n",
       "8755        NaN      -5.3         NaN          -0.6           -0.8   \n",
       "8756        NaN      -5.7         NaN          -0.7           -0.8   \n",
       "8757        NaN      -6.2         NaN          -0.8           -0.9   \n",
       "8758        NaN      -6.5         NaN          -0.9           -0.9   \n",
       "\n",
       "      20cm 지중온도(°C)  30cm 지중온도(°C)  \n",
       "0               0.3            1.6  \n",
       "1               0.3            1.6  \n",
       "2               0.3            1.6  \n",
       "3               0.2            1.5  \n",
       "4               0.2            1.5  \n",
       "...             ...            ...  \n",
       "8754           -0.1            1.0  \n",
       "8755           -0.1            1.0  \n",
       "8756           -0.1            1.0  \n",
       "8757           -0.2            1.0  \n",
       "8758           -0.2            1.0  \n",
       "\n",
       "[8759 rows x 38 columns]"
      ]
     },
     "execution_count": 43,
     "metadata": {},
     "output_type": "execute_result"
    }
   ],
   "source": [
    "# 아래에 실습코드를 작성하고 결과를 확인합니다.\n"
   ]
  },
  {
   "cell_type": "code",
   "execution_count": 25,
   "id": "7d9242b9",
   "metadata": {},
   "outputs": [
    {
     "data": {
      "image/png": "[encoded data removed]",
      "text/plain": [
       "<Figure size 432x288 with 1 Axes>"
      ]
     },
     "metadata": {},
     "output_type": "display_data"
    }
   ],
   "source": [
    "plt.hist(weather_21['풍속(m/s)'], bins=30)\n",
    "plt.xlabel('풍속(m/s)')\n",
    "plt.show()"
   ]
  },
  {
   "cell_type": "code",
   "execution_count": 50,
   "id": "73db0c09",
   "metadata": {
    "scrolled": false
   },
   "outputs": [
    {
     "data": {
      "image/png": "[encoded data removed]",
      "text/plain": [
       "<Figure size 432x288 with 1 Axes>"
      ]
     },
     "metadata": {},
     "output_type": "display_data"
    }
   ],
   "source": [
    "plt.hist(weather_21['풍향(16방위)'], bins=30)\n",
    "plt.show()"
   ]
  },
  {
   "cell_type": "code",
   "execution_count": 27,
   "id": "c0f173e7",
   "metadata": {
    "scrolled": false
   },
   "outputs": [
    {
     "data": {
      "image/png": "[encoded data removed]",
      "text/plain": [
       "<Figure size 432x288 with 1 Axes>"
      ]
     },
     "metadata": {},
     "output_type": "display_data"
    }
   ],
   "source": [
    "plt.hist(weather_21['습도(%)'], bins=30)\n",
    "plt.xlabel('습도(%)')\n",
    "plt.show()"
   ]
  },
  {
   "cell_type": "code",
   "execution_count": 52,
   "id": "39d926a0",
   "metadata": {
    "scrolled": false
   },
   "outputs": [
    {
     "data": {
      "image/png": "[encoded data removed]",
      "text/plain": [
       "<Figure size 432x288 with 1 Axes>"
      ]
     },
     "metadata": {},
     "output_type": "display_data"
    }
   ],
   "source": [
    "plt.hist(weather_21['증기압(hPa)'], bins=30)\n",
    "plt.show()"
   ]
  },
  {
   "cell_type": "code",
   "execution_count": 28,
   "id": "cbb3bea7",
   "metadata": {
    "scrolled": false
   },
   "outputs": [
    {
     "data": {
      "image/png": "[encoded data removed]",
      "text/plain": [
       "<Figure size 432x288 with 1 Axes>"
      ]
     },
     "metadata": {},
     "output_type": "display_data"
    }
   ],
   "source": [
    "plt.hist(weather_21['이슬점온도(°C)'], bins=30)\n",
    "plt.xlabel('이슬점온도(°C)')\n",
    "plt.show()"
   ]
  },
  {
   "cell_type": "code",
   "execution_count": 29,
   "id": "9aef271a",
   "metadata": {
    "scrolled": false
   },
   "outputs": [
    {
     "data": {
      "image/png": "[encoded data removed]",
      "text/plain": [
       "<Figure size 432x288 with 1 Axes>"
      ]
     },
     "metadata": {},
     "output_type": "display_data"
    }
   ],
   "source": [
    "plt.hist(weather_21['현지기압(hPa)'], bins=30)\n",
    "plt.xlabel('현지기압(hPa)')\n",
    "plt.show()"
   ]
  },
  {
   "cell_type": "code",
   "execution_count": 30,
   "id": "0362e316",
   "metadata": {
    "scrolled": false
   },
   "outputs": [
    {
     "data": {
      "image/png": "[encoded data removed]",
      "text/plain": [
       "<Figure size 432x288 with 1 Axes>"
      ]
     },
     "metadata": {},
     "output_type": "display_data"
    }
   ],
   "source": [
    "plt.hist(weather_21['해면기압(hPa)'], bins=30)\n",
    "plt.xlabel('해면기압(hPa)')\n",
    "plt.show()"
   ]
  },
  {
   "cell_type": "code",
   "execution_count": 56,
   "id": "731834aa",
   "metadata": {
    "scrolled": false
   },
   "outputs": [
    {
     "data": {
      "image/png": "[encoded data removed]",
      "text/plain": [
       "<Figure size 432x288 with 1 Axes>"
      ]
     },
     "metadata": {},
     "output_type": "display_data"
    }
   ],
   "source": [
    "plt.hist(weather_21['일조(hr)'], bins=30)\n",
    "plt.show()"
   ]
  },
  {
   "cell_type": "code",
   "execution_count": 57,
   "id": "14b72f5c",
   "metadata": {
    "scrolled": false
   },
   "outputs": [
    {
     "data": {
      "image/png": "[encoded data removed]",
      "text/plain": [
       "<Figure size 432x288 with 1 Axes>"
      ]
     },
     "metadata": {},
     "output_type": "display_data"
    }
   ],
   "source": [
    "plt.hist(weather_21['일사(MJ/m2)'], bins=30)\n",
    "plt.show()"
   ]
  },
  {
   "cell_type": "code",
   "execution_count": 58,
   "id": "7cc501c0",
   "metadata": {
    "scrolled": false
   },
   "outputs": [
    {
     "data": {
      "image/png": "[encoded data removed]",
      "text/plain": [
       "<Figure size 432x288 with 1 Axes>"
      ]
     },
     "metadata": {},
     "output_type": "display_data"
    }
   ],
   "source": [
    "plt.hist(weather_21['적설(cm)'], bins=30)\n",
    "plt.show()"
   ]
  },
  {
   "cell_type": "code",
   "execution_count": 59,
   "id": "2d03f5ce",
   "metadata": {
    "scrolled": false
   },
   "outputs": [
    {
     "data": {
      "image/png": "[encoded data removed]",
      "text/plain": [
       "<Figure size 432x288 with 1 Axes>"
      ]
     },
     "metadata": {},
     "output_type": "display_data"
    }
   ],
   "source": [
    "plt.hist(weather_21['3시간신적설(cm)'], bins=30)\n",
    "plt.show()"
   ]
  },
  {
   "cell_type": "code",
   "execution_count": 60,
   "id": "ded0bd99",
   "metadata": {
    "scrolled": false
   },
   "outputs": [
    {
     "data": {
      "image/png": "[encoded data removed]",
      "text/plain": [
       "<Figure size 432x288 with 1 Axes>"
      ]
     },
     "metadata": {},
     "output_type": "display_data"
    }
   ],
   "source": [
    "plt.hist(weather_21['전운량(10분위)'], bins=30)\n",
    "plt.show()"
   ]
  },
  {
   "cell_type": "code",
   "execution_count": 61,
   "id": "18a56297",
   "metadata": {
    "scrolled": false
   },
   "outputs": [
    {
     "data": {
      "image/png": "[encoded data removed]",
      "text/plain": [
       "<Figure size 432x288 with 1 Axes>"
      ]
     },
     "metadata": {},
     "output_type": "display_data"
    }
   ],
   "source": [
    "plt.hist(weather_21['중하층운량(10분위)'], bins=30)\n",
    "plt.show()"
   ]
  },
  {
   "cell_type": "code",
   "execution_count": 63,
   "id": "40388575",
   "metadata": {
    "scrolled": false
   },
   "outputs": [
    {
     "data": {
      "image/png": "[encoded data removed]",
      "text/plain": [
       "<Figure size 432x288 with 1 Axes>"
      ]
     },
     "metadata": {},
     "output_type": "display_data"
    }
   ],
   "source": [
    "plt.hist(weather_21['최저운고(100m )'], bins=30)\n",
    "plt.show()"
   ]
  },
  {
   "cell_type": "code",
   "execution_count": 64,
   "id": "7219fa0d",
   "metadata": {
    "scrolled": false
   },
   "outputs": [
    {
     "data": {
      "image/png": "[encoded data removed]",
      "text/plain": [
       "<Figure size 432x288 with 1 Axes>"
      ]
     },
     "metadata": {},
     "output_type": "display_data"
    }
   ],
   "source": [
    "plt.hist(weather_21['시정(10m)'], bins=30)\n",
    "plt.show()"
   ]
  },
  {
   "cell_type": "code",
   "execution_count": 67,
   "id": "3aab0c4e",
   "metadata": {
    "scrolled": false
   },
   "outputs": [
    {
     "data": {
      "image/png": "[encoded data removed]",
      "text/plain": [
       "<Figure size 432x288 with 1 Axes>"
      ]
     },
     "metadata": {},
     "output_type": "display_data"
    }
   ],
   "source": [
    "sns.barplot(weather_21['지면상태(지면상태코드)'])\n",
    "plt.show()"
   ]
  },
  {
   "cell_type": "code",
   "execution_count": 72,
   "id": "0e78e919",
   "metadata": {
    "scrolled": true
   },
   "outputs": [
    {
     "data": {
      "text/plain": [
       "array([nan])"
      ]
     },
     "execution_count": 72,
     "metadata": {},
     "output_type": "execute_result"
    }
   ],
   "source": [
    "weather_21['지면상태(지면상태코드)'].unique()"
   ]
  },
  {
   "cell_type": "code",
   "execution_count": 73,
   "id": "bb3c6398",
   "metadata": {},
   "outputs": [
    {
     "data": {
      "text/plain": [
       "array([nan, 'Sc', 'ScAcCi', 'ScCi', 'Ci', 'ScAs', 'StNs', 'Cs', 'AcCs',\n",
       "       'AcCi', 'ScAc', 'St', 'Cc', 'Ac', 'As', 'ScCs', 'CuSc', 'StAs',\n",
       "       'CsCi', 'CbStNs', 'AcCc', 'ScCc', 'CuScNs', 'CuScAc', 'CuAc',\n",
       "       'CuCi', 'CuAs', 'CuScAs', 'Cu', 'CuScAcCi', 'CuScCi', 'CbCu',\n",
       "       'CbScNs', 'CuScCc', 'CuScCcCi', 'CuScCs', 'CbScCs', 'ScCcCi',\n",
       "       'CuCcCi', 'CuAcCc', 'CbSc', 'ScAcCs', 'StAsCi', 'ScAsCi', 'AcCcCi',\n",
       "       'CcCi', 'CbScAs'], dtype=object)"
      ]
     },
     "execution_count": 73,
     "metadata": {},
     "output_type": "execute_result"
    }
   ],
   "source": [
    "weather_21['운형(운형약어)'].unique()"
   ]
  },
  {
   "cell_type": "code",
   "execution_count": 80,
   "id": "e4880dfb",
   "metadata": {
    "scrolled": false
   },
   "outputs": [
    {
     "data": {
      "text/plain": [
       "0     NaN\n",
       "1     NaN\n",
       "2     NaN\n",
       "3     NaN\n",
       "4     NaN\n",
       "     ... \n",
       "95    NaN\n",
       "96     Sc\n",
       "97     Sc\n",
       "98     Sc\n",
       "99     Sc\n",
       "Name: 운형(운형약어), Length: 100, dtype: object"
      ]
     },
     "execution_count": 80,
     "metadata": {},
     "output_type": "execute_result"
    }
   ],
   "source": [
    "weather_21['운형(운형약어)'].head(100)"
   ]
  },
  {
   "cell_type": "code",
   "execution_count": 82,
   "id": "5af131d2",
   "metadata": {
    "scrolled": true
   },
   "outputs": [
    {
     "data": {
      "image/png": "[encoded data removed]",
      "text/plain": [
       "<Figure size 432x288 with 1 Axes>"
      ]
     },
     "metadata": {},
     "output_type": "display_data"
    }
   ],
   "source": [
    "plt.hist(weather_21['현상번호(국내식)'], bins=100)\n",
    "plt.show()"
   ]
  },
  {
   "cell_type": "code",
   "execution_count": 83,
   "id": "68d8704f",
   "metadata": {
    "scrolled": true
   },
   "outputs": [
    {
     "data": {
      "text/plain": [
       "array([          nan, 5.0000000e+00, 1.9050000e+03, 1.9000000e+01,\n",
       "       4.2190000e+03, 4.2000000e+01, 1.0000000e+00, 1.9010000e+03,\n",
       "       1.9160000e+03, 1.6000000e+01, 1.9020000e+03, 4.0190000e+03,\n",
       "       4.0000000e+01, 4.0010000e+03, 4.0190100e+05, 1.1050000e+03,\n",
       "       1.1000000e+01, 1.9060100e+05, 1.9060500e+05, 1.9020100e+05,\n",
       "       1.9160201e+07, 1.9160200e+05, 4.2190200e+05, 4.2010000e+03,\n",
       "       4.2040000e+03, 1.9160100e+05, 2.0000000e+00, 2.0100000e+02,\n",
       "       4.2190100e+05, 1.9040100e+05, 1.9040000e+03, 4.0000000e+00,\n",
       "       4.0100000e+02, 1.9040200e+05, 1.9060000e+03, 6.0000000e+00,\n",
       "       1.0060100e+05, 1.0000000e+01, 1.0050000e+03, 1.9100000e+03])"
      ]
     },
     "execution_count": 83,
     "metadata": {},
     "output_type": "execute_result"
    }
   ],
   "source": [
    "weather_21['현상번호(국내식)'].unique()"
   ]
  },
  {
   "cell_type": "code",
   "execution_count": 84,
   "id": "071d2329",
   "metadata": {
    "scrolled": true
   },
   "outputs": [
    {
     "data": {
      "text/plain": [
       "array([ -6.9,  -7.1,  -7.3,  -7.5,  -7.6,  -7.4,  -6.8,  -6.2,  -3.4,\n",
       "        -0.5,   1.5,   3.3,   4.3,   1.4,  -0.2,  -0.4,  -0.9,  -1.2,\n",
       "        -1.5,  -1.4,  -1.8,  -2.8,  -3.8,  -4.7,  -5.3,  -5.9,  -6.4,\n",
       "        -7.2,  -7.8,  -6.7,  -3.9,  -0.7,   1.2,   3.6,   3.5,   1.6,\n",
       "        -0.3,  -1.1,  -2.3,  -3. ,  -4.6,  -5.4,  -6. ,  -7.7,  -8. ,\n",
       "        -8.1,  -8.3,  -8.2,  -4.1,   1.1,   0. ,  -0.8,  -3.5,  -6.1,\n",
       "        -7. ,  -7.9,  -3.3,   2.1,   2.5,   0.5,  -1. ,  -1.6,  -1.7,\n",
       "        -2.1,  -2.5,  -3.7,  -4.3,  -4.9,  -3.2,   2.7,   0.7,  -2.4,\n",
       "        -5.1,  -8.4,  -8.8,  -9.1,  -9.4,  -9.5,  -9.6,  -8.6,   3. ,\n",
       "         5.1,   4.6,   3.1,  -0.6,  -2.2,  -2. ,  -1.9,  -2.6,  -3.1,\n",
       "        -4. ,  -4.4,  -8.9, -10. , -10.4, -10.7, -11. , -11.3, -11.5,\n",
       "       -11.8, -12.1, -12.3, -12.5, -12.7, -11.7,  -3.6,  -0.1,  -2.9,\n",
       "        -5.2,  -9. ,  -9.8, -10.2, -11.1, -11.4, -11.9, -12. , -12.6,\n",
       "         0.4,  -8.7,  -9.2, -10.8, -11.6,  -6.5,   2.8,  -4.2,   0.2,\n",
       "         0.3,  -5.6,  -9.3,  -5.8,   4.9,   1.8,   3.4,   5.5,   1. ,\n",
       "         2.3,   4.8,   5.6,   4.5,   3.7,   1.7,   1.9,   4.7,  -5.5,\n",
       "        -6.3,  -8.5,   2.2,   0.1,  -2.7,  -4.8,  -9.7,  -9.9,   2.4,\n",
       "         5.3,   3.8,   7.4,   6.2,   2. ,   0.9,   0.8,   1.3,   2.6,\n",
       "         4.1,   3.9,   2.9,   0.6,   8.9,   8.3,   8.7,   9.5,  10.5,\n",
       "         7.1,   7.9,  12.7,  15. ,  14.6,  13.2,   8.6,   9.2,  12. ,\n",
       "        13.6,  12.6,   5.9,   7.2,   4.4,   3.2,   9. ,  -1.3,   5.2,\n",
       "         4. ,   6.6,   5. ,   5.7,  10.1,  11.9,  10.9,   6.1,   6.9,\n",
       "         5.4,   7.7,   6.3,   4.2,   7.6,  10.7,  14. ,  13.3,   8.8,\n",
       "        14.3,  17.6,  15.9,  11.4,  11.6,  16.6,  18.1,  18.8,  16.2,\n",
       "        11.7,   8.5,   9.1,  13.9,  14.2,  10.8,   7.5,  12.4,  10. ,\n",
       "        15.6,  17.7,  16.5,  13.8,   7. ,   7.3,  15.1,  17.2,  16.4,\n",
       "         6. ,  14.7,  13.1,   5.8,  10.6,  16.1,  15.7,  11.3,   6.8,\n",
       "         6.7,   8.4,   6.5,  17.5,  19.2,  19.6,  13.7,   9.9,  16.7,\n",
       "        18.4,  18.7,  16.8,   9.7,   9.6,  13.4,  15.4,  17. ,  15.2,\n",
       "         9.3,   6.4,   8.2,  14.8,  12.9,  20.6,  23.1,  23.4,  22.5,\n",
       "        19.1,  13.5,  10.4,  11. ,  12.1,   9.8,  19.7,  22.3,  21.3,\n",
       "        19.3,  18. ,  21.1,  23.5,  20.5,  14.4,  17.4,  17.3,  21.2,\n",
       "        22.6,  19. ,   8.1,  21.5,  23.2,  21.4,  16.9,  13. ,  21.9,\n",
       "        18.6,  17.1,   8. ,  14.1,  21. ,  22. ,  18.3,  17.9,   9.4,\n",
       "        20.1,  23. ,  24.6,  22.2,  14.5,  25. ,  25.9,  24.3,  14.9,\n",
       "        15.8,  18.2,  22.1,  20.4,  22.8,  17.8,  21.8,  25.2,  26.6,\n",
       "        27.6,  25.8,  23.3,  12.5,  12.3,  10.3,  11.2,  24.1,  24.8,\n",
       "        25.7,  24.7,  22.4,  26. ,  27.4,  28.2,  26.8,   7.8,  23.6,\n",
       "        25.4,  20.9,  11.8,  11.1,  11.5,  21.6,  20.7,  15.3,  16.3,\n",
       "        12.8,  23.7,  27. ,  26.5,  25.1,  28.3,  28.4,  26.9,  10.2,\n",
       "        26.4,  26.2,  15.5,  22.9,  19.8,  18.5,  23.9,  20.2,  25.5,\n",
       "        28.5,  27.7,  25.3,  28.9,  28.6,  22.7,  27.8,  28.8,  30. ,\n",
       "        29.2,  27.9,  18.9,  27.1,  29.8,  30.6,  31.6,  16. ,  19.5,\n",
       "        19.9,  23.8,  26.7,  24. ,  28. ,  29. ,  29.7,  30.1,  28.7,\n",
       "        27.3,  30.4,  31.7,  30.2,  20. ,  32.9,  34.8,  35.6,  32.5,\n",
       "        31. ,  31.5,  24.4,  21.7,  27.5,  32.7,  36.6,  39. ,  39.2,\n",
       "        36.1,  34.7,  32. ,  36.5,  36. ,  24.2,  20.3,  12.2,  25.6,\n",
       "        29.9,  29.5,  29.6,  29.1,  29.4,  29.3,  31.2,  30.8,  20.8,\n",
       "        26.3,  34.1,  32.1,  31.8,  33.2,  37.8,  38.2,  37. ,  34.2,\n",
       "        26.1,  38.9,  38.8,  36.7,  35.9,  32.3,  33.7,  24.5,  31.9,\n",
       "        33.4,  34.6,  31.3,  27.2,  19.4,  33.5,  32.4,  30.5,  32.8,\n",
       "        34.3,  33.1,  34. ,  35. ,  35.4,  35.3,  33.6,  32.6,  31.4,\n",
       "        28.1,  35.2,  33.3,  34.5,  33. ,  36.8,  38. ,  38.5,  33.9,\n",
       "        32.2,  31.1,  24.9,   nan,  37.5,  34.9,  38.1,  37.6,  38.6,\n",
       "        30.3,  34.4,  35.7,  37.7,  39.4,  41.1,  39.8,  37.4,  38.4,\n",
       "        37.1,  40.4,  36.2,  39.3,  33.8,  30.7,  30.9,  36.3,  38.3,\n",
       "        37.3,  35.1,  40.9,  43. ,  43.5,  41.3,  36.9,  40.7,  41.8,\n",
       "        42.8,  40.2,  40.6,  39.1,  35.8,  37.9,  39.6,  40.1,  42. ,\n",
       "        43.7,  45.2,  43.8,  42.5,  37.2,  41. ,  44.1,  45.8,  47.1,\n",
       "        46.8,  45. ,  42.1,  39.5,  36.4,  45.4,  43.1,  47.3,  45.9,\n",
       "        41.7,  39.9,  48.2,  46.3,  49. ,  46.2,  53.3,  47.5,  42.2,\n",
       "        41.4,  43.4,  40.8,  43.3,  42.9,  42.7,  38.7,  41.2,  48.1,\n",
       "        41.5,  47.2,  44.8,  43.2,  45.3,  41.9,  47.7,  52.6,  53.4,\n",
       "        55.7,  40.3,  47.8,  50. ,  56.2,  55. ,  51.4,  50.4,  45.1,\n",
       "        51.8,  56.8,  48.9,  46.9,  44. ,  35.5,  39.7,  40.5,  40. ,\n",
       "        45.5,  42.6,  43.9,  46. ,  46.6,  46.7,  44.6,  -4.5,  -5. ,\n",
       "        -5.7,  -6.6])"
      ]
     },
     "execution_count": 84,
     "metadata": {},
     "output_type": "execute_result"
    }
   ],
   "source": [
    "weather_21['지면온도(°C)'].unique()"
   ]
  },
  {
   "cell_type": "code",
   "execution_count": 33,
   "id": "a7b3d920",
   "metadata": {
    "scrolled": false
   },
   "outputs": [
    {
     "data": {
      "image/png": "[encoded data removed]",
      "text/plain": [
       "<Figure size 432x288 with 1 Axes>"
      ]
     },
     "metadata": {},
     "output_type": "display_data"
    }
   ],
   "source": [
    "plt.hist(weather_21['지면온도(°C)'], bins=30)\n",
    "plt.xlabel('지면온도(°C)')\n",
    "plt.show()"
   ]
  },
  {
   "cell_type": "code",
   "execution_count": 34,
   "id": "5118bf82",
   "metadata": {
    "scrolled": false
   },
   "outputs": [
    {
     "data": {
      "image/png": "[encoded data removed]",
      "text/plain": [
       "<Figure size 432x288 with 1 Axes>"
      ]
     },
     "metadata": {},
     "output_type": "display_data"
    }
   ],
   "source": [
    "plt.hist(weather_21['5cm 지중온도(°C)'], bins=30)\n",
    "plt.xlabel('5cm 지중온도(°C)')\n",
    "plt.show()"
   ]
  },
  {
   "cell_type": "code",
   "execution_count": 35,
   "id": "11d623b3",
   "metadata": {
    "scrolled": true
   },
   "outputs": [
    {
     "data": {
      "image/png": "[encoded data removed]",
      "text/plain": [
       "<Figure size 432x288 with 1 Axes>"
      ]
     },
     "metadata": {},
     "output_type": "display_data"
    }
   ],
   "source": [
    "plt.hist(weather_21['10cm 지중온도(°C)'], bins=30)\n",
    "plt.xlabel('10cm 지중온도(°C)')\n",
    "plt.show()"
   ]
  },
  {
   "cell_type": "code",
   "execution_count": 36,
   "id": "c6147de7",
   "metadata": {
    "scrolled": true
   },
   "outputs": [
    {
     "data": {
      "image/png": "[encoded data removed]",
      "text/plain": [
       "<Figure size 432x288 with 1 Axes>"
      ]
     },
     "metadata": {},
     "output_type": "display_data"
    }
   ],
   "source": [
    "plt.hist(weather_21['20cm 지중온도(°C)'], bins=30)\n",
    "plt.xlabel('20cm 지중온도(°C)')\n",
    "plt.show()"
   ]
  },
  {
   "cell_type": "code",
   "execution_count": 38,
   "id": "a37426f7",
   "metadata": {
    "scrolled": true
   },
   "outputs": [
    {
     "data": {
      "image/png": "[encoded data removed]",
      "text/plain": [
       "<Figure size 432x288 with 1 Axes>"
      ]
     },
     "metadata": {},
     "output_type": "display_data"
    }
   ],
   "source": [
    "plt.hist(weather_21['30cm 지중온도(°C)'], bins=30)\n",
    "plt.xlabel('30cm 지중온도(°C)')\n",
    "plt.show()"
   ]
  },
  {
   "cell_type": "code",
   "execution_count": 40,
   "id": "91d63df5",
   "metadata": {},
   "outputs": [],
   "source": [
    "import scipy.stats as spst"
   ]
  },
  {
   "cell_type": "code",
   "execution_count": 53,
   "id": "cb5bf502",
   "metadata": {},
   "outputs": [],
   "source": [
    "weather_21['5cm 지중온도(°C)'] = weather_21['5cm 지중온도(°C)'].dropna()"
   ]
  },
  {
   "cell_type": "code",
   "execution_count": 54,
   "id": "782f18b5",
   "metadata": {},
   "outputs": [
    {
     "data": {
      "text/plain": [
       "지점                  0\n",
       "지점명                 0\n",
       "일시                  0\n",
       "기온(°C)              0\n",
       "기온 QC플래그         8759\n",
       "강수량(mm)          7810\n",
       "강수량 QC플래그        6996\n",
       "풍속(m/s)             2\n",
       "풍속 QC플래그         8757\n",
       "풍향(16방위)            2\n",
       "풍향 QC플래그         8757\n",
       "습도(%)               0\n",
       "습도 QC플래그         8759\n",
       "증기압(hPa)            0\n",
       "이슬점온도(°C)           0\n",
       "현지기압(hPa)           0\n",
       "현지기압 QC플래그       8759\n",
       "해면기압(hPa)           0\n",
       "해면기압 QC플래그       8759\n",
       "일조(hr)           3968\n",
       "일조 QC플래그         4791\n",
       "일사(MJ/m2)        3968\n",
       "일사 QC플래그         4791\n",
       "적설(cm)           8380\n",
       "3시간신적설(cm)       8730\n",
       "전운량(10분위)           2\n",
       "중하층운량(10분위)         0\n",
       "운형(운형약어)         3812\n",
       "최저운고(100m )      4212\n",
       "시정(10m)             0\n",
       "지면상태(지면상태코드)     8759\n",
       "현상번호(국내식)        6634\n",
       "지면온도(°C)            5\n",
       "지면온도 QC플래그       8735\n",
       "5cm 지중온도(°C)        5\n",
       "10cm 지중온도(°C)       5\n",
       "20cm 지중온도(°C)       5\n",
       "30cm 지중온도(°C)       5\n",
       "dtype: int64"
      ]
     },
     "execution_count": 54,
     "metadata": {},
     "output_type": "execute_result"
    }
   ],
   "source": [
    "weather_21.isna().sum()"
   ]
  },
  {
   "cell_type": "code",
   "execution_count": 58,
   "id": "05545c74",
   "metadata": {},
   "outputs": [
    {
     "data": {
      "image/png": "[encoded data removed]",
      "text/plain": [
       "<Figure size 432x288 with 1 Axes>"
      ]
     },
     "metadata": {},
     "output_type": "display_data"
    },
    {
     "data": {
      "text/plain": [
       "(0.8656287748036855, 0.0)"
      ]
     },
     "execution_count": 58,
     "metadata": {},
     "output_type": "execute_result"
    }
   ],
   "source": [
    "plt.scatter(weather_21['지면온도(°C)'], weather_21['30cm 지중온도(°C)'])\n",
    "plt.show()\n",
    "spst.pearsonr(weather_21['지면온도(°C)'], weather_21['30cm 지중온도(°C)'])"
   ]
  },
  {
   "cell_type": "code",
   "execution_count": 91,
   "id": "86892a60",
   "metadata": {},
   "outputs": [],
   "source": [
    "# 위 차트를 통해 알게된 사실을 정리해봅시다. - 미세먼지\n",
    "# 1. 지역, 망, 측정소코드, 측정소명, 주소는 값이 하나뿐이다. => 이 컬럼들을 drop하거나 포함하고 가거나 선택 필요\n",
    "# 2. PM10과 PM25의 그래프 모양이 비슷하다.\n",
    "# 3. CO와 NO2의 그래프 모양이 비슷하다."
   ]
  },
  {
   "cell_type": "code",
   "execution_count": 92,
   "id": "e6cdcafb",
   "metadata": {},
   "outputs": [],
   "source": [
    "# 날씨\n",
    "# 1. 습도, 현지기압, 해면기압, 지면온도의 그래프 모양이 비슷하다.\n",
    "# 2. 현상번호(국내식)은 모든 데이터가 다 0에 너무 가깝다. (단일 데이터로 보이기도 함)\n",
    "# 3. 지중온도는 5, 10, 20그래프가 다 너무 비슷하게 생겼다. => 하나만 남기거나 포함하고 진행하거나 선택 필요\n",
    "# 그리고 지면 온도와 지중 온도의 그래프가 비슷하게 생겼다.\n",
    "# 4. 지면상태코드는 값이 없다. => drop하거나 그냥 진행하거나."
   ]
  },
  {
   "cell_type": "markdown",
   "id": "bb6af03a",
   "metadata": {},
   "source": [
    "#### [실습문제5] 날씨 데이터 알아보기\n",
    "* weather_21, weather_22 의 다양한 변수에 대하여 여러 그래프를 그려보고 인사이트를 도출해보세요."
   ]
  },
  {
   "cell_type": "code",
   "execution_count": null,
   "id": "eb26af58",
   "metadata": {},
   "outputs": [],
   "source": [
    "# 아래에 실습코드를 작성하고 결과를 확인합니다.\n",
    "\n",
    "\n",
    "\n"
   ]
  },
  {
   "cell_type": "code",
   "execution_count": null,
   "id": "c84b6d88",
   "metadata": {
    "scrolled": false
   },
   "outputs": [],
   "source": [
    "# 아래에 실습코드를 작성하고 결과를 확인합니다.\n",
    "\n",
    "\n",
    "\n"
   ]
  },
  {
   "cell_type": "code",
   "execution_count": null,
   "id": "03642c66",
   "metadata": {
    "scrolled": false
   },
   "outputs": [],
   "source": [
    "# 아래에 실습코드를 작성하고 결과를 확인합니다.\n",
    "\n",
    "\n",
    "\n"
   ]
  },
  {
   "cell_type": "code",
   "execution_count": null,
   "id": "88c96dab",
   "metadata": {},
   "outputs": [],
   "source": [
    "# 위 차트를 통해 알게된 사실을 정리해봅시다.(집중! 데이터 분포의 모양을 잘 살펴봐주세요.)\n",
    "# 1. \n",
    "# 2.\n",
    "# 3."
   ]
  }
 ],
 "metadata": {
  "kernelspec": {
   "display_name": "Python 3",
   "language": "python",
   "name": "python3"
  },
  "language_info": {
   "codemirror_mode": {
    "name": "ipython",
    "version": 3
   },
   "file_extension": ".py",
   "mimetype": "text/x-python",
   "name": "python",
   "nbconvert_exporter": "python",
   "pygments_lexer": "ipython3",
   "version": "3.8.8"
  },
  "vscode": {
   "interpreter": {
    "hash": "f08154012ddadd8e950e6e9e035c7a7b32c136e7647e9b7c77e02eb723a8bedb"
   }
  }
 },
 "nbformat": 4,
 "nbformat_minor": 5
}
