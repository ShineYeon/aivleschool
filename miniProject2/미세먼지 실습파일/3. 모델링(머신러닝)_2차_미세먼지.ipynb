{
 "cells": [
  {
   "cell_type": "markdown",
   "id": "22f7625f",
   "metadata": {},
   "source": [
    "# 안녕하세요^^ \n",
    "# AIVLE 미니 프로젝트에 오신 여러분을 환영합니다.\n",
    "* 본 과정에서는 실제 사례와 데이터를 기반으로 문제를 해결하는 전체 과정을 자기 주도형 실습으로 진행해볼 예정입니다.\n",
    "* 앞선 교육과정을 정리하는 마음과 지금까지 배운 내용을 바탕으로 문제 해결을 해볼게요!\n",
    "* 미니 프로젝트를 통한 문제 해결 과정 'A에서 Z까지', 지금부터 시작합니다!"
   ]
  },
  {
   "cell_type": "markdown",
   "id": "04b1edbb",
   "metadata": {},
   "source": [
    "---"
   ]
  },
  {
   "cell_type": "code",
   "execution_count": null,
   "id": "3c1789e6",
   "metadata": {},
   "outputs": [],
   "source": [
    "# 필요 라이브러리부터 설치할께요.\n",
    "!pip install pandas seaborn sklearn"
   ]
  },
  {
   "cell_type": "markdown",
   "id": "69d11f7f",
   "metadata": {},
   "source": [
    "---"
   ]
  },
  {
   "cell_type": "markdown",
   "id": "b5cf42a0",
   "metadata": {},
   "source": [
    "---"
   ]
  },
  {
   "cell_type": "markdown",
   "id": "skilled-burden",
   "metadata": {},
   "source": [
    "# 1. 라이브러리 Import 및 데이터 불러오기\n",
    "\n",
    "* sklearn 을 설치 하세요. \n",
    "\n",
    "* 관련 라이브러리들을 불러오세요"
   ]
  },
  {
   "cell_type": "code",
   "execution_count": 1,
   "id": "efficient-minutes",
   "metadata": {},
   "outputs": [],
   "source": [
    "import pandas as pd\n",
    "\n",
    "# 학습/평가 데이터 로딩\n",
    "df_21_feature = pd.read_csv(\"train_x.csv\")\n",
    "df_21_target = pd.read_csv(\"train_y.csv\")\n",
    "df_22_feature = pd.read_csv(\"test_x.csv\")\n",
    "df_22_target = pd.read_csv(\"test_y.csv\")"
   ]
  },
  {
   "cell_type": "markdown",
   "id": "forbidden-course",
   "metadata": {},
   "source": [
    "#### [실습문제1] 라이브러리 불러오기\n",
    "\n"
   ]
  },
  {
   "cell_type": "code",
   "execution_count": 2,
   "id": "changed-arrangement",
   "metadata": {
    "scrolled": true
   },
   "outputs": [],
   "source": [
    "# 아래에 실습코드를 작성하세요.\n",
    "from sklearn.model_selection import GridSearchCV\n",
    "from sklearn.linear_model import LinearRegression\n",
    "from sklearn.svm import SVR\n",
    "import seaborn as sns\n",
    "\n",
    "import matplotlib.pyplot as plt\n",
    "import warnings    # 경고메시지 제외\n",
    "warnings.filterwarnings(action='ignore')\n",
    "\n",
    "# 모델링용\n",
    "from sklearn.linear_model import LinearRegression\n",
    "\n",
    "# 회귀모델 평가용\n",
    "from sklearn.metrics import r2_score, mean_squared_error, mean_absolute_error, mean_absolute_percentage_error\n",
    "\n",
    "plt.rc('font', family='Malgun Gothic')\n",
    "sns.set(font=\"Malgun Gothic\",#\"NanumGothicCoding\", \n",
    "        rc={\"axes.unicode_minus\":False}, # 마이너스 부호 깨짐 현상 해결\n",
    "        style='darkgrid')"
   ]
  },
  {
   "cell_type": "code",
   "execution_count": null,
   "id": "de830693",
   "metadata": {},
   "outputs": [],
   "source": []
  },
  {
   "cell_type": "code",
   "execution_count": 9,
   "id": "49f5b5a8",
   "metadata": {},
   "outputs": [
    {
     "ename": "KeyError",
     "evalue": "'5cm 지중온도(°C)'",
     "output_type": "error",
     "traceback": [
      "\u001b[1;31m---------------------------------------------------------------------------\u001b[0m",
      "\u001b[1;31mKeyError\u001b[0m                                  Traceback (most recent call last)",
      "\u001b[1;32m~\\anaconda3\\lib\\site-packages\\pandas\\core\\indexes\\base.py\u001b[0m in \u001b[0;36mget_loc\u001b[1;34m(self, key, method, tolerance)\u001b[0m\n\u001b[0;32m   3079\u001b[0m             \u001b[1;32mtry\u001b[0m\u001b[1;33m:\u001b[0m\u001b[1;33m\u001b[0m\u001b[1;33m\u001b[0m\u001b[0m\n\u001b[1;32m-> 3080\u001b[1;33m                 \u001b[1;32mreturn\u001b[0m \u001b[0mself\u001b[0m\u001b[1;33m.\u001b[0m\u001b[0m_engine\u001b[0m\u001b[1;33m.\u001b[0m\u001b[0mget_loc\u001b[0m\u001b[1;33m(\u001b[0m\u001b[0mcasted_key\u001b[0m\u001b[1;33m)\u001b[0m\u001b[1;33m\u001b[0m\u001b[1;33m\u001b[0m\u001b[0m\n\u001b[0m\u001b[0;32m   3081\u001b[0m             \u001b[1;32mexcept\u001b[0m \u001b[0mKeyError\u001b[0m \u001b[1;32mas\u001b[0m \u001b[0merr\u001b[0m\u001b[1;33m:\u001b[0m\u001b[1;33m\u001b[0m\u001b[1;33m\u001b[0m\u001b[0m\n",
      "\u001b[1;32mpandas\\_libs\\index.pyx\u001b[0m in \u001b[0;36mpandas._libs.index.IndexEngine.get_loc\u001b[1;34m()\u001b[0m\n",
      "\u001b[1;32mpandas\\_libs\\index.pyx\u001b[0m in \u001b[0;36mpandas._libs.index.IndexEngine.get_loc\u001b[1;34m()\u001b[0m\n",
      "\u001b[1;32mpandas\\_libs\\hashtable_class_helper.pxi\u001b[0m in \u001b[0;36mpandas._libs.hashtable.PyObjectHashTable.get_item\u001b[1;34m()\u001b[0m\n",
      "\u001b[1;32mpandas\\_libs\\hashtable_class_helper.pxi\u001b[0m in \u001b[0;36mpandas._libs.hashtable.PyObjectHashTable.get_item\u001b[1;34m()\u001b[0m\n",
      "\u001b[1;31mKeyError\u001b[0m: '5cm 지중온도(°C)'",
      "\nThe above exception was the direct cause of the following exception:\n",
      "\u001b[1;31mKeyError\u001b[0m                                  Traceback (most recent call last)",
      "\u001b[1;32m<ipython-input-9-b1351c55d71f>\u001b[0m in \u001b[0;36m<module>\u001b[1;34m\u001b[0m\n\u001b[1;32m----> 1\u001b[1;33m \u001b[0mplt\u001b[0m\u001b[1;33m.\u001b[0m\u001b[0mscatter\u001b[0m\u001b[1;33m(\u001b[0m\u001b[0mdf_21_feature\u001b[0m\u001b[1;33m[\u001b[0m\u001b[1;34m'지면온도(°C)'\u001b[0m\u001b[1;33m]\u001b[0m\u001b[1;33m,\u001b[0m \u001b[0mdf_21_feature\u001b[0m\u001b[1;33m[\u001b[0m\u001b[1;34m'5cm 지중온도(°C)'\u001b[0m\u001b[1;33m]\u001b[0m\u001b[1;33m)\u001b[0m\u001b[1;33m\u001b[0m\u001b[1;33m\u001b[0m\u001b[0m\n\u001b[0m\u001b[0;32m      2\u001b[0m \u001b[0mplt\u001b[0m\u001b[1;33m.\u001b[0m\u001b[0mshow\u001b[0m\u001b[1;33m(\u001b[0m\u001b[1;33m)\u001b[0m\u001b[1;33m\u001b[0m\u001b[1;33m\u001b[0m\u001b[0m\n\u001b[0;32m      3\u001b[0m \u001b[0mspst\u001b[0m\u001b[1;33m.\u001b[0m\u001b[0mpearsonr\u001b[0m\u001b[1;33m(\u001b[0m\u001b[0mdf_21_feature\u001b[0m\u001b[1;33m[\u001b[0m\u001b[1;34m'지면온도(°C)'\u001b[0m\u001b[1;33m]\u001b[0m\u001b[1;33m,\u001b[0m \u001b[0mweather_21df_21_feature\u001b[0m\u001b[1;33m[\u001b[0m\u001b[1;34m'5cm 지중온도(°C)'\u001b[0m\u001b[1;33m]\u001b[0m\u001b[1;33m)\u001b[0m\u001b[1;33m\u001b[0m\u001b[1;33m\u001b[0m\u001b[0m\n",
      "\u001b[1;32m~\\anaconda3\\lib\\site-packages\\pandas\\core\\frame.py\u001b[0m in \u001b[0;36m__getitem__\u001b[1;34m(self, key)\u001b[0m\n\u001b[0;32m   3022\u001b[0m             \u001b[1;32mif\u001b[0m \u001b[0mself\u001b[0m\u001b[1;33m.\u001b[0m\u001b[0mcolumns\u001b[0m\u001b[1;33m.\u001b[0m\u001b[0mnlevels\u001b[0m \u001b[1;33m>\u001b[0m \u001b[1;36m1\u001b[0m\u001b[1;33m:\u001b[0m\u001b[1;33m\u001b[0m\u001b[1;33m\u001b[0m\u001b[0m\n\u001b[0;32m   3023\u001b[0m                 \u001b[1;32mreturn\u001b[0m \u001b[0mself\u001b[0m\u001b[1;33m.\u001b[0m\u001b[0m_getitem_multilevel\u001b[0m\u001b[1;33m(\u001b[0m\u001b[0mkey\u001b[0m\u001b[1;33m)\u001b[0m\u001b[1;33m\u001b[0m\u001b[1;33m\u001b[0m\u001b[0m\n\u001b[1;32m-> 3024\u001b[1;33m             \u001b[0mindexer\u001b[0m \u001b[1;33m=\u001b[0m \u001b[0mself\u001b[0m\u001b[1;33m.\u001b[0m\u001b[0mcolumns\u001b[0m\u001b[1;33m.\u001b[0m\u001b[0mget_loc\u001b[0m\u001b[1;33m(\u001b[0m\u001b[0mkey\u001b[0m\u001b[1;33m)\u001b[0m\u001b[1;33m\u001b[0m\u001b[1;33m\u001b[0m\u001b[0m\n\u001b[0m\u001b[0;32m   3025\u001b[0m             \u001b[1;32mif\u001b[0m \u001b[0mis_integer\u001b[0m\u001b[1;33m(\u001b[0m\u001b[0mindexer\u001b[0m\u001b[1;33m)\u001b[0m\u001b[1;33m:\u001b[0m\u001b[1;33m\u001b[0m\u001b[1;33m\u001b[0m\u001b[0m\n\u001b[0;32m   3026\u001b[0m                 \u001b[0mindexer\u001b[0m \u001b[1;33m=\u001b[0m \u001b[1;33m[\u001b[0m\u001b[0mindexer\u001b[0m\u001b[1;33m]\u001b[0m\u001b[1;33m\u001b[0m\u001b[1;33m\u001b[0m\u001b[0m\n",
      "\u001b[1;32m~\\anaconda3\\lib\\site-packages\\pandas\\core\\indexes\\base.py\u001b[0m in \u001b[0;36mget_loc\u001b[1;34m(self, key, method, tolerance)\u001b[0m\n\u001b[0;32m   3080\u001b[0m                 \u001b[1;32mreturn\u001b[0m \u001b[0mself\u001b[0m\u001b[1;33m.\u001b[0m\u001b[0m_engine\u001b[0m\u001b[1;33m.\u001b[0m\u001b[0mget_loc\u001b[0m\u001b[1;33m(\u001b[0m\u001b[0mcasted_key\u001b[0m\u001b[1;33m)\u001b[0m\u001b[1;33m\u001b[0m\u001b[1;33m\u001b[0m\u001b[0m\n\u001b[0;32m   3081\u001b[0m             \u001b[1;32mexcept\u001b[0m \u001b[0mKeyError\u001b[0m \u001b[1;32mas\u001b[0m \u001b[0merr\u001b[0m\u001b[1;33m:\u001b[0m\u001b[1;33m\u001b[0m\u001b[1;33m\u001b[0m\u001b[0m\n\u001b[1;32m-> 3082\u001b[1;33m                 \u001b[1;32mraise\u001b[0m \u001b[0mKeyError\u001b[0m\u001b[1;33m(\u001b[0m\u001b[0mkey\u001b[0m\u001b[1;33m)\u001b[0m \u001b[1;32mfrom\u001b[0m \u001b[0merr\u001b[0m\u001b[1;33m\u001b[0m\u001b[1;33m\u001b[0m\u001b[0m\n\u001b[0m\u001b[0;32m   3083\u001b[0m \u001b[1;33m\u001b[0m\u001b[0m\n\u001b[0;32m   3084\u001b[0m         \u001b[1;32mif\u001b[0m \u001b[0mtolerance\u001b[0m \u001b[1;32mis\u001b[0m \u001b[1;32mnot\u001b[0m \u001b[1;32mNone\u001b[0m\u001b[1;33m:\u001b[0m\u001b[1;33m\u001b[0m\u001b[1;33m\u001b[0m\u001b[0m\n",
      "\u001b[1;31mKeyError\u001b[0m: '5cm 지중온도(°C)'"
     ]
    }
   ],
   "source": [
    "plt.scatter(df_21_feature['지면온도(°C)'], df_21_feature['5cm 지중온도(°C)'])\n",
    "plt.show()\n",
    "spst.pearsonr(df_21_feature['지면온도(°C)'], weather_21df_21_feature['5cm 지중온도(°C)'])"
   ]
  },
  {
   "cell_type": "markdown",
   "id": "2084ca1a",
   "metadata": {},
   "source": [
    "---"
   ]
  },
  {
   "cell_type": "markdown",
   "id": "native-expansion",
   "metadata": {},
   "source": [
    "# 2. Modeling\n",
    "## 이제 모델링을 해봅시다!\n",
    "+ KeyPoint : 머신러닝 라이브러리를 토대로 모델링을 할 수 있다."
   ]
  },
  {
   "cell_type": "markdown",
   "id": "persistent-brighton",
   "metadata": {},
   "source": [
    "### 가. LinearRegression 부터 시작해봅시다."
   ]
  },
  {
   "cell_type": "markdown",
   "id": "joined-client",
   "metadata": {},
   "source": [
    "#### [실습문제2] 머신러닝_1\n",
    "* Train과 Test로 나눈 데이터를 기준으로 LinearRegression 모델링을 진행하고 평가를 해주세요.\n",
    "* 그리고 모델 파일을 pkl로 저장해주세요.\n",
    "* 성능지표 : RMSE, R-squared Score(소수점 5째자리까지, 반올림)"
   ]
  },
  {
   "cell_type": "code",
   "execution_count": 3,
   "id": "7e542ccd",
   "metadata": {},
   "outputs": [],
   "source": [
    "df_21_feature.drop(columns='일시', axis=1, inplace=True)"
   ]
  },
  {
   "cell_type": "code",
   "execution_count": 4,
   "id": "565a81a4",
   "metadata": {},
   "outputs": [],
   "source": [
    "df_22_feature.drop(columns='일시', axis=1, inplace=True)"
   ]
  },
  {
   "cell_type": "code",
   "execution_count": 136,
   "id": "d1e40db7",
   "metadata": {},
   "outputs": [
    {
     "name": "stdout",
     "output_type": "stream",
     "text": [
      "<class 'pandas.core.frame.DataFrame'>\n",
      "RangeIndex: 8758 entries, 0 to 8757\n",
      "Data columns (total 21 columns):\n",
      " #   Column       Non-Null Count  Dtype  \n",
      "---  ------       --------------  -----  \n",
      " 0   SO2          8758 non-null   float64\n",
      " 1   CO           8758 non-null   float64\n",
      " 2   O3           8758 non-null   float64\n",
      " 3   NO2          8758 non-null   float64\n",
      " 4   PM25         8758 non-null   float64\n",
      " 5   기온(°C)       8758 non-null   float64\n",
      " 6   강수량(mm)      8758 non-null   float64\n",
      " 7   풍속(m/s)      8758 non-null   float64\n",
      " 8   풍향(16방위)     8758 non-null   float64\n",
      " 9   습도(%)        8758 non-null   int64  \n",
      " 10  증기압(hPa)     8758 non-null   float64\n",
      " 11  이슬점온도(°C)    8758 non-null   float64\n",
      " 12  현지기압(hPa)    8758 non-null   float64\n",
      " 13  해면기압(hPa)    8758 non-null   float64\n",
      " 14  일조(hr)       8758 non-null   float64\n",
      " 15  일사(MJ/m2)    8758 non-null   float64\n",
      " 16  적설(cm)       8758 non-null   float64\n",
      " 17  3시간신적설(cm)   8758 non-null   float64\n",
      " 18  최저운고(100m )  8758 non-null   float64\n",
      " 19  시정(10m)      8758 non-null   int64  \n",
      " 20  지면온도(°C)     8758 non-null   float64\n",
      "dtypes: float64(19), int64(2)\n",
      "memory usage: 1.4 MB\n"
     ]
    }
   ],
   "source": [
    "df_21_feature.info()"
   ]
  },
  {
   "cell_type": "code",
   "execution_count": 5,
   "id": "a438a30c",
   "metadata": {},
   "outputs": [],
   "source": [
    "df_21_target.drop(columns='Unnamed: 0', axis=1, inplace=True)"
   ]
  },
  {
   "cell_type": "code",
   "execution_count": 6,
   "id": "fbced23e",
   "metadata": {},
   "outputs": [],
   "source": [
    "df_22_target.drop(columns='Unnamed: 0', axis=1, inplace=True)"
   ]
  },
  {
   "cell_type": "code",
   "execution_count": 7,
   "id": "4bda4c0e",
   "metadata": {},
   "outputs": [],
   "source": [
    "df_21_feature.drop(columns='Unnamed: 0', axis=1, inplace=True)"
   ]
  },
  {
   "cell_type": "code",
   "execution_count": 8,
   "id": "f22d4e40",
   "metadata": {},
   "outputs": [],
   "source": [
    "df_22_feature.drop(columns='Unnamed: 0', axis=1, inplace=True)"
   ]
  },
  {
   "cell_type": "code",
   "execution_count": null,
   "id": "6fe37106",
   "metadata": {},
   "outputs": [],
   "source": []
  },
  {
   "cell_type": "code",
   "execution_count": 147,
   "id": "c3a7b655",
   "metadata": {
    "scrolled": true
   },
   "outputs": [
    {
     "data": {
      "text/plain": [
       "(2159, 22)"
      ]
     },
     "execution_count": 147,
     "metadata": {},
     "output_type": "execute_result"
    }
   ],
   "source": [
    "df_22_feature.shape"
   ]
  },
  {
   "cell_type": "code",
   "execution_count": 148,
   "id": "295d11f8",
   "metadata": {
    "scrolled": true
   },
   "outputs": [
    {
     "data": {
      "text/plain": [
       "(8758, 22)"
      ]
     },
     "execution_count": 148,
     "metadata": {},
     "output_type": "execute_result"
    }
   ],
   "source": [
    "df_21_feature.shape"
   ]
  },
  {
   "cell_type": "code",
   "execution_count": 149,
   "id": "83c04b4e",
   "metadata": {},
   "outputs": [
    {
     "data": {
      "text/plain": [
       "(8758, 1)"
      ]
     },
     "execution_count": 149,
     "metadata": {},
     "output_type": "execute_result"
    }
   ],
   "source": [
    "df_21_target.shape"
   ]
  },
  {
   "cell_type": "code",
   "execution_count": 150,
   "id": "1b180fd5",
   "metadata": {},
   "outputs": [
    {
     "data": {
      "text/plain": [
       "(2159, 1)"
      ]
     },
     "execution_count": 150,
     "metadata": {},
     "output_type": "execute_result"
    }
   ],
   "source": [
    "df_22_target.shape"
   ]
  },
  {
   "cell_type": "code",
   "execution_count": 151,
   "id": "willing-disclaimer",
   "metadata": {
    "scrolled": true
   },
   "outputs": [
    {
     "data": {
      "text/plain": [
       "LinearRegression()"
      ]
     },
     "execution_count": 151,
     "metadata": {},
     "output_type": "execute_result"
    }
   ],
   "source": [
    "# 아래에 실습코드를 작성하세요.\n",
    "model1 = LinearRegression()\n",
    "model1.fit(df_21_feature, df_21_target)\n",
    "\n",
    "\n"
   ]
  },
  {
   "cell_type": "code",
   "execution_count": 120,
   "id": "585456f1",
   "metadata": {
    "collapsed": true
   },
   "outputs": [
    {
     "data": {
      "text/html": [
       "<div>\n",
       "<style scoped>\n",
       "    .dataframe tbody tr th:only-of-type {\n",
       "        vertical-align: middle;\n",
       "    }\n",
       "\n",
       "    .dataframe tbody tr th {\n",
       "        vertical-align: top;\n",
       "    }\n",
       "\n",
       "    .dataframe thead th {\n",
       "        text-align: right;\n",
       "    }\n",
       "</style>\n",
       "<table border=\"1\" class=\"dataframe\">\n",
       "  <thead>\n",
       "    <tr style=\"text-align: right;\">\n",
       "      <th></th>\n",
       "      <th>Unnamed: 0</th>\n",
       "      <th>SO2</th>\n",
       "      <th>CO</th>\n",
       "      <th>O3</th>\n",
       "      <th>NO2</th>\n",
       "      <th>PM10</th>\n",
       "      <th>PM25</th>\n",
       "      <th>기온(°C)</th>\n",
       "      <th>강수량(mm)</th>\n",
       "      <th>풍속(m/s)</th>\n",
       "      <th>...</th>\n",
       "      <th>이슬점온도(°C)</th>\n",
       "      <th>현지기압(hPa)</th>\n",
       "      <th>해면기압(hPa)</th>\n",
       "      <th>일조(hr)</th>\n",
       "      <th>일사(MJ/m2)</th>\n",
       "      <th>적설(cm)</th>\n",
       "      <th>3시간신적설(cm)</th>\n",
       "      <th>최저운고(100m )</th>\n",
       "      <th>시정(10m)</th>\n",
       "      <th>지면온도(°C)</th>\n",
       "    </tr>\n",
       "  </thead>\n",
       "  <tbody>\n",
       "    <tr>\n",
       "      <th>0</th>\n",
       "      <td>0</td>\n",
       "      <td>0.003</td>\n",
       "      <td>0.4</td>\n",
       "      <td>0.026</td>\n",
       "      <td>0.016</td>\n",
       "      <td>23.0</td>\n",
       "      <td>12.0</td>\n",
       "      <td>-8.5</td>\n",
       "      <td>0.0</td>\n",
       "      <td>1.9</td>\n",
       "      <td>...</td>\n",
       "      <td>-19.4</td>\n",
       "      <td>1021.9</td>\n",
       "      <td>1033.2</td>\n",
       "      <td>0.0</td>\n",
       "      <td>0.00</td>\n",
       "      <td>0.0</td>\n",
       "      <td>0.0</td>\n",
       "      <td>12.454913</td>\n",
       "      <td>2000</td>\n",
       "      <td>-7.0</td>\n",
       "    </tr>\n",
       "    <tr>\n",
       "      <th>1</th>\n",
       "      <td>1</td>\n",
       "      <td>0.003</td>\n",
       "      <td>0.4</td>\n",
       "      <td>0.022</td>\n",
       "      <td>0.020</td>\n",
       "      <td>20.0</td>\n",
       "      <td>9.0</td>\n",
       "      <td>-9.2</td>\n",
       "      <td>0.0</td>\n",
       "      <td>1.8</td>\n",
       "      <td>...</td>\n",
       "      <td>-19.7</td>\n",
       "      <td>1022.2</td>\n",
       "      <td>1033.6</td>\n",
       "      <td>0.0</td>\n",
       "      <td>0.00</td>\n",
       "      <td>0.0</td>\n",
       "      <td>0.0</td>\n",
       "      <td>12.454913</td>\n",
       "      <td>2000</td>\n",
       "      <td>-7.2</td>\n",
       "    </tr>\n",
       "    <tr>\n",
       "      <th>2</th>\n",
       "      <td>2</td>\n",
       "      <td>0.003</td>\n",
       "      <td>0.5</td>\n",
       "      <td>0.014</td>\n",
       "      <td>0.028</td>\n",
       "      <td>20.0</td>\n",
       "      <td>9.0</td>\n",
       "      <td>-9.5</td>\n",
       "      <td>0.0</td>\n",
       "      <td>1.2</td>\n",
       "      <td>...</td>\n",
       "      <td>-19.7</td>\n",
       "      <td>1022.3</td>\n",
       "      <td>1033.7</td>\n",
       "      <td>0.0</td>\n",
       "      <td>0.00</td>\n",
       "      <td>0.0</td>\n",
       "      <td>0.0</td>\n",
       "      <td>12.454913</td>\n",
       "      <td>2000</td>\n",
       "      <td>-7.5</td>\n",
       "    </tr>\n",
       "    <tr>\n",
       "      <th>3</th>\n",
       "      <td>3</td>\n",
       "      <td>0.003</td>\n",
       "      <td>0.5</td>\n",
       "      <td>0.016</td>\n",
       "      <td>0.027</td>\n",
       "      <td>19.0</td>\n",
       "      <td>10.0</td>\n",
       "      <td>-9.3</td>\n",
       "      <td>0.0</td>\n",
       "      <td>1.4</td>\n",
       "      <td>...</td>\n",
       "      <td>-18.8</td>\n",
       "      <td>1022.6</td>\n",
       "      <td>1034.0</td>\n",
       "      <td>0.0</td>\n",
       "      <td>0.00</td>\n",
       "      <td>0.0</td>\n",
       "      <td>0.0</td>\n",
       "      <td>12.454913</td>\n",
       "      <td>2000</td>\n",
       "      <td>-7.6</td>\n",
       "    </tr>\n",
       "    <tr>\n",
       "      <th>4</th>\n",
       "      <td>4</td>\n",
       "      <td>0.003</td>\n",
       "      <td>0.5</td>\n",
       "      <td>0.005</td>\n",
       "      <td>0.040</td>\n",
       "      <td>24.0</td>\n",
       "      <td>11.0</td>\n",
       "      <td>-9.6</td>\n",
       "      <td>0.0</td>\n",
       "      <td>1.7</td>\n",
       "      <td>...</td>\n",
       "      <td>-18.5</td>\n",
       "      <td>1021.9</td>\n",
       "      <td>1033.3</td>\n",
       "      <td>0.0</td>\n",
       "      <td>0.00</td>\n",
       "      <td>0.0</td>\n",
       "      <td>0.0</td>\n",
       "      <td>12.454913</td>\n",
       "      <td>2000</td>\n",
       "      <td>-7.6</td>\n",
       "    </tr>\n",
       "    <tr>\n",
       "      <th>...</th>\n",
       "      <td>...</td>\n",
       "      <td>...</td>\n",
       "      <td>...</td>\n",
       "      <td>...</td>\n",
       "      <td>...</td>\n",
       "      <td>...</td>\n",
       "      <td>...</td>\n",
       "      <td>...</td>\n",
       "      <td>...</td>\n",
       "      <td>...</td>\n",
       "      <td>...</td>\n",
       "      <td>...</td>\n",
       "      <td>...</td>\n",
       "      <td>...</td>\n",
       "      <td>...</td>\n",
       "      <td>...</td>\n",
       "      <td>...</td>\n",
       "      <td>...</td>\n",
       "      <td>...</td>\n",
       "      <td>...</td>\n",
       "      <td>...</td>\n",
       "    </tr>\n",
       "    <tr>\n",
       "      <th>2154</th>\n",
       "      <td>2154</td>\n",
       "      <td>0.002</td>\n",
       "      <td>0.4</td>\n",
       "      <td>0.044</td>\n",
       "      <td>0.010</td>\n",
       "      <td>10.0</td>\n",
       "      <td>9.0</td>\n",
       "      <td>13.2</td>\n",
       "      <td>0.0</td>\n",
       "      <td>4.3</td>\n",
       "      <td>...</td>\n",
       "      <td>1.5</td>\n",
       "      <td>1013.1</td>\n",
       "      <td>1023.4</td>\n",
       "      <td>0.1</td>\n",
       "      <td>0.53</td>\n",
       "      <td>0.0</td>\n",
       "      <td>0.0</td>\n",
       "      <td>12.454913</td>\n",
       "      <td>2000</td>\n",
       "      <td>12.4</td>\n",
       "    </tr>\n",
       "    <tr>\n",
       "      <th>2155</th>\n",
       "      <td>2155</td>\n",
       "      <td>0.002</td>\n",
       "      <td>0.4</td>\n",
       "      <td>0.036</td>\n",
       "      <td>0.017</td>\n",
       "      <td>11.0</td>\n",
       "      <td>8.0</td>\n",
       "      <td>12.3</td>\n",
       "      <td>0.0</td>\n",
       "      <td>2.9</td>\n",
       "      <td>...</td>\n",
       "      <td>1.2</td>\n",
       "      <td>1013.4</td>\n",
       "      <td>1023.8</td>\n",
       "      <td>0.4</td>\n",
       "      <td>0.20</td>\n",
       "      <td>0.0</td>\n",
       "      <td>0.0</td>\n",
       "      <td>9.000000</td>\n",
       "      <td>2000</td>\n",
       "      <td>10.0</td>\n",
       "    </tr>\n",
       "    <tr>\n",
       "      <th>2156</th>\n",
       "      <td>2156</td>\n",
       "      <td>0.002</td>\n",
       "      <td>0.4</td>\n",
       "      <td>0.032</td>\n",
       "      <td>0.018</td>\n",
       "      <td>10.0</td>\n",
       "      <td>7.0</td>\n",
       "      <td>11.6</td>\n",
       "      <td>0.0</td>\n",
       "      <td>2.7</td>\n",
       "      <td>...</td>\n",
       "      <td>0.9</td>\n",
       "      <td>1014.6</td>\n",
       "      <td>1025.0</td>\n",
       "      <td>0.0</td>\n",
       "      <td>0.00</td>\n",
       "      <td>0.0</td>\n",
       "      <td>0.0</td>\n",
       "      <td>12.454913</td>\n",
       "      <td>2000</td>\n",
       "      <td>8.9</td>\n",
       "    </tr>\n",
       "    <tr>\n",
       "      <th>2157</th>\n",
       "      <td>2157</td>\n",
       "      <td>0.003</td>\n",
       "      <td>0.3</td>\n",
       "      <td>0.038</td>\n",
       "      <td>0.013</td>\n",
       "      <td>11.0</td>\n",
       "      <td>5.0</td>\n",
       "      <td>10.5</td>\n",
       "      <td>0.0</td>\n",
       "      <td>3.5</td>\n",
       "      <td>...</td>\n",
       "      <td>0.7</td>\n",
       "      <td>1015.4</td>\n",
       "      <td>1025.9</td>\n",
       "      <td>0.0</td>\n",
       "      <td>0.00</td>\n",
       "      <td>0.0</td>\n",
       "      <td>0.0</td>\n",
       "      <td>10.000000</td>\n",
       "      <td>2000</td>\n",
       "      <td>7.8</td>\n",
       "    </tr>\n",
       "    <tr>\n",
       "      <th>2158</th>\n",
       "      <td>2158</td>\n",
       "      <td>0.003</td>\n",
       "      <td>0.3</td>\n",
       "      <td>0.036</td>\n",
       "      <td>0.015</td>\n",
       "      <td>11.0</td>\n",
       "      <td>5.0</td>\n",
       "      <td>9.3</td>\n",
       "      <td>0.0</td>\n",
       "      <td>1.9</td>\n",
       "      <td>...</td>\n",
       "      <td>1.4</td>\n",
       "      <td>1016.4</td>\n",
       "      <td>1026.9</td>\n",
       "      <td>0.0</td>\n",
       "      <td>0.00</td>\n",
       "      <td>0.0</td>\n",
       "      <td>0.0</td>\n",
       "      <td>10.000000</td>\n",
       "      <td>2000</td>\n",
       "      <td>7.3</td>\n",
       "    </tr>\n",
       "  </tbody>\n",
       "</table>\n",
       "<p>2159 rows × 23 columns</p>\n",
       "</div>"
      ],
      "text/plain": [
       "      Unnamed: 0    SO2   CO     O3    NO2  PM10  PM25  기온(°C)  강수량(mm)  \\\n",
       "0              0  0.003  0.4  0.026  0.016  23.0  12.0    -8.5      0.0   \n",
       "1              1  0.003  0.4  0.022  0.020  20.0   9.0    -9.2      0.0   \n",
       "2              2  0.003  0.5  0.014  0.028  20.0   9.0    -9.5      0.0   \n",
       "3              3  0.003  0.5  0.016  0.027  19.0  10.0    -9.3      0.0   \n",
       "4              4  0.003  0.5  0.005  0.040  24.0  11.0    -9.6      0.0   \n",
       "...          ...    ...  ...    ...    ...   ...   ...     ...      ...   \n",
       "2154        2154  0.002  0.4  0.044  0.010  10.0   9.0    13.2      0.0   \n",
       "2155        2155  0.002  0.4  0.036  0.017  11.0   8.0    12.3      0.0   \n",
       "2156        2156  0.002  0.4  0.032  0.018  10.0   7.0    11.6      0.0   \n",
       "2157        2157  0.003  0.3  0.038  0.013  11.0   5.0    10.5      0.0   \n",
       "2158        2158  0.003  0.3  0.036  0.015  11.0   5.0     9.3      0.0   \n",
       "\n",
       "      풍속(m/s)  ...  이슬점온도(°C)  현지기압(hPa)  해면기압(hPa)  일조(hr)  일사(MJ/m2)  \\\n",
       "0         1.9  ...      -19.4     1021.9     1033.2     0.0       0.00   \n",
       "1         1.8  ...      -19.7     1022.2     1033.6     0.0       0.00   \n",
       "2         1.2  ...      -19.7     1022.3     1033.7     0.0       0.00   \n",
       "3         1.4  ...      -18.8     1022.6     1034.0     0.0       0.00   \n",
       "4         1.7  ...      -18.5     1021.9     1033.3     0.0       0.00   \n",
       "...       ...  ...        ...        ...        ...     ...        ...   \n",
       "2154      4.3  ...        1.5     1013.1     1023.4     0.1       0.53   \n",
       "2155      2.9  ...        1.2     1013.4     1023.8     0.4       0.20   \n",
       "2156      2.7  ...        0.9     1014.6     1025.0     0.0       0.00   \n",
       "2157      3.5  ...        0.7     1015.4     1025.9     0.0       0.00   \n",
       "2158      1.9  ...        1.4     1016.4     1026.9     0.0       0.00   \n",
       "\n",
       "      적설(cm)  3시간신적설(cm)  최저운고(100m )  시정(10m)  지면온도(°C)  \n",
       "0        0.0         0.0    12.454913     2000      -7.0  \n",
       "1        0.0         0.0    12.454913     2000      -7.2  \n",
       "2        0.0         0.0    12.454913     2000      -7.5  \n",
       "3        0.0         0.0    12.454913     2000      -7.6  \n",
       "4        0.0         0.0    12.454913     2000      -7.6  \n",
       "...      ...         ...          ...      ...       ...  \n",
       "2154     0.0         0.0    12.454913     2000      12.4  \n",
       "2155     0.0         0.0     9.000000     2000      10.0  \n",
       "2156     0.0         0.0    12.454913     2000       8.9  \n",
       "2157     0.0         0.0    10.000000     2000       7.8  \n",
       "2158     0.0         0.0    10.000000     2000       7.3  \n",
       "\n",
       "[2159 rows x 23 columns]"
      ]
     },
     "execution_count": 120,
     "metadata": {},
     "output_type": "execute_result"
    }
   ],
   "source": [
    "df_22_feature"
   ]
  },
  {
   "cell_type": "code",
   "execution_count": 152,
   "id": "0a21d60f",
   "metadata": {},
   "outputs": [],
   "source": [
    "# Test 데이터로 성능을 평가해보세요.\n",
    "pred1 = model1.predict(df_22_feature)"
   ]
  },
  {
   "cell_type": "code",
   "execution_count": 153,
   "id": "aad4539a",
   "metadata": {},
   "outputs": [
    {
     "name": "stdout",
     "output_type": "stream",
     "text": [
      "rmse: 42.05830218244191\n",
      "R-squared-score: 0.9234859771821716\n"
     ]
    }
   ],
   "source": [
    "print('rmse:', mean_squared_error(df_22_target, pred1, squared=True))\n",
    "print('R-squared-score:', r2_score(df_22_target, pred1))"
   ]
  },
  {
   "cell_type": "code",
   "execution_count": 154,
   "id": "fe2096b7",
   "metadata": {},
   "outputs": [],
   "source": [
    "# 학습한 모델을 파일로 저장해보세요.\n",
    "import pickle \n",
    "with open('model_linearRegression','wb') as fw:\n",
    "    pickle.dump(model1, fw)\n",
    "\n",
    "\n"
   ]
  },
  {
   "cell_type": "markdown",
   "id": "lesser-universe",
   "metadata": {},
   "source": [
    "### 나. 다음은 앙상블 기법을 토대로 랜덤포레스트와 그라디언브스팅을 활용해봅시다."
   ]
  },
  {
   "cell_type": "markdown",
   "id": "crazy-escape",
   "metadata": {},
   "source": [
    "#### 1) 렌덤포레스트\n",
    "##### 배깅의 일종으로 의사결정나무(Decision Tree) 여러 개를 모아서 숲을 랜덤으로 구성하고 이를 종합해서 최종 모델을 산출하는 기법이라고 할 수 있다."
   ]
  },
  {
   "cell_type": "markdown",
   "id": "dense-eleven",
   "metadata": {},
   "source": [
    "#### [실습문제3] 머신러닝_2\n",
    "* Train과 Test로 나눈 데이터를 기준으로 렌덤포레스트로 모델을 학습을 진행하고 평가를 해주세요.\n",
    "* 그리고 모델 파일을 pkl로 저장해주세요.\n",
    "* 성능지표 : RMSE, R-squared Score(소수점 5째자리까지, 반올림)"
   ]
  },
  {
   "cell_type": "code",
   "execution_count": 155,
   "id": "guilty-score",
   "metadata": {},
   "outputs": [],
   "source": [
    "# 아래에 실습코드를 작성하세요.\n",
    "from sklearn.ensemble import RandomForestRegressor\n",
    "params = {\n",
    "    'n_estimators':  range(100, 201, 50),\n",
    "    'max_features': range(10, 16)\n",
    "}\n",
    "model2 = RandomForestRegressor()\n",
    "m_gs = GridSearchCV(model2, params, cv=5, verbose=3)\n"
   ]
  },
  {
   "cell_type": "code",
   "execution_count": 157,
   "id": "36477794",
   "metadata": {
    "scrolled": true
   },
   "outputs": [
    {
     "name": "stdout",
     "output_type": "stream",
     "text": [
      "Fitting 5 folds for each of 18 candidates, totalling 90 fits\n",
      "[CV 1/5] END ..............max_features=10, n_estimators=100; total time=   4.0s\n",
      "[CV 2/5] END ..............max_features=10, n_estimators=100; total time=   2.6s\n",
      "[CV 3/5] END ..............max_features=10, n_estimators=100; total time=   9.6s\n",
      "[CV 4/5] END ..............max_features=10, n_estimators=100; total time=   8.9s\n",
      "[CV 5/5] END ..............max_features=10, n_estimators=100; total time=   5.7s\n",
      "[CV 1/5] END ..............max_features=10, n_estimators=150; total time=   7.6s\n",
      "[CV 2/5] END ..............max_features=10, n_estimators=150; total time=   7.0s\n",
      "[CV 3/5] END ..............max_features=10, n_estimators=150; total time=   7.6s\n",
      "[CV 4/5] END ..............max_features=10, n_estimators=150; total time=   7.5s\n",
      "[CV 5/5] END ..............max_features=10, n_estimators=150; total time=   8.0s\n",
      "[CV 1/5] END ..............max_features=10, n_estimators=200; total time=   9.2s\n",
      "[CV 2/5] END ..............max_features=10, n_estimators=200; total time=   7.1s\n",
      "[CV 3/5] END ..............max_features=10, n_estimators=200; total time=   6.9s\n",
      "[CV 4/5] END ..............max_features=10, n_estimators=200; total time=   6.8s\n",
      "[CV 5/5] END ..............max_features=10, n_estimators=200; total time=   7.8s\n",
      "[CV 1/5] END ..............max_features=11, n_estimators=100; total time=   4.4s\n",
      "[CV 2/5] END ..............max_features=11, n_estimators=100; total time=   3.9s\n",
      "[CV 3/5] END ..............max_features=11, n_estimators=100; total time=   3.6s\n",
      "[CV 4/5] END ..............max_features=11, n_estimators=100; total time=   4.1s\n",
      "[CV 5/5] END ..............max_features=11, n_estimators=100; total time=   3.8s\n",
      "[CV 1/5] END ..............max_features=11, n_estimators=150; total time=   5.8s\n",
      "[CV 2/5] END ..............max_features=11, n_estimators=150; total time=   5.8s\n",
      "[CV 3/5] END ..............max_features=11, n_estimators=150; total time=   5.6s\n",
      "[CV 4/5] END ..............max_features=11, n_estimators=150; total time=   5.7s\n",
      "[CV 5/5] END ..............max_features=11, n_estimators=150; total time=   5.8s\n",
      "[CV 1/5] END ..............max_features=11, n_estimators=200; total time=   8.8s\n",
      "[CV 2/5] END ..............max_features=11, n_estimators=200; total time=   7.7s\n",
      "[CV 3/5] END ..............max_features=11, n_estimators=200; total time=   8.0s\n",
      "[CV 4/5] END ..............max_features=11, n_estimators=200; total time=   7.3s\n",
      "[CV 5/5] END ..............max_features=11, n_estimators=200; total time=   7.7s\n",
      "[CV 1/5] END ..............max_features=12, n_estimators=100; total time=   4.1s\n",
      "[CV 2/5] END ..............max_features=12, n_estimators=100; total time=   4.1s\n",
      "[CV 3/5] END ..............max_features=12, n_estimators=100; total time=   4.3s\n",
      "[CV 4/5] END ..............max_features=12, n_estimators=100; total time=   3.9s\n",
      "[CV 5/5] END ..............max_features=12, n_estimators=100; total time=   4.1s\n",
      "[CV 1/5] END ..............max_features=12, n_estimators=150; total time=   6.2s\n",
      "[CV 2/5] END ..............max_features=12, n_estimators=150; total time=   6.1s\n",
      "[CV 3/5] END ..............max_features=12, n_estimators=150; total time=   6.0s\n",
      "[CV 4/5] END ..............max_features=12, n_estimators=150; total time=   6.0s\n",
      "[CV 5/5] END ..............max_features=12, n_estimators=150; total time=   6.3s\n",
      "[CV 1/5] END ..............max_features=12, n_estimators=200; total time=   8.2s\n",
      "[CV 2/5] END ..............max_features=12, n_estimators=200; total time=   8.0s\n",
      "[CV 3/5] END ..............max_features=12, n_estimators=200; total time=   8.2s\n",
      "[CV 4/5] END ..............max_features=12, n_estimators=200; total time=   8.2s\n",
      "[CV 5/5] END ..............max_features=12, n_estimators=200; total time=   8.3s\n",
      "[CV 1/5] END ..............max_features=13, n_estimators=100; total time=   4.3s\n",
      "[CV 2/5] END ..............max_features=13, n_estimators=100; total time=   4.3s\n",
      "[CV 3/5] END ..............max_features=13, n_estimators=100; total time=   4.3s\n",
      "[CV 4/5] END ..............max_features=13, n_estimators=100; total time=   4.3s\n",
      "[CV 5/5] END ..............max_features=13, n_estimators=100; total time=   4.5s\n",
      "[CV 1/5] END ..............max_features=13, n_estimators=150; total time=   6.8s\n",
      "[CV 2/5] END ..............max_features=13, n_estimators=150; total time=   7.6s\n",
      "[CV 3/5] END ..............max_features=13, n_estimators=150; total time=   7.6s\n",
      "[CV 4/5] END ..............max_features=13, n_estimators=150; total time=   7.0s\n",
      "[CV 5/5] END ..............max_features=13, n_estimators=150; total time=   6.9s\n",
      "[CV 1/5] END ..............max_features=13, n_estimators=200; total time=   9.4s\n",
      "[CV 2/5] END ..............max_features=13, n_estimators=200; total time=  10.8s\n",
      "[CV 3/5] END ..............max_features=13, n_estimators=200; total time=   9.7s\n",
      "[CV 4/5] END ..............max_features=13, n_estimators=200; total time=   9.0s\n",
      "[CV 5/5] END ..............max_features=13, n_estimators=200; total time=   9.9s\n",
      "[CV 1/5] END ..............max_features=14, n_estimators=100; total time=   5.0s\n",
      "[CV 2/5] END ..............max_features=14, n_estimators=100; total time=   4.4s\n",
      "[CV 3/5] END ..............max_features=14, n_estimators=100; total time=   4.7s\n",
      "[CV 4/5] END ..............max_features=14, n_estimators=100; total time=   4.7s\n",
      "[CV 5/5] END ..............max_features=14, n_estimators=100; total time=   5.9s\n",
      "[CV 1/5] END ..............max_features=14, n_estimators=150; total time=   8.0s\n",
      "[CV 2/5] END ..............max_features=14, n_estimators=150; total time=   7.3s\n",
      "[CV 3/5] END ..............max_features=14, n_estimators=150; total time=   8.3s\n",
      "[CV 4/5] END ..............max_features=14, n_estimators=150; total time=   7.2s\n",
      "[CV 5/5] END ..............max_features=14, n_estimators=150; total time=   7.6s\n",
      "[CV 1/5] END ..............max_features=14, n_estimators=200; total time=  11.8s\n",
      "[CV 2/5] END ..............max_features=14, n_estimators=200; total time=  10.7s\n",
      "[CV 3/5] END ..............max_features=14, n_estimators=200; total time=  10.0s\n",
      "[CV 4/5] END ..............max_features=14, n_estimators=200; total time=  10.1s\n",
      "[CV 5/5] END ..............max_features=14, n_estimators=200; total time=  10.6s\n",
      "[CV 1/5] END ..............max_features=15, n_estimators=100; total time=   5.7s\n",
      "[CV 2/5] END ..............max_features=15, n_estimators=100; total time=   5.4s\n",
      "[CV 3/5] END ..............max_features=15, n_estimators=100; total time=   5.0s\n",
      "[CV 4/5] END ..............max_features=15, n_estimators=100; total time=   5.1s\n",
      "[CV 5/5] END ..............max_features=15, n_estimators=100; total time=   6.4s\n",
      "[CV 1/5] END ..............max_features=15, n_estimators=150; total time=   8.8s\n",
      "[CV 2/5] END ..............max_features=15, n_estimators=150; total time=   9.0s\n",
      "[CV 3/5] END ..............max_features=15, n_estimators=150; total time=   8.1s\n",
      "[CV 4/5] END ..............max_features=15, n_estimators=150; total time=   8.1s\n",
      "[CV 5/5] END ..............max_features=15, n_estimators=150; total time=   8.4s\n",
      "[CV 1/5] END ..............max_features=15, n_estimators=200; total time=  11.4s\n",
      "[CV 2/5] END ..............max_features=15, n_estimators=200; total time=  11.4s\n",
      "[CV 3/5] END ..............max_features=15, n_estimators=200; total time=  10.9s\n",
      "[CV 4/5] END ..............max_features=15, n_estimators=200; total time=  12.2s\n",
      "[CV 5/5] END ..............max_features=15, n_estimators=200; total time=  11.3s\n"
     ]
    },
    {
     "data": {
      "text/plain": [
       "GridSearchCV(cv=5, estimator=RandomForestRegressor(),\n",
       "             param_grid={'max_features': range(10, 16),\n",
       "                         'n_estimators': range(100, 201, 50)},\n",
       "             verbose=3)"
      ]
     },
     "execution_count": 157,
     "metadata": {},
     "output_type": "execute_result"
    }
   ],
   "source": [
    "m_gs.fit(df_21_feature, df_21_target)"
   ]
  },
  {
   "cell_type": "code",
   "execution_count": 158,
   "id": "10b33a11",
   "metadata": {},
   "outputs": [
    {
     "name": "stdout",
     "output_type": "stream",
     "text": [
      "rmse: 6.595926575637817\n",
      "R-squared-score: 0.9208518215697625\n"
     ]
    }
   ],
   "source": [
    "# Test 데이터로 성능을 평가해보세요.\n",
    "pred2 = m_gs.predict(df_22_feature)\n",
    "print('rmse:', mean_squared_error(df_22_target, pred2, squared=False))\n",
    "print('R-squared-score:', r2_score(df_22_target, pred2))\n",
    "\n"
   ]
  },
  {
   "cell_type": "code",
   "execution_count": 164,
   "id": "41971ff8",
   "metadata": {},
   "outputs": [],
   "source": [
    "# 학습한 모델을 파일로 저장해보세요.\n",
    "import pickle \n",
    "with open('mode2_RF','wb') as fw:\n",
    "    pickle.dump(m_gs, fw)"
   ]
  },
  {
   "cell_type": "markdown",
   "id": "788be2bb",
   "metadata": {},
   "source": [
    "#### [실습문제4] 머신러닝_3\n",
    "* 렌덤포레스트로 학습한 모델의 feature_importances 또는 Shap value를 구해보세요.\n",
    "* 확인할 수 있는 내용으로 우리 모델에서의 인사이트를 정리해보세요."
   ]
  },
  {
   "cell_type": "code",
   "execution_count": 160,
   "id": "a88d630d",
   "metadata": {},
   "outputs": [],
   "source": [
    "# 변수중요도를 표로 보기\n",
    "def plot_feature_importance(importance, names):\n",
    "    feature_importance = np.array(importance)\n",
    "    feature_names = np.array(names)\n",
    "\n",
    "    data={'feature_names':feature_names,'feature_importance':feature_importance}\n",
    "    fi_df = pd.DataFrame(data)\n",
    "\n",
    "    fi_df.sort_values(by=['feature_importance'], ascending=False,inplace=True)\n",
    "    fi_df.reset_index(drop=True, inplace = True)\n",
    "\n",
    "    plt.figure(figsize=(10,8))\n",
    "    sns.barplot(x='feature_importance', y='feature_names', data = fi_df)\n",
    "\n",
    "    plt.xlabel('FEATURE IMPORTANCE')\n",
    "    plt.ylabel('FEATURE NAMES')\n",
    "    plt.grid()\n",
    "\n",
    "    return fi_df"
   ]
  },
  {
   "cell_type": "code",
   "execution_count": 129,
   "id": "e19f84b0",
   "metadata": {},
   "outputs": [
    {
     "data": {
      "text/html": [
       "<div>\n",
       "<style scoped>\n",
       "    .dataframe tbody tr th:only-of-type {\n",
       "        vertical-align: middle;\n",
       "    }\n",
       "\n",
       "    .dataframe tbody tr th {\n",
       "        vertical-align: top;\n",
       "    }\n",
       "\n",
       "    .dataframe thead th {\n",
       "        text-align: right;\n",
       "    }\n",
       "</style>\n",
       "<table border=\"1\" class=\"dataframe\">\n",
       "  <thead>\n",
       "    <tr style=\"text-align: right;\">\n",
       "      <th></th>\n",
       "      <th>feature_names</th>\n",
       "      <th>feature_importance</th>\n",
       "    </tr>\n",
       "  </thead>\n",
       "  <tbody>\n",
       "    <tr>\n",
       "      <th>0</th>\n",
       "      <td>PM10</td>\n",
       "      <td>0.667700</td>\n",
       "    </tr>\n",
       "    <tr>\n",
       "      <th>1</th>\n",
       "      <td>PM25</td>\n",
       "      <td>0.176584</td>\n",
       "    </tr>\n",
       "    <tr>\n",
       "      <th>2</th>\n",
       "      <td>현지기압(hPa)</td>\n",
       "      <td>0.026524</td>\n",
       "    </tr>\n",
       "    <tr>\n",
       "      <th>3</th>\n",
       "      <td>시정(10m)</td>\n",
       "      <td>0.024758</td>\n",
       "    </tr>\n",
       "    <tr>\n",
       "      <th>4</th>\n",
       "      <td>CO</td>\n",
       "      <td>0.021683</td>\n",
       "    </tr>\n",
       "    <tr>\n",
       "      <th>5</th>\n",
       "      <td>해면기압(hPa)</td>\n",
       "      <td>0.019797</td>\n",
       "    </tr>\n",
       "    <tr>\n",
       "      <th>6</th>\n",
       "      <td>Unnamed: 0</td>\n",
       "      <td>0.018690</td>\n",
       "    </tr>\n",
       "    <tr>\n",
       "      <th>7</th>\n",
       "      <td>이슬점온도(°C)</td>\n",
       "      <td>0.007067</td>\n",
       "    </tr>\n",
       "    <tr>\n",
       "      <th>8</th>\n",
       "      <td>증기압(hPa)</td>\n",
       "      <td>0.006564</td>\n",
       "    </tr>\n",
       "    <tr>\n",
       "      <th>9</th>\n",
       "      <td>O3</td>\n",
       "      <td>0.004684</td>\n",
       "    </tr>\n",
       "    <tr>\n",
       "      <th>10</th>\n",
       "      <td>습도(%)</td>\n",
       "      <td>0.004486</td>\n",
       "    </tr>\n",
       "    <tr>\n",
       "      <th>11</th>\n",
       "      <td>최저운고(100m )</td>\n",
       "      <td>0.004481</td>\n",
       "    </tr>\n",
       "    <tr>\n",
       "      <th>12</th>\n",
       "      <td>NO2</td>\n",
       "      <td>0.003755</td>\n",
       "    </tr>\n",
       "    <tr>\n",
       "      <th>13</th>\n",
       "      <td>기온(°C)</td>\n",
       "      <td>0.003740</td>\n",
       "    </tr>\n",
       "    <tr>\n",
       "      <th>14</th>\n",
       "      <td>풍속(m/s)</td>\n",
       "      <td>0.002154</td>\n",
       "    </tr>\n",
       "    <tr>\n",
       "      <th>15</th>\n",
       "      <td>지면온도(°C)</td>\n",
       "      <td>0.001983</td>\n",
       "    </tr>\n",
       "    <tr>\n",
       "      <th>16</th>\n",
       "      <td>일사(MJ/m2)</td>\n",
       "      <td>0.001714</td>\n",
       "    </tr>\n",
       "    <tr>\n",
       "      <th>17</th>\n",
       "      <td>풍향(16방위)</td>\n",
       "      <td>0.001449</td>\n",
       "    </tr>\n",
       "    <tr>\n",
       "      <th>18</th>\n",
       "      <td>SO2</td>\n",
       "      <td>0.000915</td>\n",
       "    </tr>\n",
       "    <tr>\n",
       "      <th>19</th>\n",
       "      <td>일조(hr)</td>\n",
       "      <td>0.000740</td>\n",
       "    </tr>\n",
       "    <tr>\n",
       "      <th>20</th>\n",
       "      <td>강수량(mm)</td>\n",
       "      <td>0.000421</td>\n",
       "    </tr>\n",
       "    <tr>\n",
       "      <th>21</th>\n",
       "      <td>적설(cm)</td>\n",
       "      <td>0.000089</td>\n",
       "    </tr>\n",
       "    <tr>\n",
       "      <th>22</th>\n",
       "      <td>3시간신적설(cm)</td>\n",
       "      <td>0.000022</td>\n",
       "    </tr>\n",
       "  </tbody>\n",
       "</table>\n",
       "</div>"
      ],
      "text/plain": [
       "   feature_names  feature_importance\n",
       "0           PM10            0.667700\n",
       "1           PM25            0.176584\n",
       "2      현지기압(hPa)            0.026524\n",
       "3        시정(10m)            0.024758\n",
       "4             CO            0.021683\n",
       "5      해면기압(hPa)            0.019797\n",
       "6     Unnamed: 0            0.018690\n",
       "7      이슬점온도(°C)            0.007067\n",
       "8       증기압(hPa)            0.006564\n",
       "9             O3            0.004684\n",
       "10         습도(%)            0.004486\n",
       "11   최저운고(100m )            0.004481\n",
       "12           NO2            0.003755\n",
       "13        기온(°C)            0.003740\n",
       "14       풍속(m/s)            0.002154\n",
       "15      지면온도(°C)            0.001983\n",
       "16     일사(MJ/m2)            0.001714\n",
       "17      풍향(16방위)            0.001449\n",
       "18           SO2            0.000915\n",
       "19        일조(hr)            0.000740\n",
       "20       강수량(mm)            0.000421\n",
       "21        적설(cm)            0.000089\n",
       "22    3시간신적설(cm)            0.000022"
      ]
     },
     "execution_count": 129,
     "metadata": {},
     "output_type": "execute_result"
    },
    {
     "data": {
      "image/png": "[encoded data removed]",
      "text/plain": [
       "<Figure size 720x576 with 1 Axes>"
      ]
     },
     "metadata": {
      "needs_background": "light"
     },
     "output_type": "display_data"
    }
   ],
   "source": [
    "# Feature의 중요도 확인\n",
    "plot_feature_importance(m_gs.best_estimator_.feature_importances_, list(df_21_feature))\n",
    "\n",
    "\n",
    "\n"
   ]
  },
  {
   "cell_type": "code",
   "execution_count": null,
   "id": "af7989f3",
   "metadata": {},
   "outputs": [],
   "source": [
    "# 확인할 수 있는 인사이트\n",
    "# 1.\n",
    "# 2.\n",
    "# 3."
   ]
  },
  {
   "cell_type": "markdown",
   "id": "convinced-vocabulary",
   "metadata": {},
   "source": [
    "#### 2) GradientBoosting\n",
    "##### 앞선 모델의 에러를 다음 모델의 예측 값으로 활용하면서 가중치 업데이트 하는데 경사하강법(Gradient Descent)를 활용해서 최적 모델을 만드는 기법"
   ]
  },
  {
   "cell_type": "markdown",
   "id": "needed-google",
   "metadata": {},
   "source": [
    "#### [실습문제5] 머신러닝_4\n",
    "* Train과 Test로 나눈 데이터를 기준으로 그라디언트부스팅으로 모델을 학습을 진행하고 평가를 해주세요.\n",
    "* 그리고 모델 파일을 pkl로 저장해주세요.\n",
    "* 성능지표 : RMSE, R-squared Score(소수점 5째자리까지, 반올림)"
   ]
  },
  {
   "cell_type": "code",
   "execution_count": 161,
   "id": "continent-olympus",
   "metadata": {
    "scrolled": true
   },
   "outputs": [
    {
     "name": "stdout",
     "output_type": "stream",
     "text": [
      "Fitting 5 folds for each of 27 candidates, totalling 135 fits\n",
      "[CV 1/5] END learning_rate=0.1, max_depth=3, n_estimators=50; total time=   0.0s\n",
      "[CV 2/5] END learning_rate=0.1, max_depth=3, n_estimators=50; total time=   0.0s\n",
      "[CV 3/5] END learning_rate=0.1, max_depth=3, n_estimators=50; total time=   0.0s\n",
      "[CV 4/5] END learning_rate=0.1, max_depth=3, n_estimators=50; total time=   0.0s\n",
      "[CV 5/5] END learning_rate=0.1, max_depth=3, n_estimators=50; total time=   0.0s\n",
      "[CV 1/5] END learning_rate=0.1, max_depth=3, n_estimators=100; total time=   0.1s\n",
      "[CV 2/5] END learning_rate=0.1, max_depth=3, n_estimators=100; total time=   0.1s\n",
      "[CV 3/5] END learning_rate=0.1, max_depth=3, n_estimators=100; total time=   0.1s\n",
      "[CV 4/5] END learning_rate=0.1, max_depth=3, n_estimators=100; total time=   0.1s\n",
      "[CV 5/5] END learning_rate=0.1, max_depth=3, n_estimators=100; total time=   0.1s\n",
      "[CV 1/5] END learning_rate=0.1, max_depth=3, n_estimators=150; total time=   0.2s\n",
      "[CV 2/5] END learning_rate=0.1, max_depth=3, n_estimators=150; total time=   0.3s\n",
      "[CV 3/5] END learning_rate=0.1, max_depth=3, n_estimators=150; total time=   0.3s\n",
      "[CV 4/5] END learning_rate=0.1, max_depth=3, n_estimators=150; total time=   0.3s\n",
      "[CV 5/5] END learning_rate=0.1, max_depth=3, n_estimators=150; total time=   0.3s\n",
      "[CV 1/5] END learning_rate=0.1, max_depth=5, n_estimators=50; total time=   0.1s\n",
      "[CV 2/5] END learning_rate=0.1, max_depth=5, n_estimators=50; total time=   0.1s\n",
      "[CV 3/5] END learning_rate=0.1, max_depth=5, n_estimators=50; total time=   0.2s\n",
      "[CV 4/5] END learning_rate=0.1, max_depth=5, n_estimators=50; total time=   0.2s\n",
      "[CV 5/5] END learning_rate=0.1, max_depth=5, n_estimators=50; total time=   0.1s\n",
      "[CV 1/5] END learning_rate=0.1, max_depth=5, n_estimators=100; total time=   0.3s\n",
      "[CV 2/5] END learning_rate=0.1, max_depth=5, n_estimators=100; total time=   0.3s\n",
      "[CV 3/5] END learning_rate=0.1, max_depth=5, n_estimators=100; total time=   0.4s\n",
      "[CV 4/5] END learning_rate=0.1, max_depth=5, n_estimators=100; total time=   0.5s\n",
      "[CV 5/5] END learning_rate=0.1, max_depth=5, n_estimators=100; total time=   0.3s\n",
      "[CV 1/5] END learning_rate=0.1, max_depth=5, n_estimators=150; total time=   0.6s\n",
      "[CV 2/5] END learning_rate=0.1, max_depth=5, n_estimators=150; total time=   0.5s\n",
      "[CV 3/5] END learning_rate=0.1, max_depth=5, n_estimators=150; total time=   0.4s\n",
      "[CV 4/5] END learning_rate=0.1, max_depth=5, n_estimators=150; total time=   0.6s\n",
      "[CV 5/5] END learning_rate=0.1, max_depth=5, n_estimators=150; total time=   0.6s\n",
      "[CV 1/5] END learning_rate=0.1, max_depth=8, n_estimators=50; total time=   0.4s\n",
      "[CV 2/5] END learning_rate=0.1, max_depth=8, n_estimators=50; total time=   0.5s\n",
      "[CV 3/5] END learning_rate=0.1, max_depth=8, n_estimators=50; total time=   0.5s\n",
      "[CV 4/5] END learning_rate=0.1, max_depth=8, n_estimators=50; total time=   0.2s\n",
      "[CV 5/5] END learning_rate=0.1, max_depth=8, n_estimators=50; total time=   0.2s\n",
      "[CV 1/5] END learning_rate=0.1, max_depth=8, n_estimators=100; total time=   0.5s\n",
      "[CV 2/5] END learning_rate=0.1, max_depth=8, n_estimators=100; total time=   0.5s\n",
      "[CV 3/5] END learning_rate=0.1, max_depth=8, n_estimators=100; total time=   0.5s\n",
      "[CV 4/5] END learning_rate=0.1, max_depth=8, n_estimators=100; total time=   0.5s\n",
      "[CV 5/5] END learning_rate=0.1, max_depth=8, n_estimators=100; total time=   0.8s\n",
      "[CV 1/5] END learning_rate=0.1, max_depth=8, n_estimators=150; total time=   0.9s\n",
      "[CV 2/5] END learning_rate=0.1, max_depth=8, n_estimators=150; total time=   0.9s\n",
      "[CV 3/5] END learning_rate=0.1, max_depth=8, n_estimators=150; total time=   0.8s\n",
      "[CV 4/5] END learning_rate=0.1, max_depth=8, n_estimators=150; total time=   0.9s\n",
      "[CV 5/5] END learning_rate=0.1, max_depth=8, n_estimators=150; total time=   2.0s\n",
      "[CV 1/5] END learning_rate=0.15000000000000002, max_depth=3, n_estimators=50; total time=   0.0s\n",
      "[CV 2/5] END learning_rate=0.15000000000000002, max_depth=3, n_estimators=50; total time=   0.1s\n",
      "[CV 3/5] END learning_rate=0.15000000000000002, max_depth=3, n_estimators=50; total time=   0.1s\n",
      "[CV 4/5] END learning_rate=0.15000000000000002, max_depth=3, n_estimators=50; total time=   0.1s\n",
      "[CV 5/5] END learning_rate=0.15000000000000002, max_depth=3, n_estimators=50; total time=   0.1s\n",
      "[CV 1/5] END learning_rate=0.15000000000000002, max_depth=3, n_estimators=100; total time=   0.2s\n",
      "[CV 2/5] END learning_rate=0.15000000000000002, max_depth=3, n_estimators=100; total time=   0.2s\n",
      "[CV 3/5] END learning_rate=0.15000000000000002, max_depth=3, n_estimators=100; total time=   0.2s\n",
      "[CV 4/5] END learning_rate=0.15000000000000002, max_depth=3, n_estimators=100; total time=   0.3s\n",
      "[CV 5/5] END learning_rate=0.15000000000000002, max_depth=3, n_estimators=100; total time=   0.2s\n",
      "[CV 1/5] END learning_rate=0.15000000000000002, max_depth=3, n_estimators=150; total time=   0.3s\n",
      "[CV 2/5] END learning_rate=0.15000000000000002, max_depth=3, n_estimators=150; total time=   0.3s\n",
      "[CV 3/5] END learning_rate=0.15000000000000002, max_depth=3, n_estimators=150; total time=   0.3s\n",
      "[CV 4/5] END learning_rate=0.15000000000000002, max_depth=3, n_estimators=150; total time=   0.3s\n",
      "[CV 5/5] END learning_rate=0.15000000000000002, max_depth=3, n_estimators=150; total time=   0.3s\n",
      "[CV 1/5] END learning_rate=0.15000000000000002, max_depth=5, n_estimators=50; total time=   0.2s\n",
      "[CV 2/5] END learning_rate=0.15000000000000002, max_depth=5, n_estimators=50; total time=   0.2s\n",
      "[CV 3/5] END learning_rate=0.15000000000000002, max_depth=5, n_estimators=50; total time=   0.2s\n",
      "[CV 4/5] END learning_rate=0.15000000000000002, max_depth=5, n_estimators=50; total time=   0.2s\n",
      "[CV 5/5] END learning_rate=0.15000000000000002, max_depth=5, n_estimators=50; total time=   0.1s\n",
      "[CV 1/5] END learning_rate=0.15000000000000002, max_depth=5, n_estimators=100; total time=   0.4s\n",
      "[CV 2/5] END learning_rate=0.15000000000000002, max_depth=5, n_estimators=100; total time=   0.3s\n",
      "[CV 3/5] END learning_rate=0.15000000000000002, max_depth=5, n_estimators=100; total time=   0.3s\n",
      "[CV 4/5] END learning_rate=0.15000000000000002, max_depth=5, n_estimators=100; total time=   0.4s\n",
      "[CV 5/5] END learning_rate=0.15000000000000002, max_depth=5, n_estimators=100; total time=   0.9s\n",
      "[CV 1/5] END learning_rate=0.15000000000000002, max_depth=5, n_estimators=150; total time=   0.8s\n",
      "[CV 2/5] END learning_rate=0.15000000000000002, max_depth=5, n_estimators=150; total time=   0.5s\n",
      "[CV 3/5] END learning_rate=0.15000000000000002, max_depth=5, n_estimators=150; total time=   0.7s\n",
      "[CV 4/5] END learning_rate=0.15000000000000002, max_depth=5, n_estimators=150; total time=   0.5s\n",
      "[CV 5/5] END learning_rate=0.15000000000000002, max_depth=5, n_estimators=150; total time=   0.7s\n",
      "[CV 1/5] END learning_rate=0.15000000000000002, max_depth=8, n_estimators=50; total time=   0.3s\n",
      "[CV 2/5] END learning_rate=0.15000000000000002, max_depth=8, n_estimators=50; total time=   0.3s\n",
      "[CV 3/5] END learning_rate=0.15000000000000002, max_depth=8, n_estimators=50; total time=   0.3s\n",
      "[CV 4/5] END learning_rate=0.15000000000000002, max_depth=8, n_estimators=50; total time=   0.5s\n",
      "[CV 5/5] END learning_rate=0.15000000000000002, max_depth=8, n_estimators=50; total time=   1.1s\n",
      "[CV 1/5] END learning_rate=0.15000000000000002, max_depth=8, n_estimators=100; total time=   0.9s\n",
      "[CV 2/5] END learning_rate=0.15000000000000002, max_depth=8, n_estimators=100; total time=   0.7s\n",
      "[CV 3/5] END learning_rate=0.15000000000000002, max_depth=8, n_estimators=100; total time=   0.8s\n",
      "[CV 4/5] END learning_rate=0.15000000000000002, max_depth=8, n_estimators=100; total time=   0.8s\n",
      "[CV 5/5] END learning_rate=0.15000000000000002, max_depth=8, n_estimators=100; total time=   0.7s\n",
      "[CV 1/5] END learning_rate=0.15000000000000002, max_depth=8, n_estimators=150; total time=   0.9s\n",
      "[CV 2/5] END learning_rate=0.15000000000000002, max_depth=8, n_estimators=150; total time=   1.2s\n",
      "[CV 3/5] END learning_rate=0.15000000000000002, max_depth=8, n_estimators=150; total time=   1.3s\n",
      "[CV 4/5] END learning_rate=0.15000000000000002, max_depth=8, n_estimators=150; total time=   1.1s\n",
      "[CV 5/5] END learning_rate=0.15000000000000002, max_depth=8, n_estimators=150; total time=   1.1s\n",
      "[CV 1/5] END learning_rate=0.2, max_depth=3, n_estimators=50; total time=   0.1s\n"
     ]
    },
    {
     "name": "stdout",
     "output_type": "stream",
     "text": [
      "[CV 2/5] END learning_rate=0.2, max_depth=3, n_estimators=50; total time=   0.1s\n",
      "[CV 3/5] END learning_rate=0.2, max_depth=3, n_estimators=50; total time=   0.1s\n",
      "[CV 4/5] END learning_rate=0.2, max_depth=3, n_estimators=50; total time=   0.1s\n",
      "[CV 5/5] END learning_rate=0.2, max_depth=3, n_estimators=50; total time=   0.1s\n",
      "[CV 1/5] END learning_rate=0.2, max_depth=3, n_estimators=100; total time=   0.3s\n",
      "[CV 2/5] END learning_rate=0.2, max_depth=3, n_estimators=100; total time=   0.4s\n",
      "[CV 3/5] END learning_rate=0.2, max_depth=3, n_estimators=100; total time=   0.2s\n",
      "[CV 4/5] END learning_rate=0.2, max_depth=3, n_estimators=100; total time=   0.2s\n",
      "[CV 5/5] END learning_rate=0.2, max_depth=3, n_estimators=100; total time=   0.3s\n",
      "[CV 1/5] END learning_rate=0.2, max_depth=3, n_estimators=150; total time=   0.5s\n",
      "[CV 2/5] END learning_rate=0.2, max_depth=3, n_estimators=150; total time=   0.4s\n",
      "[CV 3/5] END learning_rate=0.2, max_depth=3, n_estimators=150; total time=   0.4s\n",
      "[CV 4/5] END learning_rate=0.2, max_depth=3, n_estimators=150; total time=   0.3s\n",
      "[CV 5/5] END learning_rate=0.2, max_depth=3, n_estimators=150; total time=   0.6s\n",
      "[CV 1/5] END learning_rate=0.2, max_depth=5, n_estimators=50; total time=   1.2s\n",
      "[CV 2/5] END learning_rate=0.2, max_depth=5, n_estimators=50; total time=   0.4s\n",
      "[CV 3/5] END learning_rate=0.2, max_depth=5, n_estimators=50; total time=   0.3s\n",
      "[CV 4/5] END learning_rate=0.2, max_depth=5, n_estimators=50; total time=   0.4s\n",
      "[CV 5/5] END learning_rate=0.2, max_depth=5, n_estimators=50; total time=   0.3s\n",
      "[CV 1/5] END learning_rate=0.2, max_depth=5, n_estimators=100; total time=   0.6s\n",
      "[CV 2/5] END learning_rate=0.2, max_depth=5, n_estimators=100; total time=   0.5s\n",
      "[CV 3/5] END learning_rate=0.2, max_depth=5, n_estimators=100; total time=   0.4s\n",
      "[CV 4/5] END learning_rate=0.2, max_depth=5, n_estimators=100; total time=   0.4s\n",
      "[CV 5/5] END learning_rate=0.2, max_depth=5, n_estimators=100; total time=   0.5s\n",
      "[CV 1/5] END learning_rate=0.2, max_depth=5, n_estimators=150; total time=   0.7s\n",
      "[CV 2/5] END learning_rate=0.2, max_depth=5, n_estimators=150; total time=   0.9s\n",
      "[CV 3/5] END learning_rate=0.2, max_depth=5, n_estimators=150; total time=   0.8s\n",
      "[CV 4/5] END learning_rate=0.2, max_depth=5, n_estimators=150; total time=   0.8s\n",
      "[CV 5/5] END learning_rate=0.2, max_depth=5, n_estimators=150; total time=   0.9s\n",
      "[CV 1/5] END learning_rate=0.2, max_depth=8, n_estimators=50; total time=   0.3s\n",
      "[CV 2/5] END learning_rate=0.2, max_depth=8, n_estimators=50; total time=   0.3s\n",
      "[CV 3/5] END learning_rate=0.2, max_depth=8, n_estimators=50; total time=   0.4s\n",
      "[CV 4/5] END learning_rate=0.2, max_depth=8, n_estimators=50; total time=   0.3s\n",
      "[CV 5/5] END learning_rate=0.2, max_depth=8, n_estimators=50; total time=   0.3s\n",
      "[CV 1/5] END learning_rate=0.2, max_depth=8, n_estimators=100; total time=   0.9s\n",
      "[CV 2/5] END learning_rate=0.2, max_depth=8, n_estimators=100; total time=   0.8s\n",
      "[CV 3/5] END learning_rate=0.2, max_depth=8, n_estimators=100; total time=   0.7s\n",
      "[CV 4/5] END learning_rate=0.2, max_depth=8, n_estimators=100; total time=   1.8s\n",
      "[CV 5/5] END learning_rate=0.2, max_depth=8, n_estimators=100; total time=   1.2s\n",
      "[CV 1/5] END learning_rate=0.2, max_depth=8, n_estimators=150; total time=   1.8s\n",
      "[CV 2/5] END learning_rate=0.2, max_depth=8, n_estimators=150; total time=   1.1s\n",
      "[CV 3/5] END learning_rate=0.2, max_depth=8, n_estimators=150; total time=   1.3s\n",
      "[CV 4/5] END learning_rate=0.2, max_depth=8, n_estimators=150; total time=   1.2s\n",
      "[CV 5/5] END learning_rate=0.2, max_depth=8, n_estimators=150; total time=   2.8s\n"
     ]
    },
    {
     "data": {
      "text/plain": [
       "GridSearchCV(cv=5,\n",
       "             estimator=XGBRegressor(base_score=None, booster=None,\n",
       "                                    callbacks=None, colsample_bylevel=None,\n",
       "                                    colsample_bynode=None,\n",
       "                                    colsample_bytree=None,\n",
       "                                    early_stopping_rounds=None,\n",
       "                                    enable_categorical=False, eval_metric=None,\n",
       "                                    gamma=None, gpu_id=None, grow_policy=None,\n",
       "                                    importance_type=None,\n",
       "                                    interaction_constraints=None,\n",
       "                                    learning_rate=None, max_bin=None,\n",
       "                                    max_cat...hot=None, max_delta_step=None,\n",
       "                                    max_depth=None, max_leaves=None,\n",
       "                                    min_child_weight=None, missing=nan,\n",
       "                                    monotone_constraints=None, n_estimators=100,\n",
       "                                    n_jobs=None, num_parallel_tree=None,\n",
       "                                    predictor=None, random_state=None,\n",
       "                                    reg_alpha=None, reg_lambda=None, ...),\n",
       "             param_grid={'learning_rate': array([0.1 , 0.15, 0.2 ]),\n",
       "                         'max_depth': [3, 5, 8],\n",
       "                         'n_estimators': [50, 100, 150]},\n",
       "             verbose=5)"
      ]
     },
     "execution_count": 161,
     "metadata": {},
     "output_type": "execute_result"
    }
   ],
   "source": [
    "# 아래에 실습코드를 작성하세요.\n",
    "from xgboost import XGBRegressor, plot_tree # XGB 분류기 (얘는 sklearn 아님)\n",
    "params = {\n",
    "    'max_depth' : [3, 5, 8],\n",
    "    'n_estimators' : [50, 100, 150],\n",
    "    'learning_rate' : np.linspace(0.1, 0.2, 3)\n",
    "}\n",
    "model3 = XGBRegressor()\n",
    "m_gs2 = GridSearchCV(model3, params, cv=5, verbose=5)\n",
    "m_gs2.fit(df_21_feature, df_21_target)\n"
   ]
  },
  {
   "cell_type": "code",
   "execution_count": 162,
   "id": "5ad9d2ef",
   "metadata": {},
   "outputs": [
    {
     "name": "stdout",
     "output_type": "stream",
     "text": [
      "rmse: 6.562632203123796\n",
      "R-squared-score: 0.9216488401726722\n"
     ]
    }
   ],
   "source": [
    "# Test 데이터로 성능을 평가해보세요.\n",
    "pred3 = m_gs2.predict(df_22_feature)\n",
    "print('rmse:', mean_squared_error(df_22_target, pred3, squared=False))\n",
    "print('R-squared-score:', r2_score(df_22_target, pred3))\n",
    "\n"
   ]
  },
  {
   "cell_type": "code",
   "execution_count": 163,
   "id": "0ef3ab14",
   "metadata": {},
   "outputs": [],
   "source": [
    "# 학습한 모델을 파일로 저장해보세요.\n",
    "import pickle \n",
    "with open('mode3_XGB','wb') as fw:\n",
    "    pickle.dump(m_gs2, fw)"
   ]
  },
  {
   "cell_type": "markdown",
   "id": "04925b45",
   "metadata": {},
   "source": [
    "#### [실습문제6] 머신러닝_5\n",
    "* 그라디언트부스팅으로 학습한 모델의 feature_importances 또는 Shap value를 구해보세요.\n",
    "* 확인할 수 있는 내용으로 우리 모델에서의 인사이트를 정리해보세요."
   ]
  },
  {
   "cell_type": "code",
   "execution_count": 167,
   "id": "8deba58d",
   "metadata": {},
   "outputs": [
    {
     "data": {
      "text/html": [
       "<div>\n",
       "<style scoped>\n",
       "    .dataframe tbody tr th:only-of-type {\n",
       "        vertical-align: middle;\n",
       "    }\n",
       "\n",
       "    .dataframe tbody tr th {\n",
       "        vertical-align: top;\n",
       "    }\n",
       "\n",
       "    .dataframe thead th {\n",
       "        text-align: right;\n",
       "    }\n",
       "</style>\n",
       "<table border=\"1\" class=\"dataframe\">\n",
       "  <thead>\n",
       "    <tr style=\"text-align: right;\">\n",
       "      <th></th>\n",
       "      <th>feature_names</th>\n",
       "      <th>feature_importance</th>\n",
       "    </tr>\n",
       "  </thead>\n",
       "  <tbody>\n",
       "    <tr>\n",
       "      <th>0</th>\n",
       "      <td>PM10</td>\n",
       "      <td>0.735161</td>\n",
       "    </tr>\n",
       "    <tr>\n",
       "      <th>1</th>\n",
       "      <td>PM25</td>\n",
       "      <td>0.132532</td>\n",
       "    </tr>\n",
       "    <tr>\n",
       "      <th>2</th>\n",
       "      <td>최저운고(100m )</td>\n",
       "      <td>0.024274</td>\n",
       "    </tr>\n",
       "    <tr>\n",
       "      <th>3</th>\n",
       "      <td>습도(%)</td>\n",
       "      <td>0.014700</td>\n",
       "    </tr>\n",
       "    <tr>\n",
       "      <th>4</th>\n",
       "      <td>해면기압(hPa)</td>\n",
       "      <td>0.010956</td>\n",
       "    </tr>\n",
       "    <tr>\n",
       "      <th>5</th>\n",
       "      <td>증기압(hPa)</td>\n",
       "      <td>0.010213</td>\n",
       "    </tr>\n",
       "    <tr>\n",
       "      <th>6</th>\n",
       "      <td>현지기압(hPa)</td>\n",
       "      <td>0.009732</td>\n",
       "    </tr>\n",
       "    <tr>\n",
       "      <th>7</th>\n",
       "      <td>CO</td>\n",
       "      <td>0.009228</td>\n",
       "    </tr>\n",
       "    <tr>\n",
       "      <th>8</th>\n",
       "      <td>O3</td>\n",
       "      <td>0.008901</td>\n",
       "    </tr>\n",
       "    <tr>\n",
       "      <th>9</th>\n",
       "      <td>지면온도(°C)</td>\n",
       "      <td>0.008310</td>\n",
       "    </tr>\n",
       "    <tr>\n",
       "      <th>10</th>\n",
       "      <td>강수량(mm)</td>\n",
       "      <td>0.006267</td>\n",
       "    </tr>\n",
       "    <tr>\n",
       "      <th>11</th>\n",
       "      <td>일조(hr)</td>\n",
       "      <td>0.005383</td>\n",
       "    </tr>\n",
       "    <tr>\n",
       "      <th>12</th>\n",
       "      <td>풍속(m/s)</td>\n",
       "      <td>0.005053</td>\n",
       "    </tr>\n",
       "    <tr>\n",
       "      <th>13</th>\n",
       "      <td>시정(10m)</td>\n",
       "      <td>0.004898</td>\n",
       "    </tr>\n",
       "    <tr>\n",
       "      <th>14</th>\n",
       "      <td>풍향(16방위)</td>\n",
       "      <td>0.004514</td>\n",
       "    </tr>\n",
       "    <tr>\n",
       "      <th>15</th>\n",
       "      <td>기온(°C)</td>\n",
       "      <td>0.004211</td>\n",
       "    </tr>\n",
       "    <tr>\n",
       "      <th>16</th>\n",
       "      <td>NO2</td>\n",
       "      <td>0.002476</td>\n",
       "    </tr>\n",
       "    <tr>\n",
       "      <th>17</th>\n",
       "      <td>일사(MJ/m2)</td>\n",
       "      <td>0.002454</td>\n",
       "    </tr>\n",
       "    <tr>\n",
       "      <th>18</th>\n",
       "      <td>SO2</td>\n",
       "      <td>0.000735</td>\n",
       "    </tr>\n",
       "    <tr>\n",
       "      <th>19</th>\n",
       "      <td>이슬점온도(°C)</td>\n",
       "      <td>0.000000</td>\n",
       "    </tr>\n",
       "    <tr>\n",
       "      <th>20</th>\n",
       "      <td>적설(cm)</td>\n",
       "      <td>0.000000</td>\n",
       "    </tr>\n",
       "    <tr>\n",
       "      <th>21</th>\n",
       "      <td>3시간신적설(cm)</td>\n",
       "      <td>0.000000</td>\n",
       "    </tr>\n",
       "  </tbody>\n",
       "</table>\n",
       "</div>"
      ],
      "text/plain": [
       "   feature_names  feature_importance\n",
       "0           PM10            0.735161\n",
       "1           PM25            0.132532\n",
       "2    최저운고(100m )            0.024274\n",
       "3          습도(%)            0.014700\n",
       "4      해면기압(hPa)            0.010956\n",
       "5       증기압(hPa)            0.010213\n",
       "6      현지기압(hPa)            0.009732\n",
       "7             CO            0.009228\n",
       "8             O3            0.008901\n",
       "9       지면온도(°C)            0.008310\n",
       "10       강수량(mm)            0.006267\n",
       "11        일조(hr)            0.005383\n",
       "12       풍속(m/s)            0.005053\n",
       "13       시정(10m)            0.004898\n",
       "14      풍향(16방위)            0.004514\n",
       "15        기온(°C)            0.004211\n",
       "16           NO2            0.002476\n",
       "17     일사(MJ/m2)            0.002454\n",
       "18           SO2            0.000735\n",
       "19     이슬점온도(°C)            0.000000\n",
       "20        적설(cm)            0.000000\n",
       "21    3시간신적설(cm)            0.000000"
      ]
     },
     "execution_count": 167,
     "metadata": {},
     "output_type": "execute_result"
    },
    {
     "data": {
      "image/png": "[encoded data removed]",
      "text/plain": [
       "<Figure size 720x576 with 1 Axes>"
      ]
     },
     "metadata": {},
     "output_type": "display_data"
    }
   ],
   "source": [
    "# Feature의 중요도 확인\n",
    "plot_feature_importance(m_gs2.best_estimator_.feature_importances_, list(df_21_feature))\n"
   ]
  },
  {
   "cell_type": "code",
   "execution_count": null,
   "id": "9d1bfe7d",
   "metadata": {},
   "outputs": [],
   "source": [
    "# 확인할 수 있는 인사이트\n",
    "# 1.\n",
    "# 2.\n",
    "# 3."
   ]
  },
  {
   "cell_type": "markdown",
   "id": "305bbd5b",
   "metadata": {},
   "source": [
    "#### 3) Self Choice Model\n",
    "##### 앞선 교육과정에서 배운 머신러닝 모델 중 어떤 것이든 좋습니다. 원하는 모델을 선택해서 학습을 시켜보세요."
   ]
  },
  {
   "cell_type": "markdown",
   "id": "fbef7589",
   "metadata": {},
   "source": [
    "#### [실습문제7] 머신러닝_6\n",
    "* Train과 Test로 나눈 데이터를 기준으로 Self Choice Model로 모델을 학습을 진행하고 평가를 해주세요.\n",
    "* 그리고 모델 파일을 pkl로 저장해주세요.\n",
    "* 성능지표 : RMSE, R-squared Score(소수점 5째자리까지, 반올림)"
   ]
  },
  {
   "cell_type": "code",
   "execution_count": null,
   "id": "a2c66605",
   "metadata": {},
   "outputs": [],
   "source": [
    "# 아래에 실습코드를 작성하세요.\n",
    "\n",
    "\n",
    "\n"
   ]
  },
  {
   "cell_type": "code",
   "execution_count": null,
   "id": "546ac8bf",
   "metadata": {},
   "outputs": [],
   "source": [
    "# Test 데이터로 성능을 평가해보세요.\n",
    "\n",
    "\n",
    "\n"
   ]
  },
  {
   "cell_type": "code",
   "execution_count": null,
   "id": "e69d0d7c",
   "metadata": {},
   "outputs": [],
   "source": [
    "# 학습한 모델을 파일로 저장해보세요.\n",
    "\n",
    "\n",
    "\n"
   ]
  },
  {
   "cell_type": "markdown",
   "id": "94cfdb09",
   "metadata": {},
   "source": [
    "#### [실습문제8] 머신러닝_7\n",
    "* Self Choice Model로 학습한 모델의 feature_importances 또는 Shap value를 구해보세요.\n",
    "* 확인할 수 있는 내용으로 우리 모델에서의 인사이트를 정리해보세요."
   ]
  },
  {
   "cell_type": "code",
   "execution_count": null,
   "id": "67e6d924",
   "metadata": {},
   "outputs": [],
   "source": [
    "# Feature의 중요도 확인\n",
    "\n",
    "\n",
    "\n"
   ]
  },
  {
   "cell_type": "code",
   "execution_count": null,
   "id": "a8ac782c",
   "metadata": {},
   "outputs": [],
   "source": [
    "# 확인할 수 있는 인사이트\n",
    "# 1.\n",
    "# 2.\n",
    "# 3."
   ]
  },
  {
   "cell_type": "code",
   "execution_count": null,
   "id": "163d68be",
   "metadata": {},
   "outputs": [],
   "source": []
  },
  {
   "cell_type": "code",
   "execution_count": null,
   "id": "b5e71a8a",
   "metadata": {},
   "outputs": [],
   "source": []
  },
  {
   "cell_type": "code",
   "execution_count": null,
   "id": "bfe452bc",
   "metadata": {},
   "outputs": [],
   "source": [
    "[TimeSeriesSplit 코드]\n",
    "\n",
    "tscv = TimeSeriesSplit(n_splits=12)  \n",
    "\n",
    " cv_results = cross_val_score(model, x_train, y_train, cv=tscv, scoring='r2')\n",
    "\n",
    "model, x_train, y_train, n_splits=12 scoring='r2-> 아래 코드에서 이것들만 조정\n",
    "\n",
    "\n",
    "\n",
    "그리드 서치든 뭐든 cv 파라미터 있는곳에 tscv = TimeSeriesSplit(n_splits=12) 만 넣으시면 웬만하면 실행될 거에요.\n",
    "\n",
    "\n",
    "\n",
    "```\n",
    "\n",
    "from sklearn.model_selection import TimeSeriesSplit\n",
    "\n",
    "\n",
    "\n",
    "# Spot Check Algorithms\n",
    "\n",
    "models = []\n",
    "\n",
    "models.append(('LR', LinearRegression()))\n",
    "\n",
    "#models.append(('NN', MLPRegressor(solver = 'lbfgs')))  #neural network\n",
    "\n",
    "models.append(('KNN', KNeighborsRegressor()))\n",
    "\n",
    "models.append(('RF', RandomForestRegressor(n_estimators = 10))) # Ensemble method - collection of many decision trees\n",
    "\n",
    "models.append(('SVR', SVR(gamma='auto'))) # kernel = linear\n",
    "\n",
    "models.append(('Gradient', GradientBoostingRegressor()))\n",
    "\n",
    "# Evaluate each model in turn\n",
    "\n",
    "results = []\n",
    "\n",
    "names = []\n",
    "\n",
    "for name, model in models:\n",
    "\n",
    "    # TimeSeries Cross validation\n",
    "\n",
    " tscv = TimeSeriesSplit(n_splits=12)\n",
    "\n",
    "   \n",
    "\n",
    " cv_results = cross_val_score(model, x_train, y_train, cv=tscv, scoring='r2')\n",
    "\n",
    " results.append(cv_results)\n",
    "\n",
    " names.append(name)\n",
    "\n",
    " print('%s: %f (%f)' % (name, cv_results.mean(), cv_results.std()))\n",
    "\n",
    "   \n",
    "\n",
    "# Compare Algorithms\n",
    "\n",
    "plt.boxplot(results, labels=names)\n",
    "\n",
    "plt.title('Algorithm Comparison')\n",
    "\n",
    "plt.show()\n",
    "\n",
    "```"
   ]
  }
 ],
 "metadata": {
  "kernelspec": {
   "display_name": "Python 3",
   "language": "python",
   "name": "python3"
  },
  "language_info": {
   "codemirror_mode": {
    "name": "ipython",
    "version": 3
   },
   "file_extension": ".py",
   "mimetype": "text/x-python",
   "name": "python",
   "nbconvert_exporter": "python",
   "pygments_lexer": "ipython3",
   "version": "3.8.8"
  },
  "vscode": {
   "interpreter": {
    "hash": "f08154012ddadd8e950e6e9e035c7a7b32c136e7647e9b7c77e02eb723a8bedb"
   }
  }
 },
 "nbformat": 4,
 "nbformat_minor": 5
}
