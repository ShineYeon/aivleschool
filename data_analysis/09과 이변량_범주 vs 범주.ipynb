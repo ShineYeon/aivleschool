{
 "cells": [
  {
   "cell_type": "markdown",
   "metadata": {
    "id": "EnlYouStN0Le"
   },
   "source": [
    "# 9과 이변량_범주 vs 범주"
   ]
  },
  {
   "cell_type": "markdown",
   "metadata": {
    "id": "0SJP-uYxN0Lk"
   },
   "source": [
    "## 1.환경준비"
   ]
  },
  {
   "cell_type": "markdown",
   "metadata": {
    "id": "6dMK5CsEN0Lk"
   },
   "source": [
    "* 라이브러리 불러오기"
   ]
  },
  {
   "cell_type": "code",
   "execution_count": 1,
   "metadata": {
    "id": "Sma8Fku5N0Ll"
   },
   "outputs": [],
   "source": [
    "import pandas as pd\n",
    "import numpy as np\n",
    "import random as rd\n",
    "\n",
    "import matplotlib.pyplot as plt\n",
    "import seaborn as sns\n",
    "from statsmodels.graphics.mosaicplot import mosaic      #mosaic plot!\n",
    "\n",
    "import scipy.stats as spst"
   ]
  },
  {
   "cell_type": "markdown",
   "metadata": {
    "id": "NCpMWLagN0Ln"
   },
   "source": [
    "* 데이터 불러오기 : 다음의 예제 데이터를 사용합니다.\n",
    "> 타이타닉 생존자  \n"
   ]
  },
  {
   "cell_type": "code",
   "execution_count": 2,
   "metadata": {
    "id": "si-trqDhN0Lo"
   },
   "outputs": [
    {
     "data": {
      "text/html": [
       "<div>\n",
       "<style scoped>\n",
       "    .dataframe tbody tr th:only-of-type {\n",
       "        vertical-align: middle;\n",
       "    }\n",
       "\n",
       "    .dataframe tbody tr th {\n",
       "        vertical-align: top;\n",
       "    }\n",
       "\n",
       "    .dataframe thead th {\n",
       "        text-align: right;\n",
       "    }\n",
       "</style>\n",
       "<table border=\"1\" class=\"dataframe\">\n",
       "  <thead>\n",
       "    <tr style=\"text-align: right;\">\n",
       "      <th></th>\n",
       "      <th>PassengerId</th>\n",
       "      <th>Survived</th>\n",
       "      <th>Pclass</th>\n",
       "      <th>Title</th>\n",
       "      <th>Sex</th>\n",
       "      <th>Age</th>\n",
       "      <th>SibSp</th>\n",
       "      <th>Parch</th>\n",
       "      <th>Ticket</th>\n",
       "      <th>Fare</th>\n",
       "      <th>Cabin</th>\n",
       "      <th>Embarked</th>\n",
       "      <th>AgeGroup</th>\n",
       "      <th>Family</th>\n",
       "      <th>Mother</th>\n",
       "      <th>Fare2</th>\n",
       "    </tr>\n",
       "  </thead>\n",
       "  <tbody>\n",
       "    <tr>\n",
       "      <th>0</th>\n",
       "      <td>1</td>\n",
       "      <td>0</td>\n",
       "      <td>3</td>\n",
       "      <td>Mr</td>\n",
       "      <td>male</td>\n",
       "      <td>22.0</td>\n",
       "      <td>1</td>\n",
       "      <td>0</td>\n",
       "      <td>A/5 21171</td>\n",
       "      <td>7.2500</td>\n",
       "      <td>NaN</td>\n",
       "      <td>S</td>\n",
       "      <td>Age_20</td>\n",
       "      <td>2</td>\n",
       "      <td>0</td>\n",
       "      <td>7.2500</td>\n",
       "    </tr>\n",
       "    <tr>\n",
       "      <th>1</th>\n",
       "      <td>2</td>\n",
       "      <td>1</td>\n",
       "      <td>1</td>\n",
       "      <td>Mrs</td>\n",
       "      <td>female</td>\n",
       "      <td>38.0</td>\n",
       "      <td>1</td>\n",
       "      <td>0</td>\n",
       "      <td>PC 17599</td>\n",
       "      <td>71.2833</td>\n",
       "      <td>C85</td>\n",
       "      <td>C</td>\n",
       "      <td>Age_30</td>\n",
       "      <td>2</td>\n",
       "      <td>0</td>\n",
       "      <td>71.2833</td>\n",
       "    </tr>\n",
       "    <tr>\n",
       "      <th>2</th>\n",
       "      <td>3</td>\n",
       "      <td>1</td>\n",
       "      <td>3</td>\n",
       "      <td>Miss</td>\n",
       "      <td>female</td>\n",
       "      <td>26.0</td>\n",
       "      <td>0</td>\n",
       "      <td>0</td>\n",
       "      <td>STON/O2. 3101282</td>\n",
       "      <td>7.9250</td>\n",
       "      <td>NaN</td>\n",
       "      <td>S</td>\n",
       "      <td>Age_20</td>\n",
       "      <td>1</td>\n",
       "      <td>0</td>\n",
       "      <td>7.9250</td>\n",
       "    </tr>\n",
       "    <tr>\n",
       "      <th>3</th>\n",
       "      <td>4</td>\n",
       "      <td>1</td>\n",
       "      <td>1</td>\n",
       "      <td>Mrs</td>\n",
       "      <td>female</td>\n",
       "      <td>35.0</td>\n",
       "      <td>1</td>\n",
       "      <td>0</td>\n",
       "      <td>113803</td>\n",
       "      <td>53.1000</td>\n",
       "      <td>C123</td>\n",
       "      <td>S</td>\n",
       "      <td>Age_30</td>\n",
       "      <td>2</td>\n",
       "      <td>0</td>\n",
       "      <td>53.1000</td>\n",
       "    </tr>\n",
       "    <tr>\n",
       "      <th>4</th>\n",
       "      <td>5</td>\n",
       "      <td>0</td>\n",
       "      <td>3</td>\n",
       "      <td>Mr</td>\n",
       "      <td>male</td>\n",
       "      <td>35.0</td>\n",
       "      <td>0</td>\n",
       "      <td>0</td>\n",
       "      <td>373450</td>\n",
       "      <td>8.0500</td>\n",
       "      <td>NaN</td>\n",
       "      <td>S</td>\n",
       "      <td>Age_30</td>\n",
       "      <td>1</td>\n",
       "      <td>0</td>\n",
       "      <td>8.0500</td>\n",
       "    </tr>\n",
       "  </tbody>\n",
       "</table>\n",
       "</div>"
      ],
      "text/plain": [
       "   PassengerId  Survived  Pclass Title     Sex   Age  SibSp  Parch  \\\n",
       "0            1         0       3    Mr    male  22.0      1      0   \n",
       "1            2         1       1   Mrs  female  38.0      1      0   \n",
       "2            3         1       3  Miss  female  26.0      0      0   \n",
       "3            4         1       1   Mrs  female  35.0      1      0   \n",
       "4            5         0       3    Mr    male  35.0      0      0   \n",
       "\n",
       "             Ticket     Fare Cabin Embarked AgeGroup  Family  Mother    Fare2  \n",
       "0         A/5 21171   7.2500   NaN        S   Age_20       2       0   7.2500  \n",
       "1          PC 17599  71.2833   C85        C   Age_30       2       0  71.2833  \n",
       "2  STON/O2. 3101282   7.9250   NaN        S   Age_20       1       0   7.9250  \n",
       "3            113803  53.1000  C123        S   Age_30       2       0  53.1000  \n",
       "4            373450   8.0500   NaN        S   Age_30       1       0   8.0500  "
      ]
     },
     "execution_count": 2,
     "metadata": {},
     "output_type": "execute_result"
    }
   ],
   "source": [
    "# 타이타닉 데이터\n",
    "titanic = pd.read_csv('https://raw.githubusercontent.com/DA4BAM/dataset/master/titanic.1.csv')\n",
    "titanic.head()"
   ]
  },
  {
   "cell_type": "markdown",
   "metadata": {
    "id": "24HAzukSN0Ls"
   },
   "source": [
    "## 2.교차표(pd.crosstab)\n",
    "\n",
    "범주 vs 범주 를 비교하고 분석하기 위해서는 먼저 **교차표**를 만들어야 합니다."
   ]
  },
  {
   "cell_type": "markdown",
   "metadata": {
    "id": "_ZAUjkluWcnp"
   },
   "source": [
    "* pd.crosstab(행, 열)"
   ]
  },
  {
   "cell_type": "code",
   "execution_count": null,
   "metadata": {
    "id": "PVVnjqcSYFWs"
   },
   "outputs": [],
   "source": [
    "# 두 범주별 빈도수를 교차표로 만들어 봅시다.\n",
    "pd.crosstab(titanic['Survived'], titanic['Sex'])"
   ]
  },
  {
   "cell_type": "markdown",
   "metadata": {
    "id": "F4YQ63QpXZKb"
   },
   "source": [
    "* pd.crosstab(행, 열, normalize =   )\n",
    "    * normalize: 비율로 만들어주는 것, 방법 3가지 있음\n",
    "        * all : 전체 비율의 합계가 1일 때 각각의 비율\n",
    "        * columns : columns 기준으로 합계를 1로\n",
    "            * ex) C에서 탄 사람들 중에서 Survived 0인사람 + Survived 1인 사람 = 1\n",
    "        * index : index 기준으로 합계를 1로\n",
    "            * ex) 사망자 중에서 승선지가 C인사람 + Q인 사람 + S인 사람 = 1\n",
    "\n",
    "<img src='https://github.com/DA4BAM/image/blob/main/crosstab.png?raw=true' width=700/>\n"
   ]
  },
  {
   "cell_type": "code",
   "execution_count": null,
   "metadata": {
    "id": "xNNBmdowHt1T"
   },
   "outputs": [],
   "source": [
    "pd.crosstab(titanic['Survived'], titanic['Embarked'], normalize = 'columns')"
   ]
  },
  {
   "cell_type": "code",
   "execution_count": null,
   "metadata": {
    "id": "HqRdrSu-JBbX"
   },
   "outputs": [],
   "source": [
    "pd.crosstab(titanic['Survived'], titanic['Embarked'], normalize = 'index')"
   ]
  },
  {
   "cell_type": "code",
   "execution_count": null,
   "metadata": {
    "id": "S8yAEvtzJHEg"
   },
   "outputs": [],
   "source": [
    "pd.crosstab(titanic['Survived'], titanic['Embarked'], normalize = 'all')"
   ]
  },
  {
   "cell_type": "markdown",
   "metadata": {
    "id": "bBPSpzBhVua5"
   },
   "source": [
    "## 3.시각화\n",
    "* 100% Stacked Bar\n",
    "* mosaic"
   ]
  },
  {
   "cell_type": "markdown",
   "metadata": {
    "id": "LAMXGCpsWJm5"
   },
   "source": [
    "1) Pclass --> Survived"
   ]
  },
  {
   "cell_type": "markdown",
   "metadata": {
    "id": "QprpfbLPYoA7"
   },
   "source": [
    "* 100% Stacked Bar\n",
    "    * 먼저 crosstab으로 집계 : pd.crosstab(**feature**, **target**, normalize = **'index'**)\n",
    "    * .plot.bar(stacked = true)\n",
    "    * 전체 평균선 : plt.axhline()"
   ]
  },
  {
   "cell_type": "code",
   "execution_count": 6,
   "metadata": {
    "id": "qahDr2FxNLKJ"
   },
   "outputs": [
    {
     "name": "stdout",
     "output_type": "stream",
     "text": [
      "Survived         0         1\n",
      "Pclass                      \n",
      "1         0.370370  0.629630\n",
      "2         0.527174  0.472826\n",
      "3         0.757637  0.242363\n"
     ]
    },
    {
     "data": {
      "image/png": "[encoded data removed]",
      "text/plain": [
       "<Figure size 432x288 with 1 Axes>"
      ]
     },
     "metadata": {
      "needs_background": "light"
     },
     "output_type": "display_data"
    }
   ],
   "source": [
    "temp = pd.crosstab(titanic['Pclass'], titanic['Survived'], normalize = 'index')\n",
    "print(temp)\n",
    "temp.plot.bar(stacked=True)\n",
    "plt.axhline(1-titanic['Survived'].mean(), color = 'r')\n",
    "plt.show()\n",
    "\n",
    "# 여기 있는 수평선은 뭐지?\n",
    "# 생존여부의 평균은 1에 대한 평균 (생존은 1, 0으로 구성)\n",
    "# 그럼 1에서 뺀거면? 전체 평균선"
   ]
  },
  {
   "cell_type": "markdown",
   "metadata": {
    "id": "r8bveTITaDsU"
   },
   "source": [
    "비율만 비교하므로 양에 대한 비교는 할 수 없다!"
   ]
  },
  {
   "cell_type": "markdown",
   "metadata": {
    "id": "dmopxnQQZX4_"
   },
   "source": [
    "* mosaic plot\n",
    "    * mosaic(dataframe, [ feature, target])"
   ]
  },
  {
   "cell_type": "code",
   "execution_count": 4,
   "metadata": {
    "id": "t10ETkNKHcNi"
   },
   "outputs": [
    {
     "data": {
      "image/png": "[encoded data removed]",
      "text/plain": [
       "<Figure size 432x288 with 3 Axes>"
      ]
     },
     "metadata": {
      "needs_background": "light"
     },
     "output_type": "display_data"
    }
   ],
   "source": [
    "# Pclass별 생존여부를 mosaic plot으로 그려 봅시다.\n",
    "mosaic(titanic, [ 'Pclass','Survived'])\n",
    "plt.axhline(1- titanic['Survived'].mean(), color = 'r')\n",
    "plt.show()"
   ]
  },
  {
   "cell_type": "markdown",
   "metadata": {
    "id": "SF6cAab1aKw5"
   },
   "source": [
    "① X축 길이는 각 객실등급별 승객비율을 나타냅니다.  \n",
    "② 그 중 3등급 객실에 대해서 보면, y축의 길이는, 3등급 객실 승객 중에서 사망, 생존 비율을 의미합니다."
   ]
  },
  {
   "cell_type": "code",
   "execution_count": null,
   "metadata": {
    "id": "8tEpr2eUbCfE"
   },
   "outputs": [],
   "source": [
    "# 저장된 값 순서대로 보여집니다. \n",
    "# 정렬하고 싶으면 .sort_values를 이용하면 됩니다.\n",
    "# 사이 간격도 gap 옵션으로 조정 가능합니다.\n",
    "\n",
    "mosaic(titanic.sort_values(['Pclass', 'Survived']), [ 'Pclass','Survived'], gap = 0.01)\n",
    "plt.axhline(1- titanic['Survived'].mean(), color = 'r')\n",
    "plt.show()"
   ]
  },
  {
   "cell_type": "markdown",
   "metadata": {
    "id": "8v7MIkTFGZun"
   },
   "source": [
    "### 실습\n",
    "아래 관계에 대해서 교차표와 시각화(100% Stacked bar, mosaic)를 수행하고, feature와 target 간에 관계가 있는지 분석해 봅시다.\n"
   ]
  },
  {
   "cell_type": "markdown",
   "metadata": {
    "id": "1KkdJ53SGioZ"
   },
   "source": [
    "* Sex --> Survived"
   ]
  },
  {
   "cell_type": "code",
   "execution_count": 7,
   "metadata": {
    "id": "r8PEdTBZTyzb"
   },
   "outputs": [
    {
     "data": {
      "image/png": "[encoded data removed]",
      "text/plain": [
       "<Figure size 432x288 with 3 Axes>"
      ]
     },
     "metadata": {
      "needs_background": "light"
     },
     "output_type": "display_data"
    }
   ],
   "source": [
    "mosaic(titanic.sort_values(['Sex', 'Survived']), [ 'Sex','Survived'], gap = 0.01)\n",
    "plt.axhline(1- titanic['Survived'].mean(), color = 'r')\n",
    "plt.show()\n",
    "\n",
    "#성별은 생존여부 결정하는데 관련있나요? ㅇ\n",
    "# 전체평균에서 완전 벗어나있으니까."
   ]
  },
  {
   "cell_type": "code",
   "execution_count": null,
   "metadata": {
    "id": "OHk3BrIuTywL"
   },
   "outputs": [],
   "source": []
  },
  {
   "cell_type": "markdown",
   "metadata": {
    "id": "BGrJExbTZA-m"
   },
   "source": [
    "* Embarked --> Survived"
   ]
  },
  {
   "cell_type": "code",
   "execution_count": 8,
   "metadata": {
    "id": "c4qKlbrdM521"
   },
   "outputs": [
    {
     "data": {
      "image/png": "[encoded data removed]",
      "text/plain": [
       "<Figure size 432x288 with 3 Axes>"
      ]
     },
     "metadata": {
      "needs_background": "light"
     },
     "output_type": "display_data"
    }
   ],
   "source": [
    "mosaic(titanic.sort_values(['Embarked', 'Survived']), [ 'Embarked','Survived'], gap = 0.01)\n",
    "plt.axhline(1- titanic['Survived'].mean(), color = 'r')\n",
    "plt.show()\n",
    "\n",
    "#승선지역은 생존여부랑 관련 있나요?\n",
    "# 쵸큼 애매.\n",
    "# 관련이 있긴 있는데 성별에 비하면 그렇게 차이가 있어보이진 않음."
   ]
  },
  {
   "cell_type": "code",
   "execution_count": null,
   "metadata": {
    "id": "dSvuk6viM523"
   },
   "outputs": [],
   "source": []
  },
  {
   "cell_type": "markdown",
   "metadata": {
    "id": "bRXfrDPRZEGa"
   },
   "source": [
    "* Title --> Survived"
   ]
  },
  {
   "cell_type": "code",
   "execution_count": 9,
   "metadata": {
    "id": "vn4QZ2xkNGUk"
   },
   "outputs": [
    {
     "data": {
      "image/png": "[encoded data removed]",
      "text/plain": [
       "<Figure size 432x288 with 3 Axes>"
      ]
     },
     "metadata": {
      "needs_background": "light"
     },
     "output_type": "display_data"
    }
   ],
   "source": [
    "mosaic(titanic.sort_values(['Title', 'Survived']), [ 'Title','Survived'], gap = 0.01)\n",
    "plt.axhline(1- titanic['Survived'].mean(), color = 'r')\n",
    "plt.show()\n",
    "\n",
    "# Title은 생존 여부랑 관련있나요?\n",
    "# 미스터는 생존율이 엄청 낮음.\n",
    "# Mrs, Miss 높고\n",
    "# master는 10살 이하의 어린 남자아이 호칭 생존율 높고\n",
    "# others는 되게 적지만 생존율이 낮아.\n",
    "\n",
    "# 타이틀과 성별 중에서 생존여부랑 가장 관계가 높은 것은?\n",
    "# 이럴 때 수치화해서 가설검정 진행 (카이제곱검정)\n",
    "# pvalue 가지고 비교해보자."
   ]
  },
  {
   "cell_type": "code",
   "execution_count": null,
   "metadata": {
    "id": "WOiVuoYTNGUk"
   },
   "outputs": [],
   "source": []
  },
  {
   "cell_type": "markdown",
   "metadata": {
    "id": "R196PLJaZo-5"
   },
   "source": [
    "3) 시각화 결과를 분석하는 방법  \n",
    "* 한가지만 기억하세요!  귀무가설이 참일 때 나올 그래프의 모양(아래 그림)\n",
    "* 여기서 벗어나면, 차이가 있다. 관련이 있다는 말입니다.\n",
    "\n"
   ]
  },
  {
   "cell_type": "markdown",
   "metadata": {
    "id": "a29v8xwvZ9pC"
   },
   "source": [
    "<img src='https://github.com/DA4BAM/image/blob/main/%EB%AA%A8%EC%9E%90%EC%9D%B5.png?raw=true' width=700/>"
   ]
  },
  {
   "cell_type": "markdown",
   "metadata": {
    "id": "9X2HoAWSZirN"
   },
   "source": [
    "* [참조] 모자익 플롯을 3 범주로 그리려면..."
   ]
  },
  {
   "cell_type": "code",
   "execution_count": null,
   "metadata": {
    "id": "R7f9BNPRS6xs"
   },
   "outputs": [],
   "source": [
    "# 세 범주로 그리려면...\n",
    "mosaic(titanic, ['Sex','Pclass','Survived'], gap = 0.02)\n",
    "plt.show()"
   ]
  },
  {
   "cell_type": "markdown",
   "metadata": {
    "id": "dmhYzOHLXvJC"
   },
   "source": [
    "## 4.수치화 : 카이제곱검정"
   ]
  },
  {
   "cell_type": "markdown",
   "metadata": {
    "id": "9HGXCJWhY5MC"
   },
   "source": [
    "* 카이제곱검정 : 범주형 변수들 사이에 어떤 관계가 있는지, 수치화 하는 방법"
   ]
  },
  {
   "cell_type": "markdown",
   "metadata": {
    "id": "8p7ZrC7rj8Ei"
   },
   "source": [
    "![image.png](https://github.com/DA4BAM/image/blob/main/%EC%B9%B4%EC%9D%B4%EC%A0%9C%EA%B3%B1%20%ED%86%B5%EA%B3%84%EB%9F%89.png?raw=true)"
   ]
  },
  {
   "cell_type": "markdown",
   "metadata": {
    "id": "A2fDnaln9310"
   },
   "source": [
    "* 카이 제곱 통계량은\n",
    "    * 클수록 기대빈도로부터 실제 값에 차이가 크다는 의미.\n",
    "    * 계산식으로 볼 때, 범주의 수가 늘어날 수록 값은 커지게 되어 있음.\n",
    "    * 보통, 자유도의 2~3배 보다 크면, 차이가 있다고 본다. \n",
    "\n",
    "* 범주형 변수의 자유도 : 범주의 수 - 1\n",
    "\n",
    "* 카이제곱검정에서는\n",
    "    * x 변수의 자유도 × y 변수의 자유도\n",
    "    * 예 : Pclass --> Survived\n",
    "        * Pclass : 범주가 3개, Survived : 2개\n",
    "        * (3-1) * (2-1) = 2\n",
    "        * 그러므로, 2의 2 ~ 3배인 4 ~ 6 보다 카이제곱 통계량이 크면, 차이가 있다고 볼수 있음.\n"
   ]
  },
  {
   "cell_type": "markdown",
   "metadata": {
    "id": "CwbDv0nEkUIz"
   },
   "source": [
    "* 타이타닉 데이터에서 객실등급과 생존여부 간의 카이제곱 검정을 수행해 봅시다."
   ]
  },
  {
   "cell_type": "code",
   "execution_count": 10,
   "metadata": {
    "id": "Jl7IPy0GkeEn"
   },
   "outputs": [
    {
     "data": {
      "text/html": [
       "<div>\n",
       "<style scoped>\n",
       "    .dataframe tbody tr th:only-of-type {\n",
       "        vertical-align: middle;\n",
       "    }\n",
       "\n",
       "    .dataframe tbody tr th {\n",
       "        vertical-align: top;\n",
       "    }\n",
       "\n",
       "    .dataframe thead th {\n",
       "        text-align: right;\n",
       "    }\n",
       "</style>\n",
       "<table border=\"1\" class=\"dataframe\">\n",
       "  <thead>\n",
       "    <tr style=\"text-align: right;\">\n",
       "      <th>Pclass</th>\n",
       "      <th>1</th>\n",
       "      <th>2</th>\n",
       "      <th>3</th>\n",
       "    </tr>\n",
       "    <tr>\n",
       "      <th>Survived</th>\n",
       "      <th></th>\n",
       "      <th></th>\n",
       "      <th></th>\n",
       "    </tr>\n",
       "  </thead>\n",
       "  <tbody>\n",
       "    <tr>\n",
       "      <th>0</th>\n",
       "      <td>80</td>\n",
       "      <td>97</td>\n",
       "      <td>372</td>\n",
       "    </tr>\n",
       "    <tr>\n",
       "      <th>1</th>\n",
       "      <td>136</td>\n",
       "      <td>87</td>\n",
       "      <td>119</td>\n",
       "    </tr>\n",
       "  </tbody>\n",
       "</table>\n",
       "</div>"
      ],
      "text/plain": [
       "Pclass      1   2    3\n",
       "Survived              \n",
       "0          80  97  372\n",
       "1         136  87  119"
      ]
     },
     "execution_count": 10,
     "metadata": {},
     "output_type": "execute_result"
    }
   ],
   "source": [
    "pd.crosstab(titanic['Survived'], titanic['Pclass'])"
   ]
  },
  {
   "cell_type": "code",
   "execution_count": 11,
   "metadata": {
    "id": "ZIhdTgsSnE_P"
   },
   "outputs": [
    {
     "name": "stdout",
     "output_type": "stream",
     "text": [
      "교차표\n",
      " Pclass      1   2    3\n",
      "Survived              \n",
      "0          80  97  372\n",
      "1         136  87  119\n",
      "----------------------------------------------------------------------------------------------------\n",
      "카이제곱통계량 102.88898875696056\n",
      "p-value 4.549251711298793e-23\n",
      "기대빈도\n",
      " [[133.09090909 113.37373737 302.53535354]\n",
      " [ 82.90909091  70.62626263 188.46464646]]\n"
     ]
    }
   ],
   "source": [
    "# 먼저 집계\n",
    "table = pd.crosstab(titanic['Survived'], titanic['Pclass'])\n",
    "print('교차표\\n', table)\n",
    "print('-' * 100)\n",
    "\n",
    "# 카이제곱검정\n",
    "result = spst.chi2_contingency(table)\n",
    "print('카이제곱통계량', result[0])\n",
    "print('p-value', result[1])\n",
    "print('기대빈도\\n',result[3])\n",
    "\n",
    "# 카이제곱 통계량이 자유도보다 2~3배 크면 차이가 있다고 본다.\n",
    "\n",
    "#카이제곱통계량이 102.9이고 자유도가 2 => 완전 차이있음\n",
    "#그리고 pvalue가 완전 0에 수렴 => 완전 관련있음"
   ]
  },
  {
   "cell_type": "code",
   "execution_count": 12,
   "metadata": {
    "id": "XBM3yzxIkcEE"
   },
   "outputs": [
    {
     "data": {
      "text/plain": [
       "(102.88898875696056,\n",
       " 4.549251711298793e-23,\n",
       " 2,\n",
       " array([[133.09090909, 113.37373737, 302.53535354],\n",
       "        [ 82.90909091,  70.62626263, 188.46464646]]))"
      ]
     },
     "execution_count": 12,
     "metadata": {},
     "output_type": "execute_result"
    }
   ],
   "source": [
    "result\n",
    "\n",
    "# 카이제곱 통계량, pvalue, 자유도, 계산된 기대 빈도 수"
   ]
  },
  {
   "cell_type": "markdown",
   "metadata": {
    "id": "ai4Io_lInE_Q"
   },
   "source": [
    "### 실습\n",
    "다음의 관계에 대해 수치화 해 봅시다."
   ]
  },
  {
   "cell_type": "markdown",
   "metadata": {
    "id": "DIIf_Gt9foRO"
   },
   "source": [
    "* Sex --> Survived"
   ]
  },
  {
   "cell_type": "code",
   "execution_count": 14,
   "metadata": {
    "id": "dLVO0UZ3XPH4"
   },
   "outputs": [
    {
     "name": "stdout",
     "output_type": "stream",
     "text": [
      "교차표\n",
      " Sex       female  male\n",
      "Survived              \n",
      "0             81   468\n",
      "1            233   109\n",
      "----------------------------------------------------------------------------------------------------\n",
      "카이제곱통계량 260.71702016732104\n",
      "p-value 1.1973570627755645e-58\n",
      "자유도 1\n",
      "기대빈도\n",
      " [[193.47474747 355.52525253]\n",
      " [120.52525253 221.47474747]]\n"
     ]
    }
   ],
   "source": [
    "table = pd.crosstab(titanic['Survived'], titanic['Sex'])\n",
    "print('교차표\\n', table)\n",
    "print('-' * 100)\n",
    "\n",
    "# 카이제곱검정\n",
    "result = spst.chi2_contingency(table)\n",
    "print('카이제곱통계량', result[0])\n",
    "print('p-value', result[1])\n",
    "print('자유도', result[2])\n",
    "print('기대빈도\\n',result[3])"
   ]
  },
  {
   "cell_type": "markdown",
   "metadata": {
    "id": "sfkwdLVvZIOP"
   },
   "source": [
    "* Embarked --> Survived"
   ]
  },
  {
   "cell_type": "code",
   "execution_count": 15,
   "metadata": {
    "id": "7HwAZctKZIOQ"
   },
   "outputs": [
    {
     "name": "stdout",
     "output_type": "stream",
     "text": [
      "교차표\n",
      " Embarked   C   Q    S\n",
      "Survived             \n",
      "0         75  47  427\n",
      "1         93  30  219\n",
      "----------------------------------------------------------------------------------------------------\n",
      "카이제곱통계량 25.964452881874784\n",
      "p-value 2.3008626481449577e-06\n",
      "자유도 2\n",
      "기대빈도\n",
      " [[103.51515152  47.44444444 398.04040404]\n",
      " [ 64.48484848  29.55555556 247.95959596]]\n"
     ]
    }
   ],
   "source": [
    "table = pd.crosstab(titanic['Survived'], titanic['Embarked'])\n",
    "print('교차표\\n', table)\n",
    "print('-' * 100)\n",
    "\n",
    "# 카이제곱검정\n",
    "result = spst.chi2_contingency(table)\n",
    "print('카이제곱통계량', result[0])\n",
    "print('p-value', result[1])\n",
    "print('자유도', result[2])\n",
    "print('기대빈도\\n',result[3])\n",
    "\n",
    "# 완전차이있음, 완전 관련있음"
   ]
  },
  {
   "cell_type": "markdown",
   "metadata": {
    "id": "WCmKwOwSZIOR"
   },
   "source": [
    "* Title --> Survived"
   ]
  },
  {
   "cell_type": "code",
   "execution_count": 16,
   "metadata": {
    "id": "VAhKitACZIOS"
   },
   "outputs": [
    {
     "name": "stdout",
     "output_type": "stream",
     "text": [
      "교차표\n",
      " Title     Master  Miss   Mr  Mrs  Others\n",
      "Survived                                \n",
      "0             18    55  439   26      11\n",
      "1             23   130   84  102       3\n",
      "----------------------------------------------------------------------------------------------------\n",
      "카이제곱통계량 289.1953165452417\n",
      "p-value 2.318405007221846e-61\n",
      "자유도 4\n",
      "기대빈도\n",
      " [[ 25.26262626 113.98989899 322.25252525  78.86868687   8.62626263]\n",
      " [ 15.73737374  71.01010101 200.74747475  49.13131313   5.37373737]]\n"
     ]
    }
   ],
   "source": [
    "table = pd.crosstab(titanic['Survived'], titanic['Title'])\n",
    "print('교차표\\n', table)\n",
    "print('-' * 100)\n",
    "\n",
    "# 카이제곱검정\n",
    "result = spst.chi2_contingency(table)\n",
    "print('카이제곱통계량', result[0])\n",
    "print('p-value', result[1])\n",
    "print('자유도', result[2])\n",
    "print('기대빈도\\n',result[3])\n",
    "\n",
    "# 완전 차이있음, 완전 관련있음"
   ]
  },
  {
   "cell_type": "markdown",
   "metadata": {
    "id": "PmZtDSeUdRJ5"
   },
   "source": [
    "# 종합실습"
   ]
  },
  {
   "cell_type": "markdown",
   "metadata": {
    "id": "4UklllBjdRJ7"
   },
   "source": [
    "## 1.환경준비"
   ]
  },
  {
   "cell_type": "markdown",
   "metadata": {
    "id": "RpVQY2pVdRJ7"
   },
   "source": [
    "* 라이브러리 불러오기"
   ]
  },
  {
   "cell_type": "code",
   "execution_count": 17,
   "metadata": {
    "id": "yROT1tWLdRJ8"
   },
   "outputs": [],
   "source": [
    "import pandas as pd\n",
    "import numpy as np\n",
    "import random as rd\n",
    "\n",
    "import matplotlib.pyplot as plt\n",
    "import seaborn as sns\n",
    "from statsmodels.graphics.mosaicplot import mosaic      #mosaic plot!\n",
    "\n",
    "import scipy.stats as spst"
   ]
  },
  {
   "cell_type": "markdown",
   "metadata": {
    "id": "JjOJiREMY03m"
   },
   "source": [
    "* 데이터 불러오기 : 다음의 예제 데이터를 사용합니다.\n",
    "> 직원 이직 분석\n"
   ]
  },
  {
   "cell_type": "code",
   "execution_count": 18,
   "metadata": {
    "id": "2voHuCQWY03s"
   },
   "outputs": [
    {
     "data": {
      "text/html": [
       "<div>\n",
       "<style scoped>\n",
       "    .dataframe tbody tr th:only-of-type {\n",
       "        vertical-align: middle;\n",
       "    }\n",
       "\n",
       "    .dataframe tbody tr th {\n",
       "        vertical-align: top;\n",
       "    }\n",
       "\n",
       "    .dataframe thead th {\n",
       "        text-align: right;\n",
       "    }\n",
       "</style>\n",
       "<table border=\"1\" class=\"dataframe\">\n",
       "  <thead>\n",
       "    <tr style=\"text-align: right;\">\n",
       "      <th></th>\n",
       "      <th>Attrition</th>\n",
       "      <th>Age</th>\n",
       "      <th>DistanceFromHome</th>\n",
       "      <th>EmployeeNumber</th>\n",
       "      <th>Gender</th>\n",
       "      <th>JobSatisfaction</th>\n",
       "      <th>MaritalStatus</th>\n",
       "      <th>MonthlyIncome</th>\n",
       "      <th>OverTime</th>\n",
       "      <th>PercentSalaryHike</th>\n",
       "      <th>TotalWorkingYears</th>\n",
       "    </tr>\n",
       "  </thead>\n",
       "  <tbody>\n",
       "    <tr>\n",
       "      <th>0</th>\n",
       "      <td>0</td>\n",
       "      <td>33</td>\n",
       "      <td>7</td>\n",
       "      <td>817</td>\n",
       "      <td>Male</td>\n",
       "      <td>3</td>\n",
       "      <td>Married</td>\n",
       "      <td>11691</td>\n",
       "      <td>No</td>\n",
       "      <td>11</td>\n",
       "      <td>14</td>\n",
       "    </tr>\n",
       "    <tr>\n",
       "      <th>1</th>\n",
       "      <td>0</td>\n",
       "      <td>35</td>\n",
       "      <td>18</td>\n",
       "      <td>1412</td>\n",
       "      <td>Male</td>\n",
       "      <td>4</td>\n",
       "      <td>Single</td>\n",
       "      <td>9362</td>\n",
       "      <td>No</td>\n",
       "      <td>11</td>\n",
       "      <td>10</td>\n",
       "    </tr>\n",
       "    <tr>\n",
       "      <th>2</th>\n",
       "      <td>0</td>\n",
       "      <td>42</td>\n",
       "      <td>6</td>\n",
       "      <td>1911</td>\n",
       "      <td>Male</td>\n",
       "      <td>1</td>\n",
       "      <td>Married</td>\n",
       "      <td>13348</td>\n",
       "      <td>No</td>\n",
       "      <td>13</td>\n",
       "      <td>18</td>\n",
       "    </tr>\n",
       "    <tr>\n",
       "      <th>3</th>\n",
       "      <td>0</td>\n",
       "      <td>46</td>\n",
       "      <td>2</td>\n",
       "      <td>1204</td>\n",
       "      <td>Female</td>\n",
       "      <td>1</td>\n",
       "      <td>Married</td>\n",
       "      <td>17048</td>\n",
       "      <td>No</td>\n",
       "      <td>23</td>\n",
       "      <td>28</td>\n",
       "    </tr>\n",
       "    <tr>\n",
       "      <th>4</th>\n",
       "      <td>1</td>\n",
       "      <td>22</td>\n",
       "      <td>4</td>\n",
       "      <td>593</td>\n",
       "      <td>Male</td>\n",
       "      <td>3</td>\n",
       "      <td>Single</td>\n",
       "      <td>3894</td>\n",
       "      <td>No</td>\n",
       "      <td>16</td>\n",
       "      <td>4</td>\n",
       "    </tr>\n",
       "  </tbody>\n",
       "</table>\n",
       "</div>"
      ],
      "text/plain": [
       "   Attrition  Age  DistanceFromHome  EmployeeNumber  Gender  JobSatisfaction  \\\n",
       "0          0   33                 7             817    Male                3   \n",
       "1          0   35                18            1412    Male                4   \n",
       "2          0   42                 6            1911    Male                1   \n",
       "3          0   46                 2            1204  Female                1   \n",
       "4          1   22                 4             593    Male                3   \n",
       "\n",
       "  MaritalStatus  MonthlyIncome OverTime  PercentSalaryHike  TotalWorkingYears  \n",
       "0       Married          11691       No                 11                 14  \n",
       "1        Single           9362       No                 11                 10  \n",
       "2       Married          13348       No                 13                 18  \n",
       "3       Married          17048       No                 23                 28  \n",
       "4        Single           3894       No                 16                  4  "
      ]
     },
     "execution_count": 18,
     "metadata": {},
     "output_type": "execute_result"
    }
   ],
   "source": [
    "# 직원 이직 데이터\n",
    "path = 'https://raw.githubusercontent.com/DA4BAM/dataset/master/Attrition_simple2.CSV'\n",
    "data = pd.read_csv(path)  \n",
    "data.head(5)"
   ]
  },
  {
   "cell_type": "markdown",
   "metadata": {
    "id": "HmuNcr-YdRJ-"
   },
   "source": [
    "## 2.교차표(pd.crosstab)\n",
    "교차표를 연습해 봅시다."
   ]
  },
  {
   "cell_type": "markdown",
   "metadata": {
    "id": "K2WERwSGUU9-"
   },
   "source": [
    "① 성별(Gender)에 따른 이직여부(Attrition)의 관계를 교차표로 만들어 봅시다.\n",
    "* 전체 갯수"
   ]
  },
  {
   "cell_type": "code",
   "execution_count": null,
   "metadata": {
    "id": "sqrtTjkZdRJ_"
   },
   "outputs": [],
   "source": [
    "# 두 범주별 빈도수를 교차표로 만들어 봅시다.\n"
   ]
  },
  {
   "cell_type": "markdown",
   "metadata": {
    "id": "9VM2rGIEVNVh"
   },
   "source": [
    "* 칼럼기준 비율"
   ]
  },
  {
   "cell_type": "code",
   "execution_count": null,
   "metadata": {
    "id": "SBUryI3odRKA"
   },
   "outputs": [],
   "source": []
  },
  {
   "cell_type": "markdown",
   "metadata": {
    "id": "jqQ1ZavZVRoM"
   },
   "source": [
    "* 행 기준 비율"
   ]
  },
  {
   "cell_type": "code",
   "execution_count": null,
   "metadata": {
    "id": "sCyn_L0NdRKA"
   },
   "outputs": [],
   "source": []
  },
  {
   "cell_type": "markdown",
   "metadata": {
    "id": "kJXV_413VdaM"
   },
   "source": [
    "* 전체 기준 비율"
   ]
  },
  {
   "cell_type": "code",
   "execution_count": null,
   "metadata": {
    "id": "P-WVmO-kdRKB"
   },
   "outputs": [],
   "source": []
  },
  {
   "cell_type": "markdown",
   "metadata": {
    "id": "zLZTkWPkV3dN"
   },
   "source": [
    "* 교차표를 통해 성별에 따라 이직여부가 관련 있다고 보이나요?\n",
    "* 위 교차표 중 어떤 것이 성별-->이직여부 관련성을 확인하기에 적합한가요?"
   ]
  },
  {
   "cell_type": "code",
   "execution_count": null,
   "metadata": {
    "id": "SEZLAjW8WGFc"
   },
   "outputs": [],
   "source": []
  },
  {
   "cell_type": "markdown",
   "metadata": {
    "id": "ue-5F_ErVkDY"
   },
   "source": [
    "② 직무만족도에 따른 이직여부의 관계를 교차표로 만들어 봅시다.\n",
    "* 전체 갯수"
   ]
  },
  {
   "cell_type": "code",
   "execution_count": null,
   "metadata": {
    "id": "1HyMqxNIVkDZ"
   },
   "outputs": [],
   "source": [
    "# 두 범주별 빈도수를 교차표로 만들어 봅시다.\n"
   ]
  },
  {
   "cell_type": "markdown",
   "metadata": {
    "id": "IOCQvm29VkDa"
   },
   "source": [
    "* 칼럼기준 비율"
   ]
  },
  {
   "cell_type": "code",
   "execution_count": null,
   "metadata": {
    "id": "R85tCQrbVkDa"
   },
   "outputs": [],
   "source": []
  },
  {
   "cell_type": "markdown",
   "metadata": {
    "id": "ubYDgFiPVkDa"
   },
   "source": [
    "* 행 기준 비율"
   ]
  },
  {
   "cell_type": "code",
   "execution_count": null,
   "metadata": {
    "id": "v6CUOLQnVkDb"
   },
   "outputs": [],
   "source": []
  },
  {
   "cell_type": "markdown",
   "metadata": {
    "id": "vOyCD2ydVkDb"
   },
   "source": [
    "* 전체 기준 비율"
   ]
  },
  {
   "cell_type": "code",
   "execution_count": null,
   "metadata": {
    "id": "pacq6BdQVkDb"
   },
   "outputs": [],
   "source": []
  },
  {
   "cell_type": "markdown",
   "metadata": {
    "id": "Z8a9JoFrWLsS"
   },
   "source": [
    "* 교차표를 통해 직무만족도에 따라 이직여부가 관련 있다고 보이나요?\n",
    "* 위 교차표 중 어떤 것이 직무만족도-->이직여부 관련성을 확인하기에 적합한가요?"
   ]
  },
  {
   "cell_type": "code",
   "execution_count": null,
   "metadata": {
    "id": "OCN20OLXWLsT"
   },
   "outputs": [],
   "source": []
  },
  {
   "cell_type": "markdown",
   "metadata": {
    "id": "YQHgEGWyaIe2"
   },
   "source": [
    "③ 결혼상태에 따른 이직여부의 관계를 교차표로 만들어 봅시다.\n",
    "* 전체 갯수"
   ]
  },
  {
   "cell_type": "code",
   "execution_count": null,
   "metadata": {
    "id": "yKtN7UC7aIfB"
   },
   "outputs": [],
   "source": []
  },
  {
   "cell_type": "markdown",
   "metadata": {
    "id": "WC0uNcLSaIfC"
   },
   "source": [
    "* 칼럼기준 비율"
   ]
  },
  {
   "cell_type": "code",
   "execution_count": null,
   "metadata": {
    "id": "NB5DHRmfaIfC"
   },
   "outputs": [],
   "source": []
  },
  {
   "cell_type": "markdown",
   "metadata": {
    "id": "LRZTy8TKaIfD"
   },
   "source": [
    "* 행 기준 비율"
   ]
  },
  {
   "cell_type": "code",
   "execution_count": null,
   "metadata": {
    "id": "KnnC884DMJ08"
   },
   "outputs": [],
   "source": []
  },
  {
   "cell_type": "markdown",
   "metadata": {
    "id": "-RRWwweIaIfD"
   },
   "source": [
    "* 전체 기준 비율"
   ]
  },
  {
   "cell_type": "code",
   "execution_count": null,
   "metadata": {
    "id": "Xs1KKHTaMLF8"
   },
   "outputs": [],
   "source": []
  },
  {
   "cell_type": "markdown",
   "metadata": {
    "id": "GptS-M-0aIfE"
   },
   "source": [
    "* 교차표를 통해 결혼상태에 따라 이직여부가 관련 있다고 보이나요?\n",
    "* 위 교차표 중 어떤 것이 결혼상태-->이직여부 관련성을 확인하기에 적합한가요?"
   ]
  },
  {
   "cell_type": "code",
   "execution_count": null,
   "metadata": {
    "id": "qKxCS-HdaIfF"
   },
   "outputs": [],
   "source": []
  },
  {
   "cell_type": "markdown",
   "metadata": {
    "id": "L1doOGiYWOY-"
   },
   "source": [
    "④ 성별, 직무만족도, 결혼상태 중 어떤 변수가 이직여부를 예측하는데 더 중요한 변수인가요?"
   ]
  },
  {
   "cell_type": "code",
   "execution_count": null,
   "metadata": {
    "id": "HN8Oa4_BWX19"
   },
   "outputs": [],
   "source": []
  },
  {
   "cell_type": "markdown",
   "metadata": {
    "id": "AVvWLzMGdRKD"
   },
   "source": [
    "## 3.시각화 : bar chart, mosaic"
   ]
  },
  {
   "cell_type": "code",
   "execution_count": 23,
   "metadata": {},
   "outputs": [],
   "source": [
    "target = 'Attrition'"
   ]
  },
  {
   "cell_type": "markdown",
   "metadata": {
    "id": "_wEBgf8JdRKD"
   },
   "source": [
    "① Gender --> Attrition\n",
    "* 100% bar chart을 그려봅시다. "
   ]
  },
  {
   "cell_type": "code",
   "execution_count": 24,
   "metadata": {},
   "outputs": [],
   "source": [
    "feature = 'Gender'"
   ]
  },
  {
   "cell_type": "code",
   "execution_count": 25,
   "metadata": {
    "id": "5xVcKWaOdRKD"
   },
   "outputs": [
    {
     "name": "stdout",
     "output_type": "stream",
     "text": [
      "Attrition         0         1\n",
      "Gender                       \n",
      "Female     0.859275  0.140725\n",
      "Male       0.822558  0.177442\n"
     ]
    },
    {
     "data": {
      "image/png": "[encoded data removed]",
      "text/plain": [
       "<Figure size 432x288 with 1 Axes>"
      ]
     },
     "metadata": {
      "needs_background": "light"
     },
     "output_type": "display_data"
    }
   ],
   "source": [
    "temp = pd.crosstab(data[feature], data[target], normalize = 'index')\n",
    "print(temp)\n",
    "temp.plot.bar(stacked=True)\n",
    "plt.axhline(1-data[target].mean(), color = 'r')\n",
    "plt.show()"
   ]
  },
  {
   "cell_type": "markdown",
   "metadata": {
    "id": "sV7akerqbWXE"
   },
   "source": [
    "* 모자익 플롯을 그려봅시다."
   ]
  },
  {
   "cell_type": "code",
   "execution_count": 26,
   "metadata": {
    "id": "COgPkiBddRKE"
   },
   "outputs": [
    {
     "data": {
      "image/png": "[encoded data removed]",
      "text/plain": [
       "<Figure size 432x288 with 3 Axes>"
      ]
     },
     "metadata": {
      "needs_background": "light"
     },
     "output_type": "display_data"
    }
   ],
   "source": [
    "mosaic(data, [ feature, target], gap = 0.01)\n",
    "plt.axhline(1- data[target].mean(), color = 'r')\n",
    "plt.show()"
   ]
  },
  {
   "cell_type": "markdown",
   "metadata": {
    "id": "9A2HVREgbZJ_"
   },
   "source": [
    "* 두 차트로 볼 때, 성별에 따라 이직여부가 달라지나요?"
   ]
  },
  {
   "cell_type": "code",
   "execution_count": null,
   "metadata": {
    "id": "oCuWaOVTbgxF"
   },
   "outputs": [],
   "source": []
  },
  {
   "cell_type": "markdown",
   "metadata": {
    "id": "_fZpBa9lbjeH"
   },
   "source": [
    "② JobSatisfaction --> Attrition\n",
    "* 100% bar chart을 그려봅시다. "
   ]
  },
  {
   "cell_type": "code",
   "execution_count": null,
   "metadata": {
    "id": "3Wl_oBrUbjeI"
   },
   "outputs": [],
   "source": []
  },
  {
   "cell_type": "markdown",
   "metadata": {
    "id": "F7FP_UlnbjeJ"
   },
   "source": [
    "* 모자익 플롯을 그려봅시다."
   ]
  },
  {
   "cell_type": "code",
   "execution_count": null,
   "metadata": {
    "id": "gyZCjbyAbjeJ"
   },
   "outputs": [],
   "source": []
  },
  {
   "cell_type": "markdown",
   "metadata": {
    "id": "wXNkVRVXbjeK"
   },
   "source": [
    "* 두 차트로 볼 때, 직무만족도에 따라 이직여부가 달라지나요?"
   ]
  },
  {
   "cell_type": "code",
   "execution_count": null,
   "metadata": {
    "id": "ojolV1nPbjeK"
   },
   "outputs": [],
   "source": []
  },
  {
   "cell_type": "markdown",
   "metadata": {
    "id": "zu-43a3PbT-v"
   },
   "source": [
    "③ MaritalStatus --> Attrition\n",
    "* 100% bar chart을 그려봅시다. "
   ]
  },
  {
   "cell_type": "code",
   "execution_count": null,
   "metadata": {
    "id": "6m_p-JS5bT-x"
   },
   "outputs": [],
   "source": []
  },
  {
   "cell_type": "markdown",
   "metadata": {
    "id": "9yPObcxabT-y"
   },
   "source": [
    "* 모자익 플롯을 그려봅시다."
   ]
  },
  {
   "cell_type": "code",
   "execution_count": null,
   "metadata": {
    "id": "bQ5VSVAPbT-z"
   },
   "outputs": [],
   "source": []
  },
  {
   "cell_type": "markdown",
   "metadata": {
    "id": "qQz_KohUbT-z"
   },
   "source": [
    "* 두 차트로 볼 때, 직무만족도에 따라 이직여부가 달라지나요?"
   ]
  },
  {
   "cell_type": "code",
   "execution_count": null,
   "metadata": {
    "id": "59QW20ljbT-0"
   },
   "outputs": [],
   "source": []
  },
  {
   "cell_type": "markdown",
   "metadata": {
    "id": "qSAqgxxidRKI"
   },
   "source": [
    "## 4.수치화 : 카이제곱검정"
   ]
  },
  {
   "cell_type": "markdown",
   "metadata": {
    "id": "weRMH5a-0dao"
   },
   "source": [
    "① Gender --> Attrition"
   ]
  },
  {
   "cell_type": "code",
   "execution_count": 27,
   "metadata": {},
   "outputs": [],
   "source": [
    "feature = 'Gender'"
   ]
  },
  {
   "cell_type": "code",
   "execution_count": 28,
   "metadata": {
    "id": "F5z57Jd5dRKI"
   },
   "outputs": [
    {
     "name": "stdout",
     "output_type": "stream",
     "text": [
      "교차표\n",
      " Attrition    0    1\n",
      "Gender             \n",
      "Female     403   66\n",
      "Male       598  129\n",
      "----------------------------------------------------------------------------------------------------\n",
      "카이제곱통계량 2.5537631338119975\n",
      "p-value 0.1100318964829815\n",
      "자유도 1\n",
      "기대빈도\n",
      " [[392.5326087  76.4673913]\n",
      " [608.4673913 118.5326087]]\n"
     ]
    }
   ],
   "source": [
    "table = pd.crosstab(data[feature], data[target])\n",
    "print('교차표\\n', table)\n",
    "print('-' * 100)\n",
    "\n",
    "# 카이제곱검정\n",
    "result = spst.chi2_contingency(table)\n",
    "print('카이제곱통계량', result[0])\n",
    "print('p-value', result[1])\n",
    "print('자유도', result[2])\n",
    "print('기대빈도\\n',result[3])"
   ]
  },
  {
   "cell_type": "markdown",
   "metadata": {
    "id": "NYGp1Chh0kvE"
   },
   "source": [
    "② JobSatisfaction --> Attrition"
   ]
  },
  {
   "cell_type": "code",
   "execution_count": null,
   "metadata": {
    "id": "EYp-HFge0kvF"
   },
   "outputs": [],
   "source": []
  },
  {
   "cell_type": "markdown",
   "metadata": {
    "id": "qk1bHLp8bp0b"
   },
   "source": [
    "③ MaritalStatus --> Attrition"
   ]
  },
  {
   "cell_type": "code",
   "execution_count": null,
   "metadata": {
    "id": "NkaTy-aXbqgO"
   },
   "outputs": [],
   "source": []
  },
  {
   "cell_type": "code",
   "execution_count": null,
   "metadata": {
    "id": "NBftLOJ5eoho"
   },
   "outputs": [],
   "source": []
  },
  {
   "cell_type": "code",
   "execution_count": null,
   "metadata": {
    "id": "HG9mWJdhcIvG"
   },
   "outputs": [],
   "source": []
  }
 ],
 "metadata": {
  "colab": {
   "collapsed_sections": [],
   "name": "09과 이변량_범주 vs 범주.ipynb",
   "provenance": [],
   "toc_visible": true
  },
  "kernelspec": {
   "display_name": "Python 3",
   "language": "python",
   "name": "python3"
  },
  "language_info": {
   "codemirror_mode": {
    "name": "ipython",
    "version": 3
   },
   "file_extension": ".py",
   "mimetype": "text/x-python",
   "name": "python",
   "nbconvert_exporter": "python",
   "pygments_lexer": "ipython3",
   "version": "3.8.8"
  }
 },
 "nbformat": 4,
 "nbformat_minor": 1
}
