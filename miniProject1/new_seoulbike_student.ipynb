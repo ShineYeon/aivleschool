{
 "cells": [
  {
   "cell_type": "markdown",
   "id": "ef575059",
   "metadata": {
    "id": "ef575059"
   },
   "source": [
    "---"
   ]
  },
  {
   "cell_type": "markdown",
   "id": "46fa690c",
   "metadata": {
    "id": "46fa690c"
   },
   "source": [
    "## [미니프로젝트] 서울시 공유자전거 '따릉이'의 수요 예측\n",
    "\n",
    "### 여러분은 서울시 정책 연구원으로써 서울시 공유자전거인<font color=\"red\"> '따릉이'의 수요와 날씨간 연관성을 분석</font>하라는 미션을 부여받았습니다.\n",
    "\n",
    "#### <font color=\"blue\"> 데이터 분석의 주 목적은 가치있는 정보를 찾아내는것!! </font>\n",
    "\n",
    "### ▣ 우리가 풀어야 하는 문제는 무엇인가요?\n",
    "\n",
    " - 기상상황이 따릉이 수요에 주는 영향을 분석해봅시다."
   ]
  },
  {
   "cell_type": "markdown",
   "id": "a30cd0cd",
   "metadata": {
    "id": "a30cd0cd"
   },
   "source": [
    "---"
   ]
  },
  {
   "cell_type": "markdown",
   "id": "revolutionary-farmer",
   "metadata": {
    "id": "revolutionary-farmer"
   },
   "source": [
    "## ▣ 데이터 소개\n",
    "[기본 데이터]\n",
    "* 학습데이터 : traindata.csv\n",
    "\n",
    "## ▣ 데이터셋의 변수 소개\n",
    "* date : 날짜\n",
    "* hour : 시간\n",
    "* temperature : 온도\n",
    "* precipitation : 강우 여부, 비가 오지 않았으면 0, 비가 오면 1\n",
    "* windspeed : 풍속(평균)\n",
    "* humidity : 습도\n",
    "* visibility : 시정(視程), 시계(視界)(특정 기상 상태에 따른 가시성을 의미)\n",
    "* ozone : 오존 수치\n",
    "* PM10 : 미세먼지 수치(머리카락 굵기의 1/5에서 1/7 크기의 미세먼지)\n",
    "* PM2.5 : 초미세먼지 수치(머리카락 굵기의 1/20에서 1/30 크기의 미세먼지)\n",
    "* count : 시간에 따른 따릉이 대여 수"
   ]
  },
  {
   "cell_type": "markdown",
   "id": "matched-broad",
   "metadata": {
    "id": "matched-broad"
   },
   "source": [
    "---"
   ]
  },
  {
   "cell_type": "markdown",
   "id": "warming-gentleman",
   "metadata": {
    "id": "warming-gentleman"
   },
   "source": [
    "### [과제1] 환경 설정\n",
    "#### <span style=\"color: green\"> 1) 라이브러리 불러오기 </span>"
   ]
  },
  {
   "cell_type": "code",
   "execution_count": 409,
   "id": "442dc4e3",
   "metadata": {},
   "outputs": [],
   "source": [
    "#EDA에 사용할 라이브러리를 import 하세요\n",
    "import pandas as pd\n",
    "import numpy as np\n",
    "import seaborn as sns\n",
    "import matplotlib.pyplot as plt\n",
    "import scipy.stats as spst"
   ]
  },
  {
   "cell_type": "markdown",
   "id": "vocational-animal",
   "metadata": {
    "id": "vocational-animal"
   },
   "source": [
    "#### <span style=\"color: green\"> 2) 활용할 데이터 불러오기 </span>"
   ]
  },
  {
   "cell_type": "code",
   "execution_count": 410,
   "id": "saving-slope",
   "metadata": {
    "executionInfo": {
     "elapsed": 305,
     "status": "ok",
     "timestamp": 1655797696108,
     "user": {
      "displayName": "Seonil Kwon",
      "userId": "10539738350691841262"
     },
     "user_tz": -540
    },
    "id": "saving-slope"
   },
   "outputs": [],
   "source": [
    "#이번 프로젝트에서 분석할 데이터를 불러오세요\n",
    "data = pd.read_csv(\"traindata.csv\")"
   ]
  },
  {
   "cell_type": "code",
   "execution_count": 411,
   "id": "c1175fde",
   "metadata": {
    "scrolled": true
   },
   "outputs": [
    {
     "data": {
      "text/plain": [
       "date              object\n",
       "hour               int64\n",
       "PM10             float64\n",
       "PM2.5            float64\n",
       "ozone            float64\n",
       "temperature      float64\n",
       "precipitation      int64\n",
       "windspeed        float64\n",
       "humidity           int64\n",
       "visibility         int64\n",
       "count              int64\n",
       "dtype: object"
      ]
     },
     "execution_count": 411,
     "metadata": {},
     "output_type": "execute_result"
    }
   ],
   "source": [
    "data.dtypes"
   ]
  },
  {
   "cell_type": "code",
   "execution_count": 412,
   "id": "67d57b47",
   "metadata": {},
   "outputs": [],
   "source": [
    "data['date']=pd.to_datetime(data['date'])"
   ]
  },
  {
   "cell_type": "code",
   "execution_count": 413,
   "id": "1ccec214",
   "metadata": {},
   "outputs": [
    {
     "data": {
      "text/html": [
       "<div>\n",
       "<style scoped>\n",
       "    .dataframe tbody tr th:only-of-type {\n",
       "        vertical-align: middle;\n",
       "    }\n",
       "\n",
       "    .dataframe tbody tr th {\n",
       "        vertical-align: top;\n",
       "    }\n",
       "\n",
       "    .dataframe thead th {\n",
       "        text-align: right;\n",
       "    }\n",
       "</style>\n",
       "<table border=\"1\" class=\"dataframe\">\n",
       "  <thead>\n",
       "    <tr style=\"text-align: right;\">\n",
       "      <th></th>\n",
       "      <th>date</th>\n",
       "      <th>hour</th>\n",
       "      <th>PM10</th>\n",
       "      <th>PM2.5</th>\n",
       "      <th>ozone</th>\n",
       "      <th>temperature</th>\n",
       "      <th>precipitation</th>\n",
       "      <th>windspeed</th>\n",
       "      <th>humidity</th>\n",
       "      <th>visibility</th>\n",
       "      <th>count</th>\n",
       "    </tr>\n",
       "  </thead>\n",
       "  <tbody>\n",
       "    <tr>\n",
       "      <th>0</th>\n",
       "      <td>2021-04-01</td>\n",
       "      <td>1</td>\n",
       "      <td>42.0</td>\n",
       "      <td>21.0</td>\n",
       "      <td>0.002</td>\n",
       "      <td>13.1</td>\n",
       "      <td>0</td>\n",
       "      <td>1.4</td>\n",
       "      <td>49</td>\n",
       "      <td>2000</td>\n",
       "      <td>46</td>\n",
       "    </tr>\n",
       "    <tr>\n",
       "      <th>1</th>\n",
       "      <td>2021-04-01</td>\n",
       "      <td>2</td>\n",
       "      <td>41.0</td>\n",
       "      <td>21.0</td>\n",
       "      <td>0.003</td>\n",
       "      <td>12.4</td>\n",
       "      <td>0</td>\n",
       "      <td>2.1</td>\n",
       "      <td>53</td>\n",
       "      <td>2000</td>\n",
       "      <td>40</td>\n",
       "    </tr>\n",
       "    <tr>\n",
       "      <th>2</th>\n",
       "      <td>2021-04-01</td>\n",
       "      <td>3</td>\n",
       "      <td>30.0</td>\n",
       "      <td>13.0</td>\n",
       "      <td>0.023</td>\n",
       "      <td>13.1</td>\n",
       "      <td>0</td>\n",
       "      <td>3.4</td>\n",
       "      <td>43</td>\n",
       "      <td>2000</td>\n",
       "      <td>31</td>\n",
       "    </tr>\n",
       "    <tr>\n",
       "      <th>3</th>\n",
       "      <td>2021-04-01</td>\n",
       "      <td>4</td>\n",
       "      <td>27.0</td>\n",
       "      <td>12.0</td>\n",
       "      <td>0.028</td>\n",
       "      <td>13.0</td>\n",
       "      <td>0</td>\n",
       "      <td>3.1</td>\n",
       "      <td>44</td>\n",
       "      <td>2000</td>\n",
       "      <td>12</td>\n",
       "    </tr>\n",
       "    <tr>\n",
       "      <th>4</th>\n",
       "      <td>2021-04-01</td>\n",
       "      <td>5</td>\n",
       "      <td>29.0</td>\n",
       "      <td>14.0</td>\n",
       "      <td>0.008</td>\n",
       "      <td>13.0</td>\n",
       "      <td>0</td>\n",
       "      <td>2.9</td>\n",
       "      <td>44</td>\n",
       "      <td>2000</td>\n",
       "      <td>30</td>\n",
       "    </tr>\n",
       "    <tr>\n",
       "      <th>5</th>\n",
       "      <td>2021-04-01</td>\n",
       "      <td>6</td>\n",
       "      <td>31.0</td>\n",
       "      <td>14.0</td>\n",
       "      <td>0.009</td>\n",
       "      <td>12.6</td>\n",
       "      <td>0</td>\n",
       "      <td>3.0</td>\n",
       "      <td>45</td>\n",
       "      <td>2000</td>\n",
       "      <td>77</td>\n",
       "    </tr>\n",
       "    <tr>\n",
       "      <th>6</th>\n",
       "      <td>2021-04-01</td>\n",
       "      <td>7</td>\n",
       "      <td>30.0</td>\n",
       "      <td>10.0</td>\n",
       "      <td>0.018</td>\n",
       "      <td>12.0</td>\n",
       "      <td>0</td>\n",
       "      <td>3.5</td>\n",
       "      <td>46</td>\n",
       "      <td>2000</td>\n",
       "      <td>171</td>\n",
       "    </tr>\n",
       "    <tr>\n",
       "      <th>7</th>\n",
       "      <td>2021-04-01</td>\n",
       "      <td>8</td>\n",
       "      <td>39.0</td>\n",
       "      <td>10.0</td>\n",
       "      <td>0.027</td>\n",
       "      <td>14.0</td>\n",
       "      <td>0</td>\n",
       "      <td>3.5</td>\n",
       "      <td>43</td>\n",
       "      <td>2000</td>\n",
       "      <td>330</td>\n",
       "    </tr>\n",
       "    <tr>\n",
       "      <th>8</th>\n",
       "      <td>2021-04-01</td>\n",
       "      <td>9</td>\n",
       "      <td>35.0</td>\n",
       "      <td>10.0</td>\n",
       "      <td>0.032</td>\n",
       "      <td>16.2</td>\n",
       "      <td>0</td>\n",
       "      <td>4.3</td>\n",
       "      <td>38</td>\n",
       "      <td>2000</td>\n",
       "      <td>218</td>\n",
       "    </tr>\n",
       "    <tr>\n",
       "      <th>9</th>\n",
       "      <td>2021-04-01</td>\n",
       "      <td>10</td>\n",
       "      <td>31.0</td>\n",
       "      <td>9.0</td>\n",
       "      <td>0.033</td>\n",
       "      <td>18.2</td>\n",
       "      <td>0</td>\n",
       "      <td>3.7</td>\n",
       "      <td>31</td>\n",
       "      <td>2000</td>\n",
       "      <td>175</td>\n",
       "    </tr>\n",
       "    <tr>\n",
       "      <th>10</th>\n",
       "      <td>2021-04-01</td>\n",
       "      <td>11</td>\n",
       "      <td>34.0</td>\n",
       "      <td>9.0</td>\n",
       "      <td>0.038</td>\n",
       "      <td>20.2</td>\n",
       "      <td>0</td>\n",
       "      <td>2.9</td>\n",
       "      <td>25</td>\n",
       "      <td>2000</td>\n",
       "      <td>247</td>\n",
       "    </tr>\n",
       "    <tr>\n",
       "      <th>11</th>\n",
       "      <td>2021-04-01</td>\n",
       "      <td>12</td>\n",
       "      <td>40.0</td>\n",
       "      <td>8.0</td>\n",
       "      <td>0.042</td>\n",
       "      <td>21.7</td>\n",
       "      <td>0</td>\n",
       "      <td>3.2</td>\n",
       "      <td>21</td>\n",
       "      <td>2000</td>\n",
       "      <td>269</td>\n",
       "    </tr>\n",
       "    <tr>\n",
       "      <th>12</th>\n",
       "      <td>2021-04-01</td>\n",
       "      <td>13</td>\n",
       "      <td>37.0</td>\n",
       "      <td>9.0</td>\n",
       "      <td>0.044</td>\n",
       "      <td>22.6</td>\n",
       "      <td>0</td>\n",
       "      <td>3.5</td>\n",
       "      <td>20</td>\n",
       "      <td>2000</td>\n",
       "      <td>289</td>\n",
       "    </tr>\n",
       "    <tr>\n",
       "      <th>13</th>\n",
       "      <td>2021-04-01</td>\n",
       "      <td>14</td>\n",
       "      <td>43.0</td>\n",
       "      <td>10.0</td>\n",
       "      <td>0.044</td>\n",
       "      <td>23.6</td>\n",
       "      <td>0</td>\n",
       "      <td>3.2</td>\n",
       "      <td>20</td>\n",
       "      <td>2000</td>\n",
       "      <td>265</td>\n",
       "    </tr>\n",
       "    <tr>\n",
       "      <th>14</th>\n",
       "      <td>2021-04-01</td>\n",
       "      <td>15</td>\n",
       "      <td>40.0</td>\n",
       "      <td>9.0</td>\n",
       "      <td>0.045</td>\n",
       "      <td>23.2</td>\n",
       "      <td>0</td>\n",
       "      <td>3.6</td>\n",
       "      <td>19</td>\n",
       "      <td>2000</td>\n",
       "      <td>342</td>\n",
       "    </tr>\n",
       "    <tr>\n",
       "      <th>15</th>\n",
       "      <td>2021-04-01</td>\n",
       "      <td>16</td>\n",
       "      <td>46.0</td>\n",
       "      <td>10.0</td>\n",
       "      <td>0.045</td>\n",
       "      <td>23.5</td>\n",
       "      <td>0</td>\n",
       "      <td>3.0</td>\n",
       "      <td>20</td>\n",
       "      <td>2000</td>\n",
       "      <td>369</td>\n",
       "    </tr>\n",
       "    <tr>\n",
       "      <th>16</th>\n",
       "      <td>2021-04-01</td>\n",
       "      <td>17</td>\n",
       "      <td>50.0</td>\n",
       "      <td>12.0</td>\n",
       "      <td>0.043</td>\n",
       "      <td>23.0</td>\n",
       "      <td>0</td>\n",
       "      <td>3.6</td>\n",
       "      <td>22</td>\n",
       "      <td>2000</td>\n",
       "      <td>564</td>\n",
       "    </tr>\n",
       "    <tr>\n",
       "      <th>17</th>\n",
       "      <td>2021-04-01</td>\n",
       "      <td>18</td>\n",
       "      <td>51.0</td>\n",
       "      <td>16.0</td>\n",
       "      <td>0.039</td>\n",
       "      <td>22.3</td>\n",
       "      <td>0</td>\n",
       "      <td>2.4</td>\n",
       "      <td>24</td>\n",
       "      <td>2000</td>\n",
       "      <td>820</td>\n",
       "    </tr>\n",
       "    <tr>\n",
       "      <th>18</th>\n",
       "      <td>2021-04-01</td>\n",
       "      <td>19</td>\n",
       "      <td>50.0</td>\n",
       "      <td>14.0</td>\n",
       "      <td>0.037</td>\n",
       "      <td>20.6</td>\n",
       "      <td>0</td>\n",
       "      <td>4.6</td>\n",
       "      <td>25</td>\n",
       "      <td>2000</td>\n",
       "      <td>526</td>\n",
       "    </tr>\n",
       "    <tr>\n",
       "      <th>19</th>\n",
       "      <td>2021-04-01</td>\n",
       "      <td>20</td>\n",
       "      <td>39.0</td>\n",
       "      <td>13.0</td>\n",
       "      <td>0.036</td>\n",
       "      <td>19.2</td>\n",
       "      <td>0</td>\n",
       "      <td>3.4</td>\n",
       "      <td>27</td>\n",
       "      <td>2000</td>\n",
       "      <td>435</td>\n",
       "    </tr>\n",
       "    <tr>\n",
       "      <th>20</th>\n",
       "      <td>2021-04-01</td>\n",
       "      <td>21</td>\n",
       "      <td>44.0</td>\n",
       "      <td>12.0</td>\n",
       "      <td>0.034</td>\n",
       "      <td>18.1</td>\n",
       "      <td>0</td>\n",
       "      <td>3.7</td>\n",
       "      <td>33</td>\n",
       "      <td>2000</td>\n",
       "      <td>396</td>\n",
       "    </tr>\n",
       "    <tr>\n",
       "      <th>21</th>\n",
       "      <td>2021-04-01</td>\n",
       "      <td>22</td>\n",
       "      <td>48.0</td>\n",
       "      <td>13.0</td>\n",
       "      <td>0.037</td>\n",
       "      <td>16.5</td>\n",
       "      <td>0</td>\n",
       "      <td>6.5</td>\n",
       "      <td>38</td>\n",
       "      <td>2000</td>\n",
       "      <td>307</td>\n",
       "    </tr>\n",
       "    <tr>\n",
       "      <th>22</th>\n",
       "      <td>2021-04-01</td>\n",
       "      <td>23</td>\n",
       "      <td>46.0</td>\n",
       "      <td>12.0</td>\n",
       "      <td>0.038</td>\n",
       "      <td>15.4</td>\n",
       "      <td>0</td>\n",
       "      <td>5.7</td>\n",
       "      <td>40</td>\n",
       "      <td>2000</td>\n",
       "      <td>157</td>\n",
       "    </tr>\n",
       "    <tr>\n",
       "      <th>23</th>\n",
       "      <td>2021-04-02</td>\n",
       "      <td>0</td>\n",
       "      <td>49.0</td>\n",
       "      <td>11.0</td>\n",
       "      <td>0.039</td>\n",
       "      <td>14.6</td>\n",
       "      <td>0</td>\n",
       "      <td>5.1</td>\n",
       "      <td>41</td>\n",
       "      <td>2000</td>\n",
       "      <td>85</td>\n",
       "    </tr>\n",
       "  </tbody>\n",
       "</table>\n",
       "</div>"
      ],
      "text/plain": [
       "         date  hour  PM10  PM2.5  ozone  temperature  precipitation  \\\n",
       "0  2021-04-01     1  42.0   21.0  0.002         13.1              0   \n",
       "1  2021-04-01     2  41.0   21.0  0.003         12.4              0   \n",
       "2  2021-04-01     3  30.0   13.0  0.023         13.1              0   \n",
       "3  2021-04-01     4  27.0   12.0  0.028         13.0              0   \n",
       "4  2021-04-01     5  29.0   14.0  0.008         13.0              0   \n",
       "5  2021-04-01     6  31.0   14.0  0.009         12.6              0   \n",
       "6  2021-04-01     7  30.0   10.0  0.018         12.0              0   \n",
       "7  2021-04-01     8  39.0   10.0  0.027         14.0              0   \n",
       "8  2021-04-01     9  35.0   10.0  0.032         16.2              0   \n",
       "9  2021-04-01    10  31.0    9.0  0.033         18.2              0   \n",
       "10 2021-04-01    11  34.0    9.0  0.038         20.2              0   \n",
       "11 2021-04-01    12  40.0    8.0  0.042         21.7              0   \n",
       "12 2021-04-01    13  37.0    9.0  0.044         22.6              0   \n",
       "13 2021-04-01    14  43.0   10.0  0.044         23.6              0   \n",
       "14 2021-04-01    15  40.0    9.0  0.045         23.2              0   \n",
       "15 2021-04-01    16  46.0   10.0  0.045         23.5              0   \n",
       "16 2021-04-01    17  50.0   12.0  0.043         23.0              0   \n",
       "17 2021-04-01    18  51.0   16.0  0.039         22.3              0   \n",
       "18 2021-04-01    19  50.0   14.0  0.037         20.6              0   \n",
       "19 2021-04-01    20  39.0   13.0  0.036         19.2              0   \n",
       "20 2021-04-01    21  44.0   12.0  0.034         18.1              0   \n",
       "21 2021-04-01    22  48.0   13.0  0.037         16.5              0   \n",
       "22 2021-04-01    23  46.0   12.0  0.038         15.4              0   \n",
       "23 2021-04-02     0  49.0   11.0  0.039         14.6              0   \n",
       "\n",
       "    windspeed  humidity  visibility  count  \n",
       "0         1.4        49        2000     46  \n",
       "1         2.1        53        2000     40  \n",
       "2         3.4        43        2000     31  \n",
       "3         3.1        44        2000     12  \n",
       "4         2.9        44        2000     30  \n",
       "5         3.0        45        2000     77  \n",
       "6         3.5        46        2000    171  \n",
       "7         3.5        43        2000    330  \n",
       "8         4.3        38        2000    218  \n",
       "9         3.7        31        2000    175  \n",
       "10        2.9        25        2000    247  \n",
       "11        3.2        21        2000    269  \n",
       "12        3.5        20        2000    289  \n",
       "13        3.2        20        2000    265  \n",
       "14        3.6        19        2000    342  \n",
       "15        3.0        20        2000    369  \n",
       "16        3.6        22        2000    564  \n",
       "17        2.4        24        2000    820  \n",
       "18        4.6        25        2000    526  \n",
       "19        3.4        27        2000    435  \n",
       "20        3.7        33        2000    396  \n",
       "21        6.5        38        2000    307  \n",
       "22        5.7        40        2000    157  \n",
       "23        5.1        41        2000     85  "
      ]
     },
     "execution_count": 413,
     "metadata": {},
     "output_type": "execute_result"
    }
   ],
   "source": [
    "data.head(24)"
   ]
  },
  {
   "cell_type": "markdown",
   "id": "575b2637",
   "metadata": {},
   "source": [
    "### [과제2] 가설설정\n",
    "#### '가설' 이란 단어를 생각해보면, 우리가 직접 가설을 만들어야 할것 같지만 통계에서 분석기법별 귀무가설/대립가설은 정해져있습니다.\n",
    "- 귀무가설은 차이가 없다, 연관성이 없다, 효과가 없다.\n",
    "- 대립가설은 차이가 있다, 연관성이 있다, 효과가 있다. 라고 간단하게 이해하시면 좋습니다.\n",
    "\n",
    "#### 간단한 예로, 온도와 따릉이 대여량간 가설을 수립 해본다면\n",
    "\n",
    "    - 귀무가설 : 온도와 따릉이 간에는 연관성이 없다.\n",
    "    - 대립가설 : 온도와 따릉이 간에는 연관성이 있다.\n",
    "\n",
    "로 가설이 자연스레 수립 됩니다.\n",
    "\n",
    "\n",
    "\n",
    "---\n",
    "\n",
    "\n",
    "#### <span style=\"color: green\"> 'precipitation' 변수를 포함하여, 최소 5개 이상의 Feature와 따릉이 대여량 간 가설을 수립해주세요. </span>\n",
    "\n",
    "##### Guide : Target은 따릉이 대여량 입니다."
   ]
  },
  {
   "cell_type": "markdown",
   "id": "3d1b7293",
   "metadata": {},
   "source": [
    "- 가설 1 : 1시간전 강우 여부와 따릉이간에는 연관성이 없다.\n",
    "    \n",
    "    ㅇ 대립가설 : 1시간전 강우 여부와 따릉이 대여량 간에는 연관성이 있다.\n",
    "\n",
    "\n",
    "- 가설 2 : 하루 기준 시정이 높을수록 따릉이 대여량이 높을것이다.\n",
    "    - 대립 가설: 시정과 따릉이 대여량은 연관성이 없다.\n",
    "    \n",
    "- 가설 3 : 현재시간을 기준으로 전후로 3시간 동안 비가 온적이 있다면 따릉이 대여량이 낮을 것이다.\n",
    "    - 대립 가설: 전후 3시간동안 비가 왔다는 사실과 따릉이 대여량에는 관계가 없다.\n",
    "\n",
    "- 가설 4 : 하루 평균 기온이 26도보다 높거나 15도보다 낮을 경우 따릉이 대여량이 낮아질 것이다.\n",
    "    - 대립 가설: 온도와 따릉이 대여량은 관계가 없다.\n",
    "\n",
    "- 가설 5 : 사람이 불쾌지수를 느끼는 조건 0.81 * 섭씨온도 +0.01 * 상대습도(%)（0.99*섭씨온도 - 14.3）+ 46.3 의 수식이 75이상이라면 따릉이 대여량이 낮아질 것이다.\n",
    "    - 대립 가설: 온도 및 습도와 대여량 사이에 관계가 없다.\n",
    "\n",
    "- 가설 6 : 낮동안의(오전 10시 - 오후 5시) 미세먼지 수치가 76이상, 초미세먼지 수치가 38이상일 때 (상당히 나쁨 기준) 따릉이 수요량이 낮아질 것이다.\n",
    "    - 대립 가설: 미세먼지 수치 및 초미세먼지 수치는 대여량과 관계가 없다."
   ]
  },
  {
   "cell_type": "markdown",
   "id": "68202f34",
   "metadata": {},
   "source": [
    "### [과제3] 단변량 분석\n",
    "\n",
    "단변량 분석은 데이터분석의 매우 기초적인 분석기법으로, 독립적인 개별 변수가 가지고있는 특성들을 이해하는 과정입니다.\n",
    "\n",
    "<span style=\"color: green\"> 개별 변수에 대해 아래 사항들을 분석해보세요. </span>\n",
    "\n",
    "1. 변수가 내포하고 있는 의미\n",
    "2. 변수가 수치형인지, 범주형인지\n",
    "3. 결측치 존재 여부 및 조치 방안\n",
    "4. 기초 통계량 확인\n",
    "5. 데이터 분포 확인\n",
    "6. 위 정보로부터 파악한 내용 정리\n",
    "7. 추가 분석사항 도출"
   ]
  },
  {
   "cell_type": "markdown",
   "id": "e3fe59cc",
   "metadata": {},
   "source": [
    "### Feature1 : hour"
   ]
  },
  {
   "cell_type": "markdown",
   "id": "74305cdf",
   "metadata": {},
   "source": [
    "1. 변수가 내포하고 있는 의미"
   ]
  },
  {
   "cell_type": "markdown",
   "id": "7808070b",
   "metadata": {},
   "source": [
    "- 변수의 의미를 한번 짚고 넘어갑시다.\n",
    "hour 변수는 어떤 의미를 가지고 있나요?\n",
    "    - 시간을 의미함. \n",
    "    - 하루가 0~23까지로 구성되어 있는 것을 봤을 때\n",
    "    - 0: 0시-0시 59분\n",
    "    - 1: 1시-1시 59분\n",
    "    - 2: 2시-2시 59분\n",
    "    - 등등\n",
    "    "
   ]
  },
  {
   "cell_type": "markdown",
   "id": "f5598656",
   "metadata": {},
   "source": [
    "2. 변수가 수치형인지 범주형인지\n"
   ]
  },
  {
   "cell_type": "code",
   "execution_count": 414,
   "id": "e32a046b",
   "metadata": {},
   "outputs": [
    {
     "data": {
      "text/plain": [
       "array([ 1,  2,  3,  4,  5,  6,  7,  8,  9, 10, 11, 12, 13, 14, 15, 16, 17,\n",
       "       18, 19, 20, 21, 22, 23,  0], dtype=int64)"
      ]
     },
     "execution_count": 414,
     "metadata": {},
     "output_type": "execute_result"
    }
   ],
   "source": [
    "#변수의 자료형을 확인해보세요.\n",
    "data['hour'].unique()\n",
    "# 범주형이다."
   ]
  },
  {
   "cell_type": "markdown",
   "id": "4812a02e",
   "metadata": {},
   "source": []
  },
  {
   "cell_type": "markdown",
   "id": "52aeba21",
   "metadata": {},
   "source": [
    "3. 변수의 결측치 존재 여부 및 조치방안"
   ]
  },
  {
   "cell_type": "code",
   "execution_count": 415,
   "id": "526c0c27",
   "metadata": {},
   "outputs": [
    {
     "data": {
      "text/plain": [
       "0"
      ]
     },
     "execution_count": 415,
     "metadata": {},
     "output_type": "execute_result"
    }
   ],
   "source": [
    "#변수의 결측치 존재 여부를 확인하고, 만약 결측치가 존재하면 어떻게 처리할지 고민해보세요. \n",
    "data['hour'].isna().sum()"
   ]
  },
  {
   "cell_type": "markdown",
   "id": "4b220fa2",
   "metadata": {},
   "source": []
  },
  {
   "cell_type": "markdown",
   "id": "2d9760fd",
   "metadata": {},
   "source": [
    "4. 변수의 기초 통계량 확인"
   ]
  },
  {
   "cell_type": "code",
   "execution_count": 416,
   "id": "3ba272ed",
   "metadata": {},
   "outputs": [
    {
     "data": {
      "text/plain": [
       "0     243\n",
       "21    243\n",
       "19    243\n",
       "15    243\n",
       "11    243\n",
       "7     243\n",
       "22    243\n",
       "18    243\n",
       "14    243\n",
       "10    243\n",
       "23    243\n",
       "17    243\n",
       "13    243\n",
       "9     243\n",
       "5     243\n",
       "1     243\n",
       "20    243\n",
       "16    243\n",
       "12    243\n",
       "8     243\n",
       "6     242\n",
       "3     242\n",
       "2     242\n",
       "4     241\n",
       "Name: hour, dtype: int64"
      ]
     },
     "execution_count": 416,
     "metadata": {},
     "output_type": "execute_result"
    }
   ],
   "source": [
    "#변수의 기초 통계량을 확인해보세요\n",
    "hour = data['hour']\n",
    "hour.value_counts()\n",
    "#5827개 row"
   ]
  },
  {
   "cell_type": "markdown",
   "id": "41b9c5e4",
   "metadata": {},
   "source": []
  },
  {
   "cell_type": "markdown",
   "id": "4eb1b708",
   "metadata": {},
   "source": [
    "5. 변수의 분포 확인"
   ]
  },
  {
   "cell_type": "code",
   "execution_count": 417,
   "id": "8449daa6",
   "metadata": {},
   "outputs": [
    {
     "data": {
      "image/png": "[encoded data removed]",
      "text/plain": [
       "<Figure size 432x288 with 1 Axes>"
      ]
     },
     "metadata": {
      "needs_background": "light"
     },
     "output_type": "display_data"
    }
   ],
   "source": [
    "#변수의 분포를 시각화 라이브러리를 활용해 확인해보세요.\n",
    "plt.bar(hour.index, hour.values)\n",
    "plt.show()"
   ]
  },
  {
   "cell_type": "code",
   "execution_count": 418,
   "id": "03f2d02a",
   "metadata": {},
   "outputs": [
    {
     "name": "stderr",
     "output_type": "stream",
     "text": [
      "C:\\Users\\User\\anaconda3\\lib\\site-packages\\seaborn\\_decorators.py:36: FutureWarning: Pass the following variable as a keyword arg: x. From version 0.12, the only valid positional argument will be `data`, and passing other arguments without an explicit keyword will result in an error or misinterpretation.\n",
      "  warnings.warn(\n"
     ]
    },
    {
     "data": {
      "text/plain": [
       "<AxesSubplot:xlabel='hour', ylabel='count'>"
      ]
     },
     "execution_count": 418,
     "metadata": {},
     "output_type": "execute_result"
    },
    {
     "data": {
      "image/png": "[encoded data removed]",
      "text/plain": [
       "<Figure size 432x288 with 1 Axes>"
      ]
     },
     "metadata": {
      "needs_background": "light"
     },
     "output_type": "display_data"
    }
   ],
   "source": [
    "sns.countplot(data['hour'])"
   ]
  },
  {
   "cell_type": "markdown",
   "id": "6efa8ae0",
   "metadata": {},
   "source": []
  },
  {
   "cell_type": "markdown",
   "id": "314284e2",
   "metadata": {},
   "source": [
    "6. 위 정보로 부터 파악한 내용 정리"
   ]
  },
  {
   "cell_type": "code",
   "execution_count": 419,
   "id": "55bb2a25",
   "metadata": {},
   "outputs": [],
   "source": [
    "#위 정보로부터 파악하신 내용을 정리해보세요."
   ]
  },
  {
   "cell_type": "markdown",
   "id": "a1cf88f9",
   "metadata": {},
   "source": []
  },
  {
   "cell_type": "markdown",
   "id": "5341f7c2",
   "metadata": {},
   "source": [
    "7. 추가 분석사항 도출"
   ]
  },
  {
   "cell_type": "code",
   "execution_count": 420,
   "id": "ebd1fd48",
   "metadata": {},
   "outputs": [],
   "source": [
    "#추가로 분석을 원하는 부분이 있다면 분석후 정리해보세요."
   ]
  },
  {
   "cell_type": "markdown",
   "id": "36924858",
   "metadata": {},
   "source": []
  },
  {
   "cell_type": "markdown",
   "id": "a3ce1e2a",
   "metadata": {},
   "source": [
    "### Feature2 : temperature"
   ]
  },
  {
   "cell_type": "markdown",
   "id": "5ce6937b",
   "metadata": {},
   "source": [
    "1. 변수가 내포하고 있는 의미\n",
    "- 변수의 의미를 한번 짚고 넘어갑시다. 여러분이 생각하는 이 변수의 의미를 작성해보세요.\n",
    "    - 해당 날짜 해당 시간의 온도"
   ]
  },
  {
   "cell_type": "markdown",
   "id": "c8e13b83",
   "metadata": {},
   "source": []
  },
  {
   "cell_type": "markdown",
   "id": "13922d1c",
   "metadata": {},
   "source": [
    "2. 변수가 수치형인지 범주형인지\n"
   ]
  },
  {
   "cell_type": "code",
   "execution_count": 421,
   "id": "4a3188e7",
   "metadata": {},
   "outputs": [
    {
     "data": {
      "text/plain": [
       "array([13.1, 12.4, 13. , 12.6, 12. , 14. , 16.2, 18.2, 20.2, 21.7, 22.6,\n",
       "       23.6, 23.2, 23.5, 23. , 22.3, 20.6, 19.2, 18.1, 16.5, 15.4, 14.6,\n",
       "       14.2, 13.7, 12.9, 12.8, 12.7, 13.6, 17.4, 18.9, 20.7, 21.6, 22. ,\n",
       "       22.9, 21. , 19.9, 19.4, 19. , 18.8, 18.4, 18. , 17.7, 17.6, 17.3,\n",
       "       17.5, 16.8, 15.8, 14.9, 14.8, 14.5, 14.4, 14.3, 13.5, 12.5, 11.7,\n",
       "       11.4, 10.9, 10.5, 10.3, 10.4, 10.2,  9.7,  9.5,  9.6, 10. , 10.7,\n",
       "       11.6, 14.7, 15.5, 15. , 12.3,  9. ,  8.1,  7.4,  6.8,  6.5,  6.1,\n",
       "        5.5,  5.4,  7.9, 16.6, 17.9, 15.9, 13.3, 10.6, 10.8,  9.4, 16.1,\n",
       "       17. , 18.6, 16. , 15.1, 12.1,  8.7,  8.2,  8.3, 16.7, 19.3, 20.4,\n",
       "       19.7, 13.8, 11.3, 10.1,  8.9,  7.6,  7.2, 13.9, 17.8, 11.2,  8.6,\n",
       "        7.8,  7.7,  8.8, 17.2, 19.5, 18.5,  9.8,  9.1,  8. , 15.2, 18.3,\n",
       "       11.8,  8.4, 12.2, 17.1, 20.8, 21.2, 21.5, 16.9, 11. , 11.1, 11.9,\n",
       "       11.5,  5.7,  5. ,  4.6,  3.9,  3.4,  3.1,  7.1,  6.6,  6.4,  6.7,\n",
       "        6.9,  7. ,  7.3,  6.2, 13.2,  5.8,  5.6,  8.5, 14.1,  9.9,  9.2,\n",
       "        6.3, 16.3, 16.4, 15.6, 21.8, 20.3, 21.1, 23.1, 24.7, 26.4, 27.6,\n",
       "       28.1, 27.8, 26.1, 24.1, 22.7, 19.8, 18.7, 26.2, 27.5, 27.4, 25.4,\n",
       "       23.7, 22.8, 20.5, 15.7, 20.1, 20.9, 15.3, 19.6, 22.5, 23.9, 20. ,\n",
       "       13.4,  9.3, 22.1, 22.2, 21.4, 24.3, 25. , 25.5, 25.3, 19.1, 24.6,\n",
       "       25.2, 26.6, 27. , 21.9, 23.8, 25.7, 27.2, 27.9, 28.9, 29.5, 29. ,\n",
       "       28. , 24. , 24.2, 28.7, 29.9, 30.3, 30.6, 30.2, 29.4, 24.8, 24.9,\n",
       "       26. , 25.9, 22.4, 23.4, 23.3, 24.5, 21.3, 26.8, 28.8, 26.5, 25.1,\n",
       "       26.3, 27.3, 27.7, 28.6, 29.3, 25.6, 31. , 31.3, 31.4, 30.9, 29.8,\n",
       "       28.3, 28.4, 26.7, 30. , 29.6, 25.8, 24.4, 28.2, 29.1, 29.2, 30.1,\n",
       "       28.5, 26.9, 27.1, 30.4, 30.5, 30.8, 31.7, 31.2, 29.7, 31.5, 32.2,\n",
       "       32.3, 32. , 31.6, 30.7, 32.6, 33.1, 32.5, 32.4, 33.9, 33.8, 32.7,\n",
       "       33.2, 33.3, 34.2, 35. , 32.8, 34. , 33.7, 31.9, 33.6, 34.3, 34.8,\n",
       "       35.1, 34.7, 33.4, 34.4, 35.2, 35.7, 34.9, 31.8, 31.1, 35.4, 35.3,\n",
       "       33. , 35.6, 36.3, 36. , 36.1, 32.9, 34.5, 32.1, 34.1, 33.5,  4.4,\n",
       "        4.2,  3.6,  3.2,  2.5,  2.4,  2.1,  1.6,  1.3,  2.9,  4.8,  3.5,\n",
       "        3. ,  4.3,  5.1,  5.2,  6. ,  5.3,  5.9,  7.5,  4.7,  4.5,  3.8,\n",
       "        3.7,  4.1,  1.9,  1.4,  1.2,  0.7,  4. ,  3.3,  2.3,  2.6,  2.7,\n",
       "        1.5,  2.8,  4.9,  2. ,  1.8,  0.9,  0.6,  0.8,  1.1,  0.3, -0.1,\n",
       "       -0.4, -0.6, -0.9, -1.2, -1.8, -2.4, -2.7, -3.2, -3.5, -2.2, -1. ,\n",
       "        0. ,  1. , -0.7, -1.1, -1.6, -2. , -2.3, -2.5,  0.1,  0.2, -0.3,\n",
       "       -1.3,  2.2, -0.8])"
      ]
     },
     "execution_count": 421,
     "metadata": {},
     "output_type": "execute_result"
    }
   ],
   "source": [
    "#변수의 자료형을 확인해보세요.\n",
    "tmp = data['temperature']\n",
    "tmp.unique() \n",
    "# 수치형"
   ]
  },
  {
   "cell_type": "markdown",
   "id": "833d3194",
   "metadata": {},
   "source": []
  },
  {
   "cell_type": "markdown",
   "id": "142445a8",
   "metadata": {},
   "source": [
    "3. 변수의 결측치 존재 여부 및 조치방안"
   ]
  },
  {
   "cell_type": "code",
   "execution_count": 422,
   "id": "1f37907b",
   "metadata": {},
   "outputs": [
    {
     "data": {
      "text/plain": [
       "0"
      ]
     },
     "execution_count": 422,
     "metadata": {},
     "output_type": "execute_result"
    }
   ],
   "source": [
    "#변수의 결측치 존재 여부를 확인하고, 만약 결측치가 존재하면 어떻게 처리할지 고민해보세요.\n",
    "tmp.isna().sum()"
   ]
  },
  {
   "cell_type": "markdown",
   "id": "97e5682f",
   "metadata": {},
   "source": []
  },
  {
   "cell_type": "markdown",
   "id": "28739a9a",
   "metadata": {},
   "source": [
    "4. 변수의 기초 통계량 확인"
   ]
  },
  {
   "cell_type": "code",
   "execution_count": 423,
   "id": "3ba272ed",
   "metadata": {},
   "outputs": [
    {
     "data": {
      "text/plain": [
       "count    5827.000000\n",
       "mean       19.376798\n",
       "std         7.501572\n",
       "min        -3.500000\n",
       "25%        14.100000\n",
       "50%        20.400000\n",
       "75%        24.900000\n",
       "max        36.300000\n",
       "Name: temperature, dtype: float64"
      ]
     },
     "execution_count": 423,
     "metadata": {},
     "output_type": "execute_result"
    }
   ],
   "source": [
    "#변수의 기초 통계량을 확인해보세요\n",
    "tmp.describe()\n",
    "# 5827개 row, 평균온도 19도, 최저온도 -3.5, 최고온도 36.3, \n",
    "# 사분위수 14.1, 20.4, 24.9"
   ]
  },
  {
   "cell_type": "markdown",
   "id": "41b9c5e4",
   "metadata": {},
   "source": []
  },
  {
   "cell_type": "markdown",
   "id": "4eb1b708",
   "metadata": {},
   "source": [
    "5. 변수의 분포 확인"
   ]
  },
  {
   "cell_type": "code",
   "execution_count": 424,
   "id": "8449daa6",
   "metadata": {
    "scrolled": true
   },
   "outputs": [
    {
     "name": "stderr",
     "output_type": "stream",
     "text": [
      "C:\\Users\\User\\anaconda3\\lib\\site-packages\\seaborn\\_decorators.py:36: FutureWarning: Pass the following variable as a keyword arg: x. From version 0.12, the only valid positional argument will be `data`, and passing other arguments without an explicit keyword will result in an error or misinterpretation.\n",
      "  warnings.warn(\n"
     ]
    },
    {
     "data": {
      "image/png": "[encoded data removed]",
      "text/plain": [
       "<Figure size 360x576 with 1 Axes>"
      ]
     },
     "metadata": {
      "needs_background": "light"
     },
     "output_type": "display_data"
    }
   ],
   "source": [
    "#변수의 분포를 시각화 라이브러리를 활용해 확인해보세요.\n",
    "plt.figure(figsize=(5, 8))\n",
    "sns.countplot(tmp)\n",
    "plt.show()"
   ]
  },
  {
   "cell_type": "code",
   "execution_count": 425,
   "id": "1c50138d",
   "metadata": {
    "scrolled": true
   },
   "outputs": [
    {
     "data": {
      "image/png": "[encoded data removed]",
      "text/plain": [
       "<Figure size 432x288 with 1 Axes>"
      ]
     },
     "metadata": {
      "needs_background": "light"
     },
     "output_type": "display_data"
    }
   ],
   "source": [
    "plt.hist(tmp, bins = 30, edgecolor = 'gray')\n",
    "plt.show()"
   ]
  },
  {
   "cell_type": "code",
   "execution_count": 426,
   "id": "7e07baa0",
   "metadata": {},
   "outputs": [
    {
     "data": {
      "image/png": "[encoded data removed]",
      "text/plain": [
       "<Figure size 432x288 with 1 Axes>"
      ]
     },
     "metadata": {
      "needs_background": "light"
     },
     "output_type": "display_data"
    }
   ],
   "source": [
    "sns.kdeplot(tmp) \n",
    "plt.show()\n",
    "# 20-30도 사이 온도가 가장 많다."
   ]
  },
  {
   "cell_type": "code",
   "execution_count": 427,
   "id": "899311b3",
   "metadata": {},
   "outputs": [
    {
     "data": {
      "image/png": "[encoded data removed]",
      "text/plain": [
       "<Figure size 432x288 with 1 Axes>"
      ]
     },
     "metadata": {
      "needs_background": "light"
     },
     "output_type": "display_data"
    }
   ],
   "source": [
    "plt.boxplot(tmp, vert=False)\n",
    "plt.show()"
   ]
  },
  {
   "cell_type": "markdown",
   "id": "6efa8ae0",
   "metadata": {},
   "source": []
  },
  {
   "cell_type": "markdown",
   "id": "314284e2",
   "metadata": {},
   "source": [
    "6. 위 정보로 부터 파악한 내용 정리"
   ]
  },
  {
   "cell_type": "code",
   "execution_count": 428,
   "id": "55bb2a25",
   "metadata": {},
   "outputs": [],
   "source": [
    "#위 정보로부터 파악하신 내용을 정리해보세요.\n"
   ]
  },
  {
   "cell_type": "markdown",
   "id": "00bb5069",
   "metadata": {},
   "source": [
    "- 1. 주로 20-25도 사이에 몰려있다.\n",
    "- 2. 영하 5도에서 3도는 이상치로 인식될 정도로 양이 작다.\n"
   ]
  },
  {
   "cell_type": "markdown",
   "id": "a1cf88f9",
   "metadata": {},
   "source": []
  },
  {
   "cell_type": "markdown",
   "id": "5341f7c2",
   "metadata": {},
   "source": [
    "7. 추가 분석사항 도출"
   ]
  },
  {
   "cell_type": "code",
   "execution_count": null,
   "id": "96ab4c04",
   "metadata": {},
   "outputs": [],
   "source": [
    "#추가로 분석을 원하는 부분이 있다면 분석후 정리해보세요."
   ]
  },
  {
   "cell_type": "markdown",
   "id": "fd4df6a3",
   "metadata": {},
   "source": [
    "- 1. 주로 몰려있는 온도인 20-25도에 어떤 달이 많을까?"
   ]
  },
  {
   "cell_type": "markdown",
   "id": "36924858",
   "metadata": {},
   "source": []
  },
  {
   "cell_type": "markdown",
   "id": "d28e0cb7",
   "metadata": {},
   "source": [
    "### Feature3 : precipitation"
   ]
  },
  {
   "cell_type": "markdown",
   "id": "74305cdf",
   "metadata": {},
   "source": [
    "1. 변수가 내포하고 있는 의미\n",
    "- 변수의 의미를 한번 짚고 넘어갑시다. 여러분이 생각하는 이 변수의 의미를 작성해보세요.\n",
    "    - 강우 여부로, 비가 왔으면 1, 비가 오지 않았으면 0을 나타내는 boolean변수일 것이다."
   ]
  },
  {
   "cell_type": "markdown",
   "id": "7808070b",
   "metadata": {},
   "source": []
  },
  {
   "cell_type": "markdown",
   "id": "f5598656",
   "metadata": {},
   "source": [
    "2. 변수가 수치형인지 범주형인지\n"
   ]
  },
  {
   "cell_type": "code",
   "execution_count": 38,
   "id": "e32a046b",
   "metadata": {},
   "outputs": [
    {
     "data": {
      "text/plain": [
       "array([0, 1], dtype=int64)"
      ]
     },
     "execution_count": 38,
     "metadata": {},
     "output_type": "execute_result"
    }
   ],
   "source": [
    "#변수의 자료형을 확인해보세요.\n",
    "prec = data['precipitation']\n",
    "prec.unique()\n",
    "# 범주형이구낭"
   ]
  },
  {
   "cell_type": "markdown",
   "id": "4812a02e",
   "metadata": {},
   "source": []
  },
  {
   "cell_type": "markdown",
   "id": "52aeba21",
   "metadata": {},
   "source": [
    "3. 변수의 결측치 존재 여부 및 조치방안"
   ]
  },
  {
   "cell_type": "code",
   "execution_count": 39,
   "id": "526c0c27",
   "metadata": {},
   "outputs": [
    {
     "data": {
      "text/plain": [
       "0"
      ]
     },
     "execution_count": 39,
     "metadata": {},
     "output_type": "execute_result"
    }
   ],
   "source": [
    "#변수의 결측치 존재 여부를 확인하고, 만약 결측치가 존재하면 어떻게 처리할지 고민해보세요. \n",
    "prec.isna().sum()"
   ]
  },
  {
   "cell_type": "markdown",
   "id": "4b220fa2",
   "metadata": {},
   "source": []
  },
  {
   "cell_type": "markdown",
   "id": "2d9760fd",
   "metadata": {},
   "source": [
    "4. 변수의 기초 통계량 확인"
   ]
  },
  {
   "cell_type": "code",
   "execution_count": 48,
   "id": "3ba272ed",
   "metadata": {},
   "outputs": [
    {
     "name": "stdout",
     "output_type": "stream",
     "text": [
      "0    5387\n",
      "1     440\n",
      "Name: precipitation, dtype: int64\n",
      "0    0.924489\n",
      "1    0.075511\n",
      "Name: precipitation, dtype: float64\n"
     ]
    }
   ],
   "source": [
    "#변수의 기초 통계량을 확인해보세요\n",
    "print(prec.value_counts())\n",
    "#0인날이 5387로 더 많다.\n",
    "print(prec.value_counts()/prec.shape[0])"
   ]
  },
  {
   "cell_type": "code",
   "execution_count": 50,
   "id": "d9b8f38c",
   "metadata": {},
   "outputs": [
    {
     "data": {
      "text/plain": [
       "(5827,)"
      ]
     },
     "execution_count": 50,
     "metadata": {},
     "output_type": "execute_result"
    }
   ],
   "source": [
    "prec.shape"
   ]
  },
  {
   "cell_type": "markdown",
   "id": "41b9c5e4",
   "metadata": {},
   "source": []
  },
  {
   "cell_type": "markdown",
   "id": "4eb1b708",
   "metadata": {},
   "source": [
    "5. 변수의 분포 확인"
   ]
  },
  {
   "cell_type": "code",
   "execution_count": 76,
   "id": "8449daa6",
   "metadata": {},
   "outputs": [
    {
     "data": {
      "image/png": "[encoded data removed]",
      "text/plain": [
       "<Figure size 432x288 with 1 Axes>"
      ]
     },
     "metadata": {
      "needs_background": "light"
     },
     "output_type": "display_data"
    }
   ],
   "source": [
    "#변수의 분포를 시각화 라이브러리를 활용해 확인해보세요.\n",
    "plt.bar(prec.values, prec.index)\n",
    "plt.show()"
   ]
  },
  {
   "cell_type": "code",
   "execution_count": 74,
   "id": "0f10c28d",
   "metadata": {
    "scrolled": true
   },
   "outputs": [
    {
     "name": "stderr",
     "output_type": "stream",
     "text": [
      "C:\\Users\\User\\anaconda3\\lib\\site-packages\\seaborn\\_decorators.py:36: FutureWarning: Pass the following variable as a keyword arg: x. From version 0.12, the only valid positional argument will be `data`, and passing other arguments without an explicit keyword will result in an error or misinterpretation.\n",
      "  warnings.warn(\n"
     ]
    },
    {
     "data": {
      "image/png": "[encoded data removed]",
      "text/plain": [
       "<Figure size 432x288 with 1 Axes>"
      ]
     },
     "metadata": {
      "needs_background": "light"
     },
     "output_type": "display_data"
    }
   ],
   "source": [
    "sns.countplot(prec)\n",
    "plt.show()"
   ]
  },
  {
   "cell_type": "code",
   "execution_count": 75,
   "id": "f1d4e672",
   "metadata": {},
   "outputs": [
    {
     "data": {
      "image/png": "[encoded data removed]",
      "text/plain": [
       "<Figure size 432x288 with 1 Axes>"
      ]
     },
     "metadata": {},
     "output_type": "display_data"
    }
   ],
   "source": [
    "plt.pie(prec.values, labels = prec.index)\n",
    "plt.show()"
   ]
  },
  {
   "cell_type": "markdown",
   "id": "6efa8ae0",
   "metadata": {},
   "source": []
  },
  {
   "cell_type": "markdown",
   "id": "314284e2",
   "metadata": {},
   "source": [
    "6. 위 정보로 부터 파악한 내용 정리"
   ]
  },
  {
   "cell_type": "code",
   "execution_count": null,
   "id": "55bb2a25",
   "metadata": {},
   "outputs": [],
   "source": [
    "#위 정보로부터 파악하신 내용을 정리해보세요."
   ]
  },
  {
   "cell_type": "markdown",
   "id": "051f7103",
   "metadata": {},
   "source": [
    "- 1. 5827개 행 중 비가 온 시간보다 비가 안 온 시간이 더 많다."
   ]
  },
  {
   "cell_type": "markdown",
   "id": "a1cf88f9",
   "metadata": {},
   "source": []
  },
  {
   "cell_type": "markdown",
   "id": "5341f7c2",
   "metadata": {},
   "source": [
    "7. 추가 분석사항 도출"
   ]
  },
  {
   "cell_type": "code",
   "execution_count": null,
   "id": "75e2f7e0",
   "metadata": {},
   "outputs": [],
   "source": [
    "#추가로 분석을 원하는 부분이 있다면 분석후 정리해보세요."
   ]
  },
  {
   "cell_type": "markdown",
   "id": "196e49a1",
   "metadata": {},
   "source": [
    "- 1. 비가 온 날은 습도도 높을까?\n",
    "- 2. 비가 온 다음날도 습도가 높을까?\n",
    "- 3. 비가 온 날과 그 다음날은 시정이 짧을까?\n",
    "- 4. 비가 온 것이 오존수치에 영향을 미칠까?\n",
    "- 5. 비가 오고나서는 미세먼지 수치가 낮아질까?"
   ]
  },
  {
   "cell_type": "markdown",
   "id": "36924858",
   "metadata": {},
   "source": []
  },
  {
   "cell_type": "markdown",
   "id": "c559e931",
   "metadata": {},
   "source": [
    "### Feature4 : windspeed"
   ]
  },
  {
   "cell_type": "markdown",
   "id": "74305cdf",
   "metadata": {},
   "source": [
    "1. 변수가 내포하고 있는 의미\n",
    "- 변수의 의미를 한번 짚고 넘어갑시다. 여러분이 생각하는 이 변수의 의미를 작성해보세요.\n",
    "    - 그 시간 동안의 평균 풍속"
   ]
  },
  {
   "cell_type": "markdown",
   "id": "7808070b",
   "metadata": {},
   "source": []
  },
  {
   "cell_type": "markdown",
   "id": "f5598656",
   "metadata": {},
   "source": [
    "2. 변수가 수치형인지 범주형인지\n"
   ]
  },
  {
   "cell_type": "code",
   "execution_count": 77,
   "id": "e32a046b",
   "metadata": {},
   "outputs": [
    {
     "data": {
      "text/plain": [
       "array([1.4, 2.1, 3.4, 3.1, 2.9, 3. , 3.5, 4.3, 3.7, 3.2, 3.6, 2.4, 4.6,\n",
       "       6.5, 5.7, 5.1, 4.8, 5. , 4. , 4.1, 4.9, 3.9, 2.8, 1.6, 0.9, 1.9,\n",
       "       1.8, 2.3, 0.8, 2.5, 2.6, 2.2, 3.3, 5.4, 4.4, 4.5, 3.8, 1.7, 2.7,\n",
       "       4.2, 2. , 1.5, 0.7, 0.4, 1. , 0.5, 1.2, 1.1, 1.3, 4.7, 0.6, 0.2,\n",
       "       5.2, 6.1, 5.3, 6.7, 0. , 0.3, 5.5, 5.9, 6. , 8.3, 5.6, 6.6, 0.1,\n",
       "       8.1, 6.9, 6.3, 5.8, 6.8, 6.4, 6.2])"
      ]
     },
     "execution_count": 77,
     "metadata": {},
     "output_type": "execute_result"
    }
   ],
   "source": [
    "#변수의 자료형을 확인해보세요.\n",
    "wind = data['windspeed']\n",
    "wind.unique()\n",
    "#수치형이다."
   ]
  },
  {
   "cell_type": "markdown",
   "id": "4812a02e",
   "metadata": {},
   "source": []
  },
  {
   "cell_type": "markdown",
   "id": "52aeba21",
   "metadata": {},
   "source": [
    "3. 변수의 결측치 존재 여부 및 조치방안"
   ]
  },
  {
   "cell_type": "code",
   "execution_count": 78,
   "id": "526c0c27",
   "metadata": {},
   "outputs": [
    {
     "data": {
      "text/plain": [
       "0"
      ]
     },
     "execution_count": 78,
     "metadata": {},
     "output_type": "execute_result"
    }
   ],
   "source": [
    "#변수의 결측치 존재 여부를 확인하고, 만약 결측치가 존재하면 어떻게 처리할지 고민해보세요. \n",
    "wind.isna().sum()"
   ]
  },
  {
   "cell_type": "markdown",
   "id": "4b220fa2",
   "metadata": {},
   "source": []
  },
  {
   "cell_type": "markdown",
   "id": "2d9760fd",
   "metadata": {},
   "source": [
    "4. 변수의 기초 통계량 확인"
   ]
  },
  {
   "cell_type": "code",
   "execution_count": 85,
   "id": "3ba272ed",
   "metadata": {},
   "outputs": [
    {
     "data": {
      "text/plain": [
       "count    5827.000000\n",
       "mean        2.237601\n",
       "std         1.054516\n",
       "min         0.000000\n",
       "25%         1.500000\n",
       "50%         2.200000\n",
       "75%         2.800000\n",
       "max         8.300000\n",
       "Name: windspeed, dtype: float64"
      ]
     },
     "execution_count": 85,
     "metadata": {},
     "output_type": "execute_result"
    }
   ],
   "source": [
    "#변수의 기초 통계량을 확인해보세요\n",
    "wind.describe()\n",
    "#5827개 행,\n",
    "# 평균 풍속 2.2\n",
    "# 최저 풍속 0, 최고 풍속 8.3\n",
    "# 사분위수 0, 1.5, 2.2, 2.8, 8.3\n",
    "# => 1.5~2.8 사이에 몰려있되, 아예 바람이 강한 날도 있다."
   ]
  },
  {
   "cell_type": "markdown",
   "id": "41b9c5e4",
   "metadata": {},
   "source": []
  },
  {
   "cell_type": "markdown",
   "id": "4eb1b708",
   "metadata": {},
   "source": [
    "5. 변수의 분포 확인"
   ]
  },
  {
   "cell_type": "code",
   "execution_count": null,
   "id": "8449daa6",
   "metadata": {},
   "outputs": [],
   "source": [
    "#변수의 분포를 시각화 라이브러리를 활용해 확인해보세요."
   ]
  },
  {
   "cell_type": "code",
   "execution_count": 82,
   "id": "b672ce7a",
   "metadata": {},
   "outputs": [
    {
     "data": {
      "image/png": "[encoded data removed]",
      "text/plain": [
       "<Figure size 432x288 with 1 Axes>"
      ]
     },
     "metadata": {
      "needs_background": "light"
     },
     "output_type": "display_data"
    }
   ],
   "source": [
    "plt.hist(wind, bins=30)\n",
    "plt.show()\n",
    "\n",
    "#풍속이 1.5~3사이에 많은 것 같다."
   ]
  },
  {
   "cell_type": "code",
   "execution_count": 89,
   "id": "e2e6c053",
   "metadata": {},
   "outputs": [
    {
     "data": {
      "image/png": "[encoded data removed]",
      "text/plain": [
       "<Figure size 432x288 with 1 Axes>"
      ]
     },
     "metadata": {
      "needs_background": "light"
     },
     "output_type": "display_data"
    }
   ],
   "source": [
    "sns.kdeplot(wind)\n",
    "plt.show()"
   ]
  },
  {
   "cell_type": "markdown",
   "id": "6efa8ae0",
   "metadata": {},
   "source": []
  },
  {
   "cell_type": "markdown",
   "id": "314284e2",
   "metadata": {},
   "source": [
    "6. 위 정보로 부터 파악한 내용 정리"
   ]
  },
  {
   "cell_type": "code",
   "execution_count": null,
   "id": "55bb2a25",
   "metadata": {},
   "outputs": [],
   "source": [
    "#위 정보로부터 파악하신 내용을 정리해보세요."
   ]
  },
  {
   "cell_type": "markdown",
   "id": "b2fe7944",
   "metadata": {},
   "source": [
    "- 1. 풍속이 1.5~2.8 사이에 몰려있고, 최대는 8.3인것을 봤을 때 평균 풍속은 2.2이고 대부분의 데이터가 그 근방에 몰려있지만, 간혹 바람이 세게 부는날이 며칠 있었을 것이다.\n"
   ]
  },
  {
   "cell_type": "markdown",
   "id": "a1cf88f9",
   "metadata": {},
   "source": []
  },
  {
   "cell_type": "markdown",
   "id": "5341f7c2",
   "metadata": {},
   "source": [
    "7. 추가 분석사항 도출"
   ]
  },
  {
   "cell_type": "code",
   "execution_count": null,
   "id": "ebd1fd48",
   "metadata": {},
   "outputs": [],
   "source": [
    "#추가로 분석을 원하는 부분이 있다면 분석후 정리해보세요."
   ]
  },
  {
   "cell_type": "markdown",
   "id": "272385ae",
   "metadata": {},
   "source": [
    "- 1. 바람이 많이 부는 날은 언제일까? 바람이 제3사분위수보다 높은 날들이 많이 모여있는 달을 파악해보고 싶다.\n",
    "- 2. 풍속이 제 3사분위수인 28보다 높은날은 비가 온 날? 아니면 그 전날에 비가옴? 아니면 하루 후에 비가왔는지?"
   ]
  },
  {
   "cell_type": "markdown",
   "id": "36924858",
   "metadata": {},
   "source": []
  },
  {
   "cell_type": "markdown",
   "id": "c559e931",
   "metadata": {},
   "source": [
    "### Feature5 : humidity"
   ]
  },
  {
   "cell_type": "markdown",
   "id": "74305cdf",
   "metadata": {},
   "source": [
    "1. 변수가 내포하고 있는 의미\n",
    "- 변수의 의미를 한번 짚고 넘어갑시다. 여러분이 생각하는 이 변수의 의미를 작성해보세요.\n",
    "    - 그 시간의 습도"
   ]
  },
  {
   "cell_type": "markdown",
   "id": "7808070b",
   "metadata": {},
   "source": []
  },
  {
   "cell_type": "markdown",
   "id": "f5598656",
   "metadata": {},
   "source": [
    "2. 변수가 수치형인지 범주형인지\n"
   ]
  },
  {
   "cell_type": "code",
   "execution_count": 93,
   "id": "e32a046b",
   "metadata": {},
   "outputs": [
    {
     "data": {
      "text/plain": [
       "array([ 49,  53,  43,  44,  45,  46,  38,  31,  25,  21,  20,  19,  22,\n",
       "        24,  27,  33,  40,  41,  39,  42,  34,  29,  26,  30,  35,  36,\n",
       "        51,  54,  57,  59,  60,  62,  79,  89,  94,  96,  98,  97,  95,\n",
       "        92,  91,  93,  86,  80,  75,  67,  61,  50,  52,  55,  69,  71,\n",
       "        72,  78,  66,  28,  23,  37,  48,  58,  64,  63,  32,  56,  70,\n",
       "        77,  47,  68,  99,  76,  65,  74,  83,  85,  87,  81,  84,  73,\n",
       "        88,  82,  90, 100], dtype=int64)"
      ]
     },
     "execution_count": 93,
     "metadata": {},
     "output_type": "execute_result"
    }
   ],
   "source": [
    "#변수의 자료형을 확인해보세요.\n",
    "humidity = data['humidity']\n",
    "humidity.unique() #숫자형"
   ]
  },
  {
   "cell_type": "markdown",
   "id": "4812a02e",
   "metadata": {},
   "source": []
  },
  {
   "cell_type": "markdown",
   "id": "52aeba21",
   "metadata": {},
   "source": [
    "3. 변수의 결측치 존재 여부 및 조치방안"
   ]
  },
  {
   "cell_type": "code",
   "execution_count": 94,
   "id": "526c0c27",
   "metadata": {},
   "outputs": [
    {
     "data": {
      "text/plain": [
       "0"
      ]
     },
     "execution_count": 94,
     "metadata": {},
     "output_type": "execute_result"
    }
   ],
   "source": [
    "#변수의 결측치 존재 여부를 확인하고, 만약 결측치가 존재하면 어떻게 처리할지 고민해보세요. \n",
    "humidity.isna().sum()"
   ]
  },
  {
   "cell_type": "markdown",
   "id": "4b220fa2",
   "metadata": {},
   "source": []
  },
  {
   "cell_type": "markdown",
   "id": "2d9760fd",
   "metadata": {},
   "source": [
    "4. 변수의 기초 통계량 확인"
   ]
  },
  {
   "cell_type": "code",
   "execution_count": 96,
   "id": "3ba272ed",
   "metadata": {},
   "outputs": [
    {
     "data": {
      "text/plain": [
       "count    5827.000000\n",
       "mean       68.608718\n",
       "std        17.277266\n",
       "min        19.000000\n",
       "25%        56.000000\n",
       "50%        70.000000\n",
       "75%        82.000000\n",
       "max       100.000000\n",
       "Name: humidity, dtype: float64"
      ]
     },
     "execution_count": 96,
     "metadata": {},
     "output_type": "execute_result"
    }
   ],
   "source": [
    "#변수의 기초 통계량을 확인해보세요\n",
    "humidity.describe()\n",
    "#5827개 row, \n",
    "# 평균 습도 68, 최저습도19, 최고습도100"
   ]
  },
  {
   "cell_type": "markdown",
   "id": "41b9c5e4",
   "metadata": {},
   "source": []
  },
  {
   "cell_type": "markdown",
   "id": "4eb1b708",
   "metadata": {},
   "source": [
    "5. 변수의 분포 확인"
   ]
  },
  {
   "cell_type": "code",
   "execution_count": 99,
   "id": "8449daa6",
   "metadata": {},
   "outputs": [
    {
     "data": {
      "image/png": "[encoded data removed]",
      "text/plain": [
       "<Figure size 432x288 with 1 Axes>"
      ]
     },
     "metadata": {
      "needs_background": "light"
     },
     "output_type": "display_data"
    }
   ],
   "source": [
    "#변수의 분포를 시각화 라이브러리를 활용해 확인해보세요.\n",
    "plt.hist(humidity, bins=30)\n",
    "plt.show()"
   ]
  },
  {
   "cell_type": "code",
   "execution_count": 98,
   "id": "8e855ab4",
   "metadata": {},
   "outputs": [
    {
     "name": "stderr",
     "output_type": "stream",
     "text": [
      "C:\\Users\\User\\anaconda3\\lib\\site-packages\\seaborn\\_decorators.py:36: FutureWarning: Pass the following variable as a keyword arg: x. From version 0.12, the only valid positional argument will be `data`, and passing other arguments without an explicit keyword will result in an error or misinterpretation.\n",
      "  warnings.warn(\n"
     ]
    },
    {
     "data": {
      "image/png": "[encoded data removed]",
      "text/plain": [
       "<Figure size 432x288 with 1 Axes>"
      ]
     },
     "metadata": {
      "needs_background": "light"
     },
     "output_type": "display_data"
    }
   ],
   "source": [
    "sns.countplot(humidity)\n",
    "plt.show()"
   ]
  },
  {
   "cell_type": "code",
   "execution_count": 100,
   "id": "c408dfc9",
   "metadata": {},
   "outputs": [
    {
     "data": {
      "image/png": "[encoded data removed]",
      "text/plain": [
       "<Figure size 432x288 with 1 Axes>"
      ]
     },
     "metadata": {
      "needs_background": "light"
     },
     "output_type": "display_data"
    }
   ],
   "source": [
    "sns.kdeplot(humidity)\n",
    "plt.show()"
   ]
  },
  {
   "cell_type": "code",
   "execution_count": 102,
   "id": "dbce0bdc",
   "metadata": {},
   "outputs": [
    {
     "data": {
      "image/png": "[encoded data removed]",
      "text/plain": [
       "<Figure size 432x288 with 1 Axes>"
      ]
     },
     "metadata": {
      "needs_background": "light"
     },
     "output_type": "display_data"
    }
   ],
   "source": [
    "plt.boxplot(humidity)\n",
    "plt.show()"
   ]
  },
  {
   "cell_type": "markdown",
   "id": "6efa8ae0",
   "metadata": {},
   "source": []
  },
  {
   "cell_type": "markdown",
   "id": "314284e2",
   "metadata": {},
   "source": [
    "6. 위 정보로 부터 파악한 내용 정리"
   ]
  },
  {
   "cell_type": "code",
   "execution_count": null,
   "id": "55bb2a25",
   "metadata": {},
   "outputs": [],
   "source": [
    "#위 정보로부터 파악하신 내용을 정리해보세요."
   ]
  },
  {
   "cell_type": "markdown",
   "id": "14c49325",
   "metadata": {},
   "source": [
    "- 1. 습도가 55~80에 많이 몰려있다.\n",
    "- 2. 여름 데이터가 많이 있을 것 같다."
   ]
  },
  {
   "cell_type": "markdown",
   "id": "a1cf88f9",
   "metadata": {},
   "source": []
  },
  {
   "cell_type": "markdown",
   "id": "5341f7c2",
   "metadata": {},
   "source": [
    "7. 추가 분석사항 도출"
   ]
  },
  {
   "cell_type": "code",
   "execution_count": null,
   "id": "ebd1fd48",
   "metadata": {},
   "outputs": [],
   "source": [
    "#추가로 분석을 원하는 부분이 있다면 분석후 정리해보세요."
   ]
  },
  {
   "cell_type": "markdown",
   "id": "36e709f4",
   "metadata": {},
   "source": [
    "- 1. 데이터들 중에 날짜가 여름인 날(6월-9월)이 다른 계절보다 많은지 확인하고싶다.\n",
    "- 2. 습도가 높은 날(75이상)에는 그 전날/당일/다음날에 비가 왔을 것 같다. => 전후 3일간의 강우여부\n",
    "- 3. 습도가 높은날 오존수치가 높을 것 같음.\n",
    "- 4. 습도가 높은 날에는 따릉이 대여를 많이 안할 것 같다."
   ]
  },
  {
   "cell_type": "markdown",
   "id": "36924858",
   "metadata": {},
   "source": []
  },
  {
   "cell_type": "markdown",
   "id": "c559e931",
   "metadata": {},
   "source": [
    "### Feature6 : visibility"
   ]
  },
  {
   "cell_type": "markdown",
   "id": "74305cdf",
   "metadata": {},
   "source": [
    "1. 변수가 내포하고 있는 의미\n",
    "- 변수의 의미를 한번 짚고 넘어갑시다. 여러분이 생각하는 이 변수의 의미를 작성해보세요.\n",
    "    - 시정 : 특정 기상상태에 따른 가시성으로, 높을수록 산같이 높은 곳에 올라갔을 때 멀리 내다보임"
   ]
  },
  {
   "cell_type": "markdown",
   "id": "7808070b",
   "metadata": {},
   "source": []
  },
  {
   "cell_type": "markdown",
   "id": "f5598656",
   "metadata": {},
   "source": [
    "2. 변수가 수치형인지 범주형인지\n"
   ]
  },
  {
   "cell_type": "code",
   "execution_count": 103,
   "id": "e32a046b",
   "metadata": {},
   "outputs": [],
   "source": [
    "#변수의 자료형을 확인해보세요.\n",
    "visibility = data['visibility']"
   ]
  },
  {
   "cell_type": "code",
   "execution_count": 104,
   "id": "61354fe4",
   "metadata": {},
   "outputs": [
    {
     "data": {
      "text/plain": [
       "array([2000,  521,  206, ..., 1193, 1233, 1250], dtype=int64)"
      ]
     },
     "execution_count": 104,
     "metadata": {},
     "output_type": "execute_result"
    }
   ],
   "source": [
    "visibility.unique() #수치형"
   ]
  },
  {
   "cell_type": "markdown",
   "id": "52aeba21",
   "metadata": {},
   "source": [
    "3. 변수의 결측치 존재 여부 및 조치방안"
   ]
  },
  {
   "cell_type": "code",
   "execution_count": null,
   "id": "526c0c27",
   "metadata": {},
   "outputs": [],
   "source": [
    "#변수의 결측치 존재 여부를 확인하고, 만약 결측치가 존재하면 어떻게 처리할지 고민해보세요. "
   ]
  },
  {
   "cell_type": "code",
   "execution_count": 105,
   "id": "4b9f6a42",
   "metadata": {},
   "outputs": [
    {
     "data": {
      "text/plain": [
       "0"
      ]
     },
     "execution_count": 105,
     "metadata": {},
     "output_type": "execute_result"
    }
   ],
   "source": [
    "visibility.isna().sum()"
   ]
  },
  {
   "cell_type": "markdown",
   "id": "4b220fa2",
   "metadata": {},
   "source": []
  },
  {
   "cell_type": "markdown",
   "id": "2d9760fd",
   "metadata": {},
   "source": [
    "4. 변수의 기초 통계량 확인"
   ]
  },
  {
   "cell_type": "code",
   "execution_count": null,
   "id": "3ba272ed",
   "metadata": {},
   "outputs": [],
   "source": [
    "#변수의 기초 통계량을 확인해보세요"
   ]
  },
  {
   "cell_type": "code",
   "execution_count": 107,
   "id": "98907e19",
   "metadata": {},
   "outputs": [
    {
     "data": {
      "text/plain": [
       "count    5827.000000\n",
       "mean     1758.438648\n",
       "std       490.969394\n",
       "min        60.000000\n",
       "25%      1935.500000\n",
       "50%      2000.000000\n",
       "75%      2000.000000\n",
       "max      2000.000000\n",
       "Name: visibility, dtype: float64"
      ]
     },
     "execution_count": 107,
     "metadata": {},
     "output_type": "execute_result"
    }
   ],
   "source": [
    "visibility.describe()\n",
    "# 5827개 row, 평균 1758, 최저 60, 최고 2000\n",
    "# 60, 1935, 2000, 2000"
   ]
  },
  {
   "cell_type": "markdown",
   "id": "41b9c5e4",
   "metadata": {},
   "source": []
  },
  {
   "cell_type": "markdown",
   "id": "4eb1b708",
   "metadata": {},
   "source": [
    "5. 변수의 분포 확인"
   ]
  },
  {
   "cell_type": "code",
   "execution_count": null,
   "id": "8449daa6",
   "metadata": {},
   "outputs": [],
   "source": [
    "#변수의 분포를 시각화 라이브러리를 활용해 확인해보세요."
   ]
  },
  {
   "cell_type": "code",
   "execution_count": 109,
   "id": "968af815",
   "metadata": {},
   "outputs": [
    {
     "data": {
      "image/png": "[encoded data removed]",
      "text/plain": [
       "<Figure size 432x288 with 1 Axes>"
      ]
     },
     "metadata": {
      "needs_background": "light"
     },
     "output_type": "display_data"
    }
   ],
   "source": [
    "plt.hist(visibility, bins=30)\n",
    "plt.show()"
   ]
  },
  {
   "cell_type": "code",
   "execution_count": 110,
   "id": "c08aa287",
   "metadata": {},
   "outputs": [
    {
     "data": {
      "image/png": "[encoded data removed]",
      "text/plain": [
       "<Figure size 432x288 with 1 Axes>"
      ]
     },
     "metadata": {
      "needs_background": "light"
     },
     "output_type": "display_data"
    }
   ],
   "source": [
    "sns.kdeplot(visibility)\n",
    "plt.show()"
   ]
  },
  {
   "cell_type": "code",
   "execution_count": 114,
   "id": "1897269c",
   "metadata": {},
   "outputs": [
    {
     "data": {
      "image/png": "[encoded data removed]",
      "text/plain": [
       "<Figure size 720x576 with 1 Axes>"
      ]
     },
     "metadata": {
      "needs_background": "light"
     },
     "output_type": "display_data"
    }
   ],
   "source": [
    "plt.figure(figsize=(10, 8))\n",
    "plt.boxplot(visibility, vert=False)\n",
    "plt.show()"
   ]
  },
  {
   "cell_type": "markdown",
   "id": "6efa8ae0",
   "metadata": {},
   "source": []
  },
  {
   "cell_type": "markdown",
   "id": "314284e2",
   "metadata": {},
   "source": [
    "6. 위 정보로 부터 파악한 내용 정리"
   ]
  },
  {
   "cell_type": "code",
   "execution_count": null,
   "id": "55bb2a25",
   "metadata": {},
   "outputs": [],
   "source": [
    "#위 정보로부터 파악하신 내용을 정리해보세요."
   ]
  },
  {
   "cell_type": "markdown",
   "id": "d9eb78e9",
   "metadata": {},
   "source": [
    "- 1. 데이터가 보통 2000근방에 많이 모여있다. 하지만 최저값이 60, 최고값이 2000인 것을 봤을 때 시정값이 2000에 가까운 날이 많지만 가끔 2000아래로 떨어지는 날도 며칠 있을 것이다."
   ]
  },
  {
   "cell_type": "markdown",
   "id": "a1cf88f9",
   "metadata": {},
   "source": []
  },
  {
   "cell_type": "markdown",
   "id": "5341f7c2",
   "metadata": {},
   "source": [
    "7. 추가 분석사항 도출"
   ]
  },
  {
   "cell_type": "code",
   "execution_count": null,
   "id": "ebd1fd48",
   "metadata": {},
   "outputs": [],
   "source": [
    "#추가로 분석을 원하는 부분이 있다면 분석후 정리해보세요."
   ]
  },
  {
   "cell_type": "markdown",
   "id": "e42142e4",
   "metadata": {},
   "source": [
    "- 1. 2000아래로 떨어진 날의 오존수치, 미세먼지 수치, 강우여부\n",
    "- 2. 시정값에 영향을 주는 요인에 오존, 미세먼지, 강우여부, 습도, 초미세먼지 수치 등이 있을 것 같다."
   ]
  },
  {
   "cell_type": "markdown",
   "id": "36924858",
   "metadata": {},
   "source": []
  },
  {
   "cell_type": "markdown",
   "id": "c559e931",
   "metadata": {},
   "source": [
    "### Feature7 : ozone"
   ]
  },
  {
   "cell_type": "markdown",
   "id": "74305cdf",
   "metadata": {},
   "source": [
    "1. 변수가 내포하고 있는 의미\n",
    "- 변수의 의미를 한번 짚고 넘어갑시다. 여러분이 생각하는 이 변수의 의미를 작성해보세요.\n",
    "    - 그 시간의 오존농도"
   ]
  },
  {
   "cell_type": "markdown",
   "id": "7808070b",
   "metadata": {},
   "source": []
  },
  {
   "cell_type": "markdown",
   "id": "f5598656",
   "metadata": {},
   "source": [
    "2. 변수가 수치형인지 범주형인지\n"
   ]
  },
  {
   "cell_type": "code",
   "execution_count": 115,
   "id": "e32a046b",
   "metadata": {
    "scrolled": true
   },
   "outputs": [
    {
     "data": {
      "text/plain": [
       "array([0.002, 0.003, 0.023, 0.028, 0.008, 0.009, 0.018, 0.027, 0.032,\n",
       "       0.033, 0.038, 0.042, 0.044, 0.045, 0.043, 0.039, 0.037, 0.036,\n",
       "       0.034, 0.04 , 0.035, 0.041, 0.025, 0.01 , 0.015, 0.006, 0.022,\n",
       "       0.019, 0.03 , 0.026, 0.021, 0.017, 0.031, 0.029, 0.024, 0.02 ,\n",
       "       0.016, 0.004, 0.049, 0.053, 0.055, 0.059, 0.06 , 0.051, 0.046,\n",
       "       0.012, 0.013, 0.014, 0.047, 0.05 , 0.058, 0.052, 0.007, 0.056,\n",
       "         nan, 0.066, 0.057, 0.011, 0.054, 0.065, 0.067, 0.07 , 0.077,\n",
       "       0.072, 0.005, 0.064, 0.068, 0.071, 0.061, 0.074, 0.069, 0.048,\n",
       "       0.063, 0.079, 0.106, 0.104, 0.085, 0.075, 0.081, 0.073, 0.08 ,\n",
       "       0.062, 0.078, 0.088, 0.107, 0.11 , 0.116, 0.087, 0.082, 0.097,\n",
       "       0.099, 0.094, 0.086, 0.083, 0.09 , 0.093, 0.084, 0.076, 0.089,\n",
       "       0.1  , 0.137, 0.115, 0.092, 0.098, 0.103, 0.096, 0.111, 0.118,\n",
       "       0.101, 0.001])"
      ]
     },
     "execution_count": 115,
     "metadata": {},
     "output_type": "execute_result"
    }
   ],
   "source": [
    "#변수의 자료형을 확인해보세요.\n",
    "ozone=data['ozone']\n",
    "ozone.unique() #수치형"
   ]
  },
  {
   "cell_type": "markdown",
   "id": "4812a02e",
   "metadata": {},
   "source": []
  },
  {
   "cell_type": "markdown",
   "id": "52aeba21",
   "metadata": {},
   "source": [
    "3. 변수의 결측치 존재 여부 및 조치방안"
   ]
  },
  {
   "cell_type": "code",
   "execution_count": 117,
   "id": "526c0c27",
   "metadata": {},
   "outputs": [
    {
     "data": {
      "text/plain": [
       "0    0.002\n",
       "1    0.003\n",
       "2    0.023\n",
       "3    0.028\n",
       "4    0.008\n",
       "Name: ozone, dtype: float64"
      ]
     },
     "execution_count": 117,
     "metadata": {},
     "output_type": "execute_result"
    }
   ],
   "source": [
    "#변수의 결측치 존재 여부를 확인하고, 만약 결측치가 존재하면 어떻게 처리할지 고민해보세요. \n",
    "ozone.isna().sum()\n",
    "#결측치 128개 => 앞의 숫자로 채울까 ? 왜냐면 1번째 데이터는 비지 않았기 때문에"
   ]
  },
  {
   "cell_type": "code",
   "execution_count": 119,
   "id": "ac9932bd",
   "metadata": {},
   "outputs": [
    {
     "data": {
      "text/plain": [
       "0"
      ]
     },
     "execution_count": 119,
     "metadata": {},
     "output_type": "execute_result"
    }
   ],
   "source": [
    "ozone.fillna(method='ffill', inplace=True)\n",
    "ozone.isna().sum()"
   ]
  },
  {
   "cell_type": "markdown",
   "id": "4b220fa2",
   "metadata": {},
   "source": []
  },
  {
   "cell_type": "markdown",
   "id": "2d9760fd",
   "metadata": {},
   "source": [
    "4. 변수의 기초 통계량 확인"
   ]
  },
  {
   "cell_type": "code",
   "execution_count": 121,
   "id": "3ba272ed",
   "metadata": {},
   "outputs": [
    {
     "data": {
      "text/plain": [
       "count    5827.000000\n",
       "mean        0.031589\n",
       "std         0.018303\n",
       "min         0.001000\n",
       "25%         0.019000\n",
       "50%         0.030000\n",
       "75%         0.041000\n",
       "max         0.137000\n",
       "Name: ozone, dtype: float64"
      ]
     },
     "execution_count": 121,
     "metadata": {},
     "output_type": "execute_result"
    }
   ],
   "source": [
    "#변수의 기초 통계량을 확인해보세요\n",
    "ozone.describe()\n",
    "#5827컬럼, 평균오존농도 0.032, \n",
    "# 0.001, 0.019, 0.030, 0.041, 0.137"
   ]
  },
  {
   "cell_type": "markdown",
   "id": "41b9c5e4",
   "metadata": {},
   "source": []
  },
  {
   "cell_type": "markdown",
   "id": "4eb1b708",
   "metadata": {},
   "source": [
    "5. 변수의 분포 확인"
   ]
  },
  {
   "cell_type": "code",
   "execution_count": null,
   "id": "8449daa6",
   "metadata": {},
   "outputs": [],
   "source": [
    "#변수의 분포를 시각화 라이브러리를 활용해 확인해보세요."
   ]
  },
  {
   "cell_type": "code",
   "execution_count": 126,
   "id": "82e73909",
   "metadata": {
    "scrolled": true
   },
   "outputs": [
    {
     "data": {
      "image/png": "[encoded data removed]",
      "text/plain": [
       "<Figure size 432x288 with 1 Axes>"
      ]
     },
     "metadata": {
      "needs_background": "light"
     },
     "output_type": "display_data"
    }
   ],
   "source": [
    "plt.hist(ozone, bins=100)\n",
    "plt.show()"
   ]
  },
  {
   "cell_type": "code",
   "execution_count": 125,
   "id": "1bb3dbf5",
   "metadata": {},
   "outputs": [
    {
     "name": "stderr",
     "output_type": "stream",
     "text": [
      "C:\\Users\\User\\anaconda3\\lib\\site-packages\\seaborn\\_decorators.py:36: FutureWarning: Pass the following variable as a keyword arg: x. From version 0.12, the only valid positional argument will be `data`, and passing other arguments without an explicit keyword will result in an error or misinterpretation.\n",
      "  warnings.warn(\n"
     ]
    },
    {
     "data": {
      "image/png": "[encoded data removed]",
      "text/plain": [
       "<Figure size 432x288 with 1 Axes>"
      ]
     },
     "metadata": {
      "needs_background": "light"
     },
     "output_type": "display_data"
    }
   ],
   "source": [
    "sns.countplot(ozone)\n",
    "plt.show()"
   ]
  },
  {
   "cell_type": "markdown",
   "id": "6efa8ae0",
   "metadata": {},
   "source": []
  },
  {
   "cell_type": "markdown",
   "id": "314284e2",
   "metadata": {},
   "source": [
    "6. 위 정보로 부터 파악한 내용 정리"
   ]
  },
  {
   "cell_type": "code",
   "execution_count": null,
   "id": "55bb2a25",
   "metadata": {},
   "outputs": [],
   "source": [
    "#위 정보로부터 파악하신 내용을 정리해보세요."
   ]
  },
  {
   "cell_type": "markdown",
   "id": "54532d0d",
   "metadata": {},
   "source": [
    "- 1. 0.0부근, 0.03부근에 많이 몰려있다."
   ]
  },
  {
   "cell_type": "markdown",
   "id": "a1cf88f9",
   "metadata": {},
   "source": []
  },
  {
   "cell_type": "markdown",
   "id": "5341f7c2",
   "metadata": {},
   "source": [
    "7. 추가 분석사항 도출"
   ]
  },
  {
   "cell_type": "code",
   "execution_count": null,
   "id": "ebd1fd48",
   "metadata": {},
   "outputs": [],
   "source": [
    "#추가로 분석을 원하는 부분이 있다면 분석후 정리해보세요."
   ]
  },
  {
   "cell_type": "markdown",
   "id": "a042a933",
   "metadata": {},
   "source": [
    "- 1. 아까전에 시정 그래프에서 시정범위가 낮을 때가 되게 적었는데, 오존농도도 높은 날이 적은 것을 보니 시정과 오존농도에 관련이 있을 것 같다. (시정이 낮을수록 오존이 높을 듯)"
   ]
  },
  {
   "cell_type": "markdown",
   "id": "36924858",
   "metadata": {},
   "source": []
  },
  {
   "cell_type": "markdown",
   "id": "c559e931",
   "metadata": {},
   "source": [
    "### Feature8 : PM10"
   ]
  },
  {
   "cell_type": "markdown",
   "id": "74305cdf",
   "metadata": {},
   "source": [
    "1. 변수가 내포하고 있는 의미\n",
    "- 변수의 의미를 한번 짚고 넘어갑시다. 여러분이 생각하는 이 변수의 의미를 작성해보세요.\n",
    "    - 그시간의 미세먼지 수치"
   ]
  },
  {
   "cell_type": "markdown",
   "id": "7808070b",
   "metadata": {},
   "source": []
  },
  {
   "cell_type": "markdown",
   "id": "f5598656",
   "metadata": {},
   "source": [
    "2. 변수가 수치형인지 범주형인지\n"
   ]
  },
  {
   "cell_type": "code",
   "execution_count": 127,
   "id": "e32a046b",
   "metadata": {},
   "outputs": [
    {
     "data": {
      "text/plain": [
       "array([ 42.,  41.,  30.,  27.,  29.,  31.,  39.,  35.,  34.,  40.,  37.,\n",
       "        43.,  46.,  50.,  51.,  44.,  48.,  49.,  45.,  38.,  36.,  54.,\n",
       "        58.,  56.,  61.,  47.,  20.,  17.,  12.,  10.,   7.,   9.,   3.,\n",
       "         6.,   8.,  13.,  15.,  23.,  26.,  22.,  21.,  19.,  24.,  28.,\n",
       "        25.,  57.,  67.,  69.,  68.,  77.,  75.,  79.,  64.,  33.,  32.,\n",
       "        52.,  nan,  14.,   5.,   4.,  16.,  18.,  62., 123., 269., 296.,\n",
       "       119.,  66.,  74.,  86.,  98.,  97., 100.,  96., 104.,  88.,  85.,\n",
       "        87.,  90.,  99., 129., 147., 130., 126., 103.,  70.,  55.,  11.,\n",
       "        53.,  59.,  72.,  81.,  89.,  73.,  60.,  65.,  71.,  78.,  83.,\n",
       "        84.,  92.,  80.,  76.,  63.,  82., 151., 309., 485., 562., 555.,\n",
       "       563., 594., 606., 586., 568., 706., 799., 817., 827., 726., 615.,\n",
       "       590., 582., 551., 484., 483., 479., 433., 373., 332., 293., 222.,\n",
       "       230., 250., 261., 262., 248., 263., 251., 231., 175.,  93., 152.,\n",
       "       110., 167., 228., 254., 271., 244., 236., 216., 213., 189., 182.,\n",
       "       173., 171., 190., 168., 107., 115., 125., 137., 156., 165., 161.,\n",
       "       163., 160., 153., 135., 124., 106., 105., 117., 114., 128., 132.,\n",
       "       141., 139.,  95., 113., 121., 133., 131., 146., 140., 145., 112.,\n",
       "       108., 109., 101.])"
      ]
     },
     "execution_count": 127,
     "metadata": {},
     "output_type": "execute_result"
    }
   ],
   "source": [
    "#변수의 자료형을 확인해보세요.\n",
    "pm10 = data['PM10']\n",
    "pm10.unique()\n",
    "#숫자형"
   ]
  },
  {
   "cell_type": "markdown",
   "id": "4812a02e",
   "metadata": {},
   "source": []
  },
  {
   "cell_type": "markdown",
   "id": "52aeba21",
   "metadata": {},
   "source": [
    "3. 변수의 결측치 존재 여부 및 조치방안"
   ]
  },
  {
   "cell_type": "code",
   "execution_count": null,
   "id": "526c0c27",
   "metadata": {},
   "outputs": [],
   "source": [
    "#변수의 결측치 존재 여부를 확인하고, 만약 결측치가 존재하면 어떻게 처리할지 고민해보세요. "
   ]
  },
  {
   "cell_type": "code",
   "execution_count": 128,
   "id": "c57674f8",
   "metadata": {},
   "outputs": [
    {
     "data": {
      "text/plain": [
       "102"
      ]
     },
     "execution_count": 128,
     "metadata": {},
     "output_type": "execute_result"
    }
   ],
   "source": [
    "pm10.isna().sum()"
   ]
  },
  {
   "cell_type": "code",
   "execution_count": 129,
   "id": "5742216a",
   "metadata": {},
   "outputs": [
    {
     "data": {
      "text/plain": [
       "0    42.0\n",
       "1    41.0\n",
       "2    30.0\n",
       "3    27.0\n",
       "4    29.0\n",
       "Name: PM10, dtype: float64"
      ]
     },
     "execution_count": 129,
     "metadata": {},
     "output_type": "execute_result"
    }
   ],
   "source": [
    "pm10.head()"
   ]
  },
  {
   "cell_type": "code",
   "execution_count": 131,
   "id": "45b9e6ff",
   "metadata": {},
   "outputs": [
    {
     "data": {
      "text/plain": [
       "0"
      ]
     },
     "execution_count": 131,
     "metadata": {},
     "output_type": "execute_result"
    }
   ],
   "source": [
    "pm10.fillna(method='ffill', inplace=True)\n",
    "pm10.isna().sum()"
   ]
  },
  {
   "cell_type": "markdown",
   "id": "4b220fa2",
   "metadata": {},
   "source": []
  },
  {
   "cell_type": "markdown",
   "id": "2d9760fd",
   "metadata": {},
   "source": [
    "4. 변수의 기초 통계량 확인"
   ]
  },
  {
   "cell_type": "code",
   "execution_count": null,
   "id": "3ba272ed",
   "metadata": {},
   "outputs": [],
   "source": [
    "#변수의 기초 통계량을 확인해보세요"
   ]
  },
  {
   "cell_type": "code",
   "execution_count": 137,
   "id": "0a848bab",
   "metadata": {},
   "outputs": [
    {
     "data": {
      "text/plain": [
       "count    5827.000000\n",
       "mean       31.813626\n",
       "std        42.659908\n",
       "min         3.000000\n",
       "25%        16.000000\n",
       "50%        25.000000\n",
       "75%        37.000000\n",
       "max       827.000000\n",
       "Name: PM10, dtype: float64"
      ]
     },
     "execution_count": 137,
     "metadata": {},
     "output_type": "execute_result"
    }
   ],
   "source": [
    "pm10.describe()\n",
    "#평균 31.8\n",
    "# 3.0, 16.0, 25.0, 37.0, 827.0"
   ]
  },
  {
   "cell_type": "code",
   "execution_count": 132,
   "id": "1885757b",
   "metadata": {
    "scrolled": true
   },
   "outputs": [
    {
     "data": {
      "image/png": "[encoded data removed]",
      "text/plain": [
       "<Figure size 432x288 with 1 Axes>"
      ]
     },
     "metadata": {
      "needs_background": "light"
     },
     "output_type": "display_data"
    }
   ],
   "source": [
    "plt.hist(pm10)\n",
    "plt.show()"
   ]
  },
  {
   "cell_type": "code",
   "execution_count": 133,
   "id": "8f0208e4",
   "metadata": {},
   "outputs": [
    {
     "data": {
      "image/png": "[encoded data removed]",
      "text/plain": [
       "<Figure size 432x288 with 1 Axes>"
      ]
     },
     "metadata": {
      "needs_background": "light"
     },
     "output_type": "display_data"
    }
   ],
   "source": [
    "sns.kdeplot(pm10)\n",
    "plt.show()"
   ]
  },
  {
   "cell_type": "code",
   "execution_count": 134,
   "id": "d9a0057d",
   "metadata": {},
   "outputs": [
    {
     "name": "stderr",
     "output_type": "stream",
     "text": [
      "C:\\Users\\User\\anaconda3\\lib\\site-packages\\seaborn\\_decorators.py:36: FutureWarning: Pass the following variable as a keyword arg: x. From version 0.12, the only valid positional argument will be `data`, and passing other arguments without an explicit keyword will result in an error or misinterpretation.\n",
      "  warnings.warn(\n"
     ]
    },
    {
     "data": {
      "image/png": "[encoded data removed]",
      "text/plain": [
       "<Figure size 432x288 with 1 Axes>"
      ]
     },
     "metadata": {
      "needs_background": "light"
     },
     "output_type": "display_data"
    }
   ],
   "source": [
    "sns.countplot(pm10)\n",
    "plt.show()"
   ]
  },
  {
   "cell_type": "code",
   "execution_count": 135,
   "id": "89ae24ea",
   "metadata": {},
   "outputs": [
    {
     "data": {
      "image/png": "[encoded data removed]",
      "text/plain": [
       "<Figure size 432x288 with 1 Axes>"
      ]
     },
     "metadata": {
      "needs_background": "light"
     },
     "output_type": "display_data"
    }
   ],
   "source": [
    "plt.boxplot(pm10)\n",
    "plt.show()"
   ]
  },
  {
   "cell_type": "markdown",
   "id": "41b9c5e4",
   "metadata": {},
   "source": []
  },
  {
   "cell_type": "markdown",
   "id": "4eb1b708",
   "metadata": {},
   "source": [
    "5. 변수의 분포 확인"
   ]
  },
  {
   "cell_type": "code",
   "execution_count": null,
   "id": "8449daa6",
   "metadata": {},
   "outputs": [],
   "source": [
    "#변수의 분포를 시각화 라이브러리를 활용해 확인해보세요."
   ]
  },
  {
   "cell_type": "markdown",
   "id": "6efa8ae0",
   "metadata": {},
   "source": []
  },
  {
   "cell_type": "markdown",
   "id": "314284e2",
   "metadata": {},
   "source": [
    "6. 위 정보로 부터 파악한 내용 정리"
   ]
  },
  {
   "cell_type": "code",
   "execution_count": null,
   "id": "55bb2a25",
   "metadata": {},
   "outputs": [],
   "source": [
    "#위 정보로부터 파악하신 내용을 정리해보세요."
   ]
  },
  {
   "cell_type": "markdown",
   "id": "b03951c7",
   "metadata": {},
   "source": [
    "- 1. 보통 평균인 31.8에 치우쳐져 있다. 하지만 간혹 높은날도 며칠 있다ㅑ."
   ]
  },
  {
   "cell_type": "markdown",
   "id": "a1cf88f9",
   "metadata": {},
   "source": []
  },
  {
   "cell_type": "markdown",
   "id": "5341f7c2",
   "metadata": {},
   "source": [
    "7. 추가 분석사항 도출"
   ]
  },
  {
   "cell_type": "code",
   "execution_count": null,
   "id": "ebd1fd48",
   "metadata": {},
   "outputs": [],
   "source": [
    "#추가로 분석을 원하는 부분이 있다면 분석후 정리해보세요."
   ]
  },
  {
   "cell_type": "markdown",
   "id": "7799e7bf",
   "metadata": {},
   "source": [
    "- 1. 이것도 마찬가지로 미세먼지가 높은날 오존이 높고, 그래서 시정거리도 짧은 건지 의심이 든다.\n",
    " 셋 다 대부분의 데이터가 평균 언저리였는데 몇몇 데이터가 아주 높거나 아주 낮기 때문이다."
   ]
  },
  {
   "cell_type": "markdown",
   "id": "36924858",
   "metadata": {},
   "source": []
  },
  {
   "cell_type": "markdown",
   "id": "c559e931",
   "metadata": {},
   "source": [
    "### Feature9 : PM2.5"
   ]
  },
  {
   "cell_type": "markdown",
   "id": "74305cdf",
   "metadata": {},
   "source": [
    "1. 변수가 내포하고 있는 의미\n",
    "- 변수의 의미를 한번 짚고 넘어갑시다. 여러분이 생각하는 이 변수의 의미를 작성해보세요.\n",
    "    - 초미세먼지수치"
   ]
  },
  {
   "cell_type": "markdown",
   "id": "7808070b",
   "metadata": {},
   "source": []
  },
  {
   "cell_type": "markdown",
   "id": "f5598656",
   "metadata": {},
   "source": [
    "2. 변수가 수치형인지 범주형인지\n"
   ]
  },
  {
   "cell_type": "code",
   "execution_count": 138,
   "id": "e32a046b",
   "metadata": {},
   "outputs": [
    {
     "data": {
      "text/plain": [
       "array([ 21.,  13.,  12.,  14.,  10.,   9.,   8.,  16.,  11.,   7.,  18.,\n",
       "        19.,  24.,  22.,  20.,  17.,  15.,   4.,   6.,   5.,   1.,   2.,\n",
       "         3.,  26.,  29.,  28.,  27.,  25.,  35.,  39.,  40.,  44.,  55.,\n",
       "        60.,  62.,  58.,  56.,  54.,  32.,  23.,  31.,  33.,  nan,  30.,\n",
       "        57.,  34.,  37.,  38.,  36.,  43.,  47.,  41.,  42.,  49.,  59.,\n",
       "        52.,  50.,  78.,  88.,  89.,  93.,  94.,  87.,  86., 106., 117.,\n",
       "       116., 115., 102.,  85.,  79.,  77.,  71.,  74.,  73.,  66.,  61.,\n",
       "        53.,  45.,  65.,  67.,  63.,  51.,  46.,  48.,  91.,  99., 121.,\n",
       "       125., 120., 123., 109., 110.,  83.,  90., 111., 107., 114., 101.,\n",
       "       113.,  92.,  70.,  95., 104., 108., 122., 112.,  96.,  81.,  84.,\n",
       "        82.])"
      ]
     },
     "execution_count": 138,
     "metadata": {},
     "output_type": "execute_result"
    }
   ],
   "source": [
    "#변수의 자료형을 확인해보세요.\n",
    "pm2 = data['PM2.5']\n",
    "pm2.unique()"
   ]
  },
  {
   "cell_type": "markdown",
   "id": "4812a02e",
   "metadata": {},
   "source": []
  },
  {
   "cell_type": "markdown",
   "id": "52aeba21",
   "metadata": {},
   "source": [
    "3. 변수의 결측치 존재 여부 및 조치방안"
   ]
  },
  {
   "cell_type": "code",
   "execution_count": null,
   "id": "526c0c27",
   "metadata": {},
   "outputs": [],
   "source": [
    "#변수의 결측치 존재 여부를 확인하고, 만약 결측치가 존재하면 어떻게 처리할지 고민해보세요. "
   ]
  },
  {
   "cell_type": "code",
   "execution_count": 139,
   "id": "91804062",
   "metadata": {},
   "outputs": [
    {
     "data": {
      "text/plain": [
       "95"
      ]
     },
     "execution_count": 139,
     "metadata": {},
     "output_type": "execute_result"
    }
   ],
   "source": [
    "pm2.isna().sum()"
   ]
  },
  {
   "cell_type": "code",
   "execution_count": 141,
   "id": "4b8e4d35",
   "metadata": {},
   "outputs": [
    {
     "data": {
      "text/plain": [
       "0"
      ]
     },
     "execution_count": 141,
     "metadata": {},
     "output_type": "execute_result"
    }
   ],
   "source": [
    "pm2.fillna(method='ffill', inplace=True)\n",
    "pm2.isna().sum()"
   ]
  },
  {
   "cell_type": "markdown",
   "id": "4b220fa2",
   "metadata": {},
   "source": []
  },
  {
   "cell_type": "markdown",
   "id": "2d9760fd",
   "metadata": {},
   "source": [
    "4. 변수의 기초 통계량 확인"
   ]
  },
  {
   "cell_type": "code",
   "execution_count": null,
   "id": "3ba272ed",
   "metadata": {},
   "outputs": [],
   "source": [
    "#변수의 기초 통계량을 확인해보세요"
   ]
  },
  {
   "cell_type": "code",
   "execution_count": 142,
   "id": "0607a50e",
   "metadata": {
    "scrolled": true
   },
   "outputs": [
    {
     "data": {
      "text/plain": [
       "count    5827.000000\n",
       "mean       15.574738\n",
       "std        13.803686\n",
       "min         1.000000\n",
       "25%         7.000000\n",
       "50%        13.000000\n",
       "75%        20.000000\n",
       "max       125.000000\n",
       "Name: PM2.5, dtype: float64"
      ]
     },
     "execution_count": 142,
     "metadata": {},
     "output_type": "execute_result"
    }
   ],
   "source": [
    "pm2.describe()"
   ]
  },
  {
   "cell_type": "code",
   "execution_count": null,
   "id": "19775c49",
   "metadata": {},
   "outputs": [],
   "source": [
    "# 5827개 행\n",
    "# 평균 15.575\n",
    "# 1.0, 7.0, 13.0, 20.0, 125.0, 15.575"
   ]
  },
  {
   "cell_type": "markdown",
   "id": "41b9c5e4",
   "metadata": {},
   "source": []
  },
  {
   "cell_type": "markdown",
   "id": "4eb1b708",
   "metadata": {},
   "source": [
    "5. 변수의 분포 확인"
   ]
  },
  {
   "cell_type": "code",
   "execution_count": null,
   "id": "8449daa6",
   "metadata": {},
   "outputs": [],
   "source": [
    "#변수의 분포를 시각화 라이브러리를 활용해 확인해보세요."
   ]
  },
  {
   "cell_type": "code",
   "execution_count": 146,
   "id": "8ebb458b",
   "metadata": {},
   "outputs": [
    {
     "data": {
      "image/png": "[encoded data removed]",
      "text/plain": [
       "<Figure size 432x288 with 1 Axes>"
      ]
     },
     "metadata": {
      "needs_background": "light"
     },
     "output_type": "display_data"
    }
   ],
   "source": [
    "plt.hist(pm2, bins=50)\n",
    "plt.show()"
   ]
  },
  {
   "cell_type": "code",
   "execution_count": 145,
   "id": "08ec4fb1",
   "metadata": {},
   "outputs": [
    {
     "data": {
      "image/png": "[encoded data removed]",
      "text/plain": [
       "<Figure size 432x288 with 1 Axes>"
      ]
     },
     "metadata": {
      "needs_background": "light"
     },
     "output_type": "display_data"
    }
   ],
   "source": [
    "plt.boxplot(pm2)\n",
    "plt.show()"
   ]
  },
  {
   "cell_type": "markdown",
   "id": "6efa8ae0",
   "metadata": {},
   "source": []
  },
  {
   "cell_type": "markdown",
   "id": "314284e2",
   "metadata": {},
   "source": [
    "6. 위 정보로 부터 파악한 내용 정리"
   ]
  },
  {
   "cell_type": "code",
   "execution_count": null,
   "id": "55bb2a25",
   "metadata": {},
   "outputs": [],
   "source": [
    "#위 정보로부터 파악하신 내용을 정리해보세요."
   ]
  },
  {
   "cell_type": "markdown",
   "id": "a1cf88f9",
   "metadata": {},
   "source": []
  },
  {
   "cell_type": "markdown",
   "id": "5341f7c2",
   "metadata": {},
   "source": [
    "7. 추가 분석사항 도출"
   ]
  },
  {
   "cell_type": "code",
   "execution_count": null,
   "id": "ebd1fd48",
   "metadata": {},
   "outputs": [],
   "source": [
    "#추가로 분석을 원하는 부분이 있다면 분석후 정리해보세요."
   ]
  },
  {
   "cell_type": "markdown",
   "id": "3c6ffc0c",
   "metadata": {},
   "source": [
    "- 1. 미세먼지, 초미세먼지, 오존, 시정이 관련있을 것 같다. 미세먼지가 높은날 초미세먼지도 높고 오존도 높고 시정은 낮을 것 같다."
   ]
  },
  {
   "cell_type": "markdown",
   "id": "36924858",
   "metadata": {},
   "source": []
  },
  {
   "cell_type": "markdown",
   "id": "13cf9192",
   "metadata": {},
   "source": [
    "### Count (Target)"
   ]
  },
  {
   "cell_type": "markdown",
   "id": "74305cdf",
   "metadata": {},
   "source": [
    "1. 변수가 내포하고 있는 의미\n",
    "- 변수의 의미를 한번 짚고 넘어갑시다. 여러분이 생각하는 이 변수의 의미를 작성해보세요."
   ]
  },
  {
   "cell_type": "markdown",
   "id": "100ab318",
   "metadata": {},
   "source": [
    "- 1. 그 시간에 따릉이를 대여한 횟수"
   ]
  },
  {
   "cell_type": "markdown",
   "id": "7808070b",
   "metadata": {},
   "source": []
  },
  {
   "cell_type": "markdown",
   "id": "f5598656",
   "metadata": {},
   "source": [
    "2. 변수가 수치형인지 범주형인지\n"
   ]
  },
  {
   "cell_type": "code",
   "execution_count": 147,
   "id": "e32a046b",
   "metadata": {},
   "outputs": [
    {
     "data": {
      "text/plain": [
       "<bound method Series.unique of 0        46\n",
       "1        40\n",
       "2        31\n",
       "3        12\n",
       "4        30\n",
       "       ... \n",
       "5822    273\n",
       "5823    228\n",
       "5824    215\n",
       "5825    125\n",
       "5826     95\n",
       "Name: count, Length: 5827, dtype: int64>"
      ]
     },
     "execution_count": 147,
     "metadata": {},
     "output_type": "execute_result"
    }
   ],
   "source": [
    "#변수의 자료형을 확인해보세요.\n",
    "count = data['count']\n",
    "count.unique"
   ]
  },
  {
   "cell_type": "markdown",
   "id": "4812a02e",
   "metadata": {},
   "source": []
  },
  {
   "cell_type": "markdown",
   "id": "52aeba21",
   "metadata": {},
   "source": [
    "3. 변수의 결측치 존재 여부 및 조치방안"
   ]
  },
  {
   "cell_type": "code",
   "execution_count": null,
   "id": "526c0c27",
   "metadata": {},
   "outputs": [],
   "source": [
    "#변수의 결측치 존재 여부를 확인하고, 만약 결측치가 존재하면 어떻게 처리할지 고민해보세요. "
   ]
  },
  {
   "cell_type": "code",
   "execution_count": 148,
   "id": "a4d0acbf",
   "metadata": {},
   "outputs": [
    {
     "data": {
      "text/plain": [
       "0"
      ]
     },
     "execution_count": 148,
     "metadata": {},
     "output_type": "execute_result"
    }
   ],
   "source": [
    "count.isna().sum()"
   ]
  },
  {
   "cell_type": "markdown",
   "id": "4b220fa2",
   "metadata": {},
   "source": []
  },
  {
   "cell_type": "markdown",
   "id": "2d9760fd",
   "metadata": {},
   "source": [
    "4. 변수의 기초 통계량 확인"
   ]
  },
  {
   "cell_type": "code",
   "execution_count": null,
   "id": "3ba272ed",
   "metadata": {},
   "outputs": [],
   "source": [
    "#변수의 기초 통계량을 확인해보세요"
   ]
  },
  {
   "cell_type": "code",
   "execution_count": 149,
   "id": "daa5f48b",
   "metadata": {},
   "outputs": [
    {
     "data": {
      "text/plain": [
       "count    5827.000000\n",
       "mean      215.117899\n",
       "std       185.972900\n",
       "min         1.000000\n",
       "25%        53.000000\n",
       "50%       186.000000\n",
       "75%       315.000000\n",
       "max      1746.000000\n",
       "Name: count, dtype: float64"
      ]
     },
     "execution_count": 149,
     "metadata": {},
     "output_type": "execute_result"
    }
   ],
   "source": [
    "count.describe()\n",
    "#평균 215\n",
    "# 1.0 , 53.0, 186.0, 315.0, 1746.0"
   ]
  },
  {
   "cell_type": "markdown",
   "id": "41b9c5e4",
   "metadata": {},
   "source": []
  },
  {
   "cell_type": "markdown",
   "id": "4eb1b708",
   "metadata": {},
   "source": [
    "5. 변수의 분포 확인"
   ]
  },
  {
   "cell_type": "code",
   "execution_count": null,
   "id": "8449daa6",
   "metadata": {},
   "outputs": [],
   "source": [
    "#변수의 분포를 시각화 라이브러리를 활용해 확인해보세요."
   ]
  },
  {
   "cell_type": "code",
   "execution_count": 151,
   "id": "6b0a7727",
   "metadata": {
    "scrolled": true
   },
   "outputs": [
    {
     "data": {
      "image/png": "[encoded data removed]",
      "text/plain": [
       "<Figure size 432x288 with 1 Axes>"
      ]
     },
     "metadata": {
      "needs_background": "light"
     },
     "output_type": "display_data"
    }
   ],
   "source": [
    "plt.hist(count, bins=100)\n",
    "plt.show()"
   ]
  },
  {
   "cell_type": "code",
   "execution_count": 152,
   "id": "25799451",
   "metadata": {},
   "outputs": [
    {
     "name": "stderr",
     "output_type": "stream",
     "text": [
      "C:\\Users\\User\\anaconda3\\lib\\site-packages\\seaborn\\_decorators.py:36: FutureWarning: Pass the following variable as a keyword arg: x. From version 0.12, the only valid positional argument will be `data`, and passing other arguments without an explicit keyword will result in an error or misinterpretation.\n",
      "  warnings.warn(\n"
     ]
    },
    {
     "data": {
      "image/png": "[encoded data removed]",
      "text/plain": [
       "<Figure size 432x288 with 1 Axes>"
      ]
     },
     "metadata": {
      "needs_background": "light"
     },
     "output_type": "display_data"
    }
   ],
   "source": [
    "sns.countplot(count)\n",
    "plt.show()"
   ]
  },
  {
   "cell_type": "markdown",
   "id": "6efa8ae0",
   "metadata": {},
   "source": []
  },
  {
   "cell_type": "markdown",
   "id": "314284e2",
   "metadata": {},
   "source": [
    "6. 위 정보로 부터 파악한 내용 정리"
   ]
  },
  {
   "cell_type": "code",
   "execution_count": null,
   "id": "55bb2a25",
   "metadata": {},
   "outputs": [],
   "source": [
    "#위 정보로부터 파악하신 내용을 정리해보세요."
   ]
  },
  {
   "cell_type": "markdown",
   "id": "170e44aa",
   "metadata": {},
   "source": [
    "- 1. 한번도 안빌린 시간도 많고, 100번 이전인 시간도 많다.\n",
    "- 2. 대여 횟수가 250번 이후로는 현저히 떨어진다.\n",
    "- 3. 엄청 많이 빌린 시간도 있다. 1750"
   ]
  },
  {
   "cell_type": "markdown",
   "id": "a1cf88f9",
   "metadata": {},
   "source": []
  },
  {
   "cell_type": "markdown",
   "id": "5341f7c2",
   "metadata": {},
   "source": [
    "7. 추가 분석사항 도출"
   ]
  },
  {
   "cell_type": "code",
   "execution_count": null,
   "id": "ebd1fd48",
   "metadata": {},
   "outputs": [],
   "source": [
    "#추가로 분석을 원하는 부분이 있다면 분석후 정리해보세요."
   ]
  },
  {
   "cell_type": "markdown",
   "id": "7a36e0bd",
   "metadata": {},
   "source": [
    "- 1. 따릉이를 많이 빌릴 때(평균 이상)는 날씨가 좋은(비가 안오고 습도가 낮고 미세먼지 없고)날만 빌렸는지?"
   ]
  },
  {
   "cell_type": "markdown",
   "id": "36924858",
   "metadata": {},
   "source": []
  },
  {
   "cell_type": "markdown",
   "id": "daa6458d",
   "metadata": {},
   "source": [
    "### 4.이변량 분석 \n",
    "* 자료의 종류에 맞게 X --> Y 에 대해서 그래프(시각화)와 가설검정(수치화)를 수행하고 결과를 평가합니다.\n",
    "* 가설검정시 다음의 항목을 참조하여 수행합니다.\n",
    "    * 적절한 유의수준\n",
    "    * 숫자 --> 숫자 : 상관분석\n",
    "    * 범주 --> 범주 : 카이제곱검정\n",
    "    * 범주 --> 숫자 : t검정, 분산분석\n",
    "    * 숫자 --> 범주 : 로지스틱 회귀모형을 통해, 회귀계수의 P.value로 검정을 수행합니다."
   ]
  },
  {
   "cell_type": "markdown",
   "id": "88936c1d",
   "metadata": {},
   "source": [
    "#### (1) 범주형 Feature --> 숫자형 Y (따릉이 대여 Count)\n",
    "\n",
    "<font color=\"green\">* 모든 범주형 Feature에 대해서 Y와 비교하여 차트를 그리고 수치화 하시오.</font>\n",
    "\n",
    "\n",
    "        1. 시각화 : 그래프를 활용한 데이터 분석\n",
    "        2. 수치화 : t-test, anova\n",
    "        3. 관계 평가 (가설 검정)"
   ]
  },
  {
   "cell_type": "markdown",
   "id": "47716272",
   "metadata": {},
   "source": [
    "1. 강수 여부와 따릉이 대여량간 이변량 분석"
   ]
  },
  {
   "cell_type": "code",
   "execution_count": 9,
   "id": "9254ad7a",
   "metadata": {},
   "outputs": [],
   "source": [
    "#데이터 타입에 주의하여 이변량 분석을 해보세요"
   ]
  },
  {
   "cell_type": "code",
   "execution_count": 154,
   "id": "3c44d3d9",
   "metadata": {
    "scrolled": true
   },
   "outputs": [
    {
     "data": {
      "image/png": "[encoded data removed]",
      "text/plain": [
       "<Figure size 432x288 with 1 Axes>"
      ]
     },
     "metadata": {
      "needs_background": "light"
     },
     "output_type": "display_data"
    }
   ],
   "source": [
    "sns.barplot(x=prec, y=count)\n",
    "plt.grid() #grid있으면 좀 더 보기 용이함.\n",
    "plt.show()"
   ]
  },
  {
   "cell_type": "code",
   "execution_count": 155,
   "id": "9abce514",
   "metadata": {
    "scrolled": true
   },
   "outputs": [
    {
     "name": "stderr",
     "output_type": "stream",
     "text": [
      "C:\\Users\\User\\anaconda3\\lib\\site-packages\\seaborn\\_decorators.py:36: FutureWarning: Pass the following variables as keyword args: x, y. From version 0.12, the only valid positional argument will be `data`, and passing other arguments without an explicit keyword will result in an error or misinterpretation.\n",
      "  warnings.warn(\n"
     ]
    },
    {
     "data": {
      "image/png": "[encoded data removed]",
      "text/plain": [
       "<Figure size 432x288 with 1 Axes>"
      ]
     },
     "metadata": {
      "needs_background": "light"
     },
     "output_type": "display_data"
    }
   ],
   "source": [
    "sns.boxplot(prec, count)\n",
    "plt.show()"
   ]
  },
  {
   "cell_type": "code",
   "execution_count": 160,
   "id": "7809b575",
   "metadata": {},
   "outputs": [
    {
     "data": {
      "text/plain": [
       "Ttest_indResult(statistic=-88.2666171422794, pvalue=0.0)"
      ]
     },
     "execution_count": 160,
     "metadata": {},
     "output_type": "execute_result"
    }
   ],
   "source": [
    "spst.ttest_ind(prec, count)"
   ]
  },
  {
   "cell_type": "markdown",
   "id": "6163f710",
   "metadata": {},
   "source": []
  },
  {
   "cell_type": "markdown",
   "id": "9c44a546",
   "metadata": {},
   "source": [
    "#### (2) 숫자형 Feature --> 숫자형 Y (따릉이 대여 Count)\n",
    "\n",
    "<font color=\"green\">* 모든 숫자형 Feature에 대해서 Y와 비교하여 차트를 그리고 수치화 하시오.  </font>\n",
    "\n",
    "\n",
    "        1. 시각화 : 그래프를 활용한 데이터 분석\n",
    "        2. 수치화 : 상관분석\n",
    "        3. 관계 평가 (가설 검정)"
   ]
  },
  {
   "cell_type": "markdown",
   "id": "1c216b73",
   "metadata": {},
   "source": [
    "2. 시간대별 데이터와 따릉이 대여량간 분석"
   ]
  },
  {
   "cell_type": "code",
   "execution_count": 10,
   "id": "a1f26005",
   "metadata": {},
   "outputs": [],
   "source": [
    "#데이터 타입에 주의하여 이변량 분석을 해보세요"
   ]
  },
  {
   "cell_type": "code",
   "execution_count": 161,
   "id": "abcc8aa8",
   "metadata": {},
   "outputs": [
    {
     "data": {
      "image/png": "[encoded data removed]",
      "text/plain": [
       "<Figure size 432x288 with 1 Axes>"
      ]
     },
     "metadata": {
      "needs_background": "light"
     },
     "output_type": "display_data"
    }
   ],
   "source": [
    "plt.scatter(hour, count)\n",
    "plt.show()"
   ]
  },
  {
   "cell_type": "code",
   "execution_count": 162,
   "id": "74e5992e",
   "metadata": {
    "scrolled": true
   },
   "outputs": [
    {
     "data": {
      "image/png": "[encoded data removed]",
      "text/plain": [
       "<Figure size 432x432 with 3 Axes>"
      ]
     },
     "metadata": {
      "needs_background": "light"
     },
     "output_type": "display_data"
    }
   ],
   "source": [
    "sns.jointplot(x=hour, y=count)\n",
    "plt.show()"
   ]
  },
  {
   "cell_type": "code",
   "execution_count": 163,
   "id": "b8480a5c",
   "metadata": {},
   "outputs": [
    {
     "data": {
      "text/plain": [
       "(0.5864350283919393, 0.0)"
      ]
     },
     "execution_count": 163,
     "metadata": {},
     "output_type": "execute_result"
    }
   ],
   "source": [
    "spst.pearsonr(hour, count)"
   ]
  },
  {
   "cell_type": "markdown",
   "id": "0bd93a0e",
   "metadata": {},
   "source": []
  },
  {
   "cell_type": "markdown",
   "id": "b1d1461d",
   "metadata": {},
   "source": [
    "3. 온도 데이터와 따릉이 대여량간 분석"
   ]
  },
  {
   "cell_type": "code",
   "execution_count": 11,
   "id": "2fcef2cb",
   "metadata": {},
   "outputs": [],
   "source": [
    "#데이터 타입에 주의하여 이변량 분석을 해보세요"
   ]
  },
  {
   "cell_type": "code",
   "execution_count": 164,
   "id": "6b534c18",
   "metadata": {
    "scrolled": true
   },
   "outputs": [
    {
     "data": {
      "image/png": "[encoded data removed]",
      "text/plain": [
       "<Figure size 432x288 with 1 Axes>"
      ]
     },
     "metadata": {
      "needs_background": "light"
     },
     "output_type": "display_data"
    }
   ],
   "source": [
    "plt.scatter(tmp, count)\n",
    "plt.show()"
   ]
  },
  {
   "cell_type": "code",
   "execution_count": 165,
   "id": "1a506c72",
   "metadata": {},
   "outputs": [
    {
     "data": {
      "image/png": "[encoded data removed]",
      "text/plain": [
       "<Figure size 432x432 with 3 Axes>"
      ]
     },
     "metadata": {
      "needs_background": "light"
     },
     "output_type": "display_data"
    }
   ],
   "source": [
    "sns.jointplot(x=tmp, y=count)\n",
    "plt.show()"
   ]
  },
  {
   "cell_type": "code",
   "execution_count": 166,
   "id": "f9300606",
   "metadata": {},
   "outputs": [
    {
     "data": {
      "text/plain": [
       "(0.2771692363089791, 2.9405165551619465e-103)"
      ]
     },
     "execution_count": 166,
     "metadata": {},
     "output_type": "execute_result"
    }
   ],
   "source": [
    "spst.pearsonr(tmp, count)"
   ]
  },
  {
   "cell_type": "markdown",
   "id": "7b32f45e",
   "metadata": {},
   "source": []
  },
  {
   "cell_type": "markdown",
   "id": "2af73f1b",
   "metadata": {},
   "source": [
    "4. 풍속 데이터와 따릉이 대여량간 분석"
   ]
  },
  {
   "cell_type": "code",
   "execution_count": 12,
   "id": "c0075623",
   "metadata": {},
   "outputs": [],
   "source": [
    "#데이터 타입에 주의하여 이변량 분석을 해보세요"
   ]
  },
  {
   "cell_type": "code",
   "execution_count": 167,
   "id": "99244b26",
   "metadata": {},
   "outputs": [
    {
     "data": {
      "image/png": "[encoded data removed]",
      "text/plain": [
       "<Figure size 432x288 with 1 Axes>"
      ]
     },
     "metadata": {
      "needs_background": "light"
     },
     "output_type": "display_data"
    }
   ],
   "source": [
    "plt.scatter(wind, count)\n",
    "plt.show()"
   ]
  },
  {
   "cell_type": "code",
   "execution_count": 168,
   "id": "39d793ec",
   "metadata": {},
   "outputs": [
    {
     "name": "stderr",
     "output_type": "stream",
     "text": [
      "C:\\Users\\User\\anaconda3\\lib\\site-packages\\seaborn\\_decorators.py:36: FutureWarning: Pass the following variables as keyword args: x, y. From version 0.12, the only valid positional argument will be `data`, and passing other arguments without an explicit keyword will result in an error or misinterpretation.\n",
      "  warnings.warn(\n"
     ]
    },
    {
     "data": {
      "image/png": "[encoded data removed]",
      "text/plain": [
       "<Figure size 432x432 with 3 Axes>"
      ]
     },
     "metadata": {
      "needs_background": "light"
     },
     "output_type": "display_data"
    }
   ],
   "source": [
    "sns.jointplot(wind, count)\n",
    "plt.show()"
   ]
  },
  {
   "cell_type": "code",
   "execution_count": 169,
   "id": "bb6a4e59",
   "metadata": {},
   "outputs": [
    {
     "data": {
      "text/plain": [
       "(0.22372189900674888, 5.2433176782994606e-67)"
      ]
     },
     "execution_count": 169,
     "metadata": {},
     "output_type": "execute_result"
    }
   ],
   "source": [
    "spst.pearsonr(wind, count)"
   ]
  },
  {
   "cell_type": "markdown",
   "id": "3573ed0e",
   "metadata": {},
   "source": []
  },
  {
   "cell_type": "markdown",
   "id": "7f65d800",
   "metadata": {},
   "source": [
    "5. 습도 데이터와 따릉이 대여량간 분석"
   ]
  },
  {
   "cell_type": "code",
   "execution_count": 13,
   "id": "77bd6696",
   "metadata": {},
   "outputs": [],
   "source": [
    "#데이터 타입에 주의하여 이변량 분석을 해보세요"
   ]
  },
  {
   "cell_type": "code",
   "execution_count": 170,
   "id": "71fbe6c0",
   "metadata": {},
   "outputs": [
    {
     "data": {
      "image/png": "[encoded data removed]",
      "text/plain": [
       "<Figure size 432x288 with 1 Axes>"
      ]
     },
     "metadata": {
      "needs_background": "light"
     },
     "output_type": "display_data"
    }
   ],
   "source": [
    "plt.scatter(humidity, count)\n",
    "plt.show()"
   ]
  },
  {
   "cell_type": "code",
   "execution_count": 171,
   "id": "371cdca9",
   "metadata": {},
   "outputs": [
    {
     "data": {
      "text/plain": [
       "(-0.4789554265904137, 0.0)"
      ]
     },
     "execution_count": 171,
     "metadata": {},
     "output_type": "execute_result"
    }
   ],
   "source": [
    "spst.pearsonr(humidity, count)"
   ]
  },
  {
   "cell_type": "markdown",
   "id": "bba4e9c6",
   "metadata": {},
   "source": []
  },
  {
   "cell_type": "markdown",
   "id": "c46fccb5",
   "metadata": {},
   "source": [
    "6. 시정 데이터와 따릉이 대여량간 분석"
   ]
  },
  {
   "cell_type": "code",
   "execution_count": 14,
   "id": "4deb3345",
   "metadata": {},
   "outputs": [],
   "source": [
    "#데이터 타입에 주의하여 이변량 분석을 해보세요"
   ]
  },
  {
   "cell_type": "code",
   "execution_count": 172,
   "id": "312d021a",
   "metadata": {},
   "outputs": [
    {
     "data": {
      "image/png": "[encoded data removed]",
      "text/plain": [
       "<Figure size 432x288 with 1 Axes>"
      ]
     },
     "metadata": {
      "needs_background": "light"
     },
     "output_type": "display_data"
    }
   ],
   "source": [
    "plt.scatter(visibility, count)\n",
    "plt.show()"
   ]
  },
  {
   "cell_type": "code",
   "execution_count": 173,
   "id": "94169513",
   "metadata": {},
   "outputs": [
    {
     "data": {
      "text/plain": [
       "(0.26582778327488765, 7.876003852900128e-95)"
      ]
     },
     "execution_count": 173,
     "metadata": {},
     "output_type": "execute_result"
    }
   ],
   "source": [
    "spst.pearsonr(visibility, count)"
   ]
  },
  {
   "cell_type": "markdown",
   "id": "dfa0ed85",
   "metadata": {},
   "source": []
  },
  {
   "cell_type": "markdown",
   "id": "3859ef18",
   "metadata": {},
   "source": [
    "7. 오존 데이터와 따릉이 대여량간 분석"
   ]
  },
  {
   "cell_type": "code",
   "execution_count": 15,
   "id": "33f2a061",
   "metadata": {},
   "outputs": [],
   "source": [
    "#데이터 타입에 주의하여 이변량 분석을 해보세요"
   ]
  },
  {
   "cell_type": "code",
   "execution_count": 174,
   "id": "42492f25",
   "metadata": {},
   "outputs": [
    {
     "data": {
      "image/png": "[encoded data removed]",
      "text/plain": [
       "<Figure size 432x288 with 1 Axes>"
      ]
     },
     "metadata": {
      "needs_background": "light"
     },
     "output_type": "display_data"
    }
   ],
   "source": [
    "plt.scatter(ozone, count)\n",
    "plt.show()"
   ]
  },
  {
   "cell_type": "code",
   "execution_count": 175,
   "id": "eb9cf8e3",
   "metadata": {},
   "outputs": [
    {
     "data": {
      "text/plain": [
       "(0.31752578860554814, 1.2344468900121318e-136)"
      ]
     },
     "execution_count": 175,
     "metadata": {},
     "output_type": "execute_result"
    }
   ],
   "source": [
    "spst.pearsonr(ozone, count)"
   ]
  },
  {
   "cell_type": "markdown",
   "id": "7feca2c1",
   "metadata": {},
   "source": []
  },
  {
   "cell_type": "markdown",
   "id": "486db6db",
   "metadata": {},
   "source": [
    "8. 미세먼지 농도 데이터와 따릉이 대여량간 분석"
   ]
  },
  {
   "cell_type": "code",
   "execution_count": 16,
   "id": "d69657aa",
   "metadata": {},
   "outputs": [],
   "source": [
    "#데이터 타입에 주의하여 이변량 분석을 해보세요"
   ]
  },
  {
   "cell_type": "code",
   "execution_count": 176,
   "id": "ef963d1a",
   "metadata": {},
   "outputs": [
    {
     "data": {
      "image/png": "[encoded data removed]",
      "text/plain": [
       "<Figure size 432x288 with 1 Axes>"
      ]
     },
     "metadata": {
      "needs_background": "light"
     },
     "output_type": "display_data"
    }
   ],
   "source": [
    "plt.scatter(pm10, count)\n",
    "plt.show()"
   ]
  },
  {
   "cell_type": "code",
   "execution_count": 177,
   "id": "0314f8ac",
   "metadata": {},
   "outputs": [
    {
     "data": {
      "text/plain": [
       "(0.027814670759485925, 0.033738582237285375)"
      ]
     },
     "execution_count": 177,
     "metadata": {},
     "output_type": "execute_result"
    }
   ],
   "source": [
    "spst.pearsonr(pm10, count)"
   ]
  },
  {
   "cell_type": "markdown",
   "id": "c22fd35d",
   "metadata": {},
   "source": []
  },
  {
   "cell_type": "markdown",
   "id": "72c0cb40",
   "metadata": {},
   "source": [
    "9. 초미세먼지 농도 데이터와 따릉이 대여량간 분석"
   ]
  },
  {
   "cell_type": "code",
   "execution_count": 17,
   "id": "6751a594",
   "metadata": {},
   "outputs": [],
   "source": [
    "#데이터 타입에 주의하여 이변량 분석을 해보세요"
   ]
  },
  {
   "cell_type": "code",
   "execution_count": 178,
   "id": "764d8644",
   "metadata": {},
   "outputs": [
    {
     "data": {
      "image/png": "[encoded data removed]",
      "text/plain": [
       "<Figure size 432x288 with 1 Axes>"
      ]
     },
     "metadata": {
      "needs_background": "light"
     },
     "output_type": "display_data"
    }
   ],
   "source": [
    "plt.scatter(pm2, count)\n",
    "plt.show()"
   ]
  },
  {
   "cell_type": "code",
   "execution_count": 179,
   "id": "adcbe3f1",
   "metadata": {},
   "outputs": [
    {
     "data": {
      "text/plain": [
       "(0.03573659099060327, 0.0063674947679621735)"
      ]
     },
     "execution_count": 179,
     "metadata": {},
     "output_type": "execute_result"
    }
   ],
   "source": [
    "spst.pearsonr(pm2, count)"
   ]
  },
  {
   "cell_type": "markdown",
   "id": "f2aac6f1",
   "metadata": {},
   "source": []
  },
  {
   "cell_type": "markdown",
   "id": "98aeed75",
   "metadata": {},
   "source": [
    "### 5. 가설 검정"
   ]
  },
  {
   "cell_type": "code",
   "execution_count": 429,
   "id": "505922c0",
   "metadata": {},
   "outputs": [],
   "source": [
    "hour_bef_ozone = ozone.shift(1)\n"
   ]
  },
  {
   "cell_type": "code",
   "execution_count": 432,
   "id": "b7bbbef0",
   "metadata": {},
   "outputs": [
    {
     "data": {
      "text/plain": [
       "count    5826.000000\n",
       "mean        0.031594\n",
       "std         0.018301\n",
       "min         0.001000\n",
       "25%         0.019000\n",
       "50%         0.030000\n",
       "75%         0.041000\n",
       "max         0.137000\n",
       "Name: ozone, dtype: float64"
      ]
     },
     "execution_count": 432,
     "metadata": {},
     "output_type": "execute_result"
    }
   ],
   "source": [
    "hour_bef_ozone.describe()"
   ]
  },
  {
   "cell_type": "code",
   "execution_count": 434,
   "id": "755f9083",
   "metadata": {},
   "outputs": [
    {
     "data": {
      "text/plain": [
       "0.137"
      ]
     },
     "execution_count": 434,
     "metadata": {},
     "output_type": "execute_result"
    }
   ],
   "source": [
    "hour_bef_ozone.max()"
   ]
  },
  {
   "cell_type": "code",
   "execution_count": 433,
   "id": "96a49331",
   "metadata": {},
   "outputs": [
    {
     "data": {
      "text/plain": [
       "1"
      ]
     },
     "execution_count": 433,
     "metadata": {},
     "output_type": "execute_result"
    }
   ],
   "source": [
    "hour_bef_ozone.isna().sum()"
   ]
  },
  {
   "cell_type": "code",
   "execution_count": 431,
   "id": "f3f74aa6",
   "metadata": {},
   "outputs": [
    {
     "data": {
      "image/png": "[encoded data removed]",
      "text/plain": [
       "<Figure size 432x288 with 1 Axes>"
      ]
     },
     "metadata": {
      "needs_background": "light"
     },
     "output_type": "display_data"
    }
   ],
   "source": [
    "plt.hist(hour_bef_ozone, bins=50)\n",
    "plt.show()"
   ]
  },
  {
   "cell_type": "markdown",
   "id": "53842aa3",
   "metadata": {},
   "source": [
    "#### 1: 1시간 전 강우 여부와 따릉이 간에는 연관성이 없다."
   ]
  },
  {
   "cell_type": "code",
   "execution_count": 180,
   "id": "71cf6fdd",
   "metadata": {},
   "outputs": [],
   "source": [
    "data['prec_1hEarly'] = prec.shift(1)"
   ]
  },
  {
   "cell_type": "code",
   "execution_count": 183,
   "id": "b49c2862",
   "metadata": {},
   "outputs": [],
   "source": [
    "data['prec_1hEarly'].fillna(method='bfill', inplace=True)"
   ]
  },
  {
   "cell_type": "code",
   "execution_count": 384,
   "id": "2ee998e3",
   "metadata": {},
   "outputs": [
    {
     "name": "stderr",
     "output_type": "stream",
     "text": [
      "C:\\Users\\User\\anaconda3\\lib\\site-packages\\seaborn\\_decorators.py:36: FutureWarning: Pass the following variables as keyword args: x, y. From version 0.12, the only valid positional argument will be `data`, and passing other arguments without an explicit keyword will result in an error or misinterpretation.\n",
      "  warnings.warn(\n"
     ]
    },
    {
     "data": {
      "image/png": "[encoded data removed]",
      "text/plain": [
       "<Figure size 432x288 with 1 Axes>"
      ]
     },
     "metadata": {
      "needs_background": "light"
     },
     "output_type": "display_data"
    }
   ],
   "source": [
    "sns.barplot(data['prec_1hEarly'], prec)\n",
    "plt.show()"
   ]
  },
  {
   "cell_type": "code",
   "execution_count": 390,
   "id": "7ffb8b37",
   "metadata": {
    "scrolled": true
   },
   "outputs": [
    {
     "data": {
      "text/plain": [
       "Ttest_indResult(statistic=-88.26661714227939, pvalue=0.0)"
      ]
     },
     "execution_count": 390,
     "metadata": {},
     "output_type": "execute_result"
    }
   ],
   "source": [
    "spst.ttest_ind(data['prec_1hEarly'], count)"
   ]
  },
  {
   "cell_type": "markdown",
   "id": "35d95de5",
   "metadata": {},
   "source": [
    "#### 2: 하루 기준 시정이 높을수록 따릉이 대여량이 높을 것이다."
   ]
  },
  {
   "cell_type": "code",
   "execution_count": 363,
   "id": "45bbe022",
   "metadata": {},
   "outputs": [
    {
     "data": {
      "text/plain": [
       "array(['2021-04-01T00:00:00.000000000', '2021-04-02T00:00:00.000000000',\n",
       "       '2021-04-03T00:00:00.000000000', '2021-04-04T00:00:00.000000000',\n",
       "       '2021-04-05T00:00:00.000000000', '2021-04-06T00:00:00.000000000',\n",
       "       '2021-04-07T00:00:00.000000000', '2021-04-08T00:00:00.000000000',\n",
       "       '2021-04-09T00:00:00.000000000', '2021-04-10T00:00:00.000000000',\n",
       "       '2021-04-11T00:00:00.000000000', '2021-04-12T00:00:00.000000000',\n",
       "       '2021-04-13T00:00:00.000000000', '2021-04-14T00:00:00.000000000',\n",
       "       '2021-04-15T00:00:00.000000000', '2021-04-16T00:00:00.000000000',\n",
       "       '2021-04-17T00:00:00.000000000', '2021-04-18T00:00:00.000000000',\n",
       "       '2021-04-19T00:00:00.000000000', '2021-04-20T00:00:00.000000000',\n",
       "       '2021-04-21T00:00:00.000000000', '2021-04-22T00:00:00.000000000',\n",
       "       '2021-04-23T00:00:00.000000000', '2021-04-24T00:00:00.000000000',\n",
       "       '2021-04-25T00:00:00.000000000', '2021-04-26T00:00:00.000000000',\n",
       "       '2021-04-27T00:00:00.000000000', '2021-04-28T00:00:00.000000000',\n",
       "       '2021-04-29T00:00:00.000000000', '2021-04-30T00:00:00.000000000',\n",
       "       '2021-05-01T00:00:00.000000000', '2021-05-02T00:00:00.000000000',\n",
       "       '2021-05-03T00:00:00.000000000', '2021-05-04T00:00:00.000000000',\n",
       "       '2021-05-05T00:00:00.000000000', '2021-05-06T00:00:00.000000000',\n",
       "       '2021-05-07T00:00:00.000000000', '2021-05-08T00:00:00.000000000',\n",
       "       '2021-05-09T00:00:00.000000000', '2021-05-10T00:00:00.000000000',\n",
       "       '2021-05-11T00:00:00.000000000', '2021-05-12T00:00:00.000000000',\n",
       "       '2021-05-13T00:00:00.000000000', '2021-05-14T00:00:00.000000000',\n",
       "       '2021-05-15T00:00:00.000000000', '2021-05-16T00:00:00.000000000',\n",
       "       '2021-05-17T00:00:00.000000000', '2021-05-18T00:00:00.000000000',\n",
       "       '2021-05-19T00:00:00.000000000', '2021-05-20T00:00:00.000000000',\n",
       "       '2021-05-21T00:00:00.000000000', '2021-05-22T00:00:00.000000000',\n",
       "       '2021-05-23T00:00:00.000000000', '2021-05-24T00:00:00.000000000',\n",
       "       '2021-05-25T00:00:00.000000000', '2021-05-26T00:00:00.000000000',\n",
       "       '2021-05-27T00:00:00.000000000', '2021-05-28T00:00:00.000000000',\n",
       "       '2021-05-29T00:00:00.000000000', '2021-05-30T00:00:00.000000000',\n",
       "       '2021-05-31T00:00:00.000000000', '2021-06-01T00:00:00.000000000',\n",
       "       '2021-06-02T00:00:00.000000000', '2021-06-03T00:00:00.000000000',\n",
       "       '2021-06-04T00:00:00.000000000', '2021-06-05T00:00:00.000000000',\n",
       "       '2021-06-06T00:00:00.000000000', '2021-06-07T00:00:00.000000000',\n",
       "       '2021-06-08T00:00:00.000000000', '2021-06-09T00:00:00.000000000',\n",
       "       '2021-06-10T00:00:00.000000000', '2021-06-11T00:00:00.000000000',\n",
       "       '2021-06-12T00:00:00.000000000', '2021-06-13T00:00:00.000000000',\n",
       "       '2021-06-14T00:00:00.000000000', '2021-06-15T00:00:00.000000000',\n",
       "       '2021-06-16T00:00:00.000000000', '2021-06-17T00:00:00.000000000',\n",
       "       '2021-06-18T00:00:00.000000000', '2021-06-19T00:00:00.000000000',\n",
       "       '2021-06-20T00:00:00.000000000', '2021-06-21T00:00:00.000000000',\n",
       "       '2021-06-22T00:00:00.000000000', '2021-06-23T00:00:00.000000000',\n",
       "       '2021-06-24T00:00:00.000000000', '2021-06-25T00:00:00.000000000',\n",
       "       '2021-06-26T00:00:00.000000000', '2021-06-27T00:00:00.000000000',\n",
       "       '2021-06-28T00:00:00.000000000', '2021-06-29T00:00:00.000000000',\n",
       "       '2021-06-30T00:00:00.000000000', '2021-07-01T00:00:00.000000000',\n",
       "       '2021-07-02T00:00:00.000000000', '2021-07-03T00:00:00.000000000',\n",
       "       '2021-07-04T00:00:00.000000000', '2021-07-05T00:00:00.000000000',\n",
       "       '2021-07-06T00:00:00.000000000', '2021-07-07T00:00:00.000000000',\n",
       "       '2021-07-08T00:00:00.000000000', '2021-07-09T00:00:00.000000000',\n",
       "       '2021-07-10T00:00:00.000000000', '2021-07-11T00:00:00.000000000',\n",
       "       '2021-07-12T00:00:00.000000000', '2021-07-13T00:00:00.000000000',\n",
       "       '2021-07-14T00:00:00.000000000', '2021-07-15T00:00:00.000000000',\n",
       "       '2021-07-16T00:00:00.000000000', '2021-07-17T00:00:00.000000000',\n",
       "       '2021-07-18T00:00:00.000000000', '2021-07-19T00:00:00.000000000',\n",
       "       '2021-07-20T00:00:00.000000000', '2021-07-21T00:00:00.000000000',\n",
       "       '2021-07-22T00:00:00.000000000', '2021-07-23T00:00:00.000000000',\n",
       "       '2021-07-24T00:00:00.000000000', '2021-07-25T00:00:00.000000000',\n",
       "       '2021-07-26T00:00:00.000000000', '2021-07-27T00:00:00.000000000',\n",
       "       '2021-07-28T00:00:00.000000000', '2021-07-29T00:00:00.000000000',\n",
       "       '2021-07-30T00:00:00.000000000', '2021-07-31T00:00:00.000000000',\n",
       "       '2021-08-01T00:00:00.000000000', '2021-08-02T00:00:00.000000000',\n",
       "       '2021-08-03T00:00:00.000000000', '2021-08-04T00:00:00.000000000',\n",
       "       '2021-08-05T00:00:00.000000000', '2021-08-06T00:00:00.000000000',\n",
       "       '2021-08-07T00:00:00.000000000', '2021-08-08T00:00:00.000000000',\n",
       "       '2021-08-09T00:00:00.000000000', '2021-08-10T00:00:00.000000000',\n",
       "       '2021-08-11T00:00:00.000000000', '2021-08-12T00:00:00.000000000',\n",
       "       '2021-08-13T00:00:00.000000000', '2021-08-14T00:00:00.000000000',\n",
       "       '2021-08-15T00:00:00.000000000', '2021-08-16T00:00:00.000000000',\n",
       "       '2021-08-17T00:00:00.000000000', '2021-08-18T00:00:00.000000000',\n",
       "       '2021-08-19T00:00:00.000000000', '2021-08-20T00:00:00.000000000',\n",
       "       '2021-08-21T00:00:00.000000000', '2021-08-22T00:00:00.000000000',\n",
       "       '2021-08-23T00:00:00.000000000', '2021-08-24T00:00:00.000000000',\n",
       "       '2021-08-25T00:00:00.000000000', '2021-08-26T00:00:00.000000000',\n",
       "       '2021-08-27T00:00:00.000000000', '2021-08-28T00:00:00.000000000',\n",
       "       '2021-08-29T00:00:00.000000000', '2021-08-30T00:00:00.000000000',\n",
       "       '2021-08-31T00:00:00.000000000', '2021-09-01T00:00:00.000000000',\n",
       "       '2021-09-02T00:00:00.000000000', '2021-09-03T00:00:00.000000000',\n",
       "       '2021-09-04T00:00:00.000000000', '2021-09-05T00:00:00.000000000',\n",
       "       '2021-09-06T00:00:00.000000000', '2021-09-07T00:00:00.000000000',\n",
       "       '2021-09-08T00:00:00.000000000', '2021-09-09T00:00:00.000000000',\n",
       "       '2021-09-10T00:00:00.000000000', '2021-09-11T00:00:00.000000000',\n",
       "       '2021-09-12T00:00:00.000000000', '2021-09-13T00:00:00.000000000',\n",
       "       '2021-09-14T00:00:00.000000000', '2021-09-15T00:00:00.000000000',\n",
       "       '2021-09-16T00:00:00.000000000', '2021-09-17T00:00:00.000000000',\n",
       "       '2021-09-18T00:00:00.000000000', '2021-09-19T00:00:00.000000000',\n",
       "       '2021-09-20T00:00:00.000000000', '2021-09-21T00:00:00.000000000',\n",
       "       '2021-09-22T00:00:00.000000000', '2021-09-23T00:00:00.000000000',\n",
       "       '2021-09-24T00:00:00.000000000', '2021-09-25T00:00:00.000000000',\n",
       "       '2021-09-26T00:00:00.000000000', '2021-09-27T00:00:00.000000000',\n",
       "       '2021-09-28T00:00:00.000000000', '2021-09-29T00:00:00.000000000',\n",
       "       '2021-09-30T00:00:00.000000000', '2021-10-01T00:00:00.000000000',\n",
       "       '2021-10-02T00:00:00.000000000', '2021-10-03T00:00:00.000000000',\n",
       "       '2021-10-04T00:00:00.000000000', '2021-10-05T00:00:00.000000000',\n",
       "       '2021-10-06T00:00:00.000000000', '2021-10-07T00:00:00.000000000',\n",
       "       '2021-10-08T00:00:00.000000000', '2021-10-09T00:00:00.000000000',\n",
       "       '2021-10-10T00:00:00.000000000', '2021-10-11T00:00:00.000000000',\n",
       "       '2021-10-12T00:00:00.000000000', '2021-10-13T00:00:00.000000000',\n",
       "       '2021-10-14T00:00:00.000000000', '2021-10-15T00:00:00.000000000',\n",
       "       '2021-10-16T00:00:00.000000000', '2021-10-17T00:00:00.000000000',\n",
       "       '2021-10-18T00:00:00.000000000', '2021-10-19T00:00:00.000000000',\n",
       "       '2021-10-20T00:00:00.000000000', '2021-10-21T00:00:00.000000000',\n",
       "       '2021-10-22T00:00:00.000000000', '2021-10-23T00:00:00.000000000',\n",
       "       '2021-10-24T00:00:00.000000000', '2021-10-25T00:00:00.000000000',\n",
       "       '2021-10-26T00:00:00.000000000', '2021-10-27T00:00:00.000000000',\n",
       "       '2021-10-28T00:00:00.000000000', '2021-10-29T00:00:00.000000000',\n",
       "       '2021-10-30T00:00:00.000000000', '2021-10-31T00:00:00.000000000',\n",
       "       '2021-11-01T00:00:00.000000000', '2021-11-02T00:00:00.000000000',\n",
       "       '2021-11-03T00:00:00.000000000', '2021-11-04T00:00:00.000000000',\n",
       "       '2021-11-05T00:00:00.000000000', '2021-11-06T00:00:00.000000000',\n",
       "       '2021-11-07T00:00:00.000000000', '2021-11-08T00:00:00.000000000',\n",
       "       '2021-11-09T00:00:00.000000000', '2021-11-10T00:00:00.000000000',\n",
       "       '2021-11-11T00:00:00.000000000', '2021-11-12T00:00:00.000000000',\n",
       "       '2021-11-13T00:00:00.000000000', '2021-11-14T00:00:00.000000000',\n",
       "       '2021-11-15T00:00:00.000000000', '2021-11-16T00:00:00.000000000',\n",
       "       '2021-11-17T00:00:00.000000000', '2021-11-18T00:00:00.000000000',\n",
       "       '2021-11-19T00:00:00.000000000', '2021-11-20T00:00:00.000000000',\n",
       "       '2021-11-21T00:00:00.000000000', '2021-11-22T00:00:00.000000000',\n",
       "       '2021-11-23T00:00:00.000000000', '2021-11-24T00:00:00.000000000',\n",
       "       '2021-11-25T00:00:00.000000000', '2021-11-26T00:00:00.000000000',\n",
       "       '2021-11-27T00:00:00.000000000', '2021-11-28T00:00:00.000000000',\n",
       "       '2021-11-29T00:00:00.000000000', '2021-11-30T00:00:00.000000000'],\n",
       "      dtype='datetime64[ns]')"
      ]
     },
     "execution_count": 363,
     "metadata": {},
     "output_type": "execute_result"
    }
   ],
   "source": [
    "data['date'].unique()"
   ]
  },
  {
   "cell_type": "code",
   "execution_count": 364,
   "id": "2ce9adb3",
   "metadata": {},
   "outputs": [],
   "source": [
    "oneday_visibility = visibility.rolling(24).mean()\n",
    "oneday_rental = count.rolling(24).mean()\n"
   ]
  },
  {
   "cell_type": "code",
   "execution_count": 365,
   "id": "0309e336",
   "metadata": {
    "scrolled": false
   },
   "outputs": [],
   "source": [
    "oneday_visibility.fillna(0, inplace=True)"
   ]
  },
  {
   "cell_type": "code",
   "execution_count": 366,
   "id": "16f7d488",
   "metadata": {},
   "outputs": [
    {
     "data": {
      "text/plain": [
       "0"
      ]
     },
     "execution_count": 366,
     "metadata": {},
     "output_type": "execute_result"
    }
   ],
   "source": [
    "oneday_visibility.isna().sum()"
   ]
  },
  {
   "cell_type": "code",
   "execution_count": 367,
   "id": "4ca6eaf4",
   "metadata": {},
   "outputs": [],
   "source": [
    "oneday_rental.fillna(0, inplace=True)"
   ]
  },
  {
   "cell_type": "code",
   "execution_count": 368,
   "id": "285875ee",
   "metadata": {},
   "outputs": [
    {
     "data": {
      "text/plain": [
       "0"
      ]
     },
     "execution_count": 368,
     "metadata": {},
     "output_type": "execute_result"
    }
   ],
   "source": [
    "oneday_rental.isna().sum()"
   ]
  },
  {
   "cell_type": "code",
   "execution_count": 369,
   "id": "18019b17",
   "metadata": {
    "scrolled": false
   },
   "outputs": [
    {
     "data": {
      "text/plain": [
       "(0.42131071115393937, 1.6729329474838885e-249)"
      ]
     },
     "execution_count": 369,
     "metadata": {},
     "output_type": "execute_result"
    }
   ],
   "source": [
    "spst.pearsonr(oneday_visibility, oneday_rental)"
   ]
  },
  {
   "cell_type": "code",
   "execution_count": 370,
   "id": "8be70007",
   "metadata": {},
   "outputs": [],
   "source": [
    "oneday_ozone = ozone.rolling(24).mean()\n",
    "oneday_pm10 = pm10.rolling(24).mean()\n",
    "oneday_pm2 = pm2.rolling(24).mean()"
   ]
  },
  {
   "cell_type": "code",
   "execution_count": 371,
   "id": "248a76c6",
   "metadata": {},
   "outputs": [],
   "source": [
    "oneday_ozone.fillna(0, inplace=True)\n",
    "oneday_pm10.fillna(0, inplace=True)\n",
    "oneday_pm2.fillna(0, inplace=True)"
   ]
  },
  {
   "cell_type": "code",
   "execution_count": 372,
   "id": "2f8581a1",
   "metadata": {},
   "outputs": [
    {
     "data": {
      "text/plain": [
       "5827"
      ]
     },
     "execution_count": 372,
     "metadata": {},
     "output_type": "execute_result"
    }
   ],
   "source": [
    "len(oneday_rental)"
   ]
  },
  {
   "cell_type": "code",
   "execution_count": 373,
   "id": "1c2f27bb",
   "metadata": {},
   "outputs": [],
   "source": [
    "oneday_date = data['date'].rolling(24)"
   ]
  },
  {
   "cell_type": "code",
   "execution_count": 375,
   "id": "385850c6",
   "metadata": {},
   "outputs": [
    {
     "ename": "AttributeError",
     "evalue": "'Rolling' object has no attribute 'isna'",
     "output_type": "error",
     "traceback": [
      "\u001b[1;31m---------------------------------------------------------------------------\u001b[0m",
      "\u001b[1;31mAttributeError\u001b[0m                            Traceback (most recent call last)",
      "\u001b[1;32m<ipython-input-375-c7f6215069e7>\u001b[0m in \u001b[0;36m<module>\u001b[1;34m\u001b[0m\n\u001b[1;32m----> 1\u001b[1;33m \u001b[0moneday_date\u001b[0m\u001b[1;33m.\u001b[0m\u001b[0misna\u001b[0m\u001b[1;33m(\u001b[0m\u001b[1;33m)\u001b[0m\u001b[1;33m.\u001b[0m\u001b[0msum\u001b[0m\u001b[1;33m(\u001b[0m\u001b[1;33m)\u001b[0m\u001b[1;33m\u001b[0m\u001b[1;33m\u001b[0m\u001b[0m\n\u001b[0m",
      "\u001b[1;32m~\\anaconda3\\lib\\site-packages\\pandas\\core\\window\\rolling.py\u001b[0m in \u001b[0;36m__getattr__\u001b[1;34m(self, attr)\u001b[0m\n\u001b[0;32m    206\u001b[0m             \u001b[1;32mreturn\u001b[0m \u001b[0mself\u001b[0m\u001b[1;33m[\u001b[0m\u001b[0mattr\u001b[0m\u001b[1;33m]\u001b[0m\u001b[1;33m\u001b[0m\u001b[1;33m\u001b[0m\u001b[0m\n\u001b[0;32m    207\u001b[0m \u001b[1;33m\u001b[0m\u001b[0m\n\u001b[1;32m--> 208\u001b[1;33m         raise AttributeError(\n\u001b[0m\u001b[0;32m    209\u001b[0m             \u001b[1;34mf\"'{type(self).__name__}' object has no attribute '{attr}'\"\u001b[0m\u001b[1;33m\u001b[0m\u001b[1;33m\u001b[0m\u001b[0m\n\u001b[0;32m    210\u001b[0m         )\n",
      "\u001b[1;31mAttributeError\u001b[0m: 'Rolling' object has no attribute 'isna'"
     ]
    }
   ],
   "source": [
    "oneday_date.isna().sum()"
   ]
  },
  {
   "cell_type": "code",
   "execution_count": 345,
   "id": "d9fa3234",
   "metadata": {
    "scrolled": true
   },
   "outputs": [
    {
     "data": {
      "text/plain": [
       "(0.10595246923248897, 5.824594631536784e-16)"
      ]
     },
     "execution_count": 345,
     "metadata": {},
     "output_type": "execute_result"
    }
   ],
   "source": [
    "spst.pearsonr(oneday_visibility, oneday_ozone)"
   ]
  },
  {
   "cell_type": "code",
   "execution_count": 346,
   "id": "117b5564",
   "metadata": {},
   "outputs": [
    {
     "data": {
      "text/plain": [
       "(-0.37752667311158306, 5.202002179949386e-196)"
      ]
     },
     "execution_count": 346,
     "metadata": {},
     "output_type": "execute_result"
    }
   ],
   "source": [
    "spst.pearsonr(oneday_visibility, oneday_pm10)"
   ]
  },
  {
   "cell_type": "code",
   "execution_count": 347,
   "id": "9ad02495",
   "metadata": {
    "scrolled": true
   },
   "outputs": [
    {
     "data": {
      "text/plain": [
       "(-0.5401664869146847, 0.0)"
      ]
     },
     "execution_count": 347,
     "metadata": {},
     "output_type": "execute_result"
    }
   ],
   "source": [
    "spst.pearsonr(oneday_visibility, oneday_pm2)"
   ]
  },
  {
   "cell_type": "code",
   "execution_count": 348,
   "id": "793b080a",
   "metadata": {},
   "outputs": [],
   "source": [
    "days = data['date'].unique()"
   ]
  },
  {
   "cell_type": "code",
   "execution_count": 349,
   "id": "544b54df",
   "metadata": {},
   "outputs": [
    {
     "data": {
      "text/plain": [
       "244"
      ]
     },
     "execution_count": 349,
     "metadata": {},
     "output_type": "execute_result"
    }
   ],
   "source": [
    "len(days)"
   ]
  },
  {
   "cell_type": "markdown",
   "id": "8706392a",
   "metadata": {},
   "source": [
    "#### 3. 현재 시간을 기준으로 전후로 3시간동안 비가 온 적이 있다면 따릉이 대여량이 낮을 것이다."
   ]
  },
  {
   "cell_type": "code",
   "execution_count": 206,
   "id": "abb2ff80",
   "metadata": {},
   "outputs": [],
   "source": [
    "data['3hrsPrec'] = prec.rolling(3, min_periods=1).max()"
   ]
  },
  {
   "cell_type": "code",
   "execution_count": 207,
   "id": "a55d8805",
   "metadata": {
    "scrolled": true
   },
   "outputs": [
    {
     "data": {
      "text/html": [
       "<div>\n",
       "<style scoped>\n",
       "    .dataframe tbody tr th:only-of-type {\n",
       "        vertical-align: middle;\n",
       "    }\n",
       "\n",
       "    .dataframe tbody tr th {\n",
       "        vertical-align: top;\n",
       "    }\n",
       "\n",
       "    .dataframe thead th {\n",
       "        text-align: right;\n",
       "    }\n",
       "</style>\n",
       "<table border=\"1\" class=\"dataframe\">\n",
       "  <thead>\n",
       "    <tr style=\"text-align: right;\">\n",
       "      <th></th>\n",
       "      <th>date</th>\n",
       "      <th>hour</th>\n",
       "      <th>PM10</th>\n",
       "      <th>PM2.5</th>\n",
       "      <th>ozone</th>\n",
       "      <th>temperature</th>\n",
       "      <th>precipitation</th>\n",
       "      <th>windspeed</th>\n",
       "      <th>humidity</th>\n",
       "      <th>visibility</th>\n",
       "      <th>count</th>\n",
       "      <th>prec_1hEarly</th>\n",
       "      <th>3hrsPrec</th>\n",
       "    </tr>\n",
       "  </thead>\n",
       "  <tbody>\n",
       "    <tr>\n",
       "      <th>0</th>\n",
       "      <td>2021-04-01</td>\n",
       "      <td>1</td>\n",
       "      <td>42.0</td>\n",
       "      <td>21.0</td>\n",
       "      <td>0.002</td>\n",
       "      <td>13.1</td>\n",
       "      <td>0</td>\n",
       "      <td>1.4</td>\n",
       "      <td>49</td>\n",
       "      <td>2000</td>\n",
       "      <td>46</td>\n",
       "      <td>0.0</td>\n",
       "      <td>0.0</td>\n",
       "    </tr>\n",
       "    <tr>\n",
       "      <th>1</th>\n",
       "      <td>2021-04-01</td>\n",
       "      <td>2</td>\n",
       "      <td>41.0</td>\n",
       "      <td>21.0</td>\n",
       "      <td>0.003</td>\n",
       "      <td>12.4</td>\n",
       "      <td>0</td>\n",
       "      <td>2.1</td>\n",
       "      <td>53</td>\n",
       "      <td>2000</td>\n",
       "      <td>40</td>\n",
       "      <td>0.0</td>\n",
       "      <td>0.0</td>\n",
       "    </tr>\n",
       "    <tr>\n",
       "      <th>2</th>\n",
       "      <td>2021-04-01</td>\n",
       "      <td>3</td>\n",
       "      <td>30.0</td>\n",
       "      <td>13.0</td>\n",
       "      <td>0.023</td>\n",
       "      <td>13.1</td>\n",
       "      <td>0</td>\n",
       "      <td>3.4</td>\n",
       "      <td>43</td>\n",
       "      <td>2000</td>\n",
       "      <td>31</td>\n",
       "      <td>0.0</td>\n",
       "      <td>0.0</td>\n",
       "    </tr>\n",
       "    <tr>\n",
       "      <th>3</th>\n",
       "      <td>2021-04-01</td>\n",
       "      <td>4</td>\n",
       "      <td>27.0</td>\n",
       "      <td>12.0</td>\n",
       "      <td>0.028</td>\n",
       "      <td>13.0</td>\n",
       "      <td>0</td>\n",
       "      <td>3.1</td>\n",
       "      <td>44</td>\n",
       "      <td>2000</td>\n",
       "      <td>12</td>\n",
       "      <td>0.0</td>\n",
       "      <td>0.0</td>\n",
       "    </tr>\n",
       "    <tr>\n",
       "      <th>4</th>\n",
       "      <td>2021-04-01</td>\n",
       "      <td>5</td>\n",
       "      <td>29.0</td>\n",
       "      <td>14.0</td>\n",
       "      <td>0.008</td>\n",
       "      <td>13.0</td>\n",
       "      <td>0</td>\n",
       "      <td>2.9</td>\n",
       "      <td>44</td>\n",
       "      <td>2000</td>\n",
       "      <td>30</td>\n",
       "      <td>0.0</td>\n",
       "      <td>0.0</td>\n",
       "    </tr>\n",
       "    <tr>\n",
       "      <th>...</th>\n",
       "      <td>...</td>\n",
       "      <td>...</td>\n",
       "      <td>...</td>\n",
       "      <td>...</td>\n",
       "      <td>...</td>\n",
       "      <td>...</td>\n",
       "      <td>...</td>\n",
       "      <td>...</td>\n",
       "      <td>...</td>\n",
       "      <td>...</td>\n",
       "      <td>...</td>\n",
       "      <td>...</td>\n",
       "      <td>...</td>\n",
       "    </tr>\n",
       "    <tr>\n",
       "      <th>5822</th>\n",
       "      <td>2021-11-29</td>\n",
       "      <td>20</td>\n",
       "      <td>74.0</td>\n",
       "      <td>58.0</td>\n",
       "      <td>0.002</td>\n",
       "      <td>9.3</td>\n",
       "      <td>0</td>\n",
       "      <td>0.3</td>\n",
       "      <td>66</td>\n",
       "      <td>1193</td>\n",
       "      <td>273</td>\n",
       "      <td>0.0</td>\n",
       "      <td>0.0</td>\n",
       "    </tr>\n",
       "    <tr>\n",
       "      <th>5823</th>\n",
       "      <td>2021-11-29</td>\n",
       "      <td>21</td>\n",
       "      <td>65.0</td>\n",
       "      <td>56.0</td>\n",
       "      <td>0.002</td>\n",
       "      <td>8.4</td>\n",
       "      <td>0</td>\n",
       "      <td>2.0</td>\n",
       "      <td>70</td>\n",
       "      <td>1233</td>\n",
       "      <td>228</td>\n",
       "      <td>0.0</td>\n",
       "      <td>0.0</td>\n",
       "    </tr>\n",
       "    <tr>\n",
       "      <th>5824</th>\n",
       "      <td>2021-11-29</td>\n",
       "      <td>22</td>\n",
       "      <td>51.0</td>\n",
       "      <td>41.0</td>\n",
       "      <td>0.002</td>\n",
       "      <td>8.6</td>\n",
       "      <td>0</td>\n",
       "      <td>1.9</td>\n",
       "      <td>70</td>\n",
       "      <td>1250</td>\n",
       "      <td>215</td>\n",
       "      <td>0.0</td>\n",
       "      <td>0.0</td>\n",
       "    </tr>\n",
       "    <tr>\n",
       "      <th>5825</th>\n",
       "      <td>2021-11-29</td>\n",
       "      <td>23</td>\n",
       "      <td>43.0</td>\n",
       "      <td>35.0</td>\n",
       "      <td>0.001</td>\n",
       "      <td>8.2</td>\n",
       "      <td>0</td>\n",
       "      <td>2.1</td>\n",
       "      <td>71</td>\n",
       "      <td>1262</td>\n",
       "      <td>125</td>\n",
       "      <td>0.0</td>\n",
       "      <td>0.0</td>\n",
       "    </tr>\n",
       "    <tr>\n",
       "      <th>5826</th>\n",
       "      <td>2021-11-30</td>\n",
       "      <td>0</td>\n",
       "      <td>39.0</td>\n",
       "      <td>31.0</td>\n",
       "      <td>0.004</td>\n",
       "      <td>7.9</td>\n",
       "      <td>0</td>\n",
       "      <td>2.3</td>\n",
       "      <td>71</td>\n",
       "      <td>1483</td>\n",
       "      <td>95</td>\n",
       "      <td>0.0</td>\n",
       "      <td>0.0</td>\n",
       "    </tr>\n",
       "  </tbody>\n",
       "</table>\n",
       "<p>5827 rows × 13 columns</p>\n",
       "</div>"
      ],
      "text/plain": [
       "            date  hour  PM10  PM2.5  ozone  temperature  precipitation  \\\n",
       "0     2021-04-01     1  42.0   21.0  0.002         13.1              0   \n",
       "1     2021-04-01     2  41.0   21.0  0.003         12.4              0   \n",
       "2     2021-04-01     3  30.0   13.0  0.023         13.1              0   \n",
       "3     2021-04-01     4  27.0   12.0  0.028         13.0              0   \n",
       "4     2021-04-01     5  29.0   14.0  0.008         13.0              0   \n",
       "...          ...   ...   ...    ...    ...          ...            ...   \n",
       "5822  2021-11-29    20  74.0   58.0  0.002          9.3              0   \n",
       "5823  2021-11-29    21  65.0   56.0  0.002          8.4              0   \n",
       "5824  2021-11-29    22  51.0   41.0  0.002          8.6              0   \n",
       "5825  2021-11-29    23  43.0   35.0  0.001          8.2              0   \n",
       "5826  2021-11-30     0  39.0   31.0  0.004          7.9              0   \n",
       "\n",
       "      windspeed  humidity  visibility  count  prec_1hEarly  3hrsPrec  \n",
       "0           1.4        49        2000     46           0.0       0.0  \n",
       "1           2.1        53        2000     40           0.0       0.0  \n",
       "2           3.4        43        2000     31           0.0       0.0  \n",
       "3           3.1        44        2000     12           0.0       0.0  \n",
       "4           2.9        44        2000     30           0.0       0.0  \n",
       "...         ...       ...         ...    ...           ...       ...  \n",
       "5822        0.3        66        1193    273           0.0       0.0  \n",
       "5823        2.0        70        1233    228           0.0       0.0  \n",
       "5824        1.9        70        1250    215           0.0       0.0  \n",
       "5825        2.1        71        1262    125           0.0       0.0  \n",
       "5826        2.3        71        1483     95           0.0       0.0  \n",
       "\n",
       "[5827 rows x 13 columns]"
      ]
     },
     "execution_count": 207,
     "metadata": {},
     "output_type": "execute_result"
    }
   ],
   "source": [
    "data"
   ]
  },
  {
   "cell_type": "code",
   "execution_count": 208,
   "id": "239c0fd5",
   "metadata": {
    "scrolled": true
   },
   "outputs": [
    {
     "data": {
      "text/plain": [
       "Ttest_indResult(statistic=-88.25101036221811, pvalue=0.0)"
      ]
     },
     "execution_count": 208,
     "metadata": {},
     "output_type": "execute_result"
    }
   ],
   "source": [
    "spst.ttest_ind(data['3hrsPrec'], count)"
   ]
  },
  {
   "cell_type": "markdown",
   "id": "8aacc086",
   "metadata": {},
   "source": [
    "#### 4. 하루 평균 기온이 26도보다 높거나 15도보다 낮을 경우 따릉이 대여량이 낮아질 것이다."
   ]
  },
  {
   "cell_type": "code",
   "execution_count": 243,
   "id": "d6247802",
   "metadata": {},
   "outputs": [],
   "source": [
    "def sol(tmp):\n",
    "    if (tmp>=26) | (tmp<=15):\n",
    "        return 1\n",
    "    else: return 0\n",
    "    \n",
    "tmpComp = [sol(temper) for temper in tmp]"
   ]
  },
  {
   "cell_type": "code",
   "execution_count": 237,
   "id": "3e5c18e9",
   "metadata": {},
   "outputs": [],
   "source": [
    "tmpComp = pd.Series(tmpComp)"
   ]
  },
  {
   "cell_type": "code",
   "execution_count": 397,
   "id": "7bbd9cc1",
   "metadata": {},
   "outputs": [
    {
     "data": {
      "text/plain": [
       "0"
      ]
     },
     "execution_count": 397,
     "metadata": {},
     "output_type": "execute_result"
    }
   ],
   "source": [
    "data['count'].isna().sum()"
   ]
  },
  {
   "cell_type": "code",
   "execution_count": 399,
   "id": "b999f5eb",
   "metadata": {},
   "outputs": [
    {
     "data": {
      "text/plain": [
       "5827"
      ]
     },
     "execution_count": 399,
     "metadata": {},
     "output_type": "execute_result"
    }
   ],
   "source": [
    "data['count'].count()"
   ]
  },
  {
   "cell_type": "code",
   "execution_count": 400,
   "id": "76b2a578",
   "metadata": {},
   "outputs": [
    {
     "data": {
      "text/plain": [
       "Ttest_indResult(statistic=16.25169133948118, pvalue=4.06318882142521e-58)"
      ]
     },
     "execution_count": 400,
     "metadata": {},
     "output_type": "execute_result"
    }
   ],
   "source": [
    "discomfort = train.loc[train['discomfort']==1, 'count']\n",
    "comfort = train.loc[train['discomfort']==0, 'count']\n",
    "\n",
    "spst.ttest_ind(discomfort, comfort)\n"
   ]
  },
  {
   "cell_type": "code",
   "execution_count": 405,
   "id": "16335cec",
   "metadata": {},
   "outputs": [],
   "source": [
    "import datetime   \n",
    "data['day'] = pd.to_datetime(data['date'])\n",
    "data['day'] = data['day'].dt.day_name()\n",
    "ddr_go = data[(data['hour']>=17) & (data['hour']<21)]\n",
    "ddr_go_out = ddr_go[(ddr_go['day']!='Saturday') & (ddr_go['day']!='Sunday')]\n",
    "ddr_go_data = ddr_go.groupby('day')['count'].sum()\n"
   ]
  },
  {
   "cell_type": "code",
   "execution_count": 406,
   "id": "cfa89ebc",
   "metadata": {},
   "outputs": [
    {
     "data": {
      "image/png": "[encoded data removed]",
      "text/plain": [
       "<Figure size 432x288 with 1 Axes>"
      ]
     },
     "metadata": {
      "needs_background": "light"
     },
     "output_type": "display_data"
    }
   ],
   "source": [
    "sns.barplot(x=ddr_go['day'], y=ddr_go['count'])\n",
    "plt.grid() #grid있으면 좀 더 보기 용이함.\n",
    "plt.show()"
   ]
  },
  {
   "cell_type": "code",
   "execution_count": 244,
   "id": "6aa579ad",
   "metadata": {
    "scrolled": true
   },
   "outputs": [
    {
     "data": {
      "text/plain": [
       "Ttest_indResult(statistic=-88.09880808025714, pvalue=0.0)"
      ]
     },
     "execution_count": 244,
     "metadata": {},
     "output_type": "execute_result"
    }
   ],
   "source": [
    "spst.ttest_ind(tmpComp, count)"
   ]
  },
  {
   "cell_type": "code",
   "execution_count": null,
   "id": "fa9cb7d4",
   "metadata": {},
   "outputs": [],
   "source": []
  },
  {
   "cell_type": "code",
   "execution_count": 315,
   "id": "24e2adff",
   "metadata": {},
   "outputs": [
    {
     "data": {
      "image/png": "[encoded data removed]",
      "text/plain": [
       "<Figure size 432x288 with 1 Axes>"
      ]
     },
     "metadata": {
      "needs_background": "light"
     },
     "output_type": "display_data"
    }
   ],
   "source": [
    "sns.histplot(x=data['date'], hue = tmpComp)\n",
    "plt.xticks(rotation=60)\n",
    "plt.show()"
   ]
  },
  {
   "cell_type": "markdown",
   "id": "99163783",
   "metadata": {},
   "source": [
    "#### 5. 사람이 불쾌지수를 느끼는 조건  <p>1.8 * 섭씨온도-0.55(1-습도)(1.8*온도-26)+32</p>   수식이 75이상이라면 따릉이 대여량이 낮아질 것이다.\n"
   ]
  },
  {
   "cell_type": "code",
   "execution_count": 250,
   "id": "c08f80de",
   "metadata": {},
   "outputs": [
    {
     "data": {
      "text/plain": [
       "date             2021-04-01\n",
       "hour                      1\n",
       "PM10                   42.0\n",
       "PM2.5                  21.0\n",
       "ozone                 0.002\n",
       "temperature            13.1\n",
       "precipitation             0\n",
       "windspeed               1.4\n",
       "humidity                 49\n",
       "visibility             2000\n",
       "count                    46\n",
       "prec_1hEarly            0.0\n",
       "3hrsPrec                0.0\n",
       "Name: 0, dtype: object"
      ]
     },
     "execution_count": 250,
     "metadata": {},
     "output_type": "execute_result"
    }
   ],
   "source": [
    "data.iloc[0]"
   ]
  },
  {
   "cell_type": "code",
   "execution_count": 253,
   "id": "cc086a52",
   "metadata": {},
   "outputs": [],
   "source": [
    "data['discomfort'] = 1.8*data['temperature'] - 0.55*(1-data['humidity'])*(1.8*data['temperature']-26) + 32"
   ]
  },
  {
   "cell_type": "code",
   "execution_count": 376,
   "id": "eb91e66b",
   "metadata": {},
   "outputs": [],
   "source": [
    "discom = data['temperature']-0.55*(1-0.01*data['humidity'])*(data['temperature']-14.5)\n"
   ]
  },
  {
   "cell_type": "code",
   "execution_count": 380,
   "id": "acdfbc60",
   "metadata": {
    "scrolled": true
   },
   "outputs": [
    {
     "data": {
      "image/png": "[encoded data removed]",
      "text/plain": [
       "<Figure size 432x288 with 1 Axes>"
      ]
     },
     "metadata": {
      "needs_background": "light"
     },
     "output_type": "display_data"
    }
   ],
   "source": [
    "plt.hist(discom, bins=50)\n",
    "plt.show()"
   ]
  },
  {
   "cell_type": "code",
   "execution_count": 381,
   "id": "93631624",
   "metadata": {
    "scrolled": true
   },
   "outputs": [
    {
     "data": {
      "image/png": "[encoded data removed]",
      "text/plain": [
       "<Figure size 432x288 with 1 Axes>"
      ]
     },
     "metadata": {
      "needs_background": "light"
     },
     "output_type": "display_data"
    }
   ],
   "source": [
    "sns.kdeplot(discom)\n",
    "plt.show()"
   ]
  },
  {
   "cell_type": "code",
   "execution_count": 383,
   "id": "bd0d0506",
   "metadata": {},
   "outputs": [
    {
     "data": {
      "image/png": "[encoded data removed]",
      "text/plain": [
       "<Figure size 432x288 with 1 Axes>"
      ]
     },
     "metadata": {
      "needs_background": "light"
     },
     "output_type": "display_data"
    }
   ],
   "source": [
    "plt.boxplot(discom, vert=False)\n",
    "plt.show()"
   ]
  },
  {
   "cell_type": "code",
   "execution_count": 255,
   "id": "8c5d88f5",
   "metadata": {},
   "outputs": [],
   "source": [
    "def fillD(dis):\n",
    "    if dis>=75:\n",
    "        return 1\n",
    "    else:\n",
    "        return 0\n",
    "\n",
    "data['discomfort'] = [fillD(d) for d in data['discomfort']]"
   ]
  },
  {
   "cell_type": "code",
   "execution_count": 258,
   "id": "c8de04a9",
   "metadata": {
    "scrolled": true
   },
   "outputs": [
    {
     "data": {
      "text/plain": [
       "Ttest_indResult(statistic=-87.99842514402472, pvalue=0.0)"
      ]
     },
     "execution_count": 258,
     "metadata": {},
     "output_type": "execute_result"
    }
   ],
   "source": [
    "spst.ttest_ind(train['discomfort'], train['count'])"
   ]
  },
  {
   "cell_type": "code",
   "execution_count": 385,
   "id": "a4ef6121",
   "metadata": {
    "scrolled": false
   },
   "outputs": [
    {
     "data": {
      "image/png": "[encoded data removed]",
      "text/plain": [
       "<Figure size 432x288 with 1 Axes>"
      ]
     },
     "metadata": {
      "needs_background": "light"
     },
     "output_type": "display_data"
    }
   ],
   "source": [
    "plt.scatter(data['discomfort'], data['count'])\n",
    "plt.show()"
   ]
  },
  {
   "cell_type": "code",
   "execution_count": 388,
   "id": "db044232",
   "metadata": {},
   "outputs": [
    {
     "data": {
      "image/png": "[encoded data removed]",
      "text/plain": [
       "<Figure size 432x288 with 1 Axes>"
      ]
     },
     "metadata": {
      "needs_background": "light"
     },
     "output_type": "display_data"
    }
   ],
   "source": [
    "sns.histplot(x='count', data = data, hue = 'discomfort')\n",
    "plt.xticks(rotation=60)\n",
    "plt.show()"
   ]
  },
  {
   "cell_type": "code",
   "execution_count": 389,
   "id": "995d319b",
   "metadata": {},
   "outputs": [
    {
     "data": {
      "image/png": "[encoded data removed]",
      "text/plain": [
       "<Figure size 432x288 with 1 Axes>"
      ]
     },
     "metadata": {
      "needs_background": "light"
     },
     "output_type": "display_data"
    }
   ],
   "source": [
    "sns.barplot(x=\"discomfort\", y=\"count\", data=data)\n",
    "plt.grid() #grid있으면 좀 더 보기 용이함.\n",
    "plt.show()"
   ]
  },
  {
   "cell_type": "code",
   "execution_count": 387,
   "id": "4c7d142c",
   "metadata": {},
   "outputs": [
    {
     "ename": "KeyboardInterrupt",
     "evalue": "",
     "output_type": "error",
     "traceback": [
      "\u001b[1;31m---------------------------------------------------------------------------\u001b[0m",
      "\u001b[1;31mKeyboardInterrupt\u001b[0m                         Traceback (most recent call last)",
      "\u001b[1;32m<ipython-input-387-62a70523029e>\u001b[0m in \u001b[0;36m<module>\u001b[1;34m\u001b[0m\n\u001b[0;32m      1\u001b[0m \u001b[0msns\u001b[0m\u001b[1;33m.\u001b[0m\u001b[0mhistplot\u001b[0m\u001b[1;33m(\u001b[0m\u001b[0mx\u001b[0m\u001b[1;33m=\u001b[0m\u001b[1;34m'discomfort'\u001b[0m\u001b[1;33m,\u001b[0m \u001b[0mdata\u001b[0m \u001b[1;33m=\u001b[0m \u001b[0mdata\u001b[0m\u001b[1;33m,\u001b[0m \u001b[0mhue\u001b[0m \u001b[1;33m=\u001b[0m \u001b[1;34m'count'\u001b[0m\u001b[1;33m)\u001b[0m\u001b[1;33m\u001b[0m\u001b[1;33m\u001b[0m\u001b[0m\n\u001b[0;32m      2\u001b[0m \u001b[0mplt\u001b[0m\u001b[1;33m.\u001b[0m\u001b[0mxticks\u001b[0m\u001b[1;33m(\u001b[0m\u001b[0mrotation\u001b[0m\u001b[1;33m=\u001b[0m\u001b[1;36m60\u001b[0m\u001b[1;33m)\u001b[0m\u001b[1;33m\u001b[0m\u001b[1;33m\u001b[0m\u001b[0m\n\u001b[1;32m----> 3\u001b[1;33m \u001b[0mplt\u001b[0m\u001b[1;33m.\u001b[0m\u001b[0mshow\u001b[0m\u001b[1;33m(\u001b[0m\u001b[1;33m)\u001b[0m\u001b[1;33m\u001b[0m\u001b[1;33m\u001b[0m\u001b[0m\n\u001b[0m",
      "\u001b[1;32m~\\anaconda3\\lib\\site-packages\\matplotlib\\pyplot.py\u001b[0m in \u001b[0;36mshow\u001b[1;34m(*args, **kwargs)\u001b[0m\n\u001b[0;32m    351\u001b[0m     \"\"\"\n\u001b[0;32m    352\u001b[0m     \u001b[0m_warn_if_gui_out_of_main_thread\u001b[0m\u001b[1;33m(\u001b[0m\u001b[1;33m)\u001b[0m\u001b[1;33m\u001b[0m\u001b[1;33m\u001b[0m\u001b[0m\n\u001b[1;32m--> 353\u001b[1;33m     \u001b[1;32mreturn\u001b[0m \u001b[0m_backend_mod\u001b[0m\u001b[1;33m.\u001b[0m\u001b[0mshow\u001b[0m\u001b[1;33m(\u001b[0m\u001b[1;33m*\u001b[0m\u001b[0margs\u001b[0m\u001b[1;33m,\u001b[0m \u001b[1;33m**\u001b[0m\u001b[0mkwargs\u001b[0m\u001b[1;33m)\u001b[0m\u001b[1;33m\u001b[0m\u001b[1;33m\u001b[0m\u001b[0m\n\u001b[0m\u001b[0;32m    354\u001b[0m \u001b[1;33m\u001b[0m\u001b[0m\n\u001b[0;32m    355\u001b[0m \u001b[1;33m\u001b[0m\u001b[0m\n",
      "\u001b[1;32m~\\anaconda3\\lib\\site-packages\\ipykernel\\pylab\\backend_inline.py\u001b[0m in \u001b[0;36mshow\u001b[1;34m(close, block)\u001b[0m\n\u001b[0;32m     39\u001b[0m     \u001b[1;32mtry\u001b[0m\u001b[1;33m:\u001b[0m\u001b[1;33m\u001b[0m\u001b[1;33m\u001b[0m\u001b[0m\n\u001b[0;32m     40\u001b[0m         \u001b[1;32mfor\u001b[0m \u001b[0mfigure_manager\u001b[0m \u001b[1;32min\u001b[0m \u001b[0mGcf\u001b[0m\u001b[1;33m.\u001b[0m\u001b[0mget_all_fig_managers\u001b[0m\u001b[1;33m(\u001b[0m\u001b[1;33m)\u001b[0m\u001b[1;33m:\u001b[0m\u001b[1;33m\u001b[0m\u001b[1;33m\u001b[0m\u001b[0m\n\u001b[1;32m---> 41\u001b[1;33m             display(\n\u001b[0m\u001b[0;32m     42\u001b[0m                 \u001b[0mfigure_manager\u001b[0m\u001b[1;33m.\u001b[0m\u001b[0mcanvas\u001b[0m\u001b[1;33m.\u001b[0m\u001b[0mfigure\u001b[0m\u001b[1;33m,\u001b[0m\u001b[1;33m\u001b[0m\u001b[1;33m\u001b[0m\u001b[0m\n\u001b[0;32m     43\u001b[0m                 \u001b[0mmetadata\u001b[0m\u001b[1;33m=\u001b[0m\u001b[0m_fetch_figure_metadata\u001b[0m\u001b[1;33m(\u001b[0m\u001b[0mfigure_manager\u001b[0m\u001b[1;33m.\u001b[0m\u001b[0mcanvas\u001b[0m\u001b[1;33m.\u001b[0m\u001b[0mfigure\u001b[0m\u001b[1;33m)\u001b[0m\u001b[1;33m\u001b[0m\u001b[1;33m\u001b[0m\u001b[0m\n",
      "\u001b[1;32m~\\anaconda3\\lib\\site-packages\\IPython\\core\\display.py\u001b[0m in \u001b[0;36mdisplay\u001b[1;34m(include, exclude, metadata, transient, display_id, *objs, **kwargs)\u001b[0m\n\u001b[0;32m    311\u001b[0m             \u001b[0mpublish_display_data\u001b[0m\u001b[1;33m(\u001b[0m\u001b[0mdata\u001b[0m\u001b[1;33m=\u001b[0m\u001b[0mobj\u001b[0m\u001b[1;33m,\u001b[0m \u001b[0mmetadata\u001b[0m\u001b[1;33m=\u001b[0m\u001b[0mmetadata\u001b[0m\u001b[1;33m,\u001b[0m \u001b[1;33m**\u001b[0m\u001b[0mkwargs\u001b[0m\u001b[1;33m)\u001b[0m\u001b[1;33m\u001b[0m\u001b[1;33m\u001b[0m\u001b[0m\n\u001b[0;32m    312\u001b[0m         \u001b[1;32melse\u001b[0m\u001b[1;33m:\u001b[0m\u001b[1;33m\u001b[0m\u001b[1;33m\u001b[0m\u001b[0m\n\u001b[1;32m--> 313\u001b[1;33m             \u001b[0mformat_dict\u001b[0m\u001b[1;33m,\u001b[0m \u001b[0mmd_dict\u001b[0m \u001b[1;33m=\u001b[0m \u001b[0mformat\u001b[0m\u001b[1;33m(\u001b[0m\u001b[0mobj\u001b[0m\u001b[1;33m,\u001b[0m \u001b[0minclude\u001b[0m\u001b[1;33m=\u001b[0m\u001b[0minclude\u001b[0m\u001b[1;33m,\u001b[0m \u001b[0mexclude\u001b[0m\u001b[1;33m=\u001b[0m\u001b[0mexclude\u001b[0m\u001b[1;33m)\u001b[0m\u001b[1;33m\u001b[0m\u001b[1;33m\u001b[0m\u001b[0m\n\u001b[0m\u001b[0;32m    314\u001b[0m             \u001b[1;32mif\u001b[0m \u001b[1;32mnot\u001b[0m \u001b[0mformat_dict\u001b[0m\u001b[1;33m:\u001b[0m\u001b[1;33m\u001b[0m\u001b[1;33m\u001b[0m\u001b[0m\n\u001b[0;32m    315\u001b[0m                 \u001b[1;31m# nothing to display (e.g. _ipython_display_ took over)\u001b[0m\u001b[1;33m\u001b[0m\u001b[1;33m\u001b[0m\u001b[1;33m\u001b[0m\u001b[0m\n",
      "\u001b[1;32m~\\anaconda3\\lib\\site-packages\\IPython\\core\\formatters.py\u001b[0m in \u001b[0;36mformat\u001b[1;34m(self, obj, include, exclude)\u001b[0m\n\u001b[0;32m    178\u001b[0m             \u001b[0mmd\u001b[0m \u001b[1;33m=\u001b[0m \u001b[1;32mNone\u001b[0m\u001b[1;33m\u001b[0m\u001b[1;33m\u001b[0m\u001b[0m\n\u001b[0;32m    179\u001b[0m             \u001b[1;32mtry\u001b[0m\u001b[1;33m:\u001b[0m\u001b[1;33m\u001b[0m\u001b[1;33m\u001b[0m\u001b[0m\n\u001b[1;32m--> 180\u001b[1;33m                 \u001b[0mdata\u001b[0m \u001b[1;33m=\u001b[0m \u001b[0mformatter\u001b[0m\u001b[1;33m(\u001b[0m\u001b[0mobj\u001b[0m\u001b[1;33m)\u001b[0m\u001b[1;33m\u001b[0m\u001b[1;33m\u001b[0m\u001b[0m\n\u001b[0m\u001b[0;32m    181\u001b[0m             \u001b[1;32mexcept\u001b[0m\u001b[1;33m:\u001b[0m\u001b[1;33m\u001b[0m\u001b[1;33m\u001b[0m\u001b[0m\n\u001b[0;32m    182\u001b[0m                 \u001b[1;31m# FIXME: log the exception\u001b[0m\u001b[1;33m\u001b[0m\u001b[1;33m\u001b[0m\u001b[1;33m\u001b[0m\u001b[0m\n",
      "\u001b[1;32m~\\anaconda3\\lib\\site-packages\\decorator.py\u001b[0m in \u001b[0;36mfun\u001b[1;34m(*args, **kw)\u001b[0m\n\u001b[0;32m    229\u001b[0m             \u001b[1;32mif\u001b[0m \u001b[1;32mnot\u001b[0m \u001b[0mkwsyntax\u001b[0m\u001b[1;33m:\u001b[0m\u001b[1;33m\u001b[0m\u001b[1;33m\u001b[0m\u001b[0m\n\u001b[0;32m    230\u001b[0m                 \u001b[0margs\u001b[0m\u001b[1;33m,\u001b[0m \u001b[0mkw\u001b[0m \u001b[1;33m=\u001b[0m \u001b[0mfix\u001b[0m\u001b[1;33m(\u001b[0m\u001b[0margs\u001b[0m\u001b[1;33m,\u001b[0m \u001b[0mkw\u001b[0m\u001b[1;33m,\u001b[0m \u001b[0msig\u001b[0m\u001b[1;33m)\u001b[0m\u001b[1;33m\u001b[0m\u001b[1;33m\u001b[0m\u001b[0m\n\u001b[1;32m--> 231\u001b[1;33m             \u001b[1;32mreturn\u001b[0m \u001b[0mcaller\u001b[0m\u001b[1;33m(\u001b[0m\u001b[0mfunc\u001b[0m\u001b[1;33m,\u001b[0m \u001b[1;33m*\u001b[0m\u001b[1;33m(\u001b[0m\u001b[0mextras\u001b[0m \u001b[1;33m+\u001b[0m \u001b[0margs\u001b[0m\u001b[1;33m)\u001b[0m\u001b[1;33m,\u001b[0m \u001b[1;33m**\u001b[0m\u001b[0mkw\u001b[0m\u001b[1;33m)\u001b[0m\u001b[1;33m\u001b[0m\u001b[1;33m\u001b[0m\u001b[0m\n\u001b[0m\u001b[0;32m    232\u001b[0m     \u001b[0mfun\u001b[0m\u001b[1;33m.\u001b[0m\u001b[0m__name__\u001b[0m \u001b[1;33m=\u001b[0m \u001b[0mfunc\u001b[0m\u001b[1;33m.\u001b[0m\u001b[0m__name__\u001b[0m\u001b[1;33m\u001b[0m\u001b[1;33m\u001b[0m\u001b[0m\n\u001b[0;32m    233\u001b[0m     \u001b[0mfun\u001b[0m\u001b[1;33m.\u001b[0m\u001b[0m__doc__\u001b[0m \u001b[1;33m=\u001b[0m \u001b[0mfunc\u001b[0m\u001b[1;33m.\u001b[0m\u001b[0m__doc__\u001b[0m\u001b[1;33m\u001b[0m\u001b[1;33m\u001b[0m\u001b[0m\n",
      "\u001b[1;32m~\\anaconda3\\lib\\site-packages\\IPython\\core\\formatters.py\u001b[0m in \u001b[0;36mcatch_format_error\u001b[1;34m(method, self, *args, **kwargs)\u001b[0m\n\u001b[0;32m    222\u001b[0m     \u001b[1;34m\"\"\"show traceback on failed format call\"\"\"\u001b[0m\u001b[1;33m\u001b[0m\u001b[1;33m\u001b[0m\u001b[0m\n\u001b[0;32m    223\u001b[0m     \u001b[1;32mtry\u001b[0m\u001b[1;33m:\u001b[0m\u001b[1;33m\u001b[0m\u001b[1;33m\u001b[0m\u001b[0m\n\u001b[1;32m--> 224\u001b[1;33m         \u001b[0mr\u001b[0m \u001b[1;33m=\u001b[0m \u001b[0mmethod\u001b[0m\u001b[1;33m(\u001b[0m\u001b[0mself\u001b[0m\u001b[1;33m,\u001b[0m \u001b[1;33m*\u001b[0m\u001b[0margs\u001b[0m\u001b[1;33m,\u001b[0m \u001b[1;33m**\u001b[0m\u001b[0mkwargs\u001b[0m\u001b[1;33m)\u001b[0m\u001b[1;33m\u001b[0m\u001b[1;33m\u001b[0m\u001b[0m\n\u001b[0m\u001b[0;32m    225\u001b[0m     \u001b[1;32mexcept\u001b[0m \u001b[0mNotImplementedError\u001b[0m\u001b[1;33m:\u001b[0m\u001b[1;33m\u001b[0m\u001b[1;33m\u001b[0m\u001b[0m\n\u001b[0;32m    226\u001b[0m         \u001b[1;31m# don't warn on NotImplementedErrors\u001b[0m\u001b[1;33m\u001b[0m\u001b[1;33m\u001b[0m\u001b[1;33m\u001b[0m\u001b[0m\n",
      "\u001b[1;32m~\\anaconda3\\lib\\site-packages\\IPython\\core\\formatters.py\u001b[0m in \u001b[0;36m__call__\u001b[1;34m(self, obj)\u001b[0m\n\u001b[0;32m    339\u001b[0m                 \u001b[1;32mpass\u001b[0m\u001b[1;33m\u001b[0m\u001b[1;33m\u001b[0m\u001b[0m\n\u001b[0;32m    340\u001b[0m             \u001b[1;32melse\u001b[0m\u001b[1;33m:\u001b[0m\u001b[1;33m\u001b[0m\u001b[1;33m\u001b[0m\u001b[0m\n\u001b[1;32m--> 341\u001b[1;33m                 \u001b[1;32mreturn\u001b[0m \u001b[0mprinter\u001b[0m\u001b[1;33m(\u001b[0m\u001b[0mobj\u001b[0m\u001b[1;33m)\u001b[0m\u001b[1;33m\u001b[0m\u001b[1;33m\u001b[0m\u001b[0m\n\u001b[0m\u001b[0;32m    342\u001b[0m             \u001b[1;31m# Finally look for special method names\u001b[0m\u001b[1;33m\u001b[0m\u001b[1;33m\u001b[0m\u001b[1;33m\u001b[0m\u001b[0m\n\u001b[0;32m    343\u001b[0m             \u001b[0mmethod\u001b[0m \u001b[1;33m=\u001b[0m \u001b[0mget_real_method\u001b[0m\u001b[1;33m(\u001b[0m\u001b[0mobj\u001b[0m\u001b[1;33m,\u001b[0m \u001b[0mself\u001b[0m\u001b[1;33m.\u001b[0m\u001b[0mprint_method\u001b[0m\u001b[1;33m)\u001b[0m\u001b[1;33m\u001b[0m\u001b[1;33m\u001b[0m\u001b[0m\n",
      "\u001b[1;32m~\\anaconda3\\lib\\site-packages\\IPython\\core\\pylabtools.py\u001b[0m in \u001b[0;36m<lambda>\u001b[1;34m(fig)\u001b[0m\n\u001b[0;32m    246\u001b[0m \u001b[1;33m\u001b[0m\u001b[0m\n\u001b[0;32m    247\u001b[0m     \u001b[1;32mif\u001b[0m \u001b[1;34m'png'\u001b[0m \u001b[1;32min\u001b[0m \u001b[0mformats\u001b[0m\u001b[1;33m:\u001b[0m\u001b[1;33m\u001b[0m\u001b[1;33m\u001b[0m\u001b[0m\n\u001b[1;32m--> 248\u001b[1;33m         \u001b[0mpng_formatter\u001b[0m\u001b[1;33m.\u001b[0m\u001b[0mfor_type\u001b[0m\u001b[1;33m(\u001b[0m\u001b[0mFigure\u001b[0m\u001b[1;33m,\u001b[0m \u001b[1;32mlambda\u001b[0m \u001b[0mfig\u001b[0m\u001b[1;33m:\u001b[0m \u001b[0mprint_figure\u001b[0m\u001b[1;33m(\u001b[0m\u001b[0mfig\u001b[0m\u001b[1;33m,\u001b[0m \u001b[1;34m'png'\u001b[0m\u001b[1;33m,\u001b[0m \u001b[1;33m**\u001b[0m\u001b[0mkwargs\u001b[0m\u001b[1;33m)\u001b[0m\u001b[1;33m)\u001b[0m\u001b[1;33m\u001b[0m\u001b[1;33m\u001b[0m\u001b[0m\n\u001b[0m\u001b[0;32m    249\u001b[0m     \u001b[1;32mif\u001b[0m \u001b[1;34m'retina'\u001b[0m \u001b[1;32min\u001b[0m \u001b[0mformats\u001b[0m \u001b[1;32mor\u001b[0m \u001b[1;34m'png2x'\u001b[0m \u001b[1;32min\u001b[0m \u001b[0mformats\u001b[0m\u001b[1;33m:\u001b[0m\u001b[1;33m\u001b[0m\u001b[1;33m\u001b[0m\u001b[0m\n\u001b[0;32m    250\u001b[0m         \u001b[0mpng_formatter\u001b[0m\u001b[1;33m.\u001b[0m\u001b[0mfor_type\u001b[0m\u001b[1;33m(\u001b[0m\u001b[0mFigure\u001b[0m\u001b[1;33m,\u001b[0m \u001b[1;32mlambda\u001b[0m \u001b[0mfig\u001b[0m\u001b[1;33m:\u001b[0m \u001b[0mretina_figure\u001b[0m\u001b[1;33m(\u001b[0m\u001b[0mfig\u001b[0m\u001b[1;33m,\u001b[0m \u001b[1;33m**\u001b[0m\u001b[0mkwargs\u001b[0m\u001b[1;33m)\u001b[0m\u001b[1;33m)\u001b[0m\u001b[1;33m\u001b[0m\u001b[1;33m\u001b[0m\u001b[0m\n",
      "\u001b[1;32m~\\anaconda3\\lib\\site-packages\\IPython\\core\\pylabtools.py\u001b[0m in \u001b[0;36mprint_figure\u001b[1;34m(fig, fmt, bbox_inches, **kwargs)\u001b[0m\n\u001b[0;32m    130\u001b[0m         \u001b[0mFigureCanvasBase\u001b[0m\u001b[1;33m(\u001b[0m\u001b[0mfig\u001b[0m\u001b[1;33m)\u001b[0m\u001b[1;33m\u001b[0m\u001b[1;33m\u001b[0m\u001b[0m\n\u001b[0;32m    131\u001b[0m \u001b[1;33m\u001b[0m\u001b[0m\n\u001b[1;32m--> 132\u001b[1;33m     \u001b[0mfig\u001b[0m\u001b[1;33m.\u001b[0m\u001b[0mcanvas\u001b[0m\u001b[1;33m.\u001b[0m\u001b[0mprint_figure\u001b[0m\u001b[1;33m(\u001b[0m\u001b[0mbytes_io\u001b[0m\u001b[1;33m,\u001b[0m \u001b[1;33m**\u001b[0m\u001b[0mkw\u001b[0m\u001b[1;33m)\u001b[0m\u001b[1;33m\u001b[0m\u001b[1;33m\u001b[0m\u001b[0m\n\u001b[0m\u001b[0;32m    133\u001b[0m     \u001b[0mdata\u001b[0m \u001b[1;33m=\u001b[0m \u001b[0mbytes_io\u001b[0m\u001b[1;33m.\u001b[0m\u001b[0mgetvalue\u001b[0m\u001b[1;33m(\u001b[0m\u001b[1;33m)\u001b[0m\u001b[1;33m\u001b[0m\u001b[1;33m\u001b[0m\u001b[0m\n\u001b[0;32m    134\u001b[0m     \u001b[1;32mif\u001b[0m \u001b[0mfmt\u001b[0m \u001b[1;33m==\u001b[0m \u001b[1;34m'svg'\u001b[0m\u001b[1;33m:\u001b[0m\u001b[1;33m\u001b[0m\u001b[1;33m\u001b[0m\u001b[0m\n",
      "\u001b[1;32m~\\anaconda3\\lib\\site-packages\\matplotlib\\backend_bases.py\u001b[0m in \u001b[0;36mprint_figure\u001b[1;34m(self, filename, dpi, facecolor, edgecolor, orientation, format, bbox_inches, pad_inches, bbox_extra_artists, backend, **kwargs)\u001b[0m\n\u001b[0;32m   2193\u001b[0m                         \u001b[0mself\u001b[0m\u001b[1;33m.\u001b[0m\u001b[0mfigure\u001b[0m\u001b[1;33m.\u001b[0m\u001b[0mdraw\u001b[0m\u001b[1;33m(\u001b[0m\u001b[0mrenderer\u001b[0m\u001b[1;33m)\u001b[0m\u001b[1;33m\u001b[0m\u001b[1;33m\u001b[0m\u001b[0m\n\u001b[0;32m   2194\u001b[0m \u001b[1;33m\u001b[0m\u001b[0m\n\u001b[1;32m-> 2195\u001b[1;33m                     bbox_inches = self.figure.get_tightbbox(\n\u001b[0m\u001b[0;32m   2196\u001b[0m                         renderer, bbox_extra_artists=bbox_extra_artists)\n\u001b[0;32m   2197\u001b[0m                     \u001b[1;32mif\u001b[0m \u001b[0mpad_inches\u001b[0m \u001b[1;32mis\u001b[0m \u001b[1;32mNone\u001b[0m\u001b[1;33m:\u001b[0m\u001b[1;33m\u001b[0m\u001b[1;33m\u001b[0m\u001b[0m\n",
      "\u001b[1;32m~\\anaconda3\\lib\\site-packages\\matplotlib\\figure.py\u001b[0m in \u001b[0;36mget_tightbbox\u001b[1;34m(self, renderer, bbox_extra_artists)\u001b[0m\n\u001b[0;32m   2504\u001b[0m \u001b[1;33m\u001b[0m\u001b[0m\n\u001b[0;32m   2505\u001b[0m         \u001b[1;32mfor\u001b[0m \u001b[0ma\u001b[0m \u001b[1;32min\u001b[0m \u001b[0martists\u001b[0m\u001b[1;33m:\u001b[0m\u001b[1;33m\u001b[0m\u001b[1;33m\u001b[0m\u001b[0m\n\u001b[1;32m-> 2506\u001b[1;33m             \u001b[0mbbox\u001b[0m \u001b[1;33m=\u001b[0m \u001b[0ma\u001b[0m\u001b[1;33m.\u001b[0m\u001b[0mget_tightbbox\u001b[0m\u001b[1;33m(\u001b[0m\u001b[0mrenderer\u001b[0m\u001b[1;33m)\u001b[0m\u001b[1;33m\u001b[0m\u001b[1;33m\u001b[0m\u001b[0m\n\u001b[0m\u001b[0;32m   2507\u001b[0m             \u001b[1;32mif\u001b[0m \u001b[0mbbox\u001b[0m \u001b[1;32mis\u001b[0m \u001b[1;32mnot\u001b[0m \u001b[1;32mNone\u001b[0m \u001b[1;32mand\u001b[0m \u001b[1;33m(\u001b[0m\u001b[0mbbox\u001b[0m\u001b[1;33m.\u001b[0m\u001b[0mwidth\u001b[0m \u001b[1;33m!=\u001b[0m \u001b[1;36m0\u001b[0m \u001b[1;32mor\u001b[0m \u001b[0mbbox\u001b[0m\u001b[1;33m.\u001b[0m\u001b[0mheight\u001b[0m \u001b[1;33m!=\u001b[0m \u001b[1;36m0\u001b[0m\u001b[1;33m)\u001b[0m\u001b[1;33m:\u001b[0m\u001b[1;33m\u001b[0m\u001b[1;33m\u001b[0m\u001b[0m\n\u001b[0;32m   2508\u001b[0m                 \u001b[0mbb\u001b[0m\u001b[1;33m.\u001b[0m\u001b[0mappend\u001b[0m\u001b[1;33m(\u001b[0m\u001b[0mbbox\u001b[0m\u001b[1;33m)\u001b[0m\u001b[1;33m\u001b[0m\u001b[1;33m\u001b[0m\u001b[0m\n",
      "\u001b[1;32m~\\anaconda3\\lib\\site-packages\\matplotlib\\legend.py\u001b[0m in \u001b[0;36mget_tightbbox\u001b[1;34m(self, renderer)\u001b[0m\n\u001b[0;32m    912\u001b[0m             \u001b[0mThe\u001b[0m \u001b[0mbounding\u001b[0m \u001b[0mbox\u001b[0m \u001b[1;32min\u001b[0m \u001b[0mfigure\u001b[0m \u001b[0mpixel\u001b[0m \u001b[0mcoordinates\u001b[0m\u001b[1;33m.\u001b[0m\u001b[1;33m\u001b[0m\u001b[1;33m\u001b[0m\u001b[0m\n\u001b[0;32m    913\u001b[0m         \"\"\"\n\u001b[1;32m--> 914\u001b[1;33m         \u001b[1;32mreturn\u001b[0m \u001b[0mself\u001b[0m\u001b[1;33m.\u001b[0m\u001b[0m_legend_box\u001b[0m\u001b[1;33m.\u001b[0m\u001b[0mget_window_extent\u001b[0m\u001b[1;33m(\u001b[0m\u001b[0mrenderer\u001b[0m\u001b[1;33m)\u001b[0m\u001b[1;33m\u001b[0m\u001b[1;33m\u001b[0m\u001b[0m\n\u001b[0m\u001b[0;32m    915\u001b[0m \u001b[1;33m\u001b[0m\u001b[0m\n\u001b[0;32m    916\u001b[0m     \u001b[1;32mdef\u001b[0m \u001b[0mget_frame_on\u001b[0m\u001b[1;33m(\u001b[0m\u001b[0mself\u001b[0m\u001b[1;33m)\u001b[0m\u001b[1;33m:\u001b[0m\u001b[1;33m\u001b[0m\u001b[1;33m\u001b[0m\u001b[0m\n",
      "\u001b[1;32m~\\anaconda3\\lib\\site-packages\\matplotlib\\offsetbox.py\u001b[0m in \u001b[0;36mget_window_extent\u001b[1;34m(self, renderer)\u001b[0m\n\u001b[0;32m    344\u001b[0m     \u001b[1;32mdef\u001b[0m \u001b[0mget_window_extent\u001b[0m\u001b[1;33m(\u001b[0m\u001b[0mself\u001b[0m\u001b[1;33m,\u001b[0m \u001b[0mrenderer\u001b[0m\u001b[1;33m)\u001b[0m\u001b[1;33m:\u001b[0m\u001b[1;33m\u001b[0m\u001b[1;33m\u001b[0m\u001b[0m\n\u001b[0;32m    345\u001b[0m         \u001b[1;34m\"\"\"Return the bounding box (`.Bbox`) in display space.\"\"\"\u001b[0m\u001b[1;33m\u001b[0m\u001b[1;33m\u001b[0m\u001b[0m\n\u001b[1;32m--> 346\u001b[1;33m         \u001b[0mw\u001b[0m\u001b[1;33m,\u001b[0m \u001b[0mh\u001b[0m\u001b[1;33m,\u001b[0m \u001b[0mxd\u001b[0m\u001b[1;33m,\u001b[0m \u001b[0myd\u001b[0m\u001b[1;33m,\u001b[0m \u001b[0moffsets\u001b[0m \u001b[1;33m=\u001b[0m \u001b[0mself\u001b[0m\u001b[1;33m.\u001b[0m\u001b[0mget_extent_offsets\u001b[0m\u001b[1;33m(\u001b[0m\u001b[0mrenderer\u001b[0m\u001b[1;33m)\u001b[0m\u001b[1;33m\u001b[0m\u001b[1;33m\u001b[0m\u001b[0m\n\u001b[0m\u001b[0;32m    347\u001b[0m         \u001b[0mpx\u001b[0m\u001b[1;33m,\u001b[0m \u001b[0mpy\u001b[0m \u001b[1;33m=\u001b[0m \u001b[0mself\u001b[0m\u001b[1;33m.\u001b[0m\u001b[0mget_offset\u001b[0m\u001b[1;33m(\u001b[0m\u001b[0mw\u001b[0m\u001b[1;33m,\u001b[0m \u001b[0mh\u001b[0m\u001b[1;33m,\u001b[0m \u001b[0mxd\u001b[0m\u001b[1;33m,\u001b[0m \u001b[0myd\u001b[0m\u001b[1;33m,\u001b[0m \u001b[0mrenderer\u001b[0m\u001b[1;33m)\u001b[0m\u001b[1;33m\u001b[0m\u001b[1;33m\u001b[0m\u001b[0m\n\u001b[0;32m    348\u001b[0m         \u001b[1;32mreturn\u001b[0m \u001b[0mmtransforms\u001b[0m\u001b[1;33m.\u001b[0m\u001b[0mBbox\u001b[0m\u001b[1;33m.\u001b[0m\u001b[0mfrom_bounds\u001b[0m\u001b[1;33m(\u001b[0m\u001b[0mpx\u001b[0m \u001b[1;33m-\u001b[0m \u001b[0mxd\u001b[0m\u001b[1;33m,\u001b[0m \u001b[0mpy\u001b[0m \u001b[1;33m-\u001b[0m \u001b[0myd\u001b[0m\u001b[1;33m,\u001b[0m \u001b[0mw\u001b[0m\u001b[1;33m,\u001b[0m \u001b[0mh\u001b[0m\u001b[1;33m)\u001b[0m\u001b[1;33m\u001b[0m\u001b[1;33m\u001b[0m\u001b[0m\n",
      "\u001b[1;32m~\\anaconda3\\lib\\site-packages\\matplotlib\\offsetbox.py\u001b[0m in \u001b[0;36mget_extent_offsets\u001b[1;34m(self, renderer)\u001b[0m\n\u001b[0;32m    469\u001b[0m                     \u001b[0mc\u001b[0m\u001b[1;33m.\u001b[0m\u001b[0mset_width\u001b[0m\u001b[1;33m(\u001b[0m\u001b[0mself\u001b[0m\u001b[1;33m.\u001b[0m\u001b[0mwidth\u001b[0m\u001b[1;33m)\u001b[0m\u001b[1;33m\u001b[0m\u001b[1;33m\u001b[0m\u001b[0m\n\u001b[0;32m    470\u001b[0m \u001b[1;33m\u001b[0m\u001b[0m\n\u001b[1;32m--> 471\u001b[1;33m         whd_list = [c.get_extent(renderer)\n\u001b[0m\u001b[0;32m    472\u001b[0m                     for c in self.get_visible_children()]\n\u001b[0;32m    473\u001b[0m         \u001b[0mwhd_list\u001b[0m \u001b[1;33m=\u001b[0m \u001b[1;33m[\u001b[0m\u001b[1;33m(\u001b[0m\u001b[0mw\u001b[0m\u001b[1;33m,\u001b[0m \u001b[0mh\u001b[0m\u001b[1;33m,\u001b[0m \u001b[0mxd\u001b[0m\u001b[1;33m,\u001b[0m \u001b[1;33m(\u001b[0m\u001b[0mh\u001b[0m \u001b[1;33m-\u001b[0m \u001b[0myd\u001b[0m\u001b[1;33m)\u001b[0m\u001b[1;33m)\u001b[0m \u001b[1;32mfor\u001b[0m \u001b[0mw\u001b[0m\u001b[1;33m,\u001b[0m \u001b[0mh\u001b[0m\u001b[1;33m,\u001b[0m \u001b[0mxd\u001b[0m\u001b[1;33m,\u001b[0m \u001b[0myd\u001b[0m \u001b[1;32min\u001b[0m \u001b[0mwhd_list\u001b[0m\u001b[1;33m]\u001b[0m\u001b[1;33m\u001b[0m\u001b[1;33m\u001b[0m\u001b[0m\n",
      "\u001b[1;32m~\\anaconda3\\lib\\site-packages\\matplotlib\\offsetbox.py\u001b[0m in \u001b[0;36m<listcomp>\u001b[1;34m(.0)\u001b[0m\n\u001b[0;32m    469\u001b[0m                     \u001b[0mc\u001b[0m\u001b[1;33m.\u001b[0m\u001b[0mset_width\u001b[0m\u001b[1;33m(\u001b[0m\u001b[0mself\u001b[0m\u001b[1;33m.\u001b[0m\u001b[0mwidth\u001b[0m\u001b[1;33m)\u001b[0m\u001b[1;33m\u001b[0m\u001b[1;33m\u001b[0m\u001b[0m\n\u001b[0;32m    470\u001b[0m \u001b[1;33m\u001b[0m\u001b[0m\n\u001b[1;32m--> 471\u001b[1;33m         whd_list = [c.get_extent(renderer)\n\u001b[0m\u001b[0;32m    472\u001b[0m                     for c in self.get_visible_children()]\n\u001b[0;32m    473\u001b[0m         \u001b[0mwhd_list\u001b[0m \u001b[1;33m=\u001b[0m \u001b[1;33m[\u001b[0m\u001b[1;33m(\u001b[0m\u001b[0mw\u001b[0m\u001b[1;33m,\u001b[0m \u001b[0mh\u001b[0m\u001b[1;33m,\u001b[0m \u001b[0mxd\u001b[0m\u001b[1;33m,\u001b[0m \u001b[1;33m(\u001b[0m\u001b[0mh\u001b[0m \u001b[1;33m-\u001b[0m \u001b[0myd\u001b[0m\u001b[1;33m)\u001b[0m\u001b[1;33m)\u001b[0m \u001b[1;32mfor\u001b[0m \u001b[0mw\u001b[0m\u001b[1;33m,\u001b[0m \u001b[0mh\u001b[0m\u001b[1;33m,\u001b[0m \u001b[0mxd\u001b[0m\u001b[1;33m,\u001b[0m \u001b[0myd\u001b[0m \u001b[1;32min\u001b[0m \u001b[0mwhd_list\u001b[0m\u001b[1;33m]\u001b[0m\u001b[1;33m\u001b[0m\u001b[1;33m\u001b[0m\u001b[0m\n",
      "\u001b[1;32m~\\anaconda3\\lib\\site-packages\\matplotlib\\offsetbox.py\u001b[0m in \u001b[0;36mget_extent\u001b[1;34m(self, renderer)\u001b[0m\n\u001b[0;32m    339\u001b[0m     \u001b[1;32mdef\u001b[0m \u001b[0mget_extent\u001b[0m\u001b[1;33m(\u001b[0m\u001b[0mself\u001b[0m\u001b[1;33m,\u001b[0m \u001b[0mrenderer\u001b[0m\u001b[1;33m)\u001b[0m\u001b[1;33m:\u001b[0m\u001b[1;33m\u001b[0m\u001b[1;33m\u001b[0m\u001b[0m\n\u001b[0;32m    340\u001b[0m         \u001b[1;34m\"\"\"Return a tuple ``width, height, xdescent, ydescent`` of the box.\"\"\"\u001b[0m\u001b[1;33m\u001b[0m\u001b[1;33m\u001b[0m\u001b[0m\n\u001b[1;32m--> 341\u001b[1;33m         \u001b[0mw\u001b[0m\u001b[1;33m,\u001b[0m \u001b[0mh\u001b[0m\u001b[1;33m,\u001b[0m \u001b[0mxd\u001b[0m\u001b[1;33m,\u001b[0m \u001b[0myd\u001b[0m\u001b[1;33m,\u001b[0m \u001b[0moffsets\u001b[0m \u001b[1;33m=\u001b[0m \u001b[0mself\u001b[0m\u001b[1;33m.\u001b[0m\u001b[0mget_extent_offsets\u001b[0m\u001b[1;33m(\u001b[0m\u001b[0mrenderer\u001b[0m\u001b[1;33m)\u001b[0m\u001b[1;33m\u001b[0m\u001b[1;33m\u001b[0m\u001b[0m\n\u001b[0m\u001b[0;32m    342\u001b[0m         \u001b[1;32mreturn\u001b[0m \u001b[0mw\u001b[0m\u001b[1;33m,\u001b[0m \u001b[0mh\u001b[0m\u001b[1;33m,\u001b[0m \u001b[0mxd\u001b[0m\u001b[1;33m,\u001b[0m \u001b[0myd\u001b[0m\u001b[1;33m\u001b[0m\u001b[1;33m\u001b[0m\u001b[0m\n\u001b[0;32m    343\u001b[0m \u001b[1;33m\u001b[0m\u001b[0m\n",
      "\u001b[1;32m~\\anaconda3\\lib\\site-packages\\matplotlib\\offsetbox.py\u001b[0m in \u001b[0;36mget_extent_offsets\u001b[1;34m(self, renderer)\u001b[0m\n\u001b[0;32m    542\u001b[0m         \u001b[0msep\u001b[0m \u001b[1;33m=\u001b[0m \u001b[0mself\u001b[0m\u001b[1;33m.\u001b[0m\u001b[0msep\u001b[0m \u001b[1;33m*\u001b[0m \u001b[0mdpicor\u001b[0m\u001b[1;33m\u001b[0m\u001b[1;33m\u001b[0m\u001b[0m\n\u001b[0;32m    543\u001b[0m \u001b[1;33m\u001b[0m\u001b[0m\n\u001b[1;32m--> 544\u001b[1;33m         whd_list = [c.get_extent(renderer)\n\u001b[0m\u001b[0;32m    545\u001b[0m                     for c in self.get_visible_children()]\n\u001b[0;32m    546\u001b[0m \u001b[1;33m\u001b[0m\u001b[0m\n",
      "\u001b[1;32m~\\anaconda3\\lib\\site-packages\\matplotlib\\offsetbox.py\u001b[0m in \u001b[0;36m<listcomp>\u001b[1;34m(.0)\u001b[0m\n\u001b[0;32m    542\u001b[0m         \u001b[0msep\u001b[0m \u001b[1;33m=\u001b[0m \u001b[0mself\u001b[0m\u001b[1;33m.\u001b[0m\u001b[0msep\u001b[0m \u001b[1;33m*\u001b[0m \u001b[0mdpicor\u001b[0m\u001b[1;33m\u001b[0m\u001b[1;33m\u001b[0m\u001b[0m\n\u001b[0;32m    543\u001b[0m \u001b[1;33m\u001b[0m\u001b[0m\n\u001b[1;32m--> 544\u001b[1;33m         whd_list = [c.get_extent(renderer)\n\u001b[0m\u001b[0;32m    545\u001b[0m                     for c in self.get_visible_children()]\n\u001b[0;32m    546\u001b[0m \u001b[1;33m\u001b[0m\u001b[0m\n",
      "\u001b[1;32m~\\anaconda3\\lib\\site-packages\\matplotlib\\offsetbox.py\u001b[0m in \u001b[0;36mget_extent\u001b[1;34m(self, renderer)\u001b[0m\n\u001b[0;32m    339\u001b[0m     \u001b[1;32mdef\u001b[0m \u001b[0mget_extent\u001b[0m\u001b[1;33m(\u001b[0m\u001b[0mself\u001b[0m\u001b[1;33m,\u001b[0m \u001b[0mrenderer\u001b[0m\u001b[1;33m)\u001b[0m\u001b[1;33m:\u001b[0m\u001b[1;33m\u001b[0m\u001b[1;33m\u001b[0m\u001b[0m\n\u001b[0;32m    340\u001b[0m         \u001b[1;34m\"\"\"Return a tuple ``width, height, xdescent, ydescent`` of the box.\"\"\"\u001b[0m\u001b[1;33m\u001b[0m\u001b[1;33m\u001b[0m\u001b[0m\n\u001b[1;32m--> 341\u001b[1;33m         \u001b[0mw\u001b[0m\u001b[1;33m,\u001b[0m \u001b[0mh\u001b[0m\u001b[1;33m,\u001b[0m \u001b[0mxd\u001b[0m\u001b[1;33m,\u001b[0m \u001b[0myd\u001b[0m\u001b[1;33m,\u001b[0m \u001b[0moffsets\u001b[0m \u001b[1;33m=\u001b[0m \u001b[0mself\u001b[0m\u001b[1;33m.\u001b[0m\u001b[0mget_extent_offsets\u001b[0m\u001b[1;33m(\u001b[0m\u001b[0mrenderer\u001b[0m\u001b[1;33m)\u001b[0m\u001b[1;33m\u001b[0m\u001b[1;33m\u001b[0m\u001b[0m\n\u001b[0m\u001b[0;32m    342\u001b[0m         \u001b[1;32mreturn\u001b[0m \u001b[0mw\u001b[0m\u001b[1;33m,\u001b[0m \u001b[0mh\u001b[0m\u001b[1;33m,\u001b[0m \u001b[0mxd\u001b[0m\u001b[1;33m,\u001b[0m \u001b[0myd\u001b[0m\u001b[1;33m\u001b[0m\u001b[1;33m\u001b[0m\u001b[0m\n\u001b[0;32m    343\u001b[0m \u001b[1;33m\u001b[0m\u001b[0m\n",
      "\u001b[1;32m~\\anaconda3\\lib\\site-packages\\matplotlib\\offsetbox.py\u001b[0m in \u001b[0;36mget_extent_offsets\u001b[1;34m(self, renderer)\u001b[0m\n\u001b[0;32m    469\u001b[0m                     \u001b[0mc\u001b[0m\u001b[1;33m.\u001b[0m\u001b[0mset_width\u001b[0m\u001b[1;33m(\u001b[0m\u001b[0mself\u001b[0m\u001b[1;33m.\u001b[0m\u001b[0mwidth\u001b[0m\u001b[1;33m)\u001b[0m\u001b[1;33m\u001b[0m\u001b[1;33m\u001b[0m\u001b[0m\n\u001b[0;32m    470\u001b[0m \u001b[1;33m\u001b[0m\u001b[0m\n\u001b[1;32m--> 471\u001b[1;33m         whd_list = [c.get_extent(renderer)\n\u001b[0m\u001b[0;32m    472\u001b[0m                     for c in self.get_visible_children()]\n\u001b[0;32m    473\u001b[0m         \u001b[0mwhd_list\u001b[0m \u001b[1;33m=\u001b[0m \u001b[1;33m[\u001b[0m\u001b[1;33m(\u001b[0m\u001b[0mw\u001b[0m\u001b[1;33m,\u001b[0m \u001b[0mh\u001b[0m\u001b[1;33m,\u001b[0m \u001b[0mxd\u001b[0m\u001b[1;33m,\u001b[0m \u001b[1;33m(\u001b[0m\u001b[0mh\u001b[0m \u001b[1;33m-\u001b[0m \u001b[0myd\u001b[0m\u001b[1;33m)\u001b[0m\u001b[1;33m)\u001b[0m \u001b[1;32mfor\u001b[0m \u001b[0mw\u001b[0m\u001b[1;33m,\u001b[0m \u001b[0mh\u001b[0m\u001b[1;33m,\u001b[0m \u001b[0mxd\u001b[0m\u001b[1;33m,\u001b[0m \u001b[0myd\u001b[0m \u001b[1;32min\u001b[0m \u001b[0mwhd_list\u001b[0m\u001b[1;33m]\u001b[0m\u001b[1;33m\u001b[0m\u001b[1;33m\u001b[0m\u001b[0m\n",
      "\u001b[1;32m~\\anaconda3\\lib\\site-packages\\matplotlib\\offsetbox.py\u001b[0m in \u001b[0;36m<listcomp>\u001b[1;34m(.0)\u001b[0m\n\u001b[0;32m    469\u001b[0m                     \u001b[0mc\u001b[0m\u001b[1;33m.\u001b[0m\u001b[0mset_width\u001b[0m\u001b[1;33m(\u001b[0m\u001b[0mself\u001b[0m\u001b[1;33m.\u001b[0m\u001b[0mwidth\u001b[0m\u001b[1;33m)\u001b[0m\u001b[1;33m\u001b[0m\u001b[1;33m\u001b[0m\u001b[0m\n\u001b[0;32m    470\u001b[0m \u001b[1;33m\u001b[0m\u001b[0m\n\u001b[1;32m--> 471\u001b[1;33m         whd_list = [c.get_extent(renderer)\n\u001b[0m\u001b[0;32m    472\u001b[0m                     for c in self.get_visible_children()]\n\u001b[0;32m    473\u001b[0m         \u001b[0mwhd_list\u001b[0m \u001b[1;33m=\u001b[0m \u001b[1;33m[\u001b[0m\u001b[1;33m(\u001b[0m\u001b[0mw\u001b[0m\u001b[1;33m,\u001b[0m \u001b[0mh\u001b[0m\u001b[1;33m,\u001b[0m \u001b[0mxd\u001b[0m\u001b[1;33m,\u001b[0m \u001b[1;33m(\u001b[0m\u001b[0mh\u001b[0m \u001b[1;33m-\u001b[0m \u001b[0myd\u001b[0m\u001b[1;33m)\u001b[0m\u001b[1;33m)\u001b[0m \u001b[1;32mfor\u001b[0m \u001b[0mw\u001b[0m\u001b[1;33m,\u001b[0m \u001b[0mh\u001b[0m\u001b[1;33m,\u001b[0m \u001b[0mxd\u001b[0m\u001b[1;33m,\u001b[0m \u001b[0myd\u001b[0m \u001b[1;32min\u001b[0m \u001b[0mwhd_list\u001b[0m\u001b[1;33m]\u001b[0m\u001b[1;33m\u001b[0m\u001b[1;33m\u001b[0m\u001b[0m\n",
      "\u001b[1;32m~\\anaconda3\\lib\\site-packages\\matplotlib\\offsetbox.py\u001b[0m in \u001b[0;36mget_extent\u001b[1;34m(self, renderer)\u001b[0m\n\u001b[0;32m    339\u001b[0m     \u001b[1;32mdef\u001b[0m \u001b[0mget_extent\u001b[0m\u001b[1;33m(\u001b[0m\u001b[0mself\u001b[0m\u001b[1;33m,\u001b[0m \u001b[0mrenderer\u001b[0m\u001b[1;33m)\u001b[0m\u001b[1;33m:\u001b[0m\u001b[1;33m\u001b[0m\u001b[1;33m\u001b[0m\u001b[0m\n\u001b[0;32m    340\u001b[0m         \u001b[1;34m\"\"\"Return a tuple ``width, height, xdescent, ydescent`` of the box.\"\"\"\u001b[0m\u001b[1;33m\u001b[0m\u001b[1;33m\u001b[0m\u001b[0m\n\u001b[1;32m--> 341\u001b[1;33m         \u001b[0mw\u001b[0m\u001b[1;33m,\u001b[0m \u001b[0mh\u001b[0m\u001b[1;33m,\u001b[0m \u001b[0mxd\u001b[0m\u001b[1;33m,\u001b[0m \u001b[0myd\u001b[0m\u001b[1;33m,\u001b[0m \u001b[0moffsets\u001b[0m \u001b[1;33m=\u001b[0m \u001b[0mself\u001b[0m\u001b[1;33m.\u001b[0m\u001b[0mget_extent_offsets\u001b[0m\u001b[1;33m(\u001b[0m\u001b[0mrenderer\u001b[0m\u001b[1;33m)\u001b[0m\u001b[1;33m\u001b[0m\u001b[1;33m\u001b[0m\u001b[0m\n\u001b[0m\u001b[0;32m    342\u001b[0m         \u001b[1;32mreturn\u001b[0m \u001b[0mw\u001b[0m\u001b[1;33m,\u001b[0m \u001b[0mh\u001b[0m\u001b[1;33m,\u001b[0m \u001b[0mxd\u001b[0m\u001b[1;33m,\u001b[0m \u001b[0myd\u001b[0m\u001b[1;33m\u001b[0m\u001b[1;33m\u001b[0m\u001b[0m\n\u001b[0;32m    343\u001b[0m \u001b[1;33m\u001b[0m\u001b[0m\n",
      "\u001b[1;32m~\\anaconda3\\lib\\site-packages\\matplotlib\\offsetbox.py\u001b[0m in \u001b[0;36mget_extent_offsets\u001b[1;34m(self, renderer)\u001b[0m\n\u001b[0;32m    542\u001b[0m         \u001b[0msep\u001b[0m \u001b[1;33m=\u001b[0m \u001b[0mself\u001b[0m\u001b[1;33m.\u001b[0m\u001b[0msep\u001b[0m \u001b[1;33m*\u001b[0m \u001b[0mdpicor\u001b[0m\u001b[1;33m\u001b[0m\u001b[1;33m\u001b[0m\u001b[0m\n\u001b[0;32m    543\u001b[0m \u001b[1;33m\u001b[0m\u001b[0m\n\u001b[1;32m--> 544\u001b[1;33m         whd_list = [c.get_extent(renderer)\n\u001b[0m\u001b[0;32m    545\u001b[0m                     for c in self.get_visible_children()]\n\u001b[0;32m    546\u001b[0m \u001b[1;33m\u001b[0m\u001b[0m\n",
      "\u001b[1;32m~\\anaconda3\\lib\\site-packages\\matplotlib\\offsetbox.py\u001b[0m in \u001b[0;36m<listcomp>\u001b[1;34m(.0)\u001b[0m\n\u001b[0;32m    542\u001b[0m         \u001b[0msep\u001b[0m \u001b[1;33m=\u001b[0m \u001b[0mself\u001b[0m\u001b[1;33m.\u001b[0m\u001b[0msep\u001b[0m \u001b[1;33m*\u001b[0m \u001b[0mdpicor\u001b[0m\u001b[1;33m\u001b[0m\u001b[1;33m\u001b[0m\u001b[0m\n\u001b[0;32m    543\u001b[0m \u001b[1;33m\u001b[0m\u001b[0m\n\u001b[1;32m--> 544\u001b[1;33m         whd_list = [c.get_extent(renderer)\n\u001b[0m\u001b[0;32m    545\u001b[0m                     for c in self.get_visible_children()]\n\u001b[0;32m    546\u001b[0m \u001b[1;33m\u001b[0m\u001b[0m\n",
      "\u001b[1;32m~\\anaconda3\\lib\\site-packages\\matplotlib\\offsetbox.py\u001b[0m in \u001b[0;36mget_extent\u001b[1;34m(self, renderer)\u001b[0m\n\u001b[0;32m    884\u001b[0m             \"lp\", self._text._fontproperties, ismath=False)\n\u001b[0;32m    885\u001b[0m \u001b[1;33m\u001b[0m\u001b[0m\n\u001b[1;32m--> 886\u001b[1;33m         \u001b[0mbbox\u001b[0m\u001b[1;33m,\u001b[0m \u001b[0minfo\u001b[0m\u001b[1;33m,\u001b[0m \u001b[0md\u001b[0m \u001b[1;33m=\u001b[0m \u001b[0mself\u001b[0m\u001b[1;33m.\u001b[0m\u001b[0m_text\u001b[0m\u001b[1;33m.\u001b[0m\u001b[0m_get_layout\u001b[0m\u001b[1;33m(\u001b[0m\u001b[0mrenderer\u001b[0m\u001b[1;33m)\u001b[0m\u001b[1;33m\u001b[0m\u001b[1;33m\u001b[0m\u001b[0m\n\u001b[0m\u001b[0;32m    887\u001b[0m         \u001b[0mw\u001b[0m\u001b[1;33m,\u001b[0m \u001b[0mh\u001b[0m \u001b[1;33m=\u001b[0m \u001b[0mbbox\u001b[0m\u001b[1;33m.\u001b[0m\u001b[0mwidth\u001b[0m\u001b[1;33m,\u001b[0m \u001b[0mbbox\u001b[0m\u001b[1;33m.\u001b[0m\u001b[0mheight\u001b[0m\u001b[1;33m\u001b[0m\u001b[1;33m\u001b[0m\u001b[0m\n\u001b[0;32m    888\u001b[0m \u001b[1;33m\u001b[0m\u001b[0m\n",
      "\u001b[1;32m~\\anaconda3\\lib\\site-packages\\matplotlib\\text.py\u001b[0m in \u001b[0;36m_get_layout\u001b[1;34m(self, renderer)\u001b[0m\n\u001b[0;32m    285\u001b[0m \u001b[1;33m\u001b[0m\u001b[0m\n\u001b[0;32m    286\u001b[0m         \u001b[1;31m# Full vertical extent of font, including ascenders and descenders:\u001b[0m\u001b[1;33m\u001b[0m\u001b[1;33m\u001b[0m\u001b[1;33m\u001b[0m\u001b[0m\n\u001b[1;32m--> 287\u001b[1;33m         _, lp_h, lp_d = renderer.get_text_width_height_descent(\n\u001b[0m\u001b[0;32m    288\u001b[0m             \u001b[1;34m\"lp\"\u001b[0m\u001b[1;33m,\u001b[0m \u001b[0mself\u001b[0m\u001b[1;33m.\u001b[0m\u001b[0m_fontproperties\u001b[0m\u001b[1;33m,\u001b[0m\u001b[1;33m\u001b[0m\u001b[1;33m\u001b[0m\u001b[0m\n\u001b[0;32m    289\u001b[0m             ismath=\"TeX\" if self.get_usetex() else False)\n",
      "\u001b[1;32m~\\anaconda3\\lib\\site-packages\\matplotlib\\backends\\backend_agg.py\u001b[0m in \u001b[0;36mget_text_width_height_descent\u001b[1;34m(self, s, prop, ismath)\u001b[0m\n\u001b[0;32m    235\u001b[0m \u001b[1;33m\u001b[0m\u001b[0m\n\u001b[0;32m    236\u001b[0m         \u001b[0mflags\u001b[0m \u001b[1;33m=\u001b[0m \u001b[0mget_hinting_flag\u001b[0m\u001b[1;33m(\u001b[0m\u001b[1;33m)\u001b[0m\u001b[1;33m\u001b[0m\u001b[1;33m\u001b[0m\u001b[0m\n\u001b[1;32m--> 237\u001b[1;33m         \u001b[0mfont\u001b[0m \u001b[1;33m=\u001b[0m \u001b[0mself\u001b[0m\u001b[1;33m.\u001b[0m\u001b[0m_get_agg_font\u001b[0m\u001b[1;33m(\u001b[0m\u001b[0mprop\u001b[0m\u001b[1;33m)\u001b[0m\u001b[1;33m\u001b[0m\u001b[1;33m\u001b[0m\u001b[0m\n\u001b[0m\u001b[0;32m    238\u001b[0m         \u001b[0mfont\u001b[0m\u001b[1;33m.\u001b[0m\u001b[0mset_text\u001b[0m\u001b[1;33m(\u001b[0m\u001b[0ms\u001b[0m\u001b[1;33m,\u001b[0m \u001b[1;36m0.0\u001b[0m\u001b[1;33m,\u001b[0m \u001b[0mflags\u001b[0m\u001b[1;33m=\u001b[0m\u001b[0mflags\u001b[0m\u001b[1;33m)\u001b[0m\u001b[1;33m\u001b[0m\u001b[1;33m\u001b[0m\u001b[0m\n\u001b[0;32m    239\u001b[0m         \u001b[0mw\u001b[0m\u001b[1;33m,\u001b[0m \u001b[0mh\u001b[0m \u001b[1;33m=\u001b[0m \u001b[0mfont\u001b[0m\u001b[1;33m.\u001b[0m\u001b[0mget_width_height\u001b[0m\u001b[1;33m(\u001b[0m\u001b[1;33m)\u001b[0m  \u001b[1;31m# width and height of unrotated string\u001b[0m\u001b[1;33m\u001b[0m\u001b[1;33m\u001b[0m\u001b[0m\n",
      "\u001b[1;32m~\\anaconda3\\lib\\site-packages\\matplotlib\\backends\\backend_agg.py\u001b[0m in \u001b[0;36m_get_agg_font\u001b[1;34m(self, prop)\u001b[0m\n\u001b[0;32m    270\u001b[0m         \u001b[0mGet\u001b[0m \u001b[0mthe\u001b[0m \u001b[0mfont\u001b[0m \u001b[1;32mfor\u001b[0m \u001b[0mtext\u001b[0m \u001b[0minstance\u001b[0m \u001b[0mt\u001b[0m\u001b[1;33m,\u001b[0m \u001b[0mcaching\u001b[0m \u001b[1;32mfor\u001b[0m \u001b[0mefficiency\u001b[0m\u001b[1;33m\u001b[0m\u001b[1;33m\u001b[0m\u001b[0m\n\u001b[0;32m    271\u001b[0m         \"\"\"\n\u001b[1;32m--> 272\u001b[1;33m         \u001b[0mfname\u001b[0m \u001b[1;33m=\u001b[0m \u001b[0mfindfont\u001b[0m\u001b[1;33m(\u001b[0m\u001b[0mprop\u001b[0m\u001b[1;33m)\u001b[0m\u001b[1;33m\u001b[0m\u001b[1;33m\u001b[0m\u001b[0m\n\u001b[0m\u001b[0;32m    273\u001b[0m         \u001b[0mfont\u001b[0m \u001b[1;33m=\u001b[0m \u001b[0mget_font\u001b[0m\u001b[1;33m(\u001b[0m\u001b[0mfname\u001b[0m\u001b[1;33m)\u001b[0m\u001b[1;33m\u001b[0m\u001b[1;33m\u001b[0m\u001b[0m\n\u001b[0;32m    274\u001b[0m \u001b[1;33m\u001b[0m\u001b[0m\n",
      "\u001b[1;32m~\\anaconda3\\lib\\site-packages\\matplotlib\\font_manager.py\u001b[0m in \u001b[0;36mfindfont\u001b[1;34m(self, prop, fontext, directory, fallback_to_default, rebuild_if_missing)\u001b[0m\n\u001b[0;32m   1312\u001b[0m             \u001b[0mprop\u001b[0m\u001b[1;33m,\u001b[0m \u001b[0mfontext\u001b[0m\u001b[1;33m,\u001b[0m \u001b[0mdirectory\u001b[0m\u001b[1;33m,\u001b[0m \u001b[0mfallback_to_default\u001b[0m\u001b[1;33m,\u001b[0m \u001b[0mrebuild_if_missing\u001b[0m\u001b[1;33m,\u001b[0m\u001b[1;33m\u001b[0m\u001b[1;33m\u001b[0m\u001b[0m\n\u001b[0;32m   1313\u001b[0m             rc_params)\n\u001b[1;32m-> 1314\u001b[1;33m         \u001b[1;32mreturn\u001b[0m \u001b[0mos\u001b[0m\u001b[1;33m.\u001b[0m\u001b[0mpath\u001b[0m\u001b[1;33m.\u001b[0m\u001b[0mrealpath\u001b[0m\u001b[1;33m(\u001b[0m\u001b[0mfilename\u001b[0m\u001b[1;33m)\u001b[0m\u001b[1;33m\u001b[0m\u001b[1;33m\u001b[0m\u001b[0m\n\u001b[0m\u001b[0;32m   1315\u001b[0m \u001b[1;33m\u001b[0m\u001b[0m\n\u001b[0;32m   1316\u001b[0m     \u001b[1;33m@\u001b[0m\u001b[0mlru_cache\u001b[0m\u001b[1;33m(\u001b[0m\u001b[1;33m)\u001b[0m\u001b[1;33m\u001b[0m\u001b[1;33m\u001b[0m\u001b[0m\n",
      "\u001b[1;32m~\\anaconda3\\lib\\ntpath.py\u001b[0m in \u001b[0;36mrealpath\u001b[1;34m(path)\u001b[0m\n\u001b[0;32m    662\u001b[0m             \u001b[1;31m# Ensure that the non-prefixed path resolves to the same path\u001b[0m\u001b[1;33m\u001b[0m\u001b[1;33m\u001b[0m\u001b[1;33m\u001b[0m\u001b[0m\n\u001b[0;32m    663\u001b[0m             \u001b[1;32mtry\u001b[0m\u001b[1;33m:\u001b[0m\u001b[1;33m\u001b[0m\u001b[1;33m\u001b[0m\u001b[0m\n\u001b[1;32m--> 664\u001b[1;33m                 \u001b[1;32mif\u001b[0m \u001b[0m_getfinalpathname\u001b[0m\u001b[1;33m(\u001b[0m\u001b[0mspath\u001b[0m\u001b[1;33m)\u001b[0m \u001b[1;33m==\u001b[0m \u001b[0mpath\u001b[0m\u001b[1;33m:\u001b[0m\u001b[1;33m\u001b[0m\u001b[1;33m\u001b[0m\u001b[0m\n\u001b[0m\u001b[0;32m    665\u001b[0m                     \u001b[0mpath\u001b[0m \u001b[1;33m=\u001b[0m \u001b[0mspath\u001b[0m\u001b[1;33m\u001b[0m\u001b[1;33m\u001b[0m\u001b[0m\n\u001b[0;32m    666\u001b[0m             \u001b[1;32mexcept\u001b[0m \u001b[0mOSError\u001b[0m \u001b[1;32mas\u001b[0m \u001b[0mex\u001b[0m\u001b[1;33m:\u001b[0m\u001b[1;33m\u001b[0m\u001b[1;33m\u001b[0m\u001b[0m\n",
      "\u001b[1;31mKeyboardInterrupt\u001b[0m: "
     ]
    }
   ],
   "source": [
    "sns.histplot(x='discomfort', data = data, hue = 'count')\n",
    "plt.xticks(rotation=60)\n",
    "plt.show()"
   ]
  },
  {
   "cell_type": "markdown",
   "id": "e6331a56",
   "metadata": {},
   "source": [
    "#### 6. 낮동안의(오전 11시 - 오후 7시) 미세먼지 수치가 76이상, 초미세먼지 수치가 38이상일 때 (상당히 나쁨 기준) 따릉이 수요량이 낮아질 것이다."
   ]
  },
  {
   "cell_type": "code",
   "execution_count": 265,
   "id": "343affd3",
   "metadata": {},
   "outputs": [],
   "source": [
    "daypm10 = data.loc[data['hour'].between(11, 21), ['PM10']]\n",
    "daypm2 = data.loc[data['hour'].between(11, 21), ['PM2.5']]"
   ]
  },
  {
   "cell_type": "code",
   "execution_count": 279,
   "id": "32ad1d50",
   "metadata": {},
   "outputs": [
    {
     "data": {
      "text/html": [
       "<div>\n",
       "<style scoped>\n",
       "    .dataframe tbody tr th:only-of-type {\n",
       "        vertical-align: middle;\n",
       "    }\n",
       "\n",
       "    .dataframe tbody tr th {\n",
       "        vertical-align: top;\n",
       "    }\n",
       "\n",
       "    .dataframe thead th {\n",
       "        text-align: right;\n",
       "    }\n",
       "</style>\n",
       "<table border=\"1\" class=\"dataframe\">\n",
       "  <thead>\n",
       "    <tr style=\"text-align: right;\">\n",
       "      <th></th>\n",
       "      <th>PM2.5</th>\n",
       "    </tr>\n",
       "  </thead>\n",
       "  <tbody>\n",
       "    <tr>\n",
       "      <th>10</th>\n",
       "      <td>9.0</td>\n",
       "    </tr>\n",
       "    <tr>\n",
       "      <th>11</th>\n",
       "      <td>8.0</td>\n",
       "    </tr>\n",
       "    <tr>\n",
       "      <th>12</th>\n",
       "      <td>9.0</td>\n",
       "    </tr>\n",
       "    <tr>\n",
       "      <th>13</th>\n",
       "      <td>10.0</td>\n",
       "    </tr>\n",
       "    <tr>\n",
       "      <th>14</th>\n",
       "      <td>9.0</td>\n",
       "    </tr>\n",
       "    <tr>\n",
       "      <th>...</th>\n",
       "      <td>...</td>\n",
       "    </tr>\n",
       "    <tr>\n",
       "      <th>5819</th>\n",
       "      <td>37.0</td>\n",
       "    </tr>\n",
       "    <tr>\n",
       "      <th>5820</th>\n",
       "      <td>40.0</td>\n",
       "    </tr>\n",
       "    <tr>\n",
       "      <th>5821</th>\n",
       "      <td>44.0</td>\n",
       "    </tr>\n",
       "    <tr>\n",
       "      <th>5822</th>\n",
       "      <td>58.0</td>\n",
       "    </tr>\n",
       "    <tr>\n",
       "      <th>5823</th>\n",
       "      <td>56.0</td>\n",
       "    </tr>\n",
       "  </tbody>\n",
       "</table>\n",
       "<p>2673 rows × 1 columns</p>\n",
       "</div>"
      ],
      "text/plain": [
       "      PM2.5\n",
       "10      9.0\n",
       "11      8.0\n",
       "12      9.0\n",
       "13     10.0\n",
       "14      9.0\n",
       "...     ...\n",
       "5819   37.0\n",
       "5820   40.0\n",
       "5821   44.0\n",
       "5822   58.0\n",
       "5823   56.0\n",
       "\n",
       "[2673 rows x 1 columns]"
      ]
     },
     "execution_count": 279,
     "metadata": {},
     "output_type": "execute_result"
    }
   ],
   "source": [
    "daypm2"
   ]
  },
  {
   "cell_type": "code",
   "execution_count": 280,
   "id": "440e12d6",
   "metadata": {},
   "outputs": [],
   "source": [
    "def makeDust(pm10, pm2):\n",
    "    if (float(pm10)>=76) | (float(pm2)>=38):\n",
    "        return 1\n",
    "    else:\n",
    "        return 0\n",
    "dust = [makeDust(p10, p2) for p10, p2 in zip(daypm10['PM10'], daypm2['PM2.5'])]"
   ]
  },
  {
   "cell_type": "code",
   "execution_count": 295,
   "id": "de000808",
   "metadata": {},
   "outputs": [],
   "source": [
    "cntForDust = data.loc[data['hour'].between(11, 21), ['count']]"
   ]
  },
  {
   "cell_type": "code",
   "execution_count": 301,
   "id": "619b91b5",
   "metadata": {},
   "outputs": [
    {
     "data": {
      "text/plain": [
       "Ttest_indResult(statistic=-92.18565307111898, pvalue=0.0)"
      ]
     },
     "execution_count": 301,
     "metadata": {},
     "output_type": "execute_result"
    }
   ],
   "source": [
    "spst.ttest_ind(dust, cntForDust['count'])"
   ]
  },
  {
   "cell_type": "code",
   "execution_count": 303,
   "id": "303054eb",
   "metadata": {},
   "outputs": [
    {
     "name": "stdout",
     "output_type": "stream",
     "text": [
      "Optimization terminated successfully.\n",
      "         Current function value: 0.275201\n",
      "         Iterations 7\n",
      "count    6.833855e-181\n",
      "dtype: float64\n"
     ]
    }
   ],
   "source": [
    "import statsmodels.api as sm\n",
    "model = sm.Logit(dust, cntForDust)\n",
    "result = model.fit()\n",
    "print(result.pvalues)"
   ]
  },
  {
   "cell_type": "markdown",
   "id": "8b1f5479",
   "metadata": {},
   "source": [
    "#### <font color='green'>1. 강한 관계의 변수 (대립가설 채택)</font>"
   ]
  },
  {
   "cell_type": "markdown",
   "id": "ebfea2a3",
   "metadata": {},
   "source": []
  },
  {
   "cell_type": "markdown",
   "id": "17a02f88",
   "metadata": {},
   "source": [
    "- 하루 치 시정값의 평균, 대여량\n",
    "- window size=3 만큼의 비가 온 여부, 대여량\n",
    "- 하루 평균 기온이 26도보다 높거나 15도 보다 낮은지 여부, 대여량\n",
    "- 불쾌지수 조건 충족 여부, 대여량\n",
    "- 낮시간 미세먼지 및 초미세먼지 '상당히 나쁨 기준' 충족 여부, 대여량"
   ]
  },
  {
   "cell_type": "markdown",
   "id": "656b4439",
   "metadata": {},
   "source": [
    "#### <font color='green'>2. 약한 관계의 변수</font>\n"
   ]
  },
  {
   "cell_type": "markdown",
   "id": "8af19768",
   "metadata": {},
   "source": []
  },
  {
   "cell_type": "markdown",
   "id": "38b18e41",
   "metadata": {},
   "source": [
    "#### <font color='green'>3. 관계 없는 변수 (귀무가설 채택)</font>\n"
   ]
  },
  {
   "cell_type": "markdown",
   "id": "6afd4247",
   "metadata": {},
   "source": []
  },
  {
   "cell_type": "markdown",
   "id": "9f648739",
   "metadata": {},
   "source": [
    "- 1번가설"
   ]
  },
  {
   "cell_type": "markdown",
   "id": "51c63e70",
   "metadata": {},
   "source": [
    "### 6. Insight 도출"
   ]
  },
  {
   "cell_type": "markdown",
   "id": "463d041a",
   "metadata": {},
   "source": []
  },
  {
   "cell_type": "markdown",
   "id": "4165a749",
   "metadata": {},
   "source": [
    "- 1. 불쾌지수가 높은 달인 7, 8, 9월에는 따릉이 규모를 축소하고 다른 달에 확대한다.\n",
    "- 2. 기온이 26도 이상이거나 15도 이하인 시간이 많은 8월과 12월에 따릉이 규모를 축소하고 다른달에 확대한다.\n",
    "- 3. "
   ]
  }
 ],
 "metadata": {
  "colab": {
   "name": "1. 데이터 불러오기 및 분석(EDA).ipynb",
   "provenance": []
  },
  "kernelspec": {
   "display_name": "Python 3",
   "language": "python",
   "name": "python3"
  },
  "language_info": {
   "codemirror_mode": {
    "name": "ipython",
    "version": 3
   },
   "file_extension": ".py",
   "mimetype": "text/x-python",
   "name": "python",
   "nbconvert_exporter": "python",
   "pygments_lexer": "ipython3",
   "version": "3.8.8"
  },
  "vscode": {
   "interpreter": {
    "hash": "e42634819b8c191a5d07eaf23810ff32516dd8d3875f28ec3e488928fbd3c187"
   }
  }
 },
 "nbformat": 4,
 "nbformat_minor": 5
}
