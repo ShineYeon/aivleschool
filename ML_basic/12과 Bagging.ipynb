{
 "cells": [
  {
   "cell_type": "markdown",
   "metadata": {
    "id": "AVG5bLhFJe6a"
   },
   "source": [
    "# Ensemble : Bagging"
   ]
  },
  {
   "cell_type": "markdown",
   "metadata": {
    "id": "O1uL0UIEzBPw"
   },
   "source": [
    "## 1.환경준비"
   ]
  },
  {
   "cell_type": "markdown",
   "metadata": {
    "id": "vNt997De17qz"
   },
   "source": [
    "### (1) import"
   ]
  },
  {
   "cell_type": "code",
   "execution_count": 1,
   "metadata": {
    "id": "GugpCLBiVHzd"
   },
   "outputs": [],
   "source": [
    "#라이브러리들을 불러오자.\n",
    "import numpy as np\n",
    "import pandas as pd\n",
    "import matplotlib.pyplot as plt\n",
    "import seaborn as sns\n",
    "\n",
    "# 전처리\n",
    "from sklearn.model_selection import train_test_split\n",
    "from sklearn.preprocessing import MinMaxScaler\n",
    "\n",
    "# 모델링\n",
    "from sklearn.tree import plot_tree # 이렇게해서 트리들을 열어볼 수 있다.\n",
    "from sklearn.ensemble import RandomForestClassifier # random forest 분류기\n",
    "from sklearn.metrics import * \n",
    "from sklearn.model_selection import RandomizedSearchCV, GridSearchCV\n",
    "\n",
    "import warnings    # 경고메시지 제외\n",
    "warnings.filterwarnings(action='ignore')"
   ]
  },
  {
   "cell_type": "markdown",
   "metadata": {
    "id": "CG-FeAY4f25C"
   },
   "source": [
    "### (2) 데이터 준비"
   ]
  },
  {
   "cell_type": "markdown",
   "metadata": {
    "id": "LGBEnPENs4Fs"
   },
   "source": [
    "* 변수설명\n",
    "    * COLLEGE : 대학 졸업여부\n",
    "    * INCOME : 연수입\n",
    "    * OVERAGE : 월평균 초과사용 시간(분)\n",
    "    * LEFTOVER : 월평균 잔여시간비율(%)\n",
    "    * HOUSE : 집값\n",
    "    * HANDSET_PRICE : 스마트폰 가격\n",
    "    * OVER_15MINS_CALLS_PER_MONTH : 월평균 장기통화(15분이상) 횟수\n",
    "    * AVERAGE_CALL_DURATION : 평균 통화 시간\n",
    "    * REPORTED_SATISFACTION : 만족도 설문조사 결과\n",
    "    * REPORTED_USAGE_LEVEL : 사용도 자가진단 결과\n",
    "    * CONSIDERING_CHANGE_OF_PLAN : 향후 변경계획 설문조사 결과\n",
    "    * CHURN : 이탈(번호이동) 여부 (1-이탈, 0-잔류, Target 변수)\n"
   ]
  },
  {
   "cell_type": "code",
   "execution_count": 2,
   "metadata": {
    "id": "8omLhiDis4Fs"
   },
   "outputs": [
    {
     "data": {
      "text/html": [
       "<div>\n",
       "<style scoped>\n",
       "    .dataframe tbody tr th:only-of-type {\n",
       "        vertical-align: middle;\n",
       "    }\n",
       "\n",
       "    .dataframe tbody tr th {\n",
       "        vertical-align: top;\n",
       "    }\n",
       "\n",
       "    .dataframe thead th {\n",
       "        text-align: right;\n",
       "    }\n",
       "</style>\n",
       "<table border=\"1\" class=\"dataframe\">\n",
       "  <thead>\n",
       "    <tr style=\"text-align: right;\">\n",
       "      <th></th>\n",
       "      <th>id</th>\n",
       "      <th>COLLEGE</th>\n",
       "      <th>INCOME</th>\n",
       "      <th>OVERAGE</th>\n",
       "      <th>LEFTOVER</th>\n",
       "      <th>HOUSE</th>\n",
       "      <th>HANDSET_PRICE</th>\n",
       "      <th>OVER_15MINS_CALLS_PER_MONTH</th>\n",
       "      <th>AVERAGE_CALL_DURATION</th>\n",
       "      <th>REPORTED_SATISFACTION</th>\n",
       "      <th>REPORTED_USAGE_LEVEL</th>\n",
       "      <th>CONSIDERING_CHANGE_OF_PLAN</th>\n",
       "      <th>CHURN</th>\n",
       "    </tr>\n",
       "  </thead>\n",
       "  <tbody>\n",
       "    <tr>\n",
       "      <th>3178</th>\n",
       "      <td>3179</td>\n",
       "      <td>0</td>\n",
       "      <td>119512</td>\n",
       "      <td>51</td>\n",
       "      <td>31</td>\n",
       "      <td>248566</td>\n",
       "      <td>229</td>\n",
       "      <td>5</td>\n",
       "      <td>2</td>\n",
       "      <td>very_sat</td>\n",
       "      <td>very_high</td>\n",
       "      <td>considering</td>\n",
       "      <td>1</td>\n",
       "    </tr>\n",
       "    <tr>\n",
       "      <th>14926</th>\n",
       "      <td>14927</td>\n",
       "      <td>1</td>\n",
       "      <td>142144</td>\n",
       "      <td>192</td>\n",
       "      <td>15</td>\n",
       "      <td>774317</td>\n",
       "      <td>581</td>\n",
       "      <td>29</td>\n",
       "      <td>4</td>\n",
       "      <td>unsat</td>\n",
       "      <td>very_little</td>\n",
       "      <td>never_thought</td>\n",
       "      <td>1</td>\n",
       "    </tr>\n",
       "    <tr>\n",
       "      <th>15116</th>\n",
       "      <td>15117</td>\n",
       "      <td>1</td>\n",
       "      <td>142308</td>\n",
       "      <td>0</td>\n",
       "      <td>79</td>\n",
       "      <td>306426</td>\n",
       "      <td>497</td>\n",
       "      <td>1</td>\n",
       "      <td>1</td>\n",
       "      <td>sat</td>\n",
       "      <td>little</td>\n",
       "      <td>considering</td>\n",
       "      <td>0</td>\n",
       "    </tr>\n",
       "    <tr>\n",
       "      <th>12733</th>\n",
       "      <td>12734</td>\n",
       "      <td>1</td>\n",
       "      <td>113385</td>\n",
       "      <td>0</td>\n",
       "      <td>0</td>\n",
       "      <td>333599</td>\n",
       "      <td>819</td>\n",
       "      <td>1</td>\n",
       "      <td>6</td>\n",
       "      <td>very_unsat</td>\n",
       "      <td>very_high</td>\n",
       "      <td>considering</td>\n",
       "      <td>1</td>\n",
       "    </tr>\n",
       "    <tr>\n",
       "      <th>14032</th>\n",
       "      <td>14033</td>\n",
       "      <td>1</td>\n",
       "      <td>90348</td>\n",
       "      <td>209</td>\n",
       "      <td>10</td>\n",
       "      <td>637286</td>\n",
       "      <td>360</td>\n",
       "      <td>26</td>\n",
       "      <td>4</td>\n",
       "      <td>unsat</td>\n",
       "      <td>little</td>\n",
       "      <td>actively_looking_into_it</td>\n",
       "      <td>0</td>\n",
       "    </tr>\n",
       "  </tbody>\n",
       "</table>\n",
       "</div>"
      ],
      "text/plain": [
       "          id  COLLEGE  INCOME  OVERAGE  LEFTOVER   HOUSE  HANDSET_PRICE  \\\n",
       "3178    3179        0  119512       51        31  248566            229   \n",
       "14926  14927        1  142144      192        15  774317            581   \n",
       "15116  15117        1  142308        0        79  306426            497   \n",
       "12733  12734        1  113385        0         0  333599            819   \n",
       "14032  14033        1   90348      209        10  637286            360   \n",
       "\n",
       "       OVER_15MINS_CALLS_PER_MONTH  AVERAGE_CALL_DURATION  \\\n",
       "3178                             5                      2   \n",
       "14926                           29                      4   \n",
       "15116                            1                      1   \n",
       "12733                            1                      6   \n",
       "14032                           26                      4   \n",
       "\n",
       "      REPORTED_SATISFACTION REPORTED_USAGE_LEVEL CONSIDERING_CHANGE_OF_PLAN  \\\n",
       "3178               very_sat            very_high                considering   \n",
       "14926                 unsat          very_little              never_thought   \n",
       "15116                   sat               little                considering   \n",
       "12733            very_unsat            very_high                considering   \n",
       "14032                 unsat               little   actively_looking_into_it   \n",
       "\n",
       "       CHURN  \n",
       "3178       1  \n",
       "14926      1  \n",
       "15116      0  \n",
       "12733      1  \n",
       "14032      0  "
      ]
     },
     "execution_count": 2,
     "metadata": {},
     "output_type": "execute_result"
    }
   ],
   "source": [
    "# 데이터를 불러옵시다.\n",
    "path = 'https://raw.githubusercontent.com/DA4BAM/dataset/master/mobile_cust_churn.csv'\n",
    "data = pd.read_csv(path)\n",
    "data = data.sample(5000, random_state = 2022)\n",
    "data['CHURN'] = data['CHURN'].map({'LEAVE':1, 'STAY':0})\n",
    "data.head()"
   ]
  },
  {
   "cell_type": "markdown",
   "metadata": {
    "id": "wW0d0eGmCYJM"
   },
   "source": [
    "## 2.데이터 준비"
   ]
  },
  {
   "cell_type": "markdown",
   "metadata": {
    "id": "y9Q6jR6OZjUk"
   },
   "source": [
    "### (1) 데이터 정리"
   ]
  },
  {
   "cell_type": "code",
   "execution_count": 3,
   "metadata": {
    "id": "Dhi6-3jgrEgQ"
   },
   "outputs": [],
   "source": [
    "drop_cols = ['id']\n",
    "data.drop(drop_cols, axis = 1, inplace = True )"
   ]
  },
  {
   "cell_type": "markdown",
   "metadata": {
    "id": "WpJEGpUuuVWm"
   },
   "source": [
    "### (2) 데이터분할1 : x, y 나누기"
   ]
  },
  {
   "cell_type": "code",
   "execution_count": 4,
   "metadata": {
    "id": "3u8-Ovu4ADVn"
   },
   "outputs": [],
   "source": [
    "target = 'CHURN'\n",
    "x = data.drop(target, axis = 1)\n",
    "y = data.loc[:, target]"
   ]
  },
  {
   "cell_type": "markdown",
   "metadata": {
    "id": "mp_5volyuaA1"
   },
   "source": [
    "### (3) NA 조치"
   ]
  },
  {
   "cell_type": "markdown",
   "metadata": {
    "id": "nOF9fSLQugGf"
   },
   "source": [
    "### (4) 가변수화"
   ]
  },
  {
   "cell_type": "code",
   "execution_count": 5,
   "metadata": {
    "id": "CZgBC2QSoKc8"
   },
   "outputs": [],
   "source": [
    "dumm_cols = ['REPORTED_SATISFACTION','REPORTED_USAGE_LEVEL','CONSIDERING_CHANGE_OF_PLAN']\n",
    "x = pd.get_dummies(x, columns = dumm_cols, drop_first = True)"
   ]
  },
  {
   "cell_type": "markdown",
   "metadata": {
    "id": "Mlz_XI5zAkke"
   },
   "source": [
    "### (5) 데이터분할2 : train : validation"
   ]
  },
  {
   "cell_type": "code",
   "execution_count": 6,
   "metadata": {
    "id": "U5_90TWnhexz"
   },
   "outputs": [],
   "source": [
    "x_train, x_val, y_train, y_val = train_test_split(x, y, test_size=.3, random_state = 2022)"
   ]
  },
  {
   "cell_type": "markdown",
   "metadata": {
    "id": "XKCwnOC5i8PV"
   },
   "source": [
    "## 3.모델링 : 랜덤포레스트\n"
   ]
  },
  {
   "cell_type": "code",
   "execution_count": 7,
   "metadata": {
    "id": "H0ddP6SlqRHv"
   },
   "outputs": [],
   "source": [
    "# 모델 선언\n",
    "# n_estimator: 모델 개수(트리) , 기본 값은 100 \n",
    "# max_depth : 트리니까 max_depth 옵션 추가\n",
    "model = RandomForestClassifier(n_estimators = 5, max_depth = 3)"
   ]
  },
  {
   "cell_type": "code",
   "execution_count": 8,
   "metadata": {
    "id": "ZTVihfwNqRHx"
   },
   "outputs": [
    {
     "data": {
      "text/plain": [
       "RandomForestClassifier(max_depth=3, n_estimators=5)"
      ]
     },
     "execution_count": 8,
     "metadata": {},
     "output_type": "execute_result"
    }
   ],
   "source": [
    "# 학습\n",
    "model.fit(x_train, y_train)"
   ]
  },
  {
   "cell_type": "code",
   "execution_count": 9,
   "metadata": {
    "id": "2gXzn8Qa5NQS"
   },
   "outputs": [],
   "source": [
    "# 예측\n",
    "pred = model.predict(x_val)"
   ]
  },
  {
   "cell_type": "code",
   "execution_count": 10,
   "metadata": {
    "id": "322ZrUXr5NQS"
   },
   "outputs": [
    {
     "name": "stdout",
     "output_type": "stream",
     "text": [
      "              precision    recall  f1-score   support\n",
      "\n",
      "           0       0.69      0.70      0.70       769\n",
      "           1       0.68      0.67      0.68       731\n",
      "\n",
      "    accuracy                           0.69      1500\n",
      "   macro avg       0.69      0.69      0.69      1500\n",
      "weighted avg       0.69      0.69      0.69      1500\n",
      "\n"
     ]
    }
   ],
   "source": [
    "# 평가\n",
    "print(classification_report(y_val, pred))"
   ]
  },
  {
   "cell_type": "markdown",
   "metadata": {
    "id": "VIBByHoq5UnD"
   },
   "source": [
    "## 4.시각화와 변수중요도"
   ]
  },
  {
   "cell_type": "markdown",
   "metadata": {
    "id": "l7HDjalZvn5V"
   },
   "source": [
    "### (1) 모델의 내부를 살펴봅시다."
   ]
  },
  {
   "cell_type": "code",
   "execution_count": 11,
   "metadata": {
    "id": "aFIZR3G2lHNx",
    "scrolled": true
   },
   "outputs": [
    {
     "data": {
      "text/plain": [
       "[DecisionTreeClassifier(max_depth=3, max_features='auto', random_state=956116958),\n",
       " DecisionTreeClassifier(max_depth=3, max_features='auto', random_state=124981335),\n",
       " DecisionTreeClassifier(max_depth=3, max_features='auto',\n",
       "                        random_state=1904172914),\n",
       " DecisionTreeClassifier(max_depth=3, max_features='auto', random_state=190203699),\n",
       " DecisionTreeClassifier(max_depth=3, max_features='auto',\n",
       "                        random_state=1999596570)]"
      ]
     },
     "execution_count": 11,
     "metadata": {},
     "output_type": "execute_result"
    }
   ],
   "source": [
    "# 5개 decision tree (랜덤포레스트 다섯개의 모델)\n",
    "model.estimators_\n",
    "# max_features auto는 랜덤값"
   ]
  },
  {
   "cell_type": "code",
   "execution_count": 12,
   "metadata": {
    "scrolled": true
   },
   "outputs": [
    {
     "data": {
      "text/plain": [
       "DecisionTreeClassifier(max_depth=3, max_features='auto', random_state=432094718)"
      ]
     },
     "execution_count": 12,
     "metadata": {},
     "output_type": "execute_result"
    }
   ],
   "source": [
    "model.estimators_[0] # 첫번째 decisiontree"
   ]
  },
  {
   "cell_type": "code",
   "execution_count": null,
   "metadata": {},
   "outputs": [],
   "source": [
    "#랜덤 포레스트 시각화는 트리 하나하나 열어서 시각화한다는 것임"
   ]
  },
  {
   "cell_type": "code",
   "execution_count": 12,
   "metadata": {
    "id": "lrMz1G6AlHb3"
   },
   "outputs": [
    {
     "data": {
      "image/png": "[encoded data removed]",
      "text/plain": [
       "<Figure size 1440x432 with 1 Axes>"
      ]
     },
     "metadata": {
      "needs_background": "light"
     },
     "output_type": "display_data"
    }
   ],
   "source": [
    "# 각 트리별로 시각화 할 수 있다.\n",
    "plt.figure(figsize=(20,6))\n",
    "\n",
    "# 첫번째 트리 보여줘\n",
    "plot_tree(model.estimators_[0], \n",
    "               feature_names = x_train.columns,\n",
    "               class_names= ['LEAVE','STAY'], \n",
    "               filled = True, fontsize = 8);"
   ]
  },
  {
   "cell_type": "markdown",
   "metadata": {
    "id": "1A3IrSloyvMc"
   },
   "source": [
    "### (2) 변수 중요도"
   ]
  },
  {
   "cell_type": "code",
   "execution_count": 13,
   "metadata": {
    "id": "yMzgMkHix8hH"
   },
   "outputs": [
    {
     "name": "stdout",
     "output_type": "stream",
     "text": [
      "Index(['COLLEGE', 'INCOME', 'OVERAGE', 'LEFTOVER', 'HOUSE', 'HANDSET_PRICE',\n",
      "       'OVER_15MINS_CALLS_PER_MONTH', 'AVERAGE_CALL_DURATION',\n",
      "       'REPORTED_SATISFACTION_sat', 'REPORTED_SATISFACTION_unsat',\n",
      "       'REPORTED_SATISFACTION_very_sat', 'REPORTED_SATISFACTION_very_unsat',\n",
      "       'REPORTED_USAGE_LEVEL_high', 'REPORTED_USAGE_LEVEL_little',\n",
      "       'REPORTED_USAGE_LEVEL_very_high', 'REPORTED_USAGE_LEVEL_very_little',\n",
      "       'CONSIDERING_CHANGE_OF_PLAN_considering',\n",
      "       'CONSIDERING_CHANGE_OF_PLAN_never_thought',\n",
      "       'CONSIDERING_CHANGE_OF_PLAN_no', 'CONSIDERING_CHANGE_OF_PLAN_perhaps'],\n",
      "      dtype='object')\n",
      "[9.36418690e-03 2.11492987e-01 2.20127307e-01 2.29142902e-02\n",
      " 2.25599043e-01 1.02172075e-01 2.70643593e-02 1.61413509e-01\n",
      " 5.30729421e-03 1.10427981e-03 1.26198440e-03 6.10272312e-04\n",
      " 0.00000000e+00 0.00000000e+00 1.13935902e-02 0.00000000e+00\n",
      " 1.74822813e-04 0.00000000e+00 0.00000000e+00 0.00000000e+00]\n"
     ]
    }
   ],
   "source": [
    "# 변수 중요도 (트리 각각의 변수 중요도를 평균 내서 전체의 변수 중요도)\n",
    "print(x_train.columns)\n",
    "print(model.feature_importances_)"
   ]
  },
  {
   "cell_type": "markdown",
   "metadata": {
    "id": "sWJZioD01kne"
   },
   "source": [
    "* 변수중요도 그래프 그리기 함수 만들기"
   ]
  },
  {
   "cell_type": "code",
   "execution_count": 14,
   "metadata": {
    "id": "U2yhFi1Z1mx5"
   },
   "outputs": [],
   "source": [
    "# 변수중요도를 표로 보기\n",
    "def plot_feature_importance(importance, names):\n",
    "    feature_importance = np.array(importance)\n",
    "    feature_names = np.array(names)\n",
    "\n",
    "    data={'feature_names':feature_names,'feature_importance':feature_importance}\n",
    "    fi_df = pd.DataFrame(data)\n",
    "\n",
    "    fi_df.sort_values(by=['feature_importance'], ascending=False,inplace=True)\n",
    "    fi_df.reset_index(drop=True, inplace = True)\n",
    "\n",
    "    plt.figure(figsize=(10,8))\n",
    "    sns.barplot(x='feature_importance', y='feature_names', data = fi_df)\n",
    "\n",
    "    plt.xlabel('FEATURE IMPORTANCE')\n",
    "    plt.ylabel('FEATURE NAMES')\n",
    "    plt.grid()\n",
    "\n",
    "    return fi_df"
   ]
  },
  {
   "cell_type": "code",
   "execution_count": 15,
   "metadata": {
    "id": "zp9JdYhF16Kl"
   },
   "outputs": [
    {
     "data": {
      "image/png": "[encoded data removed]",
      "text/plain": [
       "<Figure size 720x576 with 1 Axes>"
      ]
     },
     "metadata": {
      "needs_background": "light"
     },
     "output_type": "display_data"
    }
   ],
   "source": [
    "result = plot_feature_importance(model.feature_importances_, x_train.columns)\n",
    "# 100개 만들면 중요도가 달라질 수 있다.\n",
    "# 변수 중요도 뽑는 알고리즘 boruta => model.feature_importances 가지고 일반화할 수 있구나.\n",
    "# 일반적으로 변수중요도도 볼 수 있지 않겠어? 라는 관점에서 boruta 알고리즘 생겨남"
   ]
  },
  {
   "cell_type": "code",
   "execution_count": 16,
   "metadata": {},
   "outputs": [
    {
     "data": {
      "text/html": [
       "<div>\n",
       "<style scoped>\n",
       "    .dataframe tbody tr th:only-of-type {\n",
       "        vertical-align: middle;\n",
       "    }\n",
       "\n",
       "    .dataframe tbody tr th {\n",
       "        vertical-align: top;\n",
       "    }\n",
       "\n",
       "    .dataframe thead th {\n",
       "        text-align: right;\n",
       "    }\n",
       "</style>\n",
       "<table border=\"1\" class=\"dataframe\">\n",
       "  <thead>\n",
       "    <tr style=\"text-align: right;\">\n",
       "      <th></th>\n",
       "      <th>feature_names</th>\n",
       "      <th>feature_importance</th>\n",
       "    </tr>\n",
       "  </thead>\n",
       "  <tbody>\n",
       "    <tr>\n",
       "      <th>0</th>\n",
       "      <td>HOUSE</td>\n",
       "      <td>0.225599</td>\n",
       "    </tr>\n",
       "    <tr>\n",
       "      <th>1</th>\n",
       "      <td>OVERAGE</td>\n",
       "      <td>0.220127</td>\n",
       "    </tr>\n",
       "    <tr>\n",
       "      <th>2</th>\n",
       "      <td>INCOME</td>\n",
       "      <td>0.211493</td>\n",
       "    </tr>\n",
       "    <tr>\n",
       "      <th>3</th>\n",
       "      <td>AVERAGE_CALL_DURATION</td>\n",
       "      <td>0.161414</td>\n",
       "    </tr>\n",
       "    <tr>\n",
       "      <th>4</th>\n",
       "      <td>HANDSET_PRICE</td>\n",
       "      <td>0.102172</td>\n",
       "    </tr>\n",
       "    <tr>\n",
       "      <th>5</th>\n",
       "      <td>OVER_15MINS_CALLS_PER_MONTH</td>\n",
       "      <td>0.027064</td>\n",
       "    </tr>\n",
       "    <tr>\n",
       "      <th>6</th>\n",
       "      <td>LEFTOVER</td>\n",
       "      <td>0.022914</td>\n",
       "    </tr>\n",
       "    <tr>\n",
       "      <th>7</th>\n",
       "      <td>REPORTED_USAGE_LEVEL_very_high</td>\n",
       "      <td>0.011394</td>\n",
       "    </tr>\n",
       "    <tr>\n",
       "      <th>8</th>\n",
       "      <td>COLLEGE</td>\n",
       "      <td>0.009364</td>\n",
       "    </tr>\n",
       "    <tr>\n",
       "      <th>9</th>\n",
       "      <td>REPORTED_SATISFACTION_sat</td>\n",
       "      <td>0.005307</td>\n",
       "    </tr>\n",
       "    <tr>\n",
       "      <th>10</th>\n",
       "      <td>REPORTED_SATISFACTION_very_sat</td>\n",
       "      <td>0.001262</td>\n",
       "    </tr>\n",
       "    <tr>\n",
       "      <th>11</th>\n",
       "      <td>REPORTED_SATISFACTION_unsat</td>\n",
       "      <td>0.001104</td>\n",
       "    </tr>\n",
       "    <tr>\n",
       "      <th>12</th>\n",
       "      <td>REPORTED_SATISFACTION_very_unsat</td>\n",
       "      <td>0.000610</td>\n",
       "    </tr>\n",
       "    <tr>\n",
       "      <th>13</th>\n",
       "      <td>CONSIDERING_CHANGE_OF_PLAN_considering</td>\n",
       "      <td>0.000175</td>\n",
       "    </tr>\n",
       "    <tr>\n",
       "      <th>14</th>\n",
       "      <td>REPORTED_USAGE_LEVEL_high</td>\n",
       "      <td>0.000000</td>\n",
       "    </tr>\n",
       "    <tr>\n",
       "      <th>15</th>\n",
       "      <td>REPORTED_USAGE_LEVEL_little</td>\n",
       "      <td>0.000000</td>\n",
       "    </tr>\n",
       "    <tr>\n",
       "      <th>16</th>\n",
       "      <td>REPORTED_USAGE_LEVEL_very_little</td>\n",
       "      <td>0.000000</td>\n",
       "    </tr>\n",
       "    <tr>\n",
       "      <th>17</th>\n",
       "      <td>CONSIDERING_CHANGE_OF_PLAN_never_thought</td>\n",
       "      <td>0.000000</td>\n",
       "    </tr>\n",
       "    <tr>\n",
       "      <th>18</th>\n",
       "      <td>CONSIDERING_CHANGE_OF_PLAN_no</td>\n",
       "      <td>0.000000</td>\n",
       "    </tr>\n",
       "    <tr>\n",
       "      <th>19</th>\n",
       "      <td>CONSIDERING_CHANGE_OF_PLAN_perhaps</td>\n",
       "      <td>0.000000</td>\n",
       "    </tr>\n",
       "  </tbody>\n",
       "</table>\n",
       "</div>"
      ],
      "text/plain": [
       "                               feature_names  feature_importance\n",
       "0                                      HOUSE            0.225599\n",
       "1                                    OVERAGE            0.220127\n",
       "2                                     INCOME            0.211493\n",
       "3                      AVERAGE_CALL_DURATION            0.161414\n",
       "4                              HANDSET_PRICE            0.102172\n",
       "5                OVER_15MINS_CALLS_PER_MONTH            0.027064\n",
       "6                                   LEFTOVER            0.022914\n",
       "7             REPORTED_USAGE_LEVEL_very_high            0.011394\n",
       "8                                    COLLEGE            0.009364\n",
       "9                  REPORTED_SATISFACTION_sat            0.005307\n",
       "10            REPORTED_SATISFACTION_very_sat            0.001262\n",
       "11               REPORTED_SATISFACTION_unsat            0.001104\n",
       "12          REPORTED_SATISFACTION_very_unsat            0.000610\n",
       "13    CONSIDERING_CHANGE_OF_PLAN_considering            0.000175\n",
       "14                 REPORTED_USAGE_LEVEL_high            0.000000\n",
       "15               REPORTED_USAGE_LEVEL_little            0.000000\n",
       "16          REPORTED_USAGE_LEVEL_very_little            0.000000\n",
       "17  CONSIDERING_CHANGE_OF_PLAN_never_thought            0.000000\n",
       "18             CONSIDERING_CHANGE_OF_PLAN_no            0.000000\n",
       "19        CONSIDERING_CHANGE_OF_PLAN_perhaps            0.000000"
      ]
     },
     "execution_count": 16,
     "metadata": {},
     "output_type": "execute_result"
    }
   ],
   "source": [
    "result"
   ]
  },
  {
   "cell_type": "markdown",
   "metadata": {
    "id": "FMsEXaw3jKWc"
   },
   "source": [
    "## 5.실습: random forest 튜닝\n",
    "\n",
    "* grid search를 수행합니다.\n",
    "    * ① n_estimators 의 갯수를 5 ~ 200까지 5개씩 증가시켜가며 튜닝해 봅시다.\n",
    "    * ② max_features를 1 ~ feature갯수까지 1씩 증가시켜가며 튜닝해 봅시다.\n",
    "    * ③ n_estimators, max_features를 동시에 튜닝.\n",
    "\n",
    "* 모델링 후 cv 평가 결과를 차트로 그려봅시다. \n",
    "* 튜닝된 모델로 부터 변수중요도를 뽑아 봅시다.\n"
   ]
  },
  {
   "cell_type": "markdown",
   "metadata": {
    "id": "ZBvc-UZbDKdF"
   },
   "source": [
    "### (1) n_estimators 튜닝"
   ]
  },
  {
   "cell_type": "code",
   "execution_count": 17,
   "metadata": {},
   "outputs": [
    {
     "data": {
      "text/plain": [
       "20"
      ]
     },
     "execution_count": 17,
     "metadata": {},
     "output_type": "execute_result"
    }
   ],
   "source": [
    "n_features = len(list(x_train))\n",
    "n_features"
   ]
  },
  {
   "cell_type": "code",
   "execution_count": 18,
   "metadata": {
    "id": "Vnc2DixK8zIY"
   },
   "outputs": [],
   "source": [
    "n_feature = len(list(x_train))\n",
    "params = {\n",
    "    'n_estimators' : range(5, 201, 5)\n",
    "}"
   ]
  },
  {
   "cell_type": "code",
   "execution_count": 19,
   "metadata": {
    "id": "wkbEfOTC8zFt"
   },
   "outputs": [],
   "source": [
    "model2 = RandomForestClassifier()\n",
    "m_gs = GridSearchCV(model2, params, cv=5)"
   ]
  },
  {
   "cell_type": "code",
   "execution_count": 20,
   "metadata": {
    "id": "woHm6dFw8zC0"
   },
   "outputs": [
    {
     "data": {
      "text/plain": [
       "GridSearchCV(cv=5, estimator=RandomForestClassifier(),\n",
       "             param_grid={'n_estimators': range(5, 201, 5)})"
      ]
     },
     "execution_count": 20,
     "metadata": {},
     "output_type": "execute_result"
    }
   ],
   "source": [
    "m_gs.fit(x_train, y_train)"
   ]
  },
  {
   "cell_type": "code",
   "execution_count": 21,
   "metadata": {
    "id": "StpzYtke8y_4"
   },
   "outputs": [
    {
     "data": {
      "text/plain": [
       "{'n_estimators': 195}"
      ]
     },
     "execution_count": 21,
     "metadata": {},
     "output_type": "execute_result"
    }
   ],
   "source": [
    "m_gs.best_params_"
   ]
  },
  {
   "cell_type": "code",
   "execution_count": 22,
   "metadata": {},
   "outputs": [
    {
     "data": {
      "text/plain": [
       "0.6905714285714286"
      ]
     },
     "execution_count": 22,
     "metadata": {},
     "output_type": "execute_result"
    }
   ],
   "source": [
    "m_gs.best_score_"
   ]
  },
  {
   "cell_type": "code",
   "execution_count": 34,
   "metadata": {
    "id": "GZjjY8cQ8y8s"
   },
   "outputs": [],
   "source": [
    "pred1 = m_gs.predict(x_val)"
   ]
  },
  {
   "cell_type": "code",
   "execution_count": 35,
   "metadata": {
    "scrolled": true
   },
   "outputs": [
    {
     "name": "stdout",
     "output_type": "stream",
     "text": [
      "0.704\n",
      "              precision    recall  f1-score   support\n",
      "\n",
      "           0       0.71      0.71      0.71       769\n",
      "           1       0.70      0.69      0.70       731\n",
      "\n",
      "    accuracy                           0.70      1500\n",
      "   macro avg       0.70      0.70      0.70      1500\n",
      "weighted avg       0.70      0.70      0.70      1500\n",
      "\n"
     ]
    }
   ],
   "source": [
    "print(accuracy_score(y_val, pred1))\n",
    "print(classification_report(y_val, pred1))"
   ]
  },
  {
   "cell_type": "markdown",
   "metadata": {},
   "source": [
    "- 튜닝 결과 그래프로 그리기"
   ]
  },
  {
   "cell_type": "code",
   "execution_count": 23,
   "metadata": {},
   "outputs": [
    {
     "data": {
      "text/html": [
       "<div>\n",
       "<style scoped>\n",
       "    .dataframe tbody tr th:only-of-type {\n",
       "        vertical-align: middle;\n",
       "    }\n",
       "\n",
       "    .dataframe tbody tr th {\n",
       "        vertical-align: top;\n",
       "    }\n",
       "\n",
       "    .dataframe thead th {\n",
       "        text-align: right;\n",
       "    }\n",
       "</style>\n",
       "<table border=\"1\" class=\"dataframe\">\n",
       "  <thead>\n",
       "    <tr style=\"text-align: right;\">\n",
       "      <th></th>\n",
       "      <th>mean_fit_time</th>\n",
       "      <th>std_fit_time</th>\n",
       "      <th>mean_score_time</th>\n",
       "      <th>std_score_time</th>\n",
       "      <th>param_n_estimators</th>\n",
       "      <th>params</th>\n",
       "      <th>split0_test_score</th>\n",
       "      <th>split1_test_score</th>\n",
       "      <th>split2_test_score</th>\n",
       "      <th>split3_test_score</th>\n",
       "      <th>split4_test_score</th>\n",
       "      <th>mean_test_score</th>\n",
       "      <th>std_test_score</th>\n",
       "      <th>rank_test_score</th>\n",
       "    </tr>\n",
       "  </thead>\n",
       "  <tbody>\n",
       "    <tr>\n",
       "      <th>0</th>\n",
       "      <td>0.065313</td>\n",
       "      <td>0.043288</td>\n",
       "      <td>0.005781</td>\n",
       "      <td>0.000886</td>\n",
       "      <td>5</td>\n",
       "      <td>{'n_estimators': 5}</td>\n",
       "      <td>0.602857</td>\n",
       "      <td>0.651429</td>\n",
       "      <td>0.657143</td>\n",
       "      <td>0.621429</td>\n",
       "      <td>0.622857</td>\n",
       "      <td>0.631143</td>\n",
       "      <td>0.020251</td>\n",
       "      <td>40</td>\n",
       "    </tr>\n",
       "    <tr>\n",
       "      <th>1</th>\n",
       "      <td>0.098146</td>\n",
       "      <td>0.004998</td>\n",
       "      <td>0.009776</td>\n",
       "      <td>0.001593</td>\n",
       "      <td>10</td>\n",
       "      <td>{'n_estimators': 10}</td>\n",
       "      <td>0.610000</td>\n",
       "      <td>0.671429</td>\n",
       "      <td>0.670000</td>\n",
       "      <td>0.650000</td>\n",
       "      <td>0.662857</td>\n",
       "      <td>0.652857</td>\n",
       "      <td>0.022732</td>\n",
       "      <td>39</td>\n",
       "    </tr>\n",
       "    <tr>\n",
       "      <th>2</th>\n",
       "      <td>0.095793</td>\n",
       "      <td>0.013982</td>\n",
       "      <td>0.009773</td>\n",
       "      <td>0.002182</td>\n",
       "      <td>15</td>\n",
       "      <td>{'n_estimators': 15}</td>\n",
       "      <td>0.657143</td>\n",
       "      <td>0.682857</td>\n",
       "      <td>0.658571</td>\n",
       "      <td>0.691429</td>\n",
       "      <td>0.682857</td>\n",
       "      <td>0.674571</td>\n",
       "      <td>0.014009</td>\n",
       "      <td>35</td>\n",
       "    </tr>\n",
       "    <tr>\n",
       "      <th>3</th>\n",
       "      <td>0.119361</td>\n",
       "      <td>0.004570</td>\n",
       "      <td>0.007867</td>\n",
       "      <td>0.000223</td>\n",
       "      <td>20</td>\n",
       "      <td>{'n_estimators': 20}</td>\n",
       "      <td>0.647143</td>\n",
       "      <td>0.697143</td>\n",
       "      <td>0.665714</td>\n",
       "      <td>0.674286</td>\n",
       "      <td>0.681429</td>\n",
       "      <td>0.673143</td>\n",
       "      <td>0.016596</td>\n",
       "      <td>37</td>\n",
       "    </tr>\n",
       "    <tr>\n",
       "      <th>4</th>\n",
       "      <td>0.163366</td>\n",
       "      <td>0.017061</td>\n",
       "      <td>0.013030</td>\n",
       "      <td>0.003237</td>\n",
       "      <td>25</td>\n",
       "      <td>{'n_estimators': 25}</td>\n",
       "      <td>0.632857</td>\n",
       "      <td>0.684286</td>\n",
       "      <td>0.664286</td>\n",
       "      <td>0.661429</td>\n",
       "      <td>0.652857</td>\n",
       "      <td>0.659143</td>\n",
       "      <td>0.016699</td>\n",
       "      <td>38</td>\n",
       "    </tr>\n",
       "  </tbody>\n",
       "</table>\n",
       "</div>"
      ],
      "text/plain": [
       "   mean_fit_time  std_fit_time  mean_score_time  std_score_time  \\\n",
       "0       0.065313      0.043288         0.005781        0.000886   \n",
       "1       0.098146      0.004998         0.009776        0.001593   \n",
       "2       0.095793      0.013982         0.009773        0.002182   \n",
       "3       0.119361      0.004570         0.007867        0.000223   \n",
       "4       0.163366      0.017061         0.013030        0.003237   \n",
       "\n",
       "  param_n_estimators                params  split0_test_score  \\\n",
       "0                  5   {'n_estimators': 5}           0.602857   \n",
       "1                 10  {'n_estimators': 10}           0.610000   \n",
       "2                 15  {'n_estimators': 15}           0.657143   \n",
       "3                 20  {'n_estimators': 20}           0.647143   \n",
       "4                 25  {'n_estimators': 25}           0.632857   \n",
       "\n",
       "   split1_test_score  split2_test_score  split3_test_score  split4_test_score  \\\n",
       "0           0.651429           0.657143           0.621429           0.622857   \n",
       "1           0.671429           0.670000           0.650000           0.662857   \n",
       "2           0.682857           0.658571           0.691429           0.682857   \n",
       "3           0.697143           0.665714           0.674286           0.681429   \n",
       "4           0.684286           0.664286           0.661429           0.652857   \n",
       "\n",
       "   mean_test_score  std_test_score  rank_test_score  \n",
       "0         0.631143        0.020251               40  \n",
       "1         0.652857        0.022732               39  \n",
       "2         0.674571        0.014009               35  \n",
       "3         0.673143        0.016596               37  \n",
       "4         0.659143        0.016699               38  "
      ]
     },
     "execution_count": 23,
     "metadata": {},
     "output_type": "execute_result"
    }
   ],
   "source": [
    "# 튜닝 결과를 데이터 프레임으로 저장\n",
    "result = pd.DataFrame(m_gs.cv_results_)\n",
    "result.head()\n",
    "\n",
    "# param_n_estimators가 5, 10, 15, 20 이렇게 증가\n",
    "# 그리고 그 때의 성능 : mean_test_score"
   ]
  },
  {
   "cell_type": "code",
   "execution_count": 24,
   "metadata": {
    "scrolled": true
   },
   "outputs": [
    {
     "data": {
      "text/html": [
       "<div>\n",
       "<style scoped>\n",
       "    .dataframe tbody tr th:only-of-type {\n",
       "        vertical-align: middle;\n",
       "    }\n",
       "\n",
       "    .dataframe tbody tr th {\n",
       "        vertical-align: top;\n",
       "    }\n",
       "\n",
       "    .dataframe thead th {\n",
       "        text-align: right;\n",
       "    }\n",
       "</style>\n",
       "<table border=\"1\" class=\"dataframe\">\n",
       "  <thead>\n",
       "    <tr style=\"text-align: right;\">\n",
       "      <th></th>\n",
       "      <th>param_n_estimators</th>\n",
       "      <th>mean_test_score</th>\n",
       "    </tr>\n",
       "  </thead>\n",
       "  <tbody>\n",
       "    <tr>\n",
       "      <th>0</th>\n",
       "      <td>5</td>\n",
       "      <td>0.631143</td>\n",
       "    </tr>\n",
       "    <tr>\n",
       "      <th>1</th>\n",
       "      <td>10</td>\n",
       "      <td>0.652857</td>\n",
       "    </tr>\n",
       "    <tr>\n",
       "      <th>2</th>\n",
       "      <td>15</td>\n",
       "      <td>0.674571</td>\n",
       "    </tr>\n",
       "    <tr>\n",
       "      <th>3</th>\n",
       "      <td>20</td>\n",
       "      <td>0.673143</td>\n",
       "    </tr>\n",
       "    <tr>\n",
       "      <th>4</th>\n",
       "      <td>25</td>\n",
       "      <td>0.659143</td>\n",
       "    </tr>\n",
       "  </tbody>\n",
       "</table>\n",
       "</div>"
      ],
      "text/plain": [
       "  param_n_estimators  mean_test_score\n",
       "0                  5         0.631143\n",
       "1                 10         0.652857\n",
       "2                 15         0.674571\n",
       "3                 20         0.673143\n",
       "4                 25         0.659143"
      ]
     },
     "execution_count": 24,
     "metadata": {},
     "output_type": "execute_result"
    }
   ],
   "source": [
    "temp = result.loc[:, ['param_n_estimators', 'mean_test_score']]\n",
    "temp.head() # 제일 보고 싶은 열 두개만 가져옴"
   ]
  },
  {
   "cell_type": "code",
   "execution_count": 25,
   "metadata": {},
   "outputs": [
    {
     "data": {
      "image/png": "[encoded data removed]",
      "text/plain": [
       "<Figure size 864x576 with 1 Axes>"
      ]
     },
     "metadata": {
      "needs_background": "light"
     },
     "output_type": "display_data"
    }
   ],
   "source": [
    "plt.figure(figsize=(12, 8))\n",
    "plt.plot('param_n_estimators', 'mean_test_score', data=temp)\n",
    "plt.grid()\n",
    "plt.show()\n",
    "\n",
    "# 트리의 개수가 증가하면서 성능이 이렇게 올라간다는 그래프\n",
    "# 어디가 최적이냐? 가 아니라 경향을 보는 것이 중요.\n",
    "# n_estimators의 경향을 살펴보기.\n",
    "# 트리가 많을수록 성능이 올라가다가 어느 순간 꺾임\n",
    "# 만약 1000개 넘으면 올라갈까 떨어질까 수평일까? 수평!\n",
    "\n",
    "# 그러면 트리를 많이 만들수록 좋은 게 아니라 적당히 만들어야 함 => 적당지점 찾기 => elbow method"
   ]
  },
  {
   "cell_type": "markdown",
   "metadata": {
    "id": "s5pialxTDU9z"
   },
   "source": [
    "### (2) max_features 튜닝"
   ]
  },
  {
   "cell_type": "code",
   "execution_count": 26,
   "metadata": {
    "id": "6l46BbIJ806i"
   },
   "outputs": [
    {
     "data": {
      "text/plain": [
       "(3500, 20)"
      ]
     },
     "execution_count": 26,
     "metadata": {},
     "output_type": "execute_result"
    }
   ],
   "source": [
    "x_train.shape\n",
    "# 데이터 3500개, feature 20개"
   ]
  },
  {
   "cell_type": "code",
   "execution_count": 27,
   "metadata": {
    "id": "XY0I2IgW802E"
   },
   "outputs": [],
   "source": [
    "# feature을 1개~20개 조절 가능\n",
    "params = {'max_features':range(1, 21)}"
   ]
  },
  {
   "cell_type": "code",
   "execution_count": 31,
   "metadata": {
    "id": "rkcpNLh680zM"
   },
   "outputs": [],
   "source": [
    "# 기본 모델 선언\n",
    "m = RandomForestClassifier()\n",
    "\n",
    "# 그리드 서치 모델 선언\n",
    "m_gs = GridSearchCV(m, params, cv=5, verbose=3) #verbose는 로그 기록\n",
    "m_gs = GridSearchCV(RandomForestClassifier(), params, cv=5, verbose=3) #이렇게도 가능"
   ]
  },
  {
   "cell_type": "code",
   "execution_count": 32,
   "metadata": {
    "id": "yg4ptiEJ80wW",
    "scrolled": false
   },
   "outputs": [
    {
     "name": "stdout",
     "output_type": "stream",
     "text": [
      "Fitting 5 folds for each of 20 candidates, totalling 100 fits\n",
      "[CV 1/5] END .................................max_features=1; total time=   0.4s\n",
      "[CV 2/5] END .................................max_features=1; total time=   0.5s\n",
      "[CV 3/5] END .................................max_features=1; total time=   0.5s\n",
      "[CV 4/5] END .................................max_features=1; total time=   0.4s\n",
      "[CV 5/5] END .................................max_features=1; total time=   0.5s\n",
      "[CV 1/5] END .................................max_features=2; total time=   0.5s\n",
      "[CV 2/5] END .................................max_features=2; total time=   0.4s\n",
      "[CV 3/5] END .................................max_features=2; total time=   0.5s\n",
      "[CV 4/5] END .................................max_features=2; total time=   0.5s\n",
      "[CV 5/5] END .................................max_features=2; total time=   0.5s\n",
      "[CV 1/5] END .................................max_features=3; total time=   0.7s\n",
      "[CV 2/5] END .................................max_features=3; total time=   0.8s\n",
      "[CV 3/5] END .................................max_features=3; total time=   0.6s\n",
      "[CV 4/5] END .................................max_features=3; total time=   0.8s\n",
      "[CV 5/5] END .................................max_features=3; total time=   0.6s\n",
      "[CV 1/5] END .................................max_features=4; total time=   0.7s\n",
      "[CV 2/5] END .................................max_features=4; total time=   0.7s\n",
      "[CV 3/5] END .................................max_features=4; total time=   0.8s\n",
      "[CV 4/5] END .................................max_features=4; total time=   0.9s\n",
      "[CV 5/5] END .................................max_features=4; total time=   0.7s\n",
      "[CV 1/5] END .................................max_features=5; total time=   0.9s\n",
      "[CV 2/5] END .................................max_features=5; total time=   0.7s\n",
      "[CV 3/5] END .................................max_features=5; total time=   0.6s\n",
      "[CV 4/5] END .................................max_features=5; total time=   0.8s\n",
      "[CV 5/5] END .................................max_features=5; total time=   0.9s\n",
      "[CV 1/5] END .................................max_features=6; total time=   0.7s\n",
      "[CV 2/5] END .................................max_features=6; total time=   0.8s\n",
      "[CV 3/5] END .................................max_features=6; total time=   0.8s\n",
      "[CV 4/5] END .................................max_features=6; total time=   0.7s\n",
      "[CV 5/5] END .................................max_features=6; total time=   0.7s\n",
      "[CV 1/5] END .................................max_features=7; total time=   0.8s\n",
      "[CV 2/5] END .................................max_features=7; total time=   0.9s\n",
      "[CV 3/5] END .................................max_features=7; total time=   0.7s\n",
      "[CV 4/5] END .................................max_features=7; total time=   1.0s\n",
      "[CV 5/5] END .................................max_features=7; total time=   0.9s\n",
      "[CV 1/5] END .................................max_features=8; total time=   0.8s\n",
      "[CV 2/5] END .................................max_features=8; total time=   0.8s\n",
      "[CV 3/5] END .................................max_features=8; total time=   1.0s\n",
      "[CV 4/5] END .................................max_features=8; total time=   1.0s\n",
      "[CV 5/5] END .................................max_features=8; total time=   1.0s\n",
      "[CV 1/5] END .................................max_features=9; total time=   1.0s\n",
      "[CV 2/5] END .................................max_features=9; total time=   1.0s\n",
      "[CV 3/5] END .................................max_features=9; total time=   1.1s\n",
      "[CV 4/5] END .................................max_features=9; total time=   1.0s\n",
      "[CV 5/5] END .................................max_features=9; total time=   1.0s\n",
      "[CV 1/5] END ................................max_features=10; total time=   1.0s\n",
      "[CV 2/5] END ................................max_features=10; total time=   0.9s\n",
      "[CV 3/5] END ................................max_features=10; total time=   1.0s\n",
      "[CV 4/5] END ................................max_features=10; total time=   0.9s\n",
      "[CV 5/5] END ................................max_features=10; total time=   1.1s\n",
      "[CV 1/5] END ................................max_features=11; total time=   1.0s\n",
      "[CV 2/5] END ................................max_features=11; total time=   1.0s\n",
      "[CV 3/5] END ................................max_features=11; total time=   1.2s\n",
      "[CV 4/5] END ................................max_features=11; total time=   1.1s\n",
      "[CV 5/5] END ................................max_features=11; total time=   1.1s\n",
      "[CV 1/5] END ................................max_features=12; total time=   1.1s\n",
      "[CV 2/5] END ................................max_features=12; total time=   1.1s\n",
      "[CV 3/5] END ................................max_features=12; total time=   1.2s\n",
      "[CV 4/5] END ................................max_features=12; total time=   1.2s\n",
      "[CV 5/5] END ................................max_features=12; total time=   1.1s\n",
      "[CV 1/5] END ................................max_features=13; total time=   1.1s\n",
      "[CV 2/5] END ................................max_features=13; total time=   1.2s\n",
      "[CV 3/5] END ................................max_features=13; total time=   1.1s\n",
      "[CV 4/5] END ................................max_features=13; total time=   1.3s\n",
      "[CV 5/5] END ................................max_features=13; total time=   1.2s\n",
      "[CV 1/5] END ................................max_features=14; total time=   1.4s\n",
      "[CV 2/5] END ................................max_features=14; total time=   1.4s\n",
      "[CV 3/5] END ................................max_features=14; total time=   1.4s\n",
      "[CV 4/5] END ................................max_features=14; total time=   1.3s\n",
      "[CV 5/5] END ................................max_features=14; total time=   1.6s\n",
      "[CV 1/5] END ................................max_features=15; total time=   1.5s\n",
      "[CV 2/5] END ................................max_features=15; total time=   1.3s\n",
      "[CV 3/5] END ................................max_features=15; total time=   1.3s\n",
      "[CV 4/5] END ................................max_features=15; total time=   1.6s\n",
      "[CV 5/5] END ................................max_features=15; total time=   1.8s\n",
      "[CV 1/5] END ................................max_features=16; total time=   1.5s\n",
      "[CV 2/5] END ................................max_features=16; total time=   2.0s\n",
      "[CV 3/5] END ................................max_features=16; total time=   1.6s\n",
      "[CV 4/5] END ................................max_features=16; total time=   1.4s\n",
      "[CV 5/5] END ................................max_features=16; total time=   2.0s\n",
      "[CV 1/5] END ................................max_features=17; total time=   1.5s\n",
      "[CV 2/5] END ................................max_features=17; total time=   1.4s\n",
      "[CV 3/5] END ................................max_features=17; total time=   1.5s\n",
      "[CV 4/5] END ................................max_features=17; total time=   1.6s\n",
      "[CV 5/5] END ................................max_features=17; total time=   1.5s\n",
      "[CV 1/5] END ................................max_features=18; total time=   1.5s\n",
      "[CV 2/5] END ................................max_features=18; total time=   1.9s\n",
      "[CV 3/5] END ................................max_features=18; total time=   1.7s\n",
      "[CV 4/5] END ................................max_features=18; total time=   1.5s\n",
      "[CV 5/5] END ................................max_features=18; total time=   1.9s\n",
      "[CV 1/5] END ................................max_features=19; total time=   1.7s\n",
      "[CV 2/5] END ................................max_features=19; total time=   1.5s\n",
      "[CV 3/5] END ................................max_features=19; total time=   1.6s\n",
      "[CV 4/5] END ................................max_features=19; total time=   1.9s\n",
      "[CV 5/5] END ................................max_features=19; total time=   1.5s\n",
      "[CV 1/5] END ................................max_features=20; total time=   1.6s\n",
      "[CV 2/5] END ................................max_features=20; total time=   1.8s\n",
      "[CV 3/5] END ................................max_features=20; total time=   1.7s\n",
      "[CV 4/5] END ................................max_features=20; total time=   1.7s\n",
      "[CV 5/5] END ................................max_features=20; total time=   2.2s\n"
     ]
    },
    {
     "data": {
      "text/plain": [
       "GridSearchCV(cv=5, estimator=RandomForestClassifier(),\n",
       "             param_grid={'max_features': range(1, 21)}, verbose=3)"
      ]
     },
     "execution_count": 32,
     "metadata": {},
     "output_type": "execute_result"
    }
   ],
   "source": [
    "# 튜닝\n",
    "m_gs.fit(x_train, y_train)\n",
    "\n",
    "#feature가 많을 수록 시간이 더 걸림\n",
    "# feature가 많으면 그걸 다 정보전달량 계산해서 선택해야하기 때문"
   ]
  },
  {
   "cell_type": "code",
   "execution_count": 33,
   "metadata": {
    "id": "SqbE23GN80tS"
   },
   "outputs": [
    {
     "data": {
      "text/plain": [
       "{'max_features': 6}"
      ]
     },
     "execution_count": 33,
     "metadata": {},
     "output_type": "execute_result"
    }
   ],
   "source": [
    "m_gs.best_params_ #feature가 6개 일 때 최대라는 것을 알 수 있음."
   ]
  },
  {
   "cell_type": "markdown",
   "metadata": {
    "id": "tQ3ZqJmgi1d1"
   },
   "source": [
    "* 변수 중요도"
   ]
  },
  {
   "cell_type": "code",
   "execution_count": 34,
   "metadata": {
    "id": "Tjp-cmDm83D5"
   },
   "outputs": [],
   "source": [
    "# 튜닝 결과를 데이터 프레임으로 저장\n",
    "result = pd.DataFrame(m_gs.cv_results_)\n",
    "temp = result.loc[:, ['param_max_features', 'mean_test_score']]\n"
   ]
  },
  {
   "cell_type": "code",
   "execution_count": 35,
   "metadata": {
    "id": "y4n1X6yc83An"
   },
   "outputs": [
    {
     "data": {
      "image/png": "[encoded data removed]",
      "text/plain": [
       "<Figure size 864x576 with 1 Axes>"
      ]
     },
     "metadata": {
      "needs_background": "light"
     },
     "output_type": "display_data"
    }
   ],
   "source": [
    "plt.figure(figsize=(12, 8))\n",
    "plt.plot('param_max_features', 'mean_test_score', data=temp)\n",
    "plt.grid()\n",
    "plt.show()\n",
    "\n",
    "# 경향을 살피는게 중요\n",
    "# 1이 끝, 20이 끝.\n",
    "# feature의 개수가 증가하면 성능이 어떻게 달라지지?\n",
    "# 5.0-7.5 가 성능이 적절하구나.\n",
    "# n_estimators는 100개가 디폴트이고 100개가 대체로 적절함\n",
    "# max_features는 root(n_estimators)임. =>  20에 루트씌우면 4.xx 이겠지.\n",
    "# 근데 4는 너무 낮은것같은데? 보면 4하고 9의 성능차이가 별로 없음.\n"
   ]
  },
  {
   "cell_type": "markdown",
   "metadata": {
    "id": "9mF0x5vJi9yN"
   },
   "source": [
    "### (3) n_estimators와 max_features를 한꺼번에 튜닝"
   ]
  },
  {
   "cell_type": "code",
   "execution_count": 44,
   "metadata": {
    "id": "ClgmOnqslzU3"
   },
   "outputs": [],
   "source": [
    "params = {\n",
    "    'n_estimators':  range(100, 201, 50),\n",
    "    'max_features': range(1, 21)\n",
    "}"
   ]
  },
  {
   "cell_type": "code",
   "execution_count": 45,
   "metadata": {
    "id": "Bu8CnKCz841O"
   },
   "outputs": [],
   "source": [
    "m2 = RandomForestClassifier()\n",
    "m_gs2 = GridSearchCV(m2, params, cv=5, verbose=3)"
   ]
  },
  {
   "cell_type": "code",
   "execution_count": 46,
   "metadata": {
    "id": "Yf91TVuC847E"
   },
   "outputs": [
    {
     "name": "stdout",
     "output_type": "stream",
     "text": [
      "Fitting 5 folds for each of 60 candidates, totalling 300 fits\n",
      "[CV 1/5] END ...............max_features=1, n_estimators=100; total time=   0.4s\n",
      "[CV 2/5] END ...............max_features=1, n_estimators=100; total time=   0.3s\n",
      "[CV 3/5] END ...............max_features=1, n_estimators=100; total time=   0.4s\n",
      "[CV 4/5] END ...............max_features=1, n_estimators=100; total time=   0.3s\n",
      "[CV 5/5] END ...............max_features=1, n_estimators=100; total time=   0.4s\n",
      "[CV 1/5] END ...............max_features=1, n_estimators=150; total time=   0.6s\n",
      "[CV 2/5] END ...............max_features=1, n_estimators=150; total time=   0.8s\n",
      "[CV 3/5] END ...............max_features=1, n_estimators=150; total time=   0.8s\n",
      "[CV 4/5] END ...............max_features=1, n_estimators=150; total time=   0.7s\n",
      "[CV 5/5] END ...............max_features=1, n_estimators=150; total time=   0.9s\n",
      "[CV 1/5] END ...............max_features=1, n_estimators=200; total time=   1.0s\n",
      "[CV 2/5] END ...............max_features=1, n_estimators=200; total time=   1.1s\n",
      "[CV 3/5] END ...............max_features=1, n_estimators=200; total time=   1.1s\n",
      "[CV 4/5] END ...............max_features=1, n_estimators=200; total time=   1.0s\n",
      "[CV 5/5] END ...............max_features=1, n_estimators=200; total time=   0.9s\n",
      "[CV 1/5] END ...............max_features=2, n_estimators=100; total time=   0.4s\n",
      "[CV 2/5] END ...............max_features=2, n_estimators=100; total time=   0.4s\n",
      "[CV 3/5] END ...............max_features=2, n_estimators=100; total time=   0.4s\n",
      "[CV 4/5] END ...............max_features=2, n_estimators=100; total time=   0.5s\n",
      "[CV 5/5] END ...............max_features=2, n_estimators=100; total time=   0.4s\n",
      "[CV 1/5] END ...............max_features=2, n_estimators=150; total time=   0.9s\n",
      "[CV 2/5] END ...............max_features=2, n_estimators=150; total time=   0.8s\n",
      "[CV 3/5] END ...............max_features=2, n_estimators=150; total time=   0.7s\n",
      "[CV 4/5] END ...............max_features=2, n_estimators=150; total time=   0.7s\n",
      "[CV 5/5] END ...............max_features=2, n_estimators=150; total time=   0.7s\n",
      "[CV 1/5] END ...............max_features=2, n_estimators=200; total time=   0.9s\n",
      "[CV 2/5] END ...............max_features=2, n_estimators=200; total time=   1.2s\n",
      "[CV 3/5] END ...............max_features=2, n_estimators=200; total time=   1.0s\n",
      "[CV 4/5] END ...............max_features=2, n_estimators=200; total time=   0.9s\n",
      "[CV 5/5] END ...............max_features=2, n_estimators=200; total time=   0.9s\n",
      "[CV 1/5] END ...............max_features=3, n_estimators=100; total time=   0.5s\n",
      "[CV 2/5] END ...............max_features=3, n_estimators=100; total time=   0.5s\n",
      "[CV 3/5] END ...............max_features=3, n_estimators=100; total time=   0.7s\n",
      "[CV 4/5] END ...............max_features=3, n_estimators=100; total time=   0.7s\n",
      "[CV 5/5] END ...............max_features=3, n_estimators=100; total time=   0.5s\n",
      "[CV 1/5] END ...............max_features=3, n_estimators=150; total time=   0.8s\n",
      "[CV 2/5] END ...............max_features=3, n_estimators=150; total time=   0.7s\n",
      "[CV 3/5] END ...............max_features=3, n_estimators=150; total time=   0.7s\n",
      "[CV 4/5] END ...............max_features=3, n_estimators=150; total time=   0.8s\n",
      "[CV 5/5] END ...............max_features=3, n_estimators=150; total time=   0.9s\n",
      "[CV 1/5] END ...............max_features=3, n_estimators=200; total time=   1.2s\n",
      "[CV 2/5] END ...............max_features=3, n_estimators=200; total time=   1.2s\n",
      "[CV 3/5] END ...............max_features=3, n_estimators=200; total time=   1.2s\n",
      "[CV 4/5] END ...............max_features=3, n_estimators=200; total time=   1.2s\n",
      "[CV 5/5] END ...............max_features=3, n_estimators=200; total time=   1.3s\n",
      "[CV 1/5] END ...............max_features=4, n_estimators=100; total time=   0.5s\n",
      "[CV 2/5] END ...............max_features=4, n_estimators=100; total time=   0.7s\n",
      "[CV 3/5] END ...............max_features=4, n_estimators=100; total time=   1.0s\n",
      "[CV 4/5] END ...............max_features=4, n_estimators=100; total time=   2.4s\n",
      "[CV 5/5] END ...............max_features=4, n_estimators=100; total time=   0.9s\n",
      "[CV 1/5] END ...............max_features=4, n_estimators=150; total time=   0.9s\n",
      "[CV 2/5] END ...............max_features=4, n_estimators=150; total time=   0.9s\n",
      "[CV 3/5] END ...............max_features=4, n_estimators=150; total time=   0.9s\n",
      "[CV 4/5] END ...............max_features=4, n_estimators=150; total time=   0.9s\n",
      "[CV 5/5] END ...............max_features=4, n_estimators=150; total time=   1.1s\n",
      "[CV 1/5] END ...............max_features=4, n_estimators=200; total time=   1.2s\n",
      "[CV 2/5] END ...............max_features=4, n_estimators=200; total time=   1.3s\n",
      "[CV 3/5] END ...............max_features=4, n_estimators=200; total time=   1.2s\n",
      "[CV 4/5] END ...............max_features=4, n_estimators=200; total time=   1.4s\n",
      "[CV 5/5] END ...............max_features=4, n_estimators=200; total time=   1.3s\n",
      "[CV 1/5] END ...............max_features=5, n_estimators=100; total time=   0.6s\n",
      "[CV 2/5] END ...............max_features=5, n_estimators=100; total time=   0.6s\n",
      "[CV 3/5] END ...............max_features=5, n_estimators=100; total time=   0.6s\n",
      "[CV 4/5] END ...............max_features=5, n_estimators=100; total time=   0.6s\n",
      "[CV 5/5] END ...............max_features=5, n_estimators=100; total time=   0.7s\n",
      "[CV 1/5] END ...............max_features=5, n_estimators=150; total time=   1.2s\n",
      "[CV 2/5] END ...............max_features=5, n_estimators=150; total time=   0.9s\n",
      "[CV 3/5] END ...............max_features=5, n_estimators=150; total time=   1.0s\n",
      "[CV 4/5] END ...............max_features=5, n_estimators=150; total time=   0.9s\n",
      "[CV 5/5] END ...............max_features=5, n_estimators=150; total time=   0.9s\n",
      "[CV 1/5] END ...............max_features=5, n_estimators=200; total time=   1.5s\n",
      "[CV 2/5] END ...............max_features=5, n_estimators=200; total time=   1.3s\n",
      "[CV 3/5] END ...............max_features=5, n_estimators=200; total time=   1.2s\n",
      "[CV 4/5] END ...............max_features=5, n_estimators=200; total time=   1.2s\n",
      "[CV 5/5] END ...............max_features=5, n_estimators=200; total time=   1.8s\n",
      "[CV 1/5] END ...............max_features=6, n_estimators=100; total time=   0.7s\n",
      "[CV 2/5] END ...............max_features=6, n_estimators=100; total time=   0.7s\n",
      "[CV 3/5] END ...............max_features=6, n_estimators=100; total time=   0.8s\n",
      "[CV 4/5] END ...............max_features=6, n_estimators=100; total time=   0.7s\n",
      "[CV 5/5] END ...............max_features=6, n_estimators=100; total time=   0.7s\n",
      "[CV 1/5] END ...............max_features=6, n_estimators=150; total time=   1.3s\n",
      "[CV 2/5] END ...............max_features=6, n_estimators=150; total time=   1.1s\n",
      "[CV 3/5] END ...............max_features=6, n_estimators=150; total time=   1.2s\n",
      "[CV 4/5] END ...............max_features=6, n_estimators=150; total time=   1.0s\n",
      "[CV 5/5] END ...............max_features=6, n_estimators=150; total time=   1.2s\n",
      "[CV 1/5] END ...............max_features=6, n_estimators=200; total time=   1.6s\n",
      "[CV 2/5] END ...............max_features=6, n_estimators=200; total time=   1.4s\n",
      "[CV 3/5] END ...............max_features=6, n_estimators=200; total time=   1.4s\n",
      "[CV 4/5] END ...............max_features=6, n_estimators=200; total time=   1.7s\n",
      "[CV 5/5] END ...............max_features=6, n_estimators=200; total time=   1.4s\n",
      "[CV 1/5] END ...............max_features=7, n_estimators=100; total time=   0.8s\n",
      "[CV 2/5] END ...............max_features=7, n_estimators=100; total time=   0.7s\n",
      "[CV 3/5] END ...............max_features=7, n_estimators=100; total time=   0.7s\n",
      "[CV 4/5] END ...............max_features=7, n_estimators=100; total time=   0.9s\n",
      "[CV 5/5] END ...............max_features=7, n_estimators=100; total time=   0.8s\n",
      "[CV 1/5] END ...............max_features=7, n_estimators=150; total time=   1.1s\n",
      "[CV 2/5] END ...............max_features=7, n_estimators=150; total time=   1.1s\n",
      "[CV 3/5] END ...............max_features=7, n_estimators=150; total time=   1.1s\n",
      "[CV 4/5] END ...............max_features=7, n_estimators=150; total time=   1.3s\n",
      "[CV 5/5] END ...............max_features=7, n_estimators=150; total time=   1.1s\n",
      "[CV 1/5] END ...............max_features=7, n_estimators=200; total time=   1.6s\n"
     ]
    },
    {
     "name": "stdout",
     "output_type": "stream",
     "text": [
      "[CV 2/5] END ...............max_features=7, n_estimators=200; total time=   1.5s\n",
      "[CV 3/5] END ...............max_features=7, n_estimators=200; total time=   1.7s\n",
      "[CV 4/5] END ...............max_features=7, n_estimators=200; total time=   1.6s\n",
      "[CV 5/5] END ...............max_features=7, n_estimators=200; total time=   1.7s\n",
      "[CV 1/5] END ...............max_features=8, n_estimators=100; total time=   1.2s\n",
      "[CV 2/5] END ...............max_features=8, n_estimators=100; total time=   0.8s\n",
      "[CV 3/5] END ...............max_features=8, n_estimators=100; total time=   0.8s\n",
      "[CV 4/5] END ...............max_features=8, n_estimators=100; total time=   0.8s\n",
      "[CV 5/5] END ...............max_features=8, n_estimators=100; total time=   0.8s\n",
      "[CV 1/5] END ...............max_features=8, n_estimators=150; total time=   1.3s\n",
      "[CV 2/5] END ...............max_features=8, n_estimators=150; total time=   1.3s\n",
      "[CV 3/5] END ...............max_features=8, n_estimators=150; total time=   1.4s\n",
      "[CV 4/5] END ...............max_features=8, n_estimators=150; total time=   1.4s\n",
      "[CV 5/5] END ...............max_features=8, n_estimators=150; total time=   1.7s\n",
      "[CV 1/5] END ...............max_features=8, n_estimators=200; total time=   1.9s\n",
      "[CV 2/5] END ...............max_features=8, n_estimators=200; total time=   1.8s\n",
      "[CV 3/5] END ...............max_features=8, n_estimators=200; total time=   2.1s\n",
      "[CV 4/5] END ...............max_features=8, n_estimators=200; total time=   1.9s\n",
      "[CV 5/5] END ...............max_features=8, n_estimators=200; total time=   2.4s\n",
      "[CV 1/5] END ...............max_features=9, n_estimators=100; total time=   1.2s\n",
      "[CV 2/5] END ...............max_features=9, n_estimators=100; total time=   1.0s\n",
      "[CV 3/5] END ...............max_features=9, n_estimators=100; total time=   1.0s\n",
      "[CV 4/5] END ...............max_features=9, n_estimators=100; total time=   1.0s\n",
      "[CV 5/5] END ...............max_features=9, n_estimators=100; total time=   1.1s\n",
      "[CV 1/5] END ...............max_features=9, n_estimators=150; total time=   1.6s\n",
      "[CV 2/5] END ...............max_features=9, n_estimators=150; total time=   1.3s\n",
      "[CV 3/5] END ...............max_features=9, n_estimators=150; total time=   1.4s\n",
      "[CV 4/5] END ...............max_features=9, n_estimators=150; total time=   1.7s\n",
      "[CV 5/5] END ...............max_features=9, n_estimators=150; total time=   1.3s\n",
      "[CV 1/5] END ...............max_features=9, n_estimators=200; total time=   1.7s\n",
      "[CV 2/5] END ...............max_features=9, n_estimators=200; total time=   2.0s\n",
      "[CV 3/5] END ...............max_features=9, n_estimators=200; total time=   1.8s\n",
      "[CV 4/5] END ...............max_features=9, n_estimators=200; total time=   1.6s\n",
      "[CV 5/5] END ...............max_features=9, n_estimators=200; total time=   1.9s\n",
      "[CV 1/5] END ..............max_features=10, n_estimators=100; total time=   0.9s\n",
      "[CV 2/5] END ..............max_features=10, n_estimators=100; total time=   0.8s\n",
      "[CV 3/5] END ..............max_features=10, n_estimators=100; total time=   0.9s\n",
      "[CV 4/5] END ..............max_features=10, n_estimators=100; total time=   0.8s\n",
      "[CV 5/5] END ..............max_features=10, n_estimators=100; total time=   1.1s\n",
      "[CV 1/5] END ..............max_features=10, n_estimators=150; total time=   1.5s\n",
      "[CV 2/5] END ..............max_features=10, n_estimators=150; total time=   1.4s\n",
      "[CV 3/5] END ..............max_features=10, n_estimators=150; total time=   1.4s\n",
      "[CV 4/5] END ..............max_features=10, n_estimators=150; total time=   1.6s\n",
      "[CV 5/5] END ..............max_features=10, n_estimators=150; total time=   1.6s\n",
      "[CV 1/5] END ..............max_features=10, n_estimators=200; total time=   3.0s\n",
      "[CV 2/5] END ..............max_features=10, n_estimators=200; total time=   4.1s\n",
      "[CV 3/5] END ..............max_features=10, n_estimators=200; total time=   2.0s\n",
      "[CV 4/5] END ..............max_features=10, n_estimators=200; total time=   2.3s\n",
      "[CV 5/5] END ..............max_features=10, n_estimators=200; total time=   2.1s\n",
      "[CV 1/5] END ..............max_features=11, n_estimators=100; total time=   1.3s\n",
      "[CV 2/5] END ..............max_features=11, n_estimators=100; total time=   1.3s\n",
      "[CV 3/5] END ..............max_features=11, n_estimators=100; total time=   1.1s\n",
      "[CV 4/5] END ..............max_features=11, n_estimators=100; total time=   1.0s\n",
      "[CV 5/5] END ..............max_features=11, n_estimators=100; total time=   1.0s\n",
      "[CV 1/5] END ..............max_features=11, n_estimators=150; total time=   1.9s\n",
      "[CV 2/5] END ..............max_features=11, n_estimators=150; total time=   1.5s\n",
      "[CV 3/5] END ..............max_features=11, n_estimators=150; total time=   1.7s\n",
      "[CV 4/5] END ..............max_features=11, n_estimators=150; total time=   2.3s\n",
      "[CV 5/5] END ..............max_features=11, n_estimators=150; total time=   1.6s\n",
      "[CV 1/5] END ..............max_features=11, n_estimators=200; total time=   2.0s\n",
      "[CV 2/5] END ..............max_features=11, n_estimators=200; total time=   2.6s\n",
      "[CV 3/5] END ..............max_features=11, n_estimators=200; total time=   2.2s\n",
      "[CV 4/5] END ..............max_features=11, n_estimators=200; total time=   2.4s\n",
      "[CV 5/5] END ..............max_features=11, n_estimators=200; total time=   2.2s\n",
      "[CV 1/5] END ..............max_features=12, n_estimators=100; total time=   1.0s\n",
      "[CV 2/5] END ..............max_features=12, n_estimators=100; total time=   1.4s\n",
      "[CV 3/5] END ..............max_features=12, n_estimators=100; total time=   1.1s\n",
      "[CV 4/5] END ..............max_features=12, n_estimators=100; total time=   1.1s\n",
      "[CV 5/5] END ..............max_features=12, n_estimators=100; total time=   1.1s\n",
      "[CV 1/5] END ..............max_features=12, n_estimators=150; total time=   2.0s\n",
      "[CV 2/5] END ..............max_features=12, n_estimators=150; total time=   1.7s\n",
      "[CV 3/5] END ..............max_features=12, n_estimators=150; total time=   1.6s\n",
      "[CV 4/5] END ..............max_features=12, n_estimators=150; total time=   2.4s\n",
      "[CV 5/5] END ..............max_features=12, n_estimators=150; total time=   1.8s\n",
      "[CV 1/5] END ..............max_features=12, n_estimators=200; total time=   4.7s\n",
      "[CV 2/5] END ..............max_features=12, n_estimators=200; total time=   2.9s\n",
      "[CV 3/5] END ..............max_features=12, n_estimators=200; total time=   4.0s\n",
      "[CV 4/5] END ..............max_features=12, n_estimators=200; total time=   3.2s\n",
      "[CV 5/5] END ..............max_features=12, n_estimators=200; total time=   3.7s\n",
      "[CV 1/5] END ..............max_features=13, n_estimators=100; total time=   2.0s\n",
      "[CV 2/5] END ..............max_features=13, n_estimators=100; total time=   2.0s\n",
      "[CV 3/5] END ..............max_features=13, n_estimators=100; total time=   1.3s\n",
      "[CV 4/5] END ..............max_features=13, n_estimators=100; total time=   1.2s\n",
      "[CV 5/5] END ..............max_features=13, n_estimators=100; total time=   1.2s\n",
      "[CV 1/5] END ..............max_features=13, n_estimators=150; total time=   1.8s\n",
      "[CV 2/5] END ..............max_features=13, n_estimators=150; total time=   1.7s\n",
      "[CV 3/5] END ..............max_features=13, n_estimators=150; total time=   1.7s\n",
      "[CV 4/5] END ..............max_features=13, n_estimators=150; total time=   2.0s\n",
      "[CV 5/5] END ..............max_features=13, n_estimators=150; total time=   1.7s\n",
      "[CV 1/5] END ..............max_features=13, n_estimators=200; total time=   3.1s\n",
      "[CV 2/5] END ..............max_features=13, n_estimators=200; total time=   3.4s\n",
      "[CV 3/5] END ..............max_features=13, n_estimators=200; total time=   3.6s\n",
      "[CV 4/5] END ..............max_features=13, n_estimators=200; total time=   2.5s\n",
      "[CV 5/5] END ..............max_features=13, n_estimators=200; total time=   2.9s\n",
      "[CV 1/5] END ..............max_features=14, n_estimators=100; total time=   1.3s\n",
      "[CV 2/5] END ..............max_features=14, n_estimators=100; total time=   1.4s\n",
      "[CV 3/5] END ..............max_features=14, n_estimators=100; total time=   3.3s\n",
      "[CV 4/5] END ..............max_features=14, n_estimators=100; total time=   1.5s\n",
      "[CV 5/5] END ..............max_features=14, n_estimators=100; total time=   1.8s\n",
      "[CV 1/5] END ..............max_features=14, n_estimators=150; total time=   1.9s\n",
      "[CV 2/5] END ..............max_features=14, n_estimators=150; total time=   2.2s\n",
      "[CV 3/5] END ..............max_features=14, n_estimators=150; total time=   2.3s\n"
     ]
    },
    {
     "name": "stdout",
     "output_type": "stream",
     "text": [
      "[CV 4/5] END ..............max_features=14, n_estimators=150; total time=   1.8s\n",
      "[CV 5/5] END ..............max_features=14, n_estimators=150; total time=   2.4s\n",
      "[CV 1/5] END ..............max_features=14, n_estimators=200; total time=   2.8s\n",
      "[CV 2/5] END ..............max_features=14, n_estimators=200; total time=   3.0s\n",
      "[CV 3/5] END ..............max_features=14, n_estimators=200; total time=   2.6s\n",
      "[CV 4/5] END ..............max_features=14, n_estimators=200; total time=   3.3s\n",
      "[CV 5/5] END ..............max_features=14, n_estimators=200; total time=   2.7s\n",
      "[CV 1/5] END ..............max_features=15, n_estimators=100; total time=   2.1s\n",
      "[CV 2/5] END ..............max_features=15, n_estimators=100; total time=   2.3s\n",
      "[CV 3/5] END ..............max_features=15, n_estimators=100; total time=   2.1s\n",
      "[CV 4/5] END ..............max_features=15, n_estimators=100; total time=   2.0s\n",
      "[CV 5/5] END ..............max_features=15, n_estimators=100; total time=   1.3s\n",
      "[CV 1/5] END ..............max_features=15, n_estimators=150; total time=   1.8s\n",
      "[CV 2/5] END ..............max_features=15, n_estimators=150; total time=   2.3s\n",
      "[CV 3/5] END ..............max_features=15, n_estimators=150; total time=   2.1s\n",
      "[CV 4/5] END ..............max_features=15, n_estimators=150; total time=   2.6s\n",
      "[CV 5/5] END ..............max_features=15, n_estimators=150; total time=   4.8s\n",
      "[CV 1/5] END ..............max_features=15, n_estimators=200; total time=   3.0s\n",
      "[CV 2/5] END ..............max_features=15, n_estimators=200; total time=   3.0s\n",
      "[CV 3/5] END ..............max_features=15, n_estimators=200; total time=   2.6s\n",
      "[CV 4/5] END ..............max_features=15, n_estimators=200; total time=   3.0s\n",
      "[CV 5/5] END ..............max_features=15, n_estimators=200; total time=   2.8s\n",
      "[CV 1/5] END ..............max_features=16, n_estimators=100; total time=   1.7s\n",
      "[CV 2/5] END ..............max_features=16, n_estimators=100; total time=   2.4s\n",
      "[CV 3/5] END ..............max_features=16, n_estimators=100; total time=   1.8s\n",
      "[CV 4/5] END ..............max_features=16, n_estimators=100; total time=   2.1s\n",
      "[CV 5/5] END ..............max_features=16, n_estimators=100; total time=   1.6s\n",
      "[CV 1/5] END ..............max_features=16, n_estimators=150; total time=   2.1s\n",
      "[CV 2/5] END ..............max_features=16, n_estimators=150; total time=   2.6s\n",
      "[CV 3/5] END ..............max_features=16, n_estimators=150; total time=   2.1s\n",
      "[CV 4/5] END ..............max_features=16, n_estimators=150; total time=   2.6s\n",
      "[CV 5/5] END ..............max_features=16, n_estimators=150; total time=   2.1s\n",
      "[CV 1/5] END ..............max_features=16, n_estimators=200; total time=   3.4s\n",
      "[CV 2/5] END ..............max_features=16, n_estimators=200; total time=   2.9s\n",
      "[CV 3/5] END ..............max_features=16, n_estimators=200; total time=   3.4s\n",
      "[CV 4/5] END ..............max_features=16, n_estimators=200; total time=   3.5s\n",
      "[CV 5/5] END ..............max_features=16, n_estimators=200; total time=   4.6s\n",
      "[CV 1/5] END ..............max_features=17, n_estimators=100; total time=   2.3s\n",
      "[CV 2/5] END ..............max_features=17, n_estimators=100; total time=   1.7s\n",
      "[CV 3/5] END ..............max_features=17, n_estimators=100; total time=   1.5s\n",
      "[CV 4/5] END ..............max_features=17, n_estimators=100; total time=   1.8s\n",
      "[CV 5/5] END ..............max_features=17, n_estimators=100; total time=   1.7s\n",
      "[CV 1/5] END ..............max_features=17, n_estimators=150; total time=   2.3s\n",
      "[CV 2/5] END ..............max_features=17, n_estimators=150; total time=   2.5s\n",
      "[CV 3/5] END ..............max_features=17, n_estimators=150; total time=   2.1s\n",
      "[CV 4/5] END ..............max_features=17, n_estimators=150; total time=   2.5s\n",
      "[CV 5/5] END ..............max_features=17, n_estimators=150; total time=   2.3s\n",
      "[CV 1/5] END ..............max_features=17, n_estimators=200; total time=   3.3s\n",
      "[CV 2/5] END ..............max_features=17, n_estimators=200; total time=   3.1s\n",
      "[CV 3/5] END ..............max_features=17, n_estimators=200; total time=   3.2s\n",
      "[CV 4/5] END ..............max_features=17, n_estimators=200; total time=   3.0s\n",
      "[CV 5/5] END ..............max_features=17, n_estimators=200; total time=   3.1s\n",
      "[CV 1/5] END ..............max_features=18, n_estimators=100; total time=   1.6s\n",
      "[CV 2/5] END ..............max_features=18, n_estimators=100; total time=   1.8s\n",
      "[CV 3/5] END ..............max_features=18, n_estimators=100; total time=   1.8s\n",
      "[CV 4/5] END ..............max_features=18, n_estimators=100; total time=   1.4s\n",
      "[CV 5/5] END ..............max_features=18, n_estimators=100; total time=   1.8s\n",
      "[CV 1/5] END ..............max_features=18, n_estimators=150; total time=   2.3s\n",
      "[CV 2/5] END ..............max_features=18, n_estimators=150; total time=   2.8s\n",
      "[CV 3/5] END ..............max_features=18, n_estimators=150; total time=   2.5s\n",
      "[CV 4/5] END ..............max_features=18, n_estimators=150; total time=   2.8s\n",
      "[CV 5/5] END ..............max_features=18, n_estimators=150; total time=   2.6s\n",
      "[CV 1/5] END ..............max_features=18, n_estimators=200; total time=   3.5s\n",
      "[CV 2/5] END ..............max_features=18, n_estimators=200; total time=   3.2s\n",
      "[CV 3/5] END ..............max_features=18, n_estimators=200; total time=   3.7s\n",
      "[CV 4/5] END ..............max_features=18, n_estimators=200; total time=   3.4s\n",
      "[CV 5/5] END ..............max_features=18, n_estimators=200; total time=   3.2s\n",
      "[CV 1/5] END ..............max_features=19, n_estimators=100; total time=   1.9s\n",
      "[CV 2/5] END ..............max_features=19, n_estimators=100; total time=   2.0s\n",
      "[CV 3/5] END ..............max_features=19, n_estimators=100; total time=   1.5s\n",
      "[CV 4/5] END ..............max_features=19, n_estimators=100; total time=   2.2s\n",
      "[CV 5/5] END ..............max_features=19, n_estimators=100; total time=   2.4s\n",
      "[CV 1/5] END ..............max_features=19, n_estimators=150; total time=   3.7s\n",
      "[CV 2/5] END ..............max_features=19, n_estimators=150; total time=   2.7s\n",
      "[CV 3/5] END ..............max_features=19, n_estimators=150; total time=   3.8s\n",
      "[CV 4/5] END ..............max_features=19, n_estimators=150; total time=   2.7s\n",
      "[CV 5/5] END ..............max_features=19, n_estimators=150; total time=   2.8s\n",
      "[CV 1/5] END ..............max_features=19, n_estimators=200; total time=   3.3s\n",
      "[CV 2/5] END ..............max_features=19, n_estimators=200; total time=   3.2s\n",
      "[CV 3/5] END ..............max_features=19, n_estimators=200; total time=   3.7s\n",
      "[CV 4/5] END ..............max_features=19, n_estimators=200; total time=   4.5s\n",
      "[CV 5/5] END ..............max_features=19, n_estimators=200; total time=   4.5s\n",
      "[CV 1/5] END ..............max_features=20, n_estimators=100; total time=   2.2s\n",
      "[CV 2/5] END ..............max_features=20, n_estimators=100; total time=   1.6s\n",
      "[CV 3/5] END ..............max_features=20, n_estimators=100; total time=   1.6s\n",
      "[CV 4/5] END ..............max_features=20, n_estimators=100; total time=   1.9s\n",
      "[CV 5/5] END ..............max_features=20, n_estimators=100; total time=   1.7s\n",
      "[CV 1/5] END ..............max_features=20, n_estimators=150; total time=   2.8s\n",
      "[CV 2/5] END ..............max_features=20, n_estimators=150; total time=   2.6s\n",
      "[CV 3/5] END ..............max_features=20, n_estimators=150; total time=   2.6s\n",
      "[CV 4/5] END ..............max_features=20, n_estimators=150; total time=   2.6s\n",
      "[CV 5/5] END ..............max_features=20, n_estimators=150; total time=   3.1s\n",
      "[CV 1/5] END ..............max_features=20, n_estimators=200; total time=   3.7s\n",
      "[CV 2/5] END ..............max_features=20, n_estimators=200; total time=   3.8s\n",
      "[CV 3/5] END ..............max_features=20, n_estimators=200; total time=   3.5s\n",
      "[CV 4/5] END ..............max_features=20, n_estimators=200; total time=   3.4s\n",
      "[CV 5/5] END ..............max_features=20, n_estimators=200; total time=   3.8s\n"
     ]
    },
    {
     "data": {
      "text/plain": [
       "GridSearchCV(cv=5, estimator=RandomForestClassifier(),\n",
       "             param_grid={'max_features': range(1, 21),\n",
       "                         'n_estimators': range(100, 201, 50)},\n",
       "             verbose=3)"
      ]
     },
     "execution_count": 46,
     "metadata": {},
     "output_type": "execute_result"
    }
   ],
   "source": [
    "m_gs2.fit(x_train, y_train)"
   ]
  },
  {
   "cell_type": "code",
   "execution_count": 49,
   "metadata": {
    "id": "31PJYjnu844C"
   },
   "outputs": [],
   "source": [
    "result2 = pd.DataFrame(m_gs2.cv_results_)\n",
    "\n",
    "temp2 = result2[['param_n_estimators', 'param_max_features', 'mean_test_score']]"
   ]
  },
  {
   "cell_type": "code",
   "execution_count": 50,
   "metadata": {},
   "outputs": [
    {
     "data": {
      "text/html": [
       "<div>\n",
       "<style scoped>\n",
       "    .dataframe tbody tr th:only-of-type {\n",
       "        vertical-align: middle;\n",
       "    }\n",
       "\n",
       "    .dataframe tbody tr th {\n",
       "        vertical-align: top;\n",
       "    }\n",
       "\n",
       "    .dataframe thead th {\n",
       "        text-align: right;\n",
       "    }\n",
       "</style>\n",
       "<table border=\"1\" class=\"dataframe\">\n",
       "  <thead>\n",
       "    <tr style=\"text-align: right;\">\n",
       "      <th></th>\n",
       "      <th>param_max_features</th>\n",
       "      <th>mean_test_score</th>\n",
       "    </tr>\n",
       "  </thead>\n",
       "  <tbody>\n",
       "    <tr>\n",
       "      <th>0</th>\n",
       "      <td>1</td>\n",
       "      <td>0.671429</td>\n",
       "    </tr>\n",
       "    <tr>\n",
       "      <th>1</th>\n",
       "      <td>2</td>\n",
       "      <td>0.676000</td>\n",
       "    </tr>\n",
       "    <tr>\n",
       "      <th>2</th>\n",
       "      <td>3</td>\n",
       "      <td>0.679714</td>\n",
       "    </tr>\n",
       "    <tr>\n",
       "      <th>3</th>\n",
       "      <td>4</td>\n",
       "      <td>0.677714</td>\n",
       "    </tr>\n",
       "    <tr>\n",
       "      <th>4</th>\n",
       "      <td>5</td>\n",
       "      <td>0.678286</td>\n",
       "    </tr>\n",
       "  </tbody>\n",
       "</table>\n",
       "</div>"
      ],
      "text/plain": [
       "  param_max_features  mean_test_score\n",
       "0                  1         0.671429\n",
       "1                  2         0.676000\n",
       "2                  3         0.679714\n",
       "3                  4         0.677714\n",
       "4                  5         0.678286"
      ]
     },
     "execution_count": 50,
     "metadata": {},
     "output_type": "execute_result"
    }
   ],
   "source": [
    "temp.head()"
   ]
  },
  {
   "cell_type": "code",
   "execution_count": 56,
   "metadata": {},
   "outputs": [
    {
     "data": {
      "image/png": "[encoded data removed]",
      "text/plain": [
       "<Figure size 864x576 with 1 Axes>"
      ]
     },
     "metadata": {
      "needs_background": "light"
     },
     "output_type": "display_data"
    }
   ],
   "source": [
    "plt.figure(figsize=(12, 8))\n",
    "sns.lineplot('param_max_features', 'mean_test_score', data=temp2, hue='param_n_estimators')\n",
    "plt.grid()\n",
    "plt.show()"
   ]
  },
  {
   "cell_type": "markdown",
   "metadata": {},
   "source": [
    "- 하이퍼 파라미터가 2개, 3개일 때는 괜찮지만 너무 많아지면 힘들어짐.\n",
    "- =>그래서 이걸 위한 것이 있음"
   ]
  },
  {
   "cell_type": "code",
   "execution_count": null,
   "metadata": {},
   "outputs": [],
   "source": []
  }
 ],
 "metadata": {
  "colab": {
   "collapsed_sections": [],
   "name": "12과 Bagging.ipynb",
   "provenance": [],
   "toc_visible": true
  },
  "kernelspec": {
   "display_name": "Python 3",
   "language": "python",
   "name": "python3"
  },
  "language_info": {
   "codemirror_mode": {
    "name": "ipython",
    "version": 3
   },
   "file_extension": ".py",
   "mimetype": "text/x-python",
   "name": "python",
   "nbconvert_exporter": "python",
   "pygments_lexer": "ipython3",
   "version": "3.8.8"
  }
 },
 "nbformat": 4,
 "nbformat_minor": 1
}
