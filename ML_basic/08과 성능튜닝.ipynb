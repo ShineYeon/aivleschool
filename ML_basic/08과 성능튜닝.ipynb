{
 "cells": [
  {
   "cell_type": "markdown",
   "metadata": {
    "id": "cVB9pY-v8uv5"
   },
   "source": [
    "# 성능튜닝"
   ]
  },
  {
   "cell_type": "markdown",
   "metadata": {
    "id": "O1uL0UIEzBPw"
   },
   "source": [
    "## 1.환경준비"
   ]
  },
  {
   "cell_type": "markdown",
   "metadata": {
    "id": "vNt997De17qz"
   },
   "source": [
    "### (1) import"
   ]
  },
  {
   "cell_type": "code",
   "execution_count": 1,
   "metadata": {
    "id": "GugpCLBiVHzd"
   },
   "outputs": [],
   "source": [
    "#라이브러리들을 불러오자.\n",
    "import numpy as np\n",
    "import pandas as pd\n",
    "import matplotlib.pyplot as plt\n",
    "import seaborn as sns\n",
    "\n",
    "# 전처리\n",
    "from sklearn.model_selection import train_test_split\n",
    "from sklearn.preprocessing import MinMaxScaler\n",
    "\n",
    "# 모델링\n",
    "from sklearn.linear_model import LogisticRegression\n",
    "from sklearn.tree import DecisionTreeClassifier, plot_tree\n",
    "from sklearn.neighbors import KNeighborsClassifier\n",
    "from sklearn.svm import SVC\n",
    "from sklearn.metrics import * \n",
    "\n",
    "import warnings    # 경고메시지 제외\n",
    "warnings.filterwarnings(action='ignore')"
   ]
  },
  {
   "cell_type": "markdown",
   "metadata": {
    "id": "CG-FeAY4f25C"
   },
   "source": [
    "### (2) 데이터 준비"
   ]
  },
  {
   "cell_type": "markdown",
   "metadata": {
    "id": "LBOR4ttK_6JA"
   },
   "source": [
    "* 변수설명\n",
    "    * COLLEGE : 대학 졸업여부\n",
    "    * INCOME : 연수입\n",
    "    * OVERAGE : 월평균 초과사용 시간(분)\n",
    "    * LEFTOVER : 월평균 잔여시간비율(%)\n",
    "    * HOUSE : 집값\n",
    "    * HANDSET_PRICE : 스마트폰 가격\n",
    "    * OVER_15MINS_CALLS_PER_MONTH : 월평균 장기통화(15분이상) 횟수\n",
    "    * AVERAGE_CALL_DURATION : 평균 통화 시간\n",
    "    * REPORTED_SATISFACTION : 만족도 설문조사 결과\n",
    "    * REPORTED_USAGE_LEVEL : 사용도 자가진단 결과\n",
    "    * CONSIDERING_CHANGE_OF_PLAN : 향후 변경계획 설문조사 결과\n",
    "    * CHURN : 이탈(번호이동) 여부 (1-이탈, 0-잔류, Target 변수)\n"
   ]
  },
  {
   "cell_type": "code",
   "execution_count": 2,
   "metadata": {
    "id": "pl1Ar13F_6JB"
   },
   "outputs": [
    {
     "data": {
      "text/html": [
       "<div>\n",
       "<style scoped>\n",
       "    .dataframe tbody tr th:only-of-type {\n",
       "        vertical-align: middle;\n",
       "    }\n",
       "\n",
       "    .dataframe tbody tr th {\n",
       "        vertical-align: top;\n",
       "    }\n",
       "\n",
       "    .dataframe thead th {\n",
       "        text-align: right;\n",
       "    }\n",
       "</style>\n",
       "<table border=\"1\" class=\"dataframe\">\n",
       "  <thead>\n",
       "    <tr style=\"text-align: right;\">\n",
       "      <th></th>\n",
       "      <th>id</th>\n",
       "      <th>COLLEGE</th>\n",
       "      <th>INCOME</th>\n",
       "      <th>OVERAGE</th>\n",
       "      <th>LEFTOVER</th>\n",
       "      <th>HOUSE</th>\n",
       "      <th>HANDSET_PRICE</th>\n",
       "      <th>OVER_15MINS_CALLS_PER_MONTH</th>\n",
       "      <th>AVERAGE_CALL_DURATION</th>\n",
       "      <th>REPORTED_SATISFACTION</th>\n",
       "      <th>REPORTED_USAGE_LEVEL</th>\n",
       "      <th>CONSIDERING_CHANGE_OF_PLAN</th>\n",
       "      <th>CHURN</th>\n",
       "    </tr>\n",
       "  </thead>\n",
       "  <tbody>\n",
       "    <tr>\n",
       "      <th>3178</th>\n",
       "      <td>3179</td>\n",
       "      <td>0</td>\n",
       "      <td>119512</td>\n",
       "      <td>51</td>\n",
       "      <td>31</td>\n",
       "      <td>248566</td>\n",
       "      <td>229</td>\n",
       "      <td>5</td>\n",
       "      <td>2</td>\n",
       "      <td>very_sat</td>\n",
       "      <td>very_high</td>\n",
       "      <td>considering</td>\n",
       "      <td>1</td>\n",
       "    </tr>\n",
       "    <tr>\n",
       "      <th>14926</th>\n",
       "      <td>14927</td>\n",
       "      <td>1</td>\n",
       "      <td>142144</td>\n",
       "      <td>192</td>\n",
       "      <td>15</td>\n",
       "      <td>774317</td>\n",
       "      <td>581</td>\n",
       "      <td>29</td>\n",
       "      <td>4</td>\n",
       "      <td>unsat</td>\n",
       "      <td>very_little</td>\n",
       "      <td>never_thought</td>\n",
       "      <td>1</td>\n",
       "    </tr>\n",
       "    <tr>\n",
       "      <th>15116</th>\n",
       "      <td>15117</td>\n",
       "      <td>1</td>\n",
       "      <td>142308</td>\n",
       "      <td>0</td>\n",
       "      <td>79</td>\n",
       "      <td>306426</td>\n",
       "      <td>497</td>\n",
       "      <td>1</td>\n",
       "      <td>1</td>\n",
       "      <td>sat</td>\n",
       "      <td>little</td>\n",
       "      <td>considering</td>\n",
       "      <td>0</td>\n",
       "    </tr>\n",
       "    <tr>\n",
       "      <th>12733</th>\n",
       "      <td>12734</td>\n",
       "      <td>1</td>\n",
       "      <td>113385</td>\n",
       "      <td>0</td>\n",
       "      <td>0</td>\n",
       "      <td>333599</td>\n",
       "      <td>819</td>\n",
       "      <td>1</td>\n",
       "      <td>6</td>\n",
       "      <td>very_unsat</td>\n",
       "      <td>very_high</td>\n",
       "      <td>considering</td>\n",
       "      <td>1</td>\n",
       "    </tr>\n",
       "    <tr>\n",
       "      <th>14032</th>\n",
       "      <td>14033</td>\n",
       "      <td>1</td>\n",
       "      <td>90348</td>\n",
       "      <td>209</td>\n",
       "      <td>10</td>\n",
       "      <td>637286</td>\n",
       "      <td>360</td>\n",
       "      <td>26</td>\n",
       "      <td>4</td>\n",
       "      <td>unsat</td>\n",
       "      <td>little</td>\n",
       "      <td>actively_looking_into_it</td>\n",
       "      <td>0</td>\n",
       "    </tr>\n",
       "  </tbody>\n",
       "</table>\n",
       "</div>"
      ],
      "text/plain": [
       "          id  COLLEGE  INCOME  OVERAGE  LEFTOVER   HOUSE  HANDSET_PRICE  \\\n",
       "3178    3179        0  119512       51        31  248566            229   \n",
       "14926  14927        1  142144      192        15  774317            581   \n",
       "15116  15117        1  142308        0        79  306426            497   \n",
       "12733  12734        1  113385        0         0  333599            819   \n",
       "14032  14033        1   90348      209        10  637286            360   \n",
       "\n",
       "       OVER_15MINS_CALLS_PER_MONTH  AVERAGE_CALL_DURATION  \\\n",
       "3178                             5                      2   \n",
       "14926                           29                      4   \n",
       "15116                            1                      1   \n",
       "12733                            1                      6   \n",
       "14032                           26                      4   \n",
       "\n",
       "      REPORTED_SATISFACTION REPORTED_USAGE_LEVEL CONSIDERING_CHANGE_OF_PLAN  \\\n",
       "3178               very_sat            very_high                considering   \n",
       "14926                 unsat          very_little              never_thought   \n",
       "15116                   sat               little                considering   \n",
       "12733            very_unsat            very_high                considering   \n",
       "14032                 unsat               little   actively_looking_into_it   \n",
       "\n",
       "       CHURN  \n",
       "3178       1  \n",
       "14926      1  \n",
       "15116      0  \n",
       "12733      1  \n",
       "14032      0  "
      ]
     },
     "execution_count": 2,
     "metadata": {},
     "output_type": "execute_result"
    }
   ],
   "source": [
    "# 데이터를 불러옵시다.\n",
    "path = 'https://raw.githubusercontent.com/DA4BAM/dataset/master/mobile_cust_churn.csv'\n",
    "data = pd.read_csv(path)\n",
    "data = data.sample(5000, random_state = 2022)\n",
    "data['CHURN'] = data['CHURN'].map({'LEAVE':1, 'STAY':0})\n",
    "# sklearn에서는 y 가변수화 할 필요 없다.\n",
    "# 그런데 statsmodels 라이브러리에서는 반드시 1, 0 이어야함.\n",
    "# 그리고 tensorflow, keras에서도 1, 0 으로 만들어야 함.\n",
    "# 여기서는 왜 필요? 전진선택법에서 aic기반 선택할 때 statsmodel의 logistic 회귀를 가져왔기 때문\n",
    "# (forward_stepwise_logistic 함수)\n",
    "\n",
    "data.head()"
   ]
  },
  {
   "cell_type": "markdown",
   "metadata": {
    "id": "wW0d0eGmCYJM"
   },
   "source": [
    "## 2.데이터 준비"
   ]
  },
  {
   "cell_type": "markdown",
   "metadata": {
    "id": "y9Q6jR6OZjUk"
   },
   "source": [
    "### (1) 데이터 정리"
   ]
  },
  {
   "cell_type": "code",
   "execution_count": 3,
   "metadata": {
    "id": "Dhi6-3jgrEgQ"
   },
   "outputs": [],
   "source": [
    "drop_cols = ['id']\n",
    "data.drop(drop_cols, axis = 1, inplace = True )"
   ]
  },
  {
   "cell_type": "markdown",
   "metadata": {
    "id": "WpJEGpUuuVWm"
   },
   "source": [
    "### (2) 데이터분할1 : x, y 나누기"
   ]
  },
  {
   "cell_type": "code",
   "execution_count": 4,
   "metadata": {
    "id": "3u8-Ovu4ADVn"
   },
   "outputs": [],
   "source": [
    "target = 'CHURN'\n",
    "x = data.drop(target, axis = 1)\n",
    "y = data.loc[:, target]"
   ]
  },
  {
   "cell_type": "markdown",
   "metadata": {
    "id": "mp_5volyuaA1"
   },
   "source": [
    "### (3) NA 조치"
   ]
  },
  {
   "cell_type": "markdown",
   "metadata": {
    "id": "nOF9fSLQugGf"
   },
   "source": [
    "### (4) 가변수화"
   ]
  },
  {
   "cell_type": "code",
   "execution_count": 5,
   "metadata": {
    "id": "CZgBC2QSoKc8"
   },
   "outputs": [],
   "source": [
    "dumm_cols = ['REPORTED_SATISFACTION','REPORTED_USAGE_LEVEL','CONSIDERING_CHANGE_OF_PLAN']\n",
    "x = pd.get_dummies(x, columns = dumm_cols, drop_first = True)"
   ]
  },
  {
   "cell_type": "markdown",
   "metadata": {
    "id": "VBwpOKgkf5Am"
   },
   "source": [
    "### (5) 데이터분할2 : train : validation 나누기"
   ]
  },
  {
   "cell_type": "code",
   "execution_count": 6,
   "metadata": {
    "id": "1iHmTnHCgBw5"
   },
   "outputs": [],
   "source": [
    "x_train, x_val, y_train, y_val = train_test_split(x, y, test_size = .3, random_state = 20)"
   ]
  },
  {
   "cell_type": "markdown",
   "metadata": {
    "id": "59bBv0a8heYh"
   },
   "source": [
    "### (6) Scaling"
   ]
  },
  {
   "cell_type": "code",
   "execution_count": 7,
   "metadata": {
    "id": "vA28buJg9GpV"
   },
   "outputs": [],
   "source": [
    "scaler = MinMaxScaler()\n",
    "x_train_s = scaler.fit_transform(x_train)\n",
    "x_val_s = scaler.transform(x_val)"
   ]
  },
  {
   "cell_type": "markdown",
   "metadata": {
    "id": "Db2kkXxgf25E"
   },
   "source": [
    "## 3.선형모델 튜닝\n",
    "\n",
    "Logistic Regression : 전진선택법\n",
    "* 변수를 하나씩 늘려가면서\n",
    "* AIC를 가장 낮추는 모델 찾기"
   ]
  },
  {
   "cell_type": "markdown",
   "metadata": {
    "id": "IUfTRB1AZnKM"
   },
   "source": [
    "### (1) 전진선택을 수행할 함수 만들기( **로지스틱 회귀** 용)"
   ]
  },
  {
   "cell_type": "code",
   "execution_count": 8,
   "metadata": {
    "id": "JtuIPRybXPKE"
   },
   "outputs": [],
   "source": [
    "# 아래 함수는 로지스틱 회귀를 위한 전진선택법 함수 입니다.\n",
    "import statsmodels.api as sm\n",
    "\n",
    "def forward_stepwise_logistic(x_train, y_train): # 전진선택법 로지스틱 회귀\n",
    "\n",
    "    # 변수목록, 선택된 변수 목록, 단계별 모델과 AIC 저장소 정의\n",
    "    features = list(x_train)\n",
    "    selected = []\n",
    "    step_df = pd.DataFrame({ 'step':[], 'feature':[],'aic':[]})\n",
    "\n",
    "    # \n",
    "    for s in range(0, len(features)) :\n",
    "        result =  { 'step':[], 'feature':[],'aic':[]}\n",
    "\n",
    "        # 변수 목록에서 변수 한개씩 뽑아서 모델에 추가\n",
    "        for f in features :\n",
    "            vars = selected + [f]\n",
    "            x_tr = x_train[vars]\n",
    "            model = sm.Logit(y_train, x_tr).fit()\n",
    "            result['step'].append(s+1)\n",
    "            result['feature'].append(vars)\n",
    "            result['aic'].append(model.aic)\n",
    "        \n",
    "        # 모델별 aic 집계\n",
    "        temp = pd.DataFrame(result).sort_values('aic').reset_index(drop = True)\n",
    "\n",
    "        # 만약 이전 aic보다 새로운 aic 가 크다면 멈추기\n",
    "        if step_df['aic'].min() < temp['aic'].min() :\n",
    "            break\n",
    "        step_df = pd.concat([step_df, temp], axis = 0).reset_index(drop = True)\n",
    "\n",
    "        # 선택된 변수 제거\n",
    "        v = temp.loc[0,'feature'][s]\n",
    "        features.remove(v)\n",
    "\n",
    "        selected.append(v)\n",
    "    \n",
    "    # 선택된 변수와 step_df 결과 반환\n",
    "    return selected, step_df"
   ]
  },
  {
   "cell_type": "markdown",
   "metadata": {
    "id": "vp6_CDIvaJ8I"
   },
   "source": [
    "### (2) 전진선택법 수행"
   ]
  },
  {
   "cell_type": "code",
   "execution_count": 9,
   "metadata": {
    "id": "X2_UhsQ0f25E"
   },
   "outputs": [
    {
     "name": "stdout",
     "output_type": "stream",
     "text": [
      "Optimization terminated successfully.\n",
      "         Current function value: 0.693075\n",
      "         Iterations 3\n",
      "Optimization terminated successfully.\n",
      "         Current function value: 0.693062\n",
      "         Iterations 2\n",
      "Optimization terminated successfully.\n",
      "         Current function value: 0.683528\n",
      "         Iterations 4\n",
      "Optimization terminated successfully.\n",
      "         Current function value: 0.693007\n",
      "         Iterations 3\n",
      "Optimization terminated successfully.\n",
      "         Current function value: 0.684909\n",
      "         Iterations 2\n",
      "Optimization terminated successfully.\n",
      "         Current function value: 0.693042\n",
      "         Iterations 2\n",
      "Optimization terminated successfully.\n",
      "         Current function value: 0.686899\n",
      "         Iterations 4\n",
      "Optimization terminated successfully.\n",
      "         Current function value: 0.692565\n",
      "         Iterations 3\n",
      "Optimization terminated successfully.\n",
      "         Current function value: 0.692806\n",
      "         Iterations 4\n",
      "Optimization terminated successfully.\n",
      "         Current function value: 0.693137\n",
      "         Iterations 3\n",
      "Optimization terminated successfully.\n",
      "         Current function value: 0.691866\n",
      "         Iterations 4\n",
      "Optimization terminated successfully.\n",
      "         Current function value: 0.693146\n",
      "         Iterations 2\n",
      "Optimization terminated successfully.\n",
      "         Current function value: 0.693147\n",
      "         Iterations 1\n",
      "Optimization terminated successfully.\n",
      "         Current function value: 0.693015\n",
      "         Iterations 3\n",
      "Optimization terminated successfully.\n",
      "         Current function value: 0.692965\n",
      "         Iterations 3\n",
      "Optimization terminated successfully.\n",
      "         Current function value: 0.692882\n",
      "         Iterations 3\n",
      "Optimization terminated successfully.\n",
      "         Current function value: 0.692579\n",
      "         Iterations 3\n",
      "Optimization terminated successfully.\n",
      "         Current function value: 0.693046\n",
      "         Iterations 3\n",
      "Optimization terminated successfully.\n",
      "         Current function value: 0.693080\n",
      "         Iterations 3\n",
      "Optimization terminated successfully.\n",
      "         Current function value: 0.693058\n",
      "         Iterations 3\n",
      "Optimization terminated successfully.\n",
      "         Current function value: 0.679039\n",
      "         Iterations 4\n",
      "Optimization terminated successfully.\n",
      "         Current function value: 0.679064\n",
      "         Iterations 4\n",
      "Optimization terminated successfully.\n",
      "         Current function value: 0.682035\n",
      "         Iterations 4\n",
      "Optimization terminated successfully.\n",
      "         Current function value: 0.643056\n",
      "         Iterations 4\n",
      "Optimization terminated successfully.\n",
      "         Current function value: 0.679443\n",
      "         Iterations 4\n",
      "Optimization terminated successfully.\n",
      "         Current function value: 0.683317\n",
      "         Iterations 4\n",
      "Optimization terminated successfully.\n",
      "         Current function value: 0.674460\n",
      "         Iterations 4\n",
      "Optimization terminated successfully.\n",
      "         Current function value: 0.682313\n",
      "         Iterations 4\n",
      "Optimization terminated successfully.\n",
      "         Current function value: 0.682292\n",
      "         Iterations 4\n",
      "Optimization terminated successfully.\n",
      "         Current function value: 0.678103\n",
      "         Iterations 4\n",
      "Optimization terminated successfully.\n",
      "         Current function value: 0.680840\n",
      "         Iterations 4\n",
      "Optimization terminated successfully.\n",
      "         Current function value: 0.683068\n",
      "         Iterations 4\n",
      "Optimization terminated successfully.\n",
      "         Current function value: 0.679251\n",
      "         Iterations 4\n",
      "Optimization terminated successfully.\n",
      "         Current function value: 0.680933\n",
      "         Iterations 4\n",
      "Optimization terminated successfully.\n",
      "         Current function value: 0.681200\n",
      "         Iterations 4\n",
      "Optimization terminated successfully.\n",
      "         Current function value: 0.677933\n",
      "         Iterations 4\n",
      "Optimization terminated successfully.\n",
      "         Current function value: 0.682371\n",
      "         Iterations 4\n",
      "Optimization terminated successfully.\n",
      "         Current function value: 0.682062\n",
      "         Iterations 4\n",
      "Optimization terminated successfully.\n",
      "         Current function value: 0.682863\n",
      "         Iterations 4\n",
      "Optimization terminated successfully.\n",
      "         Current function value: 0.642039\n",
      "         Iterations 5\n",
      "Optimization terminated successfully.\n",
      "         Current function value: 0.635596\n",
      "         Iterations 4\n",
      "Optimization terminated successfully.\n",
      "         Current function value: 0.639711\n",
      "         Iterations 4\n",
      "Optimization terminated successfully.\n",
      "         Current function value: 0.635522\n",
      "         Iterations 4\n",
      "Optimization terminated successfully.\n",
      "         Current function value: 0.642894\n",
      "         Iterations 4\n",
      "Optimization terminated successfully.\n",
      "         Current function value: 0.642569\n",
      "         Iterations 5\n",
      "Optimization terminated successfully.\n",
      "         Current function value: 0.642966\n",
      "         Iterations 5\n",
      "Optimization terminated successfully.\n",
      "         Current function value: 0.642830\n",
      "         Iterations 5\n",
      "Optimization terminated successfully.\n",
      "         Current function value: 0.642966\n",
      "         Iterations 5\n",
      "Optimization terminated successfully.\n",
      "         Current function value: 0.641766\n",
      "         Iterations 5\n",
      "Optimization terminated successfully.\n",
      "         Current function value: 0.642866\n",
      "         Iterations 5\n",
      "Optimization terminated successfully.\n",
      "         Current function value: 0.642929\n",
      "         Iterations 5\n",
      "Optimization terminated successfully.\n",
      "         Current function value: 0.642750\n",
      "         Iterations 5\n",
      "Optimization terminated successfully.\n",
      "         Current function value: 0.642940\n",
      "         Iterations 5\n",
      "Optimization terminated successfully.\n",
      "         Current function value: 0.643014\n",
      "         Iterations 5\n",
      "Optimization terminated successfully.\n",
      "         Current function value: 0.643051\n",
      "         Iterations 5\n",
      "Optimization terminated successfully.\n",
      "         Current function value: 0.642672\n",
      "         Iterations 5\n",
      "Optimization terminated successfully.\n",
      "         Current function value: 0.643053\n",
      "         Iterations 5\n",
      "Optimization terminated successfully.\n",
      "         Current function value: 0.635399\n",
      "         Iterations 5\n",
      "Optimization terminated successfully.\n",
      "         Current function value: 0.634914\n",
      "         Iterations 4\n",
      "Optimization terminated successfully.\n",
      "         Current function value: 0.633893\n",
      "         Iterations 5\n",
      "Optimization terminated successfully.\n",
      "         Current function value: 0.635419\n",
      "         Iterations 4\n",
      "Optimization terminated successfully.\n",
      "         Current function value: 0.635464\n",
      "         Iterations 4\n",
      "Optimization terminated successfully.\n",
      "         Current function value: 0.635187\n",
      "         Iterations 5\n",
      "Optimization terminated successfully.\n",
      "         Current function value: 0.635504\n",
      "         Iterations 5\n",
      "Optimization terminated successfully.\n",
      "         Current function value: 0.634933\n",
      "         Iterations 5\n",
      "Optimization terminated successfully.\n",
      "         Current function value: 0.635116\n",
      "         Iterations 5\n",
      "Optimization terminated successfully.\n",
      "         Current function value: 0.635470\n",
      "         Iterations 4\n",
      "Optimization terminated successfully.\n",
      "         Current function value: 0.635439\n",
      "         Iterations 5\n",
      "Optimization terminated successfully.\n",
      "         Current function value: 0.635494\n",
      "         Iterations 5\n",
      "Optimization terminated successfully.\n",
      "         Current function value: 0.635521\n",
      "         Iterations 5\n",
      "Optimization terminated successfully.\n",
      "         Current function value: 0.635391\n",
      "         Iterations 5\n",
      "Optimization terminated successfully.\n",
      "         Current function value: 0.635503\n",
      "         Iterations 5\n",
      "Optimization terminated successfully.\n",
      "         Current function value: 0.635451\n",
      "         Iterations 5\n",
      "Optimization terminated successfully.\n",
      "         Current function value: 0.635483\n",
      "         Iterations 5\n",
      "Optimization terminated successfully.\n",
      "         Current function value: 0.633842\n",
      "         Iterations 5\n",
      "Optimization terminated successfully.\n",
      "         Current function value: 0.633406\n",
      "         Iterations 5\n",
      "Optimization terminated successfully.\n",
      "         Current function value: 0.633794\n",
      "         Iterations 5\n",
      "Optimization terminated successfully.\n",
      "         Current function value: 0.633753\n",
      "         Iterations 5\n",
      "Optimization terminated successfully.\n",
      "         Current function value: 0.633538\n",
      "         Iterations 5\n",
      "Optimization terminated successfully.\n",
      "         Current function value: 0.633890\n",
      "         Iterations 5\n",
      "Optimization terminated successfully.\n",
      "         Current function value: 0.633194\n",
      "         Iterations 5\n",
      "Optimization terminated successfully.\n",
      "         Current function value: 0.633579\n",
      "         Iterations 5\n",
      "Optimization terminated successfully.\n",
      "         Current function value: 0.633861\n",
      "         Iterations 5\n",
      "Optimization terminated successfully.\n",
      "         Current function value: 0.633765\n",
      "         Iterations 5\n",
      "Optimization terminated successfully.\n",
      "         Current function value: 0.633884\n",
      "         Iterations 5\n"
     ]
    },
    {
     "name": "stdout",
     "output_type": "stream",
     "text": [
      "Optimization terminated successfully.\n",
      "         Current function value: 0.633888\n",
      "         Iterations 5\n",
      "Optimization terminated successfully.\n",
      "         Current function value: 0.633674\n",
      "         Iterations 5\n",
      "Optimization terminated successfully.\n",
      "         Current function value: 0.633874\n",
      "         Iterations 5\n",
      "Optimization terminated successfully.\n",
      "         Current function value: 0.633866\n",
      "         Iterations 5\n",
      "Optimization terminated successfully.\n",
      "         Current function value: 0.633847\n",
      "         Iterations 5\n",
      "Optimization terminated successfully.\n",
      "         Current function value: 0.633112\n",
      "         Iterations 5\n",
      "Optimization terminated successfully.\n",
      "         Current function value: 0.632641\n",
      "         Iterations 5\n",
      "Optimization terminated successfully.\n",
      "         Current function value: 0.633102\n",
      "         Iterations 5\n",
      "Optimization terminated successfully.\n",
      "         Current function value: 0.632954\n",
      "         Iterations 5\n",
      "Optimization terminated successfully.\n",
      "         Current function value: 0.632697\n",
      "         Iterations 5\n",
      "Optimization terminated successfully.\n",
      "         Current function value: 0.633174\n",
      "         Iterations 5\n",
      "Optimization terminated successfully.\n",
      "         Current function value: 0.633137\n",
      "         Iterations 5\n",
      "Optimization terminated successfully.\n",
      "         Current function value: 0.633162\n",
      "         Iterations 5\n",
      "Optimization terminated successfully.\n",
      "         Current function value: 0.633092\n",
      "         Iterations 5\n",
      "Optimization terminated successfully.\n",
      "         Current function value: 0.633175\n",
      "         Iterations 5\n",
      "Optimization terminated successfully.\n",
      "         Current function value: 0.633193\n",
      "         Iterations 5\n",
      "Optimization terminated successfully.\n",
      "         Current function value: 0.633016\n",
      "         Iterations 5\n",
      "Optimization terminated successfully.\n",
      "         Current function value: 0.633178\n",
      "         Iterations 5\n",
      "Optimization terminated successfully.\n",
      "         Current function value: 0.633151\n",
      "         Iterations 5\n",
      "Optimization terminated successfully.\n",
      "         Current function value: 0.633158\n",
      "         Iterations 5\n",
      "Optimization terminated successfully.\n",
      "         Current function value: 0.632593\n",
      "         Iterations 5\n",
      "Optimization terminated successfully.\n",
      "         Current function value: 0.632566\n",
      "         Iterations 5\n",
      "Optimization terminated successfully.\n",
      "         Current function value: 0.632521\n",
      "         Iterations 5\n",
      "Optimization terminated successfully.\n",
      "         Current function value: 0.632098\n",
      "         Iterations 5\n",
      "Optimization terminated successfully.\n",
      "         Current function value: 0.632599\n",
      "         Iterations 5\n",
      "Optimization terminated successfully.\n",
      "         Current function value: 0.632616\n",
      "         Iterations 5\n",
      "Optimization terminated successfully.\n",
      "         Current function value: 0.632617\n",
      "         Iterations 5\n",
      "Optimization terminated successfully.\n",
      "         Current function value: 0.632520\n",
      "         Iterations 5\n",
      "Optimization terminated successfully.\n",
      "         Current function value: 0.632636\n",
      "         Iterations 5\n",
      "Optimization terminated successfully.\n",
      "         Current function value: 0.632635\n",
      "         Iterations 5\n",
      "Optimization terminated successfully.\n",
      "         Current function value: 0.632427\n",
      "         Iterations 5\n",
      "Optimization terminated successfully.\n",
      "         Current function value: 0.632616\n",
      "         Iterations 5\n",
      "Optimization terminated successfully.\n",
      "         Current function value: 0.632613\n",
      "         Iterations 5\n",
      "Optimization terminated successfully.\n",
      "         Current function value: 0.632591\n",
      "         Iterations 5\n",
      "Optimization terminated successfully.\n",
      "         Current function value: 0.632043\n",
      "         Iterations 5\n",
      "Optimization terminated successfully.\n",
      "         Current function value: 0.632027\n",
      "         Iterations 5\n",
      "Optimization terminated successfully.\n",
      "         Current function value: 0.631949\n",
      "         Iterations 5\n",
      "Optimization terminated successfully.\n",
      "         Current function value: 0.632002\n",
      "         Iterations 5\n",
      "Optimization terminated successfully.\n",
      "         Current function value: 0.632098\n",
      "         Iterations 5\n",
      "Optimization terminated successfully.\n",
      "         Current function value: 0.632072\n",
      "         Iterations 5\n",
      "Optimization terminated successfully.\n",
      "         Current function value: 0.631997\n",
      "         Iterations 5\n",
      "Optimization terminated successfully.\n",
      "         Current function value: 0.632093\n",
      "         Iterations 5\n",
      "Optimization terminated successfully.\n",
      "         Current function value: 0.632092\n",
      "         Iterations 5\n",
      "Optimization terminated successfully.\n",
      "         Current function value: 0.631906\n",
      "         Iterations 5\n",
      "Optimization terminated successfully.\n",
      "         Current function value: 0.632075\n",
      "         Iterations 5\n",
      "Optimization terminated successfully.\n",
      "         Current function value: 0.632062\n",
      "         Iterations 5\n",
      "Optimization terminated successfully.\n",
      "         Current function value: 0.632051\n",
      "         Iterations 5\n"
     ]
    }
   ],
   "source": [
    "vars, result = forward_stepwise_logistic(x_train, y_train)\n",
    "#vars: 선택된 변수들, result: 어떻게 선택했는지 DF에 저장하는 변수"
   ]
  },
  {
   "cell_type": "markdown",
   "metadata": {
    "id": "b8831TsJaHFq"
   },
   "source": [
    "* 선택된 변수"
   ]
  },
  {
   "cell_type": "code",
   "execution_count": 10,
   "metadata": {
    "id": "ReDkDZMmaB8l"
   },
   "outputs": [
    {
     "data": {
      "text/plain": [
       "['OVERAGE',\n",
       " 'HOUSE',\n",
       " 'HANDSET_PRICE',\n",
       " 'LEFTOVER',\n",
       " 'REPORTED_SATISFACTION_very_sat',\n",
       " 'INCOME',\n",
       " 'REPORTED_SATISFACTION_sat']"
      ]
     },
     "execution_count": 10,
     "metadata": {},
     "output_type": "execute_result"
    }
   ],
   "source": [
    "vars"
   ]
  },
  {
   "cell_type": "code",
   "execution_count": 11,
   "metadata": {},
   "outputs": [
    {
     "data": {
      "text/plain": [
       "['COLLEGE',\n",
       " 'INCOME',\n",
       " 'OVERAGE',\n",
       " 'LEFTOVER',\n",
       " 'HOUSE',\n",
       " 'HANDSET_PRICE',\n",
       " 'OVER_15MINS_CALLS_PER_MONTH',\n",
       " 'AVERAGE_CALL_DURATION',\n",
       " 'REPORTED_SATISFACTION_sat',\n",
       " 'REPORTED_SATISFACTION_unsat',\n",
       " 'REPORTED_SATISFACTION_very_sat',\n",
       " 'REPORTED_SATISFACTION_very_unsat',\n",
       " 'REPORTED_USAGE_LEVEL_high',\n",
       " 'REPORTED_USAGE_LEVEL_little',\n",
       " 'REPORTED_USAGE_LEVEL_very_high',\n",
       " 'REPORTED_USAGE_LEVEL_very_little',\n",
       " 'CONSIDERING_CHANGE_OF_PLAN_considering',\n",
       " 'CONSIDERING_CHANGE_OF_PLAN_never_thought',\n",
       " 'CONSIDERING_CHANGE_OF_PLAN_no',\n",
       " 'CONSIDERING_CHANGE_OF_PLAN_perhaps']"
      ]
     },
     "execution_count": 11,
     "metadata": {},
     "output_type": "execute_result"
    }
   ],
   "source": [
    "list(x_train)\n",
    "# 원래 변수는 이렇게 많음."
   ]
  },
  {
   "cell_type": "code",
   "execution_count": 12,
   "metadata": {
    "scrolled": true
   },
   "outputs": [
    {
     "data": {
      "text/html": [
       "<div>\n",
       "<style scoped>\n",
       "    .dataframe tbody tr th:only-of-type {\n",
       "        vertical-align: middle;\n",
       "    }\n",
       "\n",
       "    .dataframe tbody tr th {\n",
       "        vertical-align: top;\n",
       "    }\n",
       "\n",
       "    .dataframe thead th {\n",
       "        text-align: right;\n",
       "    }\n",
       "</style>\n",
       "<table border=\"1\" class=\"dataframe\">\n",
       "  <thead>\n",
       "    <tr style=\"text-align: right;\">\n",
       "      <th></th>\n",
       "      <th>step</th>\n",
       "      <th>feature</th>\n",
       "      <th>aic</th>\n",
       "    </tr>\n",
       "  </thead>\n",
       "  <tbody>\n",
       "    <tr>\n",
       "      <th>0</th>\n",
       "      <td>1.0</td>\n",
       "      <td>[OVERAGE]</td>\n",
       "      <td>4786.699456</td>\n",
       "    </tr>\n",
       "    <tr>\n",
       "      <th>1</th>\n",
       "      <td>1.0</td>\n",
       "      <td>[HOUSE]</td>\n",
       "      <td>4796.363859</td>\n",
       "    </tr>\n",
       "    <tr>\n",
       "      <th>2</th>\n",
       "      <td>1.0</td>\n",
       "      <td>[OVER_15MINS_CALLS_PER_MONTH]</td>\n",
       "      <td>4810.294604</td>\n",
       "    </tr>\n",
       "    <tr>\n",
       "      <th>3</th>\n",
       "      <td>1.0</td>\n",
       "      <td>[REPORTED_SATISFACTION_very_sat]</td>\n",
       "      <td>4845.064834</td>\n",
       "    </tr>\n",
       "    <tr>\n",
       "      <th>4</th>\n",
       "      <td>1.0</td>\n",
       "      <td>[AVERAGE_CALL_DURATION]</td>\n",
       "      <td>4849.951663</td>\n",
       "    </tr>\n",
       "    <tr>\n",
       "      <th>...</th>\n",
       "      <td>...</td>\n",
       "      <td>...</td>\n",
       "      <td>...</td>\n",
       "    </tr>\n",
       "    <tr>\n",
       "      <th>114</th>\n",
       "      <td>7.0</td>\n",
       "      <td>[OVERAGE, HOUSE, HANDSET_PRICE, LEFTOVER, REPO...</td>\n",
       "      <td>4442.309949</td>\n",
       "    </tr>\n",
       "    <tr>\n",
       "      <th>115</th>\n",
       "      <td>7.0</td>\n",
       "      <td>[OVERAGE, HOUSE, HANDSET_PRICE, LEFTOVER, REPO...</td>\n",
       "      <td>4442.315315</td>\n",
       "    </tr>\n",
       "    <tr>\n",
       "      <th>116</th>\n",
       "      <td>7.0</td>\n",
       "      <td>[OVERAGE, HOUSE, HANDSET_PRICE, LEFTOVER, REPO...</td>\n",
       "      <td>4442.316816</td>\n",
       "    </tr>\n",
       "    <tr>\n",
       "      <th>117</th>\n",
       "      <td>7.0</td>\n",
       "      <td>[OVERAGE, HOUSE, HANDSET_PRICE, LEFTOVER, REPO...</td>\n",
       "      <td>4442.448187</td>\n",
       "    </tr>\n",
       "    <tr>\n",
       "      <th>118</th>\n",
       "      <td>7.0</td>\n",
       "      <td>[OVERAGE, HOUSE, HANDSET_PRICE, LEFTOVER, REPO...</td>\n",
       "      <td>4442.451017</td>\n",
       "    </tr>\n",
       "  </tbody>\n",
       "</table>\n",
       "<p>119 rows × 3 columns</p>\n",
       "</div>"
      ],
      "text/plain": [
       "     step                                            feature          aic\n",
       "0     1.0                                          [OVERAGE]  4786.699456\n",
       "1     1.0                                            [HOUSE]  4796.363859\n",
       "2     1.0                      [OVER_15MINS_CALLS_PER_MONTH]  4810.294604\n",
       "3     1.0                   [REPORTED_SATISFACTION_very_sat]  4845.064834\n",
       "4     1.0                            [AVERAGE_CALL_DURATION]  4849.951663\n",
       "..    ...                                                ...          ...\n",
       "114   7.0  [OVERAGE, HOUSE, HANDSET_PRICE, LEFTOVER, REPO...  4442.309949\n",
       "115   7.0  [OVERAGE, HOUSE, HANDSET_PRICE, LEFTOVER, REPO...  4442.315315\n",
       "116   7.0  [OVERAGE, HOUSE, HANDSET_PRICE, LEFTOVER, REPO...  4442.316816\n",
       "117   7.0  [OVERAGE, HOUSE, HANDSET_PRICE, LEFTOVER, REPO...  4442.448187\n",
       "118   7.0  [OVERAGE, HOUSE, HANDSET_PRICE, LEFTOVER, REPO...  4442.451017\n",
       "\n",
       "[119 rows x 3 columns]"
      ]
     },
     "execution_count": 12,
     "metadata": {},
     "output_type": "execute_result"
    }
   ],
   "source": [
    "result"
   ]
  },
  {
   "cell_type": "code",
   "execution_count": 13,
   "metadata": {
    "id": "cOmUN6lwcgPS"
   },
   "outputs": [],
   "source": [
    "pd.set_option('display.width', None)\n",
    "pd.set_option('display.max_colwidth', -1)"
   ]
  },
  {
   "cell_type": "markdown",
   "metadata": {
    "id": "F4Z39MGUaZtQ"
   },
   "source": [
    "### (3) 모델링"
   ]
  },
  {
   "cell_type": "markdown",
   "metadata": {
    "id": "mB26yCqEabkL"
   },
   "source": [
    "* 전체 변수 "
   ]
  },
  {
   "cell_type": "code",
   "execution_count": 14,
   "metadata": {
    "id": "zqk4Me37aesP"
   },
   "outputs": [
    {
     "name": "stdout",
     "output_type": "stream",
     "text": [
      "0.6333333333333333\n",
      "              precision    recall  f1-score   support\n",
      "\n",
      "           0       0.62      0.68      0.65       738\n",
      "           1       0.65      0.59      0.62       762\n",
      "\n",
      "    accuracy                           0.63      1500\n",
      "   macro avg       0.63      0.63      0.63      1500\n",
      "weighted avg       0.64      0.63      0.63      1500\n",
      "\n"
     ]
    }
   ],
   "source": [
    "m1 = LogisticRegression()\n",
    "m1.fit(x_train, y_train)\n",
    "p1 = m1.predict(x_val)\n",
    "\n",
    "print(accuracy_score(y_val, p1))\n",
    "print(classification_report(y_val, p1))"
   ]
  },
  {
   "cell_type": "markdown",
   "metadata": {
    "id": "m_1EE72zatBw"
   },
   "source": [
    "* 전진선택법 변수"
   ]
  },
  {
   "cell_type": "code",
   "execution_count": 15,
   "metadata": {
    "id": "0rKoLRi1atBx"
   },
   "outputs": [
    {
     "name": "stdout",
     "output_type": "stream",
     "text": [
      "0.634\n",
      "              precision    recall  f1-score   support\n",
      "\n",
      "           0       0.62      0.68      0.65       738\n",
      "           1       0.66      0.59      0.62       762\n",
      "\n",
      "    accuracy                           0.63      1500\n",
      "   macro avg       0.64      0.63      0.63      1500\n",
      "weighted avg       0.64      0.63      0.63      1500\n",
      "\n"
     ]
    }
   ],
   "source": [
    "m2 = LogisticRegression()\n",
    "m2.fit(x_train[vars], y_train)\n",
    "p2 = m2.predict(x_val[vars])\n",
    "\n",
    "print(accuracy_score(y_val, p2))\n",
    "print(classification_report(y_val, p2))"
   ]
  },
  {
   "cell_type": "markdown",
   "metadata": {
    "id": "fFre1mi8dhcK"
   },
   "source": [
    "## 4.하이퍼파라미터 튜닝"
   ]
  },
  {
   "cell_type": "markdown",
   "metadata": {
    "id": "lqqbcYcleEa7"
   },
   "source": [
    "### (1) 필요한 함수 불러오기 "
   ]
  },
  {
   "cell_type": "code",
   "execution_count": 16,
   "metadata": {
    "id": "b4VHDaqBeGa7"
   },
   "outputs": [],
   "source": [
    "from sklearn.model_selection import RandomizedSearchCV, GridSearchCV"
   ]
  },
  {
   "cell_type": "markdown",
   "metadata": {
    "id": "4QhAEJoKeUph"
   },
   "source": [
    "### (2) Random Search\n",
    "\n",
    "① 값의 범위를 지정한다.  \n",
    "② 모델 선언(시도 횟수 지정)  \n",
    "③ 모델링(값의 범위 내에서 시도 횟수만큼 랜덤하게 선택해서 시도한다.)  \n",
    "④ 가장 성능이 좋은 값을 선정\n"
   ]
  },
  {
   "cell_type": "markdown",
   "metadata": {
    "id": "0QV5WwTsefwR"
   },
   "source": [
    "#### ① 값의 범위를 지정한다."
   ]
  },
  {
   "cell_type": "code",
   "execution_count": 17,
   "metadata": {
    "id": "uw_0xzoRqSWa"
   },
   "outputs": [
    {
     "data": {
      "text/plain": [
       "{'n_neighbors': range(1, 51), 'metric': ['euclidean', 'manhattan']}"
      ]
     },
     "execution_count": 17,
     "metadata": {},
     "output_type": "execute_result"
    }
   ],
   "source": [
    "# dictionary형태로 선언\n",
    "params = { 'n_neighbors' : range(1,51), 'metric' : ['euclidean', 'manhattan']  }\n",
    "params"
   ]
  },
  {
   "cell_type": "markdown",
   "metadata": {
    "id": "smGb7riKe7Fj"
   },
   "source": [
    "#### ② 모델 선언"
   ]
  },
  {
   "cell_type": "code",
   "execution_count": 18,
   "metadata": {
    "id": "aycGcFmIq2aq"
   },
   "outputs": [],
   "source": [
    "# 기본모델\n",
    "model = KNeighborsClassifier()\n",
    "\n",
    "# Random Search 설정.\n",
    "model_rs = RandomizedSearchCV(model\n",
    "                            , params              # hyperparameter 범위 지정.\n",
    "                            , cv=5                    # k-fold Cross Validation\n",
    "                            , n_iter=5                # Random하게 시도할 횟수\n",
    "                            )"
   ]
  },
  {
   "cell_type": "markdown",
   "metadata": {
    "id": "o7YpDODPfW-Y"
   },
   "source": [
    "#### ③ 모델링"
   ]
  },
  {
   "cell_type": "code",
   "execution_count": 19,
   "metadata": {
    "id": "LzX7OxZnoatr"
   },
   "outputs": [
    {
     "data": {
      "text/plain": [
       "RandomizedSearchCV(cv=5, estimator=KNeighborsClassifier(), n_iter=5,\n",
       "                   param_distributions={'metric': ['euclidean', 'manhattan'],\n",
       "                                        'n_neighbors': range(1, 51)})"
      ]
     },
     "execution_count": 19,
     "metadata": {},
     "output_type": "execute_result"
    }
   ],
   "source": [
    "# 학습 : model이 아니라 model_rs\n",
    "model_rs.fit(x_train_s, y_train)"
   ]
  },
  {
   "cell_type": "code",
   "execution_count": 20,
   "metadata": {
    "id": "DkUVXP_Loatt"
   },
   "outputs": [
    {
     "data": {
      "text/plain": [
       "{'mean_fit_time': array([0.00138106, 0.00189905, 0.00298867, 0.00180182, 0.00172544]),\n",
       " 'std_fit_time': array([0.00050243, 0.00058234, 0.00108816, 0.0007399 , 0.00074265]),\n",
       " 'mean_score_time': array([0.09201694, 0.107972  , 0.10778399, 0.09021649, 0.11508393]),\n",
       " 'std_score_time': array([0.00444361, 0.00868424, 0.00484474, 0.0051229 , 0.01292402]),\n",
       " 'param_n_neighbors': masked_array(data=[26, 45, 25, 2, 6],\n",
       "              mask=[False, False, False, False, False],\n",
       "        fill_value='?',\n",
       "             dtype=object),\n",
       " 'param_metric': masked_array(data=['euclidean', 'euclidean', 'euclidean', 'euclidean',\n",
       "                    'manhattan'],\n",
       "              mask=[False, False, False, False, False],\n",
       "        fill_value='?',\n",
       "             dtype=object),\n",
       " 'params': [{'n_neighbors': 26, 'metric': 'euclidean'},\n",
       "  {'n_neighbors': 45, 'metric': 'euclidean'},\n",
       "  {'n_neighbors': 25, 'metric': 'euclidean'},\n",
       "  {'n_neighbors': 2, 'metric': 'euclidean'},\n",
       "  {'n_neighbors': 6, 'metric': 'manhattan'}],\n",
       " 'split0_test_score': array([0.59714286, 0.61428571, 0.58857143, 0.55285714, 0.58428571]),\n",
       " 'split1_test_score': array([0.6       , 0.58428571, 0.60571429, 0.56857143, 0.56714286]),\n",
       " 'split2_test_score': array([0.57428571, 0.61142857, 0.58142857, 0.54857143, 0.57285714]),\n",
       " 'split3_test_score': array([0.58142857, 0.56857143, 0.57571429, 0.59285714, 0.58142857]),\n",
       " 'split4_test_score': array([0.58      , 0.57142857, 0.57142857, 0.56      , 0.58714286]),\n",
       " 'mean_test_score': array([0.58657143, 0.59      , 0.58457143, 0.56457143, 0.57857143]),\n",
       " 'std_test_score': array([0.01012574, 0.01942017, 0.01203397, 0.01568569, 0.00745052]),\n",
       " 'rank_test_score': array([2, 1, 3, 5, 4])}"
      ]
     },
     "execution_count": 20,
     "metadata": {},
     "output_type": "execute_result"
    }
   ],
   "source": [
    "# 튜닝 결과\n",
    "model_rs.cv_results_\n",
    "\n",
    "#params하고 mean_test_score보자."
   ]
  },
  {
   "cell_type": "code",
   "execution_count": 21,
   "metadata": {
    "id": "ygL2UHJE4inW"
   },
   "outputs": [
    {
     "data": {
      "text/plain": [
       "[{'n_neighbors': 26, 'metric': 'euclidean'},\n",
       " {'n_neighbors': 45, 'metric': 'euclidean'},\n",
       " {'n_neighbors': 25, 'metric': 'euclidean'},\n",
       " {'n_neighbors': 2, 'metric': 'euclidean'},\n",
       " {'n_neighbors': 6, 'metric': 'manhattan'}]"
      ]
     },
     "execution_count": 21,
     "metadata": {},
     "output_type": "execute_result"
    }
   ],
   "source": [
    "model_rs.cv_results_['params']"
   ]
  },
  {
   "cell_type": "code",
   "execution_count": 22,
   "metadata": {
    "id": "Ev8QMOLM4qM3"
   },
   "outputs": [
    {
     "data": {
      "text/plain": [
       "array([0.58657143, 0.59      , 0.58457143, 0.56457143, 0.57857143])"
      ]
     },
     "execution_count": 22,
     "metadata": {},
     "output_type": "execute_result"
    }
   ],
   "source": [
    "model_rs.cv_results_['mean_test_score']"
   ]
  },
  {
   "cell_type": "code",
   "execution_count": 23,
   "metadata": {
    "id": "WibiA2j9sRo_"
   },
   "outputs": [
    {
     "data": {
      "text/plain": [
       "{'n_neighbors': 45, 'metric': 'euclidean'}"
      ]
     },
     "execution_count": 23,
     "metadata": {},
     "output_type": "execute_result"
    }
   ],
   "source": [
    "# 최적의 파라미터\n",
    "model_rs.best_params_"
   ]
  },
  {
   "cell_type": "code",
   "execution_count": 24,
   "metadata": {
    "id": "tPwtq5L3vUmo"
   },
   "outputs": [
    {
     "data": {
      "text/plain": [
       "0.5900000000000001"
      ]
     },
     "execution_count": 24,
     "metadata": {},
     "output_type": "execute_result"
    }
   ],
   "source": [
    "# 그때의 성능\n",
    "model_rs.best_score_"
   ]
  },
  {
   "cell_type": "code",
   "execution_count": 25,
   "metadata": {
    "id": "99n6iBAGoatw"
   },
   "outputs": [
    {
     "name": "stdout",
     "output_type": "stream",
     "text": [
      "              precision    recall  f1-score   support\n",
      "\n",
      "           0       0.58      0.70      0.63       738\n",
      "           1       0.63      0.50      0.56       762\n",
      "\n",
      "    accuracy                           0.60      1500\n",
      "   macro avg       0.60      0.60      0.60      1500\n",
      "weighted avg       0.60      0.60      0.60      1500\n",
      "\n"
     ]
    }
   ],
   "source": [
    "# best 모델로 예측 및 평가\n",
    "pred = model_rs.predict(x_val_s) #랜덤서치로 튜닝시도한 모델, .predict => 뭘로 시도하지? 가장 좋은걸로 지가 알아서 시도해줌.\n",
    "print(classification_report(y_val, pred))"
   ]
  },
  {
   "cell_type": "markdown",
   "metadata": {
    "id": "1WRLq_4tf-ve"
   },
   "source": [
    "### (3) 실습 : Random Search\n",
    "\n",
    "* decision tree로 튜닝을 시도해 봅시다.\n",
    "    * max_depth : 1~10\n",
    "    * min_samples_leaf : 10 ~ 100"
   ]
  },
  {
   "cell_type": "markdown",
   "metadata": {
    "id": "-lJcU4Xlf-ve"
   },
   "source": [
    "#### ① 값의 범위를 지정한다."
   ]
  },
  {
   "cell_type": "code",
   "execution_count": 26,
   "metadata": {
    "id": "5vbadH6Cf-ve"
   },
   "outputs": [
    {
     "data": {
      "text/plain": [
       "{'max_depth': range(1, 11), 'min_samples_leaf': range(10, 101)}"
      ]
     },
     "execution_count": 26,
     "metadata": {},
     "output_type": "execute_result"
    }
   ],
   "source": [
    "params = {'max_depth':range(1, 11), 'min_samples_leaf':range(10, 101)}\n",
    "params"
   ]
  },
  {
   "cell_type": "markdown",
   "metadata": {
    "id": "VlSVAR-7f-vf"
   },
   "source": [
    "#### ② 모델 선언"
   ]
  },
  {
   "cell_type": "code",
   "execution_count": 27,
   "metadata": {
    "id": "i0S0er2Af-vf"
   },
   "outputs": [],
   "source": [
    "model = DecisionTreeClassifier()\n",
    "model_rs2 = RandomizedSearchCV(model, params, cv=5, n_iter=5)"
   ]
  },
  {
   "cell_type": "markdown",
   "metadata": {
    "id": "1oTmve_lf-vf"
   },
   "source": [
    "#### ③ 모델링"
   ]
  },
  {
   "cell_type": "code",
   "execution_count": 28,
   "metadata": {
    "id": "O121oftOf-vf"
   },
   "outputs": [
    {
     "data": {
      "text/plain": [
       "RandomizedSearchCV(cv=5, estimator=DecisionTreeClassifier(), n_iter=5,\n",
       "                   param_distributions={'max_depth': range(1, 11),\n",
       "                                        'min_samples_leaf': range(10, 101)})"
      ]
     },
     "execution_count": 28,
     "metadata": {},
     "output_type": "execute_result"
    }
   ],
   "source": [
    "model_rs2.fit(x_train, y_train)"
   ]
  },
  {
   "cell_type": "code",
   "execution_count": 29,
   "metadata": {
    "id": "mzVCpqpCf-vf"
   },
   "outputs": [],
   "source": [
    "pred2 = model_rs2.predict(x_val)"
   ]
  },
  {
   "cell_type": "code",
   "execution_count": 30,
   "metadata": {
    "id": "CkkdSVR6f-vf"
   },
   "outputs": [
    {
     "name": "stdout",
     "output_type": "stream",
     "text": [
      "              precision    recall  f1-score   support\n",
      "\n",
      "           0       0.69      0.68      0.68       738\n",
      "           1       0.69      0.70      0.69       762\n",
      "\n",
      "    accuracy                           0.69      1500\n",
      "   macro avg       0.69      0.69      0.69      1500\n",
      "weighted avg       0.69      0.69      0.69      1500\n",
      "\n"
     ]
    }
   ],
   "source": [
    "print(classification_report(y_val, pred2))"
   ]
  },
  {
   "cell_type": "code",
   "execution_count": null,
   "metadata": {
    "id": "IgR9dSA_d6f6"
   },
   "outputs": [],
   "source": []
  },
  {
   "cell_type": "markdown",
   "metadata": {
    "id": "wzN7zbnJhmAt"
   },
   "source": [
    "### (4) Grid Search\n",
    "\n",
    "① 값의 범위를 지정한다.  \n",
    "② 모델링(값의 범위 내에서 모든 조합을 다 시도한다.)  \n",
    "③ 가장 성능이 좋은 값을 선정\n"
   ]
  },
  {
   "cell_type": "markdown",
   "metadata": {
    "id": "E7AOo0wxhmA0"
   },
   "source": [
    "#### ① 값의 범위를 지정한다."
   ]
  },
  {
   "cell_type": "code",
   "execution_count": 31,
   "metadata": {
    "id": "CkVVoyWFhmA0"
   },
   "outputs": [
    {
     "data": {
      "text/plain": [
       "{'n_neighbors': range(3, 31, 2), 'metric': ['euclidean', 'manhattan']}"
      ]
     },
     "execution_count": 31,
     "metadata": {},
     "output_type": "execute_result"
    }
   ],
   "source": [
    "# dictionary형태로 선언\n",
    "params = { 'n_neighbors' : range(3,31,2), 'metric' : ['euclidean', 'manhattan']  }\n",
    "params\n",
    "# 정수 순차 증가 : range\n",
    "# 소수 순차 증가 : numpy의 linearspace"
   ]
  },
  {
   "cell_type": "markdown",
   "metadata": {
    "id": "qA_g34P3hmA1"
   },
   "source": [
    "#### ② 모델 선언"
   ]
  },
  {
   "cell_type": "code",
   "execution_count": 32,
   "metadata": {
    "id": "A0Zceq-LhmA1"
   },
   "outputs": [],
   "source": [
    "# 기본모델\n",
    "model = KNeighborsClassifier()\n",
    "\n",
    "# Random Search 설정.\n",
    "model_gs = GridSearchCV(model, params, cv=5)"
   ]
  },
  {
   "cell_type": "markdown",
   "metadata": {
    "id": "lu2BRGzQhmA1"
   },
   "source": [
    "#### ③ 모델링"
   ]
  },
  {
   "cell_type": "code",
   "execution_count": 33,
   "metadata": {
    "id": "XtI3d8uZhmA1"
   },
   "outputs": [
    {
     "data": {
      "text/plain": [
       "GridSearchCV(cv=5, estimator=KNeighborsClassifier(),\n",
       "             param_grid={'metric': ['euclidean', 'manhattan'],\n",
       "                         'n_neighbors': range(3, 31, 2)})"
      ]
     },
     "execution_count": 33,
     "metadata": {},
     "output_type": "execute_result"
    }
   ],
   "source": [
    "# 학습 : model이 아니라 model_gs\n",
    "model_gs.fit(x_train_s, y_train)"
   ]
  },
  {
   "cell_type": "code",
   "execution_count": 34,
   "metadata": {
    "id": "RnrtbCidhmA1"
   },
   "outputs": [
    {
     "data": {
      "text/plain": [
       "{'mean_fit_time': array([0.00350904, 0.00181975, 0.00173383, 0.00149984, 0.00215364,\n",
       "        0.00179567, 0.0015326 , 0.0015933 , 0.00171347, 0.00170259,\n",
       "        0.00155649, 0.00158939, 0.00240107, 0.00293903, 0.00163531,\n",
       "        0.00172234, 0.00148883, 0.00180912, 0.00198264, 0.00127578,\n",
       "        0.0019268 , 0.00159225, 0.00185447, 0.0016571 , 0.00176024,\n",
       "        0.0019453 , 0.00153208, 0.00157638]),\n",
       " 'std_fit_time': array([0.00398777, 0.00041509, 0.00073345, 0.00045183, 0.0004234 ,\n",
       "        0.00074677, 0.00040074, 0.00048973, 0.00063682, 0.00040476,\n",
       "        0.00050213, 0.00081784, 0.0018109 , 0.00202323, 0.00051643,\n",
       "        0.00075696, 0.00051397, 0.00021116, 0.00062534, 0.00029913,\n",
       "        0.00052717, 0.00049281, 0.00046179, 0.00035313, 0.00039178,\n",
       "        0.00062229, 0.00045114, 0.00047777]),\n",
       " 'mean_score_time': array([0.13120441, 0.09027948, 0.08511977, 0.08263245, 0.09669704,\n",
       "        0.09404168, 0.09652243, 0.09237299, 0.10776124, 0.09260616,\n",
       "        0.09745083, 0.10592351, 0.11070371, 0.11085057, 0.11766386,\n",
       "        0.12001271, 0.10264072, 0.1141479 , 0.12917361, 0.11690626,\n",
       "        0.10665145, 0.1614078 , 0.11987028, 0.1137259 , 0.12000251,\n",
       "        0.12860551, 0.11150441, 0.12450571]),\n",
       " 'std_score_time': array([0.03045573, 0.00934509, 0.00695328, 0.00482241, 0.0055079 ,\n",
       "        0.01042109, 0.00553676, 0.00420266, 0.01002489, 0.00465765,\n",
       "        0.01061174, 0.01570098, 0.01132519, 0.00477009, 0.00979556,\n",
       "        0.00988212, 0.00243564, 0.01077305, 0.01956802, 0.01703242,\n",
       "        0.00448998, 0.02145177, 0.01063296, 0.00483076, 0.01352536,\n",
       "        0.01386259, 0.0110862 , 0.01405995]),\n",
       " 'param_metric': masked_array(data=['euclidean', 'euclidean', 'euclidean', 'euclidean',\n",
       "                    'euclidean', 'euclidean', 'euclidean', 'euclidean',\n",
       "                    'euclidean', 'euclidean', 'euclidean', 'euclidean',\n",
       "                    'euclidean', 'euclidean', 'manhattan', 'manhattan',\n",
       "                    'manhattan', 'manhattan', 'manhattan', 'manhattan',\n",
       "                    'manhattan', 'manhattan', 'manhattan', 'manhattan',\n",
       "                    'manhattan', 'manhattan', 'manhattan', 'manhattan'],\n",
       "              mask=[False, False, False, False, False, False, False, False,\n",
       "                    False, False, False, False, False, False, False, False,\n",
       "                    False, False, False, False, False, False, False, False,\n",
       "                    False, False, False, False],\n",
       "        fill_value='?',\n",
       "             dtype=object),\n",
       " 'param_n_neighbors': masked_array(data=[3, 5, 7, 9, 11, 13, 15, 17, 19, 21, 23, 25, 27, 29, 3,\n",
       "                    5, 7, 9, 11, 13, 15, 17, 19, 21, 23, 25, 27, 29],\n",
       "              mask=[False, False, False, False, False, False, False, False,\n",
       "                    False, False, False, False, False, False, False, False,\n",
       "                    False, False, False, False, False, False, False, False,\n",
       "                    False, False, False, False],\n",
       "        fill_value='?',\n",
       "             dtype=object),\n",
       " 'params': [{'metric': 'euclidean', 'n_neighbors': 3},\n",
       "  {'metric': 'euclidean', 'n_neighbors': 5},\n",
       "  {'metric': 'euclidean', 'n_neighbors': 7},\n",
       "  {'metric': 'euclidean', 'n_neighbors': 9},\n",
       "  {'metric': 'euclidean', 'n_neighbors': 11},\n",
       "  {'metric': 'euclidean', 'n_neighbors': 13},\n",
       "  {'metric': 'euclidean', 'n_neighbors': 15},\n",
       "  {'metric': 'euclidean', 'n_neighbors': 17},\n",
       "  {'metric': 'euclidean', 'n_neighbors': 19},\n",
       "  {'metric': 'euclidean', 'n_neighbors': 21},\n",
       "  {'metric': 'euclidean', 'n_neighbors': 23},\n",
       "  {'metric': 'euclidean', 'n_neighbors': 25},\n",
       "  {'metric': 'euclidean', 'n_neighbors': 27},\n",
       "  {'metric': 'euclidean', 'n_neighbors': 29},\n",
       "  {'metric': 'manhattan', 'n_neighbors': 3},\n",
       "  {'metric': 'manhattan', 'n_neighbors': 5},\n",
       "  {'metric': 'manhattan', 'n_neighbors': 7},\n",
       "  {'metric': 'manhattan', 'n_neighbors': 9},\n",
       "  {'metric': 'manhattan', 'n_neighbors': 11},\n",
       "  {'metric': 'manhattan', 'n_neighbors': 13},\n",
       "  {'metric': 'manhattan', 'n_neighbors': 15},\n",
       "  {'metric': 'manhattan', 'n_neighbors': 17},\n",
       "  {'metric': 'manhattan', 'n_neighbors': 19},\n",
       "  {'metric': 'manhattan', 'n_neighbors': 21},\n",
       "  {'metric': 'manhattan', 'n_neighbors': 23},\n",
       "  {'metric': 'manhattan', 'n_neighbors': 25},\n",
       "  {'metric': 'manhattan', 'n_neighbors': 27},\n",
       "  {'metric': 'manhattan', 'n_neighbors': 29}],\n",
       " 'split0_test_score': array([0.58285714, 0.57857143, 0.58142857, 0.58285714, 0.57142857,\n",
       "        0.57857143, 0.57428571, 0.59      , 0.59142857, 0.59      ,\n",
       "        0.59857143, 0.58857143, 0.59142857, 0.58285714, 0.57714286,\n",
       "        0.60428571, 0.58285714, 0.59571429, 0.60428571, 0.61285714,\n",
       "        0.60571429, 0.60857143, 0.60571429, 0.61571429, 0.62714286,\n",
       "        0.63285714, 0.63      , 0.62857143]),\n",
       " 'split1_test_score': array([0.57714286, 0.59857143, 0.57857143, 0.57714286, 0.57857143,\n",
       "        0.58714286, 0.59428571, 0.59285714, 0.6       , 0.59142857,\n",
       "        0.60142857, 0.60571429, 0.58571429, 0.58571429, 0.58142857,\n",
       "        0.59285714, 0.59714286, 0.59714286, 0.60428571, 0.58857143,\n",
       "        0.59857143, 0.60428571, 0.61      , 0.62285714, 0.61428571,\n",
       "        0.62      , 0.61571429, 0.62142857]),\n",
       " 'split2_test_score': array([0.55428571, 0.56857143, 0.56857143, 0.55714286, 0.54428571,\n",
       "        0.56285714, 0.57714286, 0.56714286, 0.56857143, 0.57857143,\n",
       "        0.59      , 0.58142857, 0.58428571, 0.59142857, 0.54857143,\n",
       "        0.57714286, 0.58      , 0.57428571, 0.59714286, 0.59      ,\n",
       "        0.59428571, 0.60571429, 0.60714286, 0.62      , 0.61571429,\n",
       "        0.61285714, 0.62857143, 0.63142857]),\n",
       " 'split3_test_score': array([0.6       , 0.57857143, 0.58      , 0.57857143, 0.58142857,\n",
       "        0.58285714, 0.59285714, 0.6       , 0.57857143, 0.57857143,\n",
       "        0.57714286, 0.57571429, 0.56857143, 0.56857143, 0.59      ,\n",
       "        0.58285714, 0.61      , 0.61142857, 0.60857143, 0.60571429,\n",
       "        0.60571429, 0.59428571, 0.59428571, 0.60857143, 0.61285714,\n",
       "        0.60714286, 0.61571429, 0.61428571]),\n",
       " 'split4_test_score': array([0.58      , 0.57285714, 0.57714286, 0.57142857, 0.56428571,\n",
       "        0.56142857, 0.56571429, 0.56285714, 0.55714286, 0.56428571,\n",
       "        0.56285714, 0.57142857, 0.56857143, 0.57285714, 0.56857143,\n",
       "        0.6       , 0.58857143, 0.57857143, 0.57714286, 0.59142857,\n",
       "        0.59285714, 0.59428571, 0.59142857, 0.58571429, 0.58      ,\n",
       "        0.58428571, 0.60285714, 0.59428571]),\n",
       " 'mean_test_score': array([0.57885714, 0.57942857, 0.57714286, 0.57342857, 0.568     ,\n",
       "        0.57457143, 0.58085714, 0.58257143, 0.57914286, 0.58057143,\n",
       "        0.586     , 0.58457143, 0.57971429, 0.58028571, 0.57314286,\n",
       "        0.59142857, 0.59171429, 0.59142857, 0.59828571, 0.59771429,\n",
       "        0.59942857, 0.60142857, 0.60171429, 0.61057143, 0.61      ,\n",
       "        0.61142857, 0.61857143, 0.618     ]),\n",
       " 'std_test_score': array([0.01463571, 0.01028571, 0.00451754, 0.008926  , 0.0132665 ,\n",
       "        0.01051335, 0.0110509 , 0.0147745 , 0.01537557, 0.00979796,\n",
       "        0.01432566, 0.01203397, 0.0094069 , 0.00839825, 0.01409588,\n",
       "        0.01018202, 0.01085714, 0.01349225, 0.01119037, 0.00975621,\n",
       "        0.00546604, 0.00599319, 0.00741757, 0.01332789, 0.01583074,\n",
       "        0.01606111, 0.00993859, 0.0132665 ]),\n",
       " 'rank_test_score': array([23, 21, 24, 26, 28, 25, 17, 16, 22, 18, 14, 15, 20, 19, 27, 13, 11,\n",
       "        12,  9, 10,  8,  7,  6,  4,  5,  3,  1,  2])}"
      ]
     },
     "execution_count": 34,
     "metadata": {},
     "output_type": "execute_result"
    }
   ],
   "source": [
    "# 튜닝 결과\n",
    "model_gs.cv_results_"
   ]
  },
  {
   "cell_type": "code",
   "execution_count": 35,
   "metadata": {
    "id": "B7KakeYkhmA1"
   },
   "outputs": [
    {
     "data": {
      "text/plain": [
       "[{'metric': 'euclidean', 'n_neighbors': 3},\n",
       " {'metric': 'euclidean', 'n_neighbors': 5},\n",
       " {'metric': 'euclidean', 'n_neighbors': 7},\n",
       " {'metric': 'euclidean', 'n_neighbors': 9},\n",
       " {'metric': 'euclidean', 'n_neighbors': 11},\n",
       " {'metric': 'euclidean', 'n_neighbors': 13},\n",
       " {'metric': 'euclidean', 'n_neighbors': 15},\n",
       " {'metric': 'euclidean', 'n_neighbors': 17},\n",
       " {'metric': 'euclidean', 'n_neighbors': 19},\n",
       " {'metric': 'euclidean', 'n_neighbors': 21},\n",
       " {'metric': 'euclidean', 'n_neighbors': 23},\n",
       " {'metric': 'euclidean', 'n_neighbors': 25},\n",
       " {'metric': 'euclidean', 'n_neighbors': 27},\n",
       " {'metric': 'euclidean', 'n_neighbors': 29},\n",
       " {'metric': 'manhattan', 'n_neighbors': 3},\n",
       " {'metric': 'manhattan', 'n_neighbors': 5},\n",
       " {'metric': 'manhattan', 'n_neighbors': 7},\n",
       " {'metric': 'manhattan', 'n_neighbors': 9},\n",
       " {'metric': 'manhattan', 'n_neighbors': 11},\n",
       " {'metric': 'manhattan', 'n_neighbors': 13},\n",
       " {'metric': 'manhattan', 'n_neighbors': 15},\n",
       " {'metric': 'manhattan', 'n_neighbors': 17},\n",
       " {'metric': 'manhattan', 'n_neighbors': 19},\n",
       " {'metric': 'manhattan', 'n_neighbors': 21},\n",
       " {'metric': 'manhattan', 'n_neighbors': 23},\n",
       " {'metric': 'manhattan', 'n_neighbors': 25},\n",
       " {'metric': 'manhattan', 'n_neighbors': 27},\n",
       " {'metric': 'manhattan', 'n_neighbors': 29}]"
      ]
     },
     "execution_count": 35,
     "metadata": {},
     "output_type": "execute_result"
    }
   ],
   "source": [
    "model_gs.cv_results_['params']"
   ]
  },
  {
   "cell_type": "code",
   "execution_count": 36,
   "metadata": {
    "id": "bweqbwp4hmA2"
   },
   "outputs": [
    {
     "data": {
      "text/plain": [
       "array([0.57885714, 0.57942857, 0.57714286, 0.57342857, 0.568     ,\n",
       "       0.57457143, 0.58085714, 0.58257143, 0.57914286, 0.58057143,\n",
       "       0.586     , 0.58457143, 0.57971429, 0.58028571, 0.57314286,\n",
       "       0.59142857, 0.59171429, 0.59142857, 0.59828571, 0.59771429,\n",
       "       0.59942857, 0.60142857, 0.60171429, 0.61057143, 0.61      ,\n",
       "       0.61142857, 0.61857143, 0.618     ])"
      ]
     },
     "execution_count": 36,
     "metadata": {},
     "output_type": "execute_result"
    }
   ],
   "source": [
    "model_gs.cv_results_['mean_test_score'] "
   ]
  },
  {
   "cell_type": "code",
   "execution_count": 37,
   "metadata": {
    "id": "6m0F5W3IhmA2"
   },
   "outputs": [
    {
     "data": {
      "text/plain": [
       "{'metric': 'manhattan', 'n_neighbors': 27}"
      ]
     },
     "execution_count": 37,
     "metadata": {},
     "output_type": "execute_result"
    }
   ],
   "source": [
    "# 최적의 파라미터\n",
    "model_gs.best_params_"
   ]
  },
  {
   "cell_type": "code",
   "execution_count": 38,
   "metadata": {
    "id": "1aaAI6PshmA2"
   },
   "outputs": [
    {
     "data": {
      "text/plain": [
       "0.6185714285714285"
      ]
     },
     "execution_count": 38,
     "metadata": {},
     "output_type": "execute_result"
    }
   ],
   "source": [
    "# 그때의 성능\n",
    "model_gs.best_score_"
   ]
  },
  {
   "cell_type": "code",
   "execution_count": 39,
   "metadata": {
    "id": "aW3lOKgKhmA2"
   },
   "outputs": [
    {
     "name": "stdout",
     "output_type": "stream",
     "text": [
      "              precision    recall  f1-score   support\n",
      "\n",
      "           0       0.59      0.72      0.65       738\n",
      "           1       0.65      0.51      0.57       762\n",
      "\n",
      "    accuracy                           0.61      1500\n",
      "   macro avg       0.62      0.61      0.61      1500\n",
      "weighted avg       0.62      0.61      0.61      1500\n",
      "\n"
     ]
    }
   ],
   "source": [
    "# best 모델로 예측 및 평가\n",
    "pred = model_gs.predict(x_val_s)\n",
    "print(classification_report(y_val, pred))\n",
    "\n",
    "#accuracy : 정분류율"
   ]
  },
  {
   "cell_type": "markdown",
   "metadata": {
    "id": "DobFs64hhmA2"
   },
   "source": [
    "### (5) 실습 : Grid Search\n",
    "\n",
    "* decision tree로 튜닝을 시도해 봅시다.\n",
    "    * max_depth : 1~10\n",
    "    * min_samples_leaf : 10 ~ 100"
   ]
  },
  {
   "cell_type": "markdown",
   "metadata": {
    "id": "vHvcEIqJhmA3"
   },
   "source": [
    "#### ① 값의 범위를 지정한다."
   ]
  },
  {
   "cell_type": "code",
   "execution_count": 40,
   "metadata": {
    "id": "A0fCwubihmA5"
   },
   "outputs": [
    {
     "data": {
      "text/plain": [
       "{'max_depth': range(1, 11), 'min_samples_leaf': range(10, 101, 10)}"
      ]
     },
     "execution_count": 40,
     "metadata": {},
     "output_type": "execute_result"
    }
   ],
   "source": [
    "params = {'max_depth':range(1, 11), 'min_samples_leaf':range(10, 101, 10)}\n",
    "params"
   ]
  },
  {
   "cell_type": "markdown",
   "metadata": {
    "id": "tKoDEEbzhmA5"
   },
   "source": [
    "#### ② 모델 선언"
   ]
  },
  {
   "cell_type": "code",
   "execution_count": 51,
   "metadata": {
    "id": "26SqSRbLhmA5"
   },
   "outputs": [],
   "source": [
    "model = DecisionTreeClassifier()\n",
    "model_gs2 = GridSearchCV(model, params, cv=5, verbose=2)\n",
    "# verbose : 1보다 크면(2) 시간만 보여줌\n",
    "#2보다 크면 score\n",
    "#3보다 크면 시간+score"
   ]
  },
  {
   "cell_type": "markdown",
   "metadata": {
    "id": "YT-krLWkhmA5"
   },
   "source": [
    "#### ③ 모델링"
   ]
  },
  {
   "cell_type": "code",
   "execution_count": 52,
   "metadata": {
    "id": "Sciat7vk7k1-"
   },
   "outputs": [
    {
     "name": "stdout",
     "output_type": "stream",
     "text": [
      "Fitting 5 folds for each of 100 candidates, totalling 500 fits\n",
      "[CV] END ...................max_depth=1, min_samples_leaf=10; total time=   0.0s\n",
      "[CV] END ...................max_depth=1, min_samples_leaf=10; total time=   0.0s\n",
      "[CV] END ...................max_depth=1, min_samples_leaf=10; total time=   0.0s\n",
      "[CV] END ...................max_depth=1, min_samples_leaf=10; total time=   0.0s\n",
      "[CV] END ...................max_depth=1, min_samples_leaf=10; total time=   0.0s\n",
      "[CV] END ...................max_depth=1, min_samples_leaf=20; total time=   0.0s\n",
      "[CV] END ...................max_depth=1, min_samples_leaf=20; total time=   0.0s\n",
      "[CV] END ...................max_depth=1, min_samples_leaf=20; total time=   0.0s\n",
      "[CV] END ...................max_depth=1, min_samples_leaf=20; total time=   0.0s\n",
      "[CV] END ...................max_depth=1, min_samples_leaf=20; total time=   0.0s\n",
      "[CV] END ...................max_depth=1, min_samples_leaf=30; total time=   0.0s\n",
      "[CV] END ...................max_depth=1, min_samples_leaf=30; total time=   0.0s\n",
      "[CV] END ...................max_depth=1, min_samples_leaf=30; total time=   0.0s\n",
      "[CV] END ...................max_depth=1, min_samples_leaf=30; total time=   0.0s\n",
      "[CV] END ...................max_depth=1, min_samples_leaf=30; total time=   0.0s\n",
      "[CV] END ...................max_depth=1, min_samples_leaf=40; total time=   0.0s\n",
      "[CV] END ...................max_depth=1, min_samples_leaf=40; total time=   0.0s\n",
      "[CV] END ...................max_depth=1, min_samples_leaf=40; total time=   0.0s\n",
      "[CV] END ...................max_depth=1, min_samples_leaf=40; total time=   0.0s\n",
      "[CV] END ...................max_depth=1, min_samples_leaf=40; total time=   0.0s\n",
      "[CV] END ...................max_depth=1, min_samples_leaf=50; total time=   0.0s\n",
      "[CV] END ...................max_depth=1, min_samples_leaf=50; total time=   0.0s\n",
      "[CV] END ...................max_depth=1, min_samples_leaf=50; total time=   0.0s\n",
      "[CV] END ...................max_depth=1, min_samples_leaf=50; total time=   0.0s\n",
      "[CV] END ...................max_depth=1, min_samples_leaf=50; total time=   0.0s\n",
      "[CV] END ...................max_depth=1, min_samples_leaf=60; total time=   0.0s\n",
      "[CV] END ...................max_depth=1, min_samples_leaf=60; total time=   0.0s\n",
      "[CV] END ...................max_depth=1, min_samples_leaf=60; total time=   0.0s\n",
      "[CV] END ...................max_depth=1, min_samples_leaf=60; total time=   0.0s\n",
      "[CV] END ...................max_depth=1, min_samples_leaf=60; total time=   0.0s\n",
      "[CV] END ...................max_depth=1, min_samples_leaf=70; total time=   0.0s\n",
      "[CV] END ...................max_depth=1, min_samples_leaf=70; total time=   0.0s\n",
      "[CV] END ...................max_depth=1, min_samples_leaf=70; total time=   0.0s\n",
      "[CV] END ...................max_depth=1, min_samples_leaf=70; total time=   0.0s\n",
      "[CV] END ...................max_depth=1, min_samples_leaf=70; total time=   0.0s\n",
      "[CV] END ...................max_depth=1, min_samples_leaf=80; total time=   0.0s\n",
      "[CV] END ...................max_depth=1, min_samples_leaf=80; total time=   0.0s\n",
      "[CV] END ...................max_depth=1, min_samples_leaf=80; total time=   0.0s\n",
      "[CV] END ...................max_depth=1, min_samples_leaf=80; total time=   0.0s\n",
      "[CV] END ...................max_depth=1, min_samples_leaf=80; total time=   0.0s\n",
      "[CV] END ...................max_depth=1, min_samples_leaf=90; total time=   0.0s\n",
      "[CV] END ...................max_depth=1, min_samples_leaf=90; total time=   0.0s\n",
      "[CV] END ...................max_depth=1, min_samples_leaf=90; total time=   0.0s\n",
      "[CV] END ...................max_depth=1, min_samples_leaf=90; total time=   0.0s\n",
      "[CV] END ...................max_depth=1, min_samples_leaf=90; total time=   0.0s\n",
      "[CV] END ..................max_depth=1, min_samples_leaf=100; total time=   0.0s\n",
      "[CV] END ..................max_depth=1, min_samples_leaf=100; total time=   0.0s\n",
      "[CV] END ..................max_depth=1, min_samples_leaf=100; total time=   0.0s\n",
      "[CV] END ..................max_depth=1, min_samples_leaf=100; total time=   0.0s\n",
      "[CV] END ..................max_depth=1, min_samples_leaf=100; total time=   0.0s\n",
      "[CV] END ...................max_depth=2, min_samples_leaf=10; total time=   0.0s\n",
      "[CV] END ...................max_depth=2, min_samples_leaf=10; total time=   0.0s\n",
      "[CV] END ...................max_depth=2, min_samples_leaf=10; total time=   0.0s\n",
      "[CV] END ...................max_depth=2, min_samples_leaf=10; total time=   0.0s\n",
      "[CV] END ...................max_depth=2, min_samples_leaf=10; total time=   0.0s\n",
      "[CV] END ...................max_depth=2, min_samples_leaf=20; total time=   0.0s\n",
      "[CV] END ...................max_depth=2, min_samples_leaf=20; total time=   0.0s\n",
      "[CV] END ...................max_depth=2, min_samples_leaf=20; total time=   0.0s\n",
      "[CV] END ...................max_depth=2, min_samples_leaf=20; total time=   0.0s\n",
      "[CV] END ...................max_depth=2, min_samples_leaf=20; total time=   0.0s\n",
      "[CV] END ...................max_depth=2, min_samples_leaf=30; total time=   0.0s\n",
      "[CV] END ...................max_depth=2, min_samples_leaf=30; total time=   0.0s\n",
      "[CV] END ...................max_depth=2, min_samples_leaf=30; total time=   0.0s\n",
      "[CV] END ...................max_depth=2, min_samples_leaf=30; total time=   0.0s\n",
      "[CV] END ...................max_depth=2, min_samples_leaf=30; total time=   0.0s\n",
      "[CV] END ...................max_depth=2, min_samples_leaf=40; total time=   0.0s\n",
      "[CV] END ...................max_depth=2, min_samples_leaf=40; total time=   0.0s\n",
      "[CV] END ...................max_depth=2, min_samples_leaf=40; total time=   0.0s\n",
      "[CV] END ...................max_depth=2, min_samples_leaf=40; total time=   0.0s\n",
      "[CV] END ...................max_depth=2, min_samples_leaf=40; total time=   0.0s\n",
      "[CV] END ...................max_depth=2, min_samples_leaf=50; total time=   0.0s\n",
      "[CV] END ...................max_depth=2, min_samples_leaf=50; total time=   0.0s\n",
      "[CV] END ...................max_depth=2, min_samples_leaf=50; total time=   0.0s\n",
      "[CV] END ...................max_depth=2, min_samples_leaf=50; total time=   0.0s\n",
      "[CV] END ...................max_depth=2, min_samples_leaf=50; total time=   0.0s\n",
      "[CV] END ...................max_depth=2, min_samples_leaf=60; total time=   0.0s\n",
      "[CV] END ...................max_depth=2, min_samples_leaf=60; total time=   0.0s\n",
      "[CV] END ...................max_depth=2, min_samples_leaf=60; total time=   0.0s\n",
      "[CV] END ...................max_depth=2, min_samples_leaf=60; total time=   0.0s\n",
      "[CV] END ...................max_depth=2, min_samples_leaf=60; total time=   0.0s\n",
      "[CV] END ...................max_depth=2, min_samples_leaf=70; total time=   0.0s\n",
      "[CV] END ...................max_depth=2, min_samples_leaf=70; total time=   0.0s\n",
      "[CV] END ...................max_depth=2, min_samples_leaf=70; total time=   0.0s\n",
      "[CV] END ...................max_depth=2, min_samples_leaf=70; total time=   0.0s\n",
      "[CV] END ...................max_depth=2, min_samples_leaf=70; total time=   0.0s\n",
      "[CV] END ...................max_depth=2, min_samples_leaf=80; total time=   0.0s\n",
      "[CV] END ...................max_depth=2, min_samples_leaf=80; total time=   0.0s\n",
      "[CV] END ...................max_depth=2, min_samples_leaf=80; total time=   0.0s\n",
      "[CV] END ...................max_depth=2, min_samples_leaf=80; total time=   0.0s\n",
      "[CV] END ...................max_depth=2, min_samples_leaf=80; total time=   0.0s\n",
      "[CV] END ...................max_depth=2, min_samples_leaf=90; total time=   0.0s\n",
      "[CV] END ...................max_depth=2, min_samples_leaf=90; total time=   0.0s\n",
      "[CV] END ...................max_depth=2, min_samples_leaf=90; total time=   0.0s\n",
      "[CV] END ...................max_depth=2, min_samples_leaf=90; total time=   0.0s\n",
      "[CV] END ...................max_depth=2, min_samples_leaf=90; total time=   0.0s\n",
      "[CV] END ..................max_depth=2, min_samples_leaf=100; total time=   0.0s\n",
      "[CV] END ..................max_depth=2, min_samples_leaf=100; total time=   0.0s\n",
      "[CV] END ..................max_depth=2, min_samples_leaf=100; total time=   0.0s\n",
      "[CV] END ..................max_depth=2, min_samples_leaf=100; total time=   0.0s\n",
      "[CV] END ..................max_depth=2, min_samples_leaf=100; total time=   0.0s\n",
      "[CV] END ...................max_depth=3, min_samples_leaf=10; total time=   0.0s\n",
      "[CV] END ...................max_depth=3, min_samples_leaf=10; total time=   0.0s\n",
      "[CV] END ...................max_depth=3, min_samples_leaf=10; total time=   0.0s\n",
      "[CV] END ...................max_depth=3, min_samples_leaf=10; total time=   0.0s\n",
      "[CV] END ...................max_depth=3, min_samples_leaf=10; total time=   0.0s\n",
      "[CV] END ...................max_depth=3, min_samples_leaf=20; total time=   0.0s\n"
     ]
    },
    {
     "name": "stdout",
     "output_type": "stream",
     "text": [
      "[CV] END ...................max_depth=3, min_samples_leaf=20; total time=   0.0s\n",
      "[CV] END ...................max_depth=3, min_samples_leaf=20; total time=   0.0s\n",
      "[CV] END ...................max_depth=3, min_samples_leaf=20; total time=   0.0s\n",
      "[CV] END ...................max_depth=3, min_samples_leaf=20; total time=   0.0s\n",
      "[CV] END ...................max_depth=3, min_samples_leaf=30; total time=   0.0s\n",
      "[CV] END ...................max_depth=3, min_samples_leaf=30; total time=   0.0s\n",
      "[CV] END ...................max_depth=3, min_samples_leaf=30; total time=   0.0s\n",
      "[CV] END ...................max_depth=3, min_samples_leaf=30; total time=   0.0s\n",
      "[CV] END ...................max_depth=3, min_samples_leaf=30; total time=   0.0s\n",
      "[CV] END ...................max_depth=3, min_samples_leaf=40; total time=   0.0s\n",
      "[CV] END ...................max_depth=3, min_samples_leaf=40; total time=   0.0s\n",
      "[CV] END ...................max_depth=3, min_samples_leaf=40; total time=   0.0s\n",
      "[CV] END ...................max_depth=3, min_samples_leaf=40; total time=   0.0s\n",
      "[CV] END ...................max_depth=3, min_samples_leaf=40; total time=   0.0s\n",
      "[CV] END ...................max_depth=3, min_samples_leaf=50; total time=   0.0s\n",
      "[CV] END ...................max_depth=3, min_samples_leaf=50; total time=   0.0s\n",
      "[CV] END ...................max_depth=3, min_samples_leaf=50; total time=   0.0s\n",
      "[CV] END ...................max_depth=3, min_samples_leaf=50; total time=   0.0s\n",
      "[CV] END ...................max_depth=3, min_samples_leaf=50; total time=   0.0s\n",
      "[CV] END ...................max_depth=3, min_samples_leaf=60; total time=   0.0s\n",
      "[CV] END ...................max_depth=3, min_samples_leaf=60; total time=   0.0s\n",
      "[CV] END ...................max_depth=3, min_samples_leaf=60; total time=   0.0s\n",
      "[CV] END ...................max_depth=3, min_samples_leaf=60; total time=   0.0s\n",
      "[CV] END ...................max_depth=3, min_samples_leaf=60; total time=   0.0s\n",
      "[CV] END ...................max_depth=3, min_samples_leaf=70; total time=   0.0s\n",
      "[CV] END ...................max_depth=3, min_samples_leaf=70; total time=   0.0s\n",
      "[CV] END ...................max_depth=3, min_samples_leaf=70; total time=   0.0s\n",
      "[CV] END ...................max_depth=3, min_samples_leaf=70; total time=   0.0s\n",
      "[CV] END ...................max_depth=3, min_samples_leaf=70; total time=   0.0s\n",
      "[CV] END ...................max_depth=3, min_samples_leaf=80; total time=   0.0s\n",
      "[CV] END ...................max_depth=3, min_samples_leaf=80; total time=   0.0s\n",
      "[CV] END ...................max_depth=3, min_samples_leaf=80; total time=   0.0s\n",
      "[CV] END ...................max_depth=3, min_samples_leaf=80; total time=   0.0s\n",
      "[CV] END ...................max_depth=3, min_samples_leaf=80; total time=   0.0s\n",
      "[CV] END ...................max_depth=3, min_samples_leaf=90; total time=   0.0s\n",
      "[CV] END ...................max_depth=3, min_samples_leaf=90; total time=   0.0s\n",
      "[CV] END ...................max_depth=3, min_samples_leaf=90; total time=   0.0s\n",
      "[CV] END ...................max_depth=3, min_samples_leaf=90; total time=   0.0s\n",
      "[CV] END ...................max_depth=3, min_samples_leaf=90; total time=   0.0s\n",
      "[CV] END ..................max_depth=3, min_samples_leaf=100; total time=   0.0s\n",
      "[CV] END ..................max_depth=3, min_samples_leaf=100; total time=   0.0s\n",
      "[CV] END ..................max_depth=3, min_samples_leaf=100; total time=   0.0s\n",
      "[CV] END ..................max_depth=3, min_samples_leaf=100; total time=   0.0s\n",
      "[CV] END ..................max_depth=3, min_samples_leaf=100; total time=   0.0s\n",
      "[CV] END ...................max_depth=4, min_samples_leaf=10; total time=   0.0s\n",
      "[CV] END ...................max_depth=4, min_samples_leaf=10; total time=   0.0s\n",
      "[CV] END ...................max_depth=4, min_samples_leaf=10; total time=   0.0s\n",
      "[CV] END ...................max_depth=4, min_samples_leaf=10; total time=   0.0s\n",
      "[CV] END ...................max_depth=4, min_samples_leaf=10; total time=   0.0s\n",
      "[CV] END ...................max_depth=4, min_samples_leaf=20; total time=   0.0s\n",
      "[CV] END ...................max_depth=4, min_samples_leaf=20; total time=   0.0s\n",
      "[CV] END ...................max_depth=4, min_samples_leaf=20; total time=   0.0s\n",
      "[CV] END ...................max_depth=4, min_samples_leaf=20; total time=   0.0s\n",
      "[CV] END ...................max_depth=4, min_samples_leaf=20; total time=   0.0s\n",
      "[CV] END ...................max_depth=4, min_samples_leaf=30; total time=   0.0s\n",
      "[CV] END ...................max_depth=4, min_samples_leaf=30; total time=   0.0s\n",
      "[CV] END ...................max_depth=4, min_samples_leaf=30; total time=   0.0s\n",
      "[CV] END ...................max_depth=4, min_samples_leaf=30; total time=   0.0s\n",
      "[CV] END ...................max_depth=4, min_samples_leaf=30; total time=   0.0s\n",
      "[CV] END ...................max_depth=4, min_samples_leaf=40; total time=   0.0s\n",
      "[CV] END ...................max_depth=4, min_samples_leaf=40; total time=   0.0s\n",
      "[CV] END ...................max_depth=4, min_samples_leaf=40; total time=   0.0s\n",
      "[CV] END ...................max_depth=4, min_samples_leaf=40; total time=   0.0s\n",
      "[CV] END ...................max_depth=4, min_samples_leaf=40; total time=   0.0s\n",
      "[CV] END ...................max_depth=4, min_samples_leaf=50; total time=   0.0s\n",
      "[CV] END ...................max_depth=4, min_samples_leaf=50; total time=   0.0s\n",
      "[CV] END ...................max_depth=4, min_samples_leaf=50; total time=   0.0s\n",
      "[CV] END ...................max_depth=4, min_samples_leaf=50; total time=   0.0s\n",
      "[CV] END ...................max_depth=4, min_samples_leaf=50; total time=   0.0s\n",
      "[CV] END ...................max_depth=4, min_samples_leaf=60; total time=   0.0s\n",
      "[CV] END ...................max_depth=4, min_samples_leaf=60; total time=   0.0s\n",
      "[CV] END ...................max_depth=4, min_samples_leaf=60; total time=   0.0s\n",
      "[CV] END ...................max_depth=4, min_samples_leaf=60; total time=   0.0s\n",
      "[CV] END ...................max_depth=4, min_samples_leaf=60; total time=   0.0s\n",
      "[CV] END ...................max_depth=4, min_samples_leaf=70; total time=   0.0s\n",
      "[CV] END ...................max_depth=4, min_samples_leaf=70; total time=   0.0s\n",
      "[CV] END ...................max_depth=4, min_samples_leaf=70; total time=   0.0s\n",
      "[CV] END ...................max_depth=4, min_samples_leaf=70; total time=   0.0s\n",
      "[CV] END ...................max_depth=4, min_samples_leaf=70; total time=   0.0s\n",
      "[CV] END ...................max_depth=4, min_samples_leaf=80; total time=   0.0s\n",
      "[CV] END ...................max_depth=4, min_samples_leaf=80; total time=   0.0s\n",
      "[CV] END ...................max_depth=4, min_samples_leaf=80; total time=   0.0s\n",
      "[CV] END ...................max_depth=4, min_samples_leaf=80; total time=   0.0s\n",
      "[CV] END ...................max_depth=4, min_samples_leaf=80; total time=   0.0s\n",
      "[CV] END ...................max_depth=4, min_samples_leaf=90; total time=   0.0s\n",
      "[CV] END ...................max_depth=4, min_samples_leaf=90; total time=   0.0s\n",
      "[CV] END ...................max_depth=4, min_samples_leaf=90; total time=   0.0s\n",
      "[CV] END ...................max_depth=4, min_samples_leaf=90; total time=   0.0s\n",
      "[CV] END ...................max_depth=4, min_samples_leaf=90; total time=   0.0s\n",
      "[CV] END ..................max_depth=4, min_samples_leaf=100; total time=   0.0s\n",
      "[CV] END ..................max_depth=4, min_samples_leaf=100; total time=   0.0s\n",
      "[CV] END ..................max_depth=4, min_samples_leaf=100; total time=   0.0s\n",
      "[CV] END ..................max_depth=4, min_samples_leaf=100; total time=   0.0s\n",
      "[CV] END ..................max_depth=4, min_samples_leaf=100; total time=   0.0s\n",
      "[CV] END ...................max_depth=5, min_samples_leaf=10; total time=   0.0s\n",
      "[CV] END ...................max_depth=5, min_samples_leaf=10; total time=   0.0s\n",
      "[CV] END ...................max_depth=5, min_samples_leaf=10; total time=   0.0s\n",
      "[CV] END ...................max_depth=5, min_samples_leaf=10; total time=   0.0s\n",
      "[CV] END ...................max_depth=5, min_samples_leaf=10; total time=   0.0s\n",
      "[CV] END ...................max_depth=5, min_samples_leaf=20; total time=   0.0s\n",
      "[CV] END ...................max_depth=5, min_samples_leaf=20; total time=   0.0s\n",
      "[CV] END ...................max_depth=5, min_samples_leaf=20; total time=   0.0s\n"
     ]
    },
    {
     "name": "stdout",
     "output_type": "stream",
     "text": [
      "[CV] END ...................max_depth=5, min_samples_leaf=20; total time=   0.0s\n",
      "[CV] END ...................max_depth=5, min_samples_leaf=20; total time=   0.0s\n",
      "[CV] END ...................max_depth=5, min_samples_leaf=30; total time=   0.0s\n",
      "[CV] END ...................max_depth=5, min_samples_leaf=30; total time=   0.0s\n",
      "[CV] END ...................max_depth=5, min_samples_leaf=30; total time=   0.0s\n",
      "[CV] END ...................max_depth=5, min_samples_leaf=30; total time=   0.0s\n",
      "[CV] END ...................max_depth=5, min_samples_leaf=30; total time=   0.0s\n",
      "[CV] END ...................max_depth=5, min_samples_leaf=40; total time=   0.0s\n",
      "[CV] END ...................max_depth=5, min_samples_leaf=40; total time=   0.0s\n",
      "[CV] END ...................max_depth=5, min_samples_leaf=40; total time=   0.0s\n",
      "[CV] END ...................max_depth=5, min_samples_leaf=40; total time=   0.0s\n",
      "[CV] END ...................max_depth=5, min_samples_leaf=40; total time=   0.0s\n",
      "[CV] END ...................max_depth=5, min_samples_leaf=50; total time=   0.0s\n",
      "[CV] END ...................max_depth=5, min_samples_leaf=50; total time=   0.0s\n",
      "[CV] END ...................max_depth=5, min_samples_leaf=50; total time=   0.0s\n",
      "[CV] END ...................max_depth=5, min_samples_leaf=50; total time=   0.0s\n",
      "[CV] END ...................max_depth=5, min_samples_leaf=50; total time=   0.0s\n",
      "[CV] END ...................max_depth=5, min_samples_leaf=60; total time=   0.0s\n",
      "[CV] END ...................max_depth=5, min_samples_leaf=60; total time=   0.0s\n",
      "[CV] END ...................max_depth=5, min_samples_leaf=60; total time=   0.0s\n",
      "[CV] END ...................max_depth=5, min_samples_leaf=60; total time=   0.0s\n",
      "[CV] END ...................max_depth=5, min_samples_leaf=60; total time=   0.0s\n",
      "[CV] END ...................max_depth=5, min_samples_leaf=70; total time=   0.0s\n",
      "[CV] END ...................max_depth=5, min_samples_leaf=70; total time=   0.0s\n",
      "[CV] END ...................max_depth=5, min_samples_leaf=70; total time=   0.0s\n",
      "[CV] END ...................max_depth=5, min_samples_leaf=70; total time=   0.0s\n",
      "[CV] END ...................max_depth=5, min_samples_leaf=70; total time=   0.0s\n",
      "[CV] END ...................max_depth=5, min_samples_leaf=80; total time=   0.0s\n",
      "[CV] END ...................max_depth=5, min_samples_leaf=80; total time=   0.0s\n",
      "[CV] END ...................max_depth=5, min_samples_leaf=80; total time=   0.0s\n",
      "[CV] END ...................max_depth=5, min_samples_leaf=80; total time=   0.0s\n",
      "[CV] END ...................max_depth=5, min_samples_leaf=80; total time=   0.0s\n",
      "[CV] END ...................max_depth=5, min_samples_leaf=90; total time=   0.0s\n",
      "[CV] END ...................max_depth=5, min_samples_leaf=90; total time=   0.0s\n",
      "[CV] END ...................max_depth=5, min_samples_leaf=90; total time=   0.0s\n",
      "[CV] END ...................max_depth=5, min_samples_leaf=90; total time=   0.0s\n",
      "[CV] END ...................max_depth=5, min_samples_leaf=90; total time=   0.0s\n",
      "[CV] END ..................max_depth=5, min_samples_leaf=100; total time=   0.0s\n",
      "[CV] END ..................max_depth=5, min_samples_leaf=100; total time=   0.0s\n",
      "[CV] END ..................max_depth=5, min_samples_leaf=100; total time=   0.0s\n",
      "[CV] END ..................max_depth=5, min_samples_leaf=100; total time=   0.0s\n",
      "[CV] END ..................max_depth=5, min_samples_leaf=100; total time=   0.0s\n",
      "[CV] END ...................max_depth=6, min_samples_leaf=10; total time=   0.0s\n",
      "[CV] END ...................max_depth=6, min_samples_leaf=10; total time=   0.0s\n",
      "[CV] END ...................max_depth=6, min_samples_leaf=10; total time=   0.0s\n",
      "[CV] END ...................max_depth=6, min_samples_leaf=10; total time=   0.0s\n",
      "[CV] END ...................max_depth=6, min_samples_leaf=10; total time=   0.0s\n",
      "[CV] END ...................max_depth=6, min_samples_leaf=20; total time=   0.0s\n",
      "[CV] END ...................max_depth=6, min_samples_leaf=20; total time=   0.0s\n",
      "[CV] END ...................max_depth=6, min_samples_leaf=20; total time=   0.0s\n",
      "[CV] END ...................max_depth=6, min_samples_leaf=20; total time=   0.0s\n",
      "[CV] END ...................max_depth=6, min_samples_leaf=20; total time=   0.0s\n",
      "[CV] END ...................max_depth=6, min_samples_leaf=30; total time=   0.0s\n",
      "[CV] END ...................max_depth=6, min_samples_leaf=30; total time=   0.0s\n",
      "[CV] END ...................max_depth=6, min_samples_leaf=30; total time=   0.0s\n",
      "[CV] END ...................max_depth=6, min_samples_leaf=30; total time=   0.0s\n",
      "[CV] END ...................max_depth=6, min_samples_leaf=30; total time=   0.0s\n",
      "[CV] END ...................max_depth=6, min_samples_leaf=40; total time=   0.0s\n",
      "[CV] END ...................max_depth=6, min_samples_leaf=40; total time=   0.0s\n",
      "[CV] END ...................max_depth=6, min_samples_leaf=40; total time=   0.0s\n",
      "[CV] END ...................max_depth=6, min_samples_leaf=40; total time=   0.0s\n",
      "[CV] END ...................max_depth=6, min_samples_leaf=40; total time=   0.0s\n",
      "[CV] END ...................max_depth=6, min_samples_leaf=50; total time=   0.0s\n",
      "[CV] END ...................max_depth=6, min_samples_leaf=50; total time=   0.0s\n",
      "[CV] END ...................max_depth=6, min_samples_leaf=50; total time=   0.0s\n",
      "[CV] END ...................max_depth=6, min_samples_leaf=50; total time=   0.0s\n",
      "[CV] END ...................max_depth=6, min_samples_leaf=50; total time=   0.0s\n",
      "[CV] END ...................max_depth=6, min_samples_leaf=60; total time=   0.0s\n",
      "[CV] END ...................max_depth=6, min_samples_leaf=60; total time=   0.0s\n",
      "[CV] END ...................max_depth=6, min_samples_leaf=60; total time=   0.0s\n",
      "[CV] END ...................max_depth=6, min_samples_leaf=60; total time=   0.0s\n",
      "[CV] END ...................max_depth=6, min_samples_leaf=60; total time=   0.0s\n",
      "[CV] END ...................max_depth=6, min_samples_leaf=70; total time=   0.0s\n",
      "[CV] END ...................max_depth=6, min_samples_leaf=70; total time=   0.0s\n",
      "[CV] END ...................max_depth=6, min_samples_leaf=70; total time=   0.0s\n",
      "[CV] END ...................max_depth=6, min_samples_leaf=70; total time=   0.0s\n",
      "[CV] END ...................max_depth=6, min_samples_leaf=70; total time=   0.0s\n",
      "[CV] END ...................max_depth=6, min_samples_leaf=80; total time=   0.0s\n",
      "[CV] END ...................max_depth=6, min_samples_leaf=80; total time=   0.0s\n",
      "[CV] END ...................max_depth=6, min_samples_leaf=80; total time=   0.0s\n",
      "[CV] END ...................max_depth=6, min_samples_leaf=80; total time=   0.0s\n",
      "[CV] END ...................max_depth=6, min_samples_leaf=80; total time=   0.0s\n",
      "[CV] END ...................max_depth=6, min_samples_leaf=90; total time=   0.0s\n",
      "[CV] END ...................max_depth=6, min_samples_leaf=90; total time=   0.0s\n",
      "[CV] END ...................max_depth=6, min_samples_leaf=90; total time=   0.0s\n",
      "[CV] END ...................max_depth=6, min_samples_leaf=90; total time=   0.0s\n",
      "[CV] END ...................max_depth=6, min_samples_leaf=90; total time=   0.0s\n",
      "[CV] END ..................max_depth=6, min_samples_leaf=100; total time=   0.0s\n",
      "[CV] END ..................max_depth=6, min_samples_leaf=100; total time=   0.0s\n",
      "[CV] END ..................max_depth=6, min_samples_leaf=100; total time=   0.0s\n",
      "[CV] END ..................max_depth=6, min_samples_leaf=100; total time=   0.0s\n",
      "[CV] END ..................max_depth=6, min_samples_leaf=100; total time=   0.0s\n",
      "[CV] END ...................max_depth=7, min_samples_leaf=10; total time=   0.0s\n",
      "[CV] END ...................max_depth=7, min_samples_leaf=10; total time=   0.0s\n",
      "[CV] END ...................max_depth=7, min_samples_leaf=10; total time=   0.0s\n",
      "[CV] END ...................max_depth=7, min_samples_leaf=10; total time=   0.0s\n",
      "[CV] END ...................max_depth=7, min_samples_leaf=10; total time=   0.0s\n",
      "[CV] END ...................max_depth=7, min_samples_leaf=20; total time=   0.0s\n",
      "[CV] END ...................max_depth=7, min_samples_leaf=20; total time=   0.0s\n",
      "[CV] END ...................max_depth=7, min_samples_leaf=20; total time=   0.0s\n",
      "[CV] END ...................max_depth=7, min_samples_leaf=20; total time=   0.0s\n",
      "[CV] END ...................max_depth=7, min_samples_leaf=20; total time=   0.0s\n",
      "[CV] END ...................max_depth=7, min_samples_leaf=30; total time=   0.0s\n",
      "[CV] END ...................max_depth=7, min_samples_leaf=30; total time=   0.0s\n",
      "[CV] END ...................max_depth=7, min_samples_leaf=30; total time=   0.0s\n",
      "[CV] END ...................max_depth=7, min_samples_leaf=30; total time=   0.0s\n",
      "[CV] END ...................max_depth=7, min_samples_leaf=30; total time=   0.0s\n",
      "[CV] END ...................max_depth=7, min_samples_leaf=40; total time=   0.0s\n"
     ]
    },
    {
     "name": "stdout",
     "output_type": "stream",
     "text": [
      "[CV] END ...................max_depth=7, min_samples_leaf=40; total time=   0.0s\n",
      "[CV] END ...................max_depth=7, min_samples_leaf=40; total time=   0.0s\n",
      "[CV] END ...................max_depth=7, min_samples_leaf=40; total time=   0.0s\n",
      "[CV] END ...................max_depth=7, min_samples_leaf=40; total time=   0.0s\n",
      "[CV] END ...................max_depth=7, min_samples_leaf=50; total time=   0.0s\n",
      "[CV] END ...................max_depth=7, min_samples_leaf=50; total time=   0.0s\n",
      "[CV] END ...................max_depth=7, min_samples_leaf=50; total time=   0.0s\n",
      "[CV] END ...................max_depth=7, min_samples_leaf=50; total time=   0.0s\n",
      "[CV] END ...................max_depth=7, min_samples_leaf=50; total time=   0.0s\n",
      "[CV] END ...................max_depth=7, min_samples_leaf=60; total time=   0.0s\n",
      "[CV] END ...................max_depth=7, min_samples_leaf=60; total time=   0.0s\n",
      "[CV] END ...................max_depth=7, min_samples_leaf=60; total time=   0.0s\n",
      "[CV] END ...................max_depth=7, min_samples_leaf=60; total time=   0.0s\n",
      "[CV] END ...................max_depth=7, min_samples_leaf=60; total time=   0.0s\n",
      "[CV] END ...................max_depth=7, min_samples_leaf=70; total time=   0.0s\n",
      "[CV] END ...................max_depth=7, min_samples_leaf=70; total time=   0.0s\n",
      "[CV] END ...................max_depth=7, min_samples_leaf=70; total time=   0.0s\n",
      "[CV] END ...................max_depth=7, min_samples_leaf=70; total time=   0.0s\n",
      "[CV] END ...................max_depth=7, min_samples_leaf=70; total time=   0.0s\n",
      "[CV] END ...................max_depth=7, min_samples_leaf=80; total time=   0.0s\n",
      "[CV] END ...................max_depth=7, min_samples_leaf=80; total time=   0.0s\n",
      "[CV] END ...................max_depth=7, min_samples_leaf=80; total time=   0.0s\n",
      "[CV] END ...................max_depth=7, min_samples_leaf=80; total time=   0.0s\n",
      "[CV] END ...................max_depth=7, min_samples_leaf=80; total time=   0.0s\n",
      "[CV] END ...................max_depth=7, min_samples_leaf=90; total time=   0.0s\n",
      "[CV] END ...................max_depth=7, min_samples_leaf=90; total time=   0.0s\n",
      "[CV] END ...................max_depth=7, min_samples_leaf=90; total time=   0.0s\n",
      "[CV] END ...................max_depth=7, min_samples_leaf=90; total time=   0.0s\n",
      "[CV] END ...................max_depth=7, min_samples_leaf=90; total time=   0.0s\n",
      "[CV] END ..................max_depth=7, min_samples_leaf=100; total time=   0.0s\n",
      "[CV] END ..................max_depth=7, min_samples_leaf=100; total time=   0.0s\n",
      "[CV] END ..................max_depth=7, min_samples_leaf=100; total time=   0.0s\n",
      "[CV] END ..................max_depth=7, min_samples_leaf=100; total time=   0.0s\n",
      "[CV] END ..................max_depth=7, min_samples_leaf=100; total time=   0.0s\n",
      "[CV] END ...................max_depth=8, min_samples_leaf=10; total time=   0.0s\n",
      "[CV] END ...................max_depth=8, min_samples_leaf=10; total time=   0.0s\n",
      "[CV] END ...................max_depth=8, min_samples_leaf=10; total time=   0.0s\n",
      "[CV] END ...................max_depth=8, min_samples_leaf=10; total time=   0.0s\n",
      "[CV] END ...................max_depth=8, min_samples_leaf=10; total time=   0.0s\n",
      "[CV] END ...................max_depth=8, min_samples_leaf=20; total time=   0.0s\n",
      "[CV] END ...................max_depth=8, min_samples_leaf=20; total time=   0.0s\n",
      "[CV] END ...................max_depth=8, min_samples_leaf=20; total time=   0.0s\n",
      "[CV] END ...................max_depth=8, min_samples_leaf=20; total time=   0.0s\n",
      "[CV] END ...................max_depth=8, min_samples_leaf=20; total time=   0.0s\n",
      "[CV] END ...................max_depth=8, min_samples_leaf=30; total time=   0.0s\n",
      "[CV] END ...................max_depth=8, min_samples_leaf=30; total time=   0.0s\n",
      "[CV] END ...................max_depth=8, min_samples_leaf=30; total time=   0.0s\n",
      "[CV] END ...................max_depth=8, min_samples_leaf=30; total time=   0.0s\n",
      "[CV] END ...................max_depth=8, min_samples_leaf=30; total time=   0.0s\n",
      "[CV] END ...................max_depth=8, min_samples_leaf=40; total time=   0.0s\n",
      "[CV] END ...................max_depth=8, min_samples_leaf=40; total time=   0.0s\n",
      "[CV] END ...................max_depth=8, min_samples_leaf=40; total time=   0.0s\n",
      "[CV] END ...................max_depth=8, min_samples_leaf=40; total time=   0.0s\n",
      "[CV] END ...................max_depth=8, min_samples_leaf=40; total time=   0.0s\n",
      "[CV] END ...................max_depth=8, min_samples_leaf=50; total time=   0.0s\n",
      "[CV] END ...................max_depth=8, min_samples_leaf=50; total time=   0.0s\n",
      "[CV] END ...................max_depth=8, min_samples_leaf=50; total time=   0.0s\n",
      "[CV] END ...................max_depth=8, min_samples_leaf=50; total time=   0.0s\n",
      "[CV] END ...................max_depth=8, min_samples_leaf=50; total time=   0.0s\n",
      "[CV] END ...................max_depth=8, min_samples_leaf=60; total time=   0.0s\n",
      "[CV] END ...................max_depth=8, min_samples_leaf=60; total time=   0.0s\n",
      "[CV] END ...................max_depth=8, min_samples_leaf=60; total time=   0.0s\n",
      "[CV] END ...................max_depth=8, min_samples_leaf=60; total time=   0.0s\n",
      "[CV] END ...................max_depth=8, min_samples_leaf=60; total time=   0.0s\n",
      "[CV] END ...................max_depth=8, min_samples_leaf=70; total time=   0.0s\n",
      "[CV] END ...................max_depth=8, min_samples_leaf=70; total time=   0.0s\n",
      "[CV] END ...................max_depth=8, min_samples_leaf=70; total time=   0.0s\n",
      "[CV] END ...................max_depth=8, min_samples_leaf=70; total time=   0.0s\n",
      "[CV] END ...................max_depth=8, min_samples_leaf=70; total time=   0.0s\n",
      "[CV] END ...................max_depth=8, min_samples_leaf=80; total time=   0.0s\n",
      "[CV] END ...................max_depth=8, min_samples_leaf=80; total time=   0.0s\n",
      "[CV] END ...................max_depth=8, min_samples_leaf=80; total time=   0.0s\n",
      "[CV] END ...................max_depth=8, min_samples_leaf=80; total time=   0.0s\n",
      "[CV] END ...................max_depth=8, min_samples_leaf=80; total time=   0.0s\n",
      "[CV] END ...................max_depth=8, min_samples_leaf=90; total time=   0.0s\n",
      "[CV] END ...................max_depth=8, min_samples_leaf=90; total time=   0.0s\n",
      "[CV] END ...................max_depth=8, min_samples_leaf=90; total time=   0.0s\n",
      "[CV] END ...................max_depth=8, min_samples_leaf=90; total time=   0.0s\n",
      "[CV] END ...................max_depth=8, min_samples_leaf=90; total time=   0.0s\n",
      "[CV] END ..................max_depth=8, min_samples_leaf=100; total time=   0.0s\n",
      "[CV] END ..................max_depth=8, min_samples_leaf=100; total time=   0.0s\n",
      "[CV] END ..................max_depth=8, min_samples_leaf=100; total time=   0.0s\n",
      "[CV] END ..................max_depth=8, min_samples_leaf=100; total time=   0.0s\n",
      "[CV] END ..................max_depth=8, min_samples_leaf=100; total time=   0.0s\n",
      "[CV] END ...................max_depth=9, min_samples_leaf=10; total time=   0.0s\n",
      "[CV] END ...................max_depth=9, min_samples_leaf=10; total time=   0.0s\n",
      "[CV] END ...................max_depth=9, min_samples_leaf=10; total time=   0.0s\n",
      "[CV] END ...................max_depth=9, min_samples_leaf=10; total time=   0.0s\n",
      "[CV] END ...................max_depth=9, min_samples_leaf=10; total time=   0.0s\n",
      "[CV] END ...................max_depth=9, min_samples_leaf=20; total time=   0.0s\n",
      "[CV] END ...................max_depth=9, min_samples_leaf=20; total time=   0.0s\n",
      "[CV] END ...................max_depth=9, min_samples_leaf=20; total time=   0.0s\n",
      "[CV] END ...................max_depth=9, min_samples_leaf=20; total time=   0.0s\n",
      "[CV] END ...................max_depth=9, min_samples_leaf=20; total time=   0.0s\n",
      "[CV] END ...................max_depth=9, min_samples_leaf=30; total time=   0.0s\n",
      "[CV] END ...................max_depth=9, min_samples_leaf=30; total time=   0.0s\n",
      "[CV] END ...................max_depth=9, min_samples_leaf=30; total time=   0.0s\n",
      "[CV] END ...................max_depth=9, min_samples_leaf=30; total time=   0.0s\n",
      "[CV] END ...................max_depth=9, min_samples_leaf=30; total time=   0.0s\n",
      "[CV] END ...................max_depth=9, min_samples_leaf=40; total time=   0.0s\n",
      "[CV] END ...................max_depth=9, min_samples_leaf=40; total time=   0.0s\n",
      "[CV] END ...................max_depth=9, min_samples_leaf=40; total time=   0.0s\n",
      "[CV] END ...................max_depth=9, min_samples_leaf=40; total time=   0.0s\n",
      "[CV] END ...................max_depth=9, min_samples_leaf=40; total time=   0.0s\n",
      "[CV] END ...................max_depth=9, min_samples_leaf=50; total time=   0.0s\n",
      "[CV] END ...................max_depth=9, min_samples_leaf=50; total time=   0.0s\n",
      "[CV] END ...................max_depth=9, min_samples_leaf=50; total time=   0.0s\n"
     ]
    },
    {
     "name": "stdout",
     "output_type": "stream",
     "text": [
      "[CV] END ...................max_depth=9, min_samples_leaf=50; total time=   0.0s\n",
      "[CV] END ...................max_depth=9, min_samples_leaf=50; total time=   0.0s\n",
      "[CV] END ...................max_depth=9, min_samples_leaf=60; total time=   0.0s\n",
      "[CV] END ...................max_depth=9, min_samples_leaf=60; total time=   0.0s\n",
      "[CV] END ...................max_depth=9, min_samples_leaf=60; total time=   0.0s\n",
      "[CV] END ...................max_depth=9, min_samples_leaf=60; total time=   0.0s\n",
      "[CV] END ...................max_depth=9, min_samples_leaf=60; total time=   0.0s\n",
      "[CV] END ...................max_depth=9, min_samples_leaf=70; total time=   0.0s\n",
      "[CV] END ...................max_depth=9, min_samples_leaf=70; total time=   0.0s\n",
      "[CV] END ...................max_depth=9, min_samples_leaf=70; total time=   0.0s\n",
      "[CV] END ...................max_depth=9, min_samples_leaf=70; total time=   0.0s\n",
      "[CV] END ...................max_depth=9, min_samples_leaf=70; total time=   0.0s\n",
      "[CV] END ...................max_depth=9, min_samples_leaf=80; total time=   0.0s\n",
      "[CV] END ...................max_depth=9, min_samples_leaf=80; total time=   0.0s\n",
      "[CV] END ...................max_depth=9, min_samples_leaf=80; total time=   0.0s\n",
      "[CV] END ...................max_depth=9, min_samples_leaf=80; total time=   0.0s\n",
      "[CV] END ...................max_depth=9, min_samples_leaf=80; total time=   0.0s\n",
      "[CV] END ...................max_depth=9, min_samples_leaf=90; total time=   0.0s\n",
      "[CV] END ...................max_depth=9, min_samples_leaf=90; total time=   0.0s\n",
      "[CV] END ...................max_depth=9, min_samples_leaf=90; total time=   0.0s\n",
      "[CV] END ...................max_depth=9, min_samples_leaf=90; total time=   0.0s\n",
      "[CV] END ...................max_depth=9, min_samples_leaf=90; total time=   0.0s\n",
      "[CV] END ..................max_depth=9, min_samples_leaf=100; total time=   0.0s\n",
      "[CV] END ..................max_depth=9, min_samples_leaf=100; total time=   0.0s\n",
      "[CV] END ..................max_depth=9, min_samples_leaf=100; total time=   0.0s\n",
      "[CV] END ..................max_depth=9, min_samples_leaf=100; total time=   0.0s\n",
      "[CV] END ..................max_depth=9, min_samples_leaf=100; total time=   0.0s\n",
      "[CV] END ..................max_depth=10, min_samples_leaf=10; total time=   0.0s\n",
      "[CV] END ..................max_depth=10, min_samples_leaf=10; total time=   0.0s\n",
      "[CV] END ..................max_depth=10, min_samples_leaf=10; total time=   0.0s\n",
      "[CV] END ..................max_depth=10, min_samples_leaf=10; total time=   0.0s\n",
      "[CV] END ..................max_depth=10, min_samples_leaf=10; total time=   0.0s\n",
      "[CV] END ..................max_depth=10, min_samples_leaf=20; total time=   0.0s\n",
      "[CV] END ..................max_depth=10, min_samples_leaf=20; total time=   0.0s\n",
      "[CV] END ..................max_depth=10, min_samples_leaf=20; total time=   0.0s\n",
      "[CV] END ..................max_depth=10, min_samples_leaf=20; total time=   0.0s\n",
      "[CV] END ..................max_depth=10, min_samples_leaf=20; total time=   0.0s\n",
      "[CV] END ..................max_depth=10, min_samples_leaf=30; total time=   0.0s\n",
      "[CV] END ..................max_depth=10, min_samples_leaf=30; total time=   0.0s\n",
      "[CV] END ..................max_depth=10, min_samples_leaf=30; total time=   0.0s\n",
      "[CV] END ..................max_depth=10, min_samples_leaf=30; total time=   0.0s\n",
      "[CV] END ..................max_depth=10, min_samples_leaf=30; total time=   0.0s\n",
      "[CV] END ..................max_depth=10, min_samples_leaf=40; total time=   0.0s\n",
      "[CV] END ..................max_depth=10, min_samples_leaf=40; total time=   0.0s\n",
      "[CV] END ..................max_depth=10, min_samples_leaf=40; total time=   0.0s\n",
      "[CV] END ..................max_depth=10, min_samples_leaf=40; total time=   0.0s\n",
      "[CV] END ..................max_depth=10, min_samples_leaf=40; total time=   0.0s\n",
      "[CV] END ..................max_depth=10, min_samples_leaf=50; total time=   0.0s\n",
      "[CV] END ..................max_depth=10, min_samples_leaf=50; total time=   0.0s\n",
      "[CV] END ..................max_depth=10, min_samples_leaf=50; total time=   0.0s\n",
      "[CV] END ..................max_depth=10, min_samples_leaf=50; total time=   0.0s\n",
      "[CV] END ..................max_depth=10, min_samples_leaf=50; total time=   0.0s\n",
      "[CV] END ..................max_depth=10, min_samples_leaf=60; total time=   0.0s\n",
      "[CV] END ..................max_depth=10, min_samples_leaf=60; total time=   0.0s\n",
      "[CV] END ..................max_depth=10, min_samples_leaf=60; total time=   0.0s\n",
      "[CV] END ..................max_depth=10, min_samples_leaf=60; total time=   0.0s\n",
      "[CV] END ..................max_depth=10, min_samples_leaf=60; total time=   0.0s\n",
      "[CV] END ..................max_depth=10, min_samples_leaf=70; total time=   0.0s\n",
      "[CV] END ..................max_depth=10, min_samples_leaf=70; total time=   0.0s\n",
      "[CV] END ..................max_depth=10, min_samples_leaf=70; total time=   0.0s\n",
      "[CV] END ..................max_depth=10, min_samples_leaf=70; total time=   0.0s\n",
      "[CV] END ..................max_depth=10, min_samples_leaf=70; total time=   0.0s\n",
      "[CV] END ..................max_depth=10, min_samples_leaf=80; total time=   0.0s\n",
      "[CV] END ..................max_depth=10, min_samples_leaf=80; total time=   0.0s\n",
      "[CV] END ..................max_depth=10, min_samples_leaf=80; total time=   0.0s\n",
      "[CV] END ..................max_depth=10, min_samples_leaf=80; total time=   0.0s\n",
      "[CV] END ..................max_depth=10, min_samples_leaf=80; total time=   0.0s\n",
      "[CV] END ..................max_depth=10, min_samples_leaf=90; total time=   0.0s\n",
      "[CV] END ..................max_depth=10, min_samples_leaf=90; total time=   0.0s\n",
      "[CV] END ..................max_depth=10, min_samples_leaf=90; total time=   0.0s\n",
      "[CV] END ..................max_depth=10, min_samples_leaf=90; total time=   0.0s\n",
      "[CV] END ..................max_depth=10, min_samples_leaf=90; total time=   0.0s\n",
      "[CV] END .................max_depth=10, min_samples_leaf=100; total time=   0.0s\n",
      "[CV] END .................max_depth=10, min_samples_leaf=100; total time=   0.0s\n",
      "[CV] END .................max_depth=10, min_samples_leaf=100; total time=   0.0s\n",
      "[CV] END .................max_depth=10, min_samples_leaf=100; total time=   0.0s\n",
      "[CV] END .................max_depth=10, min_samples_leaf=100; total time=   0.0s\n"
     ]
    },
    {
     "data": {
      "text/plain": [
       "GridSearchCV(cv=5, estimator=DecisionTreeClassifier(),\n",
       "             param_grid={'max_depth': range(1, 11),\n",
       "                         'min_samples_leaf': range(10, 101, 10)},\n",
       "             verbose=2)"
      ]
     },
     "execution_count": 52,
     "metadata": {},
     "output_type": "execute_result"
    }
   ],
   "source": [
    "model_gs2.fit(x_train, y_train)\n",
    "# 하이퍼 파라미터 값을 조정하면서 모델만듦\n",
    "# 모델 만들고 좋은 모델인지 아닌지 알려면 검증해야함\n",
    "# 검증하면 성능나옴 (best_score_)\n",
    "\n",
    "# .fit하면 조정->모델만들고->평가 함.\n",
    "# 튜닝하면서 검증한 것 중 가장 성능이 좋은 애가 best_score_"
   ]
  },
  {
   "cell_type": "code",
   "execution_count": 43,
   "metadata": {
    "id": "He7AMq8f7kz5"
   },
   "outputs": [
    {
     "data": {
      "text/plain": [
       "{'mean_fit_time': array([0.00693169, 0.00584555, 0.00530314, 0.00520706, 0.00604177,\n",
       "        0.00558372, 0.00573707, 0.00580063, 0.00579801, 0.00597653,\n",
       "        0.00782967, 0.00736585, 0.00813313, 0.00735502, 0.00786867,\n",
       "        0.00800309, 0.00741339, 0.00719814, 0.0076704 , 0.00730762,\n",
       "        0.00988288, 0.00829854, 0.00911789, 0.00871925, 0.0093061 ,\n",
       "        0.00958619, 0.00934649, 0.01001916, 0.01141081, 0.0143167 ,\n",
       "        0.01228786, 0.01286716, 0.01223888, 0.01061211, 0.01081963,\n",
       "        0.01162362, 0.01305203, 0.01159658, 0.01087236, 0.01042953,\n",
       "        0.01212044, 0.01279464, 0.01409078, 0.01268468, 0.0119483 ,\n",
       "        0.01429372, 0.01517897, 0.01186371, 0.01227722, 0.01143355,\n",
       "        0.0145299 , 0.01365714, 0.01321006, 0.01495323, 0.01256204,\n",
       "        0.01294026, 0.012044  , 0.0116374 , 0.017594  , 0.01649156,\n",
       "        0.02195392, 0.02131963, 0.01963868, 0.01448493, 0.0144033 ,\n",
       "        0.01597538, 0.012498  , 0.01297464, 0.01205463, 0.01245193,\n",
       "        0.01553721, 0.01595817, 0.0152142 , 0.0143662 , 0.01329761,\n",
       "        0.01246967, 0.01343718, 0.01201367, 0.01202002, 0.01161423,\n",
       "        0.01863294, 0.01700039, 0.01516137, 0.0138185 , 0.01306086,\n",
       "        0.01242371, 0.01280642, 0.01270208, 0.0124208 , 0.01086683,\n",
       "        0.01836834, 0.01660962, 0.01590328, 0.01377668, 0.01345868,\n",
       "        0.01281638, 0.01210413, 0.01217775, 0.0117878 , 0.01166248]),\n",
       " 'std_fit_time': array([0.00213089, 0.00071022, 0.00069778, 0.00050114, 0.0011469 ,\n",
       "        0.00047555, 0.00038348, 0.00083915, 0.00088546, 0.00067541,\n",
       "        0.00114738, 0.00084675, 0.0007708 , 0.0004151 , 0.00041513,\n",
       "        0.00096725, 0.00048704, 0.00041914, 0.00101133, 0.00100285,\n",
       "        0.00117415, 0.00065748, 0.00105358, 0.00038016, 0.00060344,\n",
       "        0.00120142, 0.00068302, 0.00076678, 0.00161024, 0.00256084,\n",
       "        0.00143255, 0.00054353, 0.00098244, 0.00137478, 0.00129202,\n",
       "        0.00217007, 0.00128487, 0.00088168, 0.00080071, 0.00113563,\n",
       "        0.00086001, 0.00090075, 0.00303194, 0.00113215, 0.00110607,\n",
       "        0.001883  , 0.00130861, 0.00148157, 0.00091812, 0.00098823,\n",
       "        0.00037872, 0.00098859, 0.0007351 , 0.00162661, 0.00047029,\n",
       "        0.00114791, 0.00058462, 0.00093138, 0.00193943, 0.00127454,\n",
       "        0.00135117, 0.001386  , 0.00186137, 0.00115165, 0.00071625,\n",
       "        0.00157552, 0.00100186, 0.00184851, 0.00077833, 0.00084424,\n",
       "        0.00080373, 0.00180326, 0.00181026, 0.00056415, 0.00098748,\n",
       "        0.00066819, 0.00134127, 0.0009055 , 0.00138072, 0.00074367,\n",
       "        0.00199449, 0.00096609, 0.00106038, 0.00081713, 0.0012446 ,\n",
       "        0.00097912, 0.00097106, 0.0013559 , 0.0012392 , 0.0009272 ,\n",
       "        0.00049   , 0.00079783, 0.00104793, 0.00064861, 0.00115987,\n",
       "        0.00109782, 0.00097948, 0.00160743, 0.00120682, 0.00075221]),\n",
       " 'mean_score_time': array([0.00296607, 0.00215707, 0.00237541, 0.00299735, 0.0023458 ,\n",
       "        0.00219698, 0.00263071, 0.00224905, 0.00216947, 0.00219297,\n",
       "        0.0021368 , 0.00269642, 0.00243893, 0.00239339, 0.00250168,\n",
       "        0.00237947, 0.00281353, 0.00241299, 0.00201931, 0.00233483,\n",
       "        0.00262008, 0.00229778, 0.00236864, 0.00264421, 0.00245357,\n",
       "        0.00250278, 0.00250397, 0.00316739, 0.00420728, 0.00465856,\n",
       "        0.00340075, 0.00372024, 0.00309258, 0.00268273, 0.00209532,\n",
       "        0.00352221, 0.00380087, 0.0026845 , 0.00278325, 0.00255709,\n",
       "        0.00238461, 0.00246501, 0.00309572, 0.0029912 , 0.00280757,\n",
       "        0.00379858, 0.00434103, 0.0026865 , 0.0024538 , 0.00280929,\n",
       "        0.00252767, 0.00251846, 0.00247865, 0.00274348, 0.00286899,\n",
       "        0.00260434, 0.00242147, 0.00258231, 0.00396614, 0.004983  ,\n",
       "        0.00415306, 0.00359302, 0.00359836, 0.00276957, 0.00287132,\n",
       "        0.00360622, 0.00240722, 0.00267334, 0.00290976, 0.00217357,\n",
       "        0.00275416, 0.00297084, 0.00214858, 0.0027595 , 0.00220509,\n",
       "        0.00252991, 0.00248446, 0.00278273, 0.00247488, 0.00273738,\n",
       "        0.00234103, 0.0024672 , 0.00262828, 0.00262117, 0.00263391,\n",
       "        0.00279365, 0.00356455, 0.00245018, 0.00294514, 0.00294967,\n",
       "        0.00259919, 0.00242786, 0.00242443, 0.00272241, 0.00244651,\n",
       "        0.00241518, 0.00316873, 0.00191097, 0.00230036, 0.00252285]),\n",
       " 'std_score_time': array([5.72150148e-05, 4.11409109e-04, 4.41783294e-04, 2.68224186e-05,\n",
       "        7.57805958e-04, 3.98497335e-04, 4.04059524e-04, 3.92833992e-04,\n",
       "        7.50045958e-04, 4.17151034e-04, 8.68932335e-05, 5.93488365e-04,\n",
       "        4.79883088e-04, 4.65912817e-04, 7.67182523e-04, 8.05938104e-04,\n",
       "        4.07220228e-04, 5.05650394e-04, 3.21420949e-04, 4.65287867e-04,\n",
       "        5.93115747e-04, 3.76578613e-04, 4.83730096e-04, 5.54123157e-04,\n",
       "        4.47722237e-04, 6.53229291e-04, 4.01128376e-04, 3.78202964e-04,\n",
       "        1.18961130e-03, 1.51542484e-03, 1.00633857e-03, 8.79043364e-04,\n",
       "        8.64383267e-04, 6.46976294e-04, 9.14399595e-04, 1.21397139e-03,\n",
       "        1.45419760e-03, 4.82948023e-04, 3.78512345e-04, 8.07820783e-04,\n",
       "        5.60622324e-04, 4.52580287e-04, 6.86413020e-04, 6.31701262e-04,\n",
       "        7.47388489e-04, 1.32570494e-03, 8.18067971e-04, 8.50361621e-04,\n",
       "        4.02685070e-04, 7.17701672e-04, 4.51424672e-04, 4.34677765e-04,\n",
       "        7.52289762e-04, 3.55327296e-04, 6.64472701e-04, 4.91867863e-04,\n",
       "        4.27388951e-04, 4.41773685e-04, 1.14543310e-03, 1.25056675e-03,\n",
       "        2.24080915e-04, 3.79860506e-04, 7.91713336e-04, 4.50596875e-04,\n",
       "        4.62949000e-04, 4.94118501e-04, 5.55608697e-04, 4.72426457e-04,\n",
       "        4.76478504e-04, 7.44451552e-04, 8.44688963e-04, 6.42865688e-04,\n",
       "        4.33757389e-04, 3.92670012e-04, 3.93100759e-04, 4.36241932e-04,\n",
       "        7.44389945e-04, 2.65433048e-04, 6.58676184e-04, 6.89281144e-04,\n",
       "        5.44895343e-04, 4.12042336e-04, 5.29137353e-04, 4.43784276e-04,\n",
       "        5.12654869e-04, 6.58433137e-04, 2.37043526e-03, 3.98873311e-04,\n",
       "        6.50909573e-04, 5.65883479e-04, 4.70079372e-04, 4.60926849e-04,\n",
       "        5.24339111e-04, 3.91979130e-04, 4.65189648e-04, 5.20989167e-04,\n",
       "        4.56749707e-04, 5.24071097e-04, 3.86190665e-04, 3.71690225e-04]),\n",
       " 'param_max_depth': masked_array(data=[1, 1, 1, 1, 1, 1, 1, 1, 1, 1, 2, 2, 2, 2, 2, 2, 2, 2,\n",
       "                    2, 2, 3, 3, 3, 3, 3, 3, 3, 3, 3, 3, 4, 4, 4, 4, 4, 4,\n",
       "                    4, 4, 4, 4, 5, 5, 5, 5, 5, 5, 5, 5, 5, 5, 6, 6, 6, 6,\n",
       "                    6, 6, 6, 6, 6, 6, 7, 7, 7, 7, 7, 7, 7, 7, 7, 7, 8, 8,\n",
       "                    8, 8, 8, 8, 8, 8, 8, 8, 9, 9, 9, 9, 9, 9, 9, 9, 9, 9,\n",
       "                    10, 10, 10, 10, 10, 10, 10, 10, 10, 10],\n",
       "              mask=[False, False, False, False, False, False, False, False,\n",
       "                    False, False, False, False, False, False, False, False,\n",
       "                    False, False, False, False, False, False, False, False,\n",
       "                    False, False, False, False, False, False, False, False,\n",
       "                    False, False, False, False, False, False, False, False,\n",
       "                    False, False, False, False, False, False, False, False,\n",
       "                    False, False, False, False, False, False, False, False,\n",
       "                    False, False, False, False, False, False, False, False,\n",
       "                    False, False, False, False, False, False, False, False,\n",
       "                    False, False, False, False, False, False, False, False,\n",
       "                    False, False, False, False, False, False, False, False,\n",
       "                    False, False, False, False, False, False, False, False,\n",
       "                    False, False, False, False],\n",
       "        fill_value='?',\n",
       "             dtype=object),\n",
       " 'param_min_samples_leaf': masked_array(data=[10, 20, 30, 40, 50, 60, 70, 80, 90, 100, 10, 20, 30,\n",
       "                    40, 50, 60, 70, 80, 90, 100, 10, 20, 30, 40, 50, 60,\n",
       "                    70, 80, 90, 100, 10, 20, 30, 40, 50, 60, 70, 80, 90,\n",
       "                    100, 10, 20, 30, 40, 50, 60, 70, 80, 90, 100, 10, 20,\n",
       "                    30, 40, 50, 60, 70, 80, 90, 100, 10, 20, 30, 40, 50,\n",
       "                    60, 70, 80, 90, 100, 10, 20, 30, 40, 50, 60, 70, 80,\n",
       "                    90, 100, 10, 20, 30, 40, 50, 60, 70, 80, 90, 100, 10,\n",
       "                    20, 30, 40, 50, 60, 70, 80, 90, 100],\n",
       "              mask=[False, False, False, False, False, False, False, False,\n",
       "                    False, False, False, False, False, False, False, False,\n",
       "                    False, False, False, False, False, False, False, False,\n",
       "                    False, False, False, False, False, False, False, False,\n",
       "                    False, False, False, False, False, False, False, False,\n",
       "                    False, False, False, False, False, False, False, False,\n",
       "                    False, False, False, False, False, False, False, False,\n",
       "                    False, False, False, False, False, False, False, False,\n",
       "                    False, False, False, False, False, False, False, False,\n",
       "                    False, False, False, False, False, False, False, False,\n",
       "                    False, False, False, False, False, False, False, False,\n",
       "                    False, False, False, False, False, False, False, False,\n",
       "                    False, False, False, False],\n",
       "        fill_value='?',\n",
       "             dtype=object),\n",
       " 'params': [{'max_depth': 1, 'min_samples_leaf': 10},\n",
       "  {'max_depth': 1, 'min_samples_leaf': 20},\n",
       "  {'max_depth': 1, 'min_samples_leaf': 30},\n",
       "  {'max_depth': 1, 'min_samples_leaf': 40},\n",
       "  {'max_depth': 1, 'min_samples_leaf': 50},\n",
       "  {'max_depth': 1, 'min_samples_leaf': 60},\n",
       "  {'max_depth': 1, 'min_samples_leaf': 70},\n",
       "  {'max_depth': 1, 'min_samples_leaf': 80},\n",
       "  {'max_depth': 1, 'min_samples_leaf': 90},\n",
       "  {'max_depth': 1, 'min_samples_leaf': 100},\n",
       "  {'max_depth': 2, 'min_samples_leaf': 10},\n",
       "  {'max_depth': 2, 'min_samples_leaf': 20},\n",
       "  {'max_depth': 2, 'min_samples_leaf': 30},\n",
       "  {'max_depth': 2, 'min_samples_leaf': 40},\n",
       "  {'max_depth': 2, 'min_samples_leaf': 50},\n",
       "  {'max_depth': 2, 'min_samples_leaf': 60},\n",
       "  {'max_depth': 2, 'min_samples_leaf': 70},\n",
       "  {'max_depth': 2, 'min_samples_leaf': 80},\n",
       "  {'max_depth': 2, 'min_samples_leaf': 90},\n",
       "  {'max_depth': 2, 'min_samples_leaf': 100},\n",
       "  {'max_depth': 3, 'min_samples_leaf': 10},\n",
       "  {'max_depth': 3, 'min_samples_leaf': 20},\n",
       "  {'max_depth': 3, 'min_samples_leaf': 30},\n",
       "  {'max_depth': 3, 'min_samples_leaf': 40},\n",
       "  {'max_depth': 3, 'min_samples_leaf': 50},\n",
       "  {'max_depth': 3, 'min_samples_leaf': 60},\n",
       "  {'max_depth': 3, 'min_samples_leaf': 70},\n",
       "  {'max_depth': 3, 'min_samples_leaf': 80},\n",
       "  {'max_depth': 3, 'min_samples_leaf': 90},\n",
       "  {'max_depth': 3, 'min_samples_leaf': 100},\n",
       "  {'max_depth': 4, 'min_samples_leaf': 10},\n",
       "  {'max_depth': 4, 'min_samples_leaf': 20},\n",
       "  {'max_depth': 4, 'min_samples_leaf': 30},\n",
       "  {'max_depth': 4, 'min_samples_leaf': 40},\n",
       "  {'max_depth': 4, 'min_samples_leaf': 50},\n",
       "  {'max_depth': 4, 'min_samples_leaf': 60},\n",
       "  {'max_depth': 4, 'min_samples_leaf': 70},\n",
       "  {'max_depth': 4, 'min_samples_leaf': 80},\n",
       "  {'max_depth': 4, 'min_samples_leaf': 90},\n",
       "  {'max_depth': 4, 'min_samples_leaf': 100},\n",
       "  {'max_depth': 5, 'min_samples_leaf': 10},\n",
       "  {'max_depth': 5, 'min_samples_leaf': 20},\n",
       "  {'max_depth': 5, 'min_samples_leaf': 30},\n",
       "  {'max_depth': 5, 'min_samples_leaf': 40},\n",
       "  {'max_depth': 5, 'min_samples_leaf': 50},\n",
       "  {'max_depth': 5, 'min_samples_leaf': 60},\n",
       "  {'max_depth': 5, 'min_samples_leaf': 70},\n",
       "  {'max_depth': 5, 'min_samples_leaf': 80},\n",
       "  {'max_depth': 5, 'min_samples_leaf': 90},\n",
       "  {'max_depth': 5, 'min_samples_leaf': 100},\n",
       "  {'max_depth': 6, 'min_samples_leaf': 10},\n",
       "  {'max_depth': 6, 'min_samples_leaf': 20},\n",
       "  {'max_depth': 6, 'min_samples_leaf': 30},\n",
       "  {'max_depth': 6, 'min_samples_leaf': 40},\n",
       "  {'max_depth': 6, 'min_samples_leaf': 50},\n",
       "  {'max_depth': 6, 'min_samples_leaf': 60},\n",
       "  {'max_depth': 6, 'min_samples_leaf': 70},\n",
       "  {'max_depth': 6, 'min_samples_leaf': 80},\n",
       "  {'max_depth': 6, 'min_samples_leaf': 90},\n",
       "  {'max_depth': 6, 'min_samples_leaf': 100},\n",
       "  {'max_depth': 7, 'min_samples_leaf': 10},\n",
       "  {'max_depth': 7, 'min_samples_leaf': 20},\n",
       "  {'max_depth': 7, 'min_samples_leaf': 30},\n",
       "  {'max_depth': 7, 'min_samples_leaf': 40},\n",
       "  {'max_depth': 7, 'min_samples_leaf': 50},\n",
       "  {'max_depth': 7, 'min_samples_leaf': 60},\n",
       "  {'max_depth': 7, 'min_samples_leaf': 70},\n",
       "  {'max_depth': 7, 'min_samples_leaf': 80},\n",
       "  {'max_depth': 7, 'min_samples_leaf': 90},\n",
       "  {'max_depth': 7, 'min_samples_leaf': 100},\n",
       "  {'max_depth': 8, 'min_samples_leaf': 10},\n",
       "  {'max_depth': 8, 'min_samples_leaf': 20},\n",
       "  {'max_depth': 8, 'min_samples_leaf': 30},\n",
       "  {'max_depth': 8, 'min_samples_leaf': 40},\n",
       "  {'max_depth': 8, 'min_samples_leaf': 50},\n",
       "  {'max_depth': 8, 'min_samples_leaf': 60},\n",
       "  {'max_depth': 8, 'min_samples_leaf': 70},\n",
       "  {'max_depth': 8, 'min_samples_leaf': 80},\n",
       "  {'max_depth': 8, 'min_samples_leaf': 90},\n",
       "  {'max_depth': 8, 'min_samples_leaf': 100},\n",
       "  {'max_depth': 9, 'min_samples_leaf': 10},\n",
       "  {'max_depth': 9, 'min_samples_leaf': 20},\n",
       "  {'max_depth': 9, 'min_samples_leaf': 30},\n",
       "  {'max_depth': 9, 'min_samples_leaf': 40},\n",
       "  {'max_depth': 9, 'min_samples_leaf': 50},\n",
       "  {'max_depth': 9, 'min_samples_leaf': 60},\n",
       "  {'max_depth': 9, 'min_samples_leaf': 70},\n",
       "  {'max_depth': 9, 'min_samples_leaf': 80},\n",
       "  {'max_depth': 9, 'min_samples_leaf': 90},\n",
       "  {'max_depth': 9, 'min_samples_leaf': 100},\n",
       "  {'max_depth': 10, 'min_samples_leaf': 10},\n",
       "  {'max_depth': 10, 'min_samples_leaf': 20},\n",
       "  {'max_depth': 10, 'min_samples_leaf': 30},\n",
       "  {'max_depth': 10, 'min_samples_leaf': 40},\n",
       "  {'max_depth': 10, 'min_samples_leaf': 50},\n",
       "  {'max_depth': 10, 'min_samples_leaf': 60},\n",
       "  {'max_depth': 10, 'min_samples_leaf': 70},\n",
       "  {'max_depth': 10, 'min_samples_leaf': 80},\n",
       "  {'max_depth': 10, 'min_samples_leaf': 90},\n",
       "  {'max_depth': 10, 'min_samples_leaf': 100}],\n",
       " 'split0_test_score': array([0.64285714, 0.64285714, 0.64285714, 0.64285714, 0.64285714,\n",
       "        0.64285714, 0.64285714, 0.64285714, 0.64285714, 0.64285714,\n",
       "        0.66571429, 0.66571429, 0.66571429, 0.66571429, 0.66571429,\n",
       "        0.66571429, 0.66571429, 0.66571429, 0.66571429, 0.66571429,\n",
       "        0.70285714, 0.70285714, 0.70285714, 0.70285714, 0.70285714,\n",
       "        0.70285714, 0.70285714, 0.70285714, 0.70285714, 0.70285714,\n",
       "        0.70571429, 0.7       , 0.70285714, 0.70285714, 0.70285714,\n",
       "        0.70285714, 0.70285714, 0.70285714, 0.70285714, 0.70285714,\n",
       "        0.70428571, 0.71857143, 0.72714286, 0.72142857, 0.72142857,\n",
       "        0.72142857, 0.72142857, 0.72142857, 0.72142857, 0.72142857,\n",
       "        0.72142857, 0.72      , 0.72857143, 0.70857143, 0.70857143,\n",
       "        0.70857143, 0.70857143, 0.72142857, 0.72142857, 0.72142857,\n",
       "        0.71142857, 0.71571429, 0.73428571, 0.71428571, 0.70857143,\n",
       "        0.70857143, 0.71571429, 0.72857143, 0.72142857, 0.72142857,\n",
       "        0.70428571, 0.72285714, 0.73142857, 0.71285714, 0.70714286,\n",
       "        0.70857143, 0.71571429, 0.72857143, 0.72142857, 0.72142857,\n",
       "        0.68142857, 0.71      , 0.73428571, 0.71285714, 0.70714286,\n",
       "        0.70857143, 0.71571429, 0.72857143, 0.72142857, 0.72142857,\n",
       "        0.67      , 0.71285714, 0.73428571, 0.71285714, 0.70714286,\n",
       "        0.70857143, 0.71571429, 0.72857143, 0.72142857, 0.72142857]),\n",
       " 'split1_test_score': array([0.61571429, 0.61571429, 0.61571429, 0.61571429, 0.61571429,\n",
       "        0.61571429, 0.61571429, 0.61571429, 0.61571429, 0.61571429,\n",
       "        0.65857143, 0.65857143, 0.65857143, 0.65857143, 0.65857143,\n",
       "        0.65857143, 0.65857143, 0.65857143, 0.65857143, 0.65857143,\n",
       "        0.69285714, 0.69714286, 0.69714286, 0.69714286, 0.69714286,\n",
       "        0.69714286, 0.69714286, 0.69714286, 0.69714286, 0.69714286,\n",
       "        0.69      , 0.69285714, 0.69285714, 0.69285714, 0.69142857,\n",
       "        0.69142857, 0.69142857, 0.69142857, 0.70285714, 0.69428571,\n",
       "        0.68571429, 0.68      , 0.68571429, 0.69142857, 0.68285714,\n",
       "        0.68      , 0.68      , 0.68      , 0.69142857, 0.68285714,\n",
       "        0.67428571, 0.68142857, 0.69142857, 0.69142857, 0.67571429,\n",
       "        0.67571429, 0.67571429, 0.67571429, 0.68428571, 0.67857143,\n",
       "        0.68      , 0.67857143, 0.70571429, 0.70428571, 0.68      ,\n",
       "        0.67571429, 0.67571429, 0.67571429, 0.68428571, 0.67857143,\n",
       "        0.66571429, 0.67428571, 0.69142857, 0.69571429, 0.68      ,\n",
       "        0.67571429, 0.67571429, 0.67571429, 0.68428571, 0.67857143,\n",
       "        0.66714286, 0.67142857, 0.69142857, 0.69571429, 0.68      ,\n",
       "        0.67571429, 0.67571429, 0.67571429, 0.68428571, 0.67857143,\n",
       "        0.65857143, 0.67857143, 0.69      , 0.69571429, 0.68      ,\n",
       "        0.67571429, 0.67571429, 0.67571429, 0.68428571, 0.67857143]),\n",
       " 'split2_test_score': array([0.60142857, 0.60142857, 0.60142857, 0.60142857, 0.60142857,\n",
       "        0.60142857, 0.60142857, 0.60142857, 0.60142857, 0.60142857,\n",
       "        0.65428571, 0.65428571, 0.65428571, 0.65428571, 0.65428571,\n",
       "        0.65428571, 0.65428571, 0.65428571, 0.65428571, 0.65428571,\n",
       "        0.68      , 0.68      , 0.68      , 0.68      , 0.68      ,\n",
       "        0.68      , 0.68      , 0.68      , 0.68      , 0.69      ,\n",
       "        0.67428571, 0.67285714, 0.67142857, 0.67142857, 0.67142857,\n",
       "        0.67142857, 0.67571429, 0.67142857, 0.68      , 0.67714286,\n",
       "        0.66714286, 0.67571429, 0.67857143, 0.67285714, 0.67285714,\n",
       "        0.68      , 0.67285714, 0.66857143, 0.67714286, 0.67428571,\n",
       "        0.67285714, 0.67428571, 0.67571429, 0.67285714, 0.67857143,\n",
       "        0.68428571, 0.67857143, 0.67428571, 0.69      , 0.68142857,\n",
       "        0.65714286, 0.67571429, 0.67714286, 0.67714286, 0.68142857,\n",
       "        0.68714286, 0.67857143, 0.67428571, 0.69      , 0.68142857,\n",
       "        0.65428571, 0.67571429, 0.67285714, 0.68428571, 0.69285714,\n",
       "        0.68714286, 0.67857143, 0.67428571, 0.69      , 0.68142857,\n",
       "        0.65571429, 0.68428571, 0.68142857, 0.67714286, 0.68142857,\n",
       "        0.68714286, 0.67857143, 0.67428571, 0.69      , 0.68142857,\n",
       "        0.65714286, 0.67428571, 0.67285714, 0.67714286, 0.68714286,\n",
       "        0.68714286, 0.67857143, 0.67428571, 0.69      , 0.68142857]),\n",
       " 'split3_test_score': array([0.59714286, 0.59714286, 0.59714286, 0.59714286, 0.59714286,\n",
       "        0.59714286, 0.59714286, 0.59714286, 0.59714286, 0.59714286,\n",
       "        0.67285714, 0.67285714, 0.67285714, 0.67285714, 0.67285714,\n",
       "        0.67285714, 0.67285714, 0.67285714, 0.67285714, 0.67285714,\n",
       "        0.69428571, 0.69428571, 0.69428571, 0.69428571, 0.69428571,\n",
       "        0.69428571, 0.69428571, 0.69428571, 0.69428571, 0.69428571,\n",
       "        0.68857143, 0.68714286, 0.69      , 0.68857143, 0.68857143,\n",
       "        0.68714286, 0.70142857, 0.70857143, 0.70857143, 0.70142857,\n",
       "        0.68142857, 0.69285714, 0.69571429, 0.69428571, 0.68571429,\n",
       "        0.67857143, 0.69857143, 0.70428571, 0.70428571, 0.69714286,\n",
       "        0.65285714, 0.65857143, 0.67      , 0.67571429, 0.69285714,\n",
       "        0.68571429, 0.70571429, 0.70428571, 0.70428571, 0.69714286,\n",
       "        0.66714286, 0.69571429, 0.71      , 0.69857143, 0.68571429,\n",
       "        0.67571429, 0.69571429, 0.7       , 0.70285714, 0.69714286,\n",
       "        0.66571429, 0.69142857, 0.7       , 0.69142857, 0.68571429,\n",
       "        0.67571429, 0.69571429, 0.7       , 0.70285714, 0.69714286,\n",
       "        0.66857143, 0.69142857, 0.71142857, 0.68714286, 0.68571429,\n",
       "        0.67571429, 0.69571429, 0.7       , 0.70285714, 0.69714286,\n",
       "        0.66571429, 0.69285714, 0.71428571, 0.68142857, 0.68571429,\n",
       "        0.67571429, 0.69571429, 0.7       , 0.70285714, 0.69714286]),\n",
       " 'split4_test_score': array([0.61285714, 0.61285714, 0.61285714, 0.61285714, 0.61285714,\n",
       "        0.61285714, 0.61285714, 0.61285714, 0.61285714, 0.61285714,\n",
       "        0.65571429, 0.65571429, 0.65571429, 0.65571429, 0.65571429,\n",
       "        0.65571429, 0.65571429, 0.65571429, 0.65571429, 0.65571429,\n",
       "        0.69      , 0.69142857, 0.69142857, 0.69142857, 0.69142857,\n",
       "        0.69142857, 0.69142857, 0.69142857, 0.69142857, 0.69142857,\n",
       "        0.68857143, 0.69      , 0.69      , 0.69285714, 0.69285714,\n",
       "        0.69285714, 0.69285714, 0.69285714, 0.69285714, 0.69      ,\n",
       "        0.69142857, 0.69714286, 0.68857143, 0.68571429, 0.68      ,\n",
       "        0.68      , 0.68      , 0.68      , 0.69428571, 0.69142857,\n",
       "        0.67285714, 0.68714286, 0.67      , 0.68428571, 0.7       ,\n",
       "        0.68285714, 0.68857143, 0.67285714, 0.67857143, 0.68285714,\n",
       "        0.65571429, 0.67571429, 0.67428571, 0.68714286, 0.69285714,\n",
       "        0.68285714, 0.68428571, 0.67714286, 0.67857143, 0.68285714,\n",
       "        0.65      , 0.67571429, 0.67428571, 0.68571429, 0.69571429,\n",
       "        0.68571429, 0.68428571, 0.67285714, 0.67857143, 0.68285714,\n",
       "        0.64857143, 0.67285714, 0.67285714, 0.68571429, 0.69571429,\n",
       "        0.68571429, 0.68428571, 0.67285714, 0.67857143, 0.68285714,\n",
       "        0.63714286, 0.66428571, 0.67285714, 0.68571429, 0.69571429,\n",
       "        0.68571429, 0.68428571, 0.67285714, 0.67857143, 0.68285714]),\n",
       " 'mean_test_score': array([0.614     , 0.614     , 0.614     , 0.614     , 0.614     ,\n",
       "        0.614     , 0.614     , 0.614     , 0.614     , 0.614     ,\n",
       "        0.66142857, 0.66142857, 0.66142857, 0.66142857, 0.66142857,\n",
       "        0.66142857, 0.66142857, 0.66142857, 0.66142857, 0.66142857,\n",
       "        0.692     , 0.69314286, 0.69314286, 0.69314286, 0.69314286,\n",
       "        0.69314286, 0.69314286, 0.69314286, 0.69314286, 0.69514286,\n",
       "        0.68942857, 0.68857143, 0.68942857, 0.68971429, 0.68942857,\n",
       "        0.68914286, 0.69285714, 0.69342857, 0.69742857, 0.69314286,\n",
       "        0.686     , 0.69285714, 0.69514286, 0.69314286, 0.68857143,\n",
       "        0.688     , 0.69057143, 0.69085714, 0.69771429, 0.69342857,\n",
       "        0.67885714, 0.68428571, 0.68714286, 0.68657143, 0.69114286,\n",
       "        0.68742857, 0.69142857, 0.68971429, 0.69571429, 0.69228571,\n",
       "        0.67428571, 0.68828571, 0.70028571, 0.69628571, 0.68971429,\n",
       "        0.686     , 0.69      , 0.69114286, 0.69542857, 0.69228571,\n",
       "        0.668     , 0.688     , 0.694     , 0.694     , 0.69228571,\n",
       "        0.68657143, 0.69      , 0.69028571, 0.69542857, 0.69228571,\n",
       "        0.66428571, 0.686     , 0.69828571, 0.69171429, 0.69      ,\n",
       "        0.68657143, 0.69      , 0.69028571, 0.69542857, 0.69228571,\n",
       "        0.65771429, 0.68457143, 0.69685714, 0.69057143, 0.69114286,\n",
       "        0.68657143, 0.69      , 0.69028571, 0.69542857, 0.69228571]),\n",
       " 'std_test_score': array([0.0159949 , 0.0159949 , 0.0159949 , 0.0159949 , 0.0159949 ,\n",
       "        0.0159949 , 0.0159949 , 0.0159949 , 0.0159949 , 0.0159949 ,\n",
       "        0.00693998, 0.00693998, 0.00693998, 0.00693998, 0.00693998,\n",
       "        0.00693998, 0.00693998, 0.00693998, 0.00693998, 0.00693998,\n",
       "        0.00737342, 0.00758086, 0.00758086, 0.00758086, 0.00758086,\n",
       "        0.00758086, 0.00758086, 0.00758086, 0.00758086, 0.00457143,\n",
       "        0.0099632 , 0.00894427, 0.01016597, 0.01027777, 0.01020604,\n",
       "        0.01024595, 0.00968904, 0.01270063, 0.01007725, 0.00927582,\n",
       "        0.01216888, 0.01509156, 0.01691757, 0.01594378, 0.01697537,\n",
       "        0.01672344, 0.01762651, 0.01922159, 0.01469694, 0.016     ,\n",
       "        0.02272102, 0.02026357, 0.02214977, 0.01279668, 0.0124998 ,\n",
       "        0.01111719, 0.01355262, 0.01967906, 0.01543915, 0.01592329,\n",
       "        0.02050386, 0.01560743, 0.02232231, 0.01298665, 0.01043542,\n",
       "        0.01210161, 0.01456863, 0.0209645 , 0.01529039, 0.01592329,\n",
       "        0.01917907, 0.01852962, 0.02135033, 0.01027777, 0.00924055,\n",
       "        0.0120068 , 0.01456863, 0.02159743, 0.01529039, 0.01592329,\n",
       "        0.01132092, 0.01409588, 0.02212026, 0.01210161, 0.01018202,\n",
       "        0.0120068 , 0.01456863, 0.02159743, 0.01529039, 0.01592329,\n",
       "        0.01130649, 0.01686441, 0.02409844, 0.01273273, 0.00945019,\n",
       "        0.0120068 , 0.01456863, 0.02159743, 0.01529039, 0.01592329]),\n",
       " 'rank_test_score': array([91, 91, 91, 91, 91, 91, 91, 91, 91, 91, 80, 80, 80, 80, 80, 80, 80,\n",
       "        80, 80, 80, 36, 18, 18, 18, 18, 18, 18, 18, 18, 13, 56, 61, 56, 53,\n",
       "        58, 59, 28, 16,  4, 18, 71, 28, 12, 27, 60, 63, 43, 42,  3, 16, 76,\n",
       "        75, 66, 67, 39, 65, 38, 53,  7, 31, 77, 62,  1,  6, 53, 71, 48, 40,\n",
       "         8, 31, 78, 63, 14, 14, 30, 67, 48, 45,  8, 31, 79, 73,  2, 37, 48,\n",
       "        67, 48, 45,  8, 31, 90, 74,  5, 43, 40, 67, 48, 45,  8, 31])}"
      ]
     },
     "execution_count": 43,
     "metadata": {},
     "output_type": "execute_result"
    }
   ],
   "source": [
    "model_gs2.cv_results_"
   ]
  },
  {
   "cell_type": "code",
   "execution_count": 44,
   "metadata": {
    "id": "FvzOJV_37kw_"
   },
   "outputs": [
    {
     "data": {
      "text/plain": [
       "[{'max_depth': 1, 'min_samples_leaf': 10},\n",
       " {'max_depth': 1, 'min_samples_leaf': 20},\n",
       " {'max_depth': 1, 'min_samples_leaf': 30},\n",
       " {'max_depth': 1, 'min_samples_leaf': 40},\n",
       " {'max_depth': 1, 'min_samples_leaf': 50},\n",
       " {'max_depth': 1, 'min_samples_leaf': 60},\n",
       " {'max_depth': 1, 'min_samples_leaf': 70},\n",
       " {'max_depth': 1, 'min_samples_leaf': 80},\n",
       " {'max_depth': 1, 'min_samples_leaf': 90},\n",
       " {'max_depth': 1, 'min_samples_leaf': 100},\n",
       " {'max_depth': 2, 'min_samples_leaf': 10},\n",
       " {'max_depth': 2, 'min_samples_leaf': 20},\n",
       " {'max_depth': 2, 'min_samples_leaf': 30},\n",
       " {'max_depth': 2, 'min_samples_leaf': 40},\n",
       " {'max_depth': 2, 'min_samples_leaf': 50},\n",
       " {'max_depth': 2, 'min_samples_leaf': 60},\n",
       " {'max_depth': 2, 'min_samples_leaf': 70},\n",
       " {'max_depth': 2, 'min_samples_leaf': 80},\n",
       " {'max_depth': 2, 'min_samples_leaf': 90},\n",
       " {'max_depth': 2, 'min_samples_leaf': 100},\n",
       " {'max_depth': 3, 'min_samples_leaf': 10},\n",
       " {'max_depth': 3, 'min_samples_leaf': 20},\n",
       " {'max_depth': 3, 'min_samples_leaf': 30},\n",
       " {'max_depth': 3, 'min_samples_leaf': 40},\n",
       " {'max_depth': 3, 'min_samples_leaf': 50},\n",
       " {'max_depth': 3, 'min_samples_leaf': 60},\n",
       " {'max_depth': 3, 'min_samples_leaf': 70},\n",
       " {'max_depth': 3, 'min_samples_leaf': 80},\n",
       " {'max_depth': 3, 'min_samples_leaf': 90},\n",
       " {'max_depth': 3, 'min_samples_leaf': 100},\n",
       " {'max_depth': 4, 'min_samples_leaf': 10},\n",
       " {'max_depth': 4, 'min_samples_leaf': 20},\n",
       " {'max_depth': 4, 'min_samples_leaf': 30},\n",
       " {'max_depth': 4, 'min_samples_leaf': 40},\n",
       " {'max_depth': 4, 'min_samples_leaf': 50},\n",
       " {'max_depth': 4, 'min_samples_leaf': 60},\n",
       " {'max_depth': 4, 'min_samples_leaf': 70},\n",
       " {'max_depth': 4, 'min_samples_leaf': 80},\n",
       " {'max_depth': 4, 'min_samples_leaf': 90},\n",
       " {'max_depth': 4, 'min_samples_leaf': 100},\n",
       " {'max_depth': 5, 'min_samples_leaf': 10},\n",
       " {'max_depth': 5, 'min_samples_leaf': 20},\n",
       " {'max_depth': 5, 'min_samples_leaf': 30},\n",
       " {'max_depth': 5, 'min_samples_leaf': 40},\n",
       " {'max_depth': 5, 'min_samples_leaf': 50},\n",
       " {'max_depth': 5, 'min_samples_leaf': 60},\n",
       " {'max_depth': 5, 'min_samples_leaf': 70},\n",
       " {'max_depth': 5, 'min_samples_leaf': 80},\n",
       " {'max_depth': 5, 'min_samples_leaf': 90},\n",
       " {'max_depth': 5, 'min_samples_leaf': 100},\n",
       " {'max_depth': 6, 'min_samples_leaf': 10},\n",
       " {'max_depth': 6, 'min_samples_leaf': 20},\n",
       " {'max_depth': 6, 'min_samples_leaf': 30},\n",
       " {'max_depth': 6, 'min_samples_leaf': 40},\n",
       " {'max_depth': 6, 'min_samples_leaf': 50},\n",
       " {'max_depth': 6, 'min_samples_leaf': 60},\n",
       " {'max_depth': 6, 'min_samples_leaf': 70},\n",
       " {'max_depth': 6, 'min_samples_leaf': 80},\n",
       " {'max_depth': 6, 'min_samples_leaf': 90},\n",
       " {'max_depth': 6, 'min_samples_leaf': 100},\n",
       " {'max_depth': 7, 'min_samples_leaf': 10},\n",
       " {'max_depth': 7, 'min_samples_leaf': 20},\n",
       " {'max_depth': 7, 'min_samples_leaf': 30},\n",
       " {'max_depth': 7, 'min_samples_leaf': 40},\n",
       " {'max_depth': 7, 'min_samples_leaf': 50},\n",
       " {'max_depth': 7, 'min_samples_leaf': 60},\n",
       " {'max_depth': 7, 'min_samples_leaf': 70},\n",
       " {'max_depth': 7, 'min_samples_leaf': 80},\n",
       " {'max_depth': 7, 'min_samples_leaf': 90},\n",
       " {'max_depth': 7, 'min_samples_leaf': 100},\n",
       " {'max_depth': 8, 'min_samples_leaf': 10},\n",
       " {'max_depth': 8, 'min_samples_leaf': 20},\n",
       " {'max_depth': 8, 'min_samples_leaf': 30},\n",
       " {'max_depth': 8, 'min_samples_leaf': 40},\n",
       " {'max_depth': 8, 'min_samples_leaf': 50},\n",
       " {'max_depth': 8, 'min_samples_leaf': 60},\n",
       " {'max_depth': 8, 'min_samples_leaf': 70},\n",
       " {'max_depth': 8, 'min_samples_leaf': 80},\n",
       " {'max_depth': 8, 'min_samples_leaf': 90},\n",
       " {'max_depth': 8, 'min_samples_leaf': 100},\n",
       " {'max_depth': 9, 'min_samples_leaf': 10},\n",
       " {'max_depth': 9, 'min_samples_leaf': 20},\n",
       " {'max_depth': 9, 'min_samples_leaf': 30},\n",
       " {'max_depth': 9, 'min_samples_leaf': 40},\n",
       " {'max_depth': 9, 'min_samples_leaf': 50},\n",
       " {'max_depth': 9, 'min_samples_leaf': 60},\n",
       " {'max_depth': 9, 'min_samples_leaf': 70},\n",
       " {'max_depth': 9, 'min_samples_leaf': 80},\n",
       " {'max_depth': 9, 'min_samples_leaf': 90},\n",
       " {'max_depth': 9, 'min_samples_leaf': 100},\n",
       " {'max_depth': 10, 'min_samples_leaf': 10},\n",
       " {'max_depth': 10, 'min_samples_leaf': 20},\n",
       " {'max_depth': 10, 'min_samples_leaf': 30},\n",
       " {'max_depth': 10, 'min_samples_leaf': 40},\n",
       " {'max_depth': 10, 'min_samples_leaf': 50},\n",
       " {'max_depth': 10, 'min_samples_leaf': 60},\n",
       " {'max_depth': 10, 'min_samples_leaf': 70},\n",
       " {'max_depth': 10, 'min_samples_leaf': 80},\n",
       " {'max_depth': 10, 'min_samples_leaf': 90},\n",
       " {'max_depth': 10, 'min_samples_leaf': 100}]"
      ]
     },
     "execution_count": 44,
     "metadata": {},
     "output_type": "execute_result"
    }
   ],
   "source": [
    "model_gs2.cv_results_['params']"
   ]
  },
  {
   "cell_type": "code",
   "execution_count": 45,
   "metadata": {
    "id": "OdolBuhy7kuL"
   },
   "outputs": [
    {
     "data": {
      "text/plain": [
       "array([0.614     , 0.614     , 0.614     , 0.614     , 0.614     ,\n",
       "       0.614     , 0.614     , 0.614     , 0.614     , 0.614     ,\n",
       "       0.66142857, 0.66142857, 0.66142857, 0.66142857, 0.66142857,\n",
       "       0.66142857, 0.66142857, 0.66142857, 0.66142857, 0.66142857,\n",
       "       0.692     , 0.69314286, 0.69314286, 0.69314286, 0.69314286,\n",
       "       0.69314286, 0.69314286, 0.69314286, 0.69314286, 0.69514286,\n",
       "       0.68942857, 0.68857143, 0.68942857, 0.68971429, 0.68942857,\n",
       "       0.68914286, 0.69285714, 0.69342857, 0.69742857, 0.69314286,\n",
       "       0.686     , 0.69285714, 0.69514286, 0.69314286, 0.68857143,\n",
       "       0.688     , 0.69057143, 0.69085714, 0.69771429, 0.69342857,\n",
       "       0.67885714, 0.68428571, 0.68714286, 0.68657143, 0.69114286,\n",
       "       0.68742857, 0.69142857, 0.68971429, 0.69571429, 0.69228571,\n",
       "       0.67428571, 0.68828571, 0.70028571, 0.69628571, 0.68971429,\n",
       "       0.686     , 0.69      , 0.69114286, 0.69542857, 0.69228571,\n",
       "       0.668     , 0.688     , 0.694     , 0.694     , 0.69228571,\n",
       "       0.68657143, 0.69      , 0.69028571, 0.69542857, 0.69228571,\n",
       "       0.66428571, 0.686     , 0.69828571, 0.69171429, 0.69      ,\n",
       "       0.68657143, 0.69      , 0.69028571, 0.69542857, 0.69228571,\n",
       "       0.65771429, 0.68457143, 0.69685714, 0.69057143, 0.69114286,\n",
       "       0.68657143, 0.69      , 0.69028571, 0.69542857, 0.69228571])"
      ]
     },
     "execution_count": 45,
     "metadata": {},
     "output_type": "execute_result"
    }
   ],
   "source": [
    "model_gs2.cv_results_['mean_test_score'] \n",
    "# mean_test_score : 5개 CV 세트에서 검증용 데이터 세트의 정확도 평균 수치"
   ]
  },
  {
   "cell_type": "code",
   "execution_count": 46,
   "metadata": {
    "id": "zwQfhIwt7krA"
   },
   "outputs": [
    {
     "data": {
      "text/plain": [
       "{'max_depth': 7, 'min_samples_leaf': 30}"
      ]
     },
     "execution_count": 46,
     "metadata": {},
     "output_type": "execute_result"
    }
   ],
   "source": [
    "model_gs2.best_params_"
   ]
  },
  {
   "cell_type": "code",
   "execution_count": 47,
   "metadata": {},
   "outputs": [
    {
     "data": {
      "text/plain": [
       "0.7002857142857143"
      ]
     },
     "execution_count": 47,
     "metadata": {},
     "output_type": "execute_result"
    }
   ],
   "source": [
    "model_gs2.best_score_"
   ]
  },
  {
   "cell_type": "code",
   "execution_count": 48,
   "metadata": {},
   "outputs": [],
   "source": [
    "pred_gs2 = model_gs2.predict(x_val)"
   ]
  },
  {
   "cell_type": "code",
   "execution_count": 53,
   "metadata": {},
   "outputs": [
    {
     "name": "stdout",
     "output_type": "stream",
     "text": [
      "[[517 221]\n",
      " [261 501]]\n"
     ]
    }
   ],
   "source": [
    "print(confusion_matrix(y_val, pred_gs2))"
   ]
  },
  {
   "cell_type": "code",
   "execution_count": 49,
   "metadata": {},
   "outputs": [
    {
     "name": "stdout",
     "output_type": "stream",
     "text": [
      "              precision    recall  f1-score   support\n",
      "\n",
      "           0       0.66      0.70      0.68       738\n",
      "           1       0.69      0.66      0.68       762\n",
      "\n",
      "    accuracy                           0.68      1500\n",
      "   macro avg       0.68      0.68      0.68      1500\n",
      "weighted avg       0.68      0.68      0.68      1500\n",
      "\n"
     ]
    }
   ],
   "source": [
    "print(classification_report(y_val, pred_gs2))\n",
    "\n",
    "# 왜 best_score_ 와 classification_report의 accuracy가 다르게 나올까?\n",
    "# train과 validation 데이터가 다르니까!\n",
    "\n",
    "# best_score_는 train 중 검증된 것 중 가장 성능이 좋은 것들\n",
    "# classification_report는 validation으로 predict 후 보여주는 거니까 best_score_과 값이 다를 수 있음\n",
    "\n",
    "# 차이가 많이 나는 것은 ? \n",
    "# 데이터가 잘 섞이지 않았거나 데이터가 너무 적어서 오차가 많이 나는 것들"
   ]
  }
 ],
 "metadata": {
  "colab": {
   "authorship_tag": "ABX9TyN6Prk/6koXd+7LqYkAnr0v",
   "collapsed_sections": [],
   "name": "08과 성능튜닝.ipynb",
   "provenance": [],
   "toc_visible": true
  },
  "kernelspec": {
   "display_name": "Python 3",
   "language": "python",
   "name": "python3"
  },
  "language_info": {
   "codemirror_mode": {
    "name": "ipython",
    "version": 3
   },
   "file_extension": ".py",
   "mimetype": "text/x-python",
   "name": "python",
   "nbconvert_exporter": "python",
   "pygments_lexer": "ipython3",
   "version": "3.8.8"
  }
 },
 "nbformat": 4,
 "nbformat_minor": 1
}
