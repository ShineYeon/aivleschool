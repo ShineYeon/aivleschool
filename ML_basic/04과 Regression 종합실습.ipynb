{
 "cells": [
  {
   "cell_type": "markdown",
   "metadata": {
    "id": "cVB9pY-v8uv5"
   },
   "source": [
    "# Regression 종합실습 : Car seat sales\n",
    "유아용 카시트 매출액을 예측해 봅시다."
   ]
  },
  {
   "cell_type": "markdown",
   "metadata": {
    "id": "QB2bBgnB8NM7"
   },
   "source": [
    "* 카시트에 대해서 지역 매장 별 매출액을 예측하고자 합니다."
   ]
  },
  {
   "cell_type": "markdown",
   "metadata": {
    "id": "7usNzsAVsGbi"
   },
   "source": [
    "![](https://cdn.images.express.co.uk/img/dynamic/24/590x/child-car-seat-986556.jpg?r=1532946857754)"
   ]
  },
  {
   "cell_type": "markdown",
   "metadata": {
    "id": "jnCv9u_Wy9e1"
   },
   "source": [
    "## 1.환경준비"
   ]
  },
  {
   "cell_type": "markdown",
   "metadata": {
    "id": "O1uL0UIEzBPw"
   },
   "source": [
    "### (1) Import"
   ]
  },
  {
   "cell_type": "code",
   "execution_count": 1,
   "metadata": {
    "id": "GVvCef6A8uv6"
   },
   "outputs": [],
   "source": [
    "#라이브러리들을 불러오자.\n",
    "import numpy as np\n",
    "import pandas as pd\n",
    "import matplotlib.pyplot as plt\n",
    "\n",
    "from sklearn.model_selection import train_test_split\n",
    "\n",
    "import warnings    # 경고메시지 제외\n",
    "warnings.filterwarnings(action='ignore')"
   ]
  },
  {
   "cell_type": "markdown",
   "metadata": {
    "id": "VHy5s1OOzItm"
   },
   "source": [
    "### (2) Data Loading"
   ]
  },
  {
   "cell_type": "code",
   "execution_count": 2,
   "metadata": {
    "id": "3GgFpOB4zQ7h"
   },
   "outputs": [],
   "source": [
    "data_path = 'https://raw.githubusercontent.com/DA4BAM/dataset/master/Carseats.csv'\n",
    "data = pd.read_csv(data_path)"
   ]
  },
  {
   "cell_type": "markdown",
   "metadata": {
    "id": "xMx9y0a0MBZ2"
   },
   "source": [
    "**변수설명**\n",
    "> * Sales - 각 지역 판매량(단위 : 1000개) <== Target\n",
    "* CompPrice - 각 지역 경쟁사 가격\n",
    "* Income - 각 지역 평균 소득수준(단위 : 1000달러)\n",
    "* Advertising - 각 지역, 회사의 광고 예산(단위 : 1000달러)\n",
    "* Population - 지역 인구수(단위 : 1000명)\n",
    "* Price - 자사 지역별 판매가격\n",
    "* ShelveLoc - 진열상태\n",
    "* Age - 지역 인구의 평균 연령\n",
    "* Education - 각 지역 교육수준 레벨\n",
    "* Urban - 매장 도시 지역 여부\n",
    "* US - 매장이 미국에 있는지 여부"
   ]
  },
  {
   "cell_type": "markdown",
   "metadata": {
    "id": "ZJOddHq2zfcU"
   },
   "source": [
    "## 2.데이터 이해"
   ]
  },
  {
   "cell_type": "markdown",
   "metadata": {
    "id": "Vqr7zY5r8uwC"
   },
   "source": [
    "* 둘러보기"
   ]
  },
  {
   "cell_type": "code",
   "execution_count": 3,
   "metadata": {
    "id": "E64acu1xPqLU"
   },
   "outputs": [
    {
     "data": {
      "text/html": [
       "<div>\n",
       "<style scoped>\n",
       "    .dataframe tbody tr th:only-of-type {\n",
       "        vertical-align: middle;\n",
       "    }\n",
       "\n",
       "    .dataframe tbody tr th {\n",
       "        vertical-align: top;\n",
       "    }\n",
       "\n",
       "    .dataframe thead th {\n",
       "        text-align: right;\n",
       "    }\n",
       "</style>\n",
       "<table border=\"1\" class=\"dataframe\">\n",
       "  <thead>\n",
       "    <tr style=\"text-align: right;\">\n",
       "      <th></th>\n",
       "      <th>Sales</th>\n",
       "      <th>CompPrice</th>\n",
       "      <th>Income</th>\n",
       "      <th>Advertising</th>\n",
       "      <th>Population</th>\n",
       "      <th>Price</th>\n",
       "      <th>ShelveLoc</th>\n",
       "      <th>Age</th>\n",
       "      <th>Education</th>\n",
       "      <th>Urban</th>\n",
       "      <th>US</th>\n",
       "    </tr>\n",
       "  </thead>\n",
       "  <tbody>\n",
       "    <tr>\n",
       "      <th>0</th>\n",
       "      <td>9.50</td>\n",
       "      <td>138</td>\n",
       "      <td>73</td>\n",
       "      <td>11</td>\n",
       "      <td>276</td>\n",
       "      <td>120</td>\n",
       "      <td>Bad</td>\n",
       "      <td>42</td>\n",
       "      <td>17</td>\n",
       "      <td>Yes</td>\n",
       "      <td>Yes</td>\n",
       "    </tr>\n",
       "    <tr>\n",
       "      <th>1</th>\n",
       "      <td>11.22</td>\n",
       "      <td>111</td>\n",
       "      <td>48</td>\n",
       "      <td>16</td>\n",
       "      <td>260</td>\n",
       "      <td>83</td>\n",
       "      <td>Good</td>\n",
       "      <td>65</td>\n",
       "      <td>10</td>\n",
       "      <td>Yes</td>\n",
       "      <td>Yes</td>\n",
       "    </tr>\n",
       "    <tr>\n",
       "      <th>2</th>\n",
       "      <td>10.06</td>\n",
       "      <td>113</td>\n",
       "      <td>35</td>\n",
       "      <td>10</td>\n",
       "      <td>269</td>\n",
       "      <td>80</td>\n",
       "      <td>Medium</td>\n",
       "      <td>59</td>\n",
       "      <td>12</td>\n",
       "      <td>Yes</td>\n",
       "      <td>Yes</td>\n",
       "    </tr>\n",
       "    <tr>\n",
       "      <th>3</th>\n",
       "      <td>7.40</td>\n",
       "      <td>117</td>\n",
       "      <td>100</td>\n",
       "      <td>4</td>\n",
       "      <td>466</td>\n",
       "      <td>97</td>\n",
       "      <td>Medium</td>\n",
       "      <td>55</td>\n",
       "      <td>14</td>\n",
       "      <td>Yes</td>\n",
       "      <td>Yes</td>\n",
       "    </tr>\n",
       "    <tr>\n",
       "      <th>4</th>\n",
       "      <td>4.15</td>\n",
       "      <td>141</td>\n",
       "      <td>64</td>\n",
       "      <td>3</td>\n",
       "      <td>340</td>\n",
       "      <td>128</td>\n",
       "      <td>Bad</td>\n",
       "      <td>38</td>\n",
       "      <td>13</td>\n",
       "      <td>Yes</td>\n",
       "      <td>No</td>\n",
       "    </tr>\n",
       "  </tbody>\n",
       "</table>\n",
       "</div>"
      ],
      "text/plain": [
       "   Sales  CompPrice  Income  Advertising  Population  Price ShelveLoc  Age  \\\n",
       "0   9.50        138      73           11         276    120       Bad   42   \n",
       "1  11.22        111      48           16         260     83      Good   65   \n",
       "2  10.06        113      35           10         269     80    Medium   59   \n",
       "3   7.40        117     100            4         466     97    Medium   55   \n",
       "4   4.15        141      64            3         340    128       Bad   38   \n",
       "\n",
       "   Education Urban   US  \n",
       "0         17   Yes  Yes  \n",
       "1         10   Yes  Yes  \n",
       "2         12   Yes  Yes  \n",
       "3         14   Yes  Yes  \n",
       "4         13   Yes   No  "
      ]
     },
     "execution_count": 3,
     "metadata": {},
     "output_type": "execute_result"
    }
   ],
   "source": [
    "data.head()"
   ]
  },
  {
   "cell_type": "markdown",
   "metadata": {
    "id": "wW0d0eGmCYJM"
   },
   "source": [
    "## 3.데이터 준비"
   ]
  },
  {
   "cell_type": "markdown",
   "metadata": {
    "id": "y9Q6jR6OZjUk"
   },
   "source": [
    "### (1) 데이터 정리"
   ]
  },
  {
   "cell_type": "markdown",
   "metadata": {
    "id": "WpJEGpUuuVWm"
   },
   "source": [
    "### (2) 데이터분할1 : x, y 나누기"
   ]
  },
  {
   "cell_type": "code",
   "execution_count": 5,
   "metadata": {
    "id": "N-4Msv8VsQ3R"
   },
   "outputs": [],
   "source": [
    "target = 'Sales'\n",
    "x = data.drop([target], axis=1)"
   ]
  },
  {
   "cell_type": "code",
   "execution_count": 12,
   "metadata": {},
   "outputs": [
    {
     "data": {
      "text/html": [
       "<div>\n",
       "<style scoped>\n",
       "    .dataframe tbody tr th:only-of-type {\n",
       "        vertical-align: middle;\n",
       "    }\n",
       "\n",
       "    .dataframe tbody tr th {\n",
       "        vertical-align: top;\n",
       "    }\n",
       "\n",
       "    .dataframe thead th {\n",
       "        text-align: right;\n",
       "    }\n",
       "</style>\n",
       "<table border=\"1\" class=\"dataframe\">\n",
       "  <thead>\n",
       "    <tr style=\"text-align: right;\">\n",
       "      <th></th>\n",
       "      <th>Sales</th>\n",
       "    </tr>\n",
       "  </thead>\n",
       "  <tbody>\n",
       "    <tr>\n",
       "      <th>0</th>\n",
       "      <td>9.50</td>\n",
       "    </tr>\n",
       "    <tr>\n",
       "      <th>1</th>\n",
       "      <td>11.22</td>\n",
       "    </tr>\n",
       "    <tr>\n",
       "      <th>2</th>\n",
       "      <td>10.06</td>\n",
       "    </tr>\n",
       "    <tr>\n",
       "      <th>3</th>\n",
       "      <td>7.40</td>\n",
       "    </tr>\n",
       "    <tr>\n",
       "      <th>4</th>\n",
       "      <td>4.15</td>\n",
       "    </tr>\n",
       "    <tr>\n",
       "      <th>...</th>\n",
       "      <td>...</td>\n",
       "    </tr>\n",
       "    <tr>\n",
       "      <th>395</th>\n",
       "      <td>12.57</td>\n",
       "    </tr>\n",
       "    <tr>\n",
       "      <th>396</th>\n",
       "      <td>6.14</td>\n",
       "    </tr>\n",
       "    <tr>\n",
       "      <th>397</th>\n",
       "      <td>7.41</td>\n",
       "    </tr>\n",
       "    <tr>\n",
       "      <th>398</th>\n",
       "      <td>5.94</td>\n",
       "    </tr>\n",
       "    <tr>\n",
       "      <th>399</th>\n",
       "      <td>9.71</td>\n",
       "    </tr>\n",
       "  </tbody>\n",
       "</table>\n",
       "<p>400 rows × 1 columns</p>\n",
       "</div>"
      ],
      "text/plain": [
       "     Sales\n",
       "0     9.50\n",
       "1    11.22\n",
       "2    10.06\n",
       "3     7.40\n",
       "4     4.15\n",
       "..     ...\n",
       "395  12.57\n",
       "396   6.14\n",
       "397   7.41\n",
       "398   5.94\n",
       "399   9.71\n",
       "\n",
       "[400 rows x 1 columns]"
      ]
     },
     "execution_count": 12,
     "metadata": {},
     "output_type": "execute_result"
    }
   ],
   "source": [
    "y = data.loc[:, [target]]\n",
    "y"
   ]
  },
  {
   "cell_type": "markdown",
   "metadata": {
    "id": "mp_5volyuaA1"
   },
   "source": [
    "### (3) NA 조치"
   ]
  },
  {
   "cell_type": "code",
   "execution_count": 14,
   "metadata": {},
   "outputs": [
    {
     "data": {
      "text/plain": [
       "CompPrice      0\n",
       "Income         0\n",
       "Advertising    0\n",
       "Population     0\n",
       "Price          0\n",
       "ShelveLoc      0\n",
       "Age            0\n",
       "Education      0\n",
       "Urban          0\n",
       "US             0\n",
       "dtype: int64"
      ]
     },
     "execution_count": 14,
     "metadata": {},
     "output_type": "execute_result"
    }
   ],
   "source": [
    "x.isna().sum()"
   ]
  },
  {
   "cell_type": "code",
   "execution_count": 15,
   "metadata": {},
   "outputs": [
    {
     "data": {
      "text/plain": [
       "Sales    0\n",
       "dtype: int64"
      ]
     },
     "execution_count": 15,
     "metadata": {},
     "output_type": "execute_result"
    }
   ],
   "source": [
    "y.isna().sum()"
   ]
  },
  {
   "cell_type": "markdown",
   "metadata": {
    "id": "nOF9fSLQugGf"
   },
   "source": [
    "### (4) 가변수화"
   ]
  },
  {
   "cell_type": "code",
   "execution_count": 17,
   "metadata": {
    "id": "CZgBC2QSoKc8"
   },
   "outputs": [],
   "source": [
    "cols = ['ShelveLoc', 'Urban', 'US']"
   ]
  },
  {
   "cell_type": "code",
   "execution_count": 25,
   "metadata": {},
   "outputs": [],
   "source": [
    "x = pd.get_dummies(data=x, columns=cols, drop_first=True)"
   ]
  },
  {
   "cell_type": "code",
   "execution_count": 26,
   "metadata": {},
   "outputs": [
    {
     "data": {
      "text/html": [
       "<div>\n",
       "<style scoped>\n",
       "    .dataframe tbody tr th:only-of-type {\n",
       "        vertical-align: middle;\n",
       "    }\n",
       "\n",
       "    .dataframe tbody tr th {\n",
       "        vertical-align: top;\n",
       "    }\n",
       "\n",
       "    .dataframe thead th {\n",
       "        text-align: right;\n",
       "    }\n",
       "</style>\n",
       "<table border=\"1\" class=\"dataframe\">\n",
       "  <thead>\n",
       "    <tr style=\"text-align: right;\">\n",
       "      <th></th>\n",
       "      <th>CompPrice</th>\n",
       "      <th>Income</th>\n",
       "      <th>Advertising</th>\n",
       "      <th>Population</th>\n",
       "      <th>Price</th>\n",
       "      <th>Age</th>\n",
       "      <th>Education</th>\n",
       "      <th>ShelveLoc_Good</th>\n",
       "      <th>ShelveLoc_Medium</th>\n",
       "      <th>Urban_Yes</th>\n",
       "      <th>US_Yes</th>\n",
       "    </tr>\n",
       "  </thead>\n",
       "  <tbody>\n",
       "    <tr>\n",
       "      <th>0</th>\n",
       "      <td>138</td>\n",
       "      <td>73</td>\n",
       "      <td>11</td>\n",
       "      <td>276</td>\n",
       "      <td>120</td>\n",
       "      <td>42</td>\n",
       "      <td>17</td>\n",
       "      <td>0</td>\n",
       "      <td>0</td>\n",
       "      <td>1</td>\n",
       "      <td>1</td>\n",
       "    </tr>\n",
       "    <tr>\n",
       "      <th>1</th>\n",
       "      <td>111</td>\n",
       "      <td>48</td>\n",
       "      <td>16</td>\n",
       "      <td>260</td>\n",
       "      <td>83</td>\n",
       "      <td>65</td>\n",
       "      <td>10</td>\n",
       "      <td>1</td>\n",
       "      <td>0</td>\n",
       "      <td>1</td>\n",
       "      <td>1</td>\n",
       "    </tr>\n",
       "    <tr>\n",
       "      <th>2</th>\n",
       "      <td>113</td>\n",
       "      <td>35</td>\n",
       "      <td>10</td>\n",
       "      <td>269</td>\n",
       "      <td>80</td>\n",
       "      <td>59</td>\n",
       "      <td>12</td>\n",
       "      <td>0</td>\n",
       "      <td>1</td>\n",
       "      <td>1</td>\n",
       "      <td>1</td>\n",
       "    </tr>\n",
       "    <tr>\n",
       "      <th>3</th>\n",
       "      <td>117</td>\n",
       "      <td>100</td>\n",
       "      <td>4</td>\n",
       "      <td>466</td>\n",
       "      <td>97</td>\n",
       "      <td>55</td>\n",
       "      <td>14</td>\n",
       "      <td>0</td>\n",
       "      <td>1</td>\n",
       "      <td>1</td>\n",
       "      <td>1</td>\n",
       "    </tr>\n",
       "    <tr>\n",
       "      <th>4</th>\n",
       "      <td>141</td>\n",
       "      <td>64</td>\n",
       "      <td>3</td>\n",
       "      <td>340</td>\n",
       "      <td>128</td>\n",
       "      <td>38</td>\n",
       "      <td>13</td>\n",
       "      <td>0</td>\n",
       "      <td>0</td>\n",
       "      <td>1</td>\n",
       "      <td>0</td>\n",
       "    </tr>\n",
       "    <tr>\n",
       "      <th>...</th>\n",
       "      <td>...</td>\n",
       "      <td>...</td>\n",
       "      <td>...</td>\n",
       "      <td>...</td>\n",
       "      <td>...</td>\n",
       "      <td>...</td>\n",
       "      <td>...</td>\n",
       "      <td>...</td>\n",
       "      <td>...</td>\n",
       "      <td>...</td>\n",
       "      <td>...</td>\n",
       "    </tr>\n",
       "    <tr>\n",
       "      <th>395</th>\n",
       "      <td>138</td>\n",
       "      <td>108</td>\n",
       "      <td>17</td>\n",
       "      <td>203</td>\n",
       "      <td>128</td>\n",
       "      <td>33</td>\n",
       "      <td>14</td>\n",
       "      <td>1</td>\n",
       "      <td>0</td>\n",
       "      <td>1</td>\n",
       "      <td>1</td>\n",
       "    </tr>\n",
       "    <tr>\n",
       "      <th>396</th>\n",
       "      <td>139</td>\n",
       "      <td>23</td>\n",
       "      <td>3</td>\n",
       "      <td>37</td>\n",
       "      <td>120</td>\n",
       "      <td>55</td>\n",
       "      <td>11</td>\n",
       "      <td>0</td>\n",
       "      <td>1</td>\n",
       "      <td>0</td>\n",
       "      <td>1</td>\n",
       "    </tr>\n",
       "    <tr>\n",
       "      <th>397</th>\n",
       "      <td>162</td>\n",
       "      <td>26</td>\n",
       "      <td>12</td>\n",
       "      <td>368</td>\n",
       "      <td>159</td>\n",
       "      <td>40</td>\n",
       "      <td>18</td>\n",
       "      <td>0</td>\n",
       "      <td>1</td>\n",
       "      <td>1</td>\n",
       "      <td>1</td>\n",
       "    </tr>\n",
       "    <tr>\n",
       "      <th>398</th>\n",
       "      <td>100</td>\n",
       "      <td>79</td>\n",
       "      <td>7</td>\n",
       "      <td>284</td>\n",
       "      <td>95</td>\n",
       "      <td>50</td>\n",
       "      <td>12</td>\n",
       "      <td>0</td>\n",
       "      <td>0</td>\n",
       "      <td>1</td>\n",
       "      <td>1</td>\n",
       "    </tr>\n",
       "    <tr>\n",
       "      <th>399</th>\n",
       "      <td>134</td>\n",
       "      <td>37</td>\n",
       "      <td>0</td>\n",
       "      <td>27</td>\n",
       "      <td>120</td>\n",
       "      <td>49</td>\n",
       "      <td>16</td>\n",
       "      <td>1</td>\n",
       "      <td>0</td>\n",
       "      <td>1</td>\n",
       "      <td>1</td>\n",
       "    </tr>\n",
       "  </tbody>\n",
       "</table>\n",
       "<p>400 rows × 11 columns</p>\n",
       "</div>"
      ],
      "text/plain": [
       "     CompPrice  Income  Advertising  Population  Price  Age  Education  \\\n",
       "0          138      73           11         276    120   42         17   \n",
       "1          111      48           16         260     83   65         10   \n",
       "2          113      35           10         269     80   59         12   \n",
       "3          117     100            4         466     97   55         14   \n",
       "4          141      64            3         340    128   38         13   \n",
       "..         ...     ...          ...         ...    ...  ...        ...   \n",
       "395        138     108           17         203    128   33         14   \n",
       "396        139      23            3          37    120   55         11   \n",
       "397        162      26           12         368    159   40         18   \n",
       "398        100      79            7         284     95   50         12   \n",
       "399        134      37            0          27    120   49         16   \n",
       "\n",
       "     ShelveLoc_Good  ShelveLoc_Medium  Urban_Yes  US_Yes  \n",
       "0                 0                 0          1       1  \n",
       "1                 1                 0          1       1  \n",
       "2                 0                 1          1       1  \n",
       "3                 0                 1          1       1  \n",
       "4                 0                 0          1       0  \n",
       "..              ...               ...        ...     ...  \n",
       "395               1                 0          1       1  \n",
       "396               0                 1          0       1  \n",
       "397               0                 1          1       1  \n",
       "398               0                 0          1       1  \n",
       "399               1                 0          1       1  \n",
       "\n",
       "[400 rows x 11 columns]"
      ]
     },
     "execution_count": 26,
     "metadata": {},
     "output_type": "execute_result"
    }
   ],
   "source": [
    "x"
   ]
  },
  {
   "cell_type": "markdown",
   "metadata": {
    "id": "VBwpOKgkf5Am"
   },
   "source": [
    "### (5) 데이터분할2 : train : validation 나누기"
   ]
  },
  {
   "cell_type": "code",
   "execution_count": 27,
   "metadata": {
    "id": "1iHmTnHCgBw5"
   },
   "outputs": [],
   "source": [
    "x_train, x_val, y_train, y_val = train_test_split(x, y, test_size=0.3)"
   ]
  },
  {
   "cell_type": "markdown",
   "metadata": {
    "id": "59bBv0a8heYh"
   },
   "source": [
    "### (6) Scaling\n",
    "KNN 알고리즘을 적용하기 위해서는 스케일링을 해야 합니다."
   ]
  },
  {
   "cell_type": "code",
   "execution_count": 30,
   "metadata": {
    "id": "RuDcjwhwSo5y"
   },
   "outputs": [],
   "source": [
    "# minmax scale\n",
    "from sklearn.preprocessing import MinMaxScaler\n",
    "scaler = MinMaxScaler()\n",
    "\n",
    "x_train_minmax = scaler.fit_transform(x_train)\n",
    "x_val_minmax = scaler.transform(x_val)"
   ]
  },
  {
   "cell_type": "code",
   "execution_count": 31,
   "metadata": {},
   "outputs": [],
   "source": [
    "# standard scale\n",
    "from sklearn.preprocessing import StandardScaler\n",
    "\n",
    "scaler2 = StandardScaler()\n",
    "x_train_standard = scaler2.fit_transform(x_train)\n",
    "x_val_standard = scaler2.transform(x_val)"
   ]
  },
  {
   "cell_type": "code",
   "execution_count": 32,
   "metadata": {},
   "outputs": [],
   "source": [
    "x_train_minmax = pd.DataFrame(x_train_minmax, columns = list(x))\n",
    "x_train_standard = pd.DataFrame(x_train_standard, columns=list(x))"
   ]
  },
  {
   "cell_type": "code",
   "execution_count": 33,
   "metadata": {},
   "outputs": [
    {
     "data": {
      "text/html": [
       "<div>\n",
       "<style scoped>\n",
       "    .dataframe tbody tr th:only-of-type {\n",
       "        vertical-align: middle;\n",
       "    }\n",
       "\n",
       "    .dataframe tbody tr th {\n",
       "        vertical-align: top;\n",
       "    }\n",
       "\n",
       "    .dataframe thead th {\n",
       "        text-align: right;\n",
       "    }\n",
       "</style>\n",
       "<table border=\"1\" class=\"dataframe\">\n",
       "  <thead>\n",
       "    <tr style=\"text-align: right;\">\n",
       "      <th></th>\n",
       "      <th>CompPrice</th>\n",
       "      <th>Income</th>\n",
       "      <th>Advertising</th>\n",
       "      <th>Population</th>\n",
       "      <th>Price</th>\n",
       "      <th>Age</th>\n",
       "      <th>Education</th>\n",
       "      <th>ShelveLoc_Good</th>\n",
       "      <th>ShelveLoc_Medium</th>\n",
       "      <th>Urban_Yes</th>\n",
       "      <th>US_Yes</th>\n",
       "    </tr>\n",
       "  </thead>\n",
       "  <tbody>\n",
       "    <tr>\n",
       "      <th>count</th>\n",
       "      <td>280.000000</td>\n",
       "      <td>280.000000</td>\n",
       "      <td>280.000000</td>\n",
       "      <td>280.000000</td>\n",
       "      <td>280.000000</td>\n",
       "      <td>280.000000</td>\n",
       "      <td>280.000000</td>\n",
       "      <td>280.000000</td>\n",
       "      <td>280.000000</td>\n",
       "      <td>280.000000</td>\n",
       "      <td>280.000000</td>\n",
       "    </tr>\n",
       "    <tr>\n",
       "      <th>mean</th>\n",
       "      <td>0.487318</td>\n",
       "      <td>0.486941</td>\n",
       "      <td>0.232143</td>\n",
       "      <td>0.500995</td>\n",
       "      <td>0.550192</td>\n",
       "      <td>0.515844</td>\n",
       "      <td>0.490625</td>\n",
       "      <td>0.217857</td>\n",
       "      <td>0.532143</td>\n",
       "      <td>0.714286</td>\n",
       "      <td>0.639286</td>\n",
       "    </tr>\n",
       "    <tr>\n",
       "      <th>std</th>\n",
       "      <td>0.162398</td>\n",
       "      <td>0.282667</td>\n",
       "      <td>0.235118</td>\n",
       "      <td>0.297077</td>\n",
       "      <td>0.145616</td>\n",
       "      <td>0.293910</td>\n",
       "      <td>0.328717</td>\n",
       "      <td>0.413529</td>\n",
       "      <td>0.499859</td>\n",
       "      <td>0.452563</td>\n",
       "      <td>0.481068</td>\n",
       "    </tr>\n",
       "    <tr>\n",
       "      <th>min</th>\n",
       "      <td>0.000000</td>\n",
       "      <td>0.000000</td>\n",
       "      <td>0.000000</td>\n",
       "      <td>0.000000</td>\n",
       "      <td>0.000000</td>\n",
       "      <td>0.000000</td>\n",
       "      <td>0.000000</td>\n",
       "      <td>0.000000</td>\n",
       "      <td>0.000000</td>\n",
       "      <td>0.000000</td>\n",
       "      <td>0.000000</td>\n",
       "    </tr>\n",
       "    <tr>\n",
       "      <th>25%</th>\n",
       "      <td>0.387755</td>\n",
       "      <td>0.232323</td>\n",
       "      <td>0.000000</td>\n",
       "      <td>0.245992</td>\n",
       "      <td>0.449102</td>\n",
       "      <td>0.268182</td>\n",
       "      <td>0.250000</td>\n",
       "      <td>0.000000</td>\n",
       "      <td>0.000000</td>\n",
       "      <td>0.000000</td>\n",
       "      <td>0.000000</td>\n",
       "    </tr>\n",
       "    <tr>\n",
       "      <th>50%</th>\n",
       "      <td>0.479592</td>\n",
       "      <td>0.484848</td>\n",
       "      <td>0.172414</td>\n",
       "      <td>0.517034</td>\n",
       "      <td>0.562874</td>\n",
       "      <td>0.545455</td>\n",
       "      <td>0.500000</td>\n",
       "      <td>0.000000</td>\n",
       "      <td>1.000000</td>\n",
       "      <td>1.000000</td>\n",
       "      <td>1.000000</td>\n",
       "    </tr>\n",
       "    <tr>\n",
       "      <th>75%</th>\n",
       "      <td>0.591837</td>\n",
       "      <td>0.719697</td>\n",
       "      <td>0.413793</td>\n",
       "      <td>0.753006</td>\n",
       "      <td>0.646707</td>\n",
       "      <td>0.745455</td>\n",
       "      <td>0.750000</td>\n",
       "      <td>0.000000</td>\n",
       "      <td>1.000000</td>\n",
       "      <td>1.000000</td>\n",
       "      <td>1.000000</td>\n",
       "    </tr>\n",
       "    <tr>\n",
       "      <th>max</th>\n",
       "      <td>1.000000</td>\n",
       "      <td>1.000000</td>\n",
       "      <td>1.000000</td>\n",
       "      <td>1.000000</td>\n",
       "      <td>1.000000</td>\n",
       "      <td>1.000000</td>\n",
       "      <td>1.000000</td>\n",
       "      <td>1.000000</td>\n",
       "      <td>1.000000</td>\n",
       "      <td>1.000000</td>\n",
       "      <td>1.000000</td>\n",
       "    </tr>\n",
       "  </tbody>\n",
       "</table>\n",
       "</div>"
      ],
      "text/plain": [
       "        CompPrice      Income  Advertising  Population       Price  \\\n",
       "count  280.000000  280.000000   280.000000  280.000000  280.000000   \n",
       "mean     0.487318    0.486941     0.232143    0.500995    0.550192   \n",
       "std      0.162398    0.282667     0.235118    0.297077    0.145616   \n",
       "min      0.000000    0.000000     0.000000    0.000000    0.000000   \n",
       "25%      0.387755    0.232323     0.000000    0.245992    0.449102   \n",
       "50%      0.479592    0.484848     0.172414    0.517034    0.562874   \n",
       "75%      0.591837    0.719697     0.413793    0.753006    0.646707   \n",
       "max      1.000000    1.000000     1.000000    1.000000    1.000000   \n",
       "\n",
       "              Age   Education  ShelveLoc_Good  ShelveLoc_Medium   Urban_Yes  \\\n",
       "count  280.000000  280.000000      280.000000        280.000000  280.000000   \n",
       "mean     0.515844    0.490625        0.217857          0.532143    0.714286   \n",
       "std      0.293910    0.328717        0.413529          0.499859    0.452563   \n",
       "min      0.000000    0.000000        0.000000          0.000000    0.000000   \n",
       "25%      0.268182    0.250000        0.000000          0.000000    0.000000   \n",
       "50%      0.545455    0.500000        0.000000          1.000000    1.000000   \n",
       "75%      0.745455    0.750000        0.000000          1.000000    1.000000   \n",
       "max      1.000000    1.000000        1.000000          1.000000    1.000000   \n",
       "\n",
       "           US_Yes  \n",
       "count  280.000000  \n",
       "mean     0.639286  \n",
       "std      0.481068  \n",
       "min      0.000000  \n",
       "25%      0.000000  \n",
       "50%      1.000000  \n",
       "75%      1.000000  \n",
       "max      1.000000  "
      ]
     },
     "execution_count": 33,
     "metadata": {},
     "output_type": "execute_result"
    }
   ],
   "source": [
    "x_train_minmax.describe()"
   ]
  },
  {
   "cell_type": "code",
   "execution_count": 34,
   "metadata": {},
   "outputs": [
    {
     "data": {
      "text/html": [
       "<div>\n",
       "<style scoped>\n",
       "    .dataframe tbody tr th:only-of-type {\n",
       "        vertical-align: middle;\n",
       "    }\n",
       "\n",
       "    .dataframe tbody tr th {\n",
       "        vertical-align: top;\n",
       "    }\n",
       "\n",
       "    .dataframe thead th {\n",
       "        text-align: right;\n",
       "    }\n",
       "</style>\n",
       "<table border=\"1\" class=\"dataframe\">\n",
       "  <thead>\n",
       "    <tr style=\"text-align: right;\">\n",
       "      <th></th>\n",
       "      <th>CompPrice</th>\n",
       "      <th>Income</th>\n",
       "      <th>Advertising</th>\n",
       "      <th>Population</th>\n",
       "      <th>Price</th>\n",
       "      <th>Age</th>\n",
       "      <th>Education</th>\n",
       "      <th>ShelveLoc_Good</th>\n",
       "      <th>ShelveLoc_Medium</th>\n",
       "      <th>Urban_Yes</th>\n",
       "      <th>US_Yes</th>\n",
       "    </tr>\n",
       "  </thead>\n",
       "  <tbody>\n",
       "    <tr>\n",
       "      <th>count</th>\n",
       "      <td>2.800000e+02</td>\n",
       "      <td>2.800000e+02</td>\n",
       "      <td>2.800000e+02</td>\n",
       "      <td>280.000000</td>\n",
       "      <td>2.800000e+02</td>\n",
       "      <td>2.800000e+02</td>\n",
       "      <td>2.800000e+02</td>\n",
       "      <td>2.800000e+02</td>\n",
       "      <td>2.800000e+02</td>\n",
       "      <td>2.800000e+02</td>\n",
       "      <td>2.800000e+02</td>\n",
       "    </tr>\n",
       "    <tr>\n",
       "      <th>mean</th>\n",
       "      <td>2.521792e-16</td>\n",
       "      <td>1.007131e-16</td>\n",
       "      <td>6.423433e-17</td>\n",
       "      <td>0.000000</td>\n",
       "      <td>1.919100e-16</td>\n",
       "      <td>-7.375053e-17</td>\n",
       "      <td>-2.724011e-16</td>\n",
       "      <td>-5.709718e-17</td>\n",
       "      <td>1.316407e-16</td>\n",
       "      <td>1.165734e-16</td>\n",
       "      <td>1.942890e-16</td>\n",
       "    </tr>\n",
       "    <tr>\n",
       "      <th>std</th>\n",
       "      <td>1.001791e+00</td>\n",
       "      <td>1.001791e+00</td>\n",
       "      <td>1.001791e+00</td>\n",
       "      <td>1.001791</td>\n",
       "      <td>1.001791e+00</td>\n",
       "      <td>1.001791e+00</td>\n",
       "      <td>1.001791e+00</td>\n",
       "      <td>1.001791e+00</td>\n",
       "      <td>1.001791e+00</td>\n",
       "      <td>1.001791e+00</td>\n",
       "      <td>1.001791e+00</td>\n",
       "    </tr>\n",
       "    <tr>\n",
       "      <th>min</th>\n",
       "      <td>-3.006128e+00</td>\n",
       "      <td>-1.725753e+00</td>\n",
       "      <td>-9.891157e-01</td>\n",
       "      <td>-1.689434</td>\n",
       "      <td>-3.785145e+00</td>\n",
       "      <td>-1.758249e+00</td>\n",
       "      <td>-1.495219e+00</td>\n",
       "      <td>-5.277678e-01</td>\n",
       "      <td>-1.066492e+00</td>\n",
       "      <td>-1.581139e+00</td>\n",
       "      <td>-1.331269e+00</td>\n",
       "    </tr>\n",
       "    <tr>\n",
       "      <th>25%</th>\n",
       "      <td>-6.141746e-01</td>\n",
       "      <td>-9.023829e-01</td>\n",
       "      <td>-9.891157e-01</td>\n",
       "      <td>-0.859910</td>\n",
       "      <td>-6.954709e-01</td>\n",
       "      <td>-8.441544e-01</td>\n",
       "      <td>-7.333238e-01</td>\n",
       "      <td>-5.277678e-01</td>\n",
       "      <td>-1.066492e+00</td>\n",
       "      <td>-1.581139e+00</td>\n",
       "      <td>-1.331269e+00</td>\n",
       "    </tr>\n",
       "    <tr>\n",
       "      <th>50%</th>\n",
       "      <td>-4.765923e-02</td>\n",
       "      <td>-7.415444e-03</td>\n",
       "      <td>-2.544940e-01</td>\n",
       "      <td>0.054087</td>\n",
       "      <td>8.724650e-02</td>\n",
       "      <td>1.009267e-01</td>\n",
       "      <td>2.857106e-02</td>\n",
       "      <td>-5.277678e-01</td>\n",
       "      <td>9.376538e-01</td>\n",
       "      <td>6.324555e-01</td>\n",
       "      <td>7.511630e-01</td>\n",
       "    </tr>\n",
       "    <tr>\n",
       "      <th>75%</th>\n",
       "      <td>6.447485e-01</td>\n",
       "      <td>8.249043e-01</td>\n",
       "      <td>7.739765e-01</td>\n",
       "      <td>0.849821</td>\n",
       "      <td>6.639856e-01</td>\n",
       "      <td>7.826246e-01</td>\n",
       "      <td>7.904659e-01</td>\n",
       "      <td>-5.277678e-01</td>\n",
       "      <td>9.376538e-01</td>\n",
       "      <td>6.324555e-01</td>\n",
       "      <td>7.511630e-01</td>\n",
       "    </tr>\n",
       "    <tr>\n",
       "      <th>max</th>\n",
       "      <td>3.162595e+00</td>\n",
       "      <td>1.818318e+00</td>\n",
       "      <td>3.271690e+00</td>\n",
       "      <td>1.682724</td>\n",
       "      <td>3.094529e+00</td>\n",
       "      <td>1.650240e+00</td>\n",
       "      <td>1.552361e+00</td>\n",
       "      <td>1.894773e+00</td>\n",
       "      <td>9.376538e-01</td>\n",
       "      <td>6.324555e-01</td>\n",
       "      <td>7.511630e-01</td>\n",
       "    </tr>\n",
       "  </tbody>\n",
       "</table>\n",
       "</div>"
      ],
      "text/plain": [
       "          CompPrice        Income   Advertising  Population         Price  \\\n",
       "count  2.800000e+02  2.800000e+02  2.800000e+02  280.000000  2.800000e+02   \n",
       "mean   2.521792e-16  1.007131e-16  6.423433e-17    0.000000  1.919100e-16   \n",
       "std    1.001791e+00  1.001791e+00  1.001791e+00    1.001791  1.001791e+00   \n",
       "min   -3.006128e+00 -1.725753e+00 -9.891157e-01   -1.689434 -3.785145e+00   \n",
       "25%   -6.141746e-01 -9.023829e-01 -9.891157e-01   -0.859910 -6.954709e-01   \n",
       "50%   -4.765923e-02 -7.415444e-03 -2.544940e-01    0.054087  8.724650e-02   \n",
       "75%    6.447485e-01  8.249043e-01  7.739765e-01    0.849821  6.639856e-01   \n",
       "max    3.162595e+00  1.818318e+00  3.271690e+00    1.682724  3.094529e+00   \n",
       "\n",
       "                Age     Education  ShelveLoc_Good  ShelveLoc_Medium  \\\n",
       "count  2.800000e+02  2.800000e+02    2.800000e+02      2.800000e+02   \n",
       "mean  -7.375053e-17 -2.724011e-16   -5.709718e-17      1.316407e-16   \n",
       "std    1.001791e+00  1.001791e+00    1.001791e+00      1.001791e+00   \n",
       "min   -1.758249e+00 -1.495219e+00   -5.277678e-01     -1.066492e+00   \n",
       "25%   -8.441544e-01 -7.333238e-01   -5.277678e-01     -1.066492e+00   \n",
       "50%    1.009267e-01  2.857106e-02   -5.277678e-01      9.376538e-01   \n",
       "75%    7.826246e-01  7.904659e-01   -5.277678e-01      9.376538e-01   \n",
       "max    1.650240e+00  1.552361e+00    1.894773e+00      9.376538e-01   \n",
       "\n",
       "          Urban_Yes        US_Yes  \n",
       "count  2.800000e+02  2.800000e+02  \n",
       "mean   1.165734e-16  1.942890e-16  \n",
       "std    1.001791e+00  1.001791e+00  \n",
       "min   -1.581139e+00 -1.331269e+00  \n",
       "25%   -1.581139e+00 -1.331269e+00  \n",
       "50%    6.324555e-01  7.511630e-01  \n",
       "75%    6.324555e-01  7.511630e-01  \n",
       "max    6.324555e-01  7.511630e-01  "
      ]
     },
     "execution_count": 34,
     "metadata": {},
     "output_type": "execute_result"
    }
   ],
   "source": [
    "x_train_standard.describe()"
   ]
  },
  {
   "cell_type": "markdown",
   "metadata": {
    "id": "BYr1vtpd8uw4"
   },
   "source": [
    "## 4.모델링 : 선형회귀\n",
    "\n",
    "* 변수를 조절하며 최소 2개 이상의 모델을 생성하고 예측하고 평가해 봅시다."
   ]
  },
  {
   "cell_type": "code",
   "execution_count": 35,
   "metadata": {
    "id": "xUOc59LAxzsg"
   },
   "outputs": [],
   "source": [
    "from sklearn import linear_model"
   ]
  },
  {
   "cell_type": "markdown",
   "metadata": {
    "id": "3j0e0Ob5xEiE"
   },
   "source": [
    "* 모델1"
   ]
  },
  {
   "cell_type": "code",
   "execution_count": 36,
   "metadata": {
    "id": "MULDXKsLUEXB"
   },
   "outputs": [],
   "source": [
    "features = ['Price', 'CompPrice', 'Income']\n",
    "x_lin = x[features]"
   ]
  },
  {
   "cell_type": "code",
   "execution_count": 39,
   "metadata": {},
   "outputs": [],
   "source": [
    "x_train_lin, x_val_lin, y_train_lin, y_val_lin = train_test_split(x_lin, y, test_size=0.3)"
   ]
  },
  {
   "cell_type": "code",
   "execution_count": 40,
   "metadata": {
    "id": "1EmPtOkQUEWE"
   },
   "outputs": [
    {
     "data": {
      "text/plain": [
       "LinearRegression()"
      ]
     },
     "execution_count": 40,
     "metadata": {},
     "output_type": "execute_result"
    }
   ],
   "source": [
    "model1 = linear_model.LinearRegression()\n",
    "model1.fit(x_train_lin, y_train_lin)"
   ]
  },
  {
   "cell_type": "code",
   "execution_count": 41,
   "metadata": {},
   "outputs": [],
   "source": [
    "pred1 = model1.predict(x_val_lin)"
   ]
  },
  {
   "cell_type": "code",
   "execution_count": 42,
   "metadata": {},
   "outputs": [],
   "source": [
    "from sklearn.metrics import mean_absolute_error\n",
    "from sklearn.metrics import mean_squared_error\n",
    "from sklearn.metrics import mean_absolute_percentage_error"
   ]
  },
  {
   "cell_type": "code",
   "execution_count": null,
   "metadata": {},
   "outputs": [],
   "source": []
  },
  {
   "cell_type": "markdown",
   "metadata": {
    "id": "ULNsiVUzyQkM"
   },
   "source": [
    "* 모델2"
   ]
  },
  {
   "cell_type": "code",
   "execution_count": 43,
   "metadata": {},
   "outputs": [],
   "source": [
    "features = ['Population', 'Age' ,'Education']"
   ]
  },
  {
   "cell_type": "code",
   "execution_count": 44,
   "metadata": {},
   "outputs": [],
   "source": [
    "x_lin2 = x[features]"
   ]
  },
  {
   "cell_type": "code",
   "execution_count": 45,
   "metadata": {},
   "outputs": [],
   "source": [
    "x_train_lin2, x_val_lin2, y_train_lin2, y_val_lin2 = train_test_split(x_lin2, y, test_size=0.3)"
   ]
  },
  {
   "cell_type": "code",
   "execution_count": 46,
   "metadata": {
    "id": "Dmi0ACVTyQkN"
   },
   "outputs": [
    {
     "data": {
      "text/plain": [
       "LinearRegression()"
      ]
     },
     "execution_count": 46,
     "metadata": {},
     "output_type": "execute_result"
    }
   ],
   "source": [
    "model2 = linear_model.LinearRegression()\n",
    "model2.fit(x_train_lin2, y_train_lin2)"
   ]
  },
  {
   "cell_type": "code",
   "execution_count": 47,
   "metadata": {
    "id": "AAt9EslX5L9E"
   },
   "outputs": [],
   "source": [
    "pred2 = model2.predict(x_val_lin2)"
   ]
  },
  {
   "cell_type": "code",
   "execution_count": 49,
   "metadata": {},
   "outputs": [
    {
     "name": "stdout",
     "output_type": "stream",
     "text": [
      "[[Price, CompPrice, Income]]\n",
      "2.2366156419132284\n",
      "1.8180469689601282\n",
      "0.3084501677905453\n",
      "[[Population, Age, Education]]\n",
      "2.818696426010272\n",
      "2.2724084358410344\n",
      "0.5577407624390166\n"
     ]
    }
   ],
   "source": [
    "print('[[Price, CompPrice, Income]]')\n",
    "print(mean_squared_error(y_val_lin, pred1, squared=False))\n",
    "print(mean_absolute_error(y_val_lin, pred1))\n",
    "print(mean_absolute_percentage_error(y_val_lin, pred1))\n",
    "print('[[Population, Age, Education]]')\n",
    "print(mean_squared_error(y_val_lin2, pred2, squared=False))\n",
    "print(mean_absolute_error(y_val_lin2, pred2))\n",
    "print(mean_absolute_percentage_error(y_val_lin2, pred2))\n",
    "\n"
   ]
  },
  {
   "cell_type": "markdown",
   "metadata": {
    "id": "LaZoO6TuoZ_U"
   },
   "source": [
    "## 5.모델링 : KNN\n",
    "\n",
    "* 하이퍼파라미터를 조절하며 모델을 최소 3가지 이상 생성하시오."
   ]
  },
  {
   "cell_type": "markdown",
   "metadata": {
    "id": "fbgtJTZdoZ_c"
   },
   "source": [
    "* 모델3"
   ]
  },
  {
   "cell_type": "code",
   "execution_count": 53,
   "metadata": {
    "id": "IKx6tsNToZ_c"
   },
   "outputs": [],
   "source": [
    "from sklearn.neighbors import KNeighborsRegressor    \n",
    "from sklearn.metrics import *"
   ]
  },
  {
   "cell_type": "code",
   "execution_count": 51,
   "metadata": {},
   "outputs": [],
   "source": [
    "#K값이 5\n",
    "model3 = KNeighborsRegressor()"
   ]
  },
  {
   "cell_type": "code",
   "execution_count": 54,
   "metadata": {},
   "outputs": [
    {
     "data": {
      "text/plain": [
       "KNeighborsRegressor()"
      ]
     },
     "execution_count": 54,
     "metadata": {},
     "output_type": "execute_result"
    }
   ],
   "source": [
    "model3.fit(x_train_minmax, y_train)"
   ]
  },
  {
   "cell_type": "code",
   "execution_count": 55,
   "metadata": {},
   "outputs": [],
   "source": [
    "pred3 = model3.predict(x_val_minmax)"
   ]
  },
  {
   "cell_type": "code",
   "execution_count": 70,
   "metadata": {},
   "outputs": [],
   "source": [
    "model8 = KNeighborsRegressor()\n",
    "model8.fit(x_train_standard, y_train)\n",
    "pred8 = model8.predict(x_val_standard)"
   ]
  },
  {
   "cell_type": "markdown",
   "metadata": {
    "id": "QzpEvFJ_oZ_d"
   },
   "source": [
    "* 모델4"
   ]
  },
  {
   "cell_type": "code",
   "execution_count": 56,
   "metadata": {
    "id": "TL0rUqdxoZ_d"
   },
   "outputs": [],
   "source": [
    "model4 = KNeighborsRegressor(n_neighbors=10)\n",
    "model4.fit(x_train_minmax, y_train)\n",
    "pred4 = model4.predict(x_val_minmax)"
   ]
  },
  {
   "cell_type": "code",
   "execution_count": 66,
   "metadata": {},
   "outputs": [],
   "source": [
    "model6 = KNeighborsRegressor(n_neighbors=10)\n",
    "model6.fit(x_train_standard, y_train)\n",
    "pred6 = model6.predict(x_val_standard)"
   ]
  },
  {
   "cell_type": "markdown",
   "metadata": {
    "id": "_F0myWK9Ttkl"
   },
   "source": [
    "* 모델5"
   ]
  },
  {
   "cell_type": "code",
   "execution_count": 58,
   "metadata": {
    "id": "ITLSy_VIpzyZ"
   },
   "outputs": [],
   "source": [
    "model5 =KNeighborsRegressor(n_neighbors=20)\n",
    "model5.fit(x_train_minmax, y_train)\n",
    "pred5 = model5.predict(x_val_minmax)"
   ]
  },
  {
   "cell_type": "code",
   "execution_count": 68,
   "metadata": {},
   "outputs": [],
   "source": [
    "model7 = KNeighborsRegressor(n_neighbors=20)\n",
    "model7.fit(x_train_standard, y_train)\n",
    "pred7 = model7.predict(x_val_standard)"
   ]
  },
  {
   "cell_type": "markdown",
   "metadata": {
    "id": "kF7l1ytHpOwc"
   },
   "source": [
    "## 6.성능비교"
   ]
  },
  {
   "cell_type": "code",
   "execution_count": 71,
   "metadata": {
    "id": "kSHKaXKVpQCh"
   },
   "outputs": [
    {
     "name": "stdout",
     "output_type": "stream",
     "text": [
      "linear regression - 1: Price, CompPrice, Income\n",
      "mse: 2.2366156419132284\n",
      "mae: 1.8180469689601282\n",
      "mape: 0.3084501677905453\n",
      "linear regression - 2: ShelveLoc, Urban, US\n",
      "mse: 2.818696426010272\n",
      "mae: 2.2724084358410344\n",
      "mape: 0.5577407624390166\n",
      "KNN - 1: K = 5\n",
      "mse: 1.984826860627059\n",
      "mae: 1.5332666666666668\n",
      "mape: 0.2533602833763155\n",
      "KNN - 2: K = 10\n",
      "mse: 1.9927687794456568\n",
      "mae: 1.5151916666666665\n",
      "mape: 0.24401199855977673\n",
      "KNN - 3: K = 20\n",
      "mse: 2.031220384399487\n",
      "mae: 1.5745833333333334\n",
      "mape: 0.2551856087271648\n",
      "KNN - 4: K = 10 (scaling: standard)\n",
      "mse: 1.6681432767201583\n",
      "mae: 1.3109083333333333\n",
      "mape: 0.21497315373610187\n",
      "KNN - 5: K = 20 (scaling: standard)\n",
      "mse: 1.7305558385722972\n",
      "mae: 1.3850291666666665\n",
      "mape: 0.22638777293204596\n",
      "KNN - 6: K = 5 (scaling: standard)\n",
      "mse: 1.7070077719018544\n",
      "mae: 1.3467333333333333\n",
      "mape: 0.22844353940613046\n"
     ]
    }
   ],
   "source": [
    "print('linear regression - 1: Price, CompPrice, Income')\n",
    "print('mse:', mean_squared_error(y_val_lin, pred1, squared=False))\n",
    "print('mae:',mean_absolute_error(y_val_lin, pred1))\n",
    "print('mape:',mean_absolute_percentage_error(y_val_lin, pred1))\n",
    "\n",
    "print('linear regression - 2: ShelveLoc, Urban, US')\n",
    "print('mse:', mean_squared_error(y_val_lin2, pred2, squared=False))\n",
    "print('mae:',mean_absolute_error(y_val_lin2, pred2))\n",
    "print('mape:',mean_absolute_percentage_error(y_val_lin2, pred2))\n",
    "\n",
    "print('KNN - 1: K = 5')\n",
    "print('mse:', mean_squared_error(y_val, pred3, squared=False))\n",
    "print('mae:',mean_absolute_error(y_val, pred3))\n",
    "print('mape:',mean_absolute_percentage_error(y_val, pred3))\n",
    "\n",
    "print('KNN - 2: K = 10')\n",
    "print('mse:',mean_squared_error(y_val, pred4, squared=False))\n",
    "print('mae:',mean_absolute_error(y_val, pred4))\n",
    "print('mape:',mean_absolute_percentage_error(y_val, pred4))\n",
    "\n",
    "print('KNN - 3: K = 20')\n",
    "print('mse:',mean_squared_error(y_val, pred5, squared=False))\n",
    "print('mae:',mean_absolute_error(y_val, pred5))\n",
    "print('mape:',mean_absolute_percentage_error(y_val, pred5))\n",
    "\n",
    "print('KNN - 4: K = 10 (scaling: standard)')\n",
    "print('mse:',mean_squared_error(y_val, pred6, squared=False))\n",
    "print('mae:',mean_absolute_error(y_val, pred6))\n",
    "print('mape:',mean_absolute_percentage_error(y_val, pred6))\n",
    "\n",
    "print('KNN - 5: K = 20 (scaling: standard)')\n",
    "print('mse:',mean_squared_error(y_val, pred7, squared=False))\n",
    "print('mae:',mean_absolute_error(y_val, pred7))\n",
    "print('mape:',mean_absolute_percentage_error(y_val, pred7))\n",
    "\n",
    "print('KNN - 6: K = 5 (scaling: standard)')\n",
    "print('mse:',mean_squared_error(y_val, pred8, squared=False))\n",
    "print('mae:',mean_absolute_error(y_val, pred8))\n",
    "print('mape:',mean_absolute_percentage_error(y_val, pred8))\n"
   ]
  },
  {
   "cell_type": "code",
   "execution_count": null,
   "metadata": {
    "id": "TqJCSGkqp7X7"
   },
   "outputs": [],
   "source": []
  }
 ],
 "metadata": {
  "colab": {
   "collapsed_sections": [],
   "name": "04과 Regression 종합실습.ipynb",
   "provenance": []
  },
  "kernelspec": {
   "display_name": "Python 3",
   "language": "python",
   "name": "python3"
  },
  "language_info": {
   "codemirror_mode": {
    "name": "ipython",
    "version": 3
   },
   "file_extension": ".py",
   "mimetype": "text/x-python",
   "name": "python",
   "nbconvert_exporter": "python",
   "pygments_lexer": "ipython3",
   "version": "3.8.8"
  }
 },
 "nbformat": 4,
 "nbformat_minor": 1
}
