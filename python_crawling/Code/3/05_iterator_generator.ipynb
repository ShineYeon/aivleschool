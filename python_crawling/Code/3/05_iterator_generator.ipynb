{
 "cells": [
  {
   "cell_type": "code",
   "execution_count": 1,
   "id": "e4cb01d8",
   "metadata": {},
   "outputs": [],
   "source": [
    "# yield \n",
    "# iterable: 순서가 있는 데이터 집합.\n",
    "# iterator: next함수를 실행하여 값을 발생시키는 값 생성기\n",
    "# generator : iterator를 간단하게 구현한 문법\n",
    "\n",
    "#데이터들을 순서대로 사용하려고 하면 원래의 경우에는 리스트에 다 저장해야하는데\n",
    "#iterator, generator를 사용하면 메모리 줄일 수 있음 => 코드 실행속도 빨라지는 효과"
   ]
  },
  {
   "cell_type": "code",
   "execution_count": null,
   "id": "83a740f2",
   "metadata": {},
   "outputs": [],
   "source": [
    "# filter의 dogstring보면 두번째 인자가 순서가 있는 데이터 집합(iterable)이어야 함"
   ]
  },
  {
   "cell_type": "code",
   "execution_count": 3,
   "id": "61c0086f",
   "metadata": {},
   "outputs": [
    {
     "data": {
      "text/plain": [
       "list_iterator"
      ]
     },
     "execution_count": 3,
     "metadata": {},
     "output_type": "execute_result"
    }
   ],
   "source": [
    "#iterator 만들기\n",
    "iterator = iter([1, 2, 3]) \n",
    "type(iterator) # list_iterator"
   ]
  },
  {
   "cell_type": "code",
   "execution_count": 4,
   "id": "de1a4b5b",
   "metadata": {
    "scrolled": true
   },
   "outputs": [
    {
     "data": {
      "text/plain": [
       "1"
      ]
     },
     "execution_count": 4,
     "metadata": {},
     "output_type": "execute_result"
    }
   ],
   "source": [
    "next(iterator)"
   ]
  },
  {
   "cell_type": "code",
   "execution_count": 5,
   "id": "3e90112b",
   "metadata": {},
   "outputs": [],
   "source": [
    "# 클래스로 iterator 만들기 : 피보나치 수열 (앞의 두 숫자 더함)"
   ]
  },
  {
   "cell_type": "code",
   "execution_count": 6,
   "id": "652fdd9b",
   "metadata": {},
   "outputs": [],
   "source": [
    "class Fib:\n",
    "    def __init__(self):\n",
    "        self.prev=0\n",
    "        self.curr=1\n",
    "\n",
    "    def __iter__(self):\n",
    "        return self\n",
    "    \n",
    "    def __next__(self):\n",
    "        value = self.curr\n",
    "        self.curr += self.prev\n",
    "        self.prev = value\n",
    "        return value"
   ]
  },
  {
   "cell_type": "code",
   "execution_count": 7,
   "id": "8b6ee8c2",
   "metadata": {},
   "outputs": [],
   "source": [
    "# 0 1 1 2 3 5 8 13 21 34"
   ]
  },
  {
   "cell_type": "code",
   "execution_count": 8,
   "id": "18e27089",
   "metadata": {},
   "outputs": [
    {
     "data": {
      "text/plain": [
       "__main__.Fib"
      ]
     },
     "execution_count": 8,
     "metadata": {},
     "output_type": "execute_result"
    }
   ],
   "source": [
    "fib = Fib()\n",
    "type(fib)"
   ]
  },
  {
   "cell_type": "code",
   "execution_count": 21,
   "id": "4b96cb95",
   "metadata": {},
   "outputs": [
    {
     "data": {
      "text/plain": [
       "233"
      ]
     },
     "execution_count": 21,
     "metadata": {},
     "output_type": "execute_result"
    }
   ],
   "source": [
    "next(fib) #실행할 때마다 피보나치 수열이 나열됨"
   ]
  },
  {
   "cell_type": "code",
   "execution_count": null,
   "id": "68239125",
   "metadata": {},
   "outputs": [],
   "source": []
  },
  {
   "cell_type": "code",
   "execution_count": null,
   "id": "8f3f8aa3",
   "metadata": {},
   "outputs": [],
   "source": [
    "# generator로"
   ]
  },
  {
   "cell_type": "code",
   "execution_count": null,
   "id": "f3068f7e",
   "metadata": {},
   "outputs": [],
   "source": [
    "# yield : 일반 함수를 generator로 만들어 주는 명령어\n",
    "# next함수를 실행해서 yield를 만나면 코드 실행이 중단된다."
   ]
  },
  {
   "cell_type": "code",
   "execution_count": 22,
   "id": "f2687804",
   "metadata": {},
   "outputs": [],
   "source": [
    "def fib():\n",
    "    prev, curr = 0, 1\n",
    "    while True:\n",
    "        yield curr #curr를 return 하고 코드 실행 중단.\n",
    "        prev, curr = curr, prev+curr #다시한번 실행하면 이거 돌리고 while문 실행되고 yield만남"
   ]
  },
  {
   "cell_type": "code",
   "execution_count": 23,
   "id": "83c1392f",
   "metadata": {},
   "outputs": [],
   "source": [
    "f = fib()"
   ]
  },
  {
   "cell_type": "code",
   "execution_count": 24,
   "id": "32cc808e",
   "metadata": {},
   "outputs": [
    {
     "data": {
      "text/plain": [
       "generator"
      ]
     },
     "execution_count": 24,
     "metadata": {},
     "output_type": "execute_result"
    }
   ],
   "source": [
    "type(f)"
   ]
  },
  {
   "cell_type": "code",
   "execution_count": 48,
   "id": "77ca4bc5",
   "metadata": {
    "scrolled": true
   },
   "outputs": [
    {
     "data": {
      "text/plain": [
       "46368"
      ]
     },
     "execution_count": 48,
     "metadata": {},
     "output_type": "execute_result"
    }
   ],
   "source": [
    "next(f)"
   ]
  },
  {
   "cell_type": "code",
   "execution_count": 49,
   "id": "2723397e",
   "metadata": {},
   "outputs": [],
   "source": [
    " # yield : 함수를 호출할 때마다 return을 여러번 하는 방법"
   ]
  },
  {
   "cell_type": "code",
   "execution_count": 50,
   "id": "0fcb22e1",
   "metadata": {},
   "outputs": [],
   "source": [
    "def gen() :\n",
    "    yield 1\n",
    "    yield 2\n",
    "    yield 3\n",
    "\n",
    "g = gen()"
   ]
  },
  {
   "cell_type": "code",
   "execution_count": 54,
   "id": "fb987979",
   "metadata": {
    "scrolled": true
   },
   "outputs": [
    {
     "ename": "StopIteration",
     "evalue": "",
     "output_type": "error",
     "traceback": [
      "\u001b[1;31m---------------------------------------------------------------------------\u001b[0m",
      "\u001b[1;31mStopIteration\u001b[0m                             Traceback (most recent call last)",
      "\u001b[1;32m<ipython-input-54-e734f8aca5ac>\u001b[0m in \u001b[0;36m<module>\u001b[1;34m\u001b[0m\n\u001b[1;32m----> 1\u001b[1;33m \u001b[0mnext\u001b[0m\u001b[1;33m(\u001b[0m\u001b[0mg\u001b[0m\u001b[1;33m)\u001b[0m\u001b[1;33m\u001b[0m\u001b[1;33m\u001b[0m\u001b[0m\n\u001b[0m",
      "\u001b[1;31mStopIteration\u001b[0m: "
     ]
    }
   ],
   "source": [
    "next(g)"
   ]
  },
  {
   "cell_type": "code",
   "execution_count": null,
   "id": "46479734",
   "metadata": {},
   "outputs": [],
   "source": []
  },
  {
   "cell_type": "code",
   "execution_count": null,
   "id": "6c44d28f",
   "metadata": {},
   "outputs": [],
   "source": []
  },
  {
   "cell_type": "code",
   "execution_count": null,
   "id": "22a66eab",
   "metadata": {},
   "outputs": [],
   "source": []
  },
  {
   "cell_type": "code",
   "execution_count": null,
   "id": "581ea66c",
   "metadata": {},
   "outputs": [],
   "source": []
  },
  {
   "cell_type": "code",
   "execution_count": null,
   "id": "48e49420",
   "metadata": {},
   "outputs": [],
   "source": []
  },
  {
   "cell_type": "code",
   "execution_count": null,
   "id": "e2f5a6f5",
   "metadata": {},
   "outputs": [],
   "source": []
  },
  {
   "cell_type": "code",
   "execution_count": null,
   "id": "4cff2afd",
   "metadata": {},
   "outputs": [],
   "source": []
  }
 ],
 "metadata": {
  "kernelspec": {
   "display_name": "Python 3",
   "language": "python",
   "name": "python3"
  },
  "language_info": {
   "codemirror_mode": {
    "name": "ipython",
    "version": 3
   },
   "file_extension": ".py",
   "mimetype": "text/x-python",
   "name": "python",
   "nbconvert_exporter": "python",
   "pygments_lexer": "ipython3",
   "version": "3.8.8"
  }
 },
 "nbformat": 4,
 "nbformat_minor": 5
}
