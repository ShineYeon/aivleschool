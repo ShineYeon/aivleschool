{
 "cells": [
  {
   "cell_type": "markdown",
   "id": "137361f1",
   "metadata": {},
   "source": [
    "### 네이버 중고나라 게시글 데이터 수집\n",
    "- selenium에서 iframe에 있는 데이터 수집\n",
    "- https://cafe.naver.com/joonggonara.cafe"
   ]
  },
  {
   "cell_type": "code",
   "execution_count": 29,
   "id": "6aa4591b",
   "metadata": {},
   "outputs": [],
   "source": [
    "from selenium import webdriver\n",
    "from selenium.webdriver.common.by import By"
   ]
  },
  {
   "cell_type": "code",
   "execution_count": 30,
   "id": "26dc6002",
   "metadata": {},
   "outputs": [],
   "source": [
    "url = \"https://cafe.naver.com/joonggonara.cafe\""
   ]
  },
  {
   "cell_type": "code",
   "execution_count": 31,
   "id": "6c0d3e58",
   "metadata": {},
   "outputs": [],
   "source": [
    "# 1. 웹브라우저 열기 및 페이지 이동"
   ]
  },
  {
   "cell_type": "code",
   "execution_count": 32,
   "id": "462b6052",
   "metadata": {},
   "outputs": [],
   "source": [
    "driver = webdriver.Chrome()\n",
    "driver.get(url)"
   ]
  },
  {
   "cell_type": "code",
   "execution_count": 47,
   "id": "829d048e",
   "metadata": {},
   "outputs": [],
   "source": [
    "import time"
   ]
  },
  {
   "cell_type": "code",
   "execution_count": null,
   "id": "4d9ca130",
   "metadata": {},
   "outputs": [],
   "source": [
    "time.sleep(3)  #페이지 이동 후 데이터 불러오는 시간을 기다리기"
   ]
  },
  {
   "cell_type": "code",
   "execution_count": 33,
   "id": "169dea9d",
   "metadata": {},
   "outputs": [],
   "source": [
    "# 2. 검색 창에 '맥북' 입력하고 검색 버튼 누르기"
   ]
  },
  {
   "cell_type": "code",
   "execution_count": 34,
   "id": "b7b89fad",
   "metadata": {},
   "outputs": [],
   "source": [
    "keyword = \"맥북\"\n",
    "driver.find_element(By.CSS_SELECTOR, \"#topLayerQueryInput\").send_keys(keyword)"
   ]
  },
  {
   "cell_type": "code",
   "execution_count": 35,
   "id": "599c2cb8",
   "metadata": {},
   "outputs": [],
   "source": [
    "driver.execute_script(\"searchBoard();\") #<button onclick = searchBoard() ... 자바스크립트 이코드 덕분에\n",
    "#자동으로 검색이 됨"
   ]
  },
  {
   "cell_type": "code",
   "execution_count": 36,
   "id": "b81feca4",
   "metadata": {},
   "outputs": [],
   "source": [
    "# 3. 게시글 목록 데이터 수집"
   ]
  },
  {
   "cell_type": "code",
   "execution_count": 37,
   "id": "b9789bad",
   "metadata": {},
   "outputs": [
    {
     "data": {
      "text/plain": [
       "0"
      ]
     },
     "execution_count": 37,
     "metadata": {},
     "output_type": "execute_result"
    }
   ],
   "source": [
    "selector = '.article-board > table > tbody > tr'\n",
    "elements = driver.find_elements(By.CSS_SELECTOR, selector)\n",
    "len(elements) #iframe안에있기때문에 현재 iframe 안에 있는 데이터를 접근할 수가 없음.\n",
    "#iframe 안에 있는 데이터 수집을 하려면 switch_to.alert 쓴 것처럼\n",
    "# switch_to.iframe 이렇게 포커스를 이동해주어야 함"
   ]
  },
  {
   "cell_type": "code",
   "execution_count": 38,
   "id": "7b2979d1",
   "metadata": {},
   "outputs": [
    {
     "data": {
      "text/plain": [
       "<selenium.webdriver.remote.webelement.WebElement (session=\"1fe02d415970ddea7aca7f3cf0739629\", element=\"1a634bad-acbf-4d62-a06d-8f31ae2c4f2b\")>"
      ]
     },
     "execution_count": 38,
     "metadata": {},
     "output_type": "execute_result"
    }
   ],
   "source": [
    "#iframe으로 driver 이동\n",
    "iframe = driver.find_element(By.CSS_SELECTOR, \"#cafe_main\")\n",
    "iframe"
   ]
  },
  {
   "cell_type": "code",
   "execution_count": 39,
   "id": "51fb7311",
   "metadata": {},
   "outputs": [],
   "source": [
    "driver.switch_to.frame(iframe)"
   ]
  },
  {
   "cell_type": "code",
   "execution_count": 40,
   "id": "b3df77b6",
   "metadata": {},
   "outputs": [
    {
     "data": {
      "text/plain": [
       "14"
      ]
     },
     "execution_count": 40,
     "metadata": {},
     "output_type": "execute_result"
    }
   ],
   "source": [
    "selector = '.article-board > table > tbody > tr'\n",
    "elements = driver.find_elements(By.CSS_SELECTOR, selector)\n",
    "len(elements)"
   ]
  },
  {
   "cell_type": "code",
   "execution_count": 41,
   "id": "f5f5db3e",
   "metadata": {},
   "outputs": [],
   "source": [
    "element = elements[0]"
   ]
  },
  {
   "cell_type": "code",
   "execution_count": 42,
   "id": "a205c19c",
   "metadata": {},
   "outputs": [
    {
     "data": {
      "text/plain": [
       "('2021 맥북프로 레티나 엠원 m1pro m1max 프로 맥스 14인치 판매', 'topontopcom')"
      ]
     },
     "execution_count": 42,
     "metadata": {},
     "output_type": "execute_result"
    }
   ],
   "source": [
    "title = element.find_element(By.CSS_SELECTOR, \".article\").text\n",
    "writer = element.find_element(By.CSS_SELECTOR, \".p-nick\").text\n",
    "title, writer"
   ]
  },
  {
   "cell_type": "code",
   "execution_count": 43,
   "id": "2f137583",
   "metadata": {},
   "outputs": [
    {
     "data": {
      "text/html": [
       "<div>\n",
       "<style scoped>\n",
       "    .dataframe tbody tr th:only-of-type {\n",
       "        vertical-align: middle;\n",
       "    }\n",
       "\n",
       "    .dataframe tbody tr th {\n",
       "        vertical-align: top;\n",
       "    }\n",
       "\n",
       "    .dataframe thead th {\n",
       "        text-align: right;\n",
       "    }\n",
       "</style>\n",
       "<table border=\"1\" class=\"dataframe\">\n",
       "  <thead>\n",
       "    <tr style=\"text-align: right;\">\n",
       "      <th></th>\n",
       "      <th>title</th>\n",
       "      <th>writer</th>\n",
       "    </tr>\n",
       "  </thead>\n",
       "  <tbody>\n",
       "    <tr>\n",
       "      <th>0</th>\n",
       "      <td>2021 맥북프로 레티나 엠원 m1pro m1max 프로 맥스 14인치 판매</td>\n",
       "      <td>topontopcom</td>\n",
       "    </tr>\n",
       "    <tr>\n",
       "      <th>1</th>\n",
       "      <td>미개봉/새제품- 맥북 프로 16인치 max cto 모델 판매 합니다.</td>\n",
       "      <td>SSOOOOOZ</td>\n",
       "    </tr>\n",
       "    <tr>\n",
       "      <th>2</th>\n",
       "      <td>맥북프로 13인치 20년형 / i7 / 32G / 1T</td>\n",
       "      <td>GM앵그리군</td>\n",
       "    </tr>\n",
       "    <tr>\n",
       "      <th>3</th>\n",
       "      <td>맥북프로 2016 부품용 으로 판매합니다</td>\n",
       "      <td>90735023</td>\n",
       "    </tr>\n",
       "    <tr>\n",
       "      <th>4</th>\n",
       "      <td>[매입]고장난 맥북, 노트북, 컴퓨터 선입매입(개인.기업 대량매입)</td>\n",
       "      <td>다사요컴닥터</td>\n",
       "    </tr>\n",
       "    <tr>\n",
       "      <th>5</th>\n",
       "      <td>2021년 애플 맥북프로 16형 m1 pro 실버 판매 / 신용확실 (미개봉)</td>\n",
       "      <td>firstpray</td>\n",
       "    </tr>\n",
       "    <tr>\n",
       "      <th>6</th>\n",
       "      <td>16인치 2021 맥북프로 레티나 m1MAX M1PRO S급 판매</td>\n",
       "      <td>FRANKCOM</td>\n",
       "    </tr>\n",
       "    <tr>\n",
       "      <th>7</th>\n",
       "      <td>[매입] 5분내칼답장 24시간 이온2 플렉스북2 맥북 삼성 lg삽니다</td>\n",
       "      <td>다사요24 01058355451</td>\n",
       "    </tr>\n",
       "    <tr>\n",
       "      <th>8</th>\n",
       "      <td>[판/교] 맥북프로 2009년 A1286 mid를 11\" 맥북 에어로</td>\n",
       "      <td>서글퍼</td>\n",
       "    </tr>\n",
       "    <tr>\n",
       "      <th>9</th>\n",
       "      <td>[판매]맥북프로 2019 16인치 i7/16GB/512GB 풀박스</td>\n",
       "      <td>리퍼노트북</td>\n",
       "    </tr>\n",
       "    <tr>\n",
       "      <th>10</th>\n",
       "      <td>[매입]고장난 맥북, 노트북, 컴퓨터 선입매입(개인.기업 대량매입)</td>\n",
       "      <td>다사요컴닥터</td>\n",
       "    </tr>\n",
       "    <tr>\n",
       "      <th>11</th>\n",
       "      <td>[풀박] 애플 맥북프로 2019 인텔 16인치 2.3Ghz i9</td>\n",
       "      <td>낯선그림자</td>\n",
       "    </tr>\n",
       "    <tr>\n",
       "      <th>12</th>\n",
       "      <td>맥북프로 A1278 부품용 팝니다 2010</td>\n",
       "      <td>민규만세</td>\n",
       "    </tr>\n",
       "    <tr>\n",
       "      <th>13</th>\n",
       "      <td>[매입]방송출연 전국 노트북 맥북 게이밍 아이맥 등 매입 삽니다</td>\n",
       "      <td>전자마켓</td>\n",
       "    </tr>\n",
       "  </tbody>\n",
       "</table>\n",
       "</div>"
      ],
      "text/plain": [
       "                                          title             writer\n",
       "0    2021 맥북프로 레티나 엠원 m1pro m1max 프로 맥스 14인치 판매        topontopcom\n",
       "1        미개봉/새제품- 맥북 프로 16인치 max cto 모델 판매 합니다.           SSOOOOOZ\n",
       "2                맥북프로 13인치 20년형 / i7 / 32G / 1T             GM앵그리군\n",
       "3                        맥북프로 2016 부품용 으로 판매합니다           90735023\n",
       "4         [매입]고장난 맥북, 노트북, 컴퓨터 선입매입(개인.기업 대량매입)             다사요컴닥터\n",
       "5   2021년 애플 맥북프로 16형 m1 pro 실버 판매 / 신용확실 (미개봉)          firstpray\n",
       "6          16인치 2021 맥북프로 레티나 m1MAX M1PRO S급 판매           FRANKCOM\n",
       "7        [매입] 5분내칼답장 24시간 이온2 플렉스북2 맥북 삼성 lg삽니다  다사요24 01058355451\n",
       "8        [판/교] 맥북프로 2009년 A1286 mid를 11\" 맥북 에어로                서글퍼\n",
       "9          [판매]맥북프로 2019 16인치 i7/16GB/512GB 풀박스              리퍼노트북\n",
       "10        [매입]고장난 맥북, 노트북, 컴퓨터 선입매입(개인.기업 대량매입)             다사요컴닥터\n",
       "11          [풀박] 애플 맥북프로 2019 인텔 16인치 2.3Ghz i9              낯선그림자\n",
       "12                      맥북프로 A1278 부품용 팝니다 2010               민규만세\n",
       "13          [매입]방송출연 전국 노트북 맥북 게이밍 아이맥 등 매입 삽니다               전자마켓"
      ]
     },
     "execution_count": 43,
     "metadata": {},
     "output_type": "execute_result"
    }
   ],
   "source": [
    "data = []\n",
    "for element in elements:\n",
    "    data.append({\n",
    "        \"title\": element.find_element(By.CSS_SELECTOR, \".article\").text,\n",
    "        \"writer\": element.find_element(By.CSS_SELECTOR, \".p-nick\").text,\n",
    "    })\n",
    "df = pd.DataFrame(data)\n",
    "df"
   ]
  },
  {
   "cell_type": "code",
   "execution_count": 44,
   "id": "545472f5",
   "metadata": {},
   "outputs": [],
   "source": [
    "#원래 default frame으로 이동\n",
    "driver.switch_to.default_content()"
   ]
  },
  {
   "cell_type": "code",
   "execution_count": 45,
   "id": "913f0a92",
   "metadata": {},
   "outputs": [],
   "source": [
    "# 4.웹 브라우저 종료"
   ]
  },
  {
   "cell_type": "code",
   "execution_count": 46,
   "id": "f20daf25",
   "metadata": {},
   "outputs": [],
   "source": [
    "driver.quit() #마우스로 크롬 창 닫는 거랑 똑같다고 함"
   ]
  },
  {
   "cell_type": "code",
   "execution_count": null,
   "id": "c04a6172",
   "metadata": {},
   "outputs": [],
   "source": []
  },
  {
   "cell_type": "code",
   "execution_count": null,
   "id": "b6d24142",
   "metadata": {},
   "outputs": [],
   "source": []
  },
  {
   "cell_type": "code",
   "execution_count": null,
   "id": "249ab6a9",
   "metadata": {},
   "outputs": [],
   "source": []
  },
  {
   "cell_type": "code",
   "execution_count": null,
   "id": "b5d9e525",
   "metadata": {},
   "outputs": [],
   "source": []
  },
  {
   "cell_type": "code",
   "execution_count": null,
   "id": "1d848492",
   "metadata": {},
   "outputs": [],
   "source": []
  }
 ],
 "metadata": {
  "kernelspec": {
   "display_name": "Python 3",
   "language": "python",
   "name": "python3"
  },
  "language_info": {
   "codemirror_mode": {
    "name": "ipython",
    "version": 3
   },
   "file_extension": ".py",
   "mimetype": "text/x-python",
   "name": "python",
   "nbconvert_exporter": "python",
   "pygments_lexer": "ipython3",
   "version": "3.8.8"
  }
 },
 "nbformat": 4,
 "nbformat_minor": 5
}
