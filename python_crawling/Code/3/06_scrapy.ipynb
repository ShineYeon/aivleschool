{
 "cells": [
  {
   "cell_type": "markdown",
   "id": "0676611c",
   "metadata": {},
   "source": [
    "### scrapy\n",
    "- 비동기 방식으로 데이터를 수집 > 데이터 수집 속도가 빠르다."
   ]
  },
  {
   "cell_type": "code",
   "execution_count": 1,
   "id": "52ec7803",
   "metadata": {},
   "outputs": [],
   "source": [
    "import scrapy, requests\n",
    "from scrapy.http import TextResponse"
   ]
  },
  {
   "cell_type": "code",
   "execution_count": null,
   "id": "327991d6",
   "metadata": {},
   "outputs": [],
   "source": [
    "# Gmarket 베스트 200 상품 데이터 수집"
   ]
  },
  {
   "cell_type": "code",
   "execution_count": 2,
   "id": "37041327",
   "metadata": {},
   "outputs": [],
   "source": [
    "# 1. scrapy 프로젝트 생성"
   ]
  },
  {
   "cell_type": "code",
   "execution_count": 5,
   "id": "bf9f1c96",
   "metadata": {},
   "outputs": [
    {
     "name": "stdout",
     "output_type": "stream",
     "text": [
      "New Scrapy project 'gmarket', using template directory 'c:\\users\\user\\anaconda3\\lib\\site-packages\\scrapy\\templates\\project', created in:\n",
      "    C:\\Users\\User\\AIVLESCHOOLPythonClass\\python_crawling\\Code\\3\\gmarket\n",
      "\n",
      "You can start your first spider with:\n",
      "    cd gmarket\n",
      "    scrapy genspider example example.com\n"
     ]
    }
   ],
   "source": [
    "!scrapy startproject gmarket"
   ]
  },
  {
   "cell_type": "code",
   "execution_count": 9,
   "id": "95649544",
   "metadata": {},
   "outputs": [
    {
     "name": "stdout",
     "output_type": "stream",
     "text": [
      "폴더 PATH의 목록입니다.\n",
      "볼륨 일련 번호가 0000001E 7C6C:FC35입니다.\n",
      "C:\\USERS\\USER\\AIVLESCHOOLPYTHONCLASS\\PYTHON_CRAWLING\\CODE\\3\\GMARKET\n",
      "│  scrapy.cfg\n",
      "│  \n",
      "└─gmarket\n",
      "    │  items.py\n",
      "    │  middlewares.py\n",
      "    │  pipelines.py\n",
      "    │  settings.py\n",
      "    │  __init__.py\n",
      "    │  \n",
      "    └─spiders\n",
      "            __init__.py\n",
      "            \n"
     ]
    }
   ],
   "source": [
    "!tree gmarket /f"
   ]
  },
  {
   "cell_type": "code",
   "execution_count": null,
   "id": "f0be79a1",
   "metadata": {},
   "outputs": [],
   "source": [
    "# items.py : 수집할 데이터의 구조 정의\n",
    "# middlewares.py : 데이터를 수집할 때 headers정보와 같은 내용을 설정\n",
    "# pipelines.py : 데이터를 수집한 후에 코드 실행 정의\n",
    "# settings.py : 크롤링 설정 : 크롤링 시간 텀, robots.txt(규칙을 지킬지) 같은 걸 설정\n",
    "# spiders : 디렉토리 : 크롤링 절차를 정의 (어떤 순서로 크롤링을 할지)"
   ]
  },
  {
   "cell_type": "code",
   "execution_count": 3,
   "id": "49b090fb",
   "metadata": {},
   "outputs": [],
   "source": [
    "# 2. xpath 찾기 : 링크, 상세 페이지의 데이터"
   ]
  },
  {
   "cell_type": "code",
   "execution_count": 11,
   "id": "a67ee4bb",
   "metadata": {},
   "outputs": [],
   "source": [
    "url = \"http://corners.gmarket.co.kr/Bestsellers\""
   ]
  },
  {
   "cell_type": "code",
   "execution_count": 10,
   "id": "659af543",
   "metadata": {},
   "outputs": [],
   "source": [
    "# 링크 데이터 수집"
   ]
  },
  {
   "cell_type": "code",
   "execution_count": 12,
   "id": "159f71f8",
   "metadata": {},
   "outputs": [],
   "source": [
    "request = requests.get(\"http://corners.gmarket.co.kr/Bestsellers\")\n",
    "response = TextResponse(request.url, body=request.text, encoding = 'utf-8')\n",
    "#TextResponse는 가져온 웹페이지를 돔구조로 만드는데 사용됩니다 (xpath를 사용할 수 있게 도와줌)"
   ]
  },
  {
   "cell_type": "code",
   "execution_count": 14,
   "id": "63e1f701",
   "metadata": {},
   "outputs": [
    {
     "data": {
      "text/plain": [
       "['http://item.gmarket.co.kr/Item?goodscode=2519604129&ver=637953125654620877',\n",
       " 'http://item.gmarket.co.kr/Item?goodscode=2520466046&ver=637953125654620877']"
      ]
     },
     "execution_count": 14,
     "metadata": {},
     "output_type": "execute_result"
    }
   ],
   "source": [
    "#링크들을 모두 가져왔음\n",
    "links = response.xpath('//*[@id=\"gBestWrap\"]/div/div[3]/div/ul/li/a/@href').extract() #속성값 쓸 때는 @\n",
    "links[:2]"
   ]
  },
  {
   "cell_type": "code",
   "execution_count": null,
   "id": "78ab333f",
   "metadata": {},
   "outputs": [],
   "source": [
    "# 상세 페이지 수집"
   ]
  },
  {
   "cell_type": "code",
   "execution_count": 17,
   "id": "b02e112c",
   "metadata": {},
   "outputs": [
    {
     "data": {
      "text/plain": [
       "<200 http://item.gmarket.co.kr/Item?goodscode=2519604129&ver=637953125654620877>"
      ]
     },
     "execution_count": 17,
     "metadata": {},
     "output_type": "execute_result"
    }
   ],
   "source": [
    "link = links[0]\n",
    "request = requests.get(link)\n",
    "response = TextResponse(request.url, body=request.text, encoding = 'utf-8')"
   ]
  },
  {
   "cell_type": "code",
   "execution_count": 19,
   "id": "9185f82c",
   "metadata": {},
   "outputs": [
    {
     "data": {
      "text/plain": [
       "('브라운 면도기 세정액 CCR5+1 ', '25,030')"
      ]
     },
     "execution_count": 19,
     "metadata": {},
     "output_type": "execute_result"
    }
   ],
   "source": [
    "#xpath사용하면 항상 결과가 list\n",
    "title = response.xpath('//*[@id=\"itemcase_basic\"]/div/h1/text()')[0].extract() \n",
    "price = response.xpath('//*[@id=\"itemcase_basic\"]/div/p/span/strong/text()')[0].extract()\n",
    "title, price"
   ]
  },
  {
   "cell_type": "code",
   "execution_count": null,
   "id": "4ff7ce18",
   "metadata": {},
   "outputs": [],
   "source": [
    "# 3. items.py : 코드 작성 : model(데이터의 구조, ai의 모델이 아님, 수집할 데이터의 컬럼을 정의함)"
   ]
  },
  {
   "cell_type": "code",
   "execution_count": 20,
   "id": "af0857d8",
   "metadata": {},
   "outputs": [
    {
     "name": "stdout",
     "output_type": "stream",
     "text": [
      "Overwriting gmarket/gmarket/items.py\n"
     ]
    }
   ],
   "source": [
    "%%writefile gmarket/gmarket/items.py\n",
    "\n",
    "import scrapy\n",
    "\n",
    "#scrapy.Item의 상속을 받음\n",
    "class GmarketItem(scrapy.Item) :\n",
    "    title = scrapy.Field()\n",
    "    price = scrapy.Field()\n",
    "    link = scrapy.Field()"
   ]
  },
  {
   "cell_type": "code",
   "execution_count": 4,
   "id": "244616a2",
   "metadata": {},
   "outputs": [],
   "source": [
    "# 4. spider.py : 코드 작성 : 핵심이 되는 부분, 크롤링 절차를 정의"
   ]
  },
  {
   "cell_type": "code",
   "execution_count": 22,
   "id": "d3de4951",
   "metadata": {},
   "outputs": [
    {
     "name": "stdout",
     "output_type": "stream",
     "text": [
      "Writing gmarket/gmarket/spiders/spider.py\n"
     ]
    }
   ],
   "source": [
    "%%writefile gmarket/gmarket/spiders/spider.py\n",
    "import scrapy\n",
    "from gmarket.items import GmarketItem\n",
    "\n",
    "class GMSpider(scrapy.Spider):\n",
    "    name = \"GMB\" #spider 여러개 할 수 있는데 spider 이름 설정해준거\n",
    "    allow_domain = [\"gmarket.co.kr\"] #도메인 설정해야됨\n",
    "    start_urls = [\"http://corners.gmarket.co.kr/Bestsellers\"] #최초에 request, response 할 주소\n",
    "    #request, response 안해도 알아서 스크래피가 해줌\n",
    "    def parse(self, response): #비동기 방식\n",
    "        links = response.xpath('//*[@id=\"gBestWrap\"]/div/div[3]/div/ul/li/a/@href').extract()\n",
    "        for link in links[:20]: #실행될 때마다 request 하면서 멈춤(비동기니까)\n",
    "            yield scrapy.Request(link, callback=self.parse_content) # 이 link로 request 한 다음에 parse_content 호출\n",
    "    \n",
    "    def parse_content(self, response):\n",
    "        item = GmarketItem() #우리가 만든 class\n",
    "        item[\"title\"] = response.xpath('//*[@id=\"itemcase_basic\"]/div[1]/h1/text()')[0].extract()\n",
    "        item[\"price\"] = response.xpath('//*[@id=\"itemcase_basic\"]/div[1]/p/span/strong/text()')[0].extract()\n",
    "        item[\"link\"] = response.url\n",
    "        yield item #yield로 item을 던져줌 -> 던져진 데이터가 csv로 저장되거나 파이프라인으로 저장되거나.. "
   ]
  },
  {
   "cell_type": "code",
   "execution_count": null,
   "id": "e50dd7f4",
   "metadata": {},
   "outputs": [],
   "source": [
    "# 5. scrapy 프로젝트 실행\n",
    "# gmarket 디렉토리\n",
    "# scrapy crawl GMB -o items.csv\n",
    "#GMB를 해가지고 items.csv 파일로 저장할것이다."
   ]
  },
  {
   "cell_type": "code",
   "execution_count": null,
   "id": "3ad10b1b",
   "metadata": {},
   "outputs": [],
   "source": [
    "#여기서 명령어를 실행할 수는 없고 코드 code directory => terminal 메뉴"
   ]
  },
  {
   "cell_type": "code",
   "execution_count": 21,
   "id": "ea4c0719",
   "metadata": {},
   "outputs": [
    {
     "data": {
      "text/plain": [
       "'C:\\\\Users\\\\User\\\\AIVLESCHOOLPythonClass\\\\python_crawling\\\\Code\\\\3'"
      ]
     },
     "execution_count": 21,
     "metadata": {},
     "output_type": "execute_result"
    }
   ],
   "source": [
    "%pwd\n",
    "#현재 working directory"
   ]
  },
  {
   "cell_type": "code",
   "execution_count": 23,
   "id": "5aa6f4b3",
   "metadata": {},
   "outputs": [
    {
     "data": {
      "text/html": [
       "<div>\n",
       "<style scoped>\n",
       "    .dataframe tbody tr th:only-of-type {\n",
       "        vertical-align: middle;\n",
       "    }\n",
       "\n",
       "    .dataframe tbody tr th {\n",
       "        vertical-align: top;\n",
       "    }\n",
       "\n",
       "    .dataframe thead th {\n",
       "        text-align: right;\n",
       "    }\n",
       "</style>\n",
       "<table border=\"1\" class=\"dataframe\">\n",
       "  <thead>\n",
       "    <tr style=\"text-align: right;\">\n",
       "      <th></th>\n",
       "      <th>link</th>\n",
       "      <th>price</th>\n",
       "      <th>title</th>\n",
       "    </tr>\n",
       "  </thead>\n",
       "  <tbody>\n",
       "    <tr>\n",
       "      <th>18</th>\n",
       "      <td>http://item.gmarket.co.kr/Item?goodscode=25204...</td>\n",
       "      <td>28,800</td>\n",
       "      <td>(롯데백화점)남여공용 디스럽터 테이피 테잎 _ FS1HTB1091X</td>\n",
       "    </tr>\n",
       "    <tr>\n",
       "      <th>19</th>\n",
       "      <td>http://item.gmarket.co.kr/Item?goodscode=15870...</td>\n",
       "      <td>15,900</td>\n",
       "      <td>청정우 양지 300gX3팩</td>\n",
       "    </tr>\n",
       "  </tbody>\n",
       "</table>\n",
       "</div>"
      ],
      "text/plain": [
       "                                                 link   price  \\\n",
       "18  http://item.gmarket.co.kr/Item?goodscode=25204...  28,800   \n",
       "19  http://item.gmarket.co.kr/Item?goodscode=15870...  15,900   \n",
       "\n",
       "                                     title  \n",
       "18  (롯데백화점)남여공용 디스럽터 테이피 테잎 _ FS1HTB1091X   \n",
       "19                         청정우 양지 300gX3팩   "
      ]
     },
     "execution_count": 23,
     "metadata": {},
     "output_type": "execute_result"
    }
   ],
   "source": [
    "pd.read_csv(\"gmarket/items.csv\").tail(2)"
   ]
  },
  {
   "cell_type": "code",
   "execution_count": null,
   "id": "023b48b6",
   "metadata": {},
   "outputs": [],
   "source": [
    "#settings.py 에서 ROBOTSTXT_OBEY=True 이면 robots.txt를 따르면서 크롤링한다는 것\n",
    "#네이버 같은 경우 이걸 true라고 하면 전체 사용자한테 disable이기 때문에\n",
    "#크롤링을 못함\n",
    "#그래서 네이버 사이트의 경우 false로 설정해야 함"
   ]
  },
  {
   "cell_type": "code",
   "execution_count": null,
   "id": "e8555af2",
   "metadata": {},
   "outputs": [],
   "source": []
  },
  {
   "cell_type": "code",
   "execution_count": null,
   "id": "e641f8ee",
   "metadata": {},
   "outputs": [],
   "source": []
  },
  {
   "cell_type": "code",
   "execution_count": null,
   "id": "2e810425",
   "metadata": {},
   "outputs": [],
   "source": []
  },
  {
   "cell_type": "code",
   "execution_count": null,
   "id": "ed2a333f",
   "metadata": {},
   "outputs": [],
   "source": []
  },
  {
   "cell_type": "code",
   "execution_count": null,
   "id": "88a13b9c",
   "metadata": {},
   "outputs": [],
   "source": []
  }
 ],
 "metadata": {
  "kernelspec": {
   "display_name": "Python 3",
   "language": "python",
   "name": "python3"
  },
  "language_info": {
   "codemirror_mode": {
    "name": "ipython",
    "version": 3
   },
   "file_extension": ".py",
   "mimetype": "text/x-python",
   "name": "python",
   "nbconvert_exporter": "python",
   "pygments_lexer": "ipython3",
   "version": "3.8.8"
  }
 },
 "nbformat": 4,
 "nbformat_minor": 5
}
