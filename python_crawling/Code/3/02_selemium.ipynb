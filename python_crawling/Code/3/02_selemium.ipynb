{
 "cells": [
  {
   "cell_type": "markdown",
   "id": "bb001317",
   "metadata": {},
   "source": [
    "### selenium\n",
    "- 브라우저의 자동화 목적으로 만들어진 다양한 브라우저와 언어를 지원하는 라이브러리\n",
    "- 브라우저의 자동화?\n",
    "    - 웹페이지를 개발했을 때 브라우저에서 동작되는 웹서비스는 코드가 있겠죠.\n",
    "    - 그래서 그 코드가 동작해서 브라우저에서 기능들이 동작함.\n",
    "    - 서비스를 만들고 나서 서비스를 주기적으로 업데이트함 (코드를 수정함)\n",
    "    - code1을 code2로 수정했을 때 컴포넌트1을 확인했는데 컴포넌트2에 영향을 줄 수 있음\n",
    "    \n",
    "     회사에 QA 팀이 있는데,\n",
    "    dev에서 업데이트 했을 때 operator(유저들이 실제로 사용하는 코드, 서비스)로 올라갈 때 QA 팀을 거쳐서 ok되면 운영단으로 올라갈 수 있음\n",
    "    QA팀은 각 기능을 다 사용해봐야함.\n",
    "    사람이 기능들을 다 사용하려면 번거로움.\n",
    "    그래서 이 기능들을 다 사용하는 것을 자동화 시킨것\n",
    "=> 이 자동화 시킨게 셀레니움이다.\n",
    "\n",
    "- 크롤링도 셀레니움을 통해 할 수 있다.\n",
    "\n",
    "- 셀레니움은 브라우저를 파이썬 코드로 컨트롤해서 브라우저에 있는 데이터를 수집"
   ]
  },
  {
   "cell_type": "markdown",
   "id": "833b13b7",
   "metadata": {},
   "source": [
    "### 크롤링 방법\n",
    "- 1. requests : json : 웹페이지의 API 트래픽을 분석해서 데이터 수집 : naver stock\n",
    "- 2. requests : json : 공식적으로 제공하는 API를 application key 받아서 데이터 수집 : naver api(papago, trend)\n",
    "- 3. requests : html : BeautifulSoup(css selector) : 웹페이지의 html 코드를 받아서 데이터 수집 : gmarket\n",
    "- 4. selenium : browser - python : 브라우저를 파이썬 코드로 컨트롤 해서 데이터 수집 : ted\n",
    "- 크롤링할 때 좋은 순서 : 2 > 1 > 3 > 4\n",
    "- 셀레니움은 앞에서 사용한 방법들 1, 2, 3을 사용할 수 없을 때 사용"
   ]
  },
  {
   "cell_type": "code",
   "execution_count": null,
   "id": "24aa2cf5",
   "metadata": {},
   "outputs": [],
   "source": [
    "# 셀레니움을 개인 pc에서 사용하려면 환경설정해야함\n",
    "# 코랩쓰면 셀레니움 사용이 좀 어려움"
   ]
  },
  {
   "cell_type": "markdown",
   "id": "1eb4a3a4",
   "metadata": {},
   "source": [
    "#### 환경 설정\n",
    "- 크롬 브라우저가 있어야 함\n",
    "- 크롬 브라우저 드라이버를 다운로드 : 크롬 브라우저와 같은 버전으로 : 크롬 브라우저와 파이썬 코드 연결\n",
    "- selenium 패키지 설치\n",
    "- opt. : 크롬 브라우저의 드라이버 파일을 환경변수로 등록하면 조금 쉽게 셀레니움 사용 가능"
   ]
  },
  {
   "cell_type": "code",
   "execution_count": null,
   "id": "bc48a89f",
   "metadata": {},
   "outputs": [],
   "source": [
    "#크롬 드라이버 다운받아서 압축풀고 \n",
    "#그 압축푼 exe파일을 주피터 노트북 디렉토리에 업로드"
   ]
  },
  {
   "cell_type": "code",
   "execution_count": 1,
   "id": "bb165dd4",
   "metadata": {},
   "outputs": [
    {
     "name": "stdout",
     "output_type": "stream",
     "text": [
      "Collecting selenium\n",
      "  Downloading selenium-4.3.0-py3-none-any.whl (981 kB)\n",
      "Requirement already satisfied: urllib3[secure,socks]~=1.26 in c:\\users\\user\\anaconda3\\lib\\site-packages (from selenium) (1.26.4)\n",
      "Collecting trio~=0.17\n",
      "  Downloading trio-0.21.0-py3-none-any.whl (358 kB)\n",
      "Collecting trio-websocket~=0.9\n",
      "  Downloading trio_websocket-0.9.2-py3-none-any.whl (16 kB)\n",
      "Requirement already satisfied: idna in c:\\users\\user\\anaconda3\\lib\\site-packages (from trio~=0.17->selenium) (2.10)\n",
      "Requirement already satisfied: sortedcontainers in c:\\users\\user\\anaconda3\\lib\\site-packages (from trio~=0.17->selenium) (2.3.0)\n",
      "Collecting outcome\n",
      "  Downloading outcome-1.2.0-py2.py3-none-any.whl (9.7 kB)\n",
      "Requirement already satisfied: cffi>=1.14 in c:\\users\\user\\anaconda3\\lib\\site-packages (from trio~=0.17->selenium) (1.14.5)\n",
      "Requirement already satisfied: async-generator>=1.9 in c:\\users\\user\\anaconda3\\lib\\site-packages (from trio~=0.17->selenium) (1.10)\n",
      "Requirement already satisfied: sniffio in c:\\users\\user\\anaconda3\\lib\\site-packages (from trio~=0.17->selenium) (1.2.0)\n",
      "Requirement already satisfied: attrs>=19.2.0 in c:\\users\\user\\anaconda3\\lib\\site-packages (from trio~=0.17->selenium) (20.3.0)\n",
      "Requirement already satisfied: pycparser in c:\\users\\user\\anaconda3\\lib\\site-packages (from cffi>=1.14->trio~=0.17->selenium) (2.20)\n",
      "Collecting wsproto>=0.14\n",
      "  Downloading wsproto-1.1.0-py3-none-any.whl (24 kB)\n",
      "Requirement already satisfied: PySocks!=1.5.7,<2.0,>=1.5.6 in c:\\users\\user\\anaconda3\\lib\\site-packages (from urllib3[secure,socks]~=1.26->selenium) (1.7.1)\n",
      "Requirement already satisfied: pyOpenSSL>=0.14 in c:\\users\\user\\anaconda3\\lib\\site-packages (from urllib3[secure,socks]~=1.26->selenium) (20.0.1)\n",
      "Requirement already satisfied: certifi in c:\\users\\user\\anaconda3\\lib\\site-packages (from urllib3[secure,socks]~=1.26->selenium) (2020.12.5)\n",
      "Requirement already satisfied: cryptography>=1.3.4 in c:\\users\\user\\anaconda3\\lib\\site-packages (from urllib3[secure,socks]~=1.26->selenium) (3.4.7)\n",
      "Requirement already satisfied: six>=1.5.2 in c:\\users\\user\\anaconda3\\lib\\site-packages (from pyOpenSSL>=0.14->urllib3[secure,socks]~=1.26->selenium) (1.15.0)\n",
      "Collecting h11<1,>=0.9.0\n",
      "  Downloading h11-0.13.0-py3-none-any.whl (58 kB)\n",
      "Installing collected packages: outcome, h11, wsproto, trio, trio-websocket, selenium\n",
      "Successfully installed h11-0.13.0 outcome-1.2.0 selenium-4.3.0 trio-0.21.0 trio-websocket-0.9.2 wsproto-1.1.0\n"
     ]
    }
   ],
   "source": [
    "!pip install selenium"
   ]
  },
  {
   "cell_type": "code",
   "execution_count": 2,
   "id": "0aec4bcc",
   "metadata": {},
   "outputs": [],
   "source": [
    "from selenium import webdriver\n",
    "from selenium.webdriver.common.by import By"
   ]
  },
  {
   "cell_type": "code",
   "execution_count": 7,
   "id": "23ff1010",
   "metadata": {},
   "outputs": [],
   "source": [
    "# 1. 브라우저 띄우기\n",
    "driver = webdriver.Chrome() #파이썬 코드로 뜨는 브라우저를 컨트롤 가능"
   ]
  },
  {
   "cell_type": "code",
   "execution_count": null,
   "id": "df1adcf9",
   "metadata": {},
   "outputs": [],
   "source": [
    "#환경변수로 chromediver.exe를 설정해주면 모든 디렉토리에서 사용 가능\n",
    "# (이 파일이 디렉토리 내에 없어도 모든 디렉토리에서 사용 가능)"
   ]
  },
  {
   "cell_type": "code",
   "execution_count": 8,
   "id": "ec7274a4",
   "metadata": {},
   "outputs": [],
   "source": [
    "# 2. 페이지 이동\n",
    "driver.get(\"https://daum.net\")"
   ]
  },
  {
   "cell_type": "code",
   "execution_count": 9,
   "id": "c81a8c78",
   "metadata": {},
   "outputs": [],
   "source": [
    "# 3. 브라우저 사이즈 조절\n",
    "driver.set_window_size(200, 600) #가로 200, 세로 600으로 구성 됨\n",
    "#되도록이면 자동으로 컨트롤되면 크롬사이트는 안건드는게 나음 (스크롤도 x, 클릭도 x)\n",
    "#그래서 되도록이면 파이썬 코드로 컨트롤하자"
   ]
  },
  {
   "cell_type": "code",
   "execution_count": 10,
   "id": "5e2814e7",
   "metadata": {},
   "outputs": [],
   "source": [
    "# 4. 브라우저 스크롤 조절 (자바스크립트 실행)\n",
    "driver.execute_script(\"window.scrollTo(200, 300)\") #이 위치로 스크롤 이동\n",
    "# 저기 안에 들어간 코드가 자바스크립트 코드"
   ]
  },
  {
   "cell_type": "code",
   "execution_count": 11,
   "id": "3f10d477",
   "metadata": {},
   "outputs": [],
   "source": [
    "# 5. alert 다루기 (alert 창이 중간에 뜨면 크롤링을 못하니까 중간에 뜨면 제거)\n",
    "driver.execute_script(\"alert('hello selenium!')\") #alert 창 띄우기"
   ]
  },
  {
   "cell_type": "code",
   "execution_count": 12,
   "id": "07eded9e",
   "metadata": {},
   "outputs": [],
   "source": [
    "#alert 창의 확인 버튼을 python 코드로 눌러야 함\n",
    "alert = driver.switch_to.alert #alert 부분으로 객체를 만들어 변수에 저장\n",
    "alert.accept()"
   ]
  },
  {
   "cell_type": "code",
   "execution_count": 13,
   "id": "75956126",
   "metadata": {},
   "outputs": [],
   "source": [
    "#브라우저 스크롤을 다시 위로 조절\n",
    "driver.execute_script(\"window.scrollTo(0, 0);\")"
   ]
  },
  {
   "cell_type": "code",
   "execution_count": 14,
   "id": "2bcc4f55",
   "metadata": {},
   "outputs": [],
   "source": [
    "# 6. input 창에 문자열 입력\n",
    "#검색창에 python 코드로 문자열을 입력\n",
    "#daum 검색창 엘리먼트의 id가 q\n",
    "driver.find_element(By.CSS_SELECTOR, \"#q\").send_keys(\"파이썬\")"
   ]
  },
  {
   "cell_type": "code",
   "execution_count": 15,
   "id": "456603c3",
   "metadata": {},
   "outputs": [],
   "source": [
    "# 7. 검색버튼 클릭 (클릭 이벤트 추가) \n",
    "#돋보기 모양을 클릭해야 검색이 되겠지.\n",
    "driver.find_element(By.CSS_SELECTOR, \".inner_search > .ico_pctop.btn_search\").click()\n",
    "#selector .ico_pctop.btn_search 이렇게 붙여서 사용하면 \n",
    "#둘 다 있는 것 선택"
   ]
  },
  {
   "cell_type": "code",
   "execution_count": 16,
   "id": "888f0230",
   "metadata": {},
   "outputs": [],
   "source": [
    "# 8. 브라우저 종료\n",
    "driver.quit()"
   ]
  },
  {
   "cell_type": "code",
   "execution_count": null,
   "id": "1928a283",
   "metadata": {},
   "outputs": [],
   "source": []
  },
  {
   "cell_type": "code",
   "execution_count": 17,
   "id": "31ecc89c",
   "metadata": {},
   "outputs": [],
   "source": [
    "# 브라우저 자동화\n",
    "driver=webdriver.Chrome()\n",
    "driver.get(\"https://daum.net\")\n",
    "driver.set_window_size(200, 600)\n",
    "driver.execute_script(\"window.scrollTo(200, 300);\")\n",
    "driver.execute_script(\"alert('hello selenium!');\")\n",
    "alert = driver.switch_to.alert\n",
    "alert.accept()\n",
    "driver.execute_script(\"window.scrollTo(0, 0);\")\n",
    "driver.find_element(By.CSS_SELECTOR, \"#q\").send_keys(\"파이썬\")\n",
    "driver.find_element(By.CSS_SELECTOR, \".inner_search > .ico_pctop.btn_search\").click()\n",
    "driver.quit()"
   ]
  },
  {
   "cell_type": "code",
   "execution_count": null,
   "id": "c77ba027",
   "metadata": {},
   "outputs": [],
   "source": []
  },
  {
   "cell_type": "code",
   "execution_count": 18,
   "id": "6a7c1e16",
   "metadata": {},
   "outputs": [],
   "source": [
    "#간단하게 머신러닝 사용"
   ]
  },
  {
   "cell_type": "code",
   "execution_count": 20,
   "id": "693849cf",
   "metadata": {},
   "outputs": [
    {
     "name": "stdout",
     "output_type": "stream",
     "text": [
      " C 드라이브의 볼륨에는 이름이 없습니다.\n",
      " 볼륨 일련 번호: 7C6C-FC35\n",
      "\n",
      " C:\\Users\\User\\AIVLESCHOOLPythonClass\\python_crawling\\Code\\3 디렉터리\n",
      "\n",
      "2022-08-05  오후 12:04               477 premierleague.csv\n",
      "               1개 파일                 477 바이트\n",
      "               0개 디렉터리  108,123,799,552 바이트 남음\n"
     ]
    }
   ],
   "source": [
    "%ls premierleague.csv"
   ]
  },
  {
   "cell_type": "code",
   "execution_count": 21,
   "id": "577960cf",
   "metadata": {},
   "outputs": [
    {
     "data": {
      "text/html": [
       "<div>\n",
       "<style scoped>\n",
       "    .dataframe tbody tr th:only-of-type {\n",
       "        vertical-align: middle;\n",
       "    }\n",
       "\n",
       "    .dataframe tbody tr th {\n",
       "        vertical-align: top;\n",
       "    }\n",
       "\n",
       "    .dataframe thead th {\n",
       "        text-align: right;\n",
       "    }\n",
       "</style>\n",
       "<table border=\"1\" class=\"dataframe\">\n",
       "  <thead>\n",
       "    <tr style=\"text-align: right;\">\n",
       "      <th></th>\n",
       "      <th>name</th>\n",
       "      <th>gf</th>\n",
       "      <th>ga</th>\n",
       "      <th>points</th>\n",
       "    </tr>\n",
       "  </thead>\n",
       "  <tbody>\n",
       "    <tr>\n",
       "      <th>15</th>\n",
       "      <td>Huddersfield Town</td>\n",
       "      <td>28</td>\n",
       "      <td>58</td>\n",
       "      <td>37</td>\n",
       "    </tr>\n",
       "    <tr>\n",
       "      <th>16</th>\n",
       "      <td>Southampton</td>\n",
       "      <td>37</td>\n",
       "      <td>56</td>\n",
       "      <td>36</td>\n",
       "    </tr>\n",
       "    <tr>\n",
       "      <th>17</th>\n",
       "      <td>Swansea City</td>\n",
       "      <td>28</td>\n",
       "      <td>56</td>\n",
       "      <td>33</td>\n",
       "    </tr>\n",
       "    <tr>\n",
       "      <th>18</th>\n",
       "      <td>Stoke City</td>\n",
       "      <td>35</td>\n",
       "      <td>68</td>\n",
       "      <td>33</td>\n",
       "    </tr>\n",
       "    <tr>\n",
       "      <th>19</th>\n",
       "      <td>West Bromwich Albion</td>\n",
       "      <td>31</td>\n",
       "      <td>56</td>\n",
       "      <td>31</td>\n",
       "    </tr>\n",
       "  </tbody>\n",
       "</table>\n",
       "</div>"
      ],
      "text/plain": [
       "                    name  gf  ga  points\n",
       "15     Huddersfield Town  28  58      37\n",
       "16           Southampton  37  56      36\n",
       "17          Swansea City  28  56      33\n",
       "18            Stoke City  35  68      33\n",
       "19  West Bromwich Albion  31  56      31"
      ]
     },
     "execution_count": 21,
     "metadata": {},
     "output_type": "execute_result"
    }
   ],
   "source": [
    "df = pd.read_csv(\"premierleague.csv\")\n",
    "# 이 파일은 이름, 득점, 실점, 포인트로 구성됨\n",
    "df.tail()"
   ]
  },
  {
   "cell_type": "code",
   "execution_count": 22,
   "id": "29e4dfec",
   "metadata": {},
   "outputs": [],
   "source": [
    "# premierleague.csv를 가지고\n",
    "# 득점, 실점 입력하면 포인트를 예측하는 프로그램 만들기"
   ]
  },
  {
   "cell_type": "code",
   "execution_count": 23,
   "id": "6577417b",
   "metadata": {},
   "outputs": [],
   "source": [
    "feature = df[[\"gf\", \"ga\"]]\n",
    "target = df[\"points\"] #예측하고자 하는 데이터"
   ]
  },
  {
   "cell_type": "code",
   "execution_count": 24,
   "id": "35265b55",
   "metadata": {},
   "outputs": [
    {
     "name": "stdout",
     "output_type": "stream",
     "text": [
      "Collecting sklearn\n",
      "  Downloading sklearn-0.0.tar.gz (1.1 kB)\n",
      "Requirement already satisfied: scikit-learn in c:\\users\\user\\anaconda3\\lib\\site-packages (from sklearn) (0.24.1)\n",
      "Requirement already satisfied: threadpoolctl>=2.0.0 in c:\\users\\user\\anaconda3\\lib\\site-packages (from scikit-learn->sklearn) (2.1.0)\n",
      "Requirement already satisfied: joblib>=0.11 in c:\\users\\user\\anaconda3\\lib\\site-packages (from scikit-learn->sklearn) (1.0.1)\n",
      "Requirement already satisfied: numpy>=1.13.3 in c:\\users\\user\\anaconda3\\lib\\site-packages (from scikit-learn->sklearn) (1.20.1)\n",
      "Requirement already satisfied: scipy>=0.19.1 in c:\\users\\user\\anaconda3\\lib\\site-packages (from scikit-learn->sklearn) (1.6.2)\n",
      "Building wheels for collected packages: sklearn\n",
      "  Building wheel for sklearn (setup.py): started\n",
      "  Building wheel for sklearn (setup.py): finished with status 'done'\n",
      "  Created wheel for sklearn: filename=sklearn-0.0-py2.py3-none-any.whl size=1316 sha256=421694a553b50a614a965166fcdaa709b22eaeead6863da9b46b26c7d59d4c4c\n",
      "  Stored in directory: c:\\users\\user\\appdata\\local\\pip\\cache\\wheels\\22\\0b\\40\\fd3f795caaa1fb4c6cb738bc1f56100be1e57da95849bfc897\n",
      "Successfully built sklearn\n",
      "Installing collected packages: sklearn\n",
      "Successfully installed sklearn-0.0\n"
     ]
    }
   ],
   "source": [
    "!pip install sklearn"
   ]
  },
  {
   "cell_type": "code",
   "execution_count": 25,
   "id": "95c9e694",
   "metadata": {},
   "outputs": [],
   "source": [
    "from sklearn.linear_model import LinearRegression #회귀모델\n",
    "model = LinearRegression().fit(feature, target) #model이 인공지능 객체\n",
    "# 이 모델객체는 컴퓨터의 RAM에 저장됨\n",
    "# 실제로 시스템에 사용할 때는 모델 객체를 하드디스크에 저장해서 사용함\n",
    "# 우리는 데이터가 많지 않아서 학습하는데 시간이 별로 안걸림"
   ]
  },
  {
   "cell_type": "code",
   "execution_count": 29,
   "id": "7bf8c750",
   "metadata": {},
   "outputs": [
    {
     "data": {
      "text/plain": [
       "array([79.])"
      ]
     },
     "execution_count": 29,
     "metadata": {},
     "output_type": "execute_result"
    }
   ],
   "source": [
    "#모델 사용해서 데이터 예측하기 : 득점 80, 승점 36\n",
    "np.round(model.predict([[80, 36]])) \n",
    "#토트넘이 6점 더 득점했어도 79점이니까 맨유를 이기지 못했을 것이다."
   ]
  },
  {
   "cell_type": "code",
   "execution_count": 27,
   "id": "3541e4ef",
   "metadata": {},
   "outputs": [
    {
     "data": {
      "text/html": [
       "<div>\n",
       "<style scoped>\n",
       "    .dataframe tbody tr th:only-of-type {\n",
       "        vertical-align: middle;\n",
       "    }\n",
       "\n",
       "    .dataframe tbody tr th {\n",
       "        vertical-align: top;\n",
       "    }\n",
       "\n",
       "    .dataframe thead th {\n",
       "        text-align: right;\n",
       "    }\n",
       "</style>\n",
       "<table border=\"1\" class=\"dataframe\">\n",
       "  <thead>\n",
       "    <tr style=\"text-align: right;\">\n",
       "      <th></th>\n",
       "      <th>name</th>\n",
       "      <th>gf</th>\n",
       "      <th>ga</th>\n",
       "      <th>points</th>\n",
       "    </tr>\n",
       "  </thead>\n",
       "  <tbody>\n",
       "    <tr>\n",
       "      <th>0</th>\n",
       "      <td>Manchester City</td>\n",
       "      <td>106</td>\n",
       "      <td>27</td>\n",
       "      <td>100</td>\n",
       "    </tr>\n",
       "    <tr>\n",
       "      <th>1</th>\n",
       "      <td>Manchester United</td>\n",
       "      <td>68</td>\n",
       "      <td>28</td>\n",
       "      <td>81</td>\n",
       "    </tr>\n",
       "    <tr>\n",
       "      <th>2</th>\n",
       "      <td>Tottenham Hotspur</td>\n",
       "      <td>74</td>\n",
       "      <td>36</td>\n",
       "      <td>77</td>\n",
       "    </tr>\n",
       "    <tr>\n",
       "      <th>3</th>\n",
       "      <td>Liverpool</td>\n",
       "      <td>84</td>\n",
       "      <td>38</td>\n",
       "      <td>75</td>\n",
       "    </tr>\n",
       "    <tr>\n",
       "      <th>4</th>\n",
       "      <td>Chelsea</td>\n",
       "      <td>62</td>\n",
       "      <td>38</td>\n",
       "      <td>70</td>\n",
       "    </tr>\n",
       "  </tbody>\n",
       "</table>\n",
       "</div>"
      ],
      "text/plain": [
       "                name   gf  ga  points\n",
       "0    Manchester City  106  27     100\n",
       "1  Manchester United   68  28      81\n",
       "2  Tottenham Hotspur   74  36      77\n",
       "3          Liverpool   84  38      75\n",
       "4            Chelsea   62  38      70"
      ]
     },
     "execution_count": 27,
     "metadata": {},
     "output_type": "execute_result"
    }
   ],
   "source": [
    "df.head(5)"
   ]
  },
  {
   "cell_type": "code",
   "execution_count": 30,
   "id": "8b2eeefa",
   "metadata": {},
   "outputs": [],
   "source": [
    "# 시나리오: \n",
    "# data > train(8h) > model(ram) > computer off : 날라감\n",
    "# 그럼 다음에 이 모델을 사용하려고 할 때 또다시 8시간 걸림\n",
    "# 그래서 모델을 사용할 때는 이 모델을 ssd나 hdd(하드디스크)에 저장해서 사용"
   ]
  },
  {
   "cell_type": "code",
   "execution_count": 32,
   "id": "2d867538",
   "metadata": {},
   "outputs": [],
   "source": [
    "import pickle"
   ]
  },
  {
   "cell_type": "code",
   "execution_count": 36,
   "id": "170cb391",
   "metadata": {},
   "outputs": [],
   "source": [
    "# RAM(메모리)에 있는 것을 ssd에 저장해서 사용하는 방법\n",
    "with open(\"model.pkl\", \"wb\") as file: #write binary\n",
    "    pickle.dump(model, file) #model.pkl 이라는 파일로 객체가 하드디스크에 저장"
   ]
  },
  {
   "cell_type": "code",
   "execution_count": 37,
   "id": "fcf9747b",
   "metadata": {},
   "outputs": [],
   "source": [
    "# ssd > ram\n",
    "with open(\"model.pkl\", \"rb\") as file:\n",
    "    load_model = pickle.load(file) #하드디스크에 저장했던 모델을 불러옴"
   ]
  },
  {
   "cell_type": "code",
   "execution_count": null,
   "id": "cf4ee662",
   "metadata": {},
   "outputs": [],
   "source": [
    "# warning 메시지 제거\n",
    "import warnings\n",
    "warnings.filterwarnings(\"ignore\")"
   ]
  },
  {
   "cell_type": "markdown",
   "id": "cd2d1236",
   "metadata": {},
   "source": [
    "### 텍스트 데이터 수집\n",
    " - TED 사이트 : https://ted.com/talks\n",
    "     - 테드 사이트에 있는 제목 텍스트 가져오기\n",
    "     - 한국어로 된 동영상 강의 텍스트 가져오기"
   ]
  },
  {
   "cell_type": "code",
   "execution_count": null,
   "id": "4a46b035",
   "metadata": {},
   "outputs": [],
   "source": [
    "# 1. 브라우저 열기"
   ]
  },
  {
   "cell_type": "code",
   "execution_count": 3,
   "id": "f7feb583",
   "metadata": {},
   "outputs": [],
   "source": [
    "driver=webdriver.Chrome()"
   ]
  },
  {
   "cell_type": "code",
   "execution_count": null,
   "id": "f81cb02d",
   "metadata": {},
   "outputs": [],
   "source": [
    "# 2. 페이지 이동"
   ]
  },
  {
   "cell_type": "code",
   "execution_count": 4,
   "id": "19dde969",
   "metadata": {},
   "outputs": [],
   "source": [
    "driver.get('https://www.ted.com/talks')"
   ]
  },
  {
   "cell_type": "code",
   "execution_count": null,
   "id": "1a72b295",
   "metadata": {},
   "outputs": [],
   "source": [
    "# 3. 제목 데이터 텍스트 수집"
   ]
  },
  {
   "cell_type": "code",
   "execution_count": 5,
   "id": "475e883b",
   "metadata": {},
   "outputs": [
    {
     "data": {
      "text/plain": [
       "'Join TED Recommends to get the best ideas, selected just for you'"
      ]
     },
     "execution_count": 5,
     "metadata": {},
     "output_type": "execute_result"
    }
   ],
   "source": [
    "sub_title = driver.find_element(By.CSS_SELECTOR, \"#banner-secondary\").text\n",
    "sub_title"
   ]
  },
  {
   "cell_type": "code",
   "execution_count": null,
   "id": "6a133b09",
   "metadata": {},
   "outputs": [],
   "source": [
    "# By.CSS_SELECTOR 에서 By로 쓸 수 있는 게 많당.\n",
    "# 강사님의 경우 CSS_SELECTOR 과 XPATH를 많이 사용하심.\n",
    "# selenium은 CSS_SELECTOR만 가지고 엘리먼트를 선택할 수 있는 것이 아니라\n",
    "# XPATH를 가지고 엘리먼트를 선택할 수 있다."
   ]
  },
  {
   "cell_type": "code",
   "execution_count": 8,
   "id": "64b0e8bd",
   "metadata": {},
   "outputs": [],
   "source": [
    "# 4. select box에서 한국어 메뉴 클릭 : lang=\"ko\" 라는 속성 값 이용\n",
    "# #languages [lang=\"ko\"]  그냥 띄어쓰기는 그 아래있는 lang=\"ko\"인 속성을 가져옴\n",
    "# #languages > optgroup > [lang=\"ko\"]  >는 한단계 밑이기 때문에 이렇게 거쳐가는 곳을 적어줘야 함\n",
    "driver.find_element(By.CSS_SELECTOR, '#languages [lang=\"ko\"]').click()"
   ]
  },
  {
   "cell_type": "code",
   "execution_count": null,
   "id": "82993575",
   "metadata": {},
   "outputs": [],
   "source": [
    "# 5. 한국어 데이터가 나오면 전체 데이터의 제목과 링크 데이터를 수집"
   ]
  },
  {
   "cell_type": "code",
   "execution_count": 14,
   "id": "53d6253e",
   "metadata": {},
   "outputs": [
    {
     "data": {
      "text/plain": [
       "36"
      ]
     },
     "execution_count": 14,
     "metadata": {},
     "output_type": "execute_result"
    }
   ],
   "source": [
    "#먼저 전체 데이터 리스트를 가져온 다음에 => 각각의 제목과 링크데이터 수집\n",
    "elements = driver.find_elements(By.CSS_SELECTOR, \"#browse-results > .row > div\")\n",
    "len(elements)"
   ]
  },
  {
   "cell_type": "code",
   "execution_count": 18,
   "id": "edc37325",
   "metadata": {},
   "outputs": [
    {
     "data": {
      "text/plain": [
       "('스페인어의 역사 - 일란 스타반스(Ilan Stavans)',\n",
       " 'https://www.ted.com/talks/ilan_stavans_a_brief_history_of_spanish?language=ko')"
      ]
     },
     "execution_count": 18,
     "metadata": {},
     "output_type": "execute_result"
    }
   ],
   "source": [
    "element = elements[0]\n",
    "title  = element.find_element(By.CSS_SELECTOR, \"h4 > .ga-link\").text\n",
    "link = element.find_element(By.CSS_SELECTOR, \"h4 > .ga-link\").get_attribute(\"href\")\n",
    "title, link"
   ]
  },
  {
   "cell_type": "code",
   "execution_count": 19,
   "id": "e025dba2",
   "metadata": {},
   "outputs": [],
   "source": [
    "# 6. 데이터프레임으로 만들기"
   ]
  },
  {
   "cell_type": "code",
   "execution_count": 20,
   "id": "14000c27",
   "metadata": {},
   "outputs": [
    {
     "data": {
      "text/plain": [
       "[{'title': '스페인어의 역사 - 일란 스타반스(Ilan Stavans)',\n",
       "  'link': 'https://www.ted.com/talks/ilan_stavans_a_brief_history_of_spanish?language=ko'},\n",
       " {'title': '암흑 물질의 수수께끼를 해결하는 방법',\n",
       "  'link': 'https://www.ted.com/talks/chanda_prescod_weinstein_the_search_for_the_invisible_matter_that_shapes_the_universe?language=ko'},\n",
       " {'title': '알코올은 어떻게 숙취를 일으킬까요?',\n",
       "  'link': 'https://www.ted.com/talks/judy_grisel_how_does_alcohol_cause_hangovers?language=ko'},\n",
       " {'title': '가장 살기 좋은 나라는 어디일까?',\n",
       "  'link': 'https://www.ted.com/talks/ted_ed_what_s_the_best_country_to_live_in?language=ko'},\n",
       " {'title': '높은 고도가 당신의 몸에 미치는 영향 - 앤드류 러버링(Andrew Lovering)',\n",
       "  'link': 'https://www.ted.com/talks/andrew_lovering_how_high_altitude_affects_your_body?language=ko'},\n",
       " {'title': '앵무새는 어떻게 말을 할까요?',\n",
       "  'link': 'https://www.ted.com/talks/grace_smith_viduarre_and_tim_wright_why_can_parrots_talk?language=ko'},\n",
       " {'title': '기후 붕괴를 방지하기 위한 실제 비용',\n",
       "  'link': 'https://www.ted.com/talks/yuval_noah_harari_the_actual_cost_of_preventing_climate_breakdown?language=ko'},\n",
       " {'title': '식물이기도 한 동물 - 루카 시무스 라이트(Luka Seamus Wright)',\n",
       "  'link': 'https://www.ted.com/talks/luka_seamus_wright_these_animals_are_also_plants_wait_what?language=ko'},\n",
       " {'title': '자연에서 가장 희귀한 색은 무엇일까요? - 빅토리아 황Victoria Hwang)',\n",
       "  'link': 'https://www.ted.com/talks/victoria_hwang_what_is_the_rarest_color_in_nature?language=ko'},\n",
       " {'title': 'e스포츠, 가상의 F1 경기와 놀이의 새로운 시대',\n",
       "  'link': 'https://www.ted.com/talks/james_hodge_esports_virtual_formula_1_and_the_new_era_of_play?language=ko'},\n",
       " {'title': '자기만의 메타버스를 만들고 공유해보세요!',\n",
       "  'link': 'https://www.ted.com/talks/agnes_larsson_the_awesome_potential_of_many_metaverses?language=ko'},\n",
       " {'title': '거짓말에 관한 도덕적 딜레마',\n",
       "  'link': 'https://www.ted.com/talks/sarah_stroud_ethical_dilemma_would_you_lie?language=ko'},\n",
       " {'title': '생각을 글로 바꿔 주는 뇌 이식 기술',\n",
       "  'link': 'https://www.ted.com/talks/tom_oxley_a_brain_implant_that_turns_your_thoughts_into_text?language=ko'},\n",
       " {'title': '어두운 역사: 캄보디아 학살- 티모시 윌리엄스',\n",
       "  'link': 'https://www.ted.com/talks/timothy_williams_ugly_history_cambodian_genocide?language=ko'},\n",
       " {'title': '채식을 위한 맛있는 안내서',\n",
       "  'link': 'https://www.ted.com/talks/alexis_nikole_nelson_a_flavorful_field_guide_to_foraging?language=ko'},\n",
       " {'title': '당신의 도시는 기후 위기에 어떻게 대처하고 있습니까?',\n",
       "  'link': 'https://www.ted.com/talks/marvin_rees_how_is_your_city_tackling_the_climate_crisis?language=ko'},\n",
       " {'title': '심장 이식 수술은 어떻게 진행될까요? - 로니 섀노아다',\n",
       "  'link': 'https://www.ted.com/talks/roni_shanoada_how_does_heart_transplant_surgery_work?language=ko'},\n",
       " {'title': '지금이야말로 기후 위기에 대비해야 할 각성의 순간입니다',\n",
       "  'link': 'https://www.ted.com/talks/al_gore_this_is_the_moment_to_take_on_the_climate_crisis?language=ko'},\n",
       " {'title': '섭식 장애는 왜 이리 치료가 어려울까요? - 아니스 바흐지',\n",
       "  'link': 'https://www.ted.com/talks/anees_bahji_why_are_eating_disorders_so_hard_to_treat?language=ko'},\n",
       " {'title': '당신이 그렇게 바쁜 진짜 이유',\n",
       "  'link': 'https://www.ted.com/talks/dorie_clark_the_real_reason_you_feel_so_busy_and_what_to_do_about_it?language=ko'},\n",
       " {'title': '한 전범을 몰락시킨 반란군 라디오 - 다이아나 시에라 베세라(Diana Sierra Becerra)',\n",
       "  'link': 'https://www.ted.com/talks/diana_sierra_becerra_the_rebel_radio_that_brought_down_a_war_criminal?language=ko'},\n",
       " {'title': '국경을 초월한 탐사 언론이 범죄에 맞서는 힘',\n",
       "  'link': 'https://www.ted.com/talks/bektour_iskender_the_crime_fighting_power_of_cross_border_investigative_journalism?language=ko'},\n",
       " {'title': '낙수 경제는 진짜로 작용할까요?',\n",
       "  'link': 'https://www.ted.com/talks/jonathan_smith_does_trickle_down_economics_actually_work?language=ko'},\n",
       " {'title': '지도 제작 역사에서 가장 큰 착오',\n",
       "  'link': 'https://www.ted.com/talks/kayla_wolf_the_biggest_mistakes_in_mapmaking_history?language=ko'},\n",
       " {'title': '의료 시스템의 가장 강력한 미개발 자원',\n",
       "  'link': 'https://www.ted.com/talks/edith_elliott_and_shahed_alam_the_most_powerful_untapped_resource_in_health_care?language=ko'},\n",
       " {'title': '폭력의 고리를 끊는 정신 건강 복지',\n",
       "  'link': 'https://www.ted.com/talks/celina_de_sola_mental_health_care_that_disrupts_cycles_of_violence?language=ko'},\n",
       " {'title': '북극에 묻혀 있는 탄소가 어떻게 전 인류를 위협하는가',\n",
       "  'link': 'https://www.ted.com/talks/sue_natali_how_ancient_arctic_carbon_threatens_everyone_on_the_planet?language=ko'},\n",
       " {'title': '수에즈 운하는 세상을 어떻게 바꿨을까요 – 루시아 카르미나티 (Lucia Carminati)',\n",
       "  'link': 'https://www.ted.com/talks/lucia_carminati_how_the_suez_canal_changed_the_world?language=ko'},\n",
       " {'title': '이루어질 수 없는 사랑을 다룬 아시아 신화',\n",
       "  'link': 'https://www.ted.com/talks/shannon_zhao_the_myth_of_the_original_star_crossed_lovers?language=ko'},\n",
       " {'title': '광란의 식사 수수께끼를 풀 수 있나요? - 헨리 피치오토',\n",
       "  'link': 'https://www.ted.com/talks/henri_picciotto_can_you_solve_the_feeding_frenzy_riddle?language=ko'},\n",
       " {'title': '제임스 웹 우주 망원경을 통해 보는 우주',\n",
       "  'link': 'https://www.ted.com/talks/john_c_mather_how_the_james_webb_space_telescope_will_unfold_the_universe?language=ko'},\n",
       " {'title': '이번이 마지막 팬데믹이 되도록 할 수 있습니다',\n",
       "  'link': 'https://www.ted.com/talks/bill_gates_we_can_make_covid_19_the_last_pandemic?language=ko'},\n",
       " {'title': '좀비의 어두운 역사 – 크리스토퍼 M. 모어만 (Christopher M. Moreman)',\n",
       "  'link': 'https://www.ted.com/talks/christopher_m_moreman_the_dark_history_of_zombies?language=ko'},\n",
       " {'title': '열대우림 보호를 위한 새로운 경제 모델',\n",
       "  'link': 'https://www.ted.com/talks/nat_keohane_a_new_economic_model_for_protecting_tropical_forests?language=ko'},\n",
       " {'title': '두려움을 극복하기 위한 올림픽 챔피언의 사고방식',\n",
       "  'link': 'https://www.ted.com/talks/allyson_felix_an_olympic_champion_s_mindset_for_overcoming_fear?language=ko'},\n",
       " {'title': '바퀴벌레를 없애는 것은 왜 이렇게 어려울까요? - 아메야 곤달레카르',\n",
       "  'link': 'https://www.ted.com/talks/ameya_gondhalekar_why_are_cockroaches_so_hard_to_kill?language=ko'}]"
      ]
     },
     "execution_count": 20,
     "metadata": {},
     "output_type": "execute_result"
    }
   ],
   "source": [
    "data = []\n",
    "for element in elements :\n",
    "    data.append({\n",
    "        \"title\" : element.find_element(By.CSS_SELECTOR, \"h4 > .ga-link\").text,\n",
    "        \"link\": element.find_element(By.CSS_SELECTOR, \"h4>.ga-link\").get_attribute(\"href\"),       \n",
    "    })\n",
    "    \n",
    "data"
   ]
  },
  {
   "cell_type": "code",
   "execution_count": 21,
   "id": "d75c72c4",
   "metadata": {},
   "outputs": [],
   "source": [
    "driver.quit()"
   ]
  },
  {
   "cell_type": "markdown",
   "id": "46d02b1c",
   "metadata": {},
   "source": [
    "#### Headless\n",
    "- 브라우저를 화면에 띄우지 않고 메모리 상에서만 브라우저를 실행하여 크롤링하는 방법\n",
    "- window가 지원되지 않는 환경에서 selenium 사용 가능 (서버 컴퓨터같은 걸 쓸 때는 화면이 뜨지 않고 command line만 뜸 -> 그 cmd창에서 모든걸 해야 함, 그러면 브라우저를 띄울 수가 없음 -> 그런 경우 headless를 사용해서 selenium을 구동시킬 수 있다.)\n",
    "- 옛날에는 phantom.js나 그런걸 썼는데 옛날에 생긴 건 아님\n",
    "- 크롬 버전 : 60이상부터 지원 (요즘 사용하는 크롬은 거의 다 지원된다고 보면 됨)"
   ]
  },
  {
   "cell_type": "code",
   "execution_count": 23,
   "id": "62df58cb",
   "metadata": {},
   "outputs": [
    {
     "data": {
      "text/plain": [
       "'104.0.5112.81'"
      ]
     },
     "execution_count": 23,
     "metadata": {},
     "output_type": "execute_result"
    }
   ],
   "source": [
    "#크롬 버전 확인\n",
    "driver= webdriver.Chrome()\n",
    "version = driver.capabilities[\"browserVersion\"]\n",
    "driver.quit()\n",
    "version #104버전"
   ]
  },
  {
   "cell_type": "code",
   "execution_count": 27,
   "id": "e6d04708",
   "metadata": {},
   "outputs": [
    {
     "data": {
      "text/plain": [
       "'Join TED Recommends to get the best ideas, selected just for you'"
      ]
     },
     "execution_count": 27,
     "metadata": {},
     "output_type": "execute_result"
    }
   ],
   "source": [
    "options = webdriver.ChromeOptions() #options라고 하는 객체를 만듦\n",
    "options.add_argument(\"headless\") #어떤 argument 추가할 수 있는지 확인하려면 selenium 사이트 가는게 제일 빠르다\n",
    "\n",
    "driver=webdriver.Chrome(options=options)\n",
    "driver.get(\"https://ted.com/talks\")\n",
    "sub_title = driver.find_element(By.CSS_SELECTOR, \"#banner-secondary\").text\n",
    "driver.quit()\n",
    "sub_title"
   ]
  },
  {
   "cell_type": "code",
   "execution_count": null,
   "id": "c9678fca",
   "metadata": {},
   "outputs": [],
   "source": []
  },
  {
   "cell_type": "code",
   "execution_count": null,
   "id": "de0059ed",
   "metadata": {},
   "outputs": [],
   "source": []
  },
  {
   "cell_type": "code",
   "execution_count": null,
   "id": "0b498a54",
   "metadata": {},
   "outputs": [],
   "source": []
  },
  {
   "cell_type": "code",
   "execution_count": null,
   "id": "ee10f193",
   "metadata": {},
   "outputs": [],
   "source": []
  },
  {
   "cell_type": "code",
   "execution_count": null,
   "id": "b64475d1",
   "metadata": {},
   "outputs": [],
   "source": []
  },
  {
   "cell_type": "code",
   "execution_count": null,
   "id": "7be71ac1",
   "metadata": {},
   "outputs": [],
   "source": []
  },
  {
   "cell_type": "code",
   "execution_count": null,
   "id": "2edfc381",
   "metadata": {},
   "outputs": [],
   "source": []
  },
  {
   "cell_type": "code",
   "execution_count": null,
   "id": "d3542ae5",
   "metadata": {},
   "outputs": [],
   "source": []
  }
 ],
 "metadata": {
  "kernelspec": {
   "display_name": "Python 3",
   "language": "python",
   "name": "python3"
  },
  "language_info": {
   "codemirror_mode": {
    "name": "ipython",
    "version": 3
   },
   "file_extension": ".py",
   "mimetype": "text/x-python",
   "name": "python",
   "nbconvert_exporter": "python",
   "pygments_lexer": "ipython3",
   "version": "3.8.8"
  }
 },
 "nbformat": 4,
 "nbformat_minor": 5
}
