{
 "cells": [
  {
   "cell_type": "markdown",
   "id": "93093b51",
   "metadata": {},
   "source": [
    "### api를 이용한 데이터 수집 방법을 배워보자."
   ]
  },
  {
   "cell_type": "markdown",
   "id": "98a60e86",
   "metadata": {},
   "source": [
    "### API\n",
    "- application programming interface\n",
    "- api를 사용해서 데이터를 수집하는 것은 서비스에 데이터를 제공하는 공식적인 방법으로 데이터를 수집\n",
    "- naver api : papago api(네이버 제공 번역 서비스) 사용해보자."
   ]
  },
  {
   "cell_type": "code",
   "execution_count": 6,
   "id": "0f99de03",
   "metadata": {},
   "outputs": [],
   "source": [
    "import pandas as pd\n",
    "import requests, json"
   ]
  },
  {
   "cell_type": "code",
   "execution_count": 11,
   "id": "b009804b",
   "metadata": {},
   "outputs": [],
   "source": [
    "# 1. APP 등록 => app_key(request_token) 수집\n",
    "# https://developers.naver.com\n",
    "# 들어가서 애플리케이션등록(API 이용 신청) => 애플리케이션 이름, 사용 API 작성\n",
    "# 비로그인 오픈 API 서비스 환경에서 WEB 설정, url은 아무거나 => 등록하기\n",
    "# 그렇게 등록을 하면 내 애플리케이션가면 목록에 뜸, 거기서 ID랑 key 값 가져오기"
   ]
  },
  {
   "cell_type": "code",
   "execution_count": 14,
   "id": "3995307c",
   "metadata": {},
   "outputs": [],
   "source": [
    "CLIENT_ID, CLIENT_SECRET = \"e2VwU8fHEnT1GOf8qvN5\", \"4wT5vV8fws\""
   ]
  },
  {
   "cell_type": "code",
   "execution_count": 15,
   "id": "ce13ea17",
   "metadata": {},
   "outputs": [
    {
     "data": {
      "text/plain": [
       "'\\ncurl \"https://openapi.naver.com/v1/papago/n2mt\"     -H \"Content-Type: application/x-www-form-urlencoded; charset=UTF-8\"     -H \"X-Naver-Client-Id: {애플리케이션 등록 시 발급받은 클라이언트 아이디 값}\"     -H \"X-Naver-Client-Secret: {애플리케이션 등록 시 발급받은 클라이언트 시크릿 값}\"     -d \"source=ko&target=en&text=만나서 반갑습니다.\" -v\\n    \\n-H는 헤더\\n-d는 데이터\\n'"
      ]
     },
     "execution_count": 15,
     "metadata": {},
     "output_type": "execute_result"
    }
   ],
   "source": [
    "# 2. Naver API Document 확인 => URL 알아낼 수 있다. (URL 알아내는 과정이 브라우저를 사용하는 앞의 과정과 다름)\n",
    "#Documents => API 레퍼런스에서 URL, 프로토콜, get/post, 파라미터, 언어코드, 구현예제 등등을 확인할 수 있다.\n",
    "\"\"\"\n",
    "curl \"https://openapi.naver.com/v1/papago/n2mt\" \\\n",
    "    -H \"Content-Type: application/x-www-form-urlencoded; charset=UTF-8\" \\\n",
    "    -H \"X-Naver-Client-Id: {애플리케이션 등록 시 발급받은 클라이언트 아이디 값}\" \\\n",
    "    -H \"X-Naver-Client-Secret: {애플리케이션 등록 시 발급받은 클라이언트 시크릿 값}\" \\\n",
    "    -d \"source=ko&target=en&text=만나서 반갑습니다.\" -v\n",
    "    \n",
    "-H는 헤더\n",
    "-d는 데이터\n",
    "\"\"\""
   ]
  },
  {
   "cell_type": "code",
   "execution_count": 16,
   "id": "fd1cf280",
   "metadata": {},
   "outputs": [],
   "source": [
    "txt = \"파이썬은 재미있습니다.\"\n",
    "url = \"https://openapi.naver.com/v1/papago/n2mt\"\n",
    "params = {\n",
    "    \"source\": \"ko\", #언어코드 한국어\n",
    "    \"target\": \"en\",\n",
    "    \"text\": txt\n",
    "}\n",
    "\n",
    "#application key 값은 헤더 영역에 추가\n",
    "headers= {\n",
    "    \"Content-Type\": \"application/json\",\n",
    "    \"X-Naver-Client-Id\": CLIENT_ID,\n",
    "    \"X-Naver-Client-Secret\": CLIENT_SECRET,\n",
    "}"
   ]
  },
  {
   "cell_type": "code",
   "execution_count": 9,
   "id": "b9321a52",
   "metadata": {},
   "outputs": [],
   "source": [
    "# 3. request(url, app_key) => response(json) : JSON(str)\n",
    "# app_key가 없으면 패스워드가 없는것 -> 거절됨"
   ]
  },
  {
   "cell_type": "code",
   "execution_count": null,
   "id": "e1cac891",
   "metadata": {},
   "outputs": [],
   "source": [
    "#json.dumps() : 인터넷 트래픽에서는 영문, 숫자, 특수문자만 사용 가능\n",
    "#근데 json.dumps()는 한글과 같은 문자를 인코딩(영문, 숫자, 특수문자로 변환)\n",
    "# params를 그대로 사용하면 \"파이썬은 재미있습니다\" 얘가 에러남.\n",
    "# 그렇기 때문에 한글을 영문, 숫자, 특수문자로 변환해주어야 한다.\n",
    "# 그 변환해주는 게 json.dumps() 임\n",
    "# 한글이 없으면 이렇게 안해줘도 됨"
   ]
  },
  {
   "cell_type": "code",
   "execution_count": 17,
   "id": "45b53a4d",
   "metadata": {},
   "outputs": [
    {
     "data": {
      "text/plain": [
       "<Response [200]>"
      ]
     },
     "execution_count": 17,
     "metadata": {},
     "output_type": "execute_result"
    }
   ],
   "source": [
    "response = requests.post(url, json.dumps(params), headers=headers)\n",
    "response"
   ]
  },
  {
   "cell_type": "code",
   "execution_count": 18,
   "id": "14b39b53",
   "metadata": {},
   "outputs": [
    {
     "data": {
      "text/plain": [
       "'{\"message\":{\"result\":{\"srcLangType\":\"ko\",\"tarLangType\":\"en\",\"translatedText\":\"Python is fun.\",\"engineType\":\"N2MT\",\"pivot\":null,\"dict\":null,\"tarDict\":null},\"@type\":\"response\",\"@service\":\"naverservice.nmt.proxy\",\"@version\":\"1.0.0\"}}'"
      ]
     },
     "execution_count": 18,
     "metadata": {},
     "output_type": "execute_result"
    }
   ],
   "source": [
    "response.text"
   ]
  },
  {
   "cell_type": "code",
   "execution_count": 10,
   "id": "0ebf00f0",
   "metadata": {},
   "outputs": [],
   "source": [
    "# 4. JSON(str) => list, dict => DataFrame"
   ]
  },
  {
   "cell_type": "code",
   "execution_count": 19,
   "id": "de74598b",
   "metadata": {},
   "outputs": [
    {
     "data": {
      "text/plain": [
       "{'message': {'result': {'srcLangType': 'ko',\n",
       "   'tarLangType': 'en',\n",
       "   'translatedText': 'Python is fun.',\n",
       "   'engineType': 'N2MT',\n",
       "   'pivot': None,\n",
       "   'dict': None,\n",
       "   'tarDict': None},\n",
       "  '@type': 'response',\n",
       "  '@service': 'naverservice.nmt.proxy',\n",
       "  '@version': '1.0.0'}}"
      ]
     },
     "execution_count": 19,
     "metadata": {},
     "output_type": "execute_result"
    }
   ],
   "source": [
    "response.json()"
   ]
  },
  {
   "cell_type": "code",
   "execution_count": 20,
   "id": "48578d9c",
   "metadata": {},
   "outputs": [
    {
     "data": {
      "text/plain": [
       "'Python is fun.'"
      ]
     },
     "execution_count": 20,
     "metadata": {},
     "output_type": "execute_result"
    }
   ],
   "source": [
    "text_en = response.json()[\"message\"][\"result\"][\"translatedText\"]\n",
    "text_en"
   ]
  },
  {
   "cell_type": "code",
   "execution_count": 21,
   "id": "379dd099",
   "metadata": {},
   "outputs": [],
   "source": [
    "# 5. 함수로 작성"
   ]
  },
  {
   "cell_type": "code",
   "execution_count": 22,
   "id": "ac43877b",
   "metadata": {},
   "outputs": [],
   "source": [
    "def translate(txt) :\n",
    "    url = \"https://openapi.naver.com/v1/papago/n2mt\"\n",
    "    params = {\n",
    "        \"source\": \"ko\",\n",
    "        \"target\": \"en\",\n",
    "        \"text\": txt\n",
    "    }\n",
    "    headers= {\n",
    "        \"Content-Type\": \"application/json\",\n",
    "        \"X-Naver-Client-Id\" : CLIENT_ID,\n",
    "        \"X-Naver-Client-SECRET\": CLIENT_SECRET\n",
    "    }\n",
    "    response = requests.post(url, json.dumps(params), headers = headers)\n",
    "    txt_en = response.json()[\"message\"][\"result\"][\"translatedText\"]\n",
    "    \n",
    "    return txt_en"
   ]
  },
  {
   "cell_type": "code",
   "execution_count": 24,
   "id": "c6a3e51c",
   "metadata": {},
   "outputs": [
    {
     "data": {
      "text/plain": [
       "'Web crawling is fun.'"
      ]
     },
     "execution_count": 24,
     "metadata": {},
     "output_type": "execute_result"
    }
   ],
   "source": [
    "translate(\"웹크롤링은 재밌습니당.\")"
   ]
  },
  {
   "cell_type": "code",
   "execution_count": 26,
   "id": "4208256d",
   "metadata": {},
   "outputs": [
    {
     "name": "stdout",
     "output_type": "stream",
     "text": [
      " C 드라이브의 볼륨에는 이름이 없습니다.\n",
      " 볼륨 일련 번호: 7C6C-FC35\n",
      "\n",
      " C:\\Users\\User\\AIVLESCHOOLPythonClass\\python_crawling\\Code 디렉터리\n",
      "\n",
      "2022-08-03  오후 04:46    <DIR>          .\n",
      "2022-08-03  오후 04:46    <DIR>          ..\n",
      "2022-08-03  오후 03:40    <DIR>          .ipynb_checkpoints\n",
      "2022-08-03  오후 03:40            93,268 01_requests_json.ipynb\n",
      "2022-08-03  오후 04:44            10,670 02_requests_api.ipynb\n",
      "2022-08-03  오후 04:46            10,060 covid.xlsx\n",
      "               3개 파일             113,998 바이트\n",
      "               3개 디렉터리  105,063,350,272 바이트 남음\n"
     ]
    }
   ],
   "source": [
    "%ls #현재 내가 작성하고 있는 주피터 노트북 디렉토리의 파일 리스트를 출력함"
   ]
  },
  {
   "cell_type": "code",
   "execution_count": 25,
   "id": "27855083",
   "metadata": {},
   "outputs": [],
   "source": [
    "#엑셀파일에 있는걸 번역해보기"
   ]
  },
  {
   "cell_type": "code",
   "execution_count": 28,
   "id": "45689590",
   "metadata": {},
   "outputs": [
    {
     "data": {
      "text/html": [
       "<div>\n",
       "<style scoped>\n",
       "    .dataframe tbody tr th:only-of-type {\n",
       "        vertical-align: middle;\n",
       "    }\n",
       "\n",
       "    .dataframe tbody tr th {\n",
       "        vertical-align: top;\n",
       "    }\n",
       "\n",
       "    .dataframe thead th {\n",
       "        text-align: right;\n",
       "    }\n",
       "</style>\n",
       "<table border=\"1\" class=\"dataframe\">\n",
       "  <thead>\n",
       "    <tr style=\"text-align: right;\">\n",
       "      <th></th>\n",
       "      <th>category</th>\n",
       "      <th>title</th>\n",
       "    </tr>\n",
       "  </thead>\n",
       "  <tbody>\n",
       "    <tr>\n",
       "      <th>4</th>\n",
       "      <td>104</td>\n",
       "      <td>\"코로나 확진자 '0명'인 날은 절대 오지 않는다\" 美전문가</td>\n",
       "    </tr>\n",
       "    <tr>\n",
       "      <th>5</th>\n",
       "      <td>104</td>\n",
       "      <td>올림픽 다가오는데 도쿄 코로나 확산 빨라져...일주일새 25％↑</td>\n",
       "    </tr>\n",
       "  </tbody>\n",
       "</table>\n",
       "</div>"
      ],
      "text/plain": [
       "   category                                title\n",
       "4       104    \"코로나 확진자 '0명'인 날은 절대 오지 않는다\" 美전문가\n",
       "5       104  올림픽 다가오는데 도쿄 코로나 확산 빨라져...일주일새 25％↑"
      ]
     },
     "execution_count": 28,
     "metadata": {},
     "output_type": "execute_result"
    }
   ],
   "source": [
    "covid = pd.read_excel(\"covid.xlsx\")[[\"category\", \"title\"]]\n",
    "covid.tail(2)"
   ]
  },
  {
   "cell_type": "code",
   "execution_count": 29,
   "id": "d1053a9b",
   "metadata": {},
   "outputs": [],
   "source": [
    "covid_en = covid['title'].apply(translate)"
   ]
  },
  {
   "cell_type": "code",
   "execution_count": 30,
   "id": "61e67345",
   "metadata": {},
   "outputs": [
    {
     "data": {
      "text/plain": [
       "0    SK Bioscience Submits Phase III Clinical Trial...\n",
       "1    41 cumulative COVID-19 confirmed patients at G...\n",
       "2    New COVID-19 infections, 542 people by 9 p.m. ...\n",
       "3    Covid-19 confirmed cases in professional baseb...\n",
       "4    \"The day when there are zero confirmed cases o...\n",
       "5    As the Olympics are approaching, the spread of...\n",
       "Name: title, dtype: object"
      ]
     },
     "execution_count": 30,
     "metadata": {},
     "output_type": "execute_result"
    }
   ],
   "source": [
    "covid_en"
   ]
  },
  {
   "cell_type": "code",
   "execution_count": 31,
   "id": "b017ec36",
   "metadata": {},
   "outputs": [
    {
     "data": {
      "text/html": [
       "<div>\n",
       "<style scoped>\n",
       "    .dataframe tbody tr th:only-of-type {\n",
       "        vertical-align: middle;\n",
       "    }\n",
       "\n",
       "    .dataframe tbody tr th {\n",
       "        vertical-align: top;\n",
       "    }\n",
       "\n",
       "    .dataframe thead th {\n",
       "        text-align: right;\n",
       "    }\n",
       "</style>\n",
       "<table border=\"1\" class=\"dataframe\">\n",
       "  <thead>\n",
       "    <tr style=\"text-align: right;\">\n",
       "      <th></th>\n",
       "      <th>category</th>\n",
       "      <th>title</th>\n",
       "      <th>title_en</th>\n",
       "    </tr>\n",
       "  </thead>\n",
       "  <tbody>\n",
       "    <tr>\n",
       "      <th>0</th>\n",
       "      <td>101</td>\n",
       "      <td>SK바이오사이언스, 코로나19 백신 임상 3상 시험계획 제출</td>\n",
       "      <td>SK Bioscience Submits Phase III Clinical Trial...</td>\n",
       "    </tr>\n",
       "    <tr>\n",
       "      <th>1</th>\n",
       "      <td>102</td>\n",
       "      <td>고양시 노래연습장 코로나19 누적확진 41명</td>\n",
       "      <td>41 cumulative COVID-19 confirmed patients at G...</td>\n",
       "    </tr>\n",
       "    <tr>\n",
       "      <th>2</th>\n",
       "      <td>103</td>\n",
       "      <td>코로나19 신규 감염, 28일 오후 9시까지 542명</td>\n",
       "      <td>New COVID-19 infections, 542 people by 9 p.m. ...</td>\n",
       "    </tr>\n",
       "    <tr>\n",
       "      <th>3</th>\n",
       "      <td>103</td>\n",
       "      <td>프로야구 수도권 구단서 코로나19 확진자 발생</td>\n",
       "      <td>Covid-19 confirmed cases in professional baseb...</td>\n",
       "    </tr>\n",
       "    <tr>\n",
       "      <th>4</th>\n",
       "      <td>104</td>\n",
       "      <td>\"코로나 확진자 '0명'인 날은 절대 오지 않는다\" 美전문가</td>\n",
       "      <td>\"The day when there are zero confirmed cases o...</td>\n",
       "    </tr>\n",
       "    <tr>\n",
       "      <th>5</th>\n",
       "      <td>104</td>\n",
       "      <td>올림픽 다가오는데 도쿄 코로나 확산 빨라져...일주일새 25％↑</td>\n",
       "      <td>As the Olympics are approaching, the spread of...</td>\n",
       "    </tr>\n",
       "  </tbody>\n",
       "</table>\n",
       "</div>"
      ],
      "text/plain": [
       "   category                                title  \\\n",
       "0       101    SK바이오사이언스, 코로나19 백신 임상 3상 시험계획 제출   \n",
       "1       102             고양시 노래연습장 코로나19 누적확진 41명   \n",
       "2       103        코로나19 신규 감염, 28일 오후 9시까지 542명   \n",
       "3       103            프로야구 수도권 구단서 코로나19 확진자 발생   \n",
       "4       104    \"코로나 확진자 '0명'인 날은 절대 오지 않는다\" 美전문가   \n",
       "5       104  올림픽 다가오는데 도쿄 코로나 확산 빨라져...일주일새 25％↑   \n",
       "\n",
       "                                            title_en  \n",
       "0  SK Bioscience Submits Phase III Clinical Trial...  \n",
       "1  41 cumulative COVID-19 confirmed patients at G...  \n",
       "2  New COVID-19 infections, 542 people by 9 p.m. ...  \n",
       "3  Covid-19 confirmed cases in professional baseb...  \n",
       "4  \"The day when there are zero confirmed cases o...  \n",
       "5  As the Olympics are approaching, the spread of...  "
      ]
     },
     "execution_count": 31,
     "metadata": {},
     "output_type": "execute_result"
    }
   ],
   "source": [
    "covid['title_en'] = covid_en\n",
    "covid"
   ]
  },
  {
   "cell_type": "code",
   "execution_count": 32,
   "id": "9fbee9be",
   "metadata": {},
   "outputs": [],
   "source": [
    "covid.to_excel(\"covid_en.xlsx\", index=False, encoding=\"utf-8-sig\") #파일저장\n",
    "#인덱스 열 없이 저장\n",
    "#'utf-8-sig'에서 'sig'는 'signature'의 약칭입니다. \n",
    "#'utf-8-sig'를 사용하면 스트링 즉, 문자열로 처리하는게 아니라 Byte Order Mark(BOM)으로 취급합니다."
   ]
  },
  {
   "cell_type": "markdown",
   "id": "7d67ef0c",
   "metadata": {},
   "source": [
    "### utf-8-sig 설명\n",
    "- 엑셀에서 사용하는 인코딩 방식과 호환이 되는 utf-8 인코딩 방식\n",
    "- 인코딩 처리 안하면 깨져서 나옴.\n",
    "- 인코딩이란?\n",
    "    - human이 사용하는 언어를 'A', 컴퓨터가 사용하는 언어는 0과 1로만 구성\n",
    "    - 이 A를 컴퓨터한테 0101..로 변환해서 전송해야 함\n",
    "    - A를 0001(예시)로 변환하는 것을 encoding\n",
    "    - 0001을 A로 변환하는 것이 decoding\n",
    "    - encoding: 문자->이진수, decoding: 이진수->문자\n",
    "    - encoding과 decoding은 여러 종류가 있음.\n",
    "        - a -> 1번방식 인코딩 -> 0001\n",
    "        - a -> 2번방식 인코딩 -> 1000\n",
    "        - 만약 1번방식으로 인코딩한 0001을 2번방식으로 디코딩하면 깨져버림.\n",
    "        - 1번방식으로 인코딩했으면 1번방식으로 인코딩해야 원래 문자로 복원됨.\n",
    "- python에서는 (dataframe)에서는 utf-8 인코딩 방식 사용\n",
    "- 엑셀에서는 ISO...방식 사용\n",
    "- 그래서 df에서 저장한 a를 엑셀에서 열면 깨지는 것.\n",
    "- 이걸 방지하는 것이 'utf-8-sig' 이다. => 이거 사용하면 엑셀에서 ISO...로 디코딩\n",
    "\n",
    "### 인코딩 방식 3가지\n",
    "- ASCII : 영문, 숫자, 특수문자 표현 (4byte)\n",
    "- euckr : + 한글 (8byte)\n",
    "- utf-8 : + 모든 나라 언어 (16byte)\n",
    "    - 한글자 쓸 때 utf-8이 가장 많이 차지\n",
    "    - 근데 요즘엔 하드웨어가 많이 저렴해졌기 때문에 무조건 utf-8을 쓰는 추세."
   ]
  },
  {
   "cell_type": "code",
   "execution_count": 33,
   "id": "52a55633",
   "metadata": {},
   "outputs": [
    {
     "name": "stdout",
     "output_type": "stream",
     "text": [
      " C 드라이브의 볼륨에는 이름이 없습니다.\n",
      " 볼륨 일련 번호: 7C6C-FC35\n",
      "\n",
      " C:\\Users\\User\\AIVLESCHOOLPythonClass\\python_crawling\\Code 디렉터리\n",
      "\n",
      "2022-08-03  오후 04:52    <DIR>          .\n",
      "2022-08-03  오후 04:52    <DIR>          ..\n",
      "2022-08-03  오후 03:40    <DIR>          .ipynb_checkpoints\n",
      "2022-08-03  오후 03:40            93,268 01_requests_json.ipynb\n",
      "2022-08-03  오후 04:52            18,156 02_requests_api.ipynb\n",
      "2022-08-03  오후 04:46            10,060 covid.xlsx\n",
      "2022-08-03  오후 04:51             6,132 covid_en.xlsx\n",
      "               4개 파일             127,616 바이트\n",
      "               3개 디렉터리  105,060,478,976 바이트 남음\n"
     ]
    }
   ],
   "source": [
    "%ls\n",
    "# %는 special command"
   ]
  },
  {
   "cell_type": "code",
   "execution_count": 34,
   "id": "bb0bc098",
   "metadata": {},
   "outputs": [
    {
     "name": "stdout",
     "output_type": "stream",
     "text": [
      "Wall time: 690 ms\n"
     ]
    }
   ],
   "source": [
    "%%time #아래 코드를 돌렸을 때 얼마나 시간이 나오는지 출력\n",
    "covid_en = covid[\"title\"].apply(translate)"
   ]
  },
  {
   "cell_type": "code",
   "execution_count": 35,
   "id": "756bfa0a",
   "metadata": {},
   "outputs": [],
   "source": [
    "# 함수: Scope "
   ]
  },
  {
   "cell_type": "code",
   "execution_count": null,
   "id": "ed0ba924",
   "metadata": {},
   "outputs": [],
   "source": [
    "# 변수를 선언할 때 함수 밖에서 선언하는 것과 함수 안에서 선언하는 변수의 메모리 저장공간이 다르다.\n",
    "# 전역(global)영역 : 함수 밖의 영역\n",
    "# 지역(local)영역 : 함수 안의 영역\n",
    "\n",
    "# global 명령어 : 지역 영역에서 전역 영역에 있는 변수를 가져올 때 사용하는 명령어"
   ]
  },
  {
   "cell_type": "code",
   "execution_count": 36,
   "id": "d12d4549",
   "metadata": {},
   "outputs": [
    {
     "name": "stdout",
     "output_type": "stream",
     "text": [
      "10\n"
     ]
    }
   ],
   "source": [
    "data = 10 #RAM 안의 글로벌 영역에 생성\n",
    "\n",
    "def change() :\n",
    "    data=20 #새로운 변수를 RAM안의 로컬 영역에 생성\n",
    "\n",
    "change()\n",
    "print(data) #예상: 20, 결과: 10 (얘는 글로벌을 가져옴)\n",
    "\n",
    "# 왜 이런 결과가 나오지?\n",
    "# global, local을 고려하지 않았기 때문에"
   ]
  },
  {
   "cell_type": "code",
   "execution_count": 37,
   "id": "1e08e48b",
   "metadata": {},
   "outputs": [
    {
     "name": "stdout",
     "output_type": "stream",
     "text": [
      "20\n"
     ]
    }
   ],
   "source": [
    "data = 10\n",
    "\n",
    "def change() :\n",
    "    global data #전역영역에 있는 data를 지역영역으로 가져옴\n",
    "    data = 20\n",
    "    \n",
    "change()\n",
    "print(data)"
   ]
  },
  {
   "cell_type": "code",
   "execution_count": null,
   "id": "de1bf9f7",
   "metadata": {},
   "outputs": [],
   "source": []
  },
  {
   "cell_type": "code",
   "execution_count": null,
   "id": "b57213e2",
   "metadata": {},
   "outputs": [],
   "source": []
  },
  {
   "cell_type": "code",
   "execution_count": null,
   "id": "4dbfbde0",
   "metadata": {},
   "outputs": [],
   "source": []
  },
  {
   "cell_type": "code",
   "execution_count": null,
   "id": "f58387a0",
   "metadata": {},
   "outputs": [],
   "source": []
  },
  {
   "cell_type": "code",
   "execution_count": null,
   "id": "73544f85",
   "metadata": {},
   "outputs": [],
   "source": []
  },
  {
   "cell_type": "code",
   "execution_count": null,
   "id": "2864110b",
   "metadata": {},
   "outputs": [],
   "source": []
  },
  {
   "cell_type": "code",
   "execution_count": null,
   "id": "479aad72",
   "metadata": {},
   "outputs": [],
   "source": []
  },
  {
   "cell_type": "code",
   "execution_count": null,
   "id": "6cd5d44c",
   "metadata": {},
   "outputs": [],
   "source": []
  }
 ],
 "metadata": {
  "kernelspec": {
   "display_name": "Python 3",
   "language": "python",
   "name": "python3"
  },
  "language_info": {
   "codemirror_mode": {
    "name": "ipython",
    "version": 3
   },
   "file_extension": ".py",
   "mimetype": "text/x-python",
   "name": "python",
   "nbconvert_exporter": "python",
   "pygments_lexer": "ipython3",
   "version": "3.8.8"
  }
 },
 "nbformat": 4,
 "nbformat_minor": 5
}
