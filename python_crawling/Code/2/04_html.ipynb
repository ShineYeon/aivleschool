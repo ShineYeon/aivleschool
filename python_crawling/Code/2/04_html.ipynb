{
 "cells": [
  {
   "cell_type": "markdown",
   "id": "869101ff",
   "metadata": {},
   "source": [
    "### HTML\n",
    "- 웹 문서를 작성하는 언어\n",
    "- 구성요소  (Tag가 모여서 Element, Element가 모여서 Document ⇒ 계층적 구조)\n",
    "    - Document : 한페이지를 나타내는 코드\n",
    "    - Element : 하나의 레이아웃 : Element가 모여서 Document를 만듦\n",
    "    - Tag : Element의 종류를 정의 : 시작 태그 +  끝 태그 = Element\n",
    "    - Attribute : 속성값 : 시작태그에서 태그의 기능 정의\n",
    "        - id : element를 지정하는 페이지 내에서 유일한 값\n",
    "        - class : element를 지정하는 값으로 페이지 내에서 여러 개 사용 가능\n",
    "        - attr : id, class를 제외한 나머지 속성 값\n",
    "    - Text : 시작태그와 끝태그 사이의 문자열\n",
    "- Element는 계층적 구조를 갖습니다."
   ]
  },
  {
   "cell_type": "code",
   "execution_count": 3,
   "id": "47b651da",
   "metadata": {},
   "outputs": [
    {
     "data": {
      "text/html": [
       "<div class = \"wrapper\">\n",
       "    <button id=\"b1\" class=\"btn no1\" value=\"1\">HTML 1</button>\n",
       "    <button id=\"b2\" class=\"btn no2\" value=\"2\">HTML 2</button>\n",
       "    <p>HTML 3</p>\n",
       "</div>\n"
      ],
      "text/plain": [
       "<IPython.core.display.HTML object>"
      ]
     },
     "metadata": {},
     "output_type": "display_data"
    }
   ],
   "source": [
    "%%html\n",
    "<div class = \"wrapper\">\n",
    "    <button id=\"b1\" class=\"btn no1\" value=\"1\">HTML 1</button>\n",
    "    <button id=\"b2\" class=\"btn no2\" value=\"2\">HTML 2</button>\n",
    "    <p>HTML 3</p>\n",
    "</div>\n"
   ]
  },
  {
   "cell_type": "code",
   "execution_count": null,
   "id": "ff480ceb",
   "metadata": {},
   "outputs": [],
   "source": [
    "# 한페이지 안에 있는 모든 html 코드가 Document\n",
    "# element는 하나의 레이아웃을 의미함 (div, button 다 하나의 element)\n",
    "# 그래서 element가 모여서 document를 만듦\n",
    "# element는 계층적 구조 => element와 element 사이에서는 하나의 element 안에 다른 element, \n",
    "# 또 그 element 안에 다른 element 이런식\n",
    "\n",
    "# 태그는 element의 종류를 결정함\n",
    "# 모든 element가 시작태그 끝태그로 구성되어있는것이 아니지만, 대부분은 그럼\n",
    "# 시작태그와 끝태그 합치면 element가 되는 것\n",
    "# 태그의 종류는 div(영역구분), button(버튼을 나타냄) 등 => 얘네가 종류\n",
    "# p태그는 한 줄의 문자열을 나타냄"
   ]
  },
  {
   "cell_type": "code",
   "execution_count": null,
   "id": "95154c4b",
   "metadata": {},
   "outputs": [],
   "source": [
    "# element 글자를 가져오기 위해서는 element의 태그를 이용해야 함\n",
    "# id, class attribute 와 같은 속성값을 시작태그에서 정의"
   ]
  },
  {
   "cell_type": "markdown",
   "id": "5de45692",
   "metadata": {},
   "source": [
    "#### HTML 태그 종류"
   ]
  },
  {
   "cell_type": "code",
   "execution_count": null,
   "id": "bdedc30d",
   "metadata": {},
   "outputs": [],
   "source": [
    "# p : 한 줄의 문자열 출력"
   ]
  },
  {
   "cell_type": "code",
   "execution_count": 4,
   "id": "5cf54171",
   "metadata": {},
   "outputs": [
    {
     "data": {
      "text/html": [
       "<p>python 1</p>\n",
       "<p>python 2</p>\n"
      ],
      "text/plain": [
       "<IPython.core.display.HTML object>"
      ]
     },
     "metadata": {},
     "output_type": "display_data"
    }
   ],
   "source": [
    "%%html\n",
    "<p>python 1</p>\n",
    "<p>python 2</p>"
   ]
  },
  {
   "cell_type": "code",
   "execution_count": null,
   "id": "e3d983f4",
   "metadata": {},
   "outputs": [],
   "source": [
    "# span : 한 블럭의 문자열 출력"
   ]
  },
  {
   "cell_type": "code",
   "execution_count": 5,
   "id": "24443368",
   "metadata": {},
   "outputs": [
    {
     "data": {
      "text/html": [
       "<span> python 1 </span>\n",
       "<span> python 2 </span>\n"
      ],
      "text/plain": [
       "<IPython.core.display.HTML object>"
      ]
     },
     "metadata": {},
     "output_type": "display_data"
    }
   ],
   "source": [
    "%%html\n",
    "<span> python 1 </span>\n",
    "<span> python 2 </span>"
   ]
  },
  {
   "cell_type": "code",
   "execution_count": null,
   "id": "e6088f2a",
   "metadata": {},
   "outputs": [],
   "source": [
    "# ul, li : 리스트 문자열 출력 => 메뉴나 기사 목록에 많이 사용"
   ]
  },
  {
   "cell_type": "code",
   "execution_count": 7,
   "id": "92a78b86",
   "metadata": {},
   "outputs": [
    {
     "data": {
      "text/html": [
       "<ul>\n",
       "    <li>python 1</li>\n",
       "    <li>python 2</li>\n",
       "</ul>\n"
      ],
      "text/plain": [
       "<IPython.core.display.HTML object>"
      ]
     },
     "metadata": {},
     "output_type": "display_data"
    }
   ],
   "source": [
    "%%html\n",
    "<ul>\n",
    "    <li>python 1</li>\n",
    "    <li>python 2</li>\n",
    "</ul>"
   ]
  },
  {
   "cell_type": "code",
   "execution_count": 9,
   "id": "cb9b652f",
   "metadata": {},
   "outputs": [],
   "source": [
    "# a : 링크를 나타내는 태그 (이동할 페이지가 href에 들어가야 함)"
   ]
  },
  {
   "cell_type": "code",
   "execution_count": 12,
   "id": "154b6818",
   "metadata": {},
   "outputs": [
    {
     "data": {
      "text/html": [
       "<a href = \"https://kt.com\" target=\"_blink\">Click</a>\n"
      ],
      "text/plain": [
       "<IPython.core.display.HTML object>"
      ]
     },
     "metadata": {},
     "output_type": "display_data"
    }
   ],
   "source": [
    "%%html\n",
    "<a href = \"https://kt.com\" target=\"_blink\">Click</a>"
   ]
  },
  {
   "cell_type": "code",
   "execution_count": 13,
   "id": "f589cdaf",
   "metadata": {},
   "outputs": [],
   "source": [
    "# img : 이미지를 출력하는 태그"
   ]
  },
  {
   "cell_type": "code",
   "execution_count": 14,
   "id": "cc5339bd",
   "metadata": {},
   "outputs": [
    {
     "data": {
      "text/html": [
       "<img src=\"https://cfm.kt.com/images/v2/layout/gnb-ktlogo.png\"></img>\n"
      ],
      "text/plain": [
       "<IPython.core.display.HTML object>"
      ]
     },
     "metadata": {},
     "output_type": "display_data"
    }
   ],
   "source": [
    "%%html\n",
    "<img src=\"https://cfm.kt.com/images/v2/layout/gnb-ktlogo.png\"></img>"
   ]
  },
  {
   "cell_type": "code",
   "execution_count": null,
   "id": "bbf7478f",
   "metadata": {},
   "outputs": [],
   "source": [
    "# iframe : 외부 URL 링크에 해당하는 웹페이지를 출력"
   ]
  },
  {
   "cell_type": "code",
   "execution_count": 16,
   "id": "0ebaedf7",
   "metadata": {},
   "outputs": [
    {
     "data": {
      "text/html": [
       "<iframe src=\"https://kt.com\" width=\"100%\" height=\"400px;\">\n"
      ],
      "text/plain": [
       "<IPython.core.display.HTML object>"
      ]
     },
     "metadata": {},
     "output_type": "display_data"
    }
   ],
   "source": [
    "%%html\n",
    "<iframe src=\"https://kt.com\" width=\"100%\" height=\"400px;\">"
   ]
  },
  {
   "cell_type": "code",
   "execution_count": null,
   "id": "0d8cb7dd",
   "metadata": {},
   "outputs": [],
   "source": [
    "# div : 레이아웃을 나타내는 태그 (element 간 영역을 나타냄)\n",
    "# div 태그가 html에서 가장 많이 사용되는 태그\n",
    "# 그래서 계층적 구조를 이용해서 div 안의 첫번째 p 태그 이런식으로 접근 가능"
   ]
  },
  {
   "cell_type": "code",
   "execution_count": 17,
   "id": "7b6ee3e8",
   "metadata": {},
   "outputs": [
    {
     "data": {
      "text/html": [
       "<div>\n",
       "\t<p> python 1 </p>\n",
       "\t<p> python 2 </p>\n",
       "</div>\n",
       "<div>\n",
       "\t<p> python 3 </p>\n",
       "</div>\n"
      ],
      "text/plain": [
       "<IPython.core.display.HTML object>"
      ]
     },
     "metadata": {},
     "output_type": "display_data"
    }
   ],
   "source": [
    "%%html\n",
    "<div>\n",
    "\t<p> python 1 </p>\n",
    "\t<p> python 2 </p>\n",
    "</div>\n",
    "<div>\n",
    "\t<p> python 3 </p>\n",
    "</div>"
   ]
  },
  {
   "cell_type": "code",
   "execution_count": null,
   "id": "84c48593",
   "metadata": {},
   "outputs": [],
   "source": [
    "# table : 행과 열로 되어있는 데이터를 출력할 때 사용하는 태그"
   ]
  },
  {
   "cell_type": "code",
   "execution_count": 20,
   "id": "45132c9d",
   "metadata": {},
   "outputs": [
    {
     "data": {
      "text/html": [
       "<table>\n",
       "    <caption> 제목 </caption>\n",
       "    <thead>\n",
       "        <tr>\n",
       "            <th> column 1 </th>\n",
       "            <th> column 2 </th>\n",
       "        </tr>\n",
       "    </thead>\n",
       "        <tr>\n",
       "            <td> data1 </td>\n",
       "            <td> data2 </td>\n",
       "        </tr>\n",
       "        <tr>\n",
       "            <td> data 3</td>\n",
       "            <th> data 4</th>\n",
       "    <tbody>\n",
       "    </tbody>\n",
       "</table>\n"
      ],
      "text/plain": [
       "<IPython.core.display.HTML object>"
      ]
     },
     "metadata": {},
     "output_type": "display_data"
    }
   ],
   "source": [
    "%%html\n",
    "<table>\n",
    "    <caption> 제목 </caption>\n",
    "    <thead>\n",
    "        <tr>\n",
    "            <th> column 1 </th>\n",
    "            <th> column 2 </th>\n",
    "        </tr>\n",
    "    </thead>\n",
    "        <tr>\n",
    "            <td> data1 </td>\n",
    "            <td> data2 </td>\n",
    "        </tr>\n",
    "        <tr>\n",
    "            <td> data 3</td>\n",
    "            <td> data 4</td>\n",
    "    <tbody>\n",
    "    </tbody>\n",
    "</table>"
   ]
  },
  {
   "cell_type": "code",
   "execution_count": 21,
   "id": "ad828e5b",
   "metadata": {},
   "outputs": [],
   "source": [
    "# 부동 소수점 에러"
   ]
  },
  {
   "cell_type": "code",
   "execution_count": 22,
   "id": "7a69ad20",
   "metadata": {},
   "outputs": [
    {
     "data": {
      "text/plain": [
       "False"
      ]
     },
     "execution_count": 22,
     "metadata": {},
     "output_type": "execute_result"
    }
   ],
   "source": [
    "data1, data2 = 0.1, 0.2\n",
    "(data1+data2) == 0.3 #False"
   ]
  },
  {
   "cell_type": "code",
   "execution_count": 24,
   "id": "9f4192a5",
   "metadata": {},
   "outputs": [
    {
     "data": {
      "text/plain": [
       "0.30000000000000004"
      ]
     },
     "execution_count": 24,
     "metadata": {},
     "output_type": "execute_result"
    }
   ],
   "source": [
    "data1 + data2"
   ]
  },
  {
   "cell_type": "code",
   "execution_count": 25,
   "id": "a306b182",
   "metadata": {},
   "outputs": [
    {
     "data": {
      "text/plain": [
       "(0.3, True)"
      ]
     },
     "execution_count": 25,
     "metadata": {},
     "output_type": "execute_result"
    }
   ],
   "source": [
    "#해결 방법 1 : 반올림 사용 : round\n",
    "round(data1 + data2, 1), round(data1+data2, 1) == 0.3"
   ]
  },
  {
   "cell_type": "code",
   "execution_count": 28,
   "id": "80b5cd14",
   "metadata": {},
   "outputs": [
    {
     "data": {
      "text/plain": [
       "0.3"
      ]
     },
     "execution_count": 28,
     "metadata": {},
     "output_type": "execute_result"
    }
   ],
   "source": [
    "#해결 방법 2 : 고정 소수점 방식으로 연산\n",
    "from decimal import Decimal\n",
    "float(Decimal(str(data1)) + Decimal(str(data2)))"
   ]
  },
  {
   "cell_type": "code",
   "execution_count": null,
   "id": "4cd368d9",
   "metadata": {},
   "outputs": [],
   "source": [
    "# 근데 보통 해결방법2보다 1을 더 많이 사용\n",
    "# 왜냐하면 해결방법2는 문자열로 바꿨다가 10진수로 바꿨다가 다시 소수점으로 바꾸기 때문"
   ]
  },
  {
   "cell_type": "code",
   "execution_count": null,
   "id": "993e95fc",
   "metadata": {},
   "outputs": [],
   "source": []
  },
  {
   "cell_type": "code",
   "execution_count": null,
   "id": "15a7804d",
   "metadata": {},
   "outputs": [],
   "source": []
  },
  {
   "cell_type": "code",
   "execution_count": null,
   "id": "13ee95fe",
   "metadata": {},
   "outputs": [],
   "source": []
  },
  {
   "cell_type": "code",
   "execution_count": null,
   "id": "d2eb5b26",
   "metadata": {},
   "outputs": [],
   "source": []
  },
  {
   "cell_type": "code",
   "execution_count": null,
   "id": "b090650b",
   "metadata": {},
   "outputs": [],
   "source": []
  },
  {
   "cell_type": "code",
   "execution_count": null,
   "id": "5abed458",
   "metadata": {},
   "outputs": [],
   "source": []
  },
  {
   "cell_type": "code",
   "execution_count": null,
   "id": "95c90781",
   "metadata": {},
   "outputs": [],
   "source": []
  },
  {
   "cell_type": "code",
   "execution_count": null,
   "id": "71758064",
   "metadata": {},
   "outputs": [],
   "source": []
  }
 ],
 "metadata": {
  "kernelspec": {
   "display_name": "Python 3",
   "language": "python",
   "name": "python3"
  },
  "language_info": {
   "codemirror_mode": {
    "name": "ipython",
    "version": 3
   },
   "file_extension": ".py",
   "mimetype": "text/x-python",
   "name": "python",
   "nbconvert_exporter": "python",
   "pygments_lexer": "ipython3",
   "version": "3.8.8"
  }
 },
 "nbformat": 4,
 "nbformat_minor": 5
}
