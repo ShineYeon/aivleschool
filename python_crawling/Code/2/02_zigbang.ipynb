{
 "cells": [
  {
   "cell_type": "markdown",
   "id": "e81f3c19",
   "metadata": {},
   "source": [
    "### 직방의 원룸 매물 정보 수집\n",
    "- 절차\n",
    "    - 동이름으로 위도, 경도 수집\n",
    "    - 위도, 경도 => geohash 변환 (geohash란? 위도, 경도값을 가지고 범위 구함)\n",
    "    - geohash(영역) => 매물아이디\n",
    "    - 매물아이디 => 매물정보\n",
    "\n",
    "이 절차는 강사님이 해보시고 정리하신 것임 (미리 정해진게 아니라는 소리)\n",
    "    "
   ]
  },
  {
   "cell_type": "code",
   "execution_count": 6,
   "id": "3b506806",
   "metadata": {},
   "outputs": [
    {
     "name": "stdout",
     "output_type": "stream",
     "text": [
      "Collecting geohash2\n",
      "  Downloading geohash2-1.1.tar.gz (15 kB)\n",
      "Requirement already satisfied: docutils>=0.3 in c:\\users\\user\\anaconda3\\lib\\site-packages (from geohash2) (0.17)\n",
      "Building wheels for collected packages: geohash2\n",
      "  Building wheel for geohash2 (setup.py): started\n",
      "  Building wheel for geohash2 (setup.py): finished with status 'done'\n",
      "  Created wheel for geohash2: filename=geohash2-1.1-py3-none-any.whl size=15544 sha256=4d3caa5d701565f6120322f0a75eb1986faba296c2bfafb19a27d2de89deca10\n",
      "  Stored in directory: c:\\users\\user\\appdata\\local\\pip\\cache\\wheels\\2d\\0c\\66\\dcd768c9e7c26fc81ec59bfe24af9d780fc9dbdf7f90b0cf00\n",
      "Successfully built geohash2\n",
      "Installing collected packages: geohash2\n",
      "Successfully installed geohash2-1.1\n"
     ]
    }
   ],
   "source": [
    "!pip install geohash2"
   ]
  },
  {
   "cell_type": "code",
   "execution_count": 7,
   "id": "8ac93206",
   "metadata": {},
   "outputs": [],
   "source": [
    "import requests\n",
    "import pandas as pd\n",
    "import geohash2"
   ]
  },
  {
   "cell_type": "code",
   "execution_count": 8,
   "id": "f67652f9",
   "metadata": {},
   "outputs": [],
   "source": [
    "# 1. 동 이름 > 위도, 경도 (직방 페이지에서 동이름 검색 후 => 네트워크에서 search 뜸)"
   ]
  },
  {
   "cell_type": "code",
   "execution_count": 9,
   "id": "30fc97aa",
   "metadata": {},
   "outputs": [],
   "source": [
    "#url 깨진경우 구글=>url encoding 검색해서 decode => 깨진 url이 제대로 나옴\n",
    "\n",
    "#원래 url(깨짐)\n",
    "#url = 'https://apis.zigbang.com/v2/search?leaseYn=N&q=%EC%97%AD%EC%82%BC%EB%8F%99&serviceType=%EC%9B%90%EB%A3%B80'\n",
    "#디코딩한 url\n",
    "#url = 'https://apis.zigbang.com/v2/search?leaseYn=N&q=역삼동&serviceType=원룸'\n"
   ]
  },
  {
   "cell_type": "code",
   "execution_count": 10,
   "id": "f742a6f4",
   "metadata": {},
   "outputs": [],
   "source": [
    "addr = '강남구 역삼동' #구까지 써줘서 그 구에 해당하는 동을 검색\n",
    "url = f'https://apis.zigbang.com/v2/search?leaseYn=N&q={addr}&serviceType=원룸'"
   ]
  },
  {
   "cell_type": "code",
   "execution_count": 17,
   "id": "889c1e41",
   "metadata": {},
   "outputs": [
    {
     "data": {
      "text/plain": [
       "(37.495365142822266, 127.03306579589844)"
      ]
     },
     "execution_count": 17,
     "metadata": {},
     "output_type": "execute_result"
    }
   ],
   "source": [
    "response = requests.get(url)\n",
    "response.json() #우리가 필요한 값은 lat, lng\n",
    "data = response.json()[\"items\"][0]\n",
    "lat, lng = data[\"lat\"], data[\"lng\"]\n",
    "lat, lng #위도, 경도 값 가져옴"
   ]
  },
  {
   "cell_type": "code",
   "execution_count": 3,
   "id": "c9a95f00",
   "metadata": {},
   "outputs": [],
   "source": [
    "# 2. 위도, 경도 > geohash"
   ]
  },
  {
   "cell_type": "code",
   "execution_count": 19,
   "id": "239fe901",
   "metadata": {},
   "outputs": [
    {
     "data": {
      "text/plain": [
       "'wydm6'"
      ]
     },
     "execution_count": 19,
     "metadata": {},
     "output_type": "execute_result"
    }
   ],
   "source": [
    "#precision이 커질수록 영역이 작아짐\n",
    "geohash = geohash2.encode(lat, lng, precision=5)\n",
    "geohash"
   ]
  },
  {
   "cell_type": "code",
   "execution_count": 4,
   "id": "2e4e7181",
   "metadata": {},
   "outputs": [],
   "source": [
    "# 3. geohash > 매물 아이디"
   ]
  },
  {
   "cell_type": "code",
   "execution_count": 20,
   "id": "42335b2b",
   "metadata": {},
   "outputs": [
    {
     "data": {
      "text/plain": [
       "'https://apis.zigbang.com/v2/items?deposit_gteq=0&domain=zigbang&geohash=wydm6&needHasNoFiltered=true&rent_gteq=0&sales_type_in=전세|월세&service_type_eq=원룸'"
      ]
     },
     "execution_count": 20,
     "metadata": {},
     "output_type": "execute_result"
    }
   ],
   "source": [
    "#개행 방법\n",
    "#한줄로 너무 긴 코드가 있을 때\n",
    "#엔터치기 전 맨끝에 \\ 를 넣어야 함 \n",
    "#그런데 \\뒤에 공백이 있으면 에러남\n",
    "\n",
    "url = f'https://apis.zigbang.com/v2/items?deposit_gteq=0&domain=zigbang\\\n",
    "&geohash={geohash}&needHasNoFiltered=true&rent_gteq=0&sales_type_in=전세|월세&service_type_eq=원룸'\n",
    "url\n"
   ]
  },
  {
   "cell_type": "code",
   "execution_count": 22,
   "id": "ec375182",
   "metadata": {},
   "outputs": [
    {
     "data": {
      "text/plain": [
       "<Response [200]>"
      ]
     },
     "execution_count": 22,
     "metadata": {},
     "output_type": "execute_result"
    }
   ],
   "source": [
    "response = requests.get(url)\n",
    "response"
   ]
  },
  {
   "cell_type": "code",
   "execution_count": 28,
   "id": "d25df616",
   "metadata": {},
   "outputs": [
    {
     "data": {
      "text/plain": [
       "(2344,\n",
       " [{'lat': 37.485141261794524, 'lng': 127.01296495741643, 'item_id': 32819635},\n",
       "  {'lat': 37.485627384450254, 'lng': 127.0136283391101, 'item_id': 32838798}])"
      ]
     },
     "execution_count": 28,
     "metadata": {},
     "output_type": "execute_result"
    }
   ],
   "source": [
    "items = response.json()[\"items\"]\n",
    "len(items), items[:2] #list안에 dict가 있는 형태\n",
    "#1000개가 넘어가면 데이터를 가지고 오지 못하는데,\n",
    "# 2344개니까 끊어서 가져와야함\n",
    "# ex) 900개씩"
   ]
  },
  {
   "cell_type": "code",
   "execution_count": 29,
   "id": "efdc577d",
   "metadata": {},
   "outputs": [
    {
     "data": {
      "text/plain": [
       "[32819635, 32838798, 32872608, 32838700, 32767020]"
      ]
     },
     "execution_count": 29,
     "metadata": {},
     "output_type": "execute_result"
    }
   ],
   "source": [
    "ids = [item[\"item_id\"] for item in items ]\n",
    "ids[:5]"
   ]
  },
  {
   "cell_type": "code",
   "execution_count": null,
   "id": "b0935ccf",
   "metadata": {},
   "outputs": [],
   "source": [
    "# 4. 매물 아이디 > 매물 정보"
   ]
  },
  {
   "cell_type": "code",
   "execution_count": 31,
   "id": "1b24e909",
   "metadata": {},
   "outputs": [
    {
     "data": {
      "text/plain": [
       "<Response [200]>"
      ]
     },
     "execution_count": 31,
     "metadata": {},
     "output_type": "execute_result"
    }
   ],
   "source": [
    "url = 'https://apis.zigbang.com/v2/items/list'\n",
    "\n",
    "#params에 어떻게 넣어야 하는지는 payload에 있음\n",
    "#post 방식일 때는 params를 써줘야함.\n",
    "#get 방식일 때는 params를 안써도 됨\n",
    "params = {\n",
    "    \"domain\": \"zigbang\",\n",
    "    \"withCoalition\" : \"true\",\n",
    "    \"item_ids\" : ids[:900]\n",
    "}\n",
    "\n",
    "#이 params에는 한글이 없기 때문에 json.dumps()로 인코딩할 필요가 없다.\n",
    "response = requests.post(url, params)\n",
    "response"
   ]
  },
  {
   "cell_type": "code",
   "execution_count": 33,
   "id": "0ea3926c",
   "metadata": {},
   "outputs": [
    {
     "data": {
      "text/plain": [
       "'{\"items\":[{\"section_type\":null,\"item_id\":32819635,\"images_thumbnail\":\"https://ic.zigbang.com/ic/items/32819635/1.jpg\",\"sales_type\":\"전세\",\"sales_title\":\"전세\",\"deposit\":16500,\"rent\":0,\"size_m2\":39.89,\"공급면적\":{\"m2\":39.89,\"p\":\"12.1\"},\"전용면적\":{\"m2\":20.82,\"p\":\"6.3\"},\"계약면적\":null,\"room_type_title\":null,\"floor\":'"
      ]
     },
     "execution_count": 33,
     "metadata": {},
     "output_type": "execute_result"
    }
   ],
   "source": [
    "response.text[:300] #items에 리스트 형태로 데이터가 들어있음"
   ]
  },
  {
   "cell_type": "code",
   "execution_count": 45,
   "id": "674e1d64",
   "metadata": {},
   "outputs": [
    {
     "data": {
      "text/plain": [
       "(50, 60)"
      ]
     },
     "execution_count": 45,
     "metadata": {},
     "output_type": "execute_result"
    }
   ],
   "source": [
    "# max row, max column 설정\n",
    "pd.options.display.max_columns, pd.options.display.max_rows\n",
    "#pd.options.display.max_columns=50"
   ]
  },
  {
   "cell_type": "code",
   "execution_count": 37,
   "id": "94efd0ce",
   "metadata": {},
   "outputs": [
    {
     "data": {
      "text/html": [
       "<div>\n",
       "<style scoped>\n",
       "    .dataframe tbody tr th:only-of-type {\n",
       "        vertical-align: middle;\n",
       "    }\n",
       "\n",
       "    .dataframe tbody tr th {\n",
       "        vertical-align: top;\n",
       "    }\n",
       "\n",
       "    .dataframe thead th {\n",
       "        text-align: right;\n",
       "    }\n",
       "</style>\n",
       "<table border=\"1\" class=\"dataframe\">\n",
       "  <thead>\n",
       "    <tr style=\"text-align: right;\">\n",
       "      <th></th>\n",
       "      <th>item_id</th>\n",
       "      <th>sales_type</th>\n",
       "      <th>deposit</th>\n",
       "      <th>rent</th>\n",
       "      <th>size_m2</th>\n",
       "      <th>address1</th>\n",
       "      <th>manage_cost</th>\n",
       "    </tr>\n",
       "  </thead>\n",
       "  <tbody>\n",
       "    <tr>\n",
       "      <th>898</th>\n",
       "      <td>32844154</td>\n",
       "      <td>월세</td>\n",
       "      <td>100</td>\n",
       "      <td>100</td>\n",
       "      <td>29.75</td>\n",
       "      <td>서울시 강남구 역삼동</td>\n",
       "      <td>9</td>\n",
       "    </tr>\n",
       "    <tr>\n",
       "      <th>899</th>\n",
       "      <td>32656329</td>\n",
       "      <td>전세</td>\n",
       "      <td>24000</td>\n",
       "      <td>0</td>\n",
       "      <td>59.50</td>\n",
       "      <td>서울시 강남구 역삼동</td>\n",
       "      <td>10</td>\n",
       "    </tr>\n",
       "  </tbody>\n",
       "</table>\n",
       "</div>"
      ],
      "text/plain": [
       "      item_id sales_type  deposit  rent  size_m2     address1 manage_cost\n",
       "898  32844154         월세      100   100    29.75  서울시 강남구 역삼동           9\n",
       "899  32656329         전세    24000     0    59.50  서울시 강남구 역삼동          10"
      ]
     },
     "execution_count": 37,
     "metadata": {},
     "output_type": "execute_result"
    }
   ],
   "source": [
    "items = response.json()[\"items\"]\n",
    "#items[:2]\n",
    "columns = [\"item_id\", \"sales_type\", \"deposit\", \"rent\", \"size_m2\", \"address1\", \"manage_cost\"]\n",
    "df = pd.DataFrame(items)[columns]\n",
    "df.tail(2)"
   ]
  },
  {
   "cell_type": "code",
   "execution_count": null,
   "id": "9d1b8d81",
   "metadata": {},
   "outputs": [],
   "source": []
  },
  {
   "cell_type": "code",
   "execution_count": 46,
   "id": "6126bbb4",
   "metadata": {},
   "outputs": [],
   "source": [
    "# 함수 만들기\n",
    "def oneroom(addr) :\n",
    "    url = f'https://apis.zigbang.com/v2/search?leaseYn=N&q={addr}&serviceType=원룸'\n",
    "    response = requests.get(url)\n",
    "    response.json() #우리가 필요한 값은 lat, lng\n",
    "    data = response.json()[\"items\"][0]\n",
    "    lat, lng = data[\"lat\"], data[\"lng\"]\n",
    "    geohash = geohash2.encode(lat, lng, precision=5)\n",
    "    \n",
    "    url = f'https://apis.zigbang.com/v2/items?deposit_gteq=0&domain=zigbang\\\n",
    "&geohash={geohash}&needHasNoFiltered=true&rent_gteq=0&sales_type_in=전세|월세&service_type_eq=원룸'\n",
    "    response = requests.get(url)\n",
    "    items = response.json()[\"items\"]\n",
    "    ids = [item[\"item_id\"] for item in items ]\n",
    "    \n",
    "    url = 'https://apis.zigbang.com/v2/items/list'\n",
    "    params = {\n",
    "    \"domain\": \"zigbang\",\n",
    "    \"withCoalition\" : \"true\",\n",
    "    \"item_ids\" : ids[:900]\n",
    "    }\n",
    "    response = requests.post(url, params)\n",
    "    items = response.json()[\"items\"]\n",
    "    columns = [\"item_id\", \"sales_type\", \"deposit\", \"rent\", \"size_m2\", \"address1\", \"manage_cost\"]\n",
    "    return pd.DataFrame(items)[columns]\n",
    "    "
   ]
  },
  {
   "cell_type": "code",
   "execution_count": 49,
   "id": "67afa33c",
   "metadata": {},
   "outputs": [
    {
     "data": {
      "text/html": [
       "<div>\n",
       "<style scoped>\n",
       "    .dataframe tbody tr th:only-of-type {\n",
       "        vertical-align: middle;\n",
       "    }\n",
       "\n",
       "    .dataframe tbody tr th {\n",
       "        vertical-align: top;\n",
       "    }\n",
       "\n",
       "    .dataframe thead th {\n",
       "        text-align: right;\n",
       "    }\n",
       "</style>\n",
       "<table border=\"1\" class=\"dataframe\">\n",
       "  <thead>\n",
       "    <tr style=\"text-align: right;\">\n",
       "      <th></th>\n",
       "      <th>item_id</th>\n",
       "      <th>sales_type</th>\n",
       "      <th>deposit</th>\n",
       "      <th>rent</th>\n",
       "      <th>size_m2</th>\n",
       "      <th>address1</th>\n",
       "      <th>manage_cost</th>\n",
       "    </tr>\n",
       "  </thead>\n",
       "  <tbody>\n",
       "    <tr>\n",
       "      <th>742</th>\n",
       "      <td>32862490</td>\n",
       "      <td>전세</td>\n",
       "      <td>43000</td>\n",
       "      <td>0</td>\n",
       "      <td>31.74</td>\n",
       "      <td>서울시 마포구 중동</td>\n",
       "      <td>5</td>\n",
       "    </tr>\n",
       "    <tr>\n",
       "      <th>743</th>\n",
       "      <td>32866975</td>\n",
       "      <td>월세</td>\n",
       "      <td>3000</td>\n",
       "      <td>90</td>\n",
       "      <td>49.59</td>\n",
       "      <td>서울시 마포구 중동</td>\n",
       "      <td>2</td>\n",
       "    </tr>\n",
       "  </tbody>\n",
       "</table>\n",
       "</div>"
      ],
      "text/plain": [
       "      item_id sales_type  deposit  rent  size_m2    address1 manage_cost\n",
       "742  32862490         전세    43000     0    31.74  서울시 마포구 중동           5\n",
       "743  32866975         월세     3000    90    49.59  서울시 마포구 중동           2"
      ]
     },
     "execution_count": 49,
     "metadata": {},
     "output_type": "execute_result"
    }
   ],
   "source": [
    "addr = \"마포구 합정동\"\n",
    "df=oneroom(addr)\n",
    "df.tail(2)"
   ]
  },
  {
   "cell_type": "code",
   "execution_count": 55,
   "id": "b986406c",
   "metadata": {},
   "outputs": [
    {
     "data": {
      "text/html": [
       "<div>\n",
       "<style scoped>\n",
       "    .dataframe tbody tr th:only-of-type {\n",
       "        vertical-align: middle;\n",
       "    }\n",
       "\n",
       "    .dataframe tbody tr th {\n",
       "        vertical-align: top;\n",
       "    }\n",
       "\n",
       "    .dataframe thead th {\n",
       "        text-align: right;\n",
       "    }\n",
       "</style>\n",
       "<table border=\"1\" class=\"dataframe\">\n",
       "  <thead>\n",
       "    <tr style=\"text-align: right;\">\n",
       "      <th></th>\n",
       "      <th>item_id</th>\n",
       "      <th>sales_type</th>\n",
       "      <th>deposit</th>\n",
       "      <th>rent</th>\n",
       "      <th>size_m2</th>\n",
       "      <th>address1</th>\n",
       "      <th>manage_cost</th>\n",
       "    </tr>\n",
       "  </thead>\n",
       "  <tbody>\n",
       "    <tr>\n",
       "      <th>0</th>\n",
       "      <td>32662713</td>\n",
       "      <td>전세</td>\n",
       "      <td>17700</td>\n",
       "      <td>0</td>\n",
       "      <td>39.67</td>\n",
       "      <td>서울시 마포구 합정동</td>\n",
       "      <td>0</td>\n",
       "    </tr>\n",
       "    <tr>\n",
       "      <th>1</th>\n",
       "      <td>32668759</td>\n",
       "      <td>전세</td>\n",
       "      <td>17700</td>\n",
       "      <td>0</td>\n",
       "      <td>39.67</td>\n",
       "      <td>서울시 마포구 합정동</td>\n",
       "      <td>0</td>\n",
       "    </tr>\n",
       "    <tr>\n",
       "      <th>2</th>\n",
       "      <td>32726690</td>\n",
       "      <td>전세</td>\n",
       "      <td>19900</td>\n",
       "      <td>0</td>\n",
       "      <td>36.28</td>\n",
       "      <td>서울시 마포구 합정동</td>\n",
       "      <td>0</td>\n",
       "    </tr>\n",
       "    <tr>\n",
       "      <th>3</th>\n",
       "      <td>32542700</td>\n",
       "      <td>월세</td>\n",
       "      <td>1500</td>\n",
       "      <td>95</td>\n",
       "      <td>49.59</td>\n",
       "      <td>서울시 마포구 합정동</td>\n",
       "      <td>7</td>\n",
       "    </tr>\n",
       "    <tr>\n",
       "      <th>4</th>\n",
       "      <td>32513282</td>\n",
       "      <td>전세</td>\n",
       "      <td>5000</td>\n",
       "      <td>0</td>\n",
       "      <td>23.14</td>\n",
       "      <td>서울시 마포구 합정동</td>\n",
       "      <td>5</td>\n",
       "    </tr>\n",
       "    <tr>\n",
       "      <th>...</th>\n",
       "      <td>...</td>\n",
       "      <td>...</td>\n",
       "      <td>...</td>\n",
       "      <td>...</td>\n",
       "      <td>...</td>\n",
       "      <td>...</td>\n",
       "      <td>...</td>\n",
       "    </tr>\n",
       "    <tr>\n",
       "      <th>95</th>\n",
       "      <td>32794268</td>\n",
       "      <td>월세</td>\n",
       "      <td>1000</td>\n",
       "      <td>90</td>\n",
       "      <td>59.50</td>\n",
       "      <td>서울시 마포구 합정동</td>\n",
       "      <td>2</td>\n",
       "    </tr>\n",
       "    <tr>\n",
       "      <th>96</th>\n",
       "      <td>32794303</td>\n",
       "      <td>월세</td>\n",
       "      <td>3000</td>\n",
       "      <td>80</td>\n",
       "      <td>59.50</td>\n",
       "      <td>서울시 마포구 합정동</td>\n",
       "      <td>2</td>\n",
       "    </tr>\n",
       "    <tr>\n",
       "      <th>97</th>\n",
       "      <td>32804404</td>\n",
       "      <td>월세</td>\n",
       "      <td>2000</td>\n",
       "      <td>85</td>\n",
       "      <td>61.24</td>\n",
       "      <td>서울시 마포구 합정동</td>\n",
       "      <td>2</td>\n",
       "    </tr>\n",
       "    <tr>\n",
       "      <th>98</th>\n",
       "      <td>32812101</td>\n",
       "      <td>월세</td>\n",
       "      <td>3000</td>\n",
       "      <td>80</td>\n",
       "      <td>61.24</td>\n",
       "      <td>서울시 마포구 합정동</td>\n",
       "      <td>2</td>\n",
       "    </tr>\n",
       "    <tr>\n",
       "      <th>99</th>\n",
       "      <td>32836233</td>\n",
       "      <td>월세</td>\n",
       "      <td>1000</td>\n",
       "      <td>45</td>\n",
       "      <td>13.95</td>\n",
       "      <td>서울시 마포구 합정동</td>\n",
       "      <td>5</td>\n",
       "    </tr>\n",
       "  </tbody>\n",
       "</table>\n",
       "<p>100 rows × 7 columns</p>\n",
       "</div>"
      ],
      "text/plain": [
       "     item_id sales_type  deposit  rent  size_m2     address1 manage_cost\n",
       "0   32662713         전세    17700     0    39.67  서울시 마포구 합정동           0\n",
       "1   32668759         전세    17700     0    39.67  서울시 마포구 합정동           0\n",
       "2   32726690         전세    19900     0    36.28  서울시 마포구 합정동           0\n",
       "3   32542700         월세     1500    95    49.59  서울시 마포구 합정동           7\n",
       "4   32513282         전세     5000     0    23.14  서울시 마포구 합정동           5\n",
       "..       ...        ...      ...   ...      ...          ...         ...\n",
       "95  32794268         월세     1000    90    59.50  서울시 마포구 합정동           2\n",
       "96  32794303         월세     3000    80    59.50  서울시 마포구 합정동           2\n",
       "97  32804404         월세     2000    85    61.24  서울시 마포구 합정동           2\n",
       "98  32812101         월세     3000    80    61.24  서울시 마포구 합정동           2\n",
       "99  32836233         월세     1000    45    13.95  서울시 마포구 합정동           5\n",
       "\n",
       "[100 rows x 7 columns]"
      ]
     },
     "execution_count": 55,
     "metadata": {},
     "output_type": "execute_result"
    }
   ],
   "source": [
    "# '마포구 합정동'이 들어간 데이터만 True/False\n",
    "# True인 것만 가져오기\n",
    "# reset_index는 그냥 가져오면 맨 앞에 인덱스 값이 기존 인덱스이기때문에 \n",
    "# 인덱스 넘버를 바꿈\n",
    "df_filtered = df[df[\"address1\"].str.contains(addr)].reset_index(drop=True)\n",
    "df_filtered"
   ]
  },
  {
   "cell_type": "code",
   "execution_count": 59,
   "id": "c18b98fe",
   "metadata": {},
   "outputs": [
    {
     "name": "stdout",
     "output_type": "stream",
     "text": [
      " C 드라이브의 볼륨에는 이름이 없습니다.\n",
      " 볼륨 일련 번호: 7C6C-FC35\n",
      "\n",
      " C:\\Users\\User\\AIVLESCHOOLPythonClass\\python_crawling\\Code 디렉터리\n",
      "\n",
      "2022-08-04  오후 01:33    <DIR>          .\n",
      "2022-08-04  오후 01:33    <DIR>          ..\n",
      "2022-08-04  오전 11:08    <DIR>          .ipynb_checkpoints\n",
      "2022-08-04  오전 11:07            62,765 01_naver_api_2.ipynb\n",
      "2022-08-03  오후 03:40            93,268 01_requests_json.ipynb\n",
      "2022-08-03  오후 05:09            23,447 02_requests_api.ipynb\n",
      "2022-08-03  오후 05:10             9,016 02_requests_daum_exchange.ipynb\n",
      "2022-08-04  오후 01:33            25,861 02_zigbang.ipynb\n",
      "2022-08-03  오후 04:46            10,060 covid.xlsx\n",
      "2022-08-03  오후 04:51             6,132 covid_en.xlsx\n",
      "2022-08-04  오후 01:33             1,249 zigbang.py\n",
      "               8개 파일             231,798 바이트\n",
      "               3개 디렉터리  108,350,857,216 바이트 남음\n"
     ]
    }
   ],
   "source": [
    "%ls"
   ]
  },
  {
   "cell_type": "code",
   "execution_count": 56,
   "id": "3e4f6d49",
   "metadata": {},
   "outputs": [],
   "source": [
    "#모듈 파일 만들기 : .py"
   ]
  },
  {
   "cell_type": "code",
   "execution_count": 58,
   "id": "0302e4b1",
   "metadata": {},
   "outputs": [
    {
     "name": "stdout",
     "output_type": "stream",
     "text": [
      "Writing zigbang.py\n"
     ]
    }
   ],
   "source": [
    "%%writefile zigbang.py \n",
    "#magic command에 의해서 아래의 코드가 python코드로 저장이 된다.\n",
    "#함수에서 사용되는 패키지도 같이 추가해야 한다.\n",
    "\n",
    "import requests\n",
    "import pandas as pd\n",
    "import geohash2\n",
    "\n",
    "def oneroom(addr) :\n",
    "    url = f'https://apis.zigbang.com/v2/search?leaseYn=N&q={addr}&serviceType=원룸'\n",
    "    response = requests.get(url)\n",
    "    response.json() #우리가 필요한 값은 lat, lng\n",
    "    data = response.json()[\"items\"][0]\n",
    "    lat, lng = data[\"lat\"], data[\"lng\"]\n",
    "    geohash = geohash2.encode(lat, lng, precision=5)\n",
    "    \n",
    "    url = f'https://apis.zigbang.com/v2/items?deposit_gteq=0&domain=zigbang\\\n",
    "&geohash={geohash}&needHasNoFiltered=true&rent_gteq=0&sales_type_in=전세|월세&service_type_eq=원룸'\n",
    "    response = requests.get(url)\n",
    "    items = response.json()[\"items\"]\n",
    "    ids = [item[\"item_id\"] for item in items ]\n",
    "    \n",
    "    url = 'https://apis.zigbang.com/v2/items/list'\n",
    "    params = {\n",
    "    \"domain\": \"zigbang\",\n",
    "    \"withCoalition\" : \"true\",\n",
    "    \"item_ids\" : ids[:900]\n",
    "    }\n",
    "    response = requests.post(url, params)\n",
    "    items = response.json()[\"items\"]\n",
    "    columns = [\"item_id\", \"sales_type\", \"deposit\", \"rent\", \"size_m2\", \"address1\", \"manage_cost\"]\n",
    "    return pd.DataFrame(items)[columns]\n",
    "    "
   ]
  },
  {
   "cell_type": "code",
   "execution_count": 60,
   "id": "29eac60d",
   "metadata": {},
   "outputs": [
    {
     "data": {
      "text/html": [
       "<div>\n",
       "<style scoped>\n",
       "    .dataframe tbody tr th:only-of-type {\n",
       "        vertical-align: middle;\n",
       "    }\n",
       "\n",
       "    .dataframe tbody tr th {\n",
       "        vertical-align: top;\n",
       "    }\n",
       "\n",
       "    .dataframe thead th {\n",
       "        text-align: right;\n",
       "    }\n",
       "</style>\n",
       "<table border=\"1\" class=\"dataframe\">\n",
       "  <thead>\n",
       "    <tr style=\"text-align: right;\">\n",
       "      <th></th>\n",
       "      <th>item_id</th>\n",
       "      <th>sales_type</th>\n",
       "      <th>deposit</th>\n",
       "      <th>rent</th>\n",
       "      <th>size_m2</th>\n",
       "      <th>address1</th>\n",
       "      <th>manage_cost</th>\n",
       "    </tr>\n",
       "  </thead>\n",
       "  <tbody>\n",
       "    <tr>\n",
       "      <th>0</th>\n",
       "      <td>32864713</td>\n",
       "      <td>전세</td>\n",
       "      <td>9000</td>\n",
       "      <td>0</td>\n",
       "      <td>21.49</td>\n",
       "      <td>서울시 영등포구 당산동4가</td>\n",
       "      <td>13</td>\n",
       "    </tr>\n",
       "    <tr>\n",
       "      <th>1</th>\n",
       "      <td>32694522</td>\n",
       "      <td>전세</td>\n",
       "      <td>9000</td>\n",
       "      <td>0</td>\n",
       "      <td>19.83</td>\n",
       "      <td>서울시 영등포구 당산동4가</td>\n",
       "      <td>13</td>\n",
       "    </tr>\n",
       "    <tr>\n",
       "      <th>2</th>\n",
       "      <td>32822043</td>\n",
       "      <td>전세</td>\n",
       "      <td>9000</td>\n",
       "      <td>0</td>\n",
       "      <td>16.53</td>\n",
       "      <td>서울시 영등포구 당산동4가</td>\n",
       "      <td>13</td>\n",
       "    </tr>\n",
       "    <tr>\n",
       "      <th>3</th>\n",
       "      <td>32827028</td>\n",
       "      <td>전세</td>\n",
       "      <td>9000</td>\n",
       "      <td>0</td>\n",
       "      <td>19.83</td>\n",
       "      <td>서울시 영등포구 당산동4가</td>\n",
       "      <td>13</td>\n",
       "    </tr>\n",
       "    <tr>\n",
       "      <th>4</th>\n",
       "      <td>32856780</td>\n",
       "      <td>전세</td>\n",
       "      <td>7000</td>\n",
       "      <td>0</td>\n",
       "      <td>19.83</td>\n",
       "      <td>서울시 영등포구 당산동4가</td>\n",
       "      <td>13</td>\n",
       "    </tr>\n",
       "    <tr>\n",
       "      <th>...</th>\n",
       "      <td>...</td>\n",
       "      <td>...</td>\n",
       "      <td>...</td>\n",
       "      <td>...</td>\n",
       "      <td>...</td>\n",
       "      <td>...</td>\n",
       "      <td>...</td>\n",
       "    </tr>\n",
       "    <tr>\n",
       "      <th>741</th>\n",
       "      <td>32831032</td>\n",
       "      <td>월세</td>\n",
       "      <td>200</td>\n",
       "      <td>65</td>\n",
       "      <td>18.18</td>\n",
       "      <td>서울시 마포구 성산동</td>\n",
       "      <td>7</td>\n",
       "    </tr>\n",
       "    <tr>\n",
       "      <th>742</th>\n",
       "      <td>32775788</td>\n",
       "      <td>전세</td>\n",
       "      <td>16500</td>\n",
       "      <td>0</td>\n",
       "      <td>19.83</td>\n",
       "      <td>서울시 마포구 성산동</td>\n",
       "      <td>1</td>\n",
       "    </tr>\n",
       "    <tr>\n",
       "      <th>743</th>\n",
       "      <td>32589981</td>\n",
       "      <td>전세</td>\n",
       "      <td>43000</td>\n",
       "      <td>0</td>\n",
       "      <td>49.00</td>\n",
       "      <td>서울시 마포구 중동</td>\n",
       "      <td>7</td>\n",
       "    </tr>\n",
       "    <tr>\n",
       "      <th>744</th>\n",
       "      <td>32862490</td>\n",
       "      <td>전세</td>\n",
       "      <td>43000</td>\n",
       "      <td>0</td>\n",
       "      <td>31.74</td>\n",
       "      <td>서울시 마포구 중동</td>\n",
       "      <td>5</td>\n",
       "    </tr>\n",
       "    <tr>\n",
       "      <th>745</th>\n",
       "      <td>32866975</td>\n",
       "      <td>월세</td>\n",
       "      <td>3000</td>\n",
       "      <td>90</td>\n",
       "      <td>49.59</td>\n",
       "      <td>서울시 마포구 중동</td>\n",
       "      <td>2</td>\n",
       "    </tr>\n",
       "  </tbody>\n",
       "</table>\n",
       "<p>746 rows × 7 columns</p>\n",
       "</div>"
      ],
      "text/plain": [
       "      item_id sales_type  deposit  rent  size_m2        address1 manage_cost\n",
       "0    32864713         전세     9000     0    21.49  서울시 영등포구 당산동4가          13\n",
       "1    32694522         전세     9000     0    19.83  서울시 영등포구 당산동4가          13\n",
       "2    32822043         전세     9000     0    16.53  서울시 영등포구 당산동4가          13\n",
       "3    32827028         전세     9000     0    19.83  서울시 영등포구 당산동4가          13\n",
       "4    32856780         전세     7000     0    19.83  서울시 영등포구 당산동4가          13\n",
       "..        ...        ...      ...   ...      ...             ...         ...\n",
       "741  32831032         월세      200    65    18.18     서울시 마포구 성산동           7\n",
       "742  32775788         전세    16500     0    19.83     서울시 마포구 성산동           1\n",
       "743  32589981         전세    43000     0    49.00      서울시 마포구 중동           7\n",
       "744  32862490         전세    43000     0    31.74      서울시 마포구 중동           5\n",
       "745  32866975         월세     3000    90    49.59      서울시 마포구 중동           2\n",
       "\n",
       "[746 rows x 7 columns]"
      ]
     },
     "execution_count": 60,
     "metadata": {},
     "output_type": "execute_result"
    }
   ],
   "source": [
    "import zigbang as zb\n",
    "\n",
    "df = zb.oneroom('망원동')\n",
    "df"
   ]
  },
  {
   "cell_type": "code",
   "execution_count": 63,
   "id": "02e1b5e4",
   "metadata": {},
   "outputs": [
    {
     "name": "stdout",
     "output_type": "stream",
     "text": [
      "Interactive namespace is empty.\n"
     ]
    }
   ],
   "source": [
    "%whos\n",
    "# 사용하고 있는 변수 목록을 보여줌"
   ]
  },
  {
   "cell_type": "code",
   "execution_count": 62,
   "id": "a3deda02",
   "metadata": {},
   "outputs": [
    {
     "name": "stdout",
     "output_type": "stream",
     "text": [
      "Once deleted, variables cannot be recovered. Proceed (y/[n])? y\n"
     ]
    }
   ],
   "source": [
    "%reset\n",
    "#변수를 리셋시킴"
   ]
  }
 ],
 "metadata": {
  "kernelspec": {
   "display_name": "Python 3",
   "language": "python",
   "name": "python3"
  },
  "language_info": {
   "codemirror_mode": {
    "name": "ipython",
    "version": 3
   },
   "file_extension": ".py",
   "mimetype": "text/x-python",
   "name": "python",
   "nbconvert_exporter": "python",
   "pygments_lexer": "ipython3",
   "version": "3.8.8"
  }
 },
 "nbformat": 4,
 "nbformat_minor": 5
}
