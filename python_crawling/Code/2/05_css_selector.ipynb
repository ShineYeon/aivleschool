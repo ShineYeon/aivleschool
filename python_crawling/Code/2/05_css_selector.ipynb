{
 "cells": [
  {
   "cell_type": "markdown",
   "id": "3523ee11",
   "metadata": {},
   "source": [
    "### CSS Selector\n",
    "- CSS 스타일을 적용시킬 HTML element를 선택하는 방법"
   ]
  },
  {
   "cell_type": "code",
   "execution_count": 1,
   "id": "23e27b9e",
   "metadata": {},
   "outputs": [],
   "source": [
    "# 1. Element Tag 이름으로 선택하는 방법\n",
    "# css selector : span : python 3 선택\n",
    "# #kt > div 로 선택 가능 (태그이름 앞에 아무것도 안붙여야 함)"
   ]
  },
  {
   "cell_type": "code",
   "execution_count": 6,
   "id": "ac8d6c12",
   "metadata": {},
   "outputs": [
    {
     "data": {
      "text/html": [
       "<div id=\"kt\">\n",
       "    <div>python 1</div>\n",
       "    <p>python 2</p>\n",
       "    <span>python 3</span>\n",
       "</div>\n"
      ],
      "text/plain": [
       "<IPython.core.display.HTML object>"
      ]
     },
     "metadata": {},
     "output_type": "display_data"
    }
   ],
   "source": [
    "%%html\n",
    "<div id=\"kt\">\n",
    "    <div>python 1</div>\n",
    "    <p>python 2</p>\n",
    "    <span>python 3</span>\n",
    "</div>"
   ]
  },
  {
   "cell_type": "code",
   "execution_count": 2,
   "id": "e86bd549",
   "metadata": {},
   "outputs": [],
   "source": [
    "# 2. Tag의 id 값으로 선택하는 방법\n",
    "# css selector : #kt2 : python2 선택 \n",
    "# (id값 앞에 # 붙여야 함)"
   ]
  },
  {
   "cell_type": "code",
   "execution_count": 7,
   "id": "af0c64f6",
   "metadata": {},
   "outputs": [
    {
     "data": {
      "text/html": [
       "<div class=\"kt\">\n",
       "    <p id=\"kt1\">python 1</p>\n",
       "    <p id=\"kt2\">python 2</p>\n",
       "    <p id=\"kt3\">python 3</p>\n",
       "</div>\n"
      ],
      "text/plain": [
       "<IPython.core.display.HTML object>"
      ]
     },
     "metadata": {},
     "output_type": "display_data"
    }
   ],
   "source": [
    "%%html\n",
    "<div class=\"kt\">\n",
    "    <p id=\"kt1\">python 1</p>\n",
    "    <p id=\"kt2\">python 2</p>\n",
    "    <p id=\"kt3\">python 3</p>\n",
    "</div>"
   ]
  },
  {
   "cell_type": "code",
   "execution_count": 3,
   "id": "4c71be1d",
   "metadata": {},
   "outputs": [],
   "source": [
    "# 3. Tag의 class 값으로 선택하는 방법\n",
    "# css selector : .kt2 : python2 선택\n",
    "# .kt : python 1, python 2, python 3 선택"
   ]
  },
  {
   "cell_type": "code",
   "execution_count": 9,
   "id": "b0431d6f",
   "metadata": {},
   "outputs": [
    {
     "data": {
      "text/html": [
       "<p class=\"kt1\">python 1</p>\n",
       "<p class=\"kt2\">python 2</p>\n",
       "<p class=\"kt3\">python 3</p>\n"
      ],
      "text/plain": [
       "<IPython.core.display.HTML object>"
      ]
     },
     "metadata": {},
     "output_type": "display_data"
    }
   ],
   "source": [
    "%%html\n",
    "<p class=\"kt kt1\">python 1</p>\n",
    "<p class=\"kt kt2\">python 2</p>\n",
    "<p class=\"kt kt3\">python 3</p>\n"
   ]
  },
  {
   "cell_type": "code",
   "execution_count": 4,
   "id": "55e0cc6c",
   "metadata": {},
   "outputs": [],
   "source": [
    "# 4. Tag의 attr(id, class 제외한 속성값) 값으로 선택하는 방법\n",
    "# css selector : [value=\"no1\"] : python 1 선택"
   ]
  },
  {
   "cell_type": "code",
   "execution_count": 10,
   "id": "677a6319",
   "metadata": {},
   "outputs": [
    {
     "data": {
      "text/html": [
       "<p value=\"no1\">python 1</p>\n",
       "<p value=\"no2\">python 2</p>\n",
       "<p value=\"no3\">python 3</p>\n"
      ],
      "text/plain": [
       "<IPython.core.display.HTML object>"
      ]
     },
     "metadata": {},
     "output_type": "display_data"
    }
   ],
   "source": [
    "%%html\n",
    "<p value=\"no1\">python 1</p>\n",
    "<p value=\"no2\">python 2</p>\n",
    "<p value=\"no3\">python 3</p>"
   ]
  },
  {
   "cell_type": "code",
   "execution_count": null,
   "id": "c8091b33",
   "metadata": {},
   "outputs": [],
   "source": [
    "############## 요약 ##############\n",
    "# 태그 이름 : span\n",
    "# id : #kt\n",
    "# class 이름 : .kt\n",
    "# id, class 제외한 attr : [value=\"kt\"]"
   ]
  },
  {
   "cell_type": "code",
   "execution_count": 11,
   "id": "72664a36",
   "metadata": {},
   "outputs": [],
   "source": [
    "# 5. 여러개의 element 선택"
   ]
  },
  {
   "cell_type": "code",
   "execution_count": 12,
   "id": "b35da0b6",
   "metadata": {},
   "outputs": [],
   "source": [
    "# not selector\n",
    "# class no element를 모두 선택하고, \n",
    "# no2 클래스를 갖는 element만 제외\n",
    "\n",
    "#css selector : .no:not(.no2) : python 1, python 2 선택"
   ]
  },
  {
   "cell_type": "code",
   "execution_count": 14,
   "id": "05a6f8db",
   "metadata": {},
   "outputs": [
    {
     "data": {
      "text/html": [
       "<p class=\"no no1\">python 1</p>\n",
       "<p class=\"no no2\">python 2</p>\n",
       "<p class=\"no no3\">python 3</p>\n"
      ],
      "text/plain": [
       "<IPython.core.display.HTML object>"
      ]
     },
     "metadata": {},
     "output_type": "display_data"
    }
   ],
   "source": [
    "%%html\n",
    "<p class=\"no no1\">python 1</p>\n",
    "<p class=\"no no2\">python 2</p>\n",
    "<p class=\"no no3\">python 3</p>"
   ]
  },
  {
   "cell_type": "code",
   "execution_count": 15,
   "id": "332a7303",
   "metadata": {},
   "outputs": [],
   "source": [
    "# ******크롤링에서 nth-child 많이 나오니까 주의\n",
    "# n번째 element 선택\n",
    "# css selector : .py:nth-child(3) : python 2 선택\n",
    "\n",
    "# .py 엘리먼트 중에서 3번째 : X\n",
    "# 3번째 엘리먼트 중에서 .py 클래스를 갖는 : O"
   ]
  },
  {
   "cell_type": "code",
   "execution_count": 17,
   "id": "9a519478",
   "metadata": {},
   "outputs": [
    {
     "data": {
      "text/html": [
       "<div>\n",
       "    <p class=\"py\">python 1</p>\n",
       "    <span>python 0</span>\n",
       "    <p class=\"py\">python 2</p>\n",
       "    <p class=\"py\">python 3</p>\n",
       "</div>\n"
      ],
      "text/plain": [
       "<IPython.core.display.HTML object>"
      ]
     },
     "metadata": {},
     "output_type": "display_data"
    }
   ],
   "source": [
    "%%html\n",
    "<div>\n",
    "    <p class=\"py\">python 1</p>\n",
    "    <span>python 0</span>\n",
    "    <p class=\"py\">python 2</p>\n",
    "    <p class=\"py\">python 3</p>\n",
    "</div>"
   ]
  },
  {
   "cell_type": "code",
   "execution_count": 18,
   "id": "b46c601f",
   "metadata": {},
   "outputs": [],
   "source": [
    "# 6. 계층적으로 엘리먼트 선택\n",
    "# .wrap > p : inner 1 선택 (wrap 한단계 아래에 있는 p 태그 선택)\n",
    "# .wrap p : inner 1, inner 2 선택 (wrap 아래에 있는 모든 p 태그 선택)"
   ]
  },
  {
   "cell_type": "code",
   "execution_count": 19,
   "id": "105b180d",
   "metadata": {},
   "outputs": [
    {
     "data": {
      "text/html": [
       "<div class=\"wrap\">\n",
       "    <p>inner 1</p>\n",
       "    <div>\n",
       "        <p>inner 2</p>\n",
       "    </div>\n",
       "</div>\n"
      ],
      "text/plain": [
       "<IPython.core.display.HTML object>"
      ]
     },
     "metadata": {},
     "output_type": "display_data"
    }
   ],
   "source": [
    "%%html\n",
    "<div class=\"wrap\">\n",
    "    <p>inner 1</p>\n",
    "    <div>\n",
    "        <p>inner 2</p>\n",
    "    </div>\n",
    "</div>"
   ]
  },
  {
   "cell_type": "code",
   "execution_count": null,
   "id": "368e0153",
   "metadata": {},
   "outputs": [],
   "source": [
    "# 여러 개의 엘리먼트 선택\n",
    "# .py1, .py3 : python 1, python 3 선택\n",
    "# 여러개 엘리먼트 선택 시 콤마 선택"
   ]
  },
  {
   "cell_type": "code",
   "execution_count": 20,
   "id": "3cea17c3",
   "metadata": {},
   "outputs": [
    {
     "data": {
      "text/html": [
       "<p class=\"py1\">python 1</p>\n",
       "<p class=\"py2\">python 2</p>\n",
       "<p class=\"py3\">python 3</p>\n"
      ],
      "text/plain": [
       "<IPython.core.display.HTML object>"
      ]
     },
     "metadata": {},
     "output_type": "display_data"
    }
   ],
   "source": [
    "%%html\n",
    "<p class=\"py1\">python 1</p>\n",
    "<p class=\"py2\">python 2</p>\n",
    "<p class=\"py3\">python 3</p>"
   ]
  },
  {
   "cell_type": "code",
   "execution_count": null,
   "id": "68ee708e",
   "metadata": {},
   "outputs": [],
   "source": [
    "#엘리먼트 하나 선택\n",
    "# tag 이름 : span\n",
    "# id : #kt\n",
    "# class : .kt\n",
    "# attr : [value=\"kt\"]\n",
    "\n",
    "#여러개의 엘리먼트 선택\n",
    "# :not(.kt1)\n",
    "# :nth-child(n)\n",
    "# .wrap > p : 한단계 하위 엘리먼트\n",
    "# .wrap p : 모든 하위 엘리먼트\n",
    "# .kt1, .kt2 : 선택하는 모든 엘리먼트 선택"
   ]
  },
  {
   "cell_type": "code",
   "execution_count": null,
   "id": "b94211e1",
   "metadata": {},
   "outputs": [],
   "source": []
  },
  {
   "cell_type": "code",
   "execution_count": null,
   "id": "43155b89",
   "metadata": {},
   "outputs": [],
   "source": []
  },
  {
   "cell_type": "code",
   "execution_count": null,
   "id": "cf882bd5",
   "metadata": {},
   "outputs": [],
   "source": []
  },
  {
   "cell_type": "code",
   "execution_count": null,
   "id": "3aa0d871",
   "metadata": {},
   "outputs": [],
   "source": []
  },
  {
   "cell_type": "code",
   "execution_count": null,
   "id": "e7e836c4",
   "metadata": {},
   "outputs": [],
   "source": []
  },
  {
   "cell_type": "code",
   "execution_count": null,
   "id": "cee49e32",
   "metadata": {},
   "outputs": [],
   "source": []
  },
  {
   "cell_type": "code",
   "execution_count": null,
   "id": "b14635fe",
   "metadata": {},
   "outputs": [],
   "source": []
  },
  {
   "cell_type": "code",
   "execution_count": null,
   "id": "356d90d7",
   "metadata": {},
   "outputs": [],
   "source": []
  }
 ],
 "metadata": {
  "kernelspec": {
   "display_name": "Python 3",
   "language": "python",
   "name": "python3"
  },
  "language_info": {
   "codemirror_mode": {
    "name": "ipython",
    "version": 3
   },
   "file_extension": ".py",
   "mimetype": "text/x-python",
   "name": "python",
   "nbconvert_exporter": "python",
   "pygments_lexer": "ipython3",
   "version": "3.8.8"
  }
 },
 "nbformat": 4,
 "nbformat_minor": 5
}
